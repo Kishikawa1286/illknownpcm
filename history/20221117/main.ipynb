{
 "cells": [
  {
   "cell_type": "markdown",
   "id": "08cdb262-605d-4417-945e-3d76ee74356c",
   "metadata": {},
   "source": [
    "# Ill-known AHP"
   ]
  },
  {
   "cell_type": "code",
   "execution_count": 2,
   "id": "9c17fefa-33d0-4ac1-8e69-ebeec5614e99",
   "metadata": {},
   "outputs": [],
   "source": [
    "using IntervalArithmetic"
   ]
  },
  {
   "cell_type": "code",
   "execution_count": 6,
   "id": "36ebdb7a-2396-46d0-9de7-200fce971ee5",
   "metadata": {},
   "outputs": [
    {
     "data": {
      "text/plain": [
       "updatePCM_CBA_2 (generic function with 1 method)"
      ]
     },
     "execution_count": 6,
     "metadata": {},
     "output_type": "execute_result"
    }
   ],
   "source": [
    "include(\"cba.jl\")"
   ]
  },
  {
   "cell_type": "code",
   "execution_count": 7,
   "id": "98728a10-23b2-4b7d-a76f-fa3d08e1f436",
   "metadata": {},
   "outputs": [
    {
     "data": {
      "text/plain": [
       "updatePCM_CBA_Combined (generic function with 1 method)"
      ]
     },
     "execution_count": 7,
     "metadata": {},
     "output_type": "execute_result"
    }
   ],
   "source": [
    "include(\"cbaCombined.jl\")"
   ]
  },
  {
   "cell_type": "code",
   "execution_count": 8,
   "id": "3e4951b6-cedf-4834-a6b2-4ae477c2c557",
   "metadata": {},
   "outputs": [
    {
     "data": {
      "text/plain": [
       "run (generic function with 1 method)"
      ]
     },
     "execution_count": 8,
     "metadata": {},
     "output_type": "execute_result"
    }
   ],
   "source": [
    "function run(A₁::Matrix{Interval{T}}, A₂::Matrix{Interval{T}}) where {T <: Real}\n",
    "    A = generateTwofoldIntervalMatrix(A₁, A₂)\n",
    "    println(\"\\nA\")\n",
    "    showElements2(A)\n",
    "    println(\"\")\n",
    "    m, n = size(A)\n",
    "\n",
    "    lpResult = solveLP_CBA(A)\n",
    "    W = map(i -> lpResult[2][i]..lpResult[1][i], 1:n)\n",
    "    Â₁ = updatePCM_CBA_1(A, lpResult)\n",
    "    Â₂ = updatePCM_CBA_2(A, lpResult)\n",
    "\n",
    "    lpResult_Combined = solveLP_CBA_Combined(A)\n",
    "    W_Combined = map(i -> lpResult_Combined[2][i]..lpResult_Combined[1][i], 1:n)\n",
    "    Â₃ = updatePCM_CBA_Combined(A, lpResult_Combined)\n",
    "\n",
    "    println(\"\\nOptimal Value\")\n",
    "    display(lpResult[9])\n",
    "    println(\"\\nW\")\n",
    "    display(W)\n",
    "    println(\"\\nOptimal Value_Combined\")\n",
    "    display(lpResult_Combined[7])\n",
    "    println(\"\\nW_Combined\")\n",
    "    display(W_Combined)\n",
    "\n",
    "    println(\"\\nA\")\n",
    "    showElements2(A)\n",
    "    println(\"\\nÂ₁\")\n",
    "    showElements2(Â₁)\n",
    "    println(\"\\nÂ₂\")\n",
    "    showElements2(Â₂)\n",
    "    println(\"\\nÂ₃\")\n",
    "    showElements2(Â₃)\n",
    "\n",
    "    println(\"\\nÂ₁ widths\")\n",
    "    showWidths(Â₁)\n",
    "    println(\"\\nÂ₂ widths\")\n",
    "    showWidths(Â₂)\n",
    "    println(\"\\nÂ₃ widths\")\n",
    "    showWidths(Â₃)\n",
    "\n",
    "    println(\"\")\n",
    "\n",
    "    if nearlyEqualMatrix(Â₁, Â₂)\n",
    "        println(\"Â₁ ≈ Â₂\")\n",
    "    end\n",
    "    if nearlyEqualMatrix(Â₁, Â₃)\n",
    "        println(\"Â₁ ≈ Â₃\")\n",
    "    end\n",
    "    if nearlyEqualMatrix(Â₂, Â₃)\n",
    "        println(\"Â₂ ≈ Â₃\")\n",
    "    end\n",
    "\n",
    "    if nearlyEqualMatrix(Â₁, Â₂, 1)\n",
    "        println(\"Â₁⁻ ≈ Â₂⁻\")\n",
    "    else\n",
    "        if allIncluded(Â₁, Â₂, 1)\n",
    "            println(\"Â₁⁻ ⊆ Â₂⁻\")\n",
    "        end\n",
    "        if allIncluded(Â₂, Â₁, 1)\n",
    "            println(\"Â₂⁻ ⊆ Â₁⁻\")\n",
    "        end\n",
    "    end\n",
    "    if nearlyEqualMatrix(Â₁, Â₃)\n",
    "        println(\"Â₁⁻ ≈ Â₃⁻\")\n",
    "    else\n",
    "        if allIncluded(Â₁, Â₃, 1)\n",
    "            println(\"Â₁⁻ ⊆ Â₃⁻\")\n",
    "        end\n",
    "        if allIncluded(Â₃, Â₁, 1)\n",
    "            println(\"Â₃⁻ ⊆ Â₁⁻\")\n",
    "        end\n",
    "    end\n",
    "    if nearlyEqualMatrix(Â₂, Â₃, 1)\n",
    "        println(\"Â₂⁻ ≈ Â₃⁻\")\n",
    "    else\n",
    "        if allIncluded(Â₂, Â₃, 1)\n",
    "            println(\"Â₂⁻ ⊆ Â₃⁻\")\n",
    "        end\n",
    "        if allIncluded(Â₃, Â₂, 1)\n",
    "            println(\"Â₃⁻ ⊆ Â₂⁻\")\n",
    "        end\n",
    "    end\n",
    "\n",
    "    if nearlyEqualMatrix(Â₁, Â₂, 2)\n",
    "        println(\"Â₁⁺ ≈ Â₂⁺\")\n",
    "    else\n",
    "        if allIncluded(Â₁, Â₂, 2)\n",
    "            println(\"Â₁⁺ ⊆ Â₂⁺\")\n",
    "        end\n",
    "        if allIncluded(Â₂, Â₁, 2)\n",
    "            println(\"Â₂⁺ ⊆ Â₁⁺\")\n",
    "        end\n",
    "    end\n",
    "    if nearlyEqualMatrix(Â₁, Â₃, 2)\n",
    "        println(\"Â₁⁺ ≈ Â₃⁺\")\n",
    "    else\n",
    "        if allIncluded(Â₁, Â₃, 2)\n",
    "            println(\"Â₁⁺ ⊆ Â₃⁺\")\n",
    "        end\n",
    "        if allIncluded(Â₃, Â₁, 2)\n",
    "            println(\"Â₃⁺ ⊆ Â₁⁺\")\n",
    "        end\n",
    "    end\n",
    "    if nearlyEqualMatrix(Â₂, Â₃, 2)\n",
    "        println(\"Â₂⁺ ≈ Â₃⁺\")\n",
    "    else\n",
    "        if allIncluded(Â₂, Â₃, 2)\n",
    "            println(\"Â₂⁺ ⊆ Â₃⁺\")\n",
    "        end\n",
    "        if allIncluded(Â₃, Â₂, 2)\n",
    "            println(\"Â₃⁺ ⊆ Â₂⁺\")\n",
    "        end\n",
    "    end\n",
    "\n",
    "    if nearlyEqual(lpResult[9], 0) && nearlyEqual(lpResult_Combined[7], 0)\n",
    "        println(\"No cancelling proceeded.\")\n",
    "    end\n",
    "end"
   ]
  },
  {
   "cell_type": "code",
   "execution_count": 9,
   "id": "74ea8ced-8f60-4b87-8862-db6a67166cb7",
   "metadata": {},
   "outputs": [
    {
     "name": "stdout",
     "output_type": "stream",
     "text": [
      "\n",
      "A\n",
      "[1.000, [1.000, 1.000], 1.000] [1.000, [1.000, 1.000], 1.000] [1.000, [1.000, 2.000], 2.000]\n",
      "[1.000, [1.000, 1.000], 1.000] [1.000, [1.000, 1.000], 1.000] [0.500, [0.500, 1.000], 1.000]\n",
      "[0.500, [0.500, 1.000], 1.000] [1.000, [1.000, 2.000], 2.000] [1.000, [1.000, 1.000], 1.000]\n",
      "\n",
      "Running HiGHS 1.3.0 [date: 1970-01-01, git hash: e5004072b-dirty]\n",
      "Copyright (c) 2022 ERGO-Code under MIT licence terms\n",
      "Presolving model\n",
      "63 rows, 24 cols, 162 nonzeros\n",
      "57 rows, 18 cols, 156 nonzeros\n",
      "Presolve : Reductions: rows 57(-6); columns 18(-6); elements 156(-6)\n",
      "Solving the presolved LP\n",
      "Using EKK dual simplex solver - serial\n",
      "  Iteration        Objective     Infeasibilities num(sum)\n",
      "          0     3.7358467690e-16 Pr: 3(3) 0s\n",
      "         27     8.0000000000e-01 Pr: 0(0) 0s\n",
      "Solving the original LP from the solution after postsolve\n",
      "Model   status      : Optimal\n",
      "Simplex   iterations: 27\n",
      "Objective value     :  8.0000000000e-01\n",
      "HiGHS run time      :          0.00\n",
      "Running HiGHS 1.3.0 [date: 1970-01-01, git hash: e5004072b-dirty]\n",
      "Copyright (c) 2022 ERGO-Code under MIT licence terms\n",
      "Presolving model\n",
      "33 rows, 30 cols, 96 nonzeros\n",
      "33 rows, 30 cols, 96 nonzeros\n",
      "Presolve : Reductions: rows 33(-0); columns 30(-12); elements 96(-0)\n",
      "Solving the presolved LP\n",
      "Using EKK dual simplex solver - serial\n",
      "  Iteration        Objective     Infeasibilities num(sum)\n",
      "          0     4.5261408998e-16 Pr: 3(3) 0s\n",
      "         18     8.0000000000e-01 Pr: 0(0) 0s\n",
      "Solving the original LP from the solution after postsolve\n",
      "Model   status      : Optimal\n",
      "Simplex   iterations: 18\n",
      "Objective value     :  8.0000000000e-01\n",
      "HiGHS run time      :          0.00\n",
      "\n",
      "Optimal Value\n"
     ]
    },
    {
     "data": {
      "text/plain": [
       "0.7999999999999999"
      ]
     },
     "metadata": {},
     "output_type": "display_data"
    },
    {
     "name": "stdout",
     "output_type": "stream",
     "text": [
      "\n",
      "W\n"
     ]
    },
    {
     "data": {
      "text/plain": [
       "3-element Vector{Interval{Float64}}:\n",
       " [0.399999, 0.400001]\n",
       " [0.2, 0.400001]\n",
       " [0.199999, 0.400001]"
      ]
     },
     "metadata": {},
     "output_type": "display_data"
    },
    {
     "name": "stdout",
     "output_type": "stream",
     "text": [
      "\n",
      "Optimal Value_Combined\n"
     ]
    },
    {
     "data": {
      "text/plain": [
       "0.7999999999999999"
      ]
     },
     "metadata": {},
     "output_type": "display_data"
    },
    {
     "name": "stdout",
     "output_type": "stream",
     "text": [
      "\n",
      "W_Combined\n"
     ]
    },
    {
     "data": {
      "text/plain": [
       "3-element Vector{Interval{Float64}}:\n",
       " [0.399999, 0.400001]\n",
       " [0.2, 0.400001]\n",
       " [0.199999, 0.400001]"
      ]
     },
     "metadata": {},
     "output_type": "display_data"
    },
    {
     "name": "stdout",
     "output_type": "stream",
     "text": [
      "\n",
      "A\n",
      "[1.000, [1.000, 1.000], 1.000] [1.000, [1.000, 1.000], 1.000] [1.000, [1.000, 2.000], 2.000]\n",
      "[1.000, [1.000, 1.000], 1.000] [1.000, [1.000, 1.000], 1.000] [0.500, [0.500, 1.000], 1.000]\n",
      "[0.500, [0.500, 1.000], 1.000] [1.000, [1.000, 2.000], 2.000] [1.000, [1.000, 1.000], 1.000]\n",
      "\n",
      "Â₁\n",
      "[1.000, [1.000, 1.000], 1.000] [1.000,       ∅       , 2.000] [1.000,       ∅       , 2.000]\n",
      "[0.500,       ∅       , 1.000] [1.000, [1.000, 1.000], 1.000] [0.500,       ∅       , 2.000]\n",
      "[0.500,       ∅       , 1.000] [0.500,       ∅       , 2.000] [1.000, [1.000, 1.000], 1.000]\n",
      "\n",
      "Â₂\n",
      "[1.000, [1.000, 1.000], 1.000] [1.000,       ∅       , 2.000] [1.000, [1.000, 1.000], 2.000]\n",
      "[0.500,       ∅       , 1.000] [1.000, [1.000, 1.000], 1.000] [0.500, [1.000, 1.000], 2.000]\n",
      "[0.500, [1.000, 1.000], 1.000] [0.500, [1.000, 1.000], 2.000] [1.000, [1.000, 1.000], 1.000]\n",
      "\n",
      "Â₃\n",
      "[1.000, [1.000, 1.000], 1.000] [1.000, [1.000, 1.000], 2.000] [1.000, [1.000, 2.000], 2.000]\n",
      "[0.500, [1.000, 1.000], 1.000] [1.000, [1.000, 1.000], 1.000] [0.500, [0.500, 1.000], 2.000]\n",
      "[0.500, [0.500, 1.000], 1.000] [0.500, [1.000, 2.000], 2.000] [1.000, [1.000, 1.000], 1.000]\n",
      "\n",
      "Â₁ widths\n",
      "(0.00000, 0.00000) ( undef , 1.00000) ( undef , 1.00000)\n",
      "( undef , 0.50000) (0.00000, 0.00000) ( undef , 1.50000)\n",
      "( undef , 0.50000) ( undef , 1.50000) (0.00000, 0.00000)\n",
      "\n",
      "Â₂ widths\n",
      "(0.00000, 0.00000) ( undef , 1.00000) (0.00000, 1.00000)\n",
      "( undef , 0.50000) (0.00000, 0.00000) (0.00000, 1.50000)\n",
      "(0.00000, 0.50000) (0.00000, 1.50000) (0.00000, 0.00000)\n",
      "\n",
      "Â₃ widths\n",
      "(0.00000, 0.00000) (0.00000, 1.00000) (1.00000, 1.00000)\n",
      "(0.00000, 0.50000) (0.00000, 0.00000) (0.50000, 1.50000)\n",
      "(0.50000, 0.50000) (1.00000, 1.50000) (0.00000, 0.00000)\n",
      "\n",
      "Â₁⁺ ≈ Â₂⁺\n",
      "Â₁⁺ ≈ Â₃⁺\n",
      "Â₂⁺ ≈ Â₃⁺\n"
     ]
    }
   ],
   "source": [
    "A = [\n",
    "    1..1 1..1 1..2\n",
    "    1..1 1..1 (1/2)..1\n",
    "    (1/2)..1 1..2 1..1\n",
    "]\n",
    "B = [\n",
    "    1..1 1..1 1..2\n",
    "    1..1 1..1 (1/2)..1\n",
    "    (1/2)..1 1..2 1..1\n",
    "]\n",
    "run(A, B)"
   ]
  },
  {
   "cell_type": "code",
   "execution_count": 10,
   "id": "cc18c5be-77aa-4bd8-a755-60362a2bbc83",
   "metadata": {},
   "outputs": [
    {
     "name": "stdout",
     "output_type": "stream",
     "text": [
      "\n",
      "A\n",
      "[1.000, [1.000, 1.000], 1.000] [0.111, [0.200, 0.500], 3.000] [0.111, [0.250, 0.333], 1.000]\n",
      "[0.333, [2.000, 5.000], 9.000] [1.000, [1.000, 1.000], 1.000] [1.000, [3.000, 8.000], 9.000]\n",
      "[1.000, [3.000, 4.000], 9.000] [0.111, [0.125, 0.333], 1.000] [1.000, [1.000, 1.000], 1.000]\n",
      "\n",
      "Running HiGHS 1.3.0 [date: 1970-01-01, git hash: e5004072b-dirty]\n",
      "Copyright (c) 2022 ERGO-Code under MIT licence terms\n",
      "Presolving model\n",
      "63 rows, 24 cols, 162 nonzeros\n",
      "57 rows, 18 cols, 156 nonzeros\n",
      "Presolve : Reductions: rows 57(-6); columns 18(-6); elements 156(-6)\n",
      "Solving the presolved LP\n",
      "Using EKK dual simplex solver - serial\n",
      "  Iteration        Objective     Infeasibilities num(sum)\n",
      "          0     3.9452939291e-16 Pr: 3(3) 0s\n",
      "         17     1.9775280899e-01 Pr: 0(0) 0s\n",
      "Solving the original LP from the solution after postsolve\n",
      "Model   status      : Optimal\n",
      "Simplex   iterations: 17\n",
      "Objective value     :  1.9775280899e-01\n",
      "HiGHS run time      :          0.00\n",
      "Running HiGHS 1.3.0 [date: 1970-01-01, git hash: e5004072b-dirty]\n",
      "Copyright (c) 2022 ERGO-Code under MIT licence terms\n",
      "Presolving model\n",
      "33 rows, 30 cols, 96 nonzeros\n",
      "33 rows, 30 cols, 96 nonzeros\n",
      "Presolve : Reductions: rows 33(-0); columns 30(-12); elements 96(-0)\n",
      "Solving the presolved LP\n",
      "Using EKK dual simplex solver - serial\n",
      "  Iteration        Objective     Infeasibilities num(sum)\n",
      "          0     4.6894166554e-16 Pr: 3(3) 0s\n",
      "         10     1.9775280899e-01 Pr: 0(0) 0s\n",
      "Solving the original LP from the solution after postsolve\n",
      "Model   status      : Optimal\n",
      "Simplex   iterations: 10\n",
      "Objective value     :  1.9775280899e-01\n",
      "HiGHS run time      :          0.00\n",
      "\n",
      "Optimal Value\n"
     ]
    },
    {
     "data": {
      "text/plain": [
       "0.19775280898876405"
      ]
     },
     "metadata": {},
     "output_type": "display_data"
    },
    {
     "name": "stdout",
     "output_type": "stream",
     "text": [
      "\n",
      "W\n"
     ]
    },
    {
     "data": {
      "text/plain": [
       "3-element Vector{Interval{Float64}}:\n",
       " [0.0898876, 0.200001]\n",
       " [0.399999, 0.808989]\n",
       " [0.101123, 0.400001]"
      ]
     },
     "metadata": {},
     "output_type": "display_data"
    },
    {
     "name": "stdout",
     "output_type": "stream",
     "text": [
      "\n",
      "Optimal Value_Combined\n"
     ]
    },
    {
     "data": {
      "text/plain": [
       "0.19775280898876407"
      ]
     },
     "metadata": {},
     "output_type": "display_data"
    },
    {
     "name": "stdout",
     "output_type": "stream",
     "text": [
      "\n",
      "W_Combined\n"
     ]
    },
    {
     "data": {
      "text/plain": [
       "3-element Vector{Interval{Float64}}:\n",
       " [0.0898876, 0.200001]\n",
       " [0.399999, 0.808989]\n",
       " [0.101123, 0.400001]"
      ]
     },
     "metadata": {},
     "output_type": "display_data"
    },
    {
     "name": "stdout",
     "output_type": "stream",
     "text": [
      "\n",
      "A\n",
      "[1.000, [1.000, 1.000], 1.000] [0.111, [0.200, 0.500], 3.000] [0.111, [0.250, 0.333], 1.000]\n",
      "[0.333, [2.000, 5.000], 9.000] [1.000, [1.000, 1.000], 1.000] [1.000, [3.000, 8.000], 9.000]\n",
      "[1.000, [3.000, 4.000], 9.000] [0.111, [0.125, 0.333], 1.000] [1.000, [1.000, 1.000], 1.000]\n",
      "\n",
      "Â₁\n",
      "[1.000, [1.000, 1.000], 1.000] [0.111, [0.200, 0.253], 3.000] [0.111, [0.250, 0.333], 1.978]\n",
      "[0.333, [3.956, 5.000], 9.000] [1.000, [1.000, 1.000], 1.000] [1.000, [3.000, 4.045], 9.000]\n",
      "[0.506, [3.000, 4.000], 9.000] [0.111, [0.247, 0.333], 1.000] [1.000, [1.000, 1.000], 1.000]\n",
      "\n",
      "Â₂\n",
      "[1.000, [1.000, 1.000], 1.000] [0.111, [0.200, 0.253], 3.000] [0.111, [0.250, 0.333], 1.978]\n",
      "[0.333, [3.956, 5.000], 9.000] [1.000, [1.000, 1.000], 1.000] [1.000, [3.000, 4.045], 9.000]\n",
      "[0.506, [3.000, 4.000], 9.000] [0.111, [0.247, 0.333], 1.000] [1.000, [1.000, 1.000], 1.000]\n",
      "\n",
      "Â₃\n",
      "[1.000, [1.000, 1.000], 1.000] [0.111, [0.200, 0.500], 3.000] [0.111, [0.250, 0.333], 1.978]\n",
      "[0.333, [2.000, 5.000], 9.000] [1.000, [1.000, 1.000], 1.000] [1.000, [3.000, 8.000], 9.000]\n",
      "[0.506, [3.000, 4.000], 9.000] [0.111, [0.125, 0.333], 1.000] [1.000, [1.000, 1.000], 1.000]\n",
      "\n",
      "Â₁ widths\n",
      "(0.00000, 0.00000) (0.05281, 2.88889) (0.08333, 1.86667)\n",
      "(1.04444, 8.66667) (0.00000, 0.00000) (1.04494, 8.00000)\n",
      "(1.00000, 8.49438) (0.08611, 0.88889) (0.00000, 0.00000)\n",
      "\n",
      "Â₂ widths\n",
      "(0.00000, 0.00000) (0.05281, 2.88889) (0.08333, 1.86667)\n",
      "(1.04444, 8.66667) (0.00000, 0.00000) (1.04494, 8.00000)\n",
      "(1.00000, 8.49438) (0.08611, 0.88889) (0.00000, 0.00000)\n",
      "\n",
      "Â₃ widths\n",
      "(0.00000, 0.00000) (0.30000, 2.88889) (0.08333, 1.86667)\n",
      "(3.00000, 8.66667) (0.00000, 0.00000) (5.00000, 8.00000)\n",
      "(1.00000, 8.49438) (0.20833, 0.88889) (0.00000, 0.00000)\n",
      "\n",
      "Â₁ ≈ Â₂\n",
      "Â₁⁻ ≈ Â₂⁻\n",
      "Â₁⁻ ⊆ Â₃⁻\n",
      "Â₂⁻ ⊆ Â₃⁻\n",
      "Â₁⁺ ≈ Â₂⁺\n",
      "Â₁⁺ ≈ Â₃⁺\n",
      "Â₂⁺ ≈ Â₃⁺\n"
     ]
    }
   ],
   "source": [
    "A = [\n",
    "    1..1 (1/5)..3 (1/9)..(1/3)\n",
    "    (1/3)..5 1..1 3..9\n",
    "    3..9 (1/9)..(1/3) 1..1\n",
    "]\n",
    "B = [\n",
    "    1..1 (1/9)..(1/2) (1/4)..1\n",
    "    2..9 1..1 1..8\n",
    "    1..4 (1/8)..1 1..1\n",
    "]\n",
    "\n",
    "run(A, B)"
   ]
  },
  {
   "cell_type": "code",
   "execution_count": 36,
   "id": "2df95d5e-8894-47d4-a8db-01e5eb1e89d0",
   "metadata": {},
   "outputs": [
    {
     "name": "stdout",
     "output_type": "stream",
     "text": [
      "\n",
      "A\n",
      "[1.000, [1.000, 1.000], 1.000] [1.000, [1.000, 1.000], 3.000] [1.000, [1.000, 2.000], 5.000]\n",
      "[0.333, [1.000, 1.000], 1.000] [1.000, [1.000, 1.000], 1.000] [0.500, [1.000, 1.000], 9.000]\n",
      "[0.200, [0.500, 1.000], 1.000] [0.111, [1.000, 1.000], 2.000] [1.000, [1.000, 1.000], 1.000]\n",
      "\n",
      "Running HiGHS 1.3.0 [date: 1970-01-01, git hash: e5004072b-dirty]\n",
      "Copyright (c) 2022 ERGO-Code under MIT licence terms\n",
      "Presolving model\n",
      "63 rows, 24 cols, 162 nonzeros\n",
      "57 rows, 18 cols, 156 nonzeros\n",
      "Presolve : Reductions: rows 57(-6); columns 18(-6); elements 156(-6)\n",
      "Solving the presolved LP\n",
      "Using EKK dual simplex solver - serial\n",
      "  Iteration        Objective     Infeasibilities num(sum)\n",
      "          0     4.1103100924e-16 Pr: 3(3) 0s\n",
      "         16     0.0000000000e+00 Pr: 0(0) 0s\n",
      "Solving the original LP from the solution after postsolve\n",
      "Model   status      : Optimal\n",
      "Simplex   iterations: 16\n",
      "Objective value     :  0.0000000000e+00\n",
      "HiGHS run time      :          0.00\n",
      "Running HiGHS 1.3.0 [date: 1970-01-01, git hash: e5004072b-dirty]\n",
      "Copyright (c) 2022 ERGO-Code under MIT licence terms\n",
      "Presolving model\n",
      "33 rows, 30 cols, 96 nonzeros\n",
      "33 rows, 30 cols, 96 nonzeros\n",
      "Presolve : Reductions: rows 33(-0); columns 30(-12); elements 96(-0)\n",
      "Solving the presolved LP\n",
      "Using EKK dual simplex solver - serial\n",
      "  Iteration        Objective     Infeasibilities num(sum)\n",
      "          0     4.8701310838e-16 Pr: 3(3) 0s\n",
      "         10     0.0000000000e+00 Pr: 0(0) 0s\n",
      "Solving the original LP from the solution after postsolve\n",
      "Model   status      : Optimal\n",
      "Simplex   iterations: 10\n",
      "Objective value     :  0.0000000000e+00\n",
      "HiGHS run time      :          0.00\n",
      "\n",
      "Optimal Value\n"
     ]
    },
    {
     "data": {
      "text/plain": [
       "0.0"
      ]
     },
     "metadata": {},
     "output_type": "display_data"
    },
    {
     "name": "stdout",
     "output_type": "stream",
     "text": [
      "\n",
      "W\n"
     ]
    },
    {
     "data": {
      "text/plain": [
       "3-element Vector{Interval{Float64}}:\n",
       " [0.333333, 0.555556]\n",
       " [0.185185, 0.333334]\n",
       " [0.111111, 0.333334]"
      ]
     },
     "metadata": {},
     "output_type": "display_data"
    },
    {
     "name": "stdout",
     "output_type": "stream",
     "text": [
      "\n",
      "Optimal Value_Combined\n"
     ]
    },
    {
     "data": {
      "text/plain": [
       "0.0"
      ]
     },
     "metadata": {},
     "output_type": "display_data"
    },
    {
     "name": "stdout",
     "output_type": "stream",
     "text": [
      "\n",
      "W_Combined\n"
     ]
    },
    {
     "data": {
      "text/plain": [
       "3-element Vector{Interval{Float64}}:\n",
       " [0.333333, 0.555556]\n",
       " [0.185185, 0.333334]\n",
       " [0.111111, 0.333334]"
      ]
     },
     "metadata": {},
     "output_type": "display_data"
    },
    {
     "name": "stdout",
     "output_type": "stream",
     "text": [
      "\n",
      "A\n",
      "[1.000, [1.000, 1.000], 1.000] [1.000, [1.000, 1.000], 3.000] [1.000, [1.000, 2.000], 5.000]\n",
      "[0.333, [1.000, 1.000], 1.000] [1.000, [1.000, 1.000], 1.000] [0.500, [1.000, 1.000], 9.000]\n",
      "[0.200, [0.500, 1.000], 1.000] [0.111, [1.000, 1.000], 2.000] [1.000, [1.000, 1.000], 1.000]\n",
      "\n",
      "Â₁\n",
      "[1.000, [1.000, 1.000], 1.000] [1.000, [1.000, 1.000], 3.000] [1.000, [1.000, 2.000], 5.000]\n",
      "[0.333, [1.000, 1.000], 1.000] [1.000, [1.000, 1.000], 1.000] [0.500, [1.000, 1.000], 9.000]\n",
      "[0.200, [0.500, 1.000], 1.000] [0.111, [1.000, 1.000], 2.000] [1.000, [1.000, 1.000], 1.000]\n",
      "\n",
      "Â₂\n",
      "[1.000, [1.000, 1.000], 1.000] [1.000, [1.000, 1.000], 3.000] [1.000, [1.000, 2.000], 5.000]\n",
      "[0.333, [1.000, 1.000], 1.000] [1.000, [1.000, 1.000], 1.000] [0.500, [1.000, 1.000], 9.000]\n",
      "[0.200, [0.500, 1.000], 1.000] [0.111, [1.000, 1.000], 2.000] [1.000, [1.000, 1.000], 1.000]\n",
      "\n",
      "Â₃\n",
      "[1.000, [1.000, 1.000], 1.000] [1.000, [1.000, 1.000], 3.000] [1.000, [1.000, 2.000], 5.000]\n",
      "[0.333, [1.000, 1.000], 1.000] [1.000, [1.000, 1.000], 1.000] [0.500, [1.000, 1.000], 9.000]\n",
      "[0.200, [0.500, 1.000], 1.000] [0.111, [1.000, 1.000], 2.000] [1.000, [1.000, 1.000], 1.000]\n",
      "\n",
      "Â₁ widths\n",
      "(0.00000, 0.00000) (0.00000, 2.00000) (1.00000, 4.00000)\n",
      "(0.00000, 0.66667) (0.00000, 0.00000) (0.00000, 8.50000)\n",
      "(0.50000, 0.80000) (0.00000, 1.88889) (0.00000, 0.00000)\n",
      "\n",
      "Â₂ widths\n",
      "(0.00000, 0.00000) (0.00000, 2.00000) (1.00000, 4.00000)\n",
      "(0.00000, 0.66667) (0.00000, 0.00000) (0.00000, 8.50000)\n",
      "(0.50000, 0.80000) (0.00000, 1.88889) (0.00000, 0.00000)\n",
      "\n",
      "Â₃ widths\n",
      "(0.00000, 0.00000) (0.00000, 2.00000) (1.00000, 4.00000)\n",
      "(0.00000, 0.66667) (0.00000, 0.00000) (0.00000, 8.50000)\n",
      "(0.50000, 0.80000) (0.00000, 1.88889) (0.00000, 0.00000)\n",
      "\n",
      "Â₁ ≈ Â₂\n",
      "Â₁ ≈ Â₃\n",
      "Â₂ ≈ Â₃\n",
      "Â₁⁻ ≈ Â₂⁻\n",
      "Â₁⁻ ≈ Â₃⁻\n",
      "Â₂⁻ ≈ Â₃⁻\n",
      "Â₁⁺ ≈ Â₂⁺\n",
      "Â₁⁺ ≈ Â₃⁺\n",
      "Â₂⁺ ≈ Â₃⁺\n",
      "No cancelling proceeded.\n"
     ]
    }
   ],
   "source": [
    "# 修正なしの場合\n",
    "\n",
    "A = [\n",
    "    1..1 1..3 1..5\n",
    "    (1/3)..1 1..1 1..9\n",
    "    (1/5)..1 (1/9)..1 1..1\n",
    "]\n",
    "B = [\n",
    "    1..1 1..1 1..2\n",
    "    1..1 1..1 (1/2)..1\n",
    "    (1/2)..1 1..2 1..1\n",
    "]\n",
    "\n",
    "run(A, B)"
   ]
  },
  {
   "cell_type": "code",
   "execution_count": 37,
   "id": "ed8510a8-fbfc-464b-908d-2af6fdc3ba1c",
   "metadata": {},
   "outputs": [
    {
     "name": "stdout",
     "output_type": "stream",
     "text": [
      "\n",
      "A\n",
      "[1.000, [1.000, 1.000], 1.000] [2.700, [2.900, 3.000], 3.400] [2.900, [3.000, 3.500], 3.500]\n",
      "[0.294, [0.333, 0.345], 0.370] [1.000, [1.000, 1.000], 1.000] [0.667, [0.900, 1.300], 1.300]\n",
      "[0.286, [0.286, 0.333], 0.345] [0.769, [0.769, 1.111], 1.500] [1.000, [1.000, 1.000], 1.000]\n",
      "\n",
      "Running HiGHS 1.3.0 [date: 1970-01-01, git hash: e5004072b-dirty]\n",
      "Copyright (c) 2022 ERGO-Code under MIT licence terms\n",
      "Presolving model\n",
      "63 rows, 24 cols, 162 nonzeros\n",
      "57 rows, 18 cols, 156 nonzeros\n",
      "Presolve : Reductions: rows 57(-6); columns 18(-6); elements 156(-6)\n",
      "Solving the presolved LP\n",
      "Using EKK dual simplex solver - serial\n",
      "  Iteration        Objective     Infeasibilities num(sum)\n",
      "          0     3.7358457993e-16 Pr: 3(3) 0s\n",
      "         20     1.6369135876e-03 Pr: 0(0) 0s\n",
      "Solving the original LP from the solution after postsolve\n",
      "Model   status      : Optimal\n",
      "Simplex   iterations: 20\n",
      "Objective value     :  1.6369135876e-03\n",
      "HiGHS run time      :          0.00\n",
      "Running HiGHS 1.3.0 [date: 1970-01-01, git hash: e5004072b-dirty]\n",
      "Copyright (c) 2022 ERGO-Code under MIT licence terms\n",
      "Presolving model\n",
      "33 rows, 30 cols, 96 nonzeros\n",
      "33 rows, 30 cols, 96 nonzeros\n",
      "Presolve : Reductions: rows 33(-0); columns 30(-12); elements 96(-0)\n",
      "Solving the presolved LP\n",
      "Using EKK dual simplex solver - serial\n",
      "  Iteration        Objective     Infeasibilities num(sum)\n",
      "          0     4.5261411194e-16 Pr: 3(3) 0s\n",
      "         11     1.6369135876e-03 Pr: 0(0) 0s\n",
      "Solving the original LP from the solution after postsolve\n",
      "Model   status      : Optimal\n",
      "Simplex   iterations: 11\n",
      "Objective value     :  1.6369135876e-03\n",
      "HiGHS run time      :          0.00\n",
      "\n",
      "Optimal Value\n"
     ]
    },
    {
     "data": {
      "text/plain": [
       "0.0016369135875689556"
      ]
     },
     "metadata": {},
     "output_type": "display_data"
    },
    {
     "name": "stdout",
     "output_type": "stream",
     "text": [
      "\n",
      "W\n"
     ]
    },
    {
     "data": {
      "text/plain": [
       "3-element Vector{Interval{Float64}}:\n",
       " [0.6037, 0.604472]\n",
       " [0.187355, 0.223593]\n",
       " [0.172706, 0.208173]"
      ]
     },
     "metadata": {},
     "output_type": "display_data"
    },
    {
     "name": "stdout",
     "output_type": "stream",
     "text": [
      "\n",
      "Optimal Value_Combined\n"
     ]
    },
    {
     "data": {
      "text/plain": [
       "0.0016369135875689556"
      ]
     },
     "metadata": {},
     "output_type": "display_data"
    },
    {
     "name": "stdout",
     "output_type": "stream",
     "text": [
      "\n",
      "W_Combined\n"
     ]
    },
    {
     "data": {
      "text/plain": [
       "3-element Vector{Interval{Float64}}:\n",
       " [0.6037, 0.604472]\n",
       " [0.187355, 0.223593]\n",
       " [0.172706, 0.208173]"
      ]
     },
     "metadata": {},
     "output_type": "display_data"
    },
    {
     "name": "stdout",
     "output_type": "stream",
     "text": [
      "\n",
      "A\n",
      "[1.000, [1.000, 1.000], 1.000] [2.700, [2.900, 3.000], 3.400] [2.900, [3.000, 3.500], 3.500]\n",
      "[0.294, [0.333, 0.345], 0.370] [1.000, [1.000, 1.000], 1.000] [0.667, [0.900, 1.300], 1.300]\n",
      "[0.286, [0.286, 0.333], 0.345] [0.769, [0.769, 1.111], 1.500] [1.000, [1.000, 1.000], 1.000]\n",
      "\n",
      "Â₁\n",
      "[1.000, [1.000, 1.000], 1.000] [2.689, [2.900, 3.000], 3.400] [2.900, [3.000, 3.500], 3.514]\n",
      "[0.294, [0.333, 0.345], 0.372] [1.000, [1.000, 1.000], 1.000] [0.667, [0.900, 1.295], 1.305]\n",
      "[0.285, [0.286, 0.333], 0.345] [0.766, [0.772, 1.111], 1.500] [1.000, [1.000, 1.000], 1.000]\n",
      "\n",
      "Â₂\n",
      "[1.000, [1.000, 1.000], 1.000] [2.689, [2.900, 3.000], 3.400] [2.900, [3.000, 3.500], 3.514]\n",
      "[0.294, [0.333, 0.345], 0.372] [1.000, [1.000, 1.000], 1.000] [0.667, [0.900, 1.295], 1.300]\n",
      "[0.285, [0.286, 0.333], 0.345] [0.769, [0.772, 1.111], 1.500] [1.000, [1.000, 1.000], 1.000]\n",
      "\n",
      "Â₃\n",
      "[1.000, [1.000, 1.000], 1.000] [2.700, [2.900, 3.000], 3.400] [2.900, [3.000, 3.500], 3.500]\n",
      "[0.294, [0.333, 0.345], 0.370] [1.000, [1.000, 1.000], 1.000] [0.667, [0.900, 1.295], 1.300]\n",
      "[0.286, [0.286, 0.333], 0.345] [0.769, [0.772, 1.111], 1.500] [1.000, [1.000, 1.000], 1.000]\n",
      "\n",
      "Â₁ widths\n",
      "(0.00000, 0.00000) (0.10000, 0.71113) (0.50000, 0.61448)\n",
      "(0.01149, 0.07779) (0.00000, 0.00000) (0.39464, 0.63871)\n",
      "(0.04762, 0.06029) (0.33870, 0.73394) (0.00000, 0.00000)\n",
      "\n",
      "Â₂ widths\n",
      "(0.00000, 0.00000) (0.10000, 0.71113) (0.50000, 0.61448)\n",
      "(0.01149, 0.07779) (0.00000, 0.00000) (0.39464, 0.63333)\n",
      "(0.04762, 0.06029) (0.33870, 0.73077) (0.00000, 0.00000)\n",
      "\n",
      "Â₃ widths\n",
      "(0.00000, 0.00000) (0.10000, 0.70000) (0.50000, 0.60000)\n",
      "(0.01149, 0.07625) (0.00000, 0.00000) (0.39464, 0.63333)\n",
      "(0.04762, 0.05911) (0.33870, 0.73077) (0.00000, 0.00000)\n",
      "\n",
      "Â₁⁻ ≈ Â₂⁻\n",
      "Â₁⁻ ⊆ Â₃⁻\n",
      "Â₃⁻ ⊆ Â₁⁻\n",
      "Â₂⁻ ≈ Â₃⁻\n",
      "Â₂⁺ ⊆ Â₁⁺\n",
      "Â₃⁺ ⊆ Â₁⁺\n",
      "Â₃⁺ ⊆ Â₂⁺\n"
     ]
    }
   ],
   "source": [
    "# 1 3 3\n",
    "# 1/3 1 1\n",
    "# 1/3 1 1\n",
    "\n",
    "A = [\n",
    "    1..1 2.9..3.4 2.9..3.5\n",
    "    (1/3.4)..(1/2.9) 1..1 0.9..1.3\n",
    "    (1/3.5)..(1/2.9) (1/1.3)..(1/0.9) 1..1\n",
    "]\n",
    "B = [\n",
    "    1..1 2.7..3 3..3.5\n",
    "    (1/3)..(1/2.7) 1..1 (1/1.5)..1.3\n",
    "    (1/3.5)..(1/3) (1/1.3)..1.5 1..1\n",
    "]\n",
    "\n",
    "run(A, B)"
   ]
  },
  {
   "cell_type": "code",
   "execution_count": 24,
   "id": "232a9846-0373-4ad8-967a-94436a95d047",
   "metadata": {},
   "outputs": [
    {
     "name": "stdout",
     "output_type": "stream",
     "text": [
      "\n",
      "A\n",
      "[1.000, [1.000, 1.000], 1.000] [2.200, [2.700, 2.800], 3.200] [0.250, [0.303, 0.333], 0.357]\n",
      "[0.312, [0.357, 0.370], 0.455] [1.000, [1.000, 1.000], 1.000] [0.100, [0.102, 0.103], 0.103]\n",
      "[2.800, [3.000, 3.300], 4.000] [9.700, [9.700, 9.800], 10.000] [1.000, [1.000, 1.000], 1.000]\n",
      "\n",
      "Running HiGHS 1.3.0 [date: 1970-01-01, git hash: e5004072b-dirty]\n",
      "Copyright (c) 2022 ERGO-Code under MIT licence terms\n",
      "Presolving model\n",
      "63 rows, 24 cols, 162 nonzeros\n",
      "57 rows, 18 cols, 156 nonzeros\n",
      "Presolve : Reductions: rows 57(-6); columns 18(-6); elements 156(-6)\n",
      "Solving the presolved LP\n",
      "Using EKK dual simplex solver - serial\n",
      "  Iteration        Objective     Infeasibilities num(sum)\n",
      "          0     4.5099466835e-16 Pr: 3(3) 0s\n",
      "         22     1.4090601249e-02 Pr: 0(0) 0s\n",
      "Solving the original LP from the solution after postsolve\n",
      "Model   status      : Optimal\n",
      "Simplex   iterations: 22\n",
      "Objective value     :  1.4090601249e-02\n",
      "HiGHS run time      :          0.00\n",
      "Running HiGHS 1.3.0 [date: 1970-01-01, git hash: e5004072b-dirty]\n",
      "Copyright (c) 2022 ERGO-Code under MIT licence terms\n",
      "Presolving model\n",
      "33 rows, 30 cols, 96 nonzeros\n",
      "33 rows, 30 cols, 96 nonzeros\n",
      "Presolve : Reductions: rows 33(-0); columns 30(-12); elements 96(-0)\n",
      "Solving the presolved LP\n",
      "Using EKK dual simplex solver - serial\n",
      "  Iteration        Objective     Infeasibilities num(sum)\n",
      "          0     5.1168660235e-16 Pr: 3(3) 0s\n",
      "         12     1.4090601249e-02 Pr: 0(0) 0s\n",
      "Solving the original LP from the solution after postsolve\n",
      "Model   status      : Optimal\n",
      "Simplex   iterations: 12\n",
      "Objective value     :  1.4090601249e-02\n",
      "HiGHS run time      :          0.00\n",
      "\n",
      "Optimal Value\n"
     ]
    },
    {
     "data": {
      "text/plain": [
       "0.014090601249153317"
      ]
     },
     "metadata": {},
     "output_type": "display_data"
    },
    {
     "name": "stdout",
     "output_type": "stream",
     "text": [
      "\n",
      "W\n"
     ]
    },
    {
     "data": {
      "text/plain": [
       "3-element Vector{Interval{Float64}}:\n",
       " [0.19708, 0.231752]\n",
       " [0.0729927, 0.0729928]\n",
       " [0.695255, 0.729928]"
      ]
     },
     "metadata": {},
     "output_type": "display_data"
    },
    {
     "name": "stdout",
     "output_type": "stream",
     "text": [
      "\n",
      "Optimal Value_Combined\n"
     ]
    },
    {
     "data": {
      "text/plain": [
       "0.014090601249153317"
      ]
     },
     "metadata": {},
     "output_type": "display_data"
    },
    {
     "name": "stdout",
     "output_type": "stream",
     "text": [
      "\n",
      "W_Combined\n"
     ]
    },
    {
     "data": {
      "text/plain": [
       "3-element Vector{Interval{Float64}}:\n",
       " [0.19708, 0.231752]\n",
       " [0.0729927, 0.0729928]\n",
       " [0.695255, 0.729928]"
      ]
     },
     "metadata": {},
     "output_type": "display_data"
    },
    {
     "name": "stdout",
     "output_type": "stream",
     "text": [
      "\n",
      "A\n",
      "[1.000, [1.000, 1.000], 1.000] [2.200, [2.700, 2.800], 3.200] [0.250, [0.303, 0.333], 0.357]\n",
      "[0.312, [0.357, 0.370], 0.455] [1.000, [1.000, 1.000], 1.000] [0.100, [0.102, 0.103], 0.103]\n",
      "[2.800, [3.000, 3.300], 4.000] [9.700, [9.700, 9.800], 10.000] [1.000, [1.000, 1.000], 1.000]\n",
      "\n",
      "Â₁\n",
      "[1.000, [1.000, 1.000], 1.000] [2.200, [2.700, 2.800], 3.200] [0.250, [0.303, 0.327], 0.357]\n",
      "[0.312, [0.357, 0.370], 0.455] [1.000, [1.000, 1.000], 1.000] [0.100,       ∅       , 0.105]\n",
      "[2.800, [3.055, 3.300], 4.000] [9.525,       ∅       , 10.000] [1.000, [1.000, 1.000], 1.000]\n",
      "\n",
      "Â₂\n",
      "[1.000, [1.000, 1.000], 1.000] [2.200, [2.750, 2.800], 3.200] [0.250, [0.303, 0.327], 0.357]\n",
      "[0.312, [0.357, 0.364], 0.455] [1.000, [1.000, 1.000], 1.000] [0.100, [0.102, 0.103], 0.105]\n",
      "[2.800, [3.055, 3.300], 4.000] [9.525, [9.700, 9.800], 10.000] [1.000, [1.000, 1.000], 1.000]\n",
      "\n",
      "Â₃\n",
      "[1.000, [1.000, 1.000], 1.000] [2.200, [2.700, 2.800], 3.200] [0.250, [0.303, 0.333], 0.357]\n",
      "[0.312, [0.357, 0.370], 0.455] [1.000, [1.000, 1.000], 1.000] [0.100, [0.102, 0.103], 0.105]\n",
      "[2.800, [3.000, 3.300], 4.000] [9.525, [9.700, 9.800], 10.000] [1.000, [1.000, 1.000], 1.000]\n",
      "\n",
      "Â₁ widths\n",
      "(0.00000, 0.00000) (0.10000, 1.00000) (0.02429, 0.10714)\n",
      "(0.01323, 0.14205) (0.00000, 0.00000) ( undef , 0.00499)\n",
      "(0.24488, 1.20000) ( undef , 0.47500) (0.00000, 0.00000)\n",
      "\n",
      "Â₂ widths\n",
      "(0.00000, 0.00000) (0.05039, 1.00000) (0.02429, 0.10714)\n",
      "(0.00655, 0.14205) (0.00000, 0.00000) (0.00105, 0.00499)\n",
      "(0.24488, 1.20000) (0.10000, 0.47500) (0.00000, 0.00000)\n",
      "\n",
      "Â₃ widths\n",
      "(0.00000, 0.00000) (0.10000, 1.00000) (0.03030, 0.10714)\n",
      "(0.01323, 0.14205) (0.00000, 0.00000) (0.00105, 0.00499)\n",
      "(0.30000, 1.20000) (0.10000, 0.47500) (0.00000, 0.00000)\n",
      "\n",
      "Â₂⁻ ⊆ Â₃⁻\n",
      "Â₁⁺ ≈ Â₂⁺\n",
      "Â₁⁺ ≈ Â₃⁺\n",
      "Â₂⁺ ≈ Â₃⁺\n"
     ]
    }
   ],
   "source": [
    "# 1 3 1/3\n",
    "# 1/3 1 1/9\n",
    "# 3 9 1\n",
    "\n",
    "A = [\n",
    "    1..1 2.7..3.2 (1/3.3)..(1/3)\n",
    "    (1/3.2)..(1/2.7) 1..1 (1/10)..(1/9.7)\n",
    "    3..3.3 9.7..10 1..1\n",
    "]\n",
    "B = [\n",
    "    1..1 2.2..2.8 (1/4)..(1/2.8)\n",
    "    (1/2.8)..(1/2.2) 1..1 (1/9.8)..(1/9.7)\n",
    "    2.8..4 9.7..9.8 1..1\n",
    "]\n",
    "\n",
    "run(A, B)"
   ]
  },
  {
   "cell_type": "code",
   "execution_count": 25,
   "id": "810a7c7b-338c-4880-aab5-a421f6f544a2",
   "metadata": {},
   "outputs": [
    {
     "name": "stdout",
     "output_type": "stream",
     "text": [
      "\n",
      "A\n",
      "[1.000, [1.000, 1.000], 1.000] [3.000, [3.700, 4.000], 4.800] [2.000, [2.100, 2.200], 2.800]\n",
      "[0.208, [0.250, 0.270], 0.333] [1.000, [1.000, 1.000], 1.000] [0.357, [0.435, 0.455], 0.625]\n",
      "[0.357, [0.455, 0.476], 0.500] [1.600, [2.200, 2.300], 2.800] [1.000, [1.000, 1.000], 1.000]\n",
      "\n",
      "Running HiGHS 1.3.0 [date: 1970-01-01, git hash: e5004072b-dirty]\n",
      "Copyright (c) 2022 ERGO-Code under MIT licence terms\n",
      "Presolving model\n",
      "63 rows, 24 cols, 162 nonzeros\n",
      "57 rows, 18 cols, 156 nonzeros\n",
      "Presolve : Reductions: rows 57(-6); columns 18(-6); elements 156(-6)\n",
      "Solving the presolved LP\n",
      "Using EKK dual simplex solver - serial\n",
      "  Iteration        Objective     Infeasibilities num(sum)\n",
      "          0     3.7358440562e-16 Pr: 3(3) 0s\n",
      "         19     0.0000000000e+00 Pr: 0(0) 0s\n",
      "Solving the original LP from the solution after postsolve\n",
      "Model   status      : Optimal\n",
      "Simplex   iterations: 19\n",
      "Objective value     :  0.0000000000e+00\n",
      "HiGHS run time      :          0.00\n",
      "Running HiGHS 1.3.0 [date: 1970-01-01, git hash: e5004072b-dirty]\n",
      "Copyright (c) 2022 ERGO-Code under MIT licence terms\n",
      "Presolving model\n",
      "33 rows, 30 cols, 96 nonzeros\n",
      "33 rows, 30 cols, 96 nonzeros\n",
      "Presolve : Reductions: rows 33(-0); columns 30(-12); elements 96(-0)\n",
      "Solving the presolved LP\n",
      "Using EKK dual simplex solver - serial\n",
      "  Iteration        Objective     Infeasibilities num(sum)\n",
      "          0     4.5261407464e-16 Pr: 3(3) 0s\n",
      "          9     0.0000000000e+00 Pr: 0(0) 0s\n",
      "Solving the original LP from the solution after postsolve\n",
      "Model   status      : Optimal\n",
      "Simplex   iterations: 9\n",
      "Objective value     :  0.0000000000e+00\n",
      "HiGHS run time      :          0.00\n",
      "\n",
      "Optimal Value\n"
     ]
    },
    {
     "data": {
      "text/plain": [
       "0.0"
      ]
     },
     "metadata": {},
     "output_type": "display_data"
    },
    {
     "name": "stdout",
     "output_type": "stream",
     "text": [
      "\n",
      "W\n"
     ]
    },
    {
     "data": {
      "text/plain": [
       "3-element Vector{Interval{Float64}}:\n",
       " [0.567901, 0.592593]\n",
       " [0.123456, 0.156696]\n",
       " [0.250712, 0.283951]"
      ]
     },
     "metadata": {},
     "output_type": "display_data"
    },
    {
     "name": "stdout",
     "output_type": "stream",
     "text": [
      "\n",
      "Optimal Value_Combined\n"
     ]
    },
    {
     "data": {
      "text/plain": [
       "0.0"
      ]
     },
     "metadata": {},
     "output_type": "display_data"
    },
    {
     "name": "stdout",
     "output_type": "stream",
     "text": [
      "\n",
      "W_Combined\n"
     ]
    },
    {
     "data": {
      "text/plain": [
       "3-element Vector{Interval{Float64}}:\n",
       " [0.567901, 0.592593]\n",
       " [0.123456, 0.156696]\n",
       " [0.250712, 0.283951]"
      ]
     },
     "metadata": {},
     "output_type": "display_data"
    },
    {
     "name": "stdout",
     "output_type": "stream",
     "text": [
      "\n",
      "A\n",
      "[1.000, [1.000, 1.000], 1.000] [3.000, [3.700, 4.000], 4.800] [2.000, [2.100, 2.200], 2.800]\n",
      "[0.208, [0.250, 0.270], 0.333] [1.000, [1.000, 1.000], 1.000] [0.357, [0.435, 0.455], 0.625]\n",
      "[0.357, [0.455, 0.476], 0.500] [1.600, [2.200, 2.300], 2.800] [1.000, [1.000, 1.000], 1.000]\n",
      "\n",
      "Â₁\n",
      "[1.000, [1.000, 1.000], 1.000] [3.000, [3.700, 4.000], 4.800] [2.000, [2.100, 2.200], 2.800]\n",
      "[0.208, [0.250, 0.270], 0.333] [1.000, [1.000, 1.000], 1.000] [0.357, [0.435, 0.455], 0.625]\n",
      "[0.357, [0.455, 0.476], 0.500] [1.600, [2.200, 2.300], 2.800] [1.000, [1.000, 1.000], 1.000]\n",
      "\n",
      "Â₂\n",
      "[1.000, [1.000, 1.000], 1.000] [3.000, [3.700, 4.000], 4.800] [2.000, [2.100, 2.200], 2.800]\n",
      "[0.208, [0.250, 0.270], 0.333] [1.000, [1.000, 1.000], 1.000] [0.357, [0.435, 0.455], 0.625]\n",
      "[0.357, [0.455, 0.476], 0.500] [1.600, [2.200, 2.300], 2.800] [1.000, [1.000, 1.000], 1.000]\n",
      "\n",
      "Â₃\n",
      "[1.000, [1.000, 1.000], 1.000] [3.000, [3.700, 4.000], 4.800] [2.000, [2.100, 2.200], 2.800]\n",
      "[0.208, [0.250, 0.270], 0.333] [1.000, [1.000, 1.000], 1.000] [0.357, [0.435, 0.455], 0.625]\n",
      "[0.357, [0.455, 0.476], 0.500] [1.600, [2.200, 2.300], 2.800] [1.000, [1.000, 1.000], 1.000]\n",
      "\n",
      "Â₁ widths\n",
      "(0.00000, 0.00000) (0.30000, 1.80000) (0.10000, 0.80000)\n",
      "(0.02027, 0.12500) (0.00000, 0.00000) (0.01976, 0.26786)\n",
      "(0.02165, 0.14286) (0.10000, 1.20000) (0.00000, 0.00000)\n",
      "\n",
      "Â₂ widths\n",
      "(0.00000, 0.00000) (0.30000, 1.80000) (0.10000, 0.80000)\n",
      "(0.02027, 0.12500) (0.00000, 0.00000) (0.01976, 0.26786)\n",
      "(0.02165, 0.14286) (0.10000, 1.20000) (0.00000, 0.00000)\n",
      "\n",
      "Â₃ widths\n",
      "(0.00000, 0.00000) (0.30000, 1.80000) (0.10000, 0.80000)\n",
      "(0.02027, 0.12500) (0.00000, 0.00000) (0.01976, 0.26786)\n",
      "(0.02165, 0.14286) (0.10000, 1.20000) (0.00000, 0.00000)\n",
      "\n",
      "Â₁ ≈ Â₂\n",
      "Â₁ ≈ Â₃\n",
      "Â₂ ≈ Â₃\n",
      "Â₁⁻ ≈ Â₂⁻\n",
      "Â₁⁻ ≈ Â₃⁻\n",
      "Â₂⁻ ≈ Â₃⁻\n",
      "Â₁⁺ ≈ Â₂⁺\n",
      "Â₁⁺ ≈ Â₃⁺\n",
      "Â₂⁺ ≈ Â₃⁺\n",
      "No cancelling proceeded.\n"
     ]
    }
   ],
   "source": [
    "# 1 4 2\n",
    "# 1/4 1 1/2\n",
    "# 1/2 2 1\n",
    "\n",
    "A = [\n",
    "    1..1 3.7..4.8 2.1..2.8\n",
    "    (1/4.8)..(1/3.7) 1..1 (1/2.3)..(1/1.6)\n",
    "    (1/2.8)..(1/2.1) 1.6..2.3 1..1\n",
    "]\n",
    "B = [\n",
    "    1..1 3..4 2..2.2\n",
    "    (1/4)..(1/3) 1..1 (1/2.8)..(1/2.2)\n",
    "    (1/2.2)..(1/2) 2.2..2.8 1..1\n",
    "]\n",
    "\n",
    "run(A, B)"
   ]
  },
  {
   "cell_type": "code",
   "execution_count": 26,
   "id": "a77d8914-61e5-4352-a46c-b5cb694720d3",
   "metadata": {},
   "outputs": [
    {
     "name": "stdout",
     "output_type": "stream",
     "text": [
      "\n",
      "A\n",
      "[1.000, [1.000, 1.000], 1.000] [1.700, [2.000, 2.800], 3.000] [2.000, [2.100, 2.200], 2.800]\n",
      "[0.333, [0.357, 0.500], 0.588] [1.000, [1.000, 1.000], 1.000] [0.357, [0.435, 0.455], 0.625]\n",
      "[0.357, [0.455, 0.476], 0.500] [1.600, [2.200, 2.300], 2.800] [1.000, [1.000, 1.000], 1.000]\n",
      "\n",
      "Running HiGHS 1.3.0 [date: 1970-01-01, git hash: e5004072b-dirty]\n",
      "Copyright (c) 2022 ERGO-Code under MIT licence terms\n",
      "Presolving model\n",
      "63 rows, 24 cols, 162 nonzeros\n",
      "57 rows, 18 cols, 156 nonzeros\n",
      "Presolve : Reductions: rows 57(-6); columns 18(-6); elements 156(-6)\n",
      "Solving the presolved LP\n",
      "Using EKK dual simplex solver - serial\n",
      "  Iteration        Objective     Infeasibilities num(sum)\n",
      "          0     3.7358451284e-16 Pr: 3(3) 0s\n",
      "         25     5.0062024073e-01 Pr: 0(0) 0s\n",
      "Solving the original LP from the solution after postsolve\n",
      "Model   status      : Optimal\n",
      "Simplex   iterations: 25\n",
      "Objective value     :  5.0062024073e-01\n",
      "HiGHS run time      :          0.00\n",
      "Running HiGHS 1.3.0 [date: 1970-01-01, git hash: e5004072b-dirty]\n",
      "Copyright (c) 2022 ERGO-Code under MIT licence terms\n",
      "Presolving model\n",
      "33 rows, 30 cols, 96 nonzeros\n",
      "33 rows, 30 cols, 96 nonzeros\n",
      "Presolve : Reductions: rows 33(-0); columns 30(-12); elements 96(-0)\n",
      "Solving the presolved LP\n",
      "Using EKK dual simplex solver - serial\n",
      "  Iteration        Objective     Infeasibilities num(sum)\n",
      "          0     4.5261406064e-16 Pr: 3(3) 0s\n",
      "         19     5.0062024073e-01 Pr: 0(0) 0s\n",
      "Solving the original LP from the solution after postsolve\n",
      "Model   status      : Optimal\n",
      "Simplex   iterations: 19\n",
      "Objective value     :  5.0062024073e-01\n",
      "HiGHS run time      :          0.00\n",
      "\n",
      "Optimal Value\n"
     ]
    },
    {
     "data": {
      "text/plain": [
       "0.5006202407270943"
      ]
     },
     "metadata": {},
     "output_type": "display_data"
    },
    {
     "name": "stdout",
     "output_type": "stream",
     "text": [
      "\n",
      "W\n"
     ]
    },
    {
     "data": {
      "text/plain": [
       "3-element Vector{Interval{Float64}}:\n",
       " [0.497175, 0.559323]\n",
       " [0.18644, 0.248588]\n",
       " [0.254237, 0.254238]"
      ]
     },
     "metadata": {},
     "output_type": "display_data"
    },
    {
     "name": "stdout",
     "output_type": "stream",
     "text": [
      "\n",
      "Optimal Value_Combined\n"
     ]
    },
    {
     "data": {
      "text/plain": [
       "0.5006202407270941"
      ]
     },
     "metadata": {},
     "output_type": "display_data"
    },
    {
     "name": "stdout",
     "output_type": "stream",
     "text": [
      "\n",
      "W_Combined\n"
     ]
    },
    {
     "data": {
      "text/plain": [
       "3-element Vector{Interval{Float64}}:\n",
       " [0.497175, 0.559323]\n",
       " [0.18644, 0.248588]\n",
       " [0.254237, 0.254238]"
      ]
     },
     "metadata": {},
     "output_type": "display_data"
    },
    {
     "name": "stdout",
     "output_type": "stream",
     "text": [
      "\n",
      "A\n",
      "[1.000, [1.000, 1.000], 1.000] [1.700, [2.000, 2.800], 3.000] [2.000, [2.100, 2.200], 2.800]\n",
      "[0.333, [0.357, 0.500], 0.588] [1.000, [1.000, 1.000], 1.000] [0.357, [0.435, 0.455], 0.625]\n",
      "[0.357, [0.455, 0.476], 0.500] [1.600, [2.200, 2.300], 2.800] [1.000, [1.000, 1.000], 1.000]\n",
      "\n",
      "Â₁\n",
      "[1.000, [1.000, 1.000], 1.000] [1.700,       ∅       , 5.060] [1.159,       ∅       , 2.800]\n",
      "[0.198,       ∅       , 0.588] [1.000, [1.000, 1.000], 1.000] [0.258,       ∅       , 0.978]\n",
      "[0.357,       ∅       , 0.863] [1.023,       ∅       , 3.879] [1.000, [1.000, 1.000], 1.000]\n",
      "\n",
      "Â₂\n",
      "[1.000, [1.000, 1.000], 1.000] [1.700,       ∅       , 5.060] [1.159,       ∅       , 2.800]\n",
      "[0.198,       ∅       , 0.588] [1.000, [1.000, 1.000], 1.000] [0.357,       ∅       , 0.978]\n",
      "[0.357,       ∅       , 0.863] [1.023,       ∅       , 2.800] [1.000, [1.000, 1.000], 1.000]\n",
      "\n",
      "Â₃\n",
      "[1.000, [1.000, 1.000], 1.000] [1.700, [2.000, 2.800], 3.000] [1.956, [2.100, 2.200], 2.800]\n",
      "[0.333, [0.357, 0.500], 0.588] [1.000, [1.000, 1.000], 1.000] [0.357,       ∅       , 0.978]\n",
      "[0.357, [0.455, 0.476], 0.511] [1.023,       ∅       , 2.800] [1.000, [1.000, 1.000], 1.000]\n",
      "\n",
      "Â₁ widths\n",
      "(0.00000, 0.00000) ( undef , 3.36000) ( undef , 1.64058)\n",
      "( undef , 0.39061) (0.00000, 0.00000) ( undef , 0.72000)\n",
      "( undef , 0.50536) ( undef , 2.85661) (0.00000, 0.00000)\n",
      "\n",
      "Â₂ widths\n",
      "(0.00000, 0.00000) ( undef , 3.36000) ( undef , 1.64058)\n",
      "( undef , 0.39061) (0.00000, 0.00000) ( undef , 0.62063)\n",
      "( undef , 0.50536) ( undef , 1.77727) (0.00000, 0.00000)\n",
      "\n",
      "Â₃ widths\n",
      "(0.00000, 0.00000) (0.80000, 1.30000) (0.10000, 0.84444)\n",
      "(0.14286, 0.25490) (0.00000, 0.00000) ( undef , 0.62063)\n",
      "(0.02165, 0.15422) ( undef , 1.77727) (0.00000, 0.00000)\n",
      "\n",
      "Â₁⁻ ≈ Â₂⁻\n",
      "Â₂⁺ ⊆ Â₁⁺\n",
      "Â₃⁺ ⊆ Â₁⁺\n"
     ]
    }
   ],
   "source": [
    "# 1 2 2\n",
    "# 1/2 1 1/2\n",
    "# 1/2 2 1\n",
    "\n",
    "A = [\n",
    "    1..1 1.7..2.8 2.1..2.8\n",
    "    (1/2.8)..(1/1.7) 1..1 (1/2.3)..(1/1.6)\n",
    "    (1/2.8)..(1/2.1) 1.6..2.3 1..1\n",
    "]\n",
    "B = [\n",
    "    1..1 2..3 2..2.2\n",
    "    (1/3)..(1/2) 1..1 (1/2.8)..(1/2.2)\n",
    "    (1/2.2)..(1/2) 2.2..2.8 1..1\n",
    "]\n",
    "\n",
    "run(A, B)"
   ]
  },
  {
   "cell_type": "code",
   "execution_count": 27,
   "id": "6ed4cfcf-28f2-490e-90ec-a34430a41c13",
   "metadata": {},
   "outputs": [
    {
     "name": "stdout",
     "output_type": "stream",
     "text": [
      "\n",
      "A\n",
      "[1.000, [1.000, 1.000], 1.000] [2.900, [2.900, 3.100], 3.100] [0.323, [0.323, 0.345], 0.345]\n",
      "[0.323, [0.323, 0.345], 0.345] [1.000, [1.000, 1.000], 1.000] [0.110, [0.110, 0.112], 0.112]\n",
      "[2.900, [2.900, 3.100], 3.100] [8.900, [8.900, 9.100], 9.100] [1.000, [1.000, 1.000], 1.000]\n",
      "\n",
      "Running HiGHS 1.3.0 [date: 1970-01-01, git hash: e5004072b-dirty]\n",
      "Copyright (c) 2022 ERGO-Code under MIT licence terms\n",
      "Presolving model\n",
      "63 rows, 24 cols, 162 nonzeros\n",
      "57 rows, 18 cols, 156 nonzeros\n",
      "Presolve : Reductions: rows 57(-6); columns 18(-6); elements 156(-6)\n",
      "Solving the presolved LP\n",
      "Using EKK dual simplex solver - serial\n",
      "  Iteration        Objective     Infeasibilities num(sum)\n",
      "          0     4.5099474922e-16 Pr: 3(3) 0s\n",
      "         25     3.1054861783e-03 Pr: 0(0) 0s\n",
      "Solving the original LP from the solution after postsolve\n",
      "Model   status      : Optimal\n",
      "Simplex   iterations: 25\n",
      "Objective value     :  3.1054861783e-03\n",
      "HiGHS run time      :          0.00\n",
      "Running HiGHS 1.3.0 [date: 1970-01-01, git hash: e5004072b-dirty]\n",
      "Copyright (c) 2022 ERGO-Code under MIT licence terms\n",
      "Presolving model\n",
      "33 rows, 30 cols, 96 nonzeros\n",
      "33 rows, 30 cols, 96 nonzeros\n",
      "Presolve : Reductions: rows 33(-0); columns 30(-12); elements 96(-0)\n",
      "Solving the presolved LP\n",
      "Using EKK dual simplex solver - serial\n",
      "  Iteration        Objective     Infeasibilities num(sum)\n",
      "          0     5.1168664404e-16 Pr: 3(3) 0s\n",
      "         15     3.1054861783e-03 Pr: 0(0) 0s\n",
      "Solving the original LP from the solution after postsolve\n",
      "Model   status      : Optimal\n",
      "Simplex   iterations: 15\n",
      "Objective value     :  3.1054861783e-03\n",
      "HiGHS run time      :          0.00\n",
      "\n",
      "Optimal Value\n"
     ]
    },
    {
     "data": {
      "text/plain": [
       "0.0031054861782953275"
      ]
     },
     "metadata": {},
     "output_type": "display_data"
    },
    {
     "name": "stdout",
     "output_type": "stream",
     "text": [
      "\n",
      "W\n"
     ]
    },
    {
     "data": {
      "text/plain": [
       "3-element Vector{Interval{Float64}}:\n",
       " [0.225087, 0.23675]\n",
       " [0.076678, 0.0771431]\n",
       " [0.686572, 0.69777]"
      ]
     },
     "metadata": {},
     "output_type": "display_data"
    },
    {
     "name": "stdout",
     "output_type": "stream",
     "text": [
      "\n",
      "Optimal Value_Combined\n"
     ]
    },
    {
     "data": {
      "text/plain": [
       "0.0031054861782952997"
      ]
     },
     "metadata": {},
     "output_type": "display_data"
    },
    {
     "name": "stdout",
     "output_type": "stream",
     "text": [
      "\n",
      "W_Combined\n"
     ]
    },
    {
     "data": {
      "text/plain": [
       "3-element Vector{Interval{Float64}}:\n",
       " [0.225087, 0.23675]\n",
       " [0.076678, 0.0771431]\n",
       " [0.686572, 0.69777]"
      ]
     },
     "metadata": {},
     "output_type": "display_data"
    },
    {
     "name": "stdout",
     "output_type": "stream",
     "text": [
      "\n",
      "A\n",
      "[1.000, [1.000, 1.000], 1.000] [2.900, [2.900, 3.100], 3.100] [0.323, [0.323, 0.345], 0.345]\n",
      "[0.323, [0.323, 0.345], 0.345] [1.000, [1.000, 1.000], 1.000] [0.110, [0.110, 0.112], 0.112]\n",
      "[2.900, [2.900, 3.100], 3.100] [8.900, [8.900, 9.100], 9.100] [1.000, [1.000, 1.000], 1.000]\n",
      "\n",
      "Â₁\n",
      "[1.000, [1.000, 1.000], 1.000] [2.882, [2.918, 3.088], 3.112] [0.321, [0.323, 0.345], 0.346]\n",
      "[0.321, [0.324, 0.343], 0.347] [1.000, [1.000, 1.000], 1.000] [0.109, [0.110, 0.112], 0.113]\n",
      "[2.888, [2.900, 3.100], 3.119] [8.846, [8.900, 9.100], 9.137] [1.000, [1.000, 1.000], 1.000]\n",
      "\n",
      "Â₂\n",
      "[1.000, [1.000, 1.000], 1.000] [2.900, [2.918, 3.088], 3.100] [0.321, [0.323, 0.345], 0.346]\n",
      "[0.323, [0.324, 0.343], 0.345] [1.000, [1.000, 1.000], 1.000] [0.109, [0.110, 0.112], 0.113]\n",
      "[2.888, [2.900, 3.100], 3.119] [8.846, [8.900, 9.100], 9.137] [1.000, [1.000, 1.000], 1.000]\n",
      "\n",
      "Â₃\n",
      "[1.000, [1.000, 1.000], 1.000] [2.900, [2.918, 3.088], 3.100] [0.323, [0.323, 0.345], 0.345]\n",
      "[0.323, [0.324, 0.343], 0.345] [1.000, [1.000, 1.000], 1.000] [0.110, [0.110, 0.112], 0.112]\n",
      "[2.900, [2.900, 3.100], 3.100] [8.900, [8.900, 9.100], 9.100] [1.000, [1.000, 1.000], 1.000]\n",
      "\n",
      "Â₁ widths\n",
      "(0.00000, 0.00000) (0.16979, 0.23015) (0.02225, 0.02560)\n",
      "(0.01885, 0.02566) (0.00000, 0.00000) (0.00247, 0.00360)\n",
      "(0.20000, 0.23064) (0.20000, 0.29088) (0.00000, 0.00000)\n",
      "\n",
      "Â₂ widths\n",
      "(0.00000, 0.00000) (0.16979, 0.20000) (0.02225, 0.02560)\n",
      "(0.01885, 0.02225) (0.00000, 0.00000) (0.00247, 0.00360)\n",
      "(0.20000, 0.23064) (0.20000, 0.29088) (0.00000, 0.00000)\n",
      "\n",
      "Â₃ widths\n",
      "(0.00000, 0.00000) (0.16979, 0.20000) (0.02225, 0.02225)\n",
      "(0.01885, 0.02225) (0.00000, 0.00000) (0.00247, 0.00247)\n",
      "(0.20000, 0.20000) (0.20000, 0.20000) (0.00000, 0.00000)\n",
      "\n",
      "Â₁⁻ ≈ Â₂⁻\n",
      "Â₁⁻ ⊆ Â₃⁻\n",
      "Â₂⁻ ≈ Â₃⁻\n",
      "Â₂⁺ ⊆ Â₁⁺\n",
      "Â₃⁺ ⊆ Â₁⁺\n",
      "Â₃⁺ ⊆ Â₂⁺\n"
     ]
    }
   ],
   "source": [
    "# 1 3 1/3\n",
    "# 1/3 1 1/9\n",
    "# 3 9 1\n",
    "\n",
    "A = [\n",
    "    1..1 2.9..3.1 (1/3.1)..(1/2.9)\n",
    "    (1/3.1)..(1/2.9) 1..1 (1/9.1)..(1/8.9)\n",
    "    2.9..3.1 8.9..9.1 1..1\n",
    "]\n",
    "B = [\n",
    "    1..1 2.9..3.1 (1/3.1)..(1/2.9)\n",
    "    (1/3.1)..(1/2.9) 1..1 (1/9.1)..(1/8.9)\n",
    "    2.9..3.1 8.9..9.1 1..1\n",
    "]\n",
    "\n",
    "run(A, B)"
   ]
  },
  {
   "cell_type": "code",
   "execution_count": 28,
   "id": "e1518680-68d5-4d5e-b248-704dfeeff4f2",
   "metadata": {},
   "outputs": [
    {
     "name": "stdout",
     "output_type": "stream",
     "text": [
      "\n",
      "A\n",
      "[1.000, [1.000, 1.000], 1.000] [0.182, [0.182, 0.196], 0.208] [2.700, [2.700, 2.900], 3.300]\n",
      "[4.800, [5.100, 5.500], 5.500] [1.000, [1.000, 1.000], 1.000] [6.800, [6.900, 7.200], 7.600]\n",
      "[0.303, [0.345, 0.370], 0.370] [0.132, [0.139, 0.145], 0.147] [1.000, [1.000, 1.000], 1.000]\n",
      "\n",
      "Running HiGHS 1.3.0 [date: 1970-01-01, git hash: e5004072b-dirty]\n",
      "Copyright (c) 2022 ERGO-Code under MIT licence terms\n",
      "Presolving model\n",
      "63 rows, 24 cols, 162 nonzeros\n",
      "57 rows, 18 cols, 156 nonzeros\n",
      "Presolve : Reductions: rows 57(-6); columns 18(-6); elements 156(-6)\n",
      "Solving the presolved LP\n",
      "Using EKK dual simplex solver - serial\n",
      "  Iteration        Objective     Infeasibilities num(sum)\n",
      "          0     4.2431131430e-16 Pr: 3(3) 0s\n",
      "         24     3.8867759842e-01 Pr: 0(0) 0s\n",
      "Solving the original LP from the solution after postsolve\n",
      "Model   status      : Optimal\n",
      "Simplex   iterations: 24\n",
      "Objective value     :  3.8867759842e-01\n",
      "HiGHS run time      :          0.00\n",
      "Running HiGHS 1.3.0 [date: 1970-01-01, git hash: e5004072b-dirty]\n",
      "Copyright (c) 2022 ERGO-Code under MIT licence terms\n",
      "Presolving model\n",
      "33 rows, 30 cols, 96 nonzeros\n",
      "33 rows, 30 cols, 96 nonzeros\n",
      "Presolve : Reductions: rows 33(-0); columns 30(-12); elements 96(-0)\n",
      "Solving the presolved LP\n",
      "Using EKK dual simplex solver - serial\n",
      "  Iteration        Objective     Infeasibilities num(sum)\n",
      "          0     5.4916364730e-16 Pr: 3(3) 0s\n",
      "         13     3.8867759842e-01 Pr: 0(0) 0s\n",
      "Solving the original LP from the solution after postsolve\n",
      "Model   status      : Optimal\n",
      "Simplex   iterations: 13\n",
      "Objective value     :  3.8867759842e-01\n",
      "HiGHS run time      :          0.00\n",
      "\n",
      "Optimal Value\n"
     ]
    },
    {
     "data": {
      "text/plain": [
       "0.38867759841734384"
      ]
     },
     "metadata": {},
     "output_type": "display_data"
    },
    {
     "name": "stdout",
     "output_type": "stream",
     "text": [
      "\n",
      "W\n"
     ]
    },
    {
     "data": {
      "text/plain": [
       "3-element Vector{Interval{Float64}}:\n",
       " [0.137369, 0.15395]\n",
       " [0.738955, 0.755535]\n",
       " [0.0994124, 0.107096]"
      ]
     },
     "metadata": {},
     "output_type": "display_data"
    },
    {
     "name": "stdout",
     "output_type": "stream",
     "text": [
      "\n",
      "Optimal Value_Combined\n"
     ]
    },
    {
     "data": {
      "text/plain": [
       "0.38867759841734384"
      ]
     },
     "metadata": {},
     "output_type": "display_data"
    },
    {
     "name": "stdout",
     "output_type": "stream",
     "text": [
      "\n",
      "W_Combined\n"
     ]
    },
    {
     "data": {
      "text/plain": [
       "3-element Vector{Interval{Float64}}:\n",
       " [0.137369, 0.15395]\n",
       " [0.738955, 0.755535]\n",
       " [0.0994124, 0.107096]"
      ]
     },
     "metadata": {},
     "output_type": "display_data"
    },
    {
     "name": "stdout",
     "output_type": "stream",
     "text": [
      "\n",
      "A\n",
      "[1.000, [1.000, 1.000], 1.000] [0.182, [0.182, 0.196], 0.208] [2.700, [2.700, 2.900], 3.300]\n",
      "[4.800, [5.100, 5.500], 5.500] [1.000, [1.000, 1.000], 1.000] [6.800, [6.900, 7.200], 7.600]\n",
      "[0.303, [0.345, 0.370], 0.370] [0.132, [0.139, 0.145], 0.147] [1.000, [1.000, 1.000], 1.000]\n",
      "\n",
      "Â₁\n",
      "[1.000, [1.000, 1.000], 1.000] [0.182,       ∅       , 0.390] [1.283,       ∅       , 5.431]\n",
      "[2.563,       ∅       , 5.500] [1.000, [1.000, 1.000], 1.000] [6.800,       ∅       , 14.232]\n",
      "[0.184,       ∅       , 0.780] [0.070,       ∅       , 0.147] [1.000, [1.000, 1.000], 1.000]\n",
      "\n",
      "Â₂\n",
      "[1.000, [1.000, 1.000], 1.000] [0.182,       ∅       , 0.390] [1.283,       ∅       , 3.300]\n",
      "[2.563,       ∅       , 5.500] [1.000, [1.000, 1.000], 1.000] [6.800,       ∅       , 14.232]\n",
      "[0.303,       ∅       , 0.780] [0.070,       ∅       , 0.147] [1.000, [1.000, 1.000], 1.000]\n",
      "\n",
      "Â₃\n",
      "[1.000, [1.000, 1.000], 1.000] [0.182, [0.182, 0.196], 0.208] [1.283,       ∅       , 3.300]\n",
      "[4.800, [5.100, 5.500], 5.500] [1.000, [1.000, 1.000], 1.000] [6.800, [6.900, 7.200], 7.600]\n",
      "[0.303,       ∅       , 0.780] [0.132, [0.139, 0.145], 0.147] [1.000, [1.000, 1.000], 1.000]\n",
      "\n",
      "Â₁ widths\n",
      "(0.00000, 0.00000) ( undef , 0.20832) ( undef , 4.14806)\n",
      "( undef , 2.93682) (0.00000, 0.00000) ( undef , 7.43231)\n",
      "( undef , 0.59547) ( undef , 0.07680) (0.00000, 0.00000)\n",
      "\n",
      "Â₂ widths\n",
      "(0.00000, 0.00000) ( undef , 0.20832) ( undef , 2.01731)\n",
      "( undef , 2.93682) (0.00000, 0.00000) ( undef , 7.43231)\n",
      "( undef , 0.47658) ( undef , 0.07680) (0.00000, 0.00000)\n",
      "\n",
      "Â₃ widths\n",
      "(0.00000, 0.00000) (0.01426, 0.02652) ( undef , 2.01731)\n",
      "(0.40000, 0.70000) (0.00000, 0.00000) (0.30000, 0.80000)\n",
      "( undef , 0.47658) (0.00604, 0.01548) (0.00000, 0.00000)\n",
      "\n",
      "Â₁⁻ ≈ Â₂⁻\n",
      "Â₂⁺ ⊆ Â₁⁺\n",
      "Â₃⁺ ⊆ Â₁⁺\n"
     ]
    }
   ],
   "source": [
    "# 1 1/5 3\n",
    "# 5 1 7\n",
    "# 1/3 1/7 1\n",
    "\n",
    "A = [\n",
    "    1..1 (1/5.5)..(1/4.8) 2.7..3.3\n",
    "    4.8..5.5 1..1 6.8..7.6\n",
    "    (1/3.3)..(1/2.7) (1/7.6)..(1/6.8) 1..1\n",
    "]\n",
    "B = [\n",
    "    1..1 (1/5.5)..(1/5.1) 2.7..2.9\n",
    "    5.1..5.5 1..1 6.9..7.2\n",
    "    (1/2.9)..(1/2.7) (1/7.2)..(1/6.9) 1..1\n",
    "]\n",
    "\n",
    "run(A, B)"
   ]
  },
  {
   "cell_type": "code",
   "execution_count": null,
   "id": "0adb79b5-4652-44c0-a32e-5dff518544d7",
   "metadata": {},
   "outputs": [],
   "source": []
  }
 ],
 "metadata": {
  "kernelspec": {
   "display_name": "Julia 1.8.2",
   "language": "julia",
   "name": "julia-1.8"
  },
  "language_info": {
   "file_extension": ".jl",
   "mimetype": "application/julia",
   "name": "julia",
   "version": "1.8.2"
  }
 },
 "nbformat": 4,
 "nbformat_minor": 5
}
