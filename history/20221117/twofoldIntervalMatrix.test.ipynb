{
 "cells": [
  {
   "cell_type": "markdown",
   "id": "03b546b3-e234-48cc-9052-879a922c95b8",
   "metadata": {},
   "source": [
    "https://juliaintervals.github.io/IntervalArithmetic.jl/stable/api/"
   ]
  },
  {
   "cell_type": "code",
   "execution_count": 67,
   "id": "acd086ce-742a-4493-a331-7abe3296c70d",
   "metadata": {},
   "outputs": [],
   "source": [
    "using IntervalArithmetic"
   ]
  },
  {
   "cell_type": "code",
   "execution_count": 79,
   "id": "6ae45f35-7c99-45c9-a934-88166cfef5fb",
   "metadata": {},
   "outputs": [
    {
     "data": {
      "text/plain": [
       "showWidths (generic function with 1 method)"
      ]
     },
     "execution_count": 79,
     "metadata": {},
     "output_type": "execute_result"
    }
   ],
   "source": [
    "include(\"twofoldIntervalMatrix.jl\")"
   ]
  },
  {
   "cell_type": "markdown",
   "id": "cfad8678-d713-4ff4-9562-8ad061a4d170",
   "metadata": {},
   "source": [
    "intervalMatrix.jl の `∪` 演算子は次の式の計算を行う\n",
    "$$\n",
    "\\text{conv}\\left( a_1 \\cup a_2 \\right)\n",
    "$$\n",
    "\n",
    "`hull` でも同じ"
   ]
  },
  {
   "cell_type": "code",
   "execution_count": 69,
   "id": "0dd1d792-81e3-4c90-af2d-f8b50973bbfb",
   "metadata": {},
   "outputs": [
    {
     "data": {
      "text/plain": [
       "[1, 6]"
      ]
     },
     "execution_count": 69,
     "metadata": {},
     "output_type": "execute_result"
    }
   ],
   "source": [
    "a₁ = 1..2\n",
    "a₂ = 5..6\n",
    "\n",
    "a₁ ∪ a₂"
   ]
  },
  {
   "cell_type": "markdown",
   "id": "ea257d5c-8b91-40ce-b825-c16e2c8b59c3",
   "metadata": {},
   "source": [
    "区間の幅（ width ）は `diam` で取得できる"
   ]
  },
  {
   "cell_type": "code",
   "execution_count": 70,
   "id": "0588e426-5f22-450f-a910-5f4a74aec9ca",
   "metadata": {},
   "outputs": [
    {
     "data": {
      "text/plain": [
       "1.0"
      ]
     },
     "execution_count": 70,
     "metadata": {},
     "output_type": "execute_result"
    }
   ],
   "source": [
    "diam(a₁)"
   ]
  },
  {
   "cell_type": "markdown",
   "id": "c28ea816-0401-4422-8f25-6cab28e942ec",
   "metadata": {},
   "source": [
    "区間の下限は `Interval{T}.lo` で、上限は `Interval{T}.hi` で取得できる"
   ]
  },
  {
   "cell_type": "code",
   "execution_count": 71,
   "id": "0cd4b2d6-2aeb-4e07-aea8-e2707372c907",
   "metadata": {},
   "outputs": [
    {
     "data": {
      "text/plain": [
       "1.0"
      ]
     },
     "metadata": {},
     "output_type": "display_data"
    },
    {
     "data": {
      "text/plain": [
       "2.0"
      ]
     },
     "metadata": {},
     "output_type": "display_data"
    }
   ],
   "source": [
    "display(a₁.lo)\n",
    "display(a₁.hi)"
   ]
  },
  {
   "cell_type": "code",
   "execution_count": 72,
   "id": "7688d224-10ef-4111-b2ea-088e3f9b924d",
   "metadata": {},
   "outputs": [
    {
     "data": {
      "text/plain": [
       "3×3 Matrix{Interval{Float64}}:\n",
       " [1, 1]        [1, 1]  [1, 2]\n",
       " [1, 1]        [1, 1]      [0.5, 1]\n",
       "     [0.5, 1]  [1, 2]  [1, 1]"
      ]
     },
     "execution_count": 72,
     "metadata": {},
     "output_type": "execute_result"
    }
   ],
   "source": [
    "A = [\n",
    "    1..1 (1/3)..1 1..1\n",
    "    1..3 1..1 1..2\n",
    "    1..1 (1/2)..1 1..1\n",
    "]\n",
    "B = [\n",
    "    1..1 1..1 1..2\n",
    "    1..1 1..1 (1/2)..1\n",
    "    (1/2)..1 1..2 1..1\n",
    "]"
   ]
  },
  {
   "cell_type": "code",
   "execution_count": 73,
   "id": "09859d2d-66ff-4c2f-b95f-7ddfd1eed495",
   "metadata": {},
   "outputs": [
    {
     "data": {
      "text/plain": [
       "3×3 Matrix{Tuple{Interval{Float64}, Interval{Float64}}}:\n",
       " ([1, 1], [1, 1])    ([1, 1], [0.333333, 1])  ([1, 1], [1, 2])\n",
       " ([1, 1], [1, 3])    ([1, 1], [1, 1])         ([1, 1], [0.5, 2])\n",
       " ([1, 1], [0.5, 1])  ([1, 1], [0.5, 2])       ([1, 1], [1, 1])"
      ]
     },
     "execution_count": 73,
     "metadata": {},
     "output_type": "execute_result"
    }
   ],
   "source": [
    "C = generateTwofoldIntervalMatrix(A, B)"
   ]
  },
  {
   "cell_type": "code",
   "execution_count": 74,
   "id": "c2d392e8-6616-4e88-9b07-b2d2409b6cf4",
   "metadata": {},
   "outputs": [
    {
     "data": {
      "text/plain": [
       "true"
      ]
     },
     "execution_count": 74,
     "metadata": {},
     "output_type": "execute_result"
    }
   ],
   "source": [
    "isTwofoldIntervalPCM(C)"
   ]
  },
  {
   "cell_type": "code",
   "execution_count": 75,
   "id": "28fec371-9f11-4aeb-9305-926aea7646ff",
   "metadata": {
    "tags": []
   },
   "outputs": [
    {
     "data": {
      "text/plain": [
       "3×3 Matrix{Tuple{Interval{Float64}, Interval{Float64}}}:\n",
       " ([1, 1], [1, 1])                          …  ([4, 4.5], [3, 5])\n",
       " ([0.666666, 0.833334], [0.5, 1])             ([4.19999, 4.70001], [4, 5])\n",
       " ([0.222222, 0.25], [0.199999, 0.333334])     ([1, 1], [1, 1])"
      ]
     },
     "execution_count": 75,
     "metadata": {},
     "output_type": "execute_result"
    }
   ],
   "source": [
    "D = [\n",
    "    (1..1, 1..1) (1.2..1.5, 1..2) (4..4.5, 3..5)\n",
    "    (0.666666667..0.833333333, 0.5..1) (1..1, 1..1) (4.2..4.7, 4..5)\n",
    "    (0.222222222..0.25, 0.2..0.333333333) (0.212765957..0.238095238, 0.2..0.25) (1..1, 1..1)\n",
    "]"
   ]
  },
  {
   "cell_type": "code",
   "execution_count": 76,
   "id": "7d0c6cc1-aae5-4f7b-837c-d98bdaaed7e9",
   "metadata": {
    "tags": []
   },
   "outputs": [
    {
     "name": "stdout",
     "output_type": "stream",
     "text": [
      "([1.000, 1.000], [1.000, 1.000]) ([1.200, 1.500], [1.000, 2.000]) ([4.000, 4.500], [3.000, 5.000])\n",
      "([0.667, 0.833], [0.500, 1.000]) ([1.000, 1.000], [1.000, 1.000]) ([4.200, 4.700], [4.000, 5.000])\n",
      "([0.222, 0.250], [0.200, 0.333]) ([0.213, 0.238], [0.200, 0.250]) ([1.000, 1.000], [1.000, 1.000])\n"
     ]
    }
   ],
   "source": [
    "showElements(D)"
   ]
  },
  {
   "cell_type": "code",
   "execution_count": 77,
   "id": "80fb67af-cf49-43a8-ae9e-c21e30281e55",
   "metadata": {},
   "outputs": [
    {
     "name": "stdout",
     "output_type": "stream",
     "text": [
      "(0.00000, 0.00000) (0.30000, 1.00000) (0.50000, 2.00000)\n",
      "(0.16667, 0.50000) (0.00000, 0.00000) (0.50000, 1.00000)\n",
      "(0.02778, 0.13333) (0.02533, 0.05000) (0.00000, 0.00000)\n"
     ]
    }
   ],
   "source": [
    "showWidths(D)"
   ]
  },
  {
   "cell_type": "code",
   "execution_count": 83,
   "id": "faca4aae-6919-47fd-b590-e767e1e741fb",
   "metadata": {},
   "outputs": [
    {
     "data": {
      "text/plain": [
       "true"
      ]
     },
     "execution_count": 83,
     "metadata": {},
     "output_type": "execute_result"
    }
   ],
   "source": [
    "nearlyEqualMatrix(C, C)"
   ]
  },
  {
   "cell_type": "code",
   "execution_count": 84,
   "id": "242285d7-c3b2-472a-a697-a2b1a10cbd27",
   "metadata": {},
   "outputs": [
    {
     "data": {
      "text/plain": [
       "false"
      ]
     },
     "execution_count": 84,
     "metadata": {},
     "output_type": "execute_result"
    }
   ],
   "source": [
    "nearlyEqualMatrix(C, D)"
   ]
  },
  {
   "cell_type": "code",
   "execution_count": null,
   "id": "f6600aef-528e-4336-9695-9b6123a05033",
   "metadata": {},
   "outputs": [],
   "source": []
  }
 ],
 "metadata": {
  "kernelspec": {
   "display_name": "Julia 1.8.2",
   "language": "julia",
   "name": "julia-1.8"
  },
  "language_info": {
   "file_extension": ".jl",
   "mimetype": "application/julia",
   "name": "julia",
   "version": "1.8.2"
  }
 },
 "nbformat": 4,
 "nbformat_minor": 5
}
