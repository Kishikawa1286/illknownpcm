{
 "cells": [
  {
   "cell_type": "markdown",
   "id": "fa5cff65-9053-483b-8171-1b08eb3e53ff",
   "metadata": {},
   "source": [
    "https://jump.dev/JuMP.jl/stable/tutorials/linear/introduction/"
   ]
  },
  {
   "cell_type": "code",
   "execution_count": 1,
   "id": "37e141d4-c8a9-4497-85e4-2767e4898ace",
   "metadata": {},
   "outputs": [],
   "source": [
    "using IntervalArithmetic"
   ]
  },
  {
   "cell_type": "code",
   "execution_count": 2,
   "id": "94e9c97b-2191-4068-a0b1-1c23e85fb467",
   "metadata": {},
   "outputs": [
    {
     "data": {
      "text/plain": [
       "updatePCM_CBA_2 (generic function with 1 method)"
      ]
     },
     "execution_count": 2,
     "metadata": {},
     "output_type": "execute_result"
    }
   ],
   "source": [
    "include(\"cba.jl\")"
   ]
  },
  {
   "cell_type": "code",
   "execution_count": 3,
   "id": "1b40a1c0-8ad6-4bac-b64a-90d20b9e6011",
   "metadata": {},
   "outputs": [
    {
     "data": {
      "text/plain": [
       "updatePCM_CBA_Combined (generic function with 1 method)"
      ]
     },
     "execution_count": 3,
     "metadata": {},
     "output_type": "execute_result"
    }
   ],
   "source": [
    "include(\"cbaCombined.jl\")"
   ]
  },
  {
   "cell_type": "code",
   "execution_count": 4,
   "id": "529ea22b-8410-427b-a7d0-7fa94ae06269",
   "metadata": {},
   "outputs": [
    {
     "name": "stdout",
     "output_type": "stream",
     "text": [
      "[1.000, [1.000, 1.000], 1.000] [1.000, [1.200, 1.500], 2.000] [3.000, [4.000, 4.500], 5.000]\n",
      "[0.500, [0.667, 0.833], 1.000] [1.000, [1.000, 1.000], 1.000] [4.000, [4.200, 4.700], 5.000]\n",
      "[0.200, [0.222, 0.250], 0.333] [0.200, [0.213, 0.238], 0.250] [1.000, [1.000, 1.000], 1.000]\n"
     ]
    }
   ],
   "source": [
    "A = [\n",
    "    (1..1, 1..1) (1.2..1.5, 1..2) (4..4.5, 3..5)\n",
    "    (0.666666667..0.833333333, 0.5..1) (1..1, 1..1) (4.2..4.7, 4..5)\n",
    "    (0.222222222..0.25, 0.2..0.333333333) (0.212765957..0.238095238, 0.2..0.25) (1..1, 1..1)\n",
    "]\n",
    "m, n = size(A)\n",
    "showElements2(A)"
   ]
  },
  {
   "cell_type": "markdown",
   "id": "98015319-8da1-4d69-984c-04f7d4f55873",
   "metadata": {},
   "source": [
    "### LP 1\n",
    "$$\n",
    "\\begin{align*}\n",
    "    \\text{minimize} ~~\n",
    "    & \\sum_{i \\in N} \\left( \\varepsilon_i^\\text{L} + \\varepsilon_i^\\text{U} \\right), \\\\\n",
    "    \\text{subject to} ~~\n",
    "    & a_{ij}^{\\text{L}+}w_j^\\text{U} - \\varepsilon_i^\\text{L} \\leq\n",
    "    w_i^\\text{L} \\leq\n",
    "    a_{ij}^{\\text{L}-}w_j^\\text{U} + \\varepsilon_i^\\text{L}, ~~ i, j \\in N, ~~ i \\not= j, \\\\\n",
    "    & a_{ij}^{\\text{U}-}w_j^\\text{L} - \\varepsilon_i^\\text{U} \\leq\n",
    "    w_i^\\text{U} \\leq\n",
    "    a_{ij}^{\\text{U}+}w_j^\\text{L} + \\varepsilon_i^\\text{U}, ~~ i, j \\in N, ~~ i \\not= j, \\\\\n",
    "    & \\varepsilon_i^\\text{L} \\geq w_i^{\\text{L}+} - w_i^{\\text{L}-}, ~~\n",
    "    \\varepsilon_i^\\text{U} \\geq w_i^{\\text{U}-} - w_i^{\\text{U}+}, ~~ i \\in N, \\\\\n",
    "    & w_i^{\\text{L}-} \\leq a_{ij}^{\\text{L}-}w_j^\\text{U}, ~~\n",
    "    w_i^{\\text{L}+} \\geq a_{ij}^{\\text{L}+}w_j^\\text{U}, ~~ i, j \\in N, ~~ i \\not= j, \\\\\n",
    "    & w_i^{\\text{U}-} \\geq a_{ij}^{\\text{U}-}w_j^\\text{L}, ~~\n",
    "    w_i^{\\text{U}+} \\leq a_{ij}^{\\text{U}+}w_j^\\text{L}, ~~ i, j \\in N, ~~ i \\not= j, \\\\\n",
    "    & \\sum_{i \\in N\\backslash\\{ j \\}} w_i^\\text{U} + w_j^\\text{L} \\geq 1, ~~\n",
    "    \\sum_{i \\in N\\backslash\\{ j \\}} w_i^\\text{L} + w_j^\\text{U} \\leq 1, ~~ j \\in N, \\\\\n",
    "    & w_i^\\text{U} \\geq w_i^\\text{L} \\geq \\epsilon, ~~ i \\in N, ~~\n",
    "    w_i^{\\text{L}+}, w_i^{\\text{L}-}, \\varepsilon_i^\\text{L},\n",
    "    w_i^{\\text{U}-}, w_i^{\\text{U}+}, \\varepsilon_i^\\text{U} \\geq 0, ~~ i \\in N\n",
    "\\end{align*}\n",
    "$$"
   ]
  },
  {
   "cell_type": "code",
   "execution_count": 5,
   "id": "830cbe85-9edc-4495-bff9-fb8a31b466fb",
   "metadata": {},
   "outputs": [
    {
     "name": "stdout",
     "output_type": "stream",
     "text": [
      "Running HiGHS 1.3.0 [date: 1970-01-01, git hash: e5004072b-dirty]\n",
      "Copyright (c) 2022 ERGO-Code under MIT licence terms\n",
      "Presolving model\n",
      "63 rows, 24 cols, 162 nonzeros\n",
      "57 rows, 18 cols, 156 nonzeros\n",
      "Presolve : Reductions: rows 57(-6); columns 18(-6); elements 156(-6)\n",
      "Solving the presolved LP\n",
      "Using EKK dual simplex solver - serial\n",
      "  Iteration        Objective     Infeasibilities num(sum)\n",
      "          0     4.2885698801e-16 Pr: 3(3) 0s\n",
      "         25     1.8008424238e-01 Pr: 0(0) 0s\n",
      "Solving the original LP from the solution after postsolve\n",
      "Model   status      : Optimal\n",
      "Simplex   iterations: 25\n",
      "Objective value     :  1.8008424238e-01\n",
      "HiGHS run time      :          0.00\n",
      "  9.175854 seconds (17.79 M allocations: 1.037 GiB, 4.53% gc time, 99.78% compilation time)\n"
     ]
    },
    {
     "data": {
      "text/plain": [
       "([0.5329949238578681, 0.4467005076142132, 0.1116751269035533], [0.4467005076142132, 0.3553299492385787, 0.10659898477157362], [0.4467005076142132, 0.4467005076142132, 0.1065989847715736], [0.4467005076142132, 0.3553299494162437, 0.09504266099492385], [-0.0, 0.09137055819796952, 0.011556323776649752], [0.5329949238578681, 0.501015228426396, 0.1116751269035533], [0.5329949238578681, 0.4467005076142132, 0.08883248730964467], [-0.0, 0.054314720812182804, 0.02284263959390863], 0.1800842423807107)"
      ]
     },
     "execution_count": 5,
     "metadata": {},
     "output_type": "execute_result"
    }
   ],
   "source": [
    "lpResult = @time solveLP_CBA(A)"
   ]
  },
  {
   "cell_type": "markdown",
   "id": "579d652a-2c8a-4449-9854-8e126fe20af7",
   "metadata": {},
   "source": [
    "### 手法1\n",
    "LP 1を解いた後、次の方法でPCM $A$ を $\\hat{A}$ に更新する．\n",
    "$$\n",
    "\\hat{a}_{ij}^{\\text{L}-} = \\max\\left( a_{ij}^{\\text{L}-}, \\frac{w_i^{\\text{L}-} + \\varepsilon_i^\\text{L}}{w_j^{\\text{U}-} - \\varepsilon_j^\\text{U}} \\right), ~~\n",
    "i, j \\in N, ~~ i \\not= j, \\\\\n",
    "\\hat{a}_{ij}^{\\text{U}-} = \\min\\left( a_{ij}^{\\text{U}-}, \\frac{w_i^{\\text{U}-} - \\varepsilon_i^\\text{U}}{w_j^{\\text{L}-} + \\varepsilon_j^\\text{L}} \\right), ~~\n",
    "i, j \\in N, ~~ i \\not= j, \\\\\n",
    "\\hat{a}_{ij}^{\\text{L}+} = \\min\\left( a_{ij}^{\\text{L}+}, \\frac{w_i^{\\text{L}+} - \\varepsilon_i^\\text{L}}{w_j^{\\text{U}+} + \\varepsilon_j^\\text{U}} \\right), ~~\n",
    "i, j \\in N, ~~ i \\not= j, \\\\\n",
    "\\hat{a}_{ij}^{\\text{U}+} = \\max\\left( a_{ij}^{\\text{U}+}, \\frac{w_i^{\\text{U}+} + \\varepsilon_i^\\text{U}}{w_j^{\\text{L}+} - \\varepsilon_j^\\text{L}} \\right), ~~\n",
    "i, j \\in N, ~~ i \\not= j \\\\\n",
    "$$"
   ]
  },
  {
   "cell_type": "code",
   "execution_count": 6,
   "id": "445ea5cf-27db-4db8-88a3-20cad69cba74",
   "metadata": {},
   "outputs": [
    {
     "name": "stdout",
     "output_type": "stream",
     "text": [
      "Â₁\n",
      "[1.000, [1.000, 1.000], 1.000] [0.892,       ∅       , 2.000] [3.000,       ∅       , 5.608]\n",
      "[0.500,       ∅       , 1.122] [1.000, [1.000, 1.000], 1.000] [3.182,       ∅       , 5.271]\n",
      "[0.178,       ∅       , 0.333] [0.190,       ∅       , 0.314] [1.000, [1.000, 1.000], 1.000]\n"
     ]
    }
   ],
   "source": [
    "Â₁ = updatePCM_CBA_1(A, lpResult)\n",
    "println(\"Â₁\")\n",
    "showElements2(Â₁)"
   ]
  },
  {
   "cell_type": "code",
   "execution_count": 7,
   "id": "f78ceff4-03d4-426f-b3ea-13fb8bbea6cd",
   "metadata": {},
   "outputs": [
    {
     "name": "stdout",
     "output_type": "stream",
     "text": [
      "W\n"
     ]
    },
    {
     "data": {
      "text/plain": [
       "3-element Vector{Interval{Float64}}:\n",
       " [0.4467, 0.532995]\n",
       " [0.355329, 0.446701]\n",
       " [0.106598, 0.111676]"
      ]
     },
     "execution_count": 7,
     "metadata": {},
     "output_type": "execute_result"
    }
   ],
   "source": [
    "println(\"W\")\n",
    "map(i -> lpResult[2][i]..lpResult[1][i], 1:n)"
   ]
  },
  {
   "cell_type": "markdown",
   "id": "4ab30a6b-13b0-4d8e-be2d-3c2bd742086e",
   "metadata": {},
   "source": [
    "### 手法2\n",
    "LP 1を解いた後、次の方法でPCM $A$ を $\\hat{A}$ に更新する．\n",
    "$$\n",
    "\\hat{a}_{ij}^{\\text{L}-} = \\max\\left( a_{ij}^{\\text{L}-}, \\frac{w_i^{\\text{L}+}}{w_j^\\text{U}}, \\frac{w_i^\\text{L}}{w_j^{\\text{U}+}} \\right), ~~\n",
    "i, j \\in N, ~~ i \\not= j, \\\\\n",
    "\\hat{a}_{ij}^{\\text{U}-} = \\min\\left( a_{ij}^{\\text{U}-}, \\frac{w_i^{\\text{U}+}}{w_j^\\text{L}}, \\frac{w_i^\\text{U}}{w_j^{\\text{L}+}} \\right), ~~\n",
    "i, j \\in N, ~~ i \\not= j, \\\\\n",
    "\\hat{a}_{ij}^{\\text{L}+} = \\min\\left( a_{ij}^{\\text{L}+}, \\frac{w_i^{\\text{L}-}}{w_j^\\text{U}}, \\frac{w_i^\\text{L}}{w_j^{\\text{U}-}} \\right), ~~\n",
    "i, j \\in N, ~~ i \\not= j, \\\\\n",
    "\\hat{a}_{ij}^{\\text{U}+} = \\max\\left( a_{ij}^{\\text{U}+}, \\frac{w_i^{\\text{U}-}}{w_j^\\text{L}}, \\frac{w_i^\\text{U}}{w_j^{\\text{L}-}} \\right), ~~\n",
    "i, j \\in N, ~~ i \\not= j \\\\\n",
    "$$"
   ]
  },
  {
   "cell_type": "code",
   "execution_count": 8,
   "id": "5710bc67-588e-4128-b4a2-d0c743f385cc",
   "metadata": {},
   "outputs": [
    {
     "name": "stdout",
     "output_type": "stream",
     "text": [
      "Â₂\n",
      "([1.000, 1.000], [1.000, 1.000]) (      ∅       , [0.892, 2.000]) (      ∅       , [3.000, 5.608])\n",
      "(      ∅       , [0.500, 1.122]) ([1.000, 1.000], [1.000, 1.000]) (      ∅       , [3.182, 5.000])\n",
      "(      ∅       , [0.178, 0.333]) (      ∅       , [0.200, 0.314]) ([1.000, 1.000], [1.000, 1.000])\n"
     ]
    }
   ],
   "source": [
    "Â₂ = updatePCM_CBA_2(A, lpResult)\n",
    "println(\"Â₂\")\n",
    "showElements(Â₂)"
   ]
  },
  {
   "cell_type": "markdown",
   "id": "e4e07551-8e04-4860-b4f1-3d2428daa700",
   "metadata": {},
   "source": [
    "### LP Combined\n",
    "$$\n",
    "\\begin{align*}\n",
    "    \\text{minimize} ~~\n",
    "    & \\sum_{i, j \\in N, ~ i \\not= j} \\left( \\varepsilon_{ij}^{\\text{L}-} + \\varepsilon_{ij}^{\\text{U}-} +\n",
    "    \\varepsilon_{ij}^{\\text{L}+} + \\varepsilon_{ij}^{\\text{U}+} \\right), \\\\\n",
    "    \\text{subject to} ~~\n",
    "    & a_{ij}^{\\text{L}+} w_j^\\text{U} - \\varepsilon_{ij}^{\\text{L}+} \\leq w_i^\\text{L} \\leq\n",
    "    a_{ij}^{\\text{L}-} w_j^\\text{U} + \\varepsilon_{ij}^{\\text{L}-}, ~~\n",
    "    i, j \\in N, ~~ i \\not= j, \\\\\n",
    "    & a_{ij}^{\\text{U}-} w_j^\\text{L} - \\varepsilon_{ij}^{\\text{U}-} \\leq w_i^\\text{U} \\leq\n",
    "    a_{ij}^{\\text{U}+} w_j^\\text{L} + \\varepsilon_{ij}^{\\text{U}+}, ~~\n",
    "    i, j \\in N, ~~ i \\not= j, \\\\\n",
    "    & \\sum_{j \\in N\\backslash\\{ j \\}} w_j^\\text{U} + w_i^\\text{L} \\geq 1, ~~\n",
    "    \\sum_{j \\in N\\backslash\\{ j \\}} w_j^\\text{L} + w_i^\\text{U} \\leq 1, ~~ i \\in N, \\\\\n",
    "    & w_i^\\text{U} \\geq w_i^\\text{L} \\geq \\epsilon, ~~ i \\in N, ~~\n",
    "    \\varepsilon_{ij}^{\\text{L}-}, \\varepsilon_{ij}^{\\text{U}-}, \\varepsilon_{ij}^{\\text{L}+}, \\varepsilon_{ij}^{\\text{U}+} \\geq 0, ~~\n",
    "    i, j \\in N, ~~ i \\not= j\n",
    "\\end{align*}\n",
    "$$"
   ]
  },
  {
   "cell_type": "code",
   "execution_count": 9,
   "id": "a459dd75-cb8b-47b1-ba3e-0107900a7ac9",
   "metadata": {},
   "outputs": [
    {
     "name": "stdout",
     "output_type": "stream",
     "text": [
      "Running HiGHS 1.3.0 [date: 1970-01-01, git hash: e5004072b-dirty]\n",
      "Copyright (c) 2022 ERGO-Code under MIT licence terms\n",
      "Presolving model\n",
      "33 rows, 30 cols, 96 nonzeros\n",
      "33 rows, 30 cols, 96 nonzeros\n",
      "Presolve : Reductions: rows 33(-0); columns 30(-12); elements 96(-0)\n",
      "Solving the presolved LP\n",
      "Using EKK dual simplex solver - serial\n",
      "  Iteration        Objective     Infeasibilities num(sum)\n",
      "          0     4.1040116848e-16 Pr: 3(3) 0s\n",
      "         16     1.8008424238e-01 Pr: 0(0) 0s\n",
      "Solving the original LP from the solution after postsolve\n",
      "Model   status      : Optimal\n",
      "Simplex   iterations: 16\n",
      "Objective value     :  1.8008424238e-01\n",
      "HiGHS run time      :          0.00\n",
      "  0.678414 seconds (1.27 M allocations: 65.387 MiB, 3.48% gc time, 99.77% compilation time)\n"
     ]
    },
    {
     "data": {
      "text/plain": [
       "([0.5329949238578681, 0.4467005076142132, 0.1116751269035533], [0.4467005076142132, 0.3553299492385787, 0.1065989847715736], [0.0 0.0 -0.0; -1.7766499382787515e-10 0.0 0.0; 0.0 0.011556323776649752 0.0], [0.0 0.0 0.0; 0.0 0.0 0.054314720812182804; 0.0 0.0 0.0], [0.0 -0.0 0.0; 0.0 0.0 0.09137055837563451; 0.0 0.0 0.0], [0.0 0.0 -0.0; 0.0 0.0 0.0; 0.0 0.02284263959390863 0.0], 0.1800842423807107)"
      ]
     },
     "execution_count": 9,
     "metadata": {},
     "output_type": "execute_result"
    }
   ],
   "source": [
    "lpResult_Combined = @time solveLP_CBA_Combined(A)"
   ]
  },
  {
   "cell_type": "code",
   "execution_count": 10,
   "id": "c77aeb07-3a3b-49d7-9719-ae285ce7d9e5",
   "metadata": {},
   "outputs": [
    {
     "name": "stdout",
     "output_type": "stream",
     "text": [
      "W\n"
     ]
    },
    {
     "data": {
      "text/plain": [
       "3-element Vector{Interval{Float64}}:\n",
       " [0.4467, 0.532995]\n",
       " [0.355329, 0.446701]\n",
       " [0.106598, 0.111676]"
      ]
     },
     "execution_count": 10,
     "metadata": {},
     "output_type": "execute_result"
    }
   ],
   "source": [
    "println(\"W\")\n",
    "map(i -> lpResult_Combined[2][i]..lpResult_Combined[1][i], 1:n)"
   ]
  },
  {
   "cell_type": "markdown",
   "id": "0248a6c1-8dca-4807-9d4d-2102411ae934",
   "metadata": {},
   "source": [
    "LP Combinedを解いた後、次の方法でPCM $A$ を $\\hat{A}$ に更新する．\n",
    "$$\n",
    "\\hat{a}_{ij}^{\\text{L}-} = \\max\\left( a_{ij}^{\\text{L}-} + \\frac{\\varepsilon_{ij}^{\\text{L}-}}{w_j^\\text{U}}, ~~\n",
    "\\left( a_{ji}^{\\text{U}-} - \\frac{\\varepsilon_{ji}^{\\text{U}-}}{w_i^\\text{L}} \\right)^{-1} \\right), ~~\n",
    "i, j \\in N, ~~ i \\not= j, \\\\\n",
    "\\hat{a}_{ij}^{\\text{U}-} = \\min\\left( a_{ij}^{\\text{U}-} - \\frac{\\varepsilon_{ij}^{\\text{U}-}}{w_j^\\text{L}}, ~~\n",
    "\\left( a_{ji}^{\\text{L}-} + \\frac{\\varepsilon_{ji}^{\\text{L}-}}{w_i^\\text{U}} \\right)^{-1} \\right), ~~\n",
    "i, j \\in N, ~~ i \\not= j, \\\\\n",
    "\\hat{a}_{ij}^{\\text{L}+} = \\min\\left( a_{ij}^{\\text{L}+} - \\frac{\\varepsilon_{ij}^{\\text{L}+}}{w_j^\\text{U}}, ~~\n",
    "\\left( a_{ji}^{\\text{U}+} + \\frac{\\varepsilon_{ji}^{\\text{U}+}}{w_i^\\text{L}} \\right)^{-1} \\right), ~~\n",
    "i, j \\in N, ~~ i \\not= j, \\\\\n",
    "\\hat{a}_{ij}^{\\text{U}+} = \\max\\left( a_{ij}^{\\text{U}+} + \\frac{\\varepsilon_{ij}^{\\text{U}+}}{w_j^\\text{U}}, ~~\n",
    "\\left( a_{ji}^{\\text{L}+} - \\frac{\\varepsilon_{ji}^{\\text{L}+}}{w_i^\\text{U}} \\right)^{-1} \\right), ~~\n",
    "i, j \\in N, ~~ i \\not= j, \\\\\n",
    "$$"
   ]
  },
  {
   "cell_type": "code",
   "execution_count": 11,
   "id": "406afd05-94c6-4a4c-a23e-d402651d1634",
   "metadata": {},
   "outputs": [
    {
     "name": "stdout",
     "output_type": "stream",
     "text": [
      "Â₃\n",
      "([1.000, 1.000], [1.000, 1.000]) ([1.200, 1.500], [1.000, 2.000]) ([4.000, 4.500], [3.000, 5.000])\n",
      "([0.667, 0.833], [0.500, 1.000]) ([1.000, 1.000], [1.000, 1.000]) (      ∅       , [3.182, 5.000])\n",
      "([0.222, 0.250], [0.200, 0.333]) (      ∅       , [0.200, 0.314]) ([1.000, 1.000], [1.000, 1.000])\n"
     ]
    }
   ],
   "source": [
    "Â₃ = updatePCM_CBA_Combined(A, lpResult_Combined)\n",
    "println(\"Â₃\")\n",
    "showElements(Â₃)"
   ]
  },
  {
   "cell_type": "code",
   "execution_count": 12,
   "id": "da96a8f8-feb2-428a-ab81-de70649080d2",
   "metadata": {},
   "outputs": [
    {
     "name": "stdout",
     "output_type": "stream",
     "text": [
      "Â₁\n",
      "([1.000, 1.000], [1.000, 1.000]) (      ∅       , [0.892, 2.000]) (      ∅       , [3.000, 5.608])\n",
      "(      ∅       , [0.500, 1.122]) ([1.000, 1.000], [1.000, 1.000]) (      ∅       , [3.182, 5.271])\n",
      "(      ∅       , [0.178, 0.333]) (      ∅       , [0.190, 0.314]) ([1.000, 1.000], [1.000, 1.000])\n",
      "\n",
      "Â₂\n",
      "([1.000, 1.000], [1.000, 1.000]) (      ∅       , [0.892, 2.000]) (      ∅       , [3.000, 5.608])\n",
      "(      ∅       , [0.500, 1.122]) ([1.000, 1.000], [1.000, 1.000]) (      ∅       , [3.182, 5.000])\n",
      "(      ∅       , [0.178, 0.333]) (      ∅       , [0.200, 0.314]) ([1.000, 1.000], [1.000, 1.000])\n",
      "\n",
      "Â₃\n",
      "([1.000, 1.000], [1.000, 1.000]) ([1.200, 1.500], [1.000, 2.000]) ([4.000, 4.500], [3.000, 5.000])\n",
      "([0.667, 0.833], [0.500, 1.000]) ([1.000, 1.000], [1.000, 1.000]) (      ∅       , [3.182, 5.000])\n",
      "([0.222, 0.250], [0.200, 0.333]) (      ∅       , [0.200, 0.314]) ([1.000, 1.000], [1.000, 1.000])\n"
     ]
    }
   ],
   "source": [
    "println(\"Â₁\")\n",
    "showElements(Â₁)\n",
    "println(\"\\nÂ₂\")\n",
    "showElements(Â₂)\n",
    "println(\"\\nÂ₃\")\n",
    "showElements(Â₃)"
   ]
  },
  {
   "cell_type": "code",
   "execution_count": 13,
   "id": "f7d638e4-81f6-4095-bbd5-540fbb52b420",
   "metadata": {},
   "outputs": [
    {
     "name": "stdout",
     "output_type": "stream",
     "text": [
      "Â₁\n",
      "[1.000, [1.000, 1.000], 1.000] [0.892,       ∅       , 2.000] [3.000,       ∅       , 5.608]\n",
      "[0.500,       ∅       , 1.122] [1.000, [1.000, 1.000], 1.000] [3.182,       ∅       , 5.271]\n",
      "[0.178,       ∅       , 0.333] [0.190,       ∅       , 0.314] [1.000, [1.000, 1.000], 1.000]\n",
      "\n",
      "Â₂\n",
      "[1.000, [1.000, 1.000], 1.000] [0.892,       ∅       , 2.000] [3.000,       ∅       , 5.608]\n",
      "[0.500,       ∅       , 1.122] [1.000, [1.000, 1.000], 1.000] [3.182,       ∅       , 5.000]\n",
      "[0.178,       ∅       , 0.333] [0.200,       ∅       , 0.314] [1.000, [1.000, 1.000], 1.000]\n",
      "\n",
      "Â₃\n",
      "[1.000, [1.000, 1.000], 1.000] [1.000, [1.200, 1.500], 2.000] [3.000, [4.000, 4.500], 5.000]\n",
      "[0.500, [0.667, 0.833], 1.000] [1.000, [1.000, 1.000], 1.000] [3.182,       ∅       , 5.000]\n",
      "[0.200, [0.222, 0.250], 0.333] [0.200,       ∅       , 0.314] [1.000, [1.000, 1.000], 1.000]\n"
     ]
    }
   ],
   "source": [
    "println(\"Â₁\")\n",
    "showElements2(Â₁)\n",
    "println(\"\\nÂ₂\")\n",
    "showElements2(Â₂)\n",
    "println(\"\\nÂ₃\")\n",
    "showElements2(Â₃)"
   ]
  },
  {
   "cell_type": "code",
   "execution_count": 14,
   "id": "407952be-e777-4cc0-97b4-d395546c9906",
   "metadata": {},
   "outputs": [
    {
     "name": "stdout",
     "output_type": "stream",
     "text": [
      "Â₁\n",
      "(0.00000, 0.00000) ( undef , 1.10841) ( undef , 2.60795)\n",
      "( undef , 0.62159) (0.00000, 0.00000) ( undef , 2.08966)\n",
      "( undef , 0.15502) ( undef , 0.12459) (0.00000, 0.00000)\n",
      "\n",
      "Â₂\n",
      "(0.00000, 0.00000) ( undef , 1.10841) ( undef , 2.60795)\n",
      "( undef , 0.62159) (0.00000, 0.00000) ( undef , 1.81818)\n",
      "( undef , 0.15502) ( undef , 0.11429) (0.00000, 0.00000)\n",
      "\n",
      "Â₃\n",
      "(0.00000, 0.00000) (0.30000, 1.00000) (0.50000, 2.00000)\n",
      "(0.16667, 0.50000) (0.00000, 0.00000) ( undef , 1.81818)\n",
      "(0.02778, 0.13333) ( undef , 0.11429) (0.00000, 0.00000)\n"
     ]
    }
   ],
   "source": [
    "println(\"Â₁\")\n",
    "showWidths(Â₁)\n",
    "println(\"\\nÂ₂\")\n",
    "showWidths(Â₂)\n",
    "println(\"\\nÂ₃\")\n",
    "showWidths(Â₃)"
   ]
  },
  {
   "cell_type": "code",
   "execution_count": null,
   "id": "dede0de5-9f0f-4ff7-872f-5811b200ca80",
   "metadata": {},
   "outputs": [],
   "source": []
  }
 ],
 "metadata": {
  "kernelspec": {
   "display_name": "Julia 1.8.2",
   "language": "julia",
   "name": "julia-1.8"
  },
  "language_info": {
   "file_extension": ".jl",
   "mimetype": "application/julia",
   "name": "julia",
   "version": "1.8.2"
  }
 },
 "nbformat": 4,
 "nbformat_minor": 5
}
