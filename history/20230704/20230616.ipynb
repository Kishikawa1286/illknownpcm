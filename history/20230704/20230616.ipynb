{
 "cells": [
  {
   "attachments": {},
   "cell_type": "markdown",
   "metadata": {},
   "source": [
    "## 2023/06/16"
   ]
  },
  {
   "cell_type": "code",
   "execution_count": 18,
   "metadata": {},
   "outputs": [],
   "source": [
    "using IntervalArithmetic\n",
    "using Random\n",
    "using Distributions"
   ]
  },
  {
   "cell_type": "code",
   "execution_count": 52,
   "metadata": {},
   "outputs": [],
   "source": [
    "include(\"./method1/index.jl\")\n",
    "include(\"./method2/index.jl\")\n",
    "include(\"./method3/index.jl\")\n",
    "include(\"./method4/index.jl\")\n",
    "include(\"./intervalPCM/index.jl\")\n",
    "include(\"./twofoldInterval/index.jl\")\n",
    "include(\"./twofoldIntervalPCM/index.jl\")\n",
    "include(\"./utils.jl\")\n",
    "\n",
    "print()"
   ]
  },
  {
   "attachments": {},
   "cell_type": "markdown",
   "metadata": {},
   "source": [
    "## PCM の生成法\n",
    "\n",
    "$n$: 基準/代替案数\n",
    "\n",
    "$N = \\left\\{ 1, 2, \\dots, n \\right\\}$\n",
    "\n",
    "$r_{\\max}$: 区間 PCM $A_k$ の各成分の幅を定めるときのパラメータ\n",
    "\n",
    "crisp PCM $A = \\left( a_{ij} \\right)_{n \\times n}$ を与える.\n",
    "\n",
    "$\\mathrm{DM}_k$ の区間 PCM $A_k = \\left( A_{kij} \\right)_{n \\times n} = \\left( \\left[ a_{kij}^\\mathrm{L}, a_{kij}^\\mathrm{U} \\right] \\right)_{n \\times n}$ を次のように与える.\n",
    "\n",
    "$$\n",
    "\\begin{align}\n",
    "a_{kij}^\\mathrm{L} & = a_{ij} \\exp \\left( -r_{kij}^\\mathrm{L} \\right), \\quad\n",
    "a_{kij}^\\mathrm{U} & = a_{ij} \\exp \\left( r_{kij}^\\mathrm{U} \\right), \\quad\n",
    "i, j \\in N, ~~ i < j.\n",
    "\\end{align}\n",
    "$$\n",
    "ただし, $r_{kij}^\\mathrm{L}, r_{kij}^\\mathrm{U} ~ (k \\in \\{ 1,2 \\}, ~~ i, j \\in N, ~ i < j)$ は $0$ から $r_{\\max}$ の一様分布に従う独立同分布 (i.i.d.) である.\n",
    "\n",
    "$i > j$ の成分は $A_{kij} = \\left[ \\frac{1}{a_{kij}^\\mathrm{U}}, \\frac{1}{a_{kij}^\\mathrm{L}} \\right]$ とする.\n",
    "\n",
    "$a_{ij} \\in \\bigcap_k A_{kij}$ であること (すべての成分で共通部分が存在すること) が保証されている."
   ]
  },
  {
   "cell_type": "code",
   "execution_count": 30,
   "metadata": {},
   "outputs": [
    {
     "data": {
      "text/plain": [
       "generateIPCMs (generic function with 2 methods)"
      ]
     },
     "metadata": {},
     "output_type": "display_data"
    }
   ],
   "source": [
    "@inline function randamizedIntervalPCM(\n",
    "    A::Matrix{T},\n",
    "    λ::T,\n",
    "    seed::Integer=1,\n",
    "    )::Matrix{Interval{T}} where {T <: Real}\n",
    "    Random.seed!(abs(seed)) # fix seed\n",
    "\n",
    "    m, n = size(A)\n",
    "    if m != n\n",
    "        throw(ArgumentError(\"matrix A must be square.\"))\n",
    "    end\n",
    "\n",
    "    Aₖ = fill(1..1, (n, n))\n",
    "\n",
    "    for i = 1:n\n",
    "        for j = i:n\n",
    "            if i == j continue end\n",
    "            rₖᵢⱼᴸ = rand(Uniform(0, λ))\n",
    "            rₖᵢⱼᵁ = rand(Uniform(0, λ))\n",
    "            aₖᵢⱼᴸ = A[i,j] * exp(-rₖᵢⱼᴸ)\n",
    "            aₖᵢⱼᵁ = A[i,j] * exp(rₖᵢⱼᵁ)\n",
    "            Aₖ[i,j] = aₖᵢⱼᴸ..aₖᵢⱼᵁ\n",
    "        end\n",
    "    end\n",
    "\n",
    "    for i = 1:n\n",
    "        for j = 1:i\n",
    "            if i == j continue end\n",
    "            Aₖ[i,j] = 1/Aₖ[j,i]\n",
    "        end\n",
    "    end\n",
    "\n",
    "    return Aₖ\n",
    "end\n",
    "\n",
    "function generateIPCMs(\n",
    "    A::Matrix{T},\n",
    "    λ::T,\n",
    "    m::Integer, # Number of DMs\n",
    "    length::Integer,\n",
    "    seed::Integer=1\n",
    "    )::Matrix{Matrix{Interval{T}}} where {T <: Real}\n",
    "    Random.seed!(abs(seed)) # Fix seed to generate seeds to generate interval PCMs\n",
    "    seeds = rand(UInt, (length, 2))\n",
    "    return map(s -> randamizedIntervalPCM(A, λ, s), seeds)\n",
    "end"
   ]
  },
  {
   "cell_type": "code",
   "execution_count": 31,
   "metadata": {},
   "outputs": [
    {
     "data": {
      "text/plain": [
       "runMethods (generic function with 1 method)"
      ]
     },
     "metadata": {},
     "output_type": "display_data"
    }
   ],
   "source": [
    "function runMethods(\n",
    "    array_PCMs::Matrix{Matrix{Interval{T}}}\n",
    "    )::Matrix{Matrix{TwofoldInterval{T}}} where {T <: Real}\n",
    "    n, m = size(array_PCMs)\n",
    "    \n",
    "    results = Matrix{Matrix{TwofoldInterval{T}}}(undef, n, 4)\n",
    "\n",
    "    for i in 1:n\n",
    "        results[i, 1] = method1(array_PCMs[i, 1], array_PCMs[i, 2])\n",
    "        results[i, 2] = method2(array_PCMs[i, 1], array_PCMs[i, 2])\n",
    "        results[i, 3] = method3(array_PCMs[i, 1], array_PCMs[i, 2])\n",
    "        results[i, 4] = method4(array_PCMs[i, 1], array_PCMs[i, 2])\n",
    "    end\n",
    "\n",
    "    return results\n",
    "end"
   ]
  },
  {
   "cell_type": "code",
   "execution_count": 55,
   "metadata": {},
   "outputs": [],
   "source": [
    "A = [\n",
    "    1 2 3 10\n",
    "    1/2 1 3 8\n",
    "    1/3 1/3 1 3\n",
    "    1/10 1/8 1/3 1\n",
    "]\n",
    "\n",
    "len = 10\n",
    "m = 2\n",
    "\n",
    "array_Aₖ = generateIPCMs(A, 1.0, m, len, 1) # Generate k-th DM's interval PCM Aₖ\n",
    "array_Ãₖ = generateRevisedMatrix.(array_Aₖ) # Generate k-th DM's twofold interval PCM Ãₖ\n",
    "array_Ãₖ⁻ = map(Ãₖ -> Ãₖ[1], array_Ãₖ)\n",
    "array_Ãₖ⁺ = map(Ãₖ -> Ãₖ[2], array_Ãₖ)\n",
    "\n",
    "array_groupTwofoldIntervalPCMs = runMethods(array_Aₖ)\n",
    "\n",
    "print()"
   ]
  },
  {
   "attachments": {},
   "cell_type": "markdown",
   "metadata": {},
   "source": [
    "<!-- ### 二つの区間の比較をするための関数\n",
    "\n",
    "$A = \\left[ a^\\mathrm{L}, a^\\mathrm{U} \\right], B = \\left[ b^\\mathrm{L}, b^\\mathrm{U} \\right]$: 区間\n",
    "\n",
    "1. $A \\approx B$ の評価\n",
    "    $$\n",
    "    P \\left( A, B \\right) = \\frac{\\operatorname{Width}\\left( A \\cap B \\right)}{\\operatorname{Width}\\left( A \\cup B \\right)}\n",
    "    $$\n",
    "2. $A \\subseteq B$ の評価\n",
    "    $$\n",
    "    Q \\left( A, B \\right) = \\frac{\\operatorname{Width}\\left( A \\cap B \\right)}{\\operatorname{Width}(B)}\n",
    "    $$ -->"
   ]
  },
  {
   "attachments": {},
   "cell_type": "markdown",
   "metadata": {},
   "source": [
    "### $DM_k$ の区間 PCM $A_k$ とグループの二重区間 PCM $\\mathscr{A}$ の類似度の評価\n",
    "\n",
    "1. $A_{kij} \\approx \\mathscr{A}_{ij}^-, A_{kij} \\approx \\mathscr{A}_{ij}^+$ の評価\n",
    "    $$\n",
    "    P\\left( A_{kij}, \\mathscr{A}_{ij}^- \\right) = \\frac{\\operatorname{Width}\\left( A_{kij} \\cap \\mathscr{A}_{ij}^- \\right)}{\\operatorname{Width}\\left( A_{kij} \\cup \\mathscr{A}_{ij}^- \\right)}, \\quad\n",
    "    P\\left( A_{kij}, \\mathscr{A}_{ij}^+ \\right) = \\frac{\\operatorname{Width}\\left( A_{kij} \\cap \\mathscr{A}_{ij}^+ \\right)}{\\operatorname{Width}\\left( A_{kij} \\cup \\mathscr{A}_{ij}^+ \\right)}, \\quad\n",
    "    i, j \\in N, ~~ i \\neq j.\n",
    "    $$\n",
    "2. $A_{kij} \\supseteq \\mathscr{A}_{ij}^-$ の評価\n",
    "    $$\n",
    "    R\\left( A_{kij}, \\mathscr{A}_{ij}^- \\right) = \\frac{\\operatorname{Width}\\left( A_{kij} \\cap \\mathscr{A}_{ij}^- \\right)}{\\operatorname{Width}\\left( A_{kij} \\right)}, \\quad\n",
    "    i, j \\in N, ~~ i \\neq j.\n",
    "    $$\n",
    "3. $A_{kij} \\subseteq \\mathscr{A}_{ij}^+$ の評価\n",
    "    $$\n",
    "    Q\\left( A_{kij}, \\mathscr{A}_{ij}^+ \\right) = \\frac{\\operatorname{Width}\\left( A_{kij} \\cap \\mathscr{A}_{ij}^+ \\right)}{\\operatorname{Width}\\left( \\mathscr{A}_{ij}^+ \\right)}, \\quad\n",
    "    i, j \\in N, ~~ i \\neq j.\n",
    "    $$"
   ]
  },
  {
   "attachments": {},
   "cell_type": "markdown",
   "metadata": {},
   "source": [
    "### $DM_k$ の二重区間 PCM $\\tilde{A}_k$ とグループの二重区間 PCM $\\mathscr{A}$ の類似度の評価"
   ]
  },
  {
   "attachments": {},
   "cell_type": "markdown",
   "metadata": {},
   "source": [
    "1. $\\tilde{A}_{kij}^- \\approx \\mathscr{A}_{ij}^-, \\tilde{A}_{kij}^+ \\approx \\mathscr{A}_{ij}^+$ の評価\n",
    "    $$\n",
    "    P\\left( \\tilde{A}_{kij}^-, \\mathscr{A}_{ij}^- \\right) = \\frac{\\operatorname{Width}\\left( \\tilde{A}_{kij}^- \\cap \\mathscr{A}_{ij}^- \\right)}{\\operatorname{Width}\\left( \\tilde{A}_{kij}^- \\cup \\mathscr{A}_{ij}^- \\right)}, \\quad\n",
    "    P\\left( \\tilde{A}_{kij}^+, \\mathscr{A}_{ij}^+ \\right) = \\frac{\\operatorname{Width}\\left( \\tilde{A}_{kij}^+ \\cap \\mathscr{A}_{ij}^+ \\right)}{\\operatorname{Width}\\left( \\tilde{A}_{kij}^+ \\cup \\mathscr{A}_{ij}^+ \\right)}, \\quad\n",
    "    i, j \\in N, ~~ i \\neq j.\n",
    "    $$\n",
    "2. $\\tilde{A}_{kij}^- \\subseteq \\mathscr{A}_{ij}^-$ の評価  \n",
    "    $\\operatorname{Width}\\left( \\mathscr{A}_{ij}^- \\right) \\neq 0$ の場合,\n",
    "    $$\n",
    "    Q\\left( \\tilde{A}_{kij}^-, \\mathscr{A}_{ij}^- \\right) = \\frac{\\operatorname{Width}\\left( A_{kij} \\cap \\mathscr{A}_{ij}^- \\right)}{\\operatorname{Width}\\left( \\mathscr{A}_{ij}^- \\right)}, \\quad\n",
    "    i, j \\in N, ~~ i \\neq j.\n",
    "    $$\n",
    "3. $\\tilde{A}_{kij}^+ \\supseteq \\mathscr{A}_{ij}^+$ の評価\n",
    "    $$\n",
    "    R\\left( \\tilde{A}_{kij}^+, \\mathscr{A}_{ij}^+ \\right) = \\frac{\\operatorname{Width}\\left( A_{kij} \\cap \\mathscr{A}_{ij}^+ \\right)}{\\operatorname{Width}\\left( \\tilde{A}_{kij}^+ \\right)}, \\quad\n",
    "    i, j \\in N, ~~ i \\neq j.\n",
    "    $$"
   ]
  },
  {
   "attachments": {},
   "cell_type": "markdown",
   "metadata": {},
   "source": [
    "<!-- # means⁻ = [0, 0, 0, 0]\n",
    "\n",
    "# for i = 1:len # i-th simulation\n",
    "#     for j = 1:4 # j-th methods\n",
    "#         means⁻[j] += meanOfNonDiagonalElements(P(array_Aₖ[i, 1], array_Ãₖ⁻[i, j]))\n",
    "#         means⁻[j] += meanOfNonDiagonalElements(P(array_Aₖ[i, 2], array_Ãₖ⁻[i, j]))\n",
    "#     end\n",
    "# end\n",
    "\n",
    "# means⁻ /= len * 2 -->"
   ]
  }
 ],
 "metadata": {
  "kernelspec": {
   "display_name": "Julia 1.9.1",
   "language": "julia",
   "name": "julia-1.9"
  },
  "language_info": {
   "file_extension": ".jl",
   "mimetype": "application/julia",
   "name": "julia",
   "version": "1.9.1"
  },
  "orig_nbformat": 4
 },
 "nbformat": 4,
 "nbformat_minor": 2
}
