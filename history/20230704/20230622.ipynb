{
 "cells": [
  {
   "attachments": {},
   "cell_type": "markdown",
   "metadata": {},
   "source": [
    "### crisp PCM の生成\n",
    "\n",
    "- $n$: 基準/代替案数\n",
    "- $V$: 一対比較値として取りうる値の集合 ($\\{ 1/7, 1/5, 1/3, 1, 3, 5, 7 \\}$ など)\n",
    "\n",
    "1. $i < j$ について $a_{ij}$ を $V$ の中からランダムに選ぶ\n",
    "2. $i > j$ について $a_{ij} = 1 / a_{ji}$ とする"
   ]
  },
  {
   "attachments": {},
   "cell_type": "markdown",
   "metadata": {},
   "source": [
    "### 区間 PCM の生成\n",
    "\n",
    "- $n$: 基準/代替案数\n",
    "- $N = \\left\\{ 1, 2, \\dots, n \\right\\}$\n",
    "- $r_{\\max}$: 区間 PCM $A_k$ の各成分の幅を定めるときのパラメータ\n",
    "\n",
    "crisp PCM $A = \\left( a_{ij} \\right)_{n \\times n}$ を与える.\n",
    "\n",
    "$\\mathrm{DM}_k$ の区間 PCM $A_k = \\left( A_{kij} \\right)_{n \\times n} = \\left( \\left[ a_{kij}^\\mathrm{L}, a_{kij}^\\mathrm{U} \\right] \\right)_{n \\times n}$ を次のように与える.\n",
    "\n",
    "1. $i < j$ の成分を次のように計算する.\n",
    "    $$\n",
    "    \\begin{align*}\n",
    "    a_{kij}^\\mathrm{L} & = a_{ij} \\exp \\left( -r_{kij}^\\mathrm{L} \\right), \\quad\n",
    "    a_{kij}^\\mathrm{U} & = a_{ij} \\exp \\left( r_{kij}^\\mathrm{U} \\right), \\quad\n",
    "    i, j \\in N, ~~ i < j.\n",
    "    \\end{align*}\n",
    "    $$\n",
    "    ただし, $r_{kij}^\\mathrm{L}, r_{kij}^\\mathrm{U} ~ (k \\in \\{ 1,2 \\}, ~~ i, j \\in N, ~ i < j)$ は $0$ から $r_{\\max}$ の一様分布に従う.\n",
    "\n",
    "2. $i > j$ の成分は $A_{kij} = 1 / A_{kji} = \\left[ \\frac{1}{a_{kij}^\\mathrm{U}}, \\frac{1}{a_{kij}^\\mathrm{L}} \\right]$ とする."
   ]
  },
  {
   "attachments": {},
   "cell_type": "markdown",
   "metadata": {},
   "source": [
    "### シミュレーション\n",
    "\n",
    "1. 整合している crisp PCM $A_1, A_2$ を 1000 組生成する\n",
    "2. crisp PCM 1 個に対して, 区間 PCM を 10 個生成する\n",
    "3. 各区間 PCM について\n",
    "    1. 手法 1 ~ 4 によって二重区間 PCM $\\mathscr{A}^1, \\mathscr{A}^2, \\mathscr{A}^3, \\mathscr{A}^4$ を計算\n",
    "    2. 類似度を計算\n",
    "        $$\n",
    "        \\mathrm{Sim}\\left( A_{kij}, \\mathscr{A}_{ij}^{l\\pm} \\right), ~~ i, j \\in N, ~ i \\neq j, ~ k \\in \\{ 1, 2 \\}, ~ l \\in \\{ 1, 2, 3, 4 \\}\n",
    "        $$\n",
    "    3. 類似度の算術平均をとる\n",
    "        $$\n",
    "        \\rho^{l\\pm} = \\frac{1}{2n(n-1)} \\sum_{k \\in \\{ 1,2 \\}} \\sum_{i, j \\in N, i \\neq j} \\mathrm{Sim}\\left( A_{kij}, \\mathscr{A}_{ij}^{l\\pm} \\right), ~~ l \\in \\{ 1, 2, 3, 4 \\}\n",
    "        $$\n",
    "3. $\\rho^{l\\pm}, ~ l \\in \\{ 1, 2, 3, 4 \\}$ がそれぞれ 10000 個得られるので, その算術平均をとる"
   ]
  },
  {
   "attachments": {},
   "cell_type": "markdown",
   "metadata": {},
   "source": [
    "### 結果\n",
    "\n",
    "PCM のサイズ別に表にしている.  \n",
    "行が区間の幅に関する変数 $r_{\\max}$ で, 下の行ほど幅が大きくなりうる.  \n",
    "左 4 列が二重区間の内側で, 右 4 列が外側.\n",
    "\n",
    "\n",
    "$n = 5$\n",
    "\n",
    "|$r_{\\max}$|$\\rho^{1-}$|$\\rho^{2-}$|$\\rho^{3-}$|$\\rho^{4-}$|$\\rho^{1+}$|$\\rho^{2+}$|$\\rho^{3+}$|$\\rho^{4+}$|\n",
    "|---|---|---|---|---|---|---|---|---|\n",
    "|0.1|0.0012|0.0000|0.0000|0.0000|0.0719|0.1531|0.1366|0.1677|\n",
    "|0.5|0.0096|0.0000|0.0008|0.0002|0.2758|0.3452|0.2726|0.3718|\n",
    "|1.0|0.0652|0.0032|0.0624|0.0194|0.4165|0.4156|0.3893|0.4727|\n",
    "|1.6|0.1952|0.0322|0.2811|0.1651|0.4986|0.4340|0.4767|0.5181|\n",
    "\n",
    "$n = 6$\n",
    "\n",
    "|$r_{\\max}$|$\\rho^{1-}$|$\\rho^{2-}$|$\\rho^{3-}$|$\\rho^{4-}$|$\\rho^{1+}$|$\\rho^{2+}$|$\\rho^{3+}$|$\\rho^{4+}$|\n",
    "|---|---|---|---|---|---|---|---|---|\n",
    "|0.1|0.0000|0.0000|0.0000|0.0000|0.0461|0.0902|0.0889|0.1139|\n",
    "|0.5|0.0007|0.0000|0.0008|0.0002|0.1929|0.2596|0.1931|0.2833|\n",
    "|1.0|0.0089|0.0000|0.0005|0.0001|0.3132|0.3359|0.2745|0.3859|\n",
    "|1.6|0.0546|0.0004|0.0418|0.0053|0.3937|0.3631|0.4767|0.4393|\n",
    "\n",
    "$n = 7$\n",
    "\n",
    "|$r_{\\max}$|$\\rho^{1-}$|$\\rho^{2-}$|$\\rho^{3-}$|$\\rho^{4-}$|$\\rho^{1+}$|$\\rho^{2+}$|$\\rho^{3+}$|$\\rho^{4+}$|\n",
    "|---|---|---|---|---|---|---|---|---|\n",
    "|0.1|0.0000|0.0000|0.0000|0.0000|0.0344|0.0606|0.0613|0.0806|\n",
    "|0.5|0.0000|0.0000|0.0000|0.0000|0.1482|0.2021|0.1692|0.2282|\n",
    "|1.0|0.0009|0.0000|0.0000|0.0000|0.2485|0.2808|0.2559|0.3289|\n",
    "|1.6|0.0095|0.0000|0.0006|0.0000|0.3246|0.3125|0.3222|0.3876|\n",
    "\n",
    "$n = 8$\n",
    "\n",
    "|$r_{\\max}$|$\\rho^{1-}$|$\\rho^{2-}$|$\\rho^{3-}$|$\\rho^{4-}$|$\\rho^{1+}$|$\\rho^{2+}$|$\\rho^{3+}$|$\\rho^{4+}$|\n",
    "|---|---|---|---|---|---|---|---|---|\n",
    "|0.1|0.0000|0.0000|0.0000|0.0000|0.0286|0.0483|0.0425|0.0616|\n",
    "|0.5|0.0000|0.0000|0.0000|0.0000|0.1240|0.1710|0.1389|0.1981|\n",
    "|1.0|0.0001|0.0000|0.0000|0.0000|0.2117|0.2454|0.2246|0.2963|\n",
    "|1.6|0.0013|0.0000|0.0000|0.0000|0.2827|0.2775|0.2892|0.3532|\n"
   ]
  },
  {
   "attachments": {},
   "cell_type": "markdown",
   "metadata": {},
   "source": [
    "### 考察\n",
    "\n",
    "- $n$ と一致度の関係\n",
    "    - いずれのケースでも $n$ が大きくなると一致度が下がる\n",
    "        - 制約が増え, 整合化が行われることがより多くなるため\n",
    "- $r_{\\max}$ と一致度の関係\n",
    "    - いずれのケースでも $r_{\\max}$ が大きくなると一致度が上がる\n",
    "        - 区間が広くなると整合化が減る\n",
    "- 内側の区間の一致度 $\\rho^{l-}$ の手法間の比較\n",
    "    - $n \\geq 6$ では一致度 $0$ がほとんど\n",
    "        - 区間の幅を広げたシミュレーションなどが必要 \n",
    "    - 手法 1 がほとんどの場合最も良い\n",
    "    - $n = 5, r_{\\max} = 1.6$ では手法 3 が最も良く, 差があって手法 1, 4 と続く\n",
    "        - これまでの数値例はこのケースに該当する\n",
    "    - 区間の幅を広げていく ($r_{\\max}$ を大きくしていく) と個人の重要度を先に求める手法 3, 4 の一致度が大きく改善する\n",
    "- 外側の区間の一致度 $\\rho^{l+}$ の手法間の比較\n",
    "    - ほとんどのケースで一致度が手法  4 が最も良い\n",
    "        - $n = 6, r_{\\max} = 1.6$ のケースのみ手法 6 のほうが良い"
   ]
  },
  {
   "attachments": {},
   "cell_type": "markdown",
   "metadata": {},
   "source": [
    "---"
   ]
  },
  {
   "cell_type": "code",
   "execution_count": 1,
   "metadata": {},
   "outputs": [
    {
     "name": "stdout",
     "output_type": "stream",
     "text": [
      "22\n"
     ]
    }
   ],
   "source": [
    "println(Threads.nthreads())"
   ]
  },
  {
   "cell_type": "code",
   "execution_count": 2,
   "metadata": {},
   "outputs": [],
   "source": [
    "using IntervalArithmetic\n",
    "using Statistics"
   ]
  },
  {
   "cell_type": "code",
   "execution_count": 3,
   "metadata": {},
   "outputs": [
    {
     "data": {
      "text/plain": [
       "R (generic function with 1 method)"
      ]
     },
     "metadata": {},
     "output_type": "display_data"
    }
   ],
   "source": [
    "include(\"./crispPCM/index.jl\")\n",
    "include(\"./evaluation/index.jl\")\n",
    "include(\"./method1/index.jl\")\n",
    "include(\"./method2/index.jl\")\n",
    "include(\"./method3/index.jl\")\n",
    "include(\"./method4/index.jl\")\n",
    "include(\"./intervalPCM/index.jl\")\n",
    "include(\"./twofoldInterval/index.jl\")\n",
    "include(\"./twofoldIntervalPCM/index.jl\")\n",
    "include(\"./utils.jl\")"
   ]
  },
  {
   "cell_type": "code",
   "execution_count": 4,
   "metadata": {},
   "outputs": [
    {
     "data": {
      "text/plain": [
       "TaskLocalRNG()"
      ]
     },
     "metadata": {},
     "output_type": "display_data"
    }
   ],
   "source": [
    "Random.seed!(1)"
   ]
  },
  {
   "cell_type": "code",
   "execution_count": 5,
   "metadata": {},
   "outputs": [
    {
     "data": {
      "text/plain": [
       "generateSimulationCases (generic function with 1 method)"
      ]
     },
     "metadata": {},
     "output_type": "display_data"
    }
   ],
   "source": [
    "SimulationCase = @NamedTuple{\n",
    "    CR::T,\n",
    "    A::Matrix{T},\n",
    "    A₁::Matrix{Interval{T}},\n",
    "    A₂::Matrix{Interval{T}}\n",
    "} where {T <: Real}\n",
    "\n",
    "function generateSimulationCases(\n",
    "    n::Integer, \n",
    "    values::Vector{T},\n",
    "    width::T,\n",
    "    numOfCrispPCM::Integer, \n",
    "    intervalPCMsPerCrispPCM::Integer\n",
    ")::Array{SimulationCase, 1} where {T <: Real}\n",
    "\n",
    "    simulation_cases = SimulationCase[]\n",
    "\n",
    "    for _ in 1:numOfCrispPCM\n",
    "        # Generate a Crisp PCM\n",
    "        crisp_pcm = generateConsistentCrispPCM(n, values)\n",
    "        CR = consistencyRatio(crisp_pcm)\n",
    "\n",
    "        for _ in 1:intervalPCMsPerCrispPCM\n",
    "            # Generate an Interval PCM for each Crisp PCM\n",
    "            interval_pcm_1 = randamizedIntervalPCM(crisp_pcm, width)\n",
    "            interval_pcm_2 = randamizedIntervalPCM(crisp_pcm, width)\n",
    "            # Append the Crisp PCM and its corresponding Interval PCM as a tuple to the list\n",
    "            push!(simulation_cases, (CR=CR, A=crisp_pcm, A₁=interval_pcm_1, A₂=interval_pcm_2))\n",
    "        end\n",
    "    end\n",
    "\n",
    "    return simulation_cases\n",
    "end\n"
   ]
  },
  {
   "cell_type": "code",
   "execution_count": 6,
   "metadata": {},
   "outputs": [
    {
     "data": {
      "text/plain": [
       "runSimulation (generic function with 1 method)"
      ]
     },
     "metadata": {},
     "output_type": "display_data"
    }
   ],
   "source": [
    "SimulationResult = @NamedTuple{\n",
    "    # A₁, A₂ の元となった crisp PCM\n",
    "    A::Matrix{T},\n",
    "    # 各 DM の与える区間 PCM\n",
    "    A₁::Matrix{Interval{T}}, A₂::Matrix{Interval{T}},\n",
    "    # method 1 ~ 4 の二重区間 PCM\n",
    "    𝓐¹::Matrix{TwofoldInterval{T}}, 𝓐²::Matrix{TwofoldInterval{T}},\n",
    "    𝓐³::Matrix{TwofoldInterval{T}}, 𝓐⁴::Matrix{TwofoldInterval{T}},\n",
    "    # 𝓐ᵏ の二重区間の内側の区間\n",
    "    𝓐¹⁻::Matrix{Interval{T}}, 𝓐²⁻::Matrix{Interval{T}},\n",
    "    𝓐³⁻::Matrix{Interval{T}}, 𝓐⁴⁻::Matrix{Interval{T}},\n",
    "    # 𝓐ᵏ の二重区間の外側の区間\n",
    "    𝓐¹⁺::Matrix{Interval{T}}, 𝓐²⁺::Matrix{Interval{T}},\n",
    "    𝓐³⁺::Matrix{Interval{T}}, 𝓐⁴⁺::Matrix{Interval{T}},\n",
    "    # エラーメッセージ\n",
    "    error::String\n",
    "} where {T <: Real}\n",
    "\n",
    "methodList = [method1, method2, method3, method4]\n",
    "\n",
    "function runSimulation(\n",
    "    case::SimulationCase{T}\n",
    "    )::SimulationResult{T} where {T <: Real}\n",
    "    𝓐 = Dict(); 𝓐⁻ = Dict(); 𝓐⁺ = Dict()\n",
    "    \n",
    "    try\n",
    "        for k in 1:4\n",
    "            𝓐[k] = methodList[k](case.A₁, case.A₂)\n",
    "            𝓐⁻[k] = map(𝓐ᵢⱼ -> 𝓐ᵢⱼ[1], 𝓐[k])\n",
    "            𝓐⁺[k] = map(𝓐ᵢⱼ -> 𝓐ᵢⱼ[2], 𝓐[k])\n",
    "        end\n",
    "\n",
    "        return (\n",
    "            A=case.A, A₁=case.A₁, A₂=case.A₂,\n",
    "            𝓐¹=𝓐[1], 𝓐²=𝓐[2], 𝓐³=𝓐[3], 𝓐⁴=𝓐[4],\n",
    "            𝓐¹⁻=𝓐⁻[1], 𝓐²⁻=𝓐⁻[2], 𝓐³⁻=𝓐⁻[3], 𝓐⁴⁻=𝓐⁻[4],\n",
    "            𝓐¹⁺=𝓐⁺[1], 𝓐²⁺=𝓐⁺[2], 𝓐³⁺=𝓐⁺[3], 𝓐⁴⁺=𝓐⁺[4],\n",
    "            error=\"\"\n",
    "        )\n",
    "    catch e\n",
    "        n = size(case.A₁, 2)\n",
    "        IPCM = fill(1..1, n, n)\n",
    "        twofoldIPCM = fill((1..1, 1..1), n, n)\n",
    "        return (\n",
    "            A=case.A, A₁=case.A₁, A₂=case.A₂,\n",
    "            𝓐¹=twofoldIPCM, 𝓐²=twofoldIPCM, 𝓐³=twofoldIPCM, 𝓐⁴=twofoldIPCM,\n",
    "            𝓐¹⁻=IPCM, 𝓐²⁻=IPCM, 𝓐³⁻=IPCM, 𝓐⁴⁻=IPCM,\n",
    "            𝓐¹⁺=IPCM, 𝓐²⁺=IPCM, 𝓐³⁺=IPCM, 𝓐⁴⁺=IPCM,\n",
    "            error=string(e)\n",
    "        )\n",
    "    end\n",
    "end"
   ]
  },
  {
   "cell_type": "code",
   "execution_count": 7,
   "metadata": {},
   "outputs": [
    {
     "data": {
      "text/plain": [
       "calculateCoincidenceList (generic function with 1 method)"
      ]
     },
     "metadata": {},
     "output_type": "display_data"
    }
   ],
   "source": [
    "ConincidenceList = @NamedTuple{\n",
    "    A₁_𝓐¹⁻::T, A₁_𝓐¹⁺::T, A₂_𝓐¹⁻::T, A₂_𝓐¹⁺::T,\n",
    "    A₁_𝓐²⁻::T, A₁_𝓐²⁺::T, A₂_𝓐²⁻::T, A₂_𝓐²⁺::T,\n",
    "    A₁_𝓐³⁻::T, A₁_𝓐³⁺::T, A₂_𝓐³⁻::T, A₂_𝓐³⁺::T,\n",
    "    A₁_𝓐⁴⁻::T, A₁_𝓐⁴⁺::T, A₂_𝓐⁴⁻::T, A₂_𝓐⁴⁺::T,\n",
    "    error::String\n",
    "} where {T <: Real}\n",
    "\n",
    "function calculateCoincidenceList(result::SimulationResult{T})::ConincidenceList{T} where {T <: Real}\n",
    "    A₁ = result.A₁; A₂ = result.A₂\n",
    "    𝓐¹⁻ = result.𝓐¹⁻; 𝓐¹⁺ = result.𝓐¹⁺\n",
    "    𝓐²⁻ = result.𝓐²⁻; 𝓐²⁺ = result.𝓐²⁺\n",
    "    𝓐³⁻ = result.𝓐³⁻; 𝓐³⁺ = result.𝓐³⁺\n",
    "    𝓐⁴⁻ = result.𝓐⁴⁻; 𝓐⁴⁺ = result.𝓐⁴⁺\n",
    "    try\n",
    "        return (\n",
    "            A₁_𝓐¹⁻=coincidenceIndex(A₁, 𝓐¹⁻), A₁_𝓐¹⁺=coincidenceIndex(A₁, 𝓐¹⁺),\n",
    "            A₂_𝓐¹⁻=coincidenceIndex(A₂, 𝓐¹⁻), A₂_𝓐¹⁺=coincidenceIndex(A₂, 𝓐¹⁺),\n",
    "            A₁_𝓐²⁻=coincidenceIndex(A₁, 𝓐²⁻), A₁_𝓐²⁺=coincidenceIndex(A₁, 𝓐²⁺),\n",
    "            A₂_𝓐²⁻=coincidenceIndex(A₂, 𝓐²⁻), A₂_𝓐²⁺=coincidenceIndex(A₂, 𝓐²⁺),\n",
    "            A₁_𝓐³⁻=coincidenceIndex(A₁, 𝓐³⁻), A₁_𝓐³⁺=coincidenceIndex(A₁, 𝓐³⁺),\n",
    "            A₂_𝓐³⁻=coincidenceIndex(A₂, 𝓐³⁻), A₂_𝓐³⁺=coincidenceIndex(A₂, 𝓐³⁺),\n",
    "            A₁_𝓐⁴⁻=coincidenceIndex(A₁, 𝓐⁴⁻), A₁_𝓐⁴⁺=coincidenceIndex(A₁, 𝓐⁴⁺),\n",
    "            A₂_𝓐⁴⁻=coincidenceIndex(A₂, 𝓐⁴⁻), A₂_𝓐⁴⁺=coincidenceIndex(A₂, 𝓐⁴⁺),\n",
    "            error=\"\"\n",
    "        )\n",
    "    catch e\n",
    "        return (\n",
    "            A₁_𝓐¹⁻=NaN, A₁_𝓐¹⁺=NaN, A₂_𝓐¹⁻=NaN, A₂_𝓐¹⁺=NaN,\n",
    "            A₁_𝓐²⁻=NaN, A₁_𝓐²⁺=NaN, A₂_𝓐²⁻=NaN, A₂_𝓐²⁺=NaN,\n",
    "            A₁_𝓐³⁻=NaN, A₁_𝓐³⁺=NaN, A₂_𝓐³⁻=NaN, A₂_𝓐³⁺=NaN,\n",
    "            A₁_𝓐⁴⁻=NaN, A₁_𝓐⁴⁺=NaN, A₂_𝓐⁴⁻=NaN, A₂_𝓐⁴⁺=NaN,\n",
    "            error=string(e)\n",
    "        )\n",
    "    end\n",
    "end"
   ]
  },
  {
   "cell_type": "code",
   "execution_count": 8,
   "metadata": {},
   "outputs": [
    {
     "data": {
      "text/plain": [
       "averageConincidenceLists (generic function with 1 method)"
      ]
     },
     "metadata": {},
     "output_type": "display_data"
    }
   ],
   "source": [
    "function averageConincidenceLists(conincidenceLists::Vector{ConincidenceList{T}}) where {T <: Real}\n",
    "    if length(conincidenceLists) == 0\n",
    "        throw(ArgumentError(\"Empty list of ConincidenceLists\"))\n",
    "    end\n",
    "\n",
    "    total_𝓐¹⁻ = zero(T); total_𝓐¹⁺ = zero(T)\n",
    "    total_𝓐²⁻ = zero(T); total_𝓐²⁺ = zero(T)\n",
    "    total_𝓐³⁻ = zero(T); total_𝓐³⁺ = zero(T)\n",
    "    total_𝓐⁴⁻ = zero(T); total_𝓐⁴⁺ = zero(T)\n",
    "\n",
    "    count = 0\n",
    "\n",
    "    for list in conincidenceLists\n",
    "        if list.error != \"\" continue end\n",
    "\n",
    "        count += 1\n",
    "        total_𝓐¹⁻ += list.A₁_𝓐¹⁻ + list.A₂_𝓐¹⁻\n",
    "        total_𝓐¹⁺ += list.A₁_𝓐¹⁺ + list.A₂_𝓐¹⁺\n",
    "        total_𝓐²⁻ += list.A₁_𝓐²⁻ + list.A₂_𝓐²⁻\n",
    "        total_𝓐²⁺ += list.A₁_𝓐²⁺ + list.A₂_𝓐²⁺\n",
    "        total_𝓐³⁻ += list.A₁_𝓐³⁻ + list.A₂_𝓐³⁻\n",
    "        total_𝓐³⁺ += list.A₁_𝓐³⁺ + list.A₂_𝓐³⁺\n",
    "        total_𝓐⁴⁻ += list.A₁_𝓐⁴⁻ + list.A₂_𝓐⁴⁻\n",
    "        total_𝓐⁴⁺ += list.A₁_𝓐⁴⁺ + list.A₂_𝓐⁴⁺\n",
    "    end\n",
    "    count *= 2\n",
    "\n",
    "    return (\n",
    "        𝓐¹⁻ = total_𝓐¹⁻ / count, 𝓐¹⁺ = total_𝓐¹⁺ / count,\n",
    "        𝓐²⁻ = total_𝓐²⁻ / count, 𝓐²⁺ = total_𝓐²⁺ / count,\n",
    "        𝓐³⁻ = total_𝓐³⁻ / count, 𝓐³⁺ = total_𝓐³⁺ / count,\n",
    "        𝓐⁴⁻ = total_𝓐⁴⁻ / count, 𝓐⁴⁺ = total_𝓐⁴⁺ / count,\n",
    "    )\n",
    "end"
   ]
  },
  {
   "cell_type": "code",
   "execution_count": 9,
   "metadata": {},
   "outputs": [
    {
     "data": {
      "text/plain": [
       "runSimulate (generic function with 1 method)"
      ]
     },
     "metadata": {},
     "output_type": "display_data"
    }
   ],
   "source": [
    "function runSimulate(\n",
    "    n::Integer, \n",
    "    values::Vector{T},\n",
    "    width::T,\n",
    "    numOfCrispPCM::Integer, \n",
    "    intervalPCMsPerCrispPCM::Integer\n",
    "    ) where {T <: Real}\n",
    "    cases = generateSimulationCases(n, values, width, numOfCrispPCM, intervalPCMsPerCrispPCM)\n",
    "    results = Vector{SimulationResult}(undef, length(cases))\n",
    "    Threads.@threads for i in 1:length(cases)\n",
    "        results[i] = runSimulation(cases[i])\n",
    "    end\n",
    "    conincidenceList = calculateCoincidenceList.(results)\n",
    "    return averageConincidenceLists(conincidenceList)\n",
    "end"
   ]
  },
  {
   "cell_type": "code",
   "execution_count": 10,
   "metadata": {},
   "outputs": [
    {
     "name": "stdout",
     "output_type": "stream",
     "text": [
      "n = 5"
     ]
    },
    {
     "name": "stdout",
     "output_type": "stream",
     "text": [
      "(𝓐¹⁻ = 0.0012292655982896199, 𝓐¹⁺ = 0.07187403867569402, 𝓐²⁻ = 4.537924495082146e-16, 𝓐²⁺ = 0.1531243873253255, 𝓐³⁻ = 0.0, 𝓐³⁺ = 0.1366362230294785, 𝓐⁴⁻ = 0.0, 𝓐⁴⁺ = 0.16767902615045777)\n"
     ]
    },
    {
     "name": "stdout",
     "output_type": "stream",
     "text": [
      "(𝓐¹⁻ = 0.00958564623180895, 𝓐¹⁺ = 0.2758065125006352, 𝓐²⁻ = 3.7890027645501765e-5, 𝓐²⁺ = 0.34520356631972077, 𝓐³⁻ = 0.000764317217978492, 𝓐³⁺ = 0.2726270452104397, 𝓐⁴⁻ = 0.00018455351597496965, 𝓐⁴⁺ = 0.3718245965864604)\n"
     ]
    },
    {
     "name": "stdout",
     "output_type": "stream",
     "text": [
      "(𝓐¹⁻ = 0.06522011727308352, 𝓐¹⁺ = 0.4164834931865041, 𝓐²⁻ = 0.0032423626564446997, 𝓐²⁺ = 0.41562610584606047, 𝓐³⁻ = 0.06237200073595892, 𝓐³⁺ = 0.3892658658210833, 𝓐⁴⁻ = 0.019416684526763935, 𝓐⁴⁺ = 0.4726783093213293)\n"
     ]
    },
    {
     "name": "stdout",
     "output_type": "stream",
     "text": [
      "(𝓐¹⁻ = 0.19519911725524183, 𝓐¹⁺ = 0.4985628910940124, 𝓐²⁻ = 0.032161033885780614, 𝓐²⁺ = 0.43400317821650114, 𝓐³⁻ = 0.28108445061532666, 𝓐³⁺ = 0.47670995478819705, 𝓐⁴⁻ = 0.16505294873609058, 𝓐⁴⁺ = 0.5180635766985849)\n",
      "n = 6"
     ]
    },
    {
     "name": "stdout",
     "output_type": "stream",
     "text": [
      "(𝓐¹⁻ = 4.297648716842587e-5, 𝓐¹⁺ = 0.046126685329609514, 𝓐²⁻ = 2.996105757958167e-16, 𝓐²⁺ = 0.09022726467427147, 𝓐³⁻ = 0.0, 𝓐³⁺ = 0.08891544530332435, 𝓐⁴⁻ = 0.0, 𝓐⁴⁺ = 0.11387364832792198)\n"
     ]
    },
    {
     "name": "stdout",
     "output_type": "stream",
     "text": [
      "(𝓐¹⁻ = 0.0007304865858008984, 𝓐¹⁺ = 0.192879995115428, 𝓐²⁻ = 9.984050880687179e-17, 𝓐²⁺ = 0.2595572185671469, 𝓐³⁻ = 0.0, 𝓐³⁺ = 0.19310131605065742, 𝓐⁴⁻ = 0.0, 𝓐⁴⁺ = 0.28325901751602456)\n"
     ]
    },
    {
     "name": "stderr",
     "output_type": "stream",
     "text": [
      "┌ Warning: Invalid input, empty interval is returned\n",
      "└ @ IntervalArithmetic /opt/julia/packages/IntervalArithmetic/EquAX/src/intervals/intervals.jl:141\n",
      "┌ Warning: Invalid input, empty interval is returned\n",
      "└ @ IntervalArithmetic /opt/julia/packages/IntervalArithmetic/EquAX/src/intervals/intervals.jl:141\n",
      "┌ Warning: Invalid input, empty interval is returned\n",
      "└ @ IntervalArithmetic /opt/julia/packages/IntervalArithmetic/EquAX/src/intervals/intervals.jl:141\n",
      "┌ Warning: Invalid input, empty interval is returned\n",
      "└ @ IntervalArithmetic /opt/julia/packages/IntervalArithmetic/EquAX/src/intervals/intervals.jl:141\n"
     ]
    },
    {
     "name": "stdout",
     "output_type": "stream",
     "text": [
      "(𝓐¹⁻ = 0.008924689138638656, 𝓐¹⁺ = 0.31318322049136726, 𝓐²⁻ = 8.156300685753815e-17, 𝓐²⁺ = 0.3358839765807297, 𝓐³⁻ = 0.0005282482411123644, 𝓐³⁺ = 0.27449677420767277, 𝓐⁴⁻ = 7.538653173355916e-5, 𝓐⁴⁺ = 0.3859175199060911)\n"
     ]
    },
    {
     "name": "stdout",
     "output_type": "stream",
     "text": [
      "(𝓐¹⁻ = 0.05455882398744686, 𝓐¹⁺ = 0.3937285380601262, 𝓐²⁻ = 0.00039816027686887906, 𝓐²⁺ = 0.36314326331831237, 𝓐³⁻ = 0.04176260016576256, 𝓐³⁺ = 0.3615421073216701, 𝓐⁴⁻ = 0.005291573769343571, 𝓐⁴⁺ = 0.439253710831755)\n",
      "n = 7"
     ]
    },
    {
     "name": "stdout",
     "output_type": "stream",
     "text": [
      "(𝓐¹⁻ = 7.67284716971498e-6, 𝓐¹⁺ = 0.03437594165630714, 𝓐²⁻ = 2.0204875936295446e-16, 𝓐²⁺ = 0.06056076192074657, 𝓐³⁻ = 0.0, 𝓐³⁺ = 0.06134265042343587, 𝓐⁴⁻ = 0.0, 𝓐⁴⁺ = 0.08055402297363452)\n"
     ]
    },
    {
     "name": "stdout",
     "output_type": "stream",
     "text": [
      "(𝓐¹⁻ = 4.032109383193416e-5, 𝓐¹⁺ = 0.14822204988070037, 𝓐²⁻ = 6.901567585207757e-17, 𝓐²⁺ = 0.2021183878742622, 𝓐³⁻ = 0.0, 𝓐³⁺ = 0.16920978391147404, 𝓐⁴⁻ = 0.0, 𝓐⁴⁺ = 0.22818904449013638)\n"
     ]
    },
    {
     "name": "stdout",
     "output_type": "stream",
     "text": [
      "(𝓐¹⁻ = 0.0009348718582917231, 𝓐¹⁺ = 0.2485196562632332, 𝓐²⁻ = 6.150134029685057e-17, 𝓐²⁺ = 0.2808287498506751, 𝓐³⁻ = 0.0, 𝓐³⁺ = 0.2558601044149862, 𝓐⁴⁻ = 0.0, 𝓐⁴⁺ = 0.32891035790266226)\n"
     ]
    },
    {
     "name": "stdout",
     "output_type": "stream",
     "text": [
      "(𝓐¹⁻ = 0.00946220265836522, 𝓐¹⁺ = 0.32455376623547216, 𝓐²⁻ = 5.846893841942267e-17, 𝓐²⁺ = 0.31252492527004827, 𝓐³⁻ = 0.0006383137975704816, 𝓐³⁺ = 0.3222200160945192, 𝓐⁴⁻ = 0.0, 𝓐⁴⁺ = 0.3876220219032487)\n",
      "n = 8"
     ]
    },
    {
     "name": "stdout",
     "output_type": "stream",
     "text": [
      "(𝓐¹⁻ = 0.0, 𝓐¹⁺ = 0.028552343602762483, 𝓐²⁻ = 1.4275634583253184e-16, 𝓐²⁺ = 0.04827407644250388, 𝓐³⁻ = 0.0, 𝓐³⁺ = 0.042499953654163015, 𝓐⁴⁻ = 0.0, 𝓐⁴⁺ = 0.061603985384544396)\n"
     ]
    },
    {
     "name": "stdout",
     "output_type": "stream",
     "text": [
      "(𝓐¹⁻ = 1.243141551366449e-6, 𝓐¹⁺ = 0.1240488496952325, 𝓐²⁻ = 5.379823020375774e-17, 𝓐²⁺ = 0.17101934835738108, 𝓐³⁻ = 0.0, 𝓐³⁺ = 0.13893657246468463, 𝓐⁴⁻ = 0.0, 𝓐⁴⁺ = 0.19813452933092282)\n"
     ]
    },
    {
     "name": "stdout",
     "output_type": "stream",
     "text": [
      "(𝓐¹⁻ = 9.115277429253791e-5, 𝓐¹⁺ = 0.21169525044125143, 𝓐²⁻ = 4.8946302596376677e-17, 𝓐²⁺ = 0.24536746171032786, 𝓐³⁻ = 0.0, 𝓐³⁺ = 0.2246172707967133, 𝓐⁴⁻ = 0.0, 𝓐⁴⁺ = 0.2962906961429553)\n"
     ]
    },
    {
     "name": "stdout",
     "output_type": "stream",
     "text": [
      "(𝓐¹⁻ = 0.0012802099046232485, 𝓐¹⁺ = 0.2827116687347921, 𝓐²⁻ = 4.8698573966670674e-17, 𝓐²⁺ = 0.2775177278262383, 𝓐³⁻ = 0.0, 𝓐³⁺ = 0.2891726523037664, 𝓐⁴⁻ = 0.0, 𝓐⁴⁺ = 0.3531951275421345)\n"
     ]
    }
   ],
   "source": [
    "values = [0.1, 0.5, 1.0, 1.6]\n",
    "\n",
    "for n in 5:8\n",
    "    println(\"n = $n\")\n",
    "    for value in values\n",
    "        println(runSimulate(n, [1/9, 1/7, 1/5, 1/3, 1, 3, 5, 7, 9], value, 1000, 10))\n",
    "    end\n",
    "end"
   ]
  },
  {
   "attachments": {},
   "cell_type": "markdown",
   "metadata": {},
   "source": [
    "### $n = 5$\n",
    "\n",
    "- $r_{\\max} = 0.1$\n",
    "\n",
    "    (𝓐¹⁻ = 0.0012292655982896199, 𝓐¹⁺ = 0.07187403867569402, 𝓐²⁻ = 4.537924495082146e-16, 𝓐²⁺ = 0.1531243873253255, 𝓐³⁻ = 0.0, 𝓐³⁺ = 0.1366362230294785, 𝓐⁴⁻ = 0.0, 𝓐⁴⁺ = 0.16767902615045777)\n",
    "\n",
    "- $r_{\\max} = 0.5$\n",
    "\n",
    "    (𝓐¹⁻ = 0.00958564623180895, 𝓐¹⁺ = 0.2758065125006352, 𝓐²⁻ = 3.7890027645501765e-5, 𝓐²⁺ = 0.34520356631972077, 𝓐³⁻ = 0.000764317217978492, 𝓐³⁺ = 0.2726270452104397, 𝓐⁴⁻ = 0.00018455351597496965, 𝓐⁴⁺ = 0.3718245965864604)\n",
    "\n",
    "- $r_{\\max} = 1.0$\n",
    "\n",
    "    (𝓐¹⁻ = 0.06522011727308352, 𝓐¹⁺ = 0.4164834931865041, 𝓐²⁻ = 0.0032423626564446997, 𝓐²⁺ = 0.41562610584606047, 𝓐³⁻ = 0.06237200073595892, 𝓐³⁺ = 0.3892658658210833, 𝓐⁴⁻ = 0.019416684526763935, 𝓐⁴⁺ = 0.4726783093213293)\n",
    "\n",
    "- $r_{\\max} = 1.6$\n",
    "\n",
    "    (𝓐¹⁻ = 0.19519911725524183, 𝓐¹⁺ = 0.4985628910940124, 𝓐²⁻ = 0.032161033885780614, 𝓐²⁺ = 0.43400317821650114, 𝓐³⁻ = 0.28108445061532666, 𝓐³⁺ = 0.47670995478819705, 𝓐⁴⁻ = 0.16505294873609058, 𝓐⁴⁺ = 0.5180635766985849)\n",
    "\n",
    "### $n = 6$\n",
    "\n",
    "- $r_{\\max} = 0.1$\n",
    "\n",
    "    (𝓐¹⁻ = 4.297648716842587e-5, 𝓐¹⁺ = 0.046126685329609514, 𝓐²⁻ = 2.996105757958167e-16, 𝓐²⁺ = 0.09022726467427147, 𝓐³⁻ = 0.0, 𝓐³⁺ = 0.08891544530332435, 𝓐⁴⁻ = 0.0, 𝓐⁴⁺ = 0.11387364832792198)\n",
    "\n",
    "- $r_{\\max} = 0.5$\n",
    "\n",
    "    (𝓐¹⁻ = 0.0007304865858008984, 𝓐¹⁺ = 0.192879995115428, 𝓐²⁻ = 9.984050880687179e-17, 𝓐²⁺ = 0.2595572185671469, 𝓐³⁻ = 0.0, 𝓐³⁺ = 0.19310131605065742, 𝓐⁴⁻ = 0.0, 𝓐⁴⁺ = 0.28325901751602456)\n",
    "\n",
    "- $r_{\\max} = 1.0$\n",
    "\n",
    "    (𝓐¹⁻ = 0.008924689138638656, 𝓐¹⁺ = 0.31318322049136726, 𝓐²⁻ = 8.156300685753815e-17, 𝓐²⁺ = 0.3358839765807297, 𝓐³⁻ = 0.0005282482411123644, 𝓐³⁺ = 0.27449677420767277, 𝓐⁴⁻ = 7.538653173355916e-5, 𝓐⁴⁺ = 0.3859175199060911)\n",
    "\n",
    "- $r_{\\max} = 1.6$\n",
    "\n",
    "    (𝓐¹⁻ = 0.05455882398744686, 𝓐¹⁺ = 0.3937285380601262, 𝓐²⁻ = 0.00039816027686887906, 𝓐²⁺ = 0.36314326331831237, 𝓐³⁻ = 0.04176260016576256, 𝓐³⁺ = 0.3615421073216701, 𝓐⁴⁻ = 0.005291573769343571, 𝓐⁴⁺ = 0.439253710831755)\n",
    "\n",
    "### $n = 6$\n",
    "\n",
    "- $r_{\\max} = 0.1$\n",
    "\n",
    "    (𝓐¹⁻ = 7.67284716971498e-6, 𝓐¹⁺ = 0.03437594165630714, 𝓐²⁻ = 2.0204875936295446e-16, 𝓐²⁺ = 0.06056076192074657, 𝓐³⁻ = 0.0, 𝓐³⁺ = 0.06134265042343587, 𝓐⁴⁻ = 0.0, 𝓐⁴⁺ = 0.08055402297363452)\n",
    "\n",
    "- $r_{\\max} = 0.5$\n",
    "\n",
    "    (𝓐¹⁻ = 4.032109383193416e-5, 𝓐¹⁺ = 0.14822204988070037, 𝓐²⁻ = 6.901567585207757e-17, 𝓐²⁺ = 0.2021183878742622, 𝓐³⁻ = 0.0, 𝓐³⁺ = 0.16920978391147404, 𝓐⁴⁻ = 0.0, 𝓐⁴⁺ = 0.22818904449013638)\n",
    "\n",
    "- $r_{\\max} = 1.0$\n",
    "\n",
    "    (𝓐¹⁻ = 0.0009348718582917231, 𝓐¹⁺ = 0.2485196562632332, 𝓐²⁻ = 6.150134029685057e-17, 𝓐²⁺ = 0.2808287498506751, 𝓐³⁻ = 0.0, 𝓐³⁺ = 0.2558601044149862, 𝓐⁴⁻ = 0.0, 𝓐⁴⁺ = 0.32891035790266226)\n",
    "\n",
    "- $r_{\\max} = 1.6$\n",
    "\n",
    "    (𝓐¹⁻ = 0.00946220265836522, 𝓐¹⁺ = 0.32455376623547216, 𝓐²⁻ = 5.846893841942267e-17, 𝓐²⁺ = 0.31252492527004827, 𝓐³⁻ = 0.0006383137975704816, 𝓐³⁺ = 0.3222200160945192, 𝓐⁴⁻ = 0.0, 𝓐⁴⁺ = 0.3876220219032487)\n",
    "\n",
    "### $n = 6$\n",
    "\n",
    "- $r_{\\max} = 0.1$\n",
    "\n",
    "    (𝓐¹⁻ = 0.0, 𝓐¹⁺ = 0.028552343602762483, 𝓐²⁻ = 1.4275634583253184e-16, 𝓐²⁺ = 0.04827407644250388, 𝓐³⁻ = 0.0, 𝓐³⁺ = 0.042499953654163015, 𝓐⁴⁻ = 0.0, 𝓐⁴⁺ = 0.061603985384544396)\n",
    "\n",
    "- $r_{\\max} = 0.5$\n",
    "\n",
    "    (𝓐¹⁻ = 1.243141551366449e-6, 𝓐¹⁺ = 0.1240488496952325, 𝓐²⁻ = 5.379823020375774e-17, 𝓐²⁺ = 0.17101934835738108, 𝓐³⁻ = 0.0, 𝓐³⁺ = 0.13893657246468463, 𝓐⁴⁻ = 0.0, 𝓐⁴⁺ = 0.19813452933092282)\n",
    "\n",
    "- $r_{\\max} = 1.0$\n",
    "\n",
    "    (𝓐¹⁻ = 9.115277429253791e-5, 𝓐¹⁺ = 0.21169525044125143, 𝓐²⁻ = 4.8946302596376677e-17, 𝓐²⁺ = 0.24536746171032786, 𝓐³⁻ = 0.0, 𝓐³⁺ = 0.2246172707967133, 𝓐⁴⁻ = 0.0, 𝓐⁴⁺ = 0.2962906961429553)\n",
    "\n",
    "- $r_{\\max} = 1.6$\n",
    "\n",
    "    (𝓐¹⁻ = 0.0012802099046232485, 𝓐¹⁺ = 0.2827116687347921, 𝓐²⁻ = 4.8698573966670674e-17, 𝓐²⁺ = 0.2775177278262383, 𝓐³⁻ = 0.0, 𝓐³⁺ = 0.2891726523037664, 𝓐⁴⁻ = 0.0, 𝓐⁴⁺ = 0.3531951275421345)"
   ]
  }
 ],
 "metadata": {
  "kernelspec": {
   "display_name": "Julia 1.9.1",
   "language": "julia",
   "name": "julia-1.9"
  },
  "language_info": {
   "file_extension": ".jl",
   "mimetype": "application/julia",
   "name": "julia",
   "version": "1.9.1"
  },
  "orig_nbformat": 4
 },
 "nbformat": 4,
 "nbformat_minor": 2
}
