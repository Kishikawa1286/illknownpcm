{
 "cells": [
  {
   "cell_type": "markdown",
   "id": "132c24e4",
   "metadata": {},
   "source": [
    "$A, B$: $n \\times n$ 区間 PCM\n",
    "\n",
    "次のように一致度 $C_{ij}$ を定める\n",
    "$$\n",
    "C_{ij} = \\frac{\\left| A_{ij} \\cap B_{ij} \\right|}{\\left| A_{ij} \\cup B_{ij} \\right|}\n",
    "$$"
   ]
  },
  {
   "cell_type": "code",
   "execution_count": 1,
   "id": "a661200b-0885-4ad6-9e50-f9b552f74857",
   "metadata": {},
   "outputs": [],
   "source": [
    "using IntervalArithmetic\n",
    "using LaTeXStrings"
   ]
  },
  {
   "cell_type": "code",
   "execution_count": 2,
   "id": "6ae45f35-7c99-45c9-a934-88166cfef5fb",
   "metadata": {},
   "outputs": [],
   "source": [
    "include(\"./index.jl\")\n",
    "include(\"../intervalPCM/index.jl\")\n",
    "include(\"../twofoldInterval/index.jl\")\n",
    "include(\"../twofoldIntervalPCM/index.jl\")\n",
    "\n",
    "print()"
   ]
  },
  {
   "cell_type": "code",
   "execution_count": 3,
   "id": "f6600aef-528e-4336-9695-9b6123a05033",
   "metadata": {},
   "outputs": [
    {
     "data": {
      "text/latex": [
       "$A = \\begin{bmatrix} \\left[   1.0, \\left[   1.0,   1.0 \\right],   1.0 \\right] & \\left[   2.2, \\left[   2.7,   2.8 \\right],   3.2 \\right] & \\left[  0.25, \\left[ 0.303, 0.333 \\right], 0.357 \\right] \\\\ \\left[ 0.312, \\left[ 0.357,  0.37 \\right], 0.455 \\right] & \\left[   1.0, \\left[   1.0,   1.0 \\right],   1.0 \\right] & \\left[   0.1, \\left[ 0.102, 0.103 \\right], 0.103 \\right] \\\\ \\left[   2.8, \\left[   3.0,   3.3 \\right],   4.0 \\right] & \\left[   9.7, \\left[   9.7,   9.8 \\right],  10.0 \\right] & \\left[   1.0, \\left[   1.0,   1.0 \\right],   1.0 \\right] \\end{bmatrix}$"
      ],
      "text/plain": [
       "\"\\$A = \\\\begin{bmatrix} \\\\left[   1.0, \\\\left[   1.0,   1.0 \\\\right],   1.0 \\\\right] & \\\\left[   2.2, \\\\left[   2.7,   2.8 \\\\right],   3.2 \\\\right] & \\\\left[  0.25, \\\\left[ 0.303, 0.333 \\\\right], 0.357 \\\\right] \\\\\\\\ \\\\left[ 0.312, \\\\left[ 0.357,  0.37 \\\\right], 0.455 \\\\right] & \\\\left[   1.0,\" ⋯ 24 bytes ⋯ \"ght],   1.0 \\\\right] & \\\\left[   0.1, \\\\left[ 0.102, 0.103 \\\\right], 0.103 \\\\right] \\\\\\\\ \\\\left[   2.8, \\\\left[   3.0,   3.3 \\\\right],   4.0 \\\\right] & \\\\left[   9.7, \\\\left[   9.7,   9.8 \\\\right],  10.0 \\\\right] & \\\\left[   1.0, \\\\left[   1.0,   1.0 \\\\right],   1.0 \\\\right] \\\\end{bmatrix}\\$\""
      ]
     },
     "metadata": {},
     "output_type": "display_data"
    }
   ],
   "source": [
    "A₁ = [\n",
    "    1..1 2.7..3.2 (1/3.3)..(1/3)\n",
    "    (1/3.2)..(1/2.7) 1..1 (1/10)..(1/9.7)\n",
    "    3..3.3 9.7..10 1..1\n",
    "]\n",
    "A₂ = [\n",
    "    1..1 2.2..2.8 (1/4)..(1/2.8)\n",
    "    (1/2.8)..(1/2.2) 1..1 (1/9.8)..(1/9.7)\n",
    "    2.8..4 9.7..9.8 1..1\n",
    "]\n",
    "\n",
    "A = intervalPCM2TwofoldIntervalPCM(A₁, A₂)\n",
    "\n",
    "display(L\"A = %$(twofoldIntervalMatrixLaTeXString(A))\")"
   ]
  },
  {
   "cell_type": "code",
   "execution_count": 4,
   "id": "6e507452",
   "metadata": {},
   "outputs": [
    {
     "data": {
      "image/png": "[encoded data removed]"
     },
     "execution_count": 4,
     "metadata": {},
     "output_type": "execute_result"
    }
   ],
   "source": [
    "plotConincidenceIndices(A₁, A₂, L\"\\frac{a}{b}\")"
   ]
  },
  {
   "cell_type": "code",
   "execution_count": 13,
   "id": "743623e6",
   "metadata": {},
   "outputs": [],
   "source": []
  }
 ],
 "metadata": {
  "kernelspec": {
   "display_name": "Julia 1.8.2",
   "language": "julia",
   "name": "julia-1.8"
  },
  "language_info": {
   "file_extension": ".jl",
   "mimetype": "application/julia",
   "name": "julia",
   "version": "1.8.2"
  },
  "vscode": {
   "interpreter": {
    "hash": "d4d1e4263499bec80672ea0156c357c1ee493ec2b1c70f0acce89fc37c4a6abe"
   }
  }
 },
 "nbformat": 4,
 "nbformat_minor": 5
}
