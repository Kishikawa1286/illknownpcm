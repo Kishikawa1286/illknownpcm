{
 "cells": [
  {
   "cell_type": "markdown",
   "id": "a8d26b58-7b40-4923-9fdf-05d4b71c5c0f",
   "metadata": {},
   "source": [
    "\n",
    "$$\n",
    "\\begin{align*}\n",
    "    \\text{minimize} ~~\n",
    "    & \\sum_{i \\in N} \\left( \\varepsilon_i^\\text{L} + \\varepsilon_i^\\text{U} \\right)\\\\\n",
    "    \\text{subject to} ~~\n",
    "    & a_{ij}^{\\text{L}+}w_j^\\text{U} - \\varepsilon_i^\\text{L} \\leq\n",
    "    w_i^\\text{L} \\leq\n",
    "    a_{ij}^{\\text{L}-}w_j^\\text{U} + \\varepsilon_i^\\text{L}, ~~ i, j \\in N, ~~ i \\not= j, \\\\\n",
    "    & a_{ij}^{\\text{U}-}w_j^\\text{L} - \\varepsilon_i^\\text{U} \\leq\n",
    "    w_i^\\text{U} \\leq\n",
    "    a_{ij}^{\\text{U}+}w_j^\\text{L} + \\varepsilon_i^\\text{U}, ~~ i, j \\in N, ~~ i \\not= j, \\\\\n",
    "    & \\varepsilon_i^\\text{L} \\geq w_i^{\\text{L}+} - w_i^{\\text{L}-}, ~~\n",
    "    \\varepsilon_i^\\text{U} \\geq w_i^{\\text{U}-} - w_i^{\\text{U}+}, ~~ i \\in N, \\\\\n",
    "    & w_i^{\\text{L}-} \\leq a_{ij}^{\\text{L}-}w_j^\\text{U}, ~~\n",
    "    w_i^{\\text{L}+} \\geq a_{ij}^{\\text{L}+}w_j^\\text{U}, ~~ i, j \\in N, ~~ i \\not= j, \\\\\n",
    "    & w_i^{\\text{U}-} \\geq a_{ij}^{\\text{U}-}w_j^\\text{L}, ~~\n",
    "    w_i^{\\text{U}+} \\leq a_{ij}^{\\text{U}+}w_j^\\text{L}, ~~ i, j \\in N, ~~ i \\not= j, \\\\\n",
    "    & \\sum_{i \\in N\\backslash\\{ j \\}} w_i^\\text{U} + w_j^\\text{L} \\geq 1, ~~\n",
    "    \\sum_{i \\in N\\backslash\\{ j \\}} w_i^\\text{L} + w_j^\\text{U} \\leq 1, ~~ j \\in N, \\\\\n",
    "    & \\sum_{i \\in N} \\left(  w_i^\\text{L} +  w_i^\\text{U} \\right) = 2, \\\\\n",
    "    & w_i^\\text{U} \\geq w_i^\\text{L} \\geq \\epsilon, ~~ i \\in N, ~~\n",
    "    w_i^{\\text{L}+}, w_i^{\\text{L}-}, \\varepsilon_i^\\text{L},\n",
    "    w_i^{\\text{U}-}, w_i^{\\text{U}+}, \\varepsilon_i^\\text{U} \\geq 0, ~~ i \\in N\n",
    "\\end{align*}\n",
    "$$"
   ]
  },
  {
   "cell_type": "markdown",
   "id": "3ec3ffe7-d638-4db1-8954-48392d5a9afe",
   "metadata": {},
   "source": [
    "$$\n",
    "\\hat{a}_{ij}^{\\text{L}-} = \\max\\left( a_{ij}^{\\text{L}-}, \\frac{w_i^{\\text{L}+}}{w_j^\\text{U}}, \\frac{w_i^\\text{L}}{w_j^{\\text{U}+}} \\right), ~~\n",
    "i, j \\in N, ~~ i \\not= j, \\\\\n",
    "\\hat{a}_{ij}^{\\text{U}-} = \\min\\left( a_{ij}^{\\text{U}-}, \\frac{w_i^{\\text{U}+}}{w_j^\\text{L}}, \\frac{w_i^\\text{U}}{w_j^{\\text{L}+}} \\right), ~~\n",
    "i, j \\in N, ~~ i \\not= j, \\\\\n",
    "\\hat{a}_{ij}^{\\text{L}+} = \\min\\left( a_{ij}^{\\text{L}+}, \\frac{w_i^{\\text{L}-}}{w_j^\\text{U}}, \\frac{w_i^\\text{L}}{w_j^{\\text{U}-}} \\right), ~~\n",
    "i, j \\in N, ~~ i \\not= j, \\\\\n",
    "\\hat{a}_{ij}^{\\text{U}+} = \\max\\left( a_{ij}^{\\text{U}+}, \\frac{w_i^{\\text{U}-}}{w_j^\\text{L}}, \\frac{w_i^\\text{U}}{w_j^{\\text{L}-}} \\right), ~~\n",
    "i, j \\in N, ~~ i \\not= j \\\\\n",
    "$$\n",
    "\n",
    "$\\hat{A} = \\left( \\left[ \\hat{a}_{ij}^{\\text{L}-}, \\hat{a}_{ij}^{\\text{U}-} \\right], \\left[ \\hat{a}_{ij}^{\\text{L}+}, \\hat{a}_{ij}^{\\text{U}+} \\right] \\right)_{n \\times n}$"
   ]
  },
  {
   "cell_type": "code",
   "execution_count": 4,
   "id": "a661200b-0885-4ad6-9e50-f9b552f74857",
   "metadata": {},
   "outputs": [],
   "source": [
    "using IntervalArithmetic\n",
    "using LaTeXStrings"
   ]
  },
  {
   "cell_type": "code",
   "execution_count": 5,
   "id": "6ae45f35-7c99-45c9-a934-88166cfef5fb",
   "metadata": {},
   "outputs": [],
   "source": [
    "include(\"./index.jl\")\n",
    "include(\"../intervalPCM/index.jl\")\n",
    "include(\"../twofoldInterval/index.jl\")\n",
    "include(\"../twofoldIntervalPCM/index.jl\")\n",
    "\n",
    "print()"
   ]
  },
  {
   "cell_type": "code",
   "execution_count": 6,
   "id": "f6600aef-528e-4336-9695-9b6123a05033",
   "metadata": {},
   "outputs": [
    {
     "data": {
      "text/latex": [
       "$A = \\begin{bmatrix} \\left[   1.0, \\left[   1.0,   1.0 \\right],   1.0 \\right] & \\left[   2.2, \\left[   2.7,   2.8 \\right],   3.2 \\right] & \\left[  0.25, \\left[ 0.303, 0.333 \\right], 0.357 \\right] \\\\ \\left[ 0.312, \\left[ 0.357,  0.37 \\right], 0.455 \\right] & \\left[   1.0, \\left[   1.0,   1.0 \\right],   1.0 \\right] & \\left[   0.1, \\left[ 0.102, 0.103 \\right], 0.103 \\right] \\\\ \\left[   2.8, \\left[   3.0,   3.3 \\right],   4.0 \\right] & \\left[   9.7, \\left[   9.7,   9.8 \\right],  10.0 \\right] & \\left[   1.0, \\left[   1.0,   1.0 \\right],   1.0 \\right] \\end{bmatrix}$"
      ],
      "text/plain": [
       "\"\\$A = \\\\begin{bmatrix} \\\\left[   1.0, \\\\left[   1.0,   1.0 \\\\right],   1.0 \\\\right] & \\\\left[   2.2, \\\\left[   2.7,   2.8 \\\\right],   3.2 \\\\right] & \\\\left[  0.25, \\\\left[ 0.303, 0.333 \\\\right], 0.357 \\\\right] \\\\\\\\ \\\\left[ 0.312, \\\\left[ 0.357,  0.37 \\\\right], 0.455 \\\\right] & \\\\left[   1.0,\" ⋯ 24 bytes ⋯ \"ght],   1.0 \\\\right] & \\\\left[   0.1, \\\\left[ 0.102, 0.103 \\\\right], 0.103 \\\\right] \\\\\\\\ \\\\left[   2.8, \\\\left[   3.0,   3.3 \\\\right],   4.0 \\\\right] & \\\\left[   9.7, \\\\left[   9.7,   9.8 \\\\right],  10.0 \\\\right] & \\\\left[   1.0, \\\\left[   1.0,   1.0 \\\\right],   1.0 \\\\right] \\\\end{bmatrix}\\$\""
      ]
     },
     "metadata": {},
     "output_type": "display_data"
    }
   ],
   "source": [
    "A₁ = [\n",
    "    1..1 2.7..3.2 (1/3.3)..(1/3)\n",
    "    (1/3.2)..(1/2.7) 1..1 (1/10)..(1/9.7)\n",
    "    3..3.3 9.7..10 1..1\n",
    "]\n",
    "A₂ = [\n",
    "    1..1 2.2..2.8 (1/4)..(1/2.8)\n",
    "    (1/2.8)..(1/2.2) 1..1 (1/9.8)..(1/9.7)\n",
    "    2.8..4 9.7..9.8 1..1\n",
    "]\n",
    "\n",
    "A = intervalPCM2TwofoldIntervalPCM(A₁, A₂)\n",
    "\n",
    "display(L\"A = %$(twofoldIntervalMatrixLaTeXString(A))\")"
   ]
  },
  {
   "cell_type": "code",
   "execution_count": 7,
   "id": "180ce015",
   "metadata": {},
   "outputs": [
    {
     "data": {
      "text/latex": [
       "$W = \\begin{bmatrix}\\left[ 0.216, 0.232 \\right] \\\\ \\left[ 0.072, 0.073 \\right] \\\\ \\left[ 0.696, 0.711 \\right]\\end{bmatrix}$"
      ],
      "text/plain": [
       "L\"$W = \\begin{bmatrix}\\left[ 0.216, 0.232 \\right] \\\\ \\left[ 0.072, 0.073 \\right] \\\\ \\left[ 0.696, 0.711 \\right]\\end{bmatrix}$\""
      ]
     },
     "metadata": {},
     "output_type": "display_data"
    },
    {
     "data": {
      "text/latex": [
       "$w^{\\text{L}-} = \\begin{bmatrix} 0.198  \\\\  0.072  \\\\  0.696 \\end{bmatrix}, ~~\n",
       "w^{\\text{U}-} = \\begin{bmatrix} 0.232  \\\\  0.08  \\\\  0.711 \\end{bmatrix}, ~~\n",
       "w^{\\text{L}+} = \\begin{bmatrix} 0.232  \\\\  0.073  \\\\  0.711 \\end{bmatrix}, ~~\n",
       "w^{\\text{U}+} = \\begin{bmatrix} 0.232  \\\\  0.073  \\\\  0.711 \\end{bmatrix}\n",
       "$"
      ],
      "text/plain": [
       "L\"$w^{\\text{L}-} = \\begin{bmatrix} 0.198  \\\\  0.072  \\\\  0.696 \\end{bmatrix}, ~~\n",
       "w^{\\text{U}-} = \\begin{bmatrix} 0.232  \\\\  0.08  \\\\  0.711 \\end{bmatrix}, ~~\n",
       "w^{\\text{L}+} = \\begin{bmatrix} 0.232  \\\\  0.073  \\\\  0.711 \\end{bmatrix}, ~~\n",
       "w^{\\text{U}+} = \\begin{bmatrix} 0.232  \\\\  0.073  \\\\  0.711 \\end{bmatrix}\n",
       "$\""
      ]
     },
     "metadata": {},
     "output_type": "display_data"
    },
    {
     "data": {
      "text/latex": [
       "$\\varepsilon^\\text{L} = \\begin{bmatrix} 0.034  \\\\  0.002  \\\\  0.015 \\end{bmatrix}, ~~\n",
       "\\varepsilon^\\text{U} = \\begin{bmatrix} 0.017  \\\\  0.008  \\\\  0.015 \\end{bmatrix}\n",
       "$"
      ],
      "text/plain": [
       "L\"$\\varepsilon^\\text{L} = \\begin{bmatrix} 0.034  \\\\  0.002  \\\\  0.015 \\end{bmatrix}, ~~\n",
       "\\varepsilon^\\text{U} = \\begin{bmatrix} 0.017  \\\\  0.008  \\\\  0.015 \\end{bmatrix}\n",
       "$\""
      ]
     },
     "metadata": {},
     "output_type": "display_data"
    }
   ],
   "source": [
    "result = solveLP_m1(A)\n",
    "\n",
    "displayLPResult_m1(result)"
   ]
  },
  {
   "cell_type": "code",
   "execution_count": 8,
   "id": "07ec410a",
   "metadata": {},
   "outputs": [
    {
     "data": {
      "text/latex": [
       "$A = \\begin{bmatrix} \\left[   1.0, \\left[   1.0,   1.0 \\right],   1.0 \\right] & \\left[   2.2, \\left[   2.7,   2.8 \\right],   3.2 \\right] & \\left[  0.25, \\left[ 0.303, 0.333 \\right], 0.357 \\right] \\\\ \\left[ 0.312, \\left[ 0.357,  0.37 \\right], 0.455 \\right] & \\left[   1.0, \\left[   1.0,   1.0 \\right],   1.0 \\right] & \\left[   0.1, \\left[ 0.102, 0.103 \\right], 0.103 \\right] \\\\ \\left[   2.8, \\left[   3.0,   3.3 \\right],   4.0 \\right] & \\left[   9.7, \\left[   9.7,   9.8 \\right],  10.0 \\right] & \\left[   1.0, \\left[   1.0,   1.0 \\right],   1.0 \\right] \\end{bmatrix}$"
      ],
      "text/plain": [
       "\"\\$A = \\\\begin{bmatrix} \\\\left[   1.0, \\\\left[   1.0,   1.0 \\\\right],   1.0 \\\\right] & \\\\left[   2.2, \\\\left[   2.7,   2.8 \\\\right],   3.2 \\\\right] & \\\\left[  0.25, \\\\left[ 0.303, 0.333 \\\\right], 0.357 \\\\right] \\\\\\\\ \\\\left[ 0.312, \\\\left[ 0.357,  0.37 \\\\right], 0.455 \\\\right] & \\\\left[   1.0,\" ⋯ 24 bytes ⋯ \"ght],   1.0 \\\\right] & \\\\left[   0.1, \\\\left[ 0.102, 0.103 \\\\right], 0.103 \\\\right] \\\\\\\\ \\\\left[   2.8, \\\\left[   3.0,   3.3 \\\\right],   4.0 \\\\right] & \\\\left[   9.7, \\\\left[   9.7,   9.8 \\\\right],  10.0 \\\\right] & \\\\left[   1.0, \\\\left[   1.0,   1.0 \\\\right],   1.0 \\\\right] \\\\end{bmatrix}\\$\""
      ]
     },
     "metadata": {},
     "output_type": "display_data"
    },
    {
     "data": {
      "text/latex": [
       "$\\hat{A} = \\begin{bmatrix} \\left[   1.0, \\left[   1.0,   1.0 \\right],   1.0 \\right] & \\left[   2.2, \\emptyset, 3.233 \\right] & \\left[  0.25, \\left[ 0.326, 0.326 \\right], 0.357 \\right] \\\\ \\left[ 0.309, \\emptyset, 0.455 \\right] & \\left[   1.0, \\left[   1.0,   1.0 \\right],   1.0 \\right] & \\left[   0.1, \\left[ 0.103, 0.103 \\right], 0.115 \\right] \\\\ \\left[   2.8, \\left[ 3.065, 3.065 \\right],   4.0 \\right] & \\left[ 8.722, \\left[   9.7,   9.7 \\right],  10.0 \\right] & \\left[   1.0, \\left[   1.0,   1.0 \\right],   1.0 \\right] \\end{bmatrix}$"
      ],
      "text/plain": [
       "L\"$\\hat{A} = \\begin{bmatrix} \\left[   1.0, \\left[   1.0,   1.0 \\right],   1.0 \\right] & \\left[   2.2, \\emptyset, 3.233 \\right] & \\left[  0.25, \\left[ 0.326, 0.326 \\right], 0.357 \\right] \\\\ \\left[ 0.309, \\emptyset, 0.455 \\right] & \\left[   1.0, \\left[   1.0,   1.0 \\right],   1.0 \\right] & \\left[   0.1, \\left[ 0.103, 0.103 \\right], 0.115 \\right] \\\\ \\left[   2.8, \\left[ 3.065, 3.065 \\right],   4.0 \\right] & \\left[ 8.722, \\left[   9.7,   9.7 \\right],  10.0 \\right] & \\left[   1.0, \\left[   1.0,   1.0 \\right],   1.0 \\right] \\end{bmatrix}$\""
      ]
     },
     "metadata": {},
     "output_type": "display_data"
    }
   ],
   "source": [
    "Â = updatePCM_m1(A, result)\n",
    "\n",
    "display(L\"A = %$(twofoldIntervalMatrixLaTeXString(A))\")\n",
    "display(L\"\\hat{A} = %$(twofoldIntervalMatrixLaTeXString(Â))\")"
   ]
  },
  {
   "cell_type": "code",
   "execution_count": null,
   "id": "ce5b0fee",
   "metadata": {},
   "outputs": [],
   "source": []
  }
 ],
 "metadata": {
  "kernelspec": {
   "display_name": "Julia 1.8.2",
   "language": "julia",
   "name": "julia-1.8"
  },
  "language_info": {
   "file_extension": ".jl",
   "mimetype": "application/julia",
   "name": "julia",
   "version": "1.8.2"
  }
 },
 "nbformat": 4,
 "nbformat_minor": 5
}
