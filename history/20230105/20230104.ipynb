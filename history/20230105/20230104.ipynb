{
 "cells": [
  {
   "cell_type": "markdown",
   "id": "861633f4-1250-459f-a30a-a7b79b59f811",
   "metadata": {},
   "source": [
    "# 2023 / 01 / 04"
   ]
  },
  {
   "cell_type": "code",
   "execution_count": 1,
   "id": "cc9c2ab8-e95b-4b69-9229-5be8a94d9517",
   "metadata": {},
   "outputs": [],
   "source": [
    "using IntervalArithmetic\n",
    "using LaTeXStrings"
   ]
  },
  {
   "cell_type": "code",
   "execution_count": 2,
   "id": "31f113d6-703e-4d94-8bf6-6f29a91a5859",
   "metadata": {},
   "outputs": [
    {
     "data": {
      "text/plain": [
       "intervalPCM2TwofoldIntervalPCM"
      ]
     },
     "metadata": {},
     "output_type": "display_data"
    }
   ],
   "source": [
    "include(\"./concatImportanceMethod/concatImportanceMethod.jl\")\n",
    "include(\"./concatMatricesMethod/concatMatricesMethod.jl\")\n",
    "include(\"./display/concatImportanceMethod.jl\")\n",
    "include(\"./display/concatMatricesMethod.jl\")\n",
    "include(\"./display/interval.jl\")\n",
    "include(\"./display/twofoldInterval.jl\")\n",
    "include(\"./twofoldIntervalPCM/twofoldIntervalPCM.jl\")"
   ]
  },
  {
   "cell_type": "code",
   "execution_count": 3,
   "id": "0641976a-5193-49af-b922-28624f8155ca",
   "metadata": {},
   "outputs": [
    {
     "data": {
      "text/plain": [
       "concatMatricesMethod (generic function with 1 method)"
      ]
     },
     "metadata": {},
     "output_type": "display_data"
    }
   ],
   "source": [
    "function concatMatricesMethod(A₁::Matrix{Interval{T}}, A₂::Matrix{Interval{T}}) where {T <: Real}\n",
    "    A = intervalPCM2TwofoldIntervalPCM(A₁, A₂)\n",
    "    display(L\"\\text{修正前の行列}\")\n",
    "    display(L\"A = %$(twofoldIntervalMatrixLaTeXString(A))\")\n",
    "\n",
    "    result = solveConcatMatricesMethodLP(A)\n",
    "    display(L\"\\text{LPの最適解}\")\n",
    "    displayConcatMatricesMethodLPResult(result)\n",
    "\n",
    "    Â = updateConcatMatricesMethodPCM(A, result)\n",
    "    display(L\"\\text{修正後の行列}\")\n",
    "    display(L\"\\hat{A} = %$(twofoldIntervalMatrixLaTeXString(Â))\")\n",
    "end"
   ]
  },
  {
   "cell_type": "code",
   "execution_count": 4,
   "id": "a3e5def2",
   "metadata": {},
   "outputs": [
    {
     "data": {
      "text/plain": [
       "concatImportanceMethod (generic function with 1 method)"
      ]
     },
     "metadata": {},
     "output_type": "display_data"
    }
   ],
   "source": [
    "function concatImportanceMethod(A₁::Matrix{Interval{T}}, A₂::Matrix{Interval{T}}) where {T <: Real}\n",
    "    approximationResults = solveConcatImportanceMethodApproximationLP.([A₁, A₂])\n",
    "    display(L\"\\text{各DMの上近似と下近似}\")\n",
    "    displayConcatImportanceMethodApproximationLPResults(approximationResults)\n",
    "\n",
    "    tBoundaries = calculateConcatImportanceMethodTBoundaries.(approximationResults)\n",
    "    display(L\"\\text{各DMの上近似と下近似の}t\\text{の範囲}\")\n",
    "    displayConcatImportanceMethodTBoundaries(tBoundaries)\n",
    "\n",
    "    result = solveConcatImportanceMethodConcatLP(approximationResults, tBoundaries)\n",
    "    display(L\"\\text{LPの最適解}\")\n",
    "    displayConcatImportanceMethodConcatLPResult(result)\n",
    "\n",
    "    Â = generateConcatImportanceMethodPCM(result)\n",
    "    display(L\"\\text{結合後のPCM}\")\n",
    "    display(L\"\\hat{A} = %$(twofoldIntervalMatrixLaTeXString(Â))\")\n",
    "end"
   ]
  },
  {
   "cell_type": "code",
   "execution_count": 5,
   "id": "25af7ad0",
   "metadata": {},
   "outputs": [
    {
     "data": {
      "text/plain": [
       "runBothMethod (generic function with 1 method)"
      ]
     },
     "metadata": {},
     "output_type": "display_data"
    }
   ],
   "source": [
    "function runBothMethod(A₁::Matrix{Interval{T}}, A₂::Matrix{Interval{T}}) where {T <: Real}\n",
    "    display(L\"A_1 = %$(intervalMatrixLaTeXString(A₁))\")\n",
    "    display(L\"A_2 = %$(intervalMatrixLaTeXString(A₂))\")\n",
    "    \n",
    "    display(L\"\\text{--- PCMを結合 ---}\")\n",
    "    concatMatricesMethod(A₁, A₂)\n",
    "\n",
    "    display(L\"\\text{--- 重要度を結合 ---}\")\n",
    "    concatImportanceMethod(A₁, A₂)\n",
    "end"
   ]
  },
  {
   "cell_type": "markdown",
   "id": "ff0712cb",
   "metadata": {},
   "source": [
    "結合前の順序が同じ場合に結合後も順序が保存されるかの検証"
   ]
  },
  {
   "cell_type": "code",
   "execution_count": 63,
   "id": "5736d77c",
   "metadata": {},
   "outputs": [
    {
     "data": {
      "text/latex": [
       "$A_1 = \\begin{bmatrix} \\left[ 1.0, 1.0 \\right] & \\left[ 1.05, 1.1 \\right] & \\left[ 1.1, 1.21 \\right] \\\\ \\left[ 0.909, 0.952 \\right] & \\left[ 1.0, 1.0 \\right] & \\left[ 1.1, 1.22 \\right] \\\\ \\left[ 0.826, 0.909 \\right] & \\left[ 0.82, 0.909 \\right] & \\left[ 1.0, 1.0 \\right] \\end{bmatrix}$"
      ],
      "text/plain": [
       "L\"$A_1 = \\begin{bmatrix} \\left[ 1.0, 1.0 \\right] & \\left[ 1.05, 1.1 \\right] & \\left[ 1.1, 1.21 \\right] \\\\ \\left[ 0.909, 0.952 \\right] & \\left[ 1.0, 1.0 \\right] & \\left[ 1.1, 1.22 \\right] \\\\ \\left[ 0.826, 0.909 \\right] & \\left[ 0.82, 0.909 \\right] & \\left[ 1.0, 1.0 \\right] \\end{bmatrix}$\""
      ]
     },
     "metadata": {},
     "output_type": "display_data"
    },
    {
     "data": {
      "text/latex": [
       "$A_2 = \\begin{bmatrix} \\left[ 1.0, 1.0 \\right] & \\left[ 2.8, 3.0 \\right] & \\left[ 1.0, 2.8 \\right] \\\\ \\left[ 0.333, 0.357 \\right] & \\left[ 1.0, 1.0 \\right] & \\left[ 0.125, 0.333 \\right] \\\\ \\left[ 0.357, 1.0 \\right] & \\left[ 3.0, 8.0 \\right] & \\left[ 1.0, 1.0 \\right] \\end{bmatrix}$"
      ],
      "text/plain": [
       "L\"$A_2 = \\begin{bmatrix} \\left[ 1.0, 1.0 \\right] & \\left[ 2.8, 3.0 \\right] & \\left[ 1.0, 2.8 \\right] \\\\ \\left[ 0.333, 0.357 \\right] & \\left[ 1.0, 1.0 \\right] & \\left[ 0.125, 0.333 \\right] \\\\ \\left[ 0.357, 1.0 \\right] & \\left[ 3.0, 8.0 \\right] & \\left[ 1.0, 1.0 \\right] \\end{bmatrix}$\""
      ]
     },
     "metadata": {},
     "output_type": "display_data"
    },
    {
     "data": {
      "text/latex": [
       "$\\text{各DMの上近似と下近似}$"
      ],
      "text/plain": [
       "L\"$\\text{各DMの上近似と下近似}$\""
      ]
     },
     "metadata": {},
     "output_type": "display_data"
    },
    {
     "data": {
      "text/latex": [
       "$    w_{1}^{\\text{L}-} = \\begin{bmatrix} 0.355  \\\\  0.338  \\\\  0.307 \\end{bmatrix}, ~~\n",
       "    w_{1}^{\\text{U}-} = \\begin{bmatrix} 0.355  \\\\  0.338  \\\\  0.307 \\end{bmatrix}, ~~\n",
       "    w_{1}^{\\text{L}+} = \\begin{bmatrix} 0.355  \\\\  0.323  \\\\  0.291 \\end{bmatrix}, ~~\n",
       "    w_{1}^{\\text{U}+} = \\begin{bmatrix} 0.355  \\\\  0.355  \\\\  0.323 \\end{bmatrix}\n",
       "$"
      ],
      "text/plain": [
       "L\"$    w_{1}^{\\text{L}-} = \\begin{bmatrix} 0.355  \\\\  0.338  \\\\  0.307 \\end{bmatrix}, ~~\n",
       "    w_{1}^{\\text{U}-} = \\begin{bmatrix} 0.355  \\\\  0.338  \\\\  0.307 \\end{bmatrix}, ~~\n",
       "    w_{1}^{\\text{L}+} = \\begin{bmatrix} 0.355  \\\\  0.323  \\\\  0.291 \\end{bmatrix}, ~~\n",
       "    w_{1}^{\\text{U}+} = \\begin{bmatrix} 0.355  \\\\  0.355  \\\\  0.323 \\end{bmatrix}\n",
       "$\""
      ]
     },
     "metadata": {},
     "output_type": "display_data"
    },
    {
     "data": {
      "text/latex": [
       "$    w_{2}^{\\text{L}-} = \\begin{bmatrix} 0.429  \\\\  0.143  \\\\  0.429 \\end{bmatrix}, ~~\n",
       "    w_{2}^{\\text{U}-} = \\begin{bmatrix} 0.429  \\\\  0.143  \\\\  0.429 \\end{bmatrix}, ~~\n",
       "    w_{2}^{\\text{L}+} = \\begin{bmatrix} 0.429  \\\\  0.054  \\\\  0.246 \\end{bmatrix}, ~~\n",
       "    w_{2}^{\\text{U}+} = \\begin{bmatrix} 0.69  \\\\  0.153  \\\\  0.429 \\end{bmatrix}\n",
       "$"
      ],
      "text/plain": [
       "L\"$    w_{2}^{\\text{L}-} = \\begin{bmatrix} 0.429  \\\\  0.143  \\\\  0.429 \\end{bmatrix}, ~~\n",
       "    w_{2}^{\\text{U}-} = \\begin{bmatrix} 0.429  \\\\  0.143  \\\\  0.429 \\end{bmatrix}, ~~\n",
       "    w_{2}^{\\text{L}+} = \\begin{bmatrix} 0.429  \\\\  0.054  \\\\  0.246 \\end{bmatrix}, ~~\n",
       "    w_{2}^{\\text{U}+} = \\begin{bmatrix} 0.69  \\\\  0.153  \\\\  0.429 \\end{bmatrix}\n",
       "$\""
      ]
     },
     "metadata": {},
     "output_type": "display_data"
    },
    {
     "data": {
      "text/latex": [
       "$\\text{各DMの上近似と下近似の}t\\text{の範囲}$"
      ],
      "text/plain": [
       "L\"$\\text{各DMの上近似と下近似の}t\\text{の範囲}$\""
      ]
     },
     "metadata": {},
     "output_type": "display_data"
    },
    {
     "data": {
      "text/latex": [
       "$    t_{1}^{\\text{L}-} = 1.0, ~~\n",
       "    t_{1}^{\\text{U}-} = 1.0, ~~\n",
       "    t_{1}^{\\text{L}+} = 1.0, ~~\n",
       "    t_{1}^{\\text{U}+} = 1.0\n",
       "$"
      ],
      "text/plain": [
       "L\"$    t_{1}^{\\text{L}-} = 1.0, ~~\n",
       "    t_{1}^{\\text{U}-} = 1.0, ~~\n",
       "    t_{1}^{\\text{L}+} = 1.0, ~~\n",
       "    t_{1}^{\\text{U}+} = 1.0\n",
       "$\""
      ]
     },
     "metadata": {},
     "output_type": "display_data"
    },
    {
     "data": {
      "text/latex": [
       "$    t_{2}^{\\text{L}-} = 1.0, ~~\n",
       "    t_{2}^{\\text{U}-} = 1.0, ~~\n",
       "    t_{2}^{\\text{L}+} = 0.99, ~~\n",
       "    t_{2}^{\\text{U}+} = 1.01\n",
       "$"
      ],
      "text/plain": [
       "L\"$    t_{2}^{\\text{L}-} = 1.0, ~~\n",
       "    t_{2}^{\\text{U}-} = 1.0, ~~\n",
       "    t_{2}^{\\text{L}+} = 0.99, ~~\n",
       "    t_{2}^{\\text{U}+} = 1.01\n",
       "$\""
      ]
     },
     "metadata": {},
     "output_type": "display_data"
    },
    {
     "data": {
      "text/latex": [
       "$\\text{LPの最適解}$"
      ],
      "text/plain": [
       "L\"$\\text{LPの最適解}$\""
      ]
     },
     "metadata": {},
     "output_type": "display_data"
    },
    {
     "data": {
      "text/latex": [
       "$t^- = \\begin{bmatrix} 1.0  \\\\  1.0 \\end{bmatrix}, ~~\n",
       "t^+ = \\begin{bmatrix} 1.0  \\\\  0.99 \\end{bmatrix}\n",
       "$"
      ],
      "text/plain": [
       "L\"$t^- = \\begin{bmatrix} 1.0  \\\\  1.0 \\end{bmatrix}, ~~\n",
       "t^+ = \\begin{bmatrix} 1.0  \\\\  0.99 \\end{bmatrix}\n",
       "$\""
      ]
     },
     "metadata": {},
     "output_type": "display_data"
    },
    {
     "data": {
      "text/latex": [
       "$W = \\begin{bmatrix}\\left[ 0.424, 0.429 \\right] \\\\ \\left[ 0.147, 0.264 \\right] \\\\ \\left[ 0.307, 0.429 \\right]\\end{bmatrix}$"
      ],
      "text/plain": [
       "L\"$W = \\begin{bmatrix}\\left[ 0.424, 0.429 \\right] \\\\ \\left[ 0.147, 0.264 \\right] \\\\ \\left[ 0.307, 0.429 \\right]\\end{bmatrix}$\""
      ]
     },
     "metadata": {},
     "output_type": "display_data"
    },
    {
     "data": {
      "text/latex": [
       "$v^{\\text{L}-} = \\begin{bmatrix} 0.355  \\\\  0.143  \\\\  0.307 \\end{bmatrix}, ~~\n",
       "v^{\\text{U}-} = \\begin{bmatrix} 0.429  \\\\  0.338  \\\\  0.429 \\end{bmatrix}, ~~\n",
       "v^{\\text{L}+} = \\begin{bmatrix} 0.424  \\\\  0.323  \\\\  0.291 \\end{bmatrix}, ~~\n",
       "v^{\\text{U}+} = \\begin{bmatrix} 0.424  \\\\  0.323  \\\\  0.291 \\end{bmatrix}\n",
       "$"
      ],
      "text/plain": [
       "L\"$v^{\\text{L}-} = \\begin{bmatrix} 0.355  \\\\  0.143  \\\\  0.307 \\end{bmatrix}, ~~\n",
       "v^{\\text{U}-} = \\begin{bmatrix} 0.429  \\\\  0.338  \\\\  0.429 \\end{bmatrix}, ~~\n",
       "v^{\\text{L}+} = \\begin{bmatrix} 0.424  \\\\  0.323  \\\\  0.291 \\end{bmatrix}, ~~\n",
       "v^{\\text{U}+} = \\begin{bmatrix} 0.424  \\\\  0.323  \\\\  0.291 \\end{bmatrix}\n",
       "$\""
      ]
     },
     "metadata": {},
     "output_type": "display_data"
    },
    {
     "data": {
      "text/latex": [
       "$\\varepsilon^\\text{L} = \\begin{bmatrix} 0.069  \\\\  0.18  \\\\  0.0 \\end{bmatrix}, ~~\n",
       "\\varepsilon^\\text{U} = \\begin{bmatrix} 0.074  \\\\  0.186  \\\\  0.106 \\end{bmatrix}\n",
       "$"
      ],
      "text/plain": [
       "L\"$\\varepsilon^\\text{L} = \\begin{bmatrix} 0.069  \\\\  0.18  \\\\  0.0 \\end{bmatrix}, ~~\n",
       "\\varepsilon^\\text{U} = \\begin{bmatrix} 0.074  \\\\  0.186  \\\\  0.106 \\end{bmatrix}\n",
       "$\""
      ]
     },
     "metadata": {},
     "output_type": "display_data"
    },
    {
     "data": {
      "text/latex": [
       "$\\text{結合後のPCM}$"
      ],
      "text/plain": [
       "L\"$\\text{結合後のPCM}$\""
      ]
     },
     "metadata": {},
     "output_type": "display_data"
    },
    {
     "data": {
      "text/latex": [
       "$\\hat{A} = \\begin{bmatrix} \\left[   1.0, \\left[   1.0,   1.0 \\right],   1.0 \\right] & \\left[ 0.833, \\emptyset, 3.383 \\right] & \\left[ 0.828, \\emptyset, 1.621 \\right] \\\\ \\left[ 0.296, \\emptyset,   1.2 \\right] & \\left[   1.0, \\left[   1.0,   1.0 \\right],   1.0 \\right] & \\left[ 0.333, \\emptyset, 1.657 \\right] \\\\ \\left[ 0.617, \\emptyset, 1.208 \\right] & \\left[ 0.604, \\emptyset,   3.0 \\right] & \\left[   1.0, \\left[   1.0,   1.0 \\right],   1.0 \\right] \\end{bmatrix}$"
      ],
      "text/plain": [
       "L\"$\\hat{A} = \\begin{bmatrix} \\left[   1.0, \\left[   1.0,   1.0 \\right],   1.0 \\right] & \\left[ 0.833, \\emptyset, 3.383 \\right] & \\left[ 0.828, \\emptyset, 1.621 \\right] \\\\ \\left[ 0.296, \\emptyset,   1.2 \\right] & \\left[   1.0, \\left[   1.0,   1.0 \\right],   1.0 \\right] & \\left[ 0.333, \\emptyset, 1.657 \\right] \\\\ \\left[ 0.617, \\emptyset, 1.208 \\right] & \\left[ 0.604, \\emptyset,   3.0 \\right] & \\left[   1.0, \\left[   1.0,   1.0 \\right],   1.0 \\right] \\end{bmatrix}$\""
      ]
     },
     "metadata": {},
     "output_type": "display_data"
    }
   ],
   "source": [
    "A₁ = [\n",
    "    1..1 1.05..1.1 1.1..1.21\n",
    "    (1/1.1)..(1/1.05) 1..1 1.1..1.22\n",
    "    (1/1.21)..(1/1.1) (1/1.22)..(1/1.1) 1..1\n",
    "]\n",
    "A₂ = [\n",
    "    1..1 2.8..3 1..2.8\n",
    "    (1/3)..(1/2.8) 1..1 (1/8)..(1/3)\n",
    "    (1/2.8)..1 3..8 1..1\n",
    "]\n",
    "\n",
    "display(L\"A_1 = %$(intervalMatrixLaTeXString(A₁))\")\n",
    "display(L\"A_2 = %$(intervalMatrixLaTeXString(A₂))\")\n",
    "\n",
    "concatImportanceMethod(A₁, A₂)"
   ]
  },
  {
   "cell_type": "code",
   "execution_count": 69,
   "id": "4fe84026",
   "metadata": {},
   "outputs": [
    {
     "data": {
      "text/latex": [
       "$A_1 = \\begin{bmatrix} \\left[ 1.0, 1.0 \\right] & \\left[ 1.0, 1.0 \\right] & \\left[ 1.0, 1.0 \\right] \\\\ \\left[ 1.0, 1.0 \\right] & \\left[ 1.0, 1.0 \\right] & \\left[ 1.0, 4.0 \\right] \\\\ \\left[ 1.0, 1.0 \\right] & \\left[ 0.25, 1.0 \\right] & \\left[ 1.0, 1.0 \\right] \\end{bmatrix}$"
      ],
      "text/plain": [
       "L\"$A_1 = \\begin{bmatrix} \\left[ 1.0, 1.0 \\right] & \\left[ 1.0, 1.0 \\right] & \\left[ 1.0, 1.0 \\right] \\\\ \\left[ 1.0, 1.0 \\right] & \\left[ 1.0, 1.0 \\right] & \\left[ 1.0, 4.0 \\right] \\\\ \\left[ 1.0, 1.0 \\right] & \\left[ 0.25, 1.0 \\right] & \\left[ 1.0, 1.0 \\right] \\end{bmatrix}$\""
      ]
     },
     "metadata": {},
     "output_type": "display_data"
    },
    {
     "data": {
      "text/latex": [
       "$A_2 = \\begin{bmatrix} \\left[ 1.0, 1.0 \\right] & \\left[ 1.0, 2.0 \\right] & \\left[ 1.0, 2.0 \\right] \\\\ \\left[ 0.5, 1.0 \\right] & \\left[ 1.0, 1.0 \\right] & \\left[ 1.0, 1.0 \\right] \\\\ \\left[ 0.5, 1.0 \\right] & \\left[ 1.0, 1.0 \\right] & \\left[ 1.0, 1.0 \\right] \\end{bmatrix}$"
      ],
      "text/plain": [
       "L\"$A_2 = \\begin{bmatrix} \\left[ 1.0, 1.0 \\right] & \\left[ 1.0, 2.0 \\right] & \\left[ 1.0, 2.0 \\right] \\\\ \\left[ 0.5, 1.0 \\right] & \\left[ 1.0, 1.0 \\right] & \\left[ 1.0, 1.0 \\right] \\\\ \\left[ 0.5, 1.0 \\right] & \\left[ 1.0, 1.0 \\right] & \\left[ 1.0, 1.0 \\right] \\end{bmatrix}$\""
      ]
     },
     "metadata": {},
     "output_type": "display_data"
    },
    {
     "data": {
      "text/latex": [
       "$\\text{各DMの上近似と下近似}$"
      ],
      "text/plain": [
       "L\"$\\text{各DMの上近似と下近似}$\""
      ]
     },
     "metadata": {},
     "output_type": "display_data"
    },
    {
     "data": {
      "text/latex": [
       "$    w_{1}^{\\text{L}-} = \\begin{bmatrix} 0.333  \\\\  0.333  \\\\  0.333 \\end{bmatrix}, ~~\n",
       "    w_{1}^{\\text{U}-} = \\begin{bmatrix} 0.333  \\\\  0.333  \\\\  0.333 \\end{bmatrix}, ~~\n",
       "    w_{1}^{\\text{L}+} = \\begin{bmatrix} 0.333  \\\\  0.333  \\\\  0.133 \\end{bmatrix}, ~~\n",
       "    w_{1}^{\\text{U}+} = \\begin{bmatrix} 0.333  \\\\  0.533  \\\\  0.333 \\end{bmatrix}\n",
       "$"
      ],
      "text/plain": [
       "L\"$    w_{1}^{\\text{L}-} = \\begin{bmatrix} 0.333  \\\\  0.333  \\\\  0.333 \\end{bmatrix}, ~~\n",
       "    w_{1}^{\\text{U}-} = \\begin{bmatrix} 0.333  \\\\  0.333  \\\\  0.333 \\end{bmatrix}, ~~\n",
       "    w_{1}^{\\text{L}+} = \\begin{bmatrix} 0.333  \\\\  0.333  \\\\  0.133 \\end{bmatrix}, ~~\n",
       "    w_{1}^{\\text{U}+} = \\begin{bmatrix} 0.333  \\\\  0.533  \\\\  0.333 \\end{bmatrix}\n",
       "$\""
      ]
     },
     "metadata": {},
     "output_type": "display_data"
    },
    {
     "data": {
      "text/latex": [
       "$    w_{2}^{\\text{L}-} = \\begin{bmatrix} 0.5  \\\\  0.25  \\\\  0.25 \\end{bmatrix}, ~~\n",
       "    w_{2}^{\\text{U}-} = \\begin{bmatrix} 0.5  \\\\  0.25  \\\\  0.25 \\end{bmatrix}, ~~\n",
       "    w_{2}^{\\text{L}+} = \\begin{bmatrix} 0.333  \\\\  0.25  \\\\  0.25 \\end{bmatrix}, ~~\n",
       "    w_{2}^{\\text{U}+} = \\begin{bmatrix} 0.5  \\\\  0.333  \\\\  0.333 \\end{bmatrix}\n",
       "$"
      ],
      "text/plain": [
       "L\"$    w_{2}^{\\text{L}-} = \\begin{bmatrix} 0.5  \\\\  0.25  \\\\  0.25 \\end{bmatrix}, ~~\n",
       "    w_{2}^{\\text{U}-} = \\begin{bmatrix} 0.5  \\\\  0.25  \\\\  0.25 \\end{bmatrix}, ~~\n",
       "    w_{2}^{\\text{L}+} = \\begin{bmatrix} 0.333  \\\\  0.25  \\\\  0.25 \\end{bmatrix}, ~~\n",
       "    w_{2}^{\\text{U}+} = \\begin{bmatrix} 0.5  \\\\  0.333  \\\\  0.333 \\end{bmatrix}\n",
       "$\""
      ]
     },
     "metadata": {},
     "output_type": "display_data"
    },
    {
     "data": {
      "text/latex": [
       "$\\text{各DMの上近似と下近似の}t\\text{の範囲}$"
      ],
      "text/plain": [
       "L\"$\\text{各DMの上近似と下近似の}t\\text{の範囲}$\""
      ]
     },
     "metadata": {},
     "output_type": "display_data"
    },
    {
     "data": {
      "text/latex": [
       "$    t_{1}^{\\text{L}-} = 1.0, ~~\n",
       "    t_{1}^{\\text{U}-} = 1.0, ~~\n",
       "    t_{1}^{\\text{L}+} = 1.0, ~~\n",
       "    t_{1}^{\\text{U}+} = 1.0\n",
       "$"
      ],
      "text/plain": [
       "L\"$    t_{1}^{\\text{L}-} = 1.0, ~~\n",
       "    t_{1}^{\\text{U}-} = 1.0, ~~\n",
       "    t_{1}^{\\text{L}+} = 1.0, ~~\n",
       "    t_{1}^{\\text{U}+} = 1.0\n",
       "$\""
      ]
     },
     "metadata": {},
     "output_type": "display_data"
    },
    {
     "data": {
      "text/latex": [
       "$    t_{2}^{\\text{L}-} = 1.0, ~~\n",
       "    t_{2}^{\\text{U}-} = 1.0, ~~\n",
       "    t_{2}^{\\text{L}+} = 1.0, ~~\n",
       "    t_{2}^{\\text{U}+} = 1.0\n",
       "$"
      ],
      "text/plain": [
       "L\"$    t_{2}^{\\text{L}-} = 1.0, ~~\n",
       "    t_{2}^{\\text{U}-} = 1.0, ~~\n",
       "    t_{2}^{\\text{L}+} = 1.0, ~~\n",
       "    t_{2}^{\\text{U}+} = 1.0\n",
       "$\""
      ]
     },
     "metadata": {},
     "output_type": "display_data"
    },
    {
     "data": {
      "text/latex": [
       "$\\text{LPの最適解}$"
      ],
      "text/plain": [
       "L\"$\\text{LPの最適解}$\""
      ]
     },
     "metadata": {},
     "output_type": "display_data"
    },
    {
     "data": {
      "text/latex": [
       "$t^- = \\begin{bmatrix} 1.0  \\\\  1.0 \\end{bmatrix}, ~~\n",
       "t^+ = \\begin{bmatrix} 1.0  \\\\  1.0 \\end{bmatrix}\n",
       "$"
      ],
      "text/plain": [
       "L\"$t^- = \\begin{bmatrix} 1.0  \\\\  1.0 \\end{bmatrix}, ~~\n",
       "t^+ = \\begin{bmatrix} 1.0  \\\\  1.0 \\end{bmatrix}\n",
       "$\""
      ]
     },
     "metadata": {},
     "output_type": "display_data"
    },
    {
     "data": {
      "text/latex": [
       "$W = \\begin{bmatrix}\\left[ 0.333, 0.417 \\right] \\\\ \\left[ 0.333, 0.333 \\right] \\\\ \\left[ 0.25, 0.333 \\right]\\end{bmatrix}$"
      ],
      "text/plain": [
       "L\"$W = \\begin{bmatrix}\\left[ 0.333, 0.417 \\right] \\\\ \\left[ 0.333, 0.333 \\right] \\\\ \\left[ 0.25, 0.333 \\right]\\end{bmatrix}$\""
      ]
     },
     "metadata": {},
     "output_type": "display_data"
    },
    {
     "data": {
      "text/latex": [
       "$v^{\\text{L}-} = \\begin{bmatrix} 0.333  \\\\  0.25  \\\\  0.25 \\end{bmatrix}, ~~\n",
       "v^{\\text{U}-} = \\begin{bmatrix} 0.5  \\\\  0.333  \\\\  0.333 \\end{bmatrix}, ~~\n",
       "v^{\\text{L}+} = \\begin{bmatrix} 0.333  \\\\  0.333  \\\\  0.25 \\end{bmatrix}, ~~\n",
       "v^{\\text{U}+} = \\begin{bmatrix} 0.333  \\\\  0.333  \\\\  0.25 \\end{bmatrix}\n",
       "$"
      ],
      "text/plain": [
       "L\"$v^{\\text{L}-} = \\begin{bmatrix} 0.333  \\\\  0.25  \\\\  0.25 \\end{bmatrix}, ~~\n",
       "v^{\\text{U}-} = \\begin{bmatrix} 0.5  \\\\  0.333  \\\\  0.333 \\end{bmatrix}, ~~\n",
       "v^{\\text{L}+} = \\begin{bmatrix} 0.333  \\\\  0.333  \\\\  0.25 \\end{bmatrix}, ~~\n",
       "v^{\\text{U}+} = \\begin{bmatrix} 0.333  \\\\  0.333  \\\\  0.25 \\end{bmatrix}\n",
       "$\""
      ]
     },
     "metadata": {},
     "output_type": "display_data"
    },
    {
     "data": {
      "text/latex": [
       "$\\varepsilon^\\text{L} = \\begin{bmatrix} 0.0  \\\\  0.083  \\\\  0.0 \\end{bmatrix}, ~~\n",
       "\\varepsilon^\\text{U} = \\begin{bmatrix} 0.167  \\\\  0.0  \\\\  0.0 \\end{bmatrix}\n",
       "$"
      ],
      "text/plain": [
       "L\"$\\varepsilon^\\text{L} = \\begin{bmatrix} 0.0  \\\\  0.083  \\\\  0.0 \\end{bmatrix}, ~~\n",
       "\\varepsilon^\\text{U} = \\begin{bmatrix} 0.167  \\\\  0.0  \\\\  0.0 \\end{bmatrix}\n",
       "$\""
      ]
     },
     "metadata": {},
     "output_type": "display_data"
    },
    {
     "data": {
      "text/latex": [
       "$\\text{結合後のPCM}$"
      ],
      "text/plain": [
       "L\"$\\text{結合後のPCM}$\""
      ]
     },
     "metadata": {},
     "output_type": "display_data"
    },
    {
     "data": {
      "text/latex": [
       "$\\hat{A} = \\begin{bmatrix} \\left[   1.0, \\left[   1.0,   1.0 \\right],   1.0 \\right] & \\left[   1.0, \\left[   1.0,   1.0 \\right], 1.667 \\right] & \\left[   1.0, \\left[   1.0, 1.333 \\right],   2.0 \\right] \\\\ \\left[   0.6, \\left[   1.0,   1.0 \\right],   1.0 \\right] & \\left[   1.0, \\left[   1.0,   1.0 \\right],   1.0 \\right] & \\left[  0.75, \\left[   1.0, 1.333 \\right], 1.333 \\right] \\\\ \\left[   0.5, \\left[  0.75,   1.0 \\right],   1.0 \\right] & \\left[  0.75, \\left[  0.75,   1.0 \\right], 1.333 \\right] & \\left[   1.0, \\left[   1.0,   1.0 \\right],   1.0 \\right] \\end{bmatrix}$"
      ],
      "text/plain": [
       "\"\\$\\\\hat{A} = \\\\begin{bmatrix} \\\\left[   1.0, \\\\left[   1.0,   1.0 \\\\right],   1.0 \\\\right] & \\\\left[   1.0, \\\\left[   1.0,   1.0 \\\\right], 1.667 \\\\right] & \\\\left[   1.0, \\\\left[   1.0, 1.333 \\\\right],   2.0 \\\\right] \\\\\\\\ \\\\left[   0.6, \\\\left[   1.0,   1.0 \\\\right],   1.0 \\\\right] & \\\\left[ \" ⋯ 30 bytes ⋯ \"ght],   1.0 \\\\right] & \\\\left[  0.75, \\\\left[   1.0, 1.333 \\\\right], 1.333 \\\\right] \\\\\\\\ \\\\left[   0.5, \\\\left[  0.75,   1.0 \\\\right],   1.0 \\\\right] & \\\\left[  0.75, \\\\left[  0.75,   1.0 \\\\right], 1.333 \\\\right] & \\\\left[   1.0, \\\\left[   1.0,   1.0 \\\\right],   1.0 \\\\right] \\\\end{bmatrix}\\$\""
      ]
     },
     "metadata": {},
     "output_type": "display_data"
    }
   ],
   "source": [
    "A₁ = [\n",
    "    1..1 1..1 1..1\n",
    "    1..1 1..1 1..4\n",
    "    1..1 (1/4)..1 1..1\n",
    "]\n",
    "A₂ = [\n",
    "    1..1 (1/3)..2 1..2\n",
    "    (1/2)..3 1..1 1..1\n",
    "    (1/2)..1 1..1 1..1\n",
    "]\n",
    "\n",
    "display(L\"A_1 = %$(intervalMatrixLaTeXString(A₁))\")\n",
    "display(L\"A_2 = %$(intervalMatrixLaTeXString(A₂))\")\n",
    "\n",
    "concatImportanceMethod(A₁, A₂)"
   ]
  },
  {
   "cell_type": "code",
   "execution_count": null,
   "id": "300df3b8",
   "metadata": {},
   "outputs": [],
   "source": []
  }
 ],
 "metadata": {
  "kernelspec": {
   "display_name": "Julia 1.8.2",
   "language": "julia",
   "name": "julia-1.8"
  },
  "language_info": {
   "file_extension": ".jl",
   "mimetype": "application/julia",
   "name": "julia",
   "version": "1.8.2"
  },
  "vscode": {
   "interpreter": {
    "hash": "d4d1e4263499bec80672ea0156c357c1ee493ec2b1c70f0acce89fc37c4a6abe"
   }
  }
 },
 "nbformat": 4,
 "nbformat_minor": 5
}
