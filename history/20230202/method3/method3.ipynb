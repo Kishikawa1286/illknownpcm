{
 "cells": [
  {
   "cell_type": "markdown",
   "id": "1dcc5ef9",
   "metadata": {},
   "source": [
    "上・下近似を同時に求めるLPが実行可能かを求めるLP  \n",
    "これを各 $k \\in M$ について解く\n",
    "\n",
    "$$\n",
    "\\begin{align*}\n",
    "    \\text{minimize} ~~ & ~~\n",
    "    \\sum_{i \\in N} \\left( \\delta_{ki}^\\text{L} + \\delta_{ki}^\\text{U} \\right) \\\\\n",
    "    \\text{subject to} ~~ & ~~\n",
    "    a_{kij}^\\text{L} w_{kj}^{\\text{U}+} \\geq w_{ki}^{\\text{L}+}, ~~\n",
    "    a_{kij}^\\text{U} w_{kj}^{\\text{L}-} \\leq w_{ki}^{\\text{U}+}, ~~\n",
    "    i, j \\in N, ~~ i \\not= j \\\\ & ~~\n",
    "    a_{kij}^\\text{L} w_{kj}^{\\text{U}-} - \\delta_{ki}^\\text{L} \\leq w_{ki}^{\\text{L}-}, ~~\n",
    "    a_{kij}^\\text{U} w_{kj}^{\\text{L}-} + \\delta_{ki}^\\text{U} \\geq w_{ki}^{\\text{U}-}, ~~\n",
    "    i, j \\in N, ~~ i \\not= j, \\\\ & ~~\n",
    "    \\sum_{j \\in N \\backslash \\{i\\}} w_{kj}^{\\text{U}-} + w_{ki}^{\\text{L}-} \\geq 1, ~~\n",
    "    \\sum_{j \\in N \\backslash \\{i\\}} w_{kj}^{\\text{L}-} + w_{ki}^{\\text{U}-} \\leq 1, ~~\n",
    "    i \\in N, \\\\ & ~~\n",
    "    \\sum_{j \\in N \\backslash \\{i\\}} w_{kj}^{\\text{U}+} + w_{ki}^{\\text{L}+} \\geq 1, ~~\n",
    "    \\sum_{j \\in N \\backslash \\{i\\}} w_{kj}^{\\text{L}+} + w_{ki}^{\\text{U}+} \\leq 1, ~~\n",
    "    i \\in N, \\\\ & ~~\n",
    "    \\sum_{i \\in N} \\left( w_{ki}^{\\text{L}-} + w_{ki}^{\\text{U}-} \\right) = 2, ~~\n",
    "    \\sum_{i \\in N} \\left( w_{ki}^{\\text{L}+} + w_{ki}^{\\text{U}+} \\right) = 2, \\\\ & ~~\n",
    "    w_{ki}^{\\text{U}+} \\geq w_{ki}^{\\text{U}-} \\geq w_{ki}^{\\text{L}-} \\geq w_{ki}^{\\text{L}+} \\geq \\varepsilon, ~~\n",
    "    \\delta_{ki}^\\text{L}, \\delta_{ki}^\\text{U} \\geq 0, ~~ i \\in N\n",
    "\\end{align*}\n",
    "$$\n",
    "\n",
    "最適値が $0$ であれば上・下近似を同時に求めるLPが実行可能"
   ]
  },
  {
   "cell_type": "markdown",
   "id": "65a51c51",
   "metadata": {},
   "source": [
    "上・下近似を同時に求めるLPが実行可能でない場合は上近似のみを求める\n",
    "\n",
    "$$\n",
    "\\begin{align*}\n",
    "    \\text{minimize} ~~ & ~~\n",
    "    \\sum_{i \\in N} \\left( -w_{ki}^{\\text{L}+} + w_{ki}^{\\text{U}+} \\right), \\\\\n",
    "    \\text{subject to} ~~ & ~~\n",
    "    w_{ki}^{\\text{L}+} \\leq a_{kij}^\\text{L} w_{kj}^{\\text{U}+} ~~\n",
    "    a_{kij}^\\text{U} w_{kj}^{\\text{L}+} \\leq w_{ki}^{\\text{U}+}, ~~\n",
    "    i, j \\in N, \\\\ & ~~\n",
    "    \\sum_{j \\in N \\backslash \\{i\\}} w_{kj}^{\\text{U}+} + w_{ki}^{\\text{L}+} \\geq 1, ~~\n",
    "    \\sum_{j \\in N \\backslash \\{i\\}} w_{kj}^{\\text{L}+} + w_{ki}^{\\text{U}+} \\leq 1, ~~\n",
    "    i \\in N, \\\\ & ~~\n",
    "    \\sum_{i \\in N} \\left( w_{ki}^{\\text{L}+} + w_{ki}^{\\text{U}+} \\right) = 2, \\\\ & ~~\n",
    "    w_{ki}^{\\text{U}+} \\geq w_{ki}^{\\text{L}+} \\geq \\varepsilon, ~~ i \\in N\n",
    "\\end{align*}\n",
    "$$\n",
    "\n",
    "$W_k^- = \\emptyset$ として考える"
   ]
  },
  {
   "cell_type": "markdown",
   "id": "855aed4e",
   "metadata": {},
   "source": [
    "$$\n",
    "t_k^{\\text{L}+} = \\left( \\min_{i \\in N} \\left( \\sum_{j \\in N \\backslash \\{i\\}} w_{kj}^{\\text{U}+} + w_{ki}^{\\text{L}+} \\right) \\right)^{-1}, ~~\n",
    "t_k^{\\text{U}+} = \\left( \\max_{i \\in N} \\left( \\sum_{j \\in N \\backslash \\{i\\}} w_{kj}^{\\text{L}+} + w_{ki}^{\\text{U}+} \\right) \\right)^{-1}\n",
    "$$"
   ]
  },
  {
   "cell_type": "markdown",
   "id": "e7a0f536",
   "metadata": {},
   "source": [
    "上・下近似を求めるLP  \n",
    "これを各 $k \\in M$ について解く\n",
    "\n",
    "$$\n",
    "\\begin{align*}\n",
    "    \\text{minimize} ~~ & ~~\n",
    "    \\sum_{i \\in N} \\left( w_{ki}^{\\text{L}-} - w_{ki}^{\\text{L}+} + w_{ki}^{\\text{U}+} - w_{ki}^{\\text{U}-} \\right), \\\\\n",
    "    \\text{subject to} ~~ & ~~\n",
    "    \\frac{w_{ki}^{\\text{L}+}}{w_{kj}^{\\text{U}+}} \\leq a_{kij}^\\text{L} \\leq \\frac{w_{ki}^{\\text{L}-}}{w_{kj}^{\\text{U}-}}, ~~\n",
    "    \\frac{w_{ki}^{\\text{U}-}}{w_{kj}^{\\text{L}-}} \\leq a_{kij}^\\text{U} \\leq \\frac{w_{ki}^{\\text{U}+}}{w_{kj}^{\\text{L}+}}, ~~\n",
    "    i, j \\in N, \\\\ & ~~\n",
    "    \\sum_{j \\in N \\backslash \\{i\\}} w_{kj}^{\\text{U}-} + w_{ki}^{\\text{L}-} \\geq 1, ~~\n",
    "    \\sum_{j \\in N \\backslash \\{i\\}} w_{kj}^{\\text{L}-} + w_{ki}^{\\text{U}-} \\leq 1, ~~\n",
    "    i \\in N, \\\\ & ~~\n",
    "    \\sum_{j \\in N \\backslash \\{i\\}} w_{kj}^{\\text{U}+} + w_{ki}^{\\text{L}+} \\geq 1, ~~\n",
    "    \\sum_{j \\in N \\backslash \\{i\\}} w_{kj}^{\\text{L}+} + w_{ki}^{\\text{U}+} \\leq 1, ~~\n",
    "    i \\in N, \\\\ & ~~\n",
    "    \\sum_{i \\in N} \\left( w_{ki}^{\\text{L}-} + w_{ki}^{\\text{U}-} \\right) = 2, ~~\n",
    "    \\sum_{i \\in N} \\left( w_{ki}^{\\text{L}+} + w_{ki}^{\\text{U}+} \\right) = 2, \\\\ & ~~\n",
    "    w_{ki}^{\\text{U}+} \\geq w_{ki}^{\\text{U}-} \\geq w_{ki}^{\\text{L}-} \\geq w_{ki}^{\\text{L}+} \\geq \\varepsilon, ~~ i \\in N\n",
    "\\end{align*}\n",
    "$$"
   ]
  },
  {
   "cell_type": "markdown",
   "id": "dc7043c7",
   "metadata": {},
   "source": [
    "$$\n",
    "t_k^{\\text{L}-} = \\left( \\min_{i \\in N} \\left( \\sum_{j \\in N \\backslash \\{i\\}} w_{kj}^{\\text{U}-} + w_{ki}^{\\text{L}-} \\right) \\right)^{-1}, ~~\n",
    "t_k^{\\text{U}-} = \\left( \\max_{i \\in N} \\left( \\sum_{j \\in N \\backslash \\{i\\}} w_{kj}^{\\text{L}-} + w_{ki}^{\\text{U}-} \\right) \\right)^{-1}, \\\\\n",
    "t_k^{\\text{L}+} = \\left( \\min_{i \\in N} \\left( \\sum_{j \\in N \\backslash \\{i\\}} w_{kj}^{\\text{U}+} + w_{ki}^{\\text{L}+} \\right) \\right)^{-1}, ~~\n",
    "t_k^{\\text{U}+} = \\left( \\max_{i \\in N} \\left( \\sum_{j \\in N \\backslash \\{i\\}} w_{kj}^{\\text{L}+} + w_{ki}^{\\text{U}+} \\right) \\right)^{-1}\n",
    "$$"
   ]
  },
  {
   "attachments": {},
   "cell_type": "markdown",
   "id": "08cd806f",
   "metadata": {},
   "source": [
    "$$\n",
    "b_i^{\\text{L}-} = \\begin{cases}\n",
    "    \\max \\left(\n",
    "        \\max_{k \\in M^{'}} \\left( t_k^{\\text{U}-} w_{ki}^{\\text{L}-} \\right),\n",
    "        \\max_{k \\in M} \\left( t_k^{\\text{U}+} w_{ki}^{\\text{L}+} \\right)\n",
    "    \\right)\n",
    "    & \\text{if } M^{'} \\neq \\emptyset, \\\\\n",
    "    \\max_{k \\in M} \\left( t_k^{\\text{U}+} w_{ki}^{\\text{L}+} \\right)\n",
    "    & \\text{otherwise}\n",
    "\\end{cases}, \\\\\n",
    "b_i^{\\text{U}-} = \\begin{cases}\n",
    "    \\min \\left(\n",
    "        \\min_{k \\in M^{'}} \\left( t_k^{\\text{L}-} w_{ki}^{\\text{U}-} \\right),\n",
    "        \\min_{k \\in M} \\left( t_k^{\\text{L}+} w_{ki}^{\\text{U}+} \\right)\n",
    "    \\right)\n",
    "    & \\text{if } M^{'} \\neq \\emptyset, \\\\\n",
    "    \\min_{k \\in M} \\left( t_k^{\\text{L}+} w_{ki}^{\\text{U}+} \\right)\n",
    "    & \\text{otherwise}\n",
    "\\end{cases}\n",
    "$$"
   ]
  },
  {
   "cell_type": "markdown",
   "id": "c293054f",
   "metadata": {},
   "source": [
    "次のLPを解いて重要度を結合する  \n",
    "下近似が存在する $k \\in M$ の集合を $M^{'} = \\left\\{ k \\in M ~~ | ~~ W_k^- \\not= \\emptyset \\right\\}$ とする\n",
    "$$\n",
    "\\begin{align*}\n",
    "    \\text{minimize} ~~ & ~~\n",
    "    \\sum_{i \\in N} \\left( \\varepsilon_i^\\text{L} + \\varepsilon_i^\\text{U} \\right), \\\\\n",
    "    \\text{subject to} ~~ & ~~\n",
    "    t_k^+ w_{ki}^{\\text{L}+} - \\varepsilon_i^\\text{L} \\leq w_i^\\text{L}, ~~\n",
    "    i \\in N, ~~ k \\in M, \\\\ & ~~\n",
    "    w_i^\\text{L} \\leq t_k^- w_{ki}^{\\text{L}-} + \\varepsilon_i^\\text{L}, ~~\n",
    "    i \\in N, ~~ k \\in M^{'}, \\\\ & ~~\n",
    "    t_k^- w_{ki}^{\\text{U}-} - \\varepsilon_i^\\text{U} \\leq w_i^\\text{U}, ~~\n",
    "    i \\in N, ~~ k \\in M^{'}, \\\\ & ~~\n",
    "    w_i^\\text{U} \\leq t_k^+ w_{ki}^{\\text{U}+} + \\varepsilon_i^\\text{U}, ~~\n",
    "    i \\in N, ~~ k \\in M, \\\\ & ~~\n",
    "    \\varepsilon_i^\\text{L} \\geq v_i^{\\text{L}+} - v_i^{\\text{L}-}, ~~\n",
    "    \\varepsilon_i^\\text{U} \\geq v_i^{\\text{U}-} - v_i^{\\text{U}+}, ~~\n",
    "    i \\in N, ~~ k \\in M, \\\\ & ~~\n",
    "    v_i^{\\text{L}-} \\leq t_k^- w_{ki}^{\\text{L}-}, ~~\n",
    "    v_i^{\\text{U}-} \\geq t_k^- w_{ki}^{\\text{U}-}, ~~\n",
    "    i \\in N, ~~ k \\in M^{'}, \\\\ & ~~\n",
    "    v_i^{\\text{L}+} \\geq t_k^+ w_{ki}^{\\text{L}+}, ~~\n",
    "    v_i^{\\text{U}+} \\leq t_k^+ w_{ki}^{\\text{U}+}, ~~\n",
    "    i \\in N, ~~ k \\in M, \\\\ & ~~\n",
    "    \\sum_{j \\in N \\backslash \\{i\\}} w_j^\\text{U} + w_i^\\text{L} \\geq 1, ~~\n",
    "    \\sum_{j \\in N \\backslash \\{i\\}} w_j^\\text{L} + w_i^\\text{U} \\leq 1, ~~\n",
    "    i \\in N, \\\\ & ~~\n",
    "     \\sum_{i \\in N} \\left(  w_i^\\text{L} +  w_i^\\text{U} \\right) = 2, \\\\ & ~~\n",
    "    t_k^{\\text{L}-} \\leq t_k^- \\leq t_k^{\\text{U}-}, ~~\n",
    "    k \\in M^{'}, \\\\ & ~~\n",
    "    t_k^{\\text{L}+} \\leq t_k^+ \\leq t_k^{\\text{U}+}, ~~\n",
    "    k \\in M, \\\\ & ~~\n",
    "    w_i^\\text{U} \\geq w_i^\\text{L} \\geq \\varepsilon, ~~\n",
    "    v_i^{\\text{L}-}, v_i^{\\text{U}-}, v_i^{\\text{L}+}, v_i^{\\text{U}+}, \\varepsilon_i^\\text{L}, \\varepsilon_i^\\text{U} \\geq 0, ~~\n",
    "    i \\in N\n",
    "\\end{align*}\n",
    "$$"
   ]
  },
  {
   "cell_type": "markdown",
   "id": "2a0125ae",
   "metadata": {},
   "source": [
    "$A$ とLPの最適解から $\\hat{A} = \\left( \\left( \\hat{a}_{ij}^{\\text{L}-}, \\hat{a}_{ij}^{\\text{U}-} \\right), \\left( \\hat{a}_{ij}^{\\text{L}+}, \\hat{a}_{ij}^{\\text{U}+} \\right) \\right)_{n \\times n}$ を求める\n",
    "\n",
    "$$\n",
    "    \\begin{align*}\n",
    "    \\hat{a}_{ij}^{\\text{L}-} & = \\max\\left( \\frac{v_i^{\\text{L}+}}{w_j^\\text{U}}, \\frac{w_i^\\text{L}}{v_j^{\\text{U}+}} \\right), ~~\n",
    "    i, j \\in N, ~~ i \\not= j, \\\\\n",
    "    \\hat{a}_{ij}^{\\text{U}-} & = \\min\\left( \\frac{v_i^{\\text{U}+}}{w_j^\\text{L}}, \\frac{w_i^\\text{U}}{v_j^{\\text{L}+}} \\right), ~~\n",
    "    i, j \\in N, ~~ i \\not= j, \\\\\n",
    "    \\hat{a}_{ij}^{\\text{L}+} & = \\min\\left( \\frac{v_i^{\\text{L}-}}{w_j^\\text{U}}, \\frac{w_i^\\text{L}}{v_j^{\\text{U}-}} \\right), ~~\n",
    "    i, j \\in N, ~~ i \\not= j, \\\\\n",
    "    \\hat{a}_{ij}^{\\text{U}+} & = \\max\\left( \\frac{v_i^{\\text{U}-}}{w_j^\\text{L}}, \\frac{w_i^\\text{U}}{v_j^{\\text{L}-}} \\right), ~~\n",
    "    i, j \\in N, ~~ i \\not= j\n",
    "\\end{align*}\n",
    "$$"
   ]
  },
  {
   "cell_type": "code",
   "execution_count": 1,
   "id": "acd086ce-742a-4493-a331-7abe3296c70d",
   "metadata": {},
   "outputs": [],
   "source": [
    "using IntervalArithmetic\n",
    "using LaTeXStrings"
   ]
  },
  {
   "cell_type": "code",
   "execution_count": 2,
   "id": "6ae45f35-7c99-45c9-a934-88166cfef5fb",
   "metadata": {},
   "outputs": [
    {
     "data": {
      "text/plain": [
       "intervalPCM2TwofoldIntervalPCM"
      ]
     },
     "metadata": {},
     "output_type": "display_data"
    }
   ],
   "source": [
    "include(\"./index.jl\")\n",
    "include(\"../intervalPCM/index.jl\")\n",
    "include(\"../twofoldInterval/index.jl\")\n",
    "include(\"../twofoldIntervalPCM/index.jl\")"
   ]
  },
  {
   "cell_type": "code",
   "execution_count": 3,
   "id": "f6600aef-528e-4336-9695-9b6123a05033",
   "metadata": {},
   "outputs": [],
   "source": [
    "A₁ = [\n",
    "    1..1 2.7..3.2 (1/3.3)..(1/3)\n",
    "    (1/3.2)..(1/2.7) 1..1 (1/10)..(1/9.7)\n",
    "    3..3.3 9.7..10 1..1\n",
    "]\n",
    "A₂ = [\n",
    "    1..1 2.2..2.8 (1/4)..(1/2.8)\n",
    "    (1/2.8)..(1/2.2) 1..1 (1/9.8)..(1/9.7)\n",
    "    2.8..4 9.7..9.8 1..1\n",
    "]\n",
    "\n",
    "print()"
   ]
  },
  {
   "cell_type": "code",
   "execution_count": 4,
   "id": "3a53ce86",
   "metadata": {},
   "outputs": [
    {
     "data": {
      "text/plain": [
       "0.0"
      ]
     },
     "metadata": {},
     "output_type": "display_data"
    },
    {
     "data": {
      "text/plain": [
       "0.0"
      ]
     },
     "metadata": {},
     "output_type": "display_data"
    }
   ],
   "source": [
    "display(solveFeasibilityCheckLP_m3(A₁))\n",
    "display(solveFeasibilityCheckLP_m3(A₂))"
   ]
  },
  {
   "cell_type": "code",
   "execution_count": 5,
   "id": "180ce015",
   "metadata": {},
   "outputs": [
    {
     "data": {
      "text/latex": [
       "$W_1^- = \\begin{bmatrix} \\left[ 0.216, 0.23 \\right]  \\\\  \\left[ 0.072, 0.072 \\right]  \\\\  \\left[ 0.698, 0.712 \\right] \\end{bmatrix}$"
      ],
      "text/plain": [
       "L\"$W_1^- = \\begin{bmatrix} \\left[ 0.216, 0.23 \\right]  \\\\  \\left[ 0.072, 0.072 \\right]  \\\\  \\left[ 0.698, 0.712 \\right] \\end{bmatrix}$\""
      ]
     },
     "metadata": {},
     "output_type": "display_data"
    },
    {
     "data": {
      "text/latex": [
       "$W_1^+ = \\begin{bmatrix} \\left[ 0.21, 0.232 \\right]  \\\\  \\left[ 0.071, 0.078 \\right]  \\\\  \\left[ 0.697, 0.712 \\right] \\end{bmatrix}$"
      ],
      "text/plain": [
       "L\"$W_1^+ = \\begin{bmatrix} \\left[ 0.21, 0.232 \\right]  \\\\  \\left[ 0.071, 0.078 \\right]  \\\\  \\left[ 0.697, 0.712 \\right] \\end{bmatrix}$\""
      ]
     },
     "metadata": {},
     "output_type": "display_data"
    },
    {
     "data": {
      "text/latex": [
       "$W_2^- = \\begin{bmatrix} \\left[ 0.192, 0.199 \\right]  \\\\  \\left[ 0.075, 0.075 \\right]  \\\\  \\left[ 0.726, 0.733 \\right] \\end{bmatrix}$"
      ],
      "text/plain": [
       "L\"$W_2^- = \\begin{bmatrix} \\left[ 0.192, 0.199 \\right]  \\\\  \\left[ 0.075, 0.075 \\right]  \\\\  \\left[ 0.726, 0.733 \\right] \\end{bmatrix}$\""
      ]
     },
     "metadata": {},
     "output_type": "display_data"
    },
    {
     "data": {
      "text/latex": [
       "$W_2^+ = \\begin{bmatrix} \\left[ 0.183, 0.243 \\right]  \\\\  \\left[ 0.075, 0.083 \\right]  \\\\  \\left[ 0.682, 0.733 \\right] \\end{bmatrix}$"
      ],
      "text/plain": [
       "L\"$W_2^+ = \\begin{bmatrix} \\left[ 0.183, 0.243 \\right]  \\\\  \\left[ 0.075, 0.083 \\right]  \\\\  \\left[ 0.682, 0.733 \\right] \\end{bmatrix}$\""
      ]
     },
     "metadata": {},
     "output_type": "display_data"
    }
   ],
   "source": [
    "result1 = solveApproximationLP_m3(A₁)\n",
    "result2 = solveApproximationLP_m3(A₂)\n",
    "\n",
    "displayApproximationLPResults_m3([result1, result2])"
   ]
  },
  {
   "cell_type": "code",
   "execution_count": 6,
   "id": "1e0a58e1",
   "metadata": {},
   "outputs": [
    {
     "data": {
      "text/latex": [
       "$    t_{1}^{\\text{L}-} = 1.0, ~~\n",
       "    t_{1}^{\\text{U}-} = 1.0, ~~\n",
       "    t_{1}^{\\text{L}+} = 1.0, ~~\n",
       "    t_{1}^{\\text{U}+} = 1.0\n",
       "$"
      ],
      "text/plain": [
       "L\"$    t_{1}^{\\text{L}-} = 1.0, ~~\n",
       "    t_{1}^{\\text{U}-} = 1.0, ~~\n",
       "    t_{1}^{\\text{L}+} = 1.0, ~~\n",
       "    t_{1}^{\\text{U}+} = 1.0\n",
       "$\""
      ]
     },
     "metadata": {},
     "output_type": "display_data"
    },
    {
     "data": {
      "text/latex": [
       "$    t_{2}^{\\text{L}-} = 1.0, ~~\n",
       "    t_{2}^{\\text{U}-} = 1.0, ~~\n",
       "    t_{2}^{\\text{L}+} = 1.0, ~~\n",
       "    t_{2}^{\\text{U}+} = 1.0\n",
       "$"
      ],
      "text/plain": [
       "L\"$    t_{2}^{\\text{L}-} = 1.0, ~~\n",
       "    t_{2}^{\\text{U}-} = 1.0, ~~\n",
       "    t_{2}^{\\text{L}+} = 1.0, ~~\n",
       "    t_{2}^{\\text{U}+} = 1.0\n",
       "$\""
      ]
     },
     "metadata": {},
     "output_type": "display_data"
    }
   ],
   "source": [
    "tBoundaries1 = calculateTBoundaries_m3(result1)\n",
    "tBoundaries2 = calculateTBoundaries_m3(result2)\n",
    "\n",
    "displayTBoundaries_m3([tBoundaries1, tBoundaries2])"
   ]
  },
  {
   "cell_type": "code",
   "execution_count": 7,
   "id": "d426f37d",
   "metadata": {},
   "outputs": [
    {
     "data": {
      "text/latex": [
       "$t^- = \\begin{bmatrix} 1.0  \\\\  1.0 \\end{bmatrix}, ~~\n",
       "t^+ = \\begin{bmatrix} 1.0  \\\\  1.0 \\end{bmatrix}\n",
       "$"
      ],
      "text/plain": [
       "L\"$t^- = \\begin{bmatrix} 1.0  \\\\  1.0 \\end{bmatrix}, ~~\n",
       "t^+ = \\begin{bmatrix} 1.0  \\\\  1.0 \\end{bmatrix}\n",
       "$\""
      ]
     },
     "metadata": {},
     "output_type": "display_data"
    },
    {
     "data": {
      "text/latex": [
       "$W = \\begin{bmatrix}\\left[ 0.21, 0.23 \\right] \\\\ \\left[ 0.073, 0.078 \\right] \\\\ \\left[ 0.697, 0.712 \\right]\\end{bmatrix}$"
      ],
      "text/plain": [
       "L\"$W = \\begin{bmatrix}\\left[ 0.21, 0.23 \\right] \\\\ \\left[ 0.073, 0.078 \\right] \\\\ \\left[ 0.697, 0.712 \\right]\\end{bmatrix}$\""
      ]
     },
     "metadata": {},
     "output_type": "display_data"
    },
    {
     "data": {
      "text/latex": [
       "$v^{\\text{L}-} = \\begin{bmatrix} 0.192  \\\\  0.072  \\\\  0.698 \\end{bmatrix}, ~~\n",
       "v^{\\text{U}-} = \\begin{bmatrix} 0.23  \\\\  0.075  \\\\  0.733 \\end{bmatrix}, ~~\n",
       "v^{\\text{L}+} = \\begin{bmatrix} 0.21  \\\\  0.075  \\\\  0.697 \\end{bmatrix}, ~~\n",
       "v^{\\text{U}+} = \\begin{bmatrix} 0.232  \\\\  0.078  \\\\  0.712 \\end{bmatrix}\n",
       "$"
      ],
      "text/plain": [
       "L\"$v^{\\text{L}-} = \\begin{bmatrix} 0.192  \\\\  0.072  \\\\  0.698 \\end{bmatrix}, ~~\n",
       "v^{\\text{U}-} = \\begin{bmatrix} 0.23  \\\\  0.075  \\\\  0.733 \\end{bmatrix}, ~~\n",
       "v^{\\text{L}+} = \\begin{bmatrix} 0.21  \\\\  0.075  \\\\  0.697 \\end{bmatrix}, ~~\n",
       "v^{\\text{U}+} = \\begin{bmatrix} 0.232  \\\\  0.078  \\\\  0.712 \\end{bmatrix}\n",
       "$\""
      ]
     },
     "metadata": {},
     "output_type": "display_data"
    },
    {
     "data": {
      "text/latex": [
       "$\\varepsilon^\\text{L} = \\begin{bmatrix} 0.018  \\\\  0.003  \\\\  0.0 \\end{bmatrix}, ~~\n",
       "\\varepsilon^\\text{U} = \\begin{bmatrix} 0.0  \\\\  0.0  \\\\  0.021 \\end{bmatrix}\n",
       "$"
      ],
      "text/plain": [
       "L\"$\\varepsilon^\\text{L} = \\begin{bmatrix} 0.018  \\\\  0.003  \\\\  0.0 \\end{bmatrix}, ~~\n",
       "\\varepsilon^\\text{U} = \\begin{bmatrix} 0.0  \\\\  0.0  \\\\  0.021 \\end{bmatrix}\n",
       "$\""
      ]
     },
     "metadata": {},
     "output_type": "display_data"
    }
   ],
   "source": [
    "result = solveConcatLP_m3([result1, result2], [tBoundaries1, tBoundaries2])\n",
    "\n",
    "displayConcatLPResult_m3(result)"
   ]
  },
  {
   "cell_type": "code",
   "execution_count": 8,
   "id": "8e9496cd",
   "metadata": {},
   "outputs": [
    {
     "data": {
      "text/latex": [
       "$\\hat{A} = \\begin{bmatrix} \\left[   1.0, \\left[   1.0,   1.0 \\right],   1.0 \\right] & \\left[ 2.467, \\left[ 2.806, 3.077 \\right],   3.2 \\right] & \\left[ 0.269, \\left[ 0.295,  0.33 \\right], 0.333 \\right] \\\\ \\left[ 0.312, \\left[ 0.325, 0.356 \\right], 0.405 \\right] & \\left[   1.0, \\left[   1.0,   1.0 \\right],   1.0 \\right] & \\left[   0.1, \\left[ 0.105, 0.107 \\right], 0.112 \\right] \\\\ \\left[   3.0, \\left[ 3.031, 3.392 \\right], 3.713 \\right] & \\left[ 8.956, \\left[ 9.309, 9.518 \\right], 10.018 \\right] & \\left[   1.0, \\left[   1.0,   1.0 \\right],   1.0 \\right] \\end{bmatrix}$"
      ],
      "text/plain": [
       "\"\\$\\\\hat{A} = \\\\begin{bmatrix} \\\\left[   1.0, \\\\left[   1.0,   1.0 \\\\right],   1.0 \\\\right] & \\\\left[ 2.467, \\\\left[ 2.806, 3.077 \\\\right],   3.2 \\\\right] & \\\\left[ 0.269, \\\\left[ 0.295,  0.33 \\\\right], 0.333 \\\\right] \\\\\\\\ \\\\left[ 0.312, \\\\left[ 0.325, 0.356 \\\\right], 0.405 \\\\right] & \\\\left[ \" ⋯ 31 bytes ⋯ \"ht],   1.0 \\\\right] & \\\\left[   0.1, \\\\left[ 0.105, 0.107 \\\\right], 0.112 \\\\right] \\\\\\\\ \\\\left[   3.0, \\\\left[ 3.031, 3.392 \\\\right], 3.713 \\\\right] & \\\\left[ 8.956, \\\\left[ 9.309, 9.518 \\\\right], 10.018 \\\\right] & \\\\left[   1.0, \\\\left[   1.0,   1.0 \\\\right],   1.0 \\\\right] \\\\end{bmatrix}\\$\""
      ]
     },
     "metadata": {},
     "output_type": "display_data"
    }
   ],
   "source": [
    "Â = generatePCM_m3(result)\n",
    "display(L\"\\hat{A} = %$(twofoldIntervalMatrixLaTeXString(Â))\")"
   ]
  },
  {
   "cell_type": "code",
   "execution_count": 9,
   "id": "4c1154ae-9638-4b6f-8f36-a79b99e7d684",
   "metadata": {},
   "outputs": [],
   "source": [
    "A₁ = [\n",
    "    1..1 (1/5.5)..(1/4.8) 2.7..3.3 1.5..2.1\n",
    "    4.8..5.5 1..1 6.8..7.6 0.8..1.1\n",
    "    (1/3.3)..(1/2.7) (1/7.6)..(1/6.8) 1..1 (1/3.4)..(1/3)\n",
    "    (1/2.1)..(1/1.5) (1/1.1)..(1/0.8) 3..3.4 1..1\n",
    "]\n",
    "A₂ = [\n",
    "    1..1 (1/5.5)..(1/5.1) 2.7..2.9 1.5..2\n",
    "    5.1..5.5 1..1 6.9..7.2 0.9..1.3\n",
    "    (1/2.9)..(1/2.7) (1/7.2)..(1/6.9) 1..1 (1/3.4)..(1/3)\n",
    "    (1/2)..(1/1.5) (1/1.3)..(1/0.9) 3..3.4 1..1\n",
    "]\n",
    "\n",
    "print()"
   ]
  },
  {
   "cell_type": "code",
   "execution_count": 10,
   "id": "3a97c423",
   "metadata": {},
   "outputs": [
    {
     "data": {
      "text/plain": [
       "0.9343078195779169"
      ]
     },
     "metadata": {},
     "output_type": "display_data"
    },
    {
     "data": {
      "text/plain": [
       "0.8292445153441454"
      ]
     },
     "metadata": {},
     "output_type": "display_data"
    }
   ],
   "source": [
    "display(solveFeasibilityCheckLP_m3(A₁))\n",
    "display(solveFeasibilityCheckLP_m3(A₂))"
   ]
  },
  {
   "cell_type": "code",
   "execution_count": 11,
   "id": "47be66fe-0cf5-4d78-a24f-73f7fb932cc8",
   "metadata": {},
   "outputs": [
    {
     "data": {
      "text/latex": [
       "$W_1^- = \\\\emptyset$"
      ],
      "text/plain": [
       "L\"$W_1^- = \\\\emptyset$\""
      ]
     },
     "metadata": {},
     "output_type": "display_data"
    },
    {
     "data": {
      "text/latex": [
       "$W_1^+ = \\begin{bmatrix} \\left[ 0.071, 0.373 \\right]  \\\\  \\left[ 0.39, 0.39 \\right]  \\\\  \\left[ 0.051, 0.059 \\right]  \\\\  \\left[ 0.178, 0.488 \\right] \\end{bmatrix}$"
      ],
      "text/plain": [
       "L\"$W_1^+ = \\begin{bmatrix} \\left[ 0.071, 0.373 \\right]  \\\\  \\left[ 0.39, 0.39 \\right]  \\\\  \\left[ 0.051, 0.059 \\right]  \\\\  \\left[ 0.178, 0.488 \\right] \\end{bmatrix}$\""
      ]
     },
     "metadata": {},
     "output_type": "display_data"
    },
    {
     "data": {
      "text/latex": [
       "$W_2^- = \\\\emptyset$"
      ],
      "text/plain": [
       "L\"$W_2^- = \\\\emptyset$\""
      ]
     },
     "metadata": {},
     "output_type": "display_data"
    },
    {
     "data": {
      "text/latex": [
       "$W_2^+ = \\begin{bmatrix} \\left[ 0.075, 0.353 \\right]  \\\\  \\left[ 0.411, 0.411 \\right]  \\\\  \\left[ 0.057, 0.06 \\right]  \\\\  \\left[ 0.176, 0.457 \\right] \\end{bmatrix}$"
      ],
      "text/plain": [
       "L\"$W_2^+ = \\begin{bmatrix} \\left[ 0.075, 0.353 \\right]  \\\\  \\left[ 0.411, 0.411 \\right]  \\\\  \\left[ 0.057, 0.06 \\right]  \\\\  \\left[ 0.176, 0.457 \\right] \\end{bmatrix}$\""
      ]
     },
     "metadata": {},
     "output_type": "display_data"
    }
   ],
   "source": [
    "result1 = solveApproximationLP_m3(A₁)\n",
    "result2 = solveApproximationLP_m3(A₂)\n",
    "\n",
    "displayApproximationLPResults_m3([result1, result2])"
   ]
  },
  {
   "cell_type": "code",
   "execution_count": 26,
   "id": "f860fb33-ae44-4a5f-b5b7-48b601c4993f",
   "metadata": {},
   "outputs": [
    {
     "data": {
      "text/latex": [
       "$    t_{1}^{\\text{L}+} = 1.0, ~~\n",
       "    t_{1}^{\\text{U}+} = 1.0\n",
       "$"
      ],
      "text/plain": [
       "L\"$    t_{1}^{\\text{L}+} = 1.0, ~~\n",
       "    t_{1}^{\\text{U}+} = 1.0\n",
       "$\""
      ]
     },
     "metadata": {},
     "output_type": "display_data"
    },
    {
     "data": {
      "text/latex": [
       "$    t_{2}^{\\text{L}+} = 1.0, ~~\n",
       "    t_{2}^{\\text{U}+} = 1.0\n",
       "$"
      ],
      "text/plain": [
       "L\"$    t_{2}^{\\text{L}+} = 1.0, ~~\n",
       "    t_{2}^{\\text{U}+} = 1.0\n",
       "$\""
      ]
     },
     "metadata": {},
     "output_type": "display_data"
    }
   ],
   "source": [
    "tBoundaries1 = calculateTBoundaries_m3(result1)\n",
    "tBoundaries2 = calculateTBoundaries_m3(result2)\n",
    "\n",
    "displayTBoundaries_m3([tBoundaries1, tBoundaries2])"
   ]
  },
  {
   "cell_type": "code",
   "execution_count": 27,
   "id": "742e2551",
   "metadata": {},
   "outputs": [
    {
     "data": {
      "text/latex": [
       "$t^- = \\begin{bmatrix} 0.0  \\\\  0.0 \\end{bmatrix}, ~~\n",
       "t^+ = \\begin{bmatrix} 1.0  \\\\  1.0 \\end{bmatrix}\n",
       "$"
      ],
      "text/plain": [
       "L\"$t^- = \\begin{bmatrix} 0.0  \\\\  0.0 \\end{bmatrix}, ~~\n",
       "t^+ = \\begin{bmatrix} 1.0  \\\\  1.0 \\end{bmatrix}\n",
       "$\""
      ]
     },
     "metadata": {},
     "output_type": "display_data"
    },
    {
     "data": {
      "text/latex": [
       "$W = \\begin{bmatrix}\\left[ 0.094, 0.353 \\right] \\\\ \\left[ 0.39, 0.39 \\right] \\\\ \\left[ 0.059, 0.059 \\right] \\\\ \\left[ 0.198, 0.457 \\right]\\end{bmatrix}$"
      ],
      "text/plain": [
       "L\"$W = \\begin{bmatrix}\\left[ 0.094, 0.353 \\right] \\\\ \\left[ 0.39, 0.39 \\right] \\\\ \\left[ 0.059, 0.059 \\right] \\\\ \\left[ 0.198, 0.457 \\right]\\end{bmatrix}$\""
      ]
     },
     "metadata": {},
     "output_type": "display_data"
    },
    {
     "data": {
      "text/latex": [
       "$v^{\\text{L}-} = \\begin{bmatrix} 0.075  \\\\  0.39  \\\\  0.057  \\\\  0.178 \\end{bmatrix}, ~~\n",
       "v^{\\text{U}-} = \\begin{bmatrix} 0.0  \\\\  0.0  \\\\  0.0  \\\\  0.0 \\end{bmatrix}, ~~\n",
       "v^{\\text{L}+} = \\begin{bmatrix} 0.075  \\\\  0.411  \\\\  0.057  \\\\  0.178 \\end{bmatrix}, ~~\n",
       "v^{\\text{U}+} = \\begin{bmatrix} 0.075  \\\\  0.411  \\\\  0.057  \\\\  0.178 \\end{bmatrix}\n",
       "$"
      ],
      "text/plain": [
       "L\"$v^{\\text{L}-} = \\begin{bmatrix} 0.075  \\\\  0.39  \\\\  0.057  \\\\  0.178 \\end{bmatrix}, ~~\n",
       "v^{\\text{U}-} = \\begin{bmatrix} 0.0  \\\\  0.0  \\\\  0.0  \\\\  0.0 \\end{bmatrix}, ~~\n",
       "v^{\\text{L}+} = \\begin{bmatrix} 0.075  \\\\  0.411  \\\\  0.057  \\\\  0.178 \\end{bmatrix}, ~~\n",
       "v^{\\text{U}+} = \\begin{bmatrix} 0.075  \\\\  0.411  \\\\  0.057  \\\\  0.178 \\end{bmatrix}\n",
       "$\""
      ]
     },
     "metadata": {},
     "output_type": "display_data"
    },
    {
     "data": {
      "text/latex": [
       "$\\varepsilon^\\text{L} = \\begin{bmatrix} 0.0  \\\\  0.021  \\\\  0.0  \\\\  0.0 \\end{bmatrix}, ~~\n",
       "\\varepsilon^\\text{U} = \\begin{bmatrix} 0.0  \\\\  0.0  \\\\  0.0  \\\\  0.0 \\end{bmatrix}\n",
       "$"
      ],
      "text/plain": [
       "L\"$\\varepsilon^\\text{L} = \\begin{bmatrix} 0.0  \\\\  0.021  \\\\  0.0  \\\\  0.0 \\end{bmatrix}, ~~\n",
       "\\varepsilon^\\text{U} = \\begin{bmatrix} 0.0  \\\\  0.0  \\\\  0.0  \\\\  0.0 \\end{bmatrix}\n",
       "$\""
      ]
     },
     "metadata": {},
     "output_type": "display_data"
    }
   ],
   "source": [
    "result = solveConcatLP_m3([result1, result2], [tBoundaries1, tBoundaries2])\n",
    "\n",
    "displayConcatLPResult_m3(result)"
   ]
  },
  {
   "cell_type": "code",
   "execution_count": 28,
   "id": "801c8a8c",
   "metadata": {},
   "outputs": [
    {
     "data": {
      "text/latex": [
       "$\\hat{A} = \\begin{bmatrix} \\left[   1.0, \\left[   1.0,   1.0 \\right],   1.0 \\right] & \\left[ 0.192, \\emptyset, 0.904 \\right] & \\left[ 1.263, \\emptyset, 6.177 \\right] & \\left[ 0.164, \\emptyset, 1.986 \\right] \\\\ \\left[ 1.106, \\emptyset, 5.218 \\right] & \\left[   1.0, \\left[   1.0,   1.0 \\right],   1.0 \\right] & \\left[ 6.588, \\emptyset, 6.945 \\right] & \\left[ 0.854, \\emptyset, 2.196 \\right] \\\\ \\left[ 0.162, \\emptyset, 0.792 \\right] & \\left[ 0.144, \\emptyset, 0.152 \\right] & \\left[   1.0, \\left[   1.0,   1.0 \\right],   1.0 \\right] & \\left[ 0.125, \\emptyset, 0.333 \\right] \\\\ \\left[ 0.504, \\emptyset, 6.111 \\right] & \\left[ 0.455, \\emptyset, 1.171 \\right] & \\left[   3.0, \\emptyset,   8.0 \\right] & \\left[   1.0, \\left[   1.0,   1.0 \\right],   1.0 \\right] \\end{bmatrix}$"
      ],
      "text/plain": [
       "\"\\$\\\\hat{A} = \\\\begin{bmatrix} \\\\left[   1.0, \\\\left[   1.0,   1.0 \\\\right],   1.0 \\\\right] & \\\\left[ 0.192, \\\\emptyset, 0.904 \\\\right] & \\\\left[ 1.263, \\\\emptyset, 6.177 \\\\right] & \\\\left[ 0.164, \\\\emptyset, 1.986 \\\\right] \\\\\\\\ \\\\left[ 1.106, \\\\emptyset, 5.218 \\\\right] & \\\\left[   1.0, \\\\left[\" ⋯ 229 bytes ⋯ \"0,   1.0 \\\\right],   1.0 \\\\right] & \\\\left[ 0.125, \\\\emptyset, 0.333 \\\\right] \\\\\\\\ \\\\left[ 0.504, \\\\emptyset, 6.111 \\\\right] & \\\\left[ 0.455, \\\\emptyset, 1.171 \\\\right] & \\\\left[   3.0, \\\\emptyset,   8.0 \\\\right] & \\\\left[   1.0, \\\\left[   1.0,   1.0 \\\\right],   1.0 \\\\right] \\\\end{bmatrix}\\$\""
      ]
     },
     "metadata": {},
     "output_type": "display_data"
    }
   ],
   "source": [
    "Â = generatePCM_m3(result)\n",
    "display(L\"\\hat{A} = %$(twofoldIntervalMatrixLaTeXString(Â))\")"
   ]
  },
  {
   "cell_type": "code",
   "execution_count": 29,
   "id": "cbe50a6f",
   "metadata": {},
   "outputs": [
    {
     "data": {
      "text/latex": [
       "$W_1^- = \\emptyset$"
      ],
      "text/plain": [
       "L\"$W_1^- = \\emptyset$\""
      ]
     },
     "metadata": {},
     "output_type": "display_data"
    },
    {
     "data": {
      "text/latex": [
       "$    w_{1}^{\\text{L}+} = \\begin{bmatrix} 0.587  \\\\  0.097  \\\\  0.061  \\\\  0.057  \\\\  0.017  \\\\  0.03 \\end{bmatrix}, ~~\n",
       "    w_{1}^{\\text{U}+} = \\begin{bmatrix} 0.587  \\\\  0.125  \\\\  0.125  \\\\  0.161  \\\\  0.077  \\\\  0.077 \\end{bmatrix}\n",
       "$"
      ],
      "text/plain": [
       "L\"$    w_{1}^{\\text{L}+} = \\begin{bmatrix} 0.587  \\\\  0.097  \\\\  0.061  \\\\  0.057  \\\\  0.017  \\\\  0.03 \\end{bmatrix}, ~~\n",
       "    w_{1}^{\\text{U}+} = \\begin{bmatrix} 0.587  \\\\  0.125  \\\\  0.125  \\\\  0.161  \\\\  0.077  \\\\  0.077 \\end{bmatrix}\n",
       "$\""
      ]
     },
     "metadata": {},
     "output_type": "display_data"
    },
    {
     "data": {
      "text/latex": [
       "$W_2^- = \\emptyset$"
      ],
      "text/plain": [
       "L\"$W_2^- = \\emptyset$\""
      ]
     },
     "metadata": {},
     "output_type": "display_data"
    },
    {
     "data": {
      "text/latex": [
       "$    w_{2}^{\\text{L}+} = \\begin{bmatrix} 0.596  \\\\  0.098  \\\\  0.054  \\\\  0.057  \\\\  0.016  \\\\  0.027 \\end{bmatrix}, ~~\n",
       "    w_{2}^{\\text{U}+} = \\begin{bmatrix} 0.596  \\\\  0.116  \\\\  0.122  \\\\  0.154  \\\\  0.082  \\\\  0.082 \\end{bmatrix}\n",
       "$"
      ],
      "text/plain": [
       "L\"$    w_{2}^{\\text{L}+} = \\begin{bmatrix} 0.596  \\\\  0.098  \\\\  0.054  \\\\  0.057  \\\\  0.016  \\\\  0.027 \\end{bmatrix}, ~~\n",
       "    w_{2}^{\\text{U}+} = \\begin{bmatrix} 0.596  \\\\  0.116  \\\\  0.122  \\\\  0.154  \\\\  0.082  \\\\  0.082 \\end{bmatrix}\n",
       "$\""
      ]
     },
     "metadata": {},
     "output_type": "display_data"
    },
    {
     "data": {
      "text/latex": [
       "$    t_{1}^{\\text{L}+} = 0.956, ~~\n",
       "    t_{1}^{\\text{U}+} = 1.049\n",
       "$"
      ],
      "text/plain": [
       "L\"$    t_{1}^{\\text{L}+} = 0.956, ~~\n",
       "    t_{1}^{\\text{U}+} = 1.049\n",
       "$\""
      ]
     },
     "metadata": {},
     "output_type": "display_data"
    },
    {
     "data": {
      "text/latex": [
       "$    t_{2}^{\\text{L}+} = 0.948, ~~\n",
       "    t_{2}^{\\text{U}+} = 1.058\n",
       "$"
      ],
      "text/plain": [
       "L\"$    t_{2}^{\\text{L}+} = 0.948, ~~\n",
       "    t_{2}^{\\text{U}+} = 1.058\n",
       "$\""
      ]
     },
     "metadata": {},
     "output_type": "display_data"
    },
    {
     "data": {
      "text/latex": [
       "$t^- = \\begin{bmatrix} 0.0  \\\\  0.0 \\end{bmatrix}, ~~\n",
       "t^+ = \\begin{bmatrix} 1.049  \\\\  1.032 \\end{bmatrix}\n",
       "$"
      ],
      "text/plain": [
       "L\"$t^- = \\begin{bmatrix} 0.0  \\\\  0.0 \\end{bmatrix}, ~~\n",
       "t^+ = \\begin{bmatrix} 1.049  \\\\  1.032 \\end{bmatrix}\n",
       "$\""
      ]
     },
     "metadata": {},
     "output_type": "display_data"
    },
    {
     "data": {
      "text/latex": [
       "$W = \\begin{bmatrix}\\left[ 0.616, 0.616 \\right] \\\\ \\left[ 0.102, 0.102 \\right] \\\\ \\left[ 0.126, 0.126 \\right] \\\\ \\left[ 0.107, 0.107 \\right] \\\\ \\left[ 0.018, 0.018 \\right] \\\\ \\left[ 0.031, 0.031 \\right]\\end{bmatrix}$"
      ],
      "text/plain": [
       "L\"$W = \\begin{bmatrix}\\left[ 0.616, 0.616 \\right] \\\\ \\left[ 0.102, 0.102 \\right] \\\\ \\left[ 0.126, 0.126 \\right] \\\\ \\left[ 0.107, 0.107 \\right] \\\\ \\left[ 0.018, 0.018 \\right] \\\\ \\left[ 0.031, 0.031 \\right]\\end{bmatrix}$\""
      ]
     },
     "metadata": {},
     "output_type": "display_data"
    },
    {
     "data": {
      "text/latex": [
       "$v^{\\text{L}-} = \\begin{bmatrix} 0.616  \\\\  0.102  \\\\  0.064  \\\\  0.059  \\\\  0.018  \\\\  0.031 \\end{bmatrix}, ~~\n",
       "v^{\\text{U}-} = \\begin{bmatrix} 0.0  \\\\  0.0  \\\\  0.0  \\\\  0.0  \\\\  0.0  \\\\  0.0 \\end{bmatrix}, ~~\n",
       "v^{\\text{L}+} = \\begin{bmatrix} 0.616  \\\\  0.102  \\\\  0.064  \\\\  0.059  \\\\  0.018  \\\\  0.031 \\end{bmatrix}, ~~\n",
       "v^{\\text{U}+} = \\begin{bmatrix} 0.616  \\\\  0.102  \\\\  0.064  \\\\  0.059  \\\\  0.018  \\\\  0.031 \\end{bmatrix}\n",
       "$"
      ],
      "text/plain": [
       "L\"$v^{\\text{L}-} = \\begin{bmatrix} 0.616  \\\\  0.102  \\\\  0.064  \\\\  0.059  \\\\  0.018  \\\\  0.031 \\end{bmatrix}, ~~\n",
       "v^{\\text{U}-} = \\begin{bmatrix} 0.0  \\\\  0.0  \\\\  0.0  \\\\  0.0  \\\\  0.0  \\\\  0.0 \\end{bmatrix}, ~~\n",
       "v^{\\text{L}+} = \\begin{bmatrix} 0.616  \\\\  0.102  \\\\  0.064  \\\\  0.059  \\\\  0.018  \\\\  0.031 \\end{bmatrix}, ~~\n",
       "v^{\\text{U}+} = \\begin{bmatrix} 0.616  \\\\  0.102  \\\\  0.064  \\\\  0.059  \\\\  0.018  \\\\  0.031 \\end{bmatrix}\n",
       "$\""
      ]
     },
     "metadata": {},
     "output_type": "display_data"
    },
    {
     "data": {
      "text/latex": [
       "$\\varepsilon^\\text{L} = \\begin{bmatrix} 0.0  \\\\  0.0  \\\\  0.0  \\\\  0.0  \\\\  0.0  \\\\  0.0 \\end{bmatrix}, ~~\n",
       "\\varepsilon^\\text{U} = \\begin{bmatrix} 0.0  \\\\  0.0  \\\\  0.0  \\\\  0.0  \\\\  0.0  \\\\  0.0 \\end{bmatrix}\n",
       "$"
      ],
      "text/plain": [
       "L\"$\\varepsilon^\\text{L} = \\begin{bmatrix} 0.0  \\\\  0.0  \\\\  0.0  \\\\  0.0  \\\\  0.0  \\\\  0.0 \\end{bmatrix}, ~~\n",
       "\\varepsilon^\\text{U} = \\begin{bmatrix} 0.0  \\\\  0.0  \\\\  0.0  \\\\  0.0  \\\\  0.0  \\\\  0.0 \\end{bmatrix}\n",
       "$\""
      ]
     },
     "metadata": {},
     "output_type": "display_data"
    },
    {
     "data": {
      "text/latex": [
       "$\\hat{A} = \\begin{bmatrix} \\left[   1.0, \\left[   1.0,   1.0 \\right],   1.0 \\right] & \\left[ 6.025, \\emptyset, 6.025 \\right] & \\left[ 4.892, \\emptyset, 9.641 \\right] & \\left[ 5.737, \\emptyset, 10.352 \\right] & \\left[ 34.525, \\emptyset, 34.525 \\right] & \\left[  19.6, \\emptyset,  19.6 \\right] \\\\ \\left[ 0.166, \\emptyset, 0.166 \\right] & \\left[   1.0, \\left[   1.0,   1.0 \\right],   1.0 \\right] & \\left[ 0.812, \\emptyset,   1.6 \\right] & \\left[ 0.952, \\emptyset, 1.718 \\right] & \\left[  5.73, \\emptyset,  5.73 \\right] & \\left[ 3.253, \\emptyset, 3.253 \\right] \\\\ \\left[ 0.104, \\emptyset, 0.204 \\right] & \\left[ 0.625, \\emptyset, 1.232 \\right] & \\left[   1.0, \\left[   1.0,   1.0 \\right],   1.0 \\right] & \\left[ 0.595, \\emptyset, 2.116 \\right] & \\left[ 3.581, \\emptyset, 7.057 \\right] & \\left[ 2.033, \\emptyset, 4.006 \\right] \\\\ \\left[ 0.097, \\emptyset, 0.174 \\right] & \\left[ 0.582, \\emptyset,  1.05 \\right] & \\left[ 0.473, \\emptyset,  1.68 \\right] & \\left[   1.0, \\left[   1.0,   1.0 \\right],   1.0 \\right] & \\left[ 3.335, \\emptyset, 6.018 \\right] & \\left[ 1.893, \\emptyset, 3.416 \\right] \\\\ \\left[ 0.029, \\emptyset, 0.029 \\right] & \\left[ 0.175, \\emptyset, 0.175 \\right] & \\left[ 0.142, \\emptyset, 0.279 \\right] & \\left[ 0.166, \\emptyset,   0.3 \\right] & \\left[   1.0, \\left[   1.0,   1.0 \\right],   1.0 \\right] & \\left[ 0.568, \\emptyset, 0.568 \\right] \\\\ \\left[ 0.051, \\emptyset, 0.051 \\right] & \\left[ 0.307, \\emptyset, 0.307 \\right] & \\left[  0.25, \\emptyset, 0.492 \\right] & \\left[ 0.293, \\emptyset, 0.528 \\right] & \\left[ 1.762, \\emptyset, 1.762 \\right] & \\left[   1.0, \\left[   1.0,   1.0 \\right],   1.0 \\right] \\end{bmatrix}$"
      ],
      "text/plain": [
       "\"\\$\\\\hat{A} = \\\\begin{bmatrix} \\\\left[   1.0, \\\\left[   1.0,   1.0 \\\\right],   1.0 \\\\right] & \\\\left[ 6.025, \\\\emptyset, 6.025 \\\\right] & \\\\left[ 4.892, \\\\emptyset, 9.641 \\\\right] & \\\\left[ 5.737, \\\\emptyset, 10.352 \\\\right] & \\\\left[ 34.525, \\\\emptyset, 34.525 \\\\right] & \\\\left[  19.6, \\\\em\" ⋯ 1091 bytes ⋯ \" 0.051, \\\\emptyset, 0.051 \\\\right] & \\\\left[ 0.307, \\\\emptyset, 0.307 \\\\right] & \\\\left[  0.25, \\\\emptyset, 0.492 \\\\right] & \\\\left[ 0.293, \\\\emptyset, 0.528 \\\\right] & \\\\left[ 1.762, \\\\emptyset, 1.762 \\\\right] & \\\\left[   1.0, \\\\left[   1.0,   1.0 \\\\right],   1.0 \\\\right] \\\\end{bmatrix}\\$\""
      ]
     },
     "metadata": {},
     "output_type": "display_data"
    }
   ],
   "source": [
    "A = [\n",
    "    1 6 5 4 8 8\n",
    "    1/6 1 2 2 6 4\n",
    "    1/5 1/2 1 2 7 3\n",
    "    1/4 1/2 1/2 1 6 5\n",
    "    1/8 1/6 1/7 1/6 1 2\n",
    "    1/8 1/4 1/3 1/5 1/2 1\n",
    "]\n",
    "\n",
    "A₁ = randamizedIntervalPCM(A, 234, 0.1)\n",
    "A₂ = randamizedIntervalPCM(A, 134, 0.1)\n",
    "\n",
    "result1 = solveApproximationLP_m3(A₁)\n",
    "result2 = solveApproximationLP_m3(A₂)\n",
    "displayApproximationLPResults_m3([result1, result2])\n",
    "\n",
    "tBoundaries1 = calculateTBoundaries_m3(result1)\n",
    "tBoundaries2 = calculateTBoundaries_m3(result2)\n",
    "displayTBoundaries_m3([tBoundaries1, tBoundaries2])\n",
    "\n",
    "result = solveConcatLP_m3([result1, result2], [tBoundaries1, tBoundaries2])\n",
    "displayConcatLPResult_m3(result)\n",
    "\n",
    "Â = generatePCM_m3(result)\n",
    "display(L\"\\hat{A} = %$(twofoldIntervalMatrixLaTeXString(Â))\")"
   ]
  },
  {
   "cell_type": "code",
   "execution_count": null,
   "id": "5f4ffc46",
   "metadata": {},
   "outputs": [],
   "source": []
  }
 ],
 "metadata": {
  "kernelspec": {
   "display_name": "Julia 1.8.5",
   "language": "julia",
   "name": "julia-1.8"
  },
  "language_info": {
   "file_extension": ".jl",
   "mimetype": "application/julia",
   "name": "julia",
   "version": "1.8.5"
  },
  "vscode": {
   "interpreter": {
    "hash": "d4d1e4263499bec80672ea0156c357c1ee493ec2b1c70f0acce89fc37c4a6abe"
   }
  }
 },
 "nbformat": 4,
 "nbformat_minor": 5
}
