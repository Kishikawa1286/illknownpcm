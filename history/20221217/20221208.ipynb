{
 "cells": [
  {
   "cell_type": "markdown",
   "id": "1591fa8e-7f56-4ef2-a2f7-1805b1897bb3",
   "metadata": {},
   "source": [
    "# 重み付き手法"
   ]
  },
  {
   "cell_type": "markdown",
   "id": "4874eb44-5e9c-4b85-a725-70e9f7bd019c",
   "metadata": {},
   "source": [
    "using IntervalArithmetic2022 / 12 / 08"
   ]
  },
  {
   "cell_type": "code",
   "execution_count": 15,
   "id": "9f35ff83-d6d7-4b35-8820-ef5251de613e",
   "metadata": {},
   "outputs": [],
   "source": [
    "using IntervalArithmetic"
   ]
  },
  {
   "cell_type": "code",
   "execution_count": 16,
   "id": "dc2ca238-25fd-4a10-ad99-7be5c7245917",
   "metadata": {},
   "outputs": [
    {
     "data": {
      "text/plain": [
       "updatePCM_CBA_2 (generic function with 1 method)"
      ]
     },
     "execution_count": 16,
     "metadata": {},
     "output_type": "execute_result"
    }
   ],
   "source": [
    "include(\"cba.jl\")"
   ]
  },
  {
   "cell_type": "markdown",
   "id": "0a2743e0-cf98-4f1d-8b49-56673defc584",
   "metadata": {},
   "source": [
    "$$\n",
    "\\begin{align*}\n",
    "    \\bar{a}_{ij}^\\text{L} & = \\frac{1}{2} \\left( a_{ij}^{\\text{L}-} + a_{ij}^{\\text{L}+} \\right)\\\\\n",
    "    \\bar{a}_{ij}^\\text{U} & = \\frac{1}{2} \\left( a_{ij}^{\\text{U}-} + a_{ij}^{\\text{U}+} \\right)\\\\\n",
    "    \\bar{a}_{ij}^\\text{C} & = \\frac{1}{2} \\left( \\bar{a}_{ij}^\\text{L} + \\bar{a}_{ij}^\\text{U} \\right)\n",
    "\\end{align*}\n",
    "$$"
   ]
  },
  {
   "cell_type": "markdown",
   "id": "2c5e0b5d-60fe-415e-bace-8d14f70d0d8b",
   "metadata": {},
   "source": [
    "$$\n",
    "[\\hat{w}_i^\\text{L}, \\hat{w}_i^\\text{U}] = \\frac{\\left[ \\prod_{i \\in N} \\bar{a}_{ij}^\\text{L}, ~~ \\prod_{i \\in N} \\bar{a}_{ij}^\\text{U} \\right]}{\\sum_{i \\in N}\\prod_{j \\in N} \\bar{a}_{ij}^\\text{C}} \n",
    "$$"
   ]
  },
  {
   "cell_type": "markdown",
   "id": "2559c120-38ad-41ee-8c22-62ecdf4072f0",
   "metadata": {},
   "source": [
    "$$\n",
    "\\hat{\\hat{w}}_i^\\text{L} = \\max \\left( \\hat{w}_i^\\text{L}, ~~ 1 - \\sum_{j \\in N, j \\not= i} \\hat{w}_j^\\text{U} \\right)\\\\\n",
    "\\hat{\\hat{w}}_i^\\text{U} = \\min \\left( \\hat{w}_i^\\text{U}, ~~ 1 - \\sum_{j \\in N, j \\not= i} \\hat{w}_j^\\text{L} \\right)\\\\\n",
    "$$"
   ]
  },
  {
   "cell_type": "markdown",
   "id": "554d2503-db1e-4e52-bef0-c572cd04cdbc",
   "metadata": {},
   "source": [
    "従来のLP\n",
    "$$\n",
    "\\begin{align*}\n",
    "    \\text{minimize} ~~\n",
    "    & \\sum_{i \\in N} \\left( \\varepsilon_i^\\text{L} + \\varepsilon_i^\\text{U} \\right), \\\\\n",
    "    \\text{subject to} ~~\n",
    "    & a_{ij}^{\\text{L}+}w_j^\\text{U} - \\varepsilon_i^\\text{L} \\leq\n",
    "    w_i^\\text{L} \\leq\n",
    "    a_{ij}^{\\text{L}-}w_j^\\text{U} + \\varepsilon_i^\\text{L}, ~~ i, j \\in N, ~~ i \\not= j, \\\\\n",
    "    & a_{ij}^{\\text{U}-}w_j^\\text{L} - \\varepsilon_i^\\text{U} \\leq\n",
    "    w_i^\\text{U} \\leq\n",
    "    a_{ij}^{\\text{U}+}w_j^\\text{L} + \\varepsilon_i^\\text{U}, ~~ i, j \\in N, ~~ i \\not= j, \\\\\n",
    "    & \\varepsilon_i^\\text{L} \\geq w_i^{\\text{L}+} - w_i^{\\text{L}-}, ~~\n",
    "    \\varepsilon_i^\\text{U} \\geq w_i^{\\text{U}-} - w_i^{\\text{U}+}, ~~ i \\in N, \\\\\n",
    "    & w_i^{\\text{L}-} \\leq a_{ij}^{\\text{L}-}w_j^\\text{U}, ~~\n",
    "    w_i^{\\text{L}+} \\geq a_{ij}^{\\text{L}+}w_j^\\text{U}, ~~ i, j \\in N, ~~ i \\not= j, \\\\\n",
    "    & w_i^{\\text{U}-} \\geq a_{ij}^{\\text{U}-}w_j^\\text{L}, ~~\n",
    "    w_i^{\\text{U}+} \\leq a_{ij}^{\\text{U}+}w_j^\\text{L}, ~~ i, j \\in N, ~~ i \\not= j, \\\\\n",
    "    & \\sum_{i \\in N\\backslash\\{ j \\}} w_i^\\text{U} + w_j^\\text{L} \\geq 1, ~~\n",
    "    \\sum_{i \\in N\\backslash\\{ j \\}} w_i^\\text{L} + w_j^\\text{U} \\leq 1, ~~ j \\in N, \\\\\n",
    "    & w_i^\\text{U} \\geq w_i^\\text{L} \\geq \\epsilon, ~~ i \\in N, ~~\n",
    "    w_i^{\\text{L}+}, w_i^{\\text{L}-}, \\varepsilon_i^\\text{L},\n",
    "    w_i^{\\text{U}-}, w_i^{\\text{U}+}, \\varepsilon_i^\\text{U} \\geq 0, ~~ i \\in N\n",
    "\\end{align*}\n",
    "$$"
   ]
  },
  {
   "cell_type": "markdown",
   "id": "314da949-456a-4cea-be03-512defeaf9d9",
   "metadata": {},
   "source": [
    "重み付きLP\n",
    "$$\n",
    "\\begin{align*}\n",
    "    \\text{minimize} ~~\n",
    "    & \\sum_{i \\in N} \\left( \\left(\\hat{\\hat{w}}_i^\\text{L}\\right)^{-1} \\varepsilon_i^\\text{L} + \\left(\\hat{\\hat{w}}_i^\\text{U}\\right)^{-1} \\varepsilon_i^\\text{U} \\right), \\\\\n",
    "    \\text{subject to} ~~\n",
    "    & a_{ij}^{\\text{L}+}w_j^\\text{U} - \\varepsilon_i^\\text{L} \\leq\n",
    "    w_i^\\text{L} \\leq\n",
    "    a_{ij}^{\\text{L}-}w_j^\\text{U} + \\varepsilon_i^\\text{L}, ~~ i, j \\in N, ~~ i \\not= j, \\\\\n",
    "    & a_{ij}^{\\text{U}-}w_j^\\text{L} - \\varepsilon_i^\\text{U} \\leq\n",
    "    w_i^\\text{U} \\leq\n",
    "    a_{ij}^{\\text{U}+}w_j^\\text{L} + \\varepsilon_i^\\text{U}, ~~ i, j \\in N, ~~ i \\not= j, \\\\\n",
    "    & \\varepsilon_i^\\text{L} \\geq w_i^{\\text{L}+} - w_i^{\\text{L}-}, ~~\n",
    "    \\varepsilon_i^\\text{U} \\geq w_i^{\\text{U}-} - w_i^{\\text{U}+}, ~~ i \\in N, \\\\\n",
    "    & w_i^{\\text{L}-} \\leq a_{ij}^{\\text{L}-}w_j^\\text{U}, ~~\n",
    "    w_i^{\\text{L}+} \\geq a_{ij}^{\\text{L}+}w_j^\\text{U}, ~~ i, j \\in N, ~~ i \\not= j, \\\\\n",
    "    & w_i^{\\text{U}-} \\geq a_{ij}^{\\text{U}-}w_j^\\text{L}, ~~\n",
    "    w_i^{\\text{U}+} \\leq a_{ij}^{\\text{U}+}w_j^\\text{L}, ~~ i, j \\in N, ~~ i \\not= j, \\\\\n",
    "    & \\sum_{i \\in N\\backslash\\{ j \\}} w_i^\\text{U} + w_j^\\text{L} \\geq 1, ~~\n",
    "    \\sum_{i \\in N\\backslash\\{ j \\}} w_i^\\text{L} + w_j^\\text{U} \\leq 1, ~~ j \\in N, \\\\\n",
    "    & w_i^\\text{U} \\geq w_i^\\text{L} \\geq \\epsilon, ~~ i \\in N, ~~\n",
    "    w_i^{\\text{L}+}, w_i^{\\text{L}-}, \\varepsilon_i^\\text{L},\n",
    "    w_i^{\\text{U}-}, w_i^{\\text{U}+}, \\varepsilon_i^\\text{U} \\geq 0, ~~ i \\in N\n",
    "\\end{align*}\n",
    "$$"
   ]
  },
  {
   "cell_type": "code",
   "execution_count": 17,
   "id": "0e86c86c-edd5-48cb-8708-9e47da384ee9",
   "metadata": {},
   "outputs": [
    {
     "data": {
      "text/plain": [
       "run (generic function with 1 method)"
      ]
     },
     "execution_count": 17,
     "metadata": {},
     "output_type": "execute_result"
    }
   ],
   "source": [
    "function run(A::Matrix{TwofoldInterval{T}}) where {T <: Real}\n",
    "    println(\"\\nA\")\n",
    "    showElements2(A)\n",
    "    println(\"\")\n",
    "    m, n = size(A)\n",
    "\n",
    "    lpResult = solveLP_CBA(A)\n",
    "    W = map(i -> lpResult[2][i]..lpResult[1][i], 1:n)\n",
    "    εᴸ = lpResult[5]\n",
    "    εᵁ = lpResult[8]\n",
    "    Â = updatePCM_CBA_2(A, lpResult)\n",
    "    lpResultʷ = solveLP_CBA_Weighted(A)\n",
    "    Wʷ = map(i -> lpResultʷ[2][i]..lpResultʷ[1][i], 1:n)\n",
    "    Âʷ = updatePCM_CBA_2(A, lpResultʷ)\n",
    "    εᴸʷ = lpResultʷ[5]\n",
    "    εᵁʷ = lpResultʷ[8]\n",
    "    \n",
    "    println(\"\\nεᴸ\")\n",
    "    display(εᴸ)\n",
    "    println(\"εᴸʷ\")\n",
    "    display(εᴸʷ)\n",
    "\n",
    "    println(\"\\nεᵁ\")\n",
    "    display(εᵁ)\n",
    "    println(\"εᵁʷ\")\n",
    "    display(εᵁʷ)\n",
    "\n",
    "    println(\"\\nW\")\n",
    "    display(W)\n",
    "    println(\"Wʷ\")\n",
    "    display(Wʷ)\n",
    "\n",
    "    println(\"\\nA\")\n",
    "    showElements2(A)\n",
    "    println(\"Â\")\n",
    "    showElements2(Â)\n",
    "    println(\"Âʷ\")\n",
    "    showElements2(Âʷ)\n",
    "\n",
    "    println(\"\\nÂ widths\")\n",
    "    showWidths(Â)\n",
    "    println(\"Âʷ widths\")\n",
    "    showWidths(Âʷ)\n",
    "end"
   ]
  },
  {
   "cell_type": "code",
   "execution_count": 18,
   "id": "a01e6136-08cd-4cf0-900b-d52f7c958cce",
   "metadata": {},
   "outputs": [
    {
     "name": "stdout",
     "output_type": "stream",
     "text": [
      "\n",
      "A\n",
      "[1.000, [1.000, 1.000], 1.000] [1.000, [1.200, 1.500], 2.000] [3.000, [4.000, 4.500], 5.000]\n",
      "[0.500, [0.667, 0.833], 1.000] [1.000, [1.000, 1.000], 1.000] [4.000, [4.200, 4.700], 5.000]\n",
      "[0.200, [0.222, 0.250], 0.333] [0.200, [0.213, 0.238], 0.250] [1.000, [1.000, 1.000], 1.000]\n",
      "\n",
      "Running HiGHS 1.3.0 [date: 1970-01-01, git hash: e5004072b-dirty]\n",
      "Copyright (c) 2022 ERGO-Code under MIT licence terms\n",
      "Presolving model\n",
      "63 rows, 24 cols, 162 nonzeros\n",
      "57 rows, 18 cols, 156 nonzeros\n",
      "Presolve : Reductions: rows 57(-6); columns 18(-6); elements 156(-6)\n",
      "Solving the presolved LP\n",
      "Using EKK dual simplex solver - serial\n",
      "  Iteration        Objective     Infeasibilities num(sum)\n",
      "          0     4.2885698801e-16 Pr: 3(3) 0s\n",
      "         24     1.8008424236e-01 Pr: 0(0) 0s\n",
      "Solving the original LP from the solution after postsolve\n",
      "Model   status      : Optimal\n",
      "Simplex   iterations: 24\n",
      "Objective value     :  1.8008424236e-01\n",
      "HiGHS run time      :          0.00\n"
     ]
    },
    {
     "data": {
      "text/plain": [
       "1.7664756817231093"
      ]
     },
     "metadata": {},
     "output_type": "display_data"
    },
    {
     "data": {
      "text/plain": [
       "3-element Vector{Float64}:\n",
       " 0.8829838336959583\n",
       " 0.7662182623671699\n",
       " 1.0"
      ]
     },
     "metadata": {},
     "output_type": "display_data"
    },
    {
     "data": {
      "text/plain": [
       "3-element Vector{Float64}:\n",
       " 0.0465444434575536\n",
       " 0.8009247482859577\n",
       " 0.23378173763283006"
      ]
     },
     "metadata": {},
     "output_type": "display_data"
    },
    {
     "name": "stdout",
     "output_type": "stream",
     "text": [
      "Running HiGHS 1.3.0 [date: 1970-01-01, git hash: e5004072b-dirty]\n",
      "Copyright (c) 2022 ERGO-Code under MIT licence terms\n",
      "Presolving model\n",
      "63 rows, 24 cols, 162 nonzeros\n",
      "57 rows, 18 cols, 156 nonzeros\n",
      "Presolve : Reductions: rows 57(-6); columns 18(-6); elements 156(-6)\n",
      "Solving the presolved LP\n",
      "Using EKK dual simplex solver - serial\n",
      "  Iteration        Objective     Infeasibilities num(sum)\n",
      "          0     4.2885698801e-16 Pr: 3(3) 0s\n",
      "         25     2.9242979369e-01 Pr: 0(0) 0s\n",
      "Solving the original LP from the solution after postsolve\n",
      "Model   status      : Optimal\n",
      "Simplex   iterations: 25\n",
      "Objective value     :  2.9242979369e-01\n",
      "HiGHS run time      :          0.00\n",
      "\n",
      "εᴸ\n"
     ]
    },
    {
     "data": {
      "text/plain": [
       "3-element Vector{Float64}:\n",
       " -0.0\n",
       "  0.09137055837563451\n",
       "  0.01155632357706017"
      ]
     },
     "metadata": {},
     "output_type": "display_data"
    },
    {
     "name": "stdout",
     "output_type": "stream",
     "text": [
      "εᴸʷ\n"
     ]
    },
    {
     "data": {
      "text/plain": [
       "3-element Vector{Float64}:\n",
       " 0.01785714285714307\n",
       " 0.07142857142857129\n",
       " 0.012158054711246202"
      ]
     },
     "metadata": {},
     "output_type": "display_data"
    },
    {
     "name": "stdout",
     "output_type": "stream",
     "text": [
      "\n",
      "εᵁ\n"
     ]
    },
    {
     "data": {
      "text/plain": [
       "3-element Vector{Float64}:\n",
       " 0.0\n",
       " 0.054314720812182804\n",
       " 0.02284263959390863"
      ]
     },
     "metadata": {},
     "output_type": "display_data"
    },
    {
     "name": "stdout",
     "output_type": "stream",
     "text": [
      "εᵁʷ\n"
     ]
    },
    {
     "data": {
      "text/plain": [
       "3-element Vector{Float64}:\n",
       " 0.0\n",
       " 0.057142857142857106\n",
       " 0.02232142857142856"
      ]
     },
     "metadata": {},
     "output_type": "display_data"
    },
    {
     "name": "stdout",
     "output_type": "stream",
     "text": [
      "\n",
      "W\n"
     ]
    },
    {
     "data": {
      "text/plain": [
       "3-element Vector{Interval{Float64}}:\n",
       " [0.4467, 0.532995]\n",
       " [0.355329, 0.446701]\n",
       " [0.106598, 0.111676]"
      ]
     },
     "metadata": {},
     "output_type": "display_data"
    },
    {
     "name": "stdout",
     "output_type": "stream",
     "text": [
      "Wʷ\n"
     ]
    },
    {
     "data": {
      "text/plain": [
       "3-element Vector{Interval{Float64}}:\n",
       " [0.446428, 0.535715]\n",
       " [0.357142, 0.446429]\n",
       " [0.107142, 0.107143]"
      ]
     },
     "metadata": {},
     "output_type": "display_data"
    },
    {
     "name": "stdout",
     "output_type": "stream",
     "text": [
      "\n",
      "A\n",
      "[1.000, [1.000, 1.000], 1.000] [1.000, [1.200, 1.500], 2.000] [3.000, [4.000, 4.500], 5.000]\n",
      "[0.500, [0.667, 0.833], 1.000] [1.000, [1.000, 1.000], 1.000] [4.000, [4.200, 4.700], 5.000]\n",
      "[0.200, [0.222, 0.250], 0.333] [0.200, [0.213, 0.238], 0.250] [1.000, [1.000, 1.000], 1.000]\n",
      "Â\n",
      "[1.000, [1.000, 1.000], 1.000] [0.892,       ∅       , 2.000] [3.000,       ∅       , 5.608]\n",
      "[0.500,       ∅       , 1.122] [1.000, [1.000, 1.000], 1.000] [3.182,       ∅       , 5.000]\n",
      "[0.178,       ∅       , 0.333] [0.200,       ∅       , 0.314] [1.000, [1.000, 1.000], 1.000]\n",
      "Âʷ\n",
      "[1.000, [1.000, 1.000], 1.000] [0.887, [1.200, 1.250], 2.000] [3.000,       ∅       , 5.640]\n",
      "[0.500, [0.800, 0.833], 1.128] [1.000, [1.000, 1.000], 1.000] [3.200,       ∅       , 5.000]\n",
      "[0.177,       ∅       , 0.333] [0.200,       ∅       , 0.312] [1.000, [1.000, 1.000], 1.000]\n",
      "\n",
      "Â widths\n",
      "(0.00000, 0.00000) ( undef , 1.10841) ( undef , 2.60795)\n",
      "( undef , 0.62159) (0.00000, 0.00000) ( undef , 1.81818)\n",
      "( undef , 0.15502) ( undef , 0.11429) (0.00000, 0.00000)\n",
      "Âʷ widths\n",
      "(0.00000, 0.00000) (0.05000, 1.11348) ( undef , 2.64000)\n",
      "(0.03333, 0.62800) (0.00000, 0.00000) ( undef , 1.80000)\n",
      "( undef , 0.15603) ( undef , 0.11250) (0.00000, 0.00000)\n"
     ]
    }
   ],
   "source": [
    "A = [\n",
    "    (1..1, 1..1) (1.2..1.5, 1..2) (4..4.5, 3..5)\n",
    "    ((1/1.5)..(1/1.2), (1/2)..1) (1..1, 1..1) (4.2..4.7, 4..5)\n",
    "    ((1/4.5)..(1/4), (1/5)..(1/3)) ((1/4.7)..(1/4.2), (1/5)..(1/4)) (1..1, 1..1)\n",
    "]\n",
    "run(A)"
   ]
  },
  {
   "cell_type": "code",
   "execution_count": null,
   "id": "96ba9898-7f22-4efe-abad-a1e6ddb2182e",
   "metadata": {},
   "outputs": [],
   "source": []
  }
 ],
 "metadata": {
  "kernelspec": {
   "display_name": "Julia 1.8.2",
   "language": "julia",
   "name": "julia-1.8"
  },
  "language_info": {
   "file_extension": ".jl",
   "mimetype": "application/julia",
   "name": "julia",
   "version": "1.8.2"
  }
 },
 "nbformat": 4,
 "nbformat_minor": 5
}
