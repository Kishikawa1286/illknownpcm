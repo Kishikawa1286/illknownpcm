{
 "cells": [
  {
   "cell_type": "markdown",
   "id": "e7a0f536",
   "metadata": {},
   "source": [
    "上・下近似を求めるLP  \n",
    "これを各 $k \\in \\{ 1, 2 \\}$ について解く\n",
    "$$\n",
    "\\begin{align*}\n",
    "    \\text{minimize} ~~ & ~~\n",
    "    \\sum_{i \\in N} \\left( w_{ki}^{\\text{L}-} - w_{ki}^{\\text{L}+} + w_{ki}^{\\text{U}+} - w_{ki}^{\\text{U}-} \\right), \\\\\n",
    "    \\text{subject to} ~~ & ~~\n",
    "    \\frac{w_{ki}^{\\text{L}+}}{w_{kj}^{\\text{U}+}} \\leq a_{kij}^\\text{L} \\leq \\frac{w_{ki}^{\\text{L}-}}{w_{kj}^{\\text{U}-}}, ~~\n",
    "    \\frac{w_{ki}^{\\text{U}-}}{w_{kj}^{\\text{L}-}} \\leq a_{kij}^\\text{U} \\leq \\frac{w_{ki}^{\\text{U}+}}{w_{kj}^{\\text{L}+}}, ~~\n",
    "    i, j \\in N, \\\\ & ~~\n",
    "    \\sum_{j \\in N \\backslash \\{i\\}} w_{kj}^{\\text{U}-} + w_{ki}^{\\text{L}-} \\geq 1, ~~\n",
    "    \\sum_{j \\in N \\backslash \\{i\\}} w_{kj}^{\\text{L}-} + w_{ki}^{\\text{U}-} \\leq 1, ~~\n",
    "    i \\in N, \\\\ & ~~\n",
    "    \\sum_{j \\in N \\backslash \\{i\\}} w_{kj}^{\\text{U}+} + w_{ki}^{\\text{L}+} \\geq 1, ~~\n",
    "    \\sum_{j \\in N \\backslash \\{i\\}} w_{kj}^{\\text{L}+} + w_{ki}^{\\text{U}+} \\leq 1, ~~\n",
    "    i \\in N, \\\\ & ~~\n",
    "    \\sum_{i \\in N} \\left( w_{ki}^{\\text{L}-} + w_{ki}^{\\text{U}-} \\right) = 2, ~~\n",
    "    \\sum_{i \\in N} \\left( w_{ki}^{\\text{L}+} + w_{ki}^{\\text{U}+} \\right) = 2, \\\\ & ~~\n",
    "    w_{ki}^{\\text{U}+} \\geq w_{ki}^{\\text{U}-} \\geq w_{ki}^{\\text{L}-} \\geq w_{ki}^{\\text{L}+} \\geq \\varepsilon, ~~ i \\in N\n",
    "\\end{align*}\n",
    "$$"
   ]
  },
  {
   "cell_type": "markdown",
   "id": "dc7043c7",
   "metadata": {},
   "source": [
    "$$\n",
    "t_k^{\\text{L}-} = \\left( \\min_{i \\in N} \\left( \\sum_{j \\in N \\backslash \\{i\\}} w_{kj}^{\\text{U}-} + w_{ki}^{\\text{L}-} \\right) \\right)^{-1}, ~~\n",
    "t_k^{\\text{U}-} = \\left( \\max_{i \\in N} \\left( \\sum_{j \\in N \\backslash \\{i\\}} w_{kj}^{\\text{L}-} + w_{ki}^{\\text{U}-} \\right) \\right)^{-1}, \\\\\n",
    "t_k^{\\text{L}+} = \\left( \\min_{i \\in N} \\left( \\sum_{j \\in N \\backslash \\{i\\}} w_{kj}^{\\text{U}+} + w_{ki}^{\\text{L}+} \\right) \\right)^{-1}, ~~\n",
    "t_k^{\\text{U}+} = \\left( \\max_{i \\in N} \\left( \\sum_{j \\in N \\backslash \\{i\\}} w_{kj}^{\\text{L}+} + w_{ki}^{\\text{U}+} \\right) \\right)^{-1}\n",
    "$$"
   ]
  },
  {
   "cell_type": "markdown",
   "id": "c293054f",
   "metadata": {},
   "source": [
    "$$\n",
    "\\begin{align*}\n",
    "    \\text{minimize} ~~ & ~~\n",
    "    \\sum_{i \\in N} \\left( \\varepsilon_i^\\text{L} + \\varepsilon_i^\\text{U} \\right), \\\\\n",
    "    \\text{subject to} ~~ & ~~\n",
    "    t_k^+ w_{ki}^{\\text{L}+} - \\varepsilon_i^\\text{L} \\leq w_i^\\text{L} \\leq t_k^- w_{ki}^{\\text{L}-} + \\varepsilon_i^\\text{L}, ~~\n",
    "    i \\in N, ~~ k \\in \\{ 1, 2 \\}, \\\\ & ~~\n",
    "    t_k^- w_{ki}^{\\text{U}-} - \\varepsilon_i^\\text{U} \\leq w_i^\\text{U} \\leq t_k^+ w_{ki}^{\\text{U}+} + \\varepsilon_i^\\text{U}, ~~\n",
    "    i \\in N, ~~ k \\in \\{ 1, 2 \\}, \\\\ & ~~\n",
    "    \\varepsilon_i^\\text{L} \\geq v_i^{\\text{L}+} - v_i^{\\text{L}-}, ~~\n",
    "    \\varepsilon_i^\\text{U} \\geq v_i^{\\text{U}-} - v_i^{\\text{U}+}, ~~\n",
    "    i \\in N, ~~ k \\in \\{ 1, 2 \\}, \\\\ & ~~\n",
    "    v_i^{\\text{L}-} \\leq t_k^- w_{ki}^{\\text{L}-}, ~~\n",
    "    v_i^{\\text{U}-} \\geq t_k^- w_{ki}^{\\text{U}-}, ~~\n",
    "    i \\in N, ~~ k \\in \\{ 1, 2 \\}, \\\\ & ~~\n",
    "    v_i^{\\text{L}+} \\geq t_k^+ w_{ki}^{\\text{L}+}, ~~\n",
    "    v_i^{\\text{U}+} \\leq t_k^+ w_{ki}^{\\text{U}+}, ~~\n",
    "    i \\in N, ~~ k \\in \\{ 1, 2 \\}, \\\\ & ~~\n",
    "    \\sum_{j \\in N \\backslash \\{i\\}} w_j^\\text{U} + w_i^\\text{L} \\geq 1, ~~\n",
    "    \\sum_{j \\in N \\backslash \\{i\\}} w_j^\\text{L} + w_i^\\text{U} \\leq 1, ~~\n",
    "    i \\in N, \\\\ & ~~\n",
    "     \\sum_{i \\in N} \\left(  w_i^\\text{L} +  w_i^\\text{U} \\right) = 2, \\\\ & ~~\n",
    "    t_k^{\\text{L}-} \\leq t_k^- \\leq t_k^{\\text{U}-}, ~~\n",
    "    t_k^{\\text{L}+} \\leq t_k^+ \\leq t_k^{\\text{U}+}, ~~\n",
    "    k \\in \\{ 1, 2 \\}, \\\\ & ~~\n",
    "    w_i^\\text{U} \\geq w_i^\\text{L} \\geq \\varepsilon, ~~\n",
    "    v_i^{\\text{L}-}, v_i^{\\text{U}-}, v_i^{\\text{L}+}, v_i^{\\text{U}+}, \\varepsilon_i^\\text{L}, \\varepsilon_i^\\text{U} \\geq 0, ~~\n",
    "    i \\in N\n",
    "\\end{align*}\n",
    "$$\n",
    "上・下近似で中心総和1とすると$t_k^- = t_k^+ = 1$"
   ]
  },
  {
   "cell_type": "markdown",
   "id": "2a0125ae",
   "metadata": {},
   "source": [
    "$$\n",
    "\\begin{align*}\n",
    "\\hat{a}_{ij}^{\\text{L}-} & = \\frac{v_i^{\\text{L}-} + \\varepsilon_i^\\text{L}}{v_j^{\\text{U}-} - \\varepsilon_j^\\text{U}}, ~~ i, j \\in N, ~~ i \\not= j, \\\\\n",
    "\\hat{a}_{ij}^{\\text{U}-} & = \\frac{v_i^{\\text{U}-} - \\varepsilon_i^\\text{U}}{v_j^{\\text{L}-} + \\varepsilon_j^\\text{L}}, ~~ i, j \\in N, ~~ i \\not= j, \\\\\n",
    "\\hat{a}_{ij}^{\\text{L}+} & = \\frac{v_i^{\\text{L}+} - \\varepsilon_i^\\text{L}}{v_j^{\\text{U}+} + \\varepsilon_j^\\text{U}}, ~~ i, j \\in N, ~~ i \\not= j, \\\\\n",
    "\\hat{a}_{ij}^{\\text{U}+} & = \\frac{v_i^{\\text{U}+} + \\varepsilon_i^\\text{U}}{v_j^{\\text{L}+} - \\varepsilon_j^\\text{L}}, ~~ i, j \\in N, ~~ i \\not= j\n",
    "\\end{align*}\n",
    "$$"
   ]
  },
  {
   "cell_type": "code",
   "execution_count": 36,
   "id": "acd086ce-742a-4493-a331-7abe3296c70d",
   "metadata": {},
   "outputs": [],
   "source": [
    "using IntervalArithmetic\n",
    "using LaTeXStrings"
   ]
  },
  {
   "cell_type": "code",
   "execution_count": 37,
   "id": "6ae45f35-7c99-45c9-a934-88166cfef5fb",
   "metadata": {},
   "outputs": [
    {
     "data": {
      "text/plain": [
       "intervalPCM2TwofoldIntervalPCM"
      ]
     },
     "execution_count": 37,
     "metadata": {},
     "output_type": "execute_result"
    }
   ],
   "source": [
    "include(\"./concatImportanceMethod.jl\")\n",
    "include(\"../concatMatricesMethod/concatMatricesMethod.jl\")\n",
    "include(\"../display/concatImportanceMethod.jl\")\n",
    "include(\"../display/interval.jl\")\n",
    "include(\"../display/twofoldInterval.jl\")\n",
    "include(\"../twofoldIntervalPCM/twofoldIntervalPCM.jl\")"
   ]
  },
  {
   "cell_type": "code",
   "execution_count": 27,
   "id": "f6600aef-528e-4336-9695-9b6123a05033",
   "metadata": {},
   "outputs": [],
   "source": [
    "A₁ = [\n",
    "    1..1 2.7..3.2 (1/3.3)..(1/3)\n",
    "    (1/3.2)..(1/2.7) 1..1 (1/10)..(1/9.7)\n",
    "    3..3.3 9.7..10 1..1\n",
    "]\n",
    "A₂ = [\n",
    "    1..1 2.2..2.8 (1/4)..(1/2.8)\n",
    "    (1/2.8)..(1/2.2) 1..1 (1/9.8)..(1/9.7)\n",
    "    2.8..4 9.7..9.8 1..1\n",
    "]\n",
    "\n",
    "print()"
   ]
  },
  {
   "cell_type": "code",
   "execution_count": 28,
   "id": "180ce015",
   "metadata": {},
   "outputs": [
    {
     "data": {
      "text/latex": [
       "$    w_{1}^{\\text{L}-} = \\begin{bmatrix} 0.223  \\\\  0.071  \\\\  0.707 \\end{bmatrix}, ~~\n",
       "    w_{1}^{\\text{U}-} = \\begin{bmatrix} 0.223  \\\\  0.071  \\\\  0.707 \\end{bmatrix}, ~~\n",
       "    w_{1}^{\\text{L}+} = \\begin{bmatrix} 0.214  \\\\  0.071  \\\\  0.697 \\end{bmatrix}, ~~\n",
       "    w_{1}^{\\text{U}+} = \\begin{bmatrix} 0.232  \\\\  0.079  \\\\  0.707 \\end{bmatrix}\n",
       "$"
      ],
      "text/plain": [
       "L\"$    w_{1}^{\\text{L}-} = \\begin{bmatrix} 0.223  \\\\  0.071  \\\\  0.707 \\end{bmatrix}, ~~\n",
       "    w_{1}^{\\text{U}-} = \\begin{bmatrix} 0.223  \\\\  0.071  \\\\  0.707 \\end{bmatrix}, ~~\n",
       "    w_{1}^{\\text{L}+} = \\begin{bmatrix} 0.214  \\\\  0.071  \\\\  0.697 \\end{bmatrix}, ~~\n",
       "    w_{1}^{\\text{U}+} = \\begin{bmatrix} 0.232  \\\\  0.079  \\\\  0.707 \\end{bmatrix}\n",
       "$\""
      ]
     },
     "metadata": {},
     "output_type": "display_data"
    },
    {
     "data": {
      "text/latex": [
       "$    w_{2}^{\\text{L}-} = \\begin{bmatrix} 0.192  \\\\  0.075  \\\\  0.733 \\end{bmatrix}, ~~\n",
       "    w_{2}^{\\text{U}-} = \\begin{bmatrix} 0.192  \\\\  0.075  \\\\  0.733 \\end{bmatrix}, ~~\n",
       "    w_{2}^{\\text{L}+} = \\begin{bmatrix} 0.183  \\\\  0.075  \\\\  0.682 \\end{bmatrix}, ~~\n",
       "    w_{2}^{\\text{U}+} = \\begin{bmatrix} 0.243  \\\\  0.083  \\\\  0.733 \\end{bmatrix}\n",
       "$"
      ],
      "text/plain": [
       "L\"$    w_{2}^{\\text{L}-} = \\begin{bmatrix} 0.192  \\\\  0.075  \\\\  0.733 \\end{bmatrix}, ~~\n",
       "    w_{2}^{\\text{U}-} = \\begin{bmatrix} 0.192  \\\\  0.075  \\\\  0.733 \\end{bmatrix}, ~~\n",
       "    w_{2}^{\\text{L}+} = \\begin{bmatrix} 0.183  \\\\  0.075  \\\\  0.682 \\end{bmatrix}, ~~\n",
       "    w_{2}^{\\text{U}+} = \\begin{bmatrix} 0.243  \\\\  0.083  \\\\  0.733 \\end{bmatrix}\n",
       "$\""
      ]
     },
     "metadata": {},
     "output_type": "display_data"
    }
   ],
   "source": [
    "result1 = solveConcatImportanceMethodApproximationLP(A₁)\n",
    "result2 = solveConcatImportanceMethodApproximationLP(A₂)\n",
    "\n",
    "displayConcatImportanceMethodApproximationLPResults([result1, result2])"
   ]
  },
  {
   "cell_type": "code",
   "execution_count": 29,
   "id": "1e0a58e1",
   "metadata": {},
   "outputs": [
    {
     "data": {
      "text/latex": [
       "$    t_{1}^{\\text{L}-} =  1.0 , ~~\n",
       "    t_{1}^{\\text{U}-} =  1.0 , ~~\n",
       "    t_{1}^{\\text{L}+} =  1.0 , ~~\n",
       "    t_{1}^{\\text{U}+} =  1.0 \n",
       "$"
      ],
      "text/plain": [
       "L\"$    t_{1}^{\\text{L}-} =  1.0 , ~~\n",
       "    t_{1}^{\\text{U}-} =  1.0 , ~~\n",
       "    t_{1}^{\\text{L}+} =  1.0 , ~~\n",
       "    t_{1}^{\\text{U}+} =  1.0 \n",
       "$\""
      ]
     },
     "metadata": {},
     "output_type": "display_data"
    },
    {
     "data": {
      "text/latex": [
       "$    t_{2}^{\\text{L}-} =  1.0 , ~~\n",
       "    t_{2}^{\\text{U}-} =  1.0 , ~~\n",
       "    t_{2}^{\\text{L}+} =  1.0 , ~~\n",
       "    t_{2}^{\\text{U}+} =  1.0 \n",
       "$"
      ],
      "text/plain": [
       "L\"$    t_{2}^{\\text{L}-} =  1.0 , ~~\n",
       "    t_{2}^{\\text{U}-} =  1.0 , ~~\n",
       "    t_{2}^{\\text{L}+} =  1.0 , ~~\n",
       "    t_{2}^{\\text{U}+} =  1.0 \n",
       "$\""
      ]
     },
     "metadata": {},
     "output_type": "display_data"
    }
   ],
   "source": [
    "tBoundaries = calculateConcatImportanceMethodTBoundaries([result1, result2])\n",
    "\n",
    "displayConcatImportanceMethodTBoundaries(tBoundaries)"
   ]
  },
  {
   "cell_type": "code",
   "execution_count": 30,
   "id": "d426f37d",
   "metadata": {},
   "outputs": [
    {
     "data": {
      "text/latex": [
       "$t^- = \\begin{bmatrix} 1.0  \\\\  1.0 \\end{bmatrix}, ~~\n",
       "t^+ = \\begin{bmatrix} 1.0  \\\\  1.0 \\end{bmatrix}\n",
       "$"
      ],
      "text/plain": [
       "L\"$t^- = \\begin{bmatrix} 1.0  \\\\  1.0 \\end{bmatrix}, ~~\n",
       "t^+ = \\begin{bmatrix} 1.0  \\\\  1.0 \\end{bmatrix}\n",
       "$\""
      ]
     },
     "metadata": {},
     "output_type": "display_data"
    },
    {
     "data": {
      "text/latex": [
       "$W = \\begin{bmatrix}\\left[ 0.192, 0.224 \\right] \\\\ \\left[ 0.075, 0.079 \\right] \\\\ \\left[ 0.697, 0.733 \\right]\\end{bmatrix}$"
      ],
      "text/plain": [
       "L\"$W = \\begin{bmatrix}\\left[ 0.192, 0.224 \\right] \\\\ \\left[ 0.075, 0.079 \\right] \\\\ \\left[ 0.697, 0.733 \\right]\\end{bmatrix}$\""
      ]
     },
     "metadata": {},
     "output_type": "display_data"
    },
    {
     "data": {
      "text/latex": [
       "$v^{\\text{L}-} = \\begin{bmatrix} 0.192  \\\\  0.071  \\\\  0.707 \\end{bmatrix}, ~~\n",
       "v^{\\text{U}-} = \\begin{bmatrix} 0.223  \\\\  0.075  \\\\  0.733 \\end{bmatrix}, ~~\n",
       "v^{\\text{L}+} = \\begin{bmatrix} 0.214  \\\\  0.075  \\\\  0.697 \\end{bmatrix}, ~~\n",
       "v^{\\text{U}+} = \\begin{bmatrix} 0.214  \\\\  0.075  \\\\  0.697 \\end{bmatrix}\n",
       "$"
      ],
      "text/plain": [
       "L\"$v^{\\text{L}-} = \\begin{bmatrix} 0.192  \\\\  0.071  \\\\  0.707 \\end{bmatrix}, ~~\n",
       "v^{\\text{U}-} = \\begin{bmatrix} 0.223  \\\\  0.075  \\\\  0.733 \\end{bmatrix}, ~~\n",
       "v^{\\text{L}+} = \\begin{bmatrix} 0.214  \\\\  0.075  \\\\  0.697 \\end{bmatrix}, ~~\n",
       "v^{\\text{U}+} = \\begin{bmatrix} 0.214  \\\\  0.075  \\\\  0.697 \\end{bmatrix}\n",
       "$\""
      ]
     },
     "metadata": {},
     "output_type": "display_data"
    },
    {
     "data": {
      "text/latex": [
       "$\\varepsilon^\\text{L} = \\begin{bmatrix} 0.022  \\\\  0.004  \\\\  0.0 \\end{bmatrix}, ~~\n",
       "\\varepsilon^\\text{U} = \\begin{bmatrix} 0.0  \\\\  0.0  \\\\  0.027 \\end{bmatrix}\n",
       "$"
      ],
      "text/plain": [
       "L\"$\\varepsilon^\\text{L} = \\begin{bmatrix} 0.022  \\\\  0.004  \\\\  0.0 \\end{bmatrix}, ~~\n",
       "\\varepsilon^\\text{U} = \\begin{bmatrix} 0.0  \\\\  0.0  \\\\  0.027 \\end{bmatrix}\n",
       "$\""
      ]
     },
     "metadata": {},
     "output_type": "display_data"
    }
   ],
   "source": [
    "result = solveConcatImportanceMethodConcatLP([result1, result2], tBoundaries)\n",
    "\n",
    "displayConcatImportanceMethodConcatLPResult(result)"
   ]
  },
  {
   "cell_type": "code",
   "execution_count": 31,
   "id": "02b1c2ad",
   "metadata": {},
   "outputs": [
    {
     "data": {
      "text/latex": [
       "$\\hat{A} = \\begin{bmatrix} \\left[   1.0, \\left[   1.0,   1.0 \\right],   1.0 \\right] & \\left[ 2.419, \\left[   2.7, 2.977 \\right], 3.166 \\right] & \\left[ 0.262, \\left[ 0.292, 0.317 \\right], 0.321 \\right] \\\\ \\left[ 0.316, \\left[ 0.336,  0.37 \\right], 0.413 \\right] & \\left[   1.0, \\left[   1.0,   1.0 \\right],   1.0 \\right] & \\left[ 0.096, \\left[ 0.106, 0.107 \\right], 0.114 \\right] \\\\ \\left[ 3.116, \\left[ 3.159, 3.425 \\right], 3.823 \\right] & \\left[ 8.789, \\left[ 9.315, 9.443 \\right], 10.379 \\right] & \\left[   1.0, \\left[   1.0,   1.0 \\right],   1.0 \\right] \\end{bmatrix}$"
      ],
      "text/plain": [
       "\"\\$\\\\hat{A} = \\\\begin{bmatrix} \\\\left[   1.0, \\\\left[   1.0,   1.0 \\\\right],   1.0 \\\\right] & \\\\left[ 2.419, \\\\left[   2.7, 2.977 \\\\right], 3.166 \\\\right] & \\\\left[ 0.262, \\\\left[ 0.292, 0.317 \\\\right], 0.321 \\\\right] \\\\\\\\ \\\\left[ 0.316, \\\\left[ 0.336,  0.37 \\\\right], 0.413 \\\\right] & \\\\left[ \" ⋯ 31 bytes ⋯ \"ht],   1.0 \\\\right] & \\\\left[ 0.096, \\\\left[ 0.106, 0.107 \\\\right], 0.114 \\\\right] \\\\\\\\ \\\\left[ 3.116, \\\\left[ 3.159, 3.425 \\\\right], 3.823 \\\\right] & \\\\left[ 8.789, \\\\left[ 9.315, 9.443 \\\\right], 10.379 \\\\right] & \\\\left[   1.0, \\\\left[   1.0,   1.0 \\\\right],   1.0 \\\\right] \\\\end{bmatrix}\\$\""
      ]
     },
     "metadata": {},
     "output_type": "display_data"
    }
   ],
   "source": [
    "Â = generateConcatImportanceMethodPCM(result)\n",
    "\n",
    "display(L\"\\hat{A} = %$(twofoldIntervalMatrixLaTeXString(Â))\")"
   ]
  },
  {
   "cell_type": "code",
   "execution_count": 45,
   "id": "4c1154ae-9638-4b6f-8f36-a79b99e7d684",
   "metadata": {},
   "outputs": [
    {
     "data": {
      "text/plain": [
       "0.160432023577514"
      ]
     },
     "execution_count": 45,
     "metadata": {},
     "output_type": "execute_result"
    }
   ],
   "source": [
    "using LinearAlgebra\n",
    "\n",
    "L = [\n",
    "    1 1/5 3 2\n",
    "    5 1 7 1\n",
    "    1/3 1/7 1 1/3\n",
    "    1/2 1 3 1\n",
    "]\n",
    "\n",
    "m, n = size(L)\n",
    "λₘₐₓ = maximum(map(λ -> real(λ), filter(λ -> isreal(λ), eigvals(L))))\n",
    "CI = (λₘₐₓ - n) / (n - 1)"
   ]
  },
  {
   "cell_type": "code",
   "execution_count": 40,
   "id": "47be66fe-0cf5-4d78-a24f-73f7fb932cc8",
   "metadata": {},
   "outputs": [
    {
     "data": {
      "text/latex": [
       "$A_1 = \\begin{bmatrix} \\left[ 1.0, 1.0 \\right] & \\left[ 0.182, 0.196 \\right] & \\left[ 2.7, 2.9 \\right] & \\left[ 1.5, 2.0 \\right] \\\\ \\left[ 5.1, 5.5 \\right] & \\left[ 1.0, 1.0 \\right] & \\left[ 6.9, 7.2 \\right] & \\left[ 0.9, 1.3 \\right] \\\\ \\left[ 0.345, 0.37 \\right] & \\left[ 0.139, 0.145 \\right] & \\left[ 1.0, 1.0 \\right] & \\left[ 0.294, 0.333 \\right] \\\\ \\left[ 0.5, 0.667 \\right] & \\left[ 0.769, 1.111 \\right] & \\left[ 3.0, 3.4 \\right] & \\left[ 1.0, 1.0 \\right] \\end{bmatrix}$"
      ],
      "text/plain": [
       "L\"$A_1 = \\begin{bmatrix} \\left[ 1.0, 1.0 \\right] & \\left[ 0.182, 0.196 \\right] & \\left[ 2.7, 2.9 \\right] & \\left[ 1.5, 2.0 \\right] \\\\ \\left[ 5.1, 5.5 \\right] & \\left[ 1.0, 1.0 \\right] & \\left[ 6.9, 7.2 \\right] & \\left[ 0.9, 1.3 \\right] \\\\ \\left[ 0.345, 0.37 \\right] & \\left[ 0.139, 0.145 \\right] & \\left[ 1.0, 1.0 \\right] & \\left[ 0.294, 0.333 \\right] \\\\ \\left[ 0.5, 0.667 \\right] & \\left[ 0.769, 1.111 \\right] & \\left[ 3.0, 3.4 \\right] & \\left[ 1.0, 1.0 \\right] \\end{bmatrix}$\""
      ]
     },
     "metadata": {},
     "output_type": "display_data"
    }
   ],
   "source": [
    "M = [\n",
    "    1..1 (1/5.5)..(1/5.1) 2.7..2.9 1.5..2\n",
    "    5.1..5.5 1..1 6.9..7.2 0.9..1.3\n",
    "    (1/2.9)..(1/2.7) (1/7.2)..(1/6.9) 1..1 (1/3.4)..(1/3)\n",
    "    (1/2)..(1/1.5) (1/1.3)..(1/0.9) 3..3.4 1..1\n",
    "]\n",
    "display(L\"A_1 = %$(intervalMatrixLaTeXString(M))\")"
   ]
  },
  {
   "cell_type": "code",
   "execution_count": 41,
   "id": "77f90d68",
   "metadata": {},
   "outputs": [
    {
     "ename": "LoadError",
     "evalue": "Result index of attribute MathOptInterface.VariablePrimal(1) out of bounds. There are currently 0 solution(s) in the model.",
     "output_type": "error",
     "traceback": [
      "Result index of attribute MathOptInterface.VariablePrimal(1) out of bounds. There are currently 0 solution(s) in the model.",
      "",
      "Stacktrace:",
      "  [1] check_result_index_bounds",
      "    @ /opt/julia/packages/MathOptInterface/3gomH/src/attributes.jl:207 [inlined]",
      "  [2] get",
      "    @ /opt/julia/packages/HiGHS/97H3V/src/MOI_wrapper.jl:1820 [inlined]",
      "  [3] get(b::MathOptInterface.Bridges.LazyBridgeOptimizer{HiGHS.Optimizer}, attr::MathOptInterface.VariablePrimal, index::MathOptInterface.VariableIndex)",
      "    @ MathOptInterface.Bridges /opt/julia/packages/MathOptInterface/3gomH/src/Bridges/bridge_optimizer.jl:1116",
      "  [4] get(model::MathOptInterface.Utilities.CachingOptimizer{MathOptInterface.Bridges.LazyBridgeOptimizer{HiGHS.Optimizer}, MathOptInterface.Utilities.UniversalFallback{MathOptInterface.Utilities.Model{Float64}}}, attr::MathOptInterface.VariablePrimal, index::MathOptInterface.VariableIndex)",
      "    @ MathOptInterface.Utilities /opt/julia/packages/MathOptInterface/3gomH/src/Utilities/cachingoptimizer.jl:911",
      "  [5] _moi_get_result(::MathOptInterface.Utilities.CachingOptimizer{MathOptInterface.Bridges.LazyBridgeOptimizer{HiGHS.Optimizer}, MathOptInterface.Utilities.UniversalFallback{MathOptInterface.Utilities.Model{Float64}}}, ::MathOptInterface.VariablePrimal, ::Vararg{Any})",
      "    @ JuMP /opt/julia/packages/JuMP/Z1pVn/src/JuMP.jl:1155",
      "  [6] get(model::Model, attr::MathOptInterface.VariablePrimal, v::VariableRef)",
      "    @ JuMP /opt/julia/packages/JuMP/Z1pVn/src/JuMP.jl:1212",
      "  [7] value(v::VariableRef; result::Int64)",
      "    @ JuMP /opt/julia/packages/JuMP/Z1pVn/src/variables.jl:1032",
      "  [8] value",
      "    @ /opt/julia/packages/JuMP/Z1pVn/src/variables.jl:1031 [inlined]",
      "  [9] _broadcast_getindex_evalf",
      "    @ ./broadcast.jl:670 [inlined]",
      " [10] _broadcast_getindex",
      "    @ ./broadcast.jl:643 [inlined]",
      " [11] getindex",
      "    @ ./broadcast.jl:597 [inlined]",
      " [12] macro expansion",
      "    @ ./broadcast.jl:961 [inlined]",
      " [13] macro expansion",
      "    @ ./simdloop.jl:77 [inlined]",
      " [14] copyto!",
      "    @ ./broadcast.jl:960 [inlined]",
      " [15] copyto!",
      "    @ ./broadcast.jl:913 [inlined]",
      " [16] copy",
      "    @ ./broadcast.jl:885 [inlined]",
      " [17] materialize",
      "    @ ./broadcast.jl:860 [inlined]",
      " [18] solveConcatImportanceMethodApproximationLP(Aₖ::Matrix{Interval{Float64}})",
      "    @ Main ~/work/src/concatImportanceMethod/concatImportanceMethod.jl:70",
      " [19] top-level scope",
      "    @ In[41]:1",
      " [20] eval",
      "    @ ./boot.jl:368 [inlined]",
      " [21] include_string(mapexpr::typeof(REPL.softscope), mod::Module, code::String, filename::String)",
      "    @ Base ./loading.jl:1428"
     ]
    }
   ],
   "source": [
    "solveConcatImportanceMethodApproximationLP([\n",
    "    1..1 (1/5.5)..(1/5.1) 2.7..2.9 1.5..2\n",
    "    5.1..5.5 1..1 6.9..7.2 0.9..1.3\n",
    "    (1/2.9)..(1/2.7) (1/7.2)..(1/6.9) 1..1 (1/3.4)..(1/3)\n",
    "    (1/2)..(1/1.5) (1/1.3)..(1/0.9) 3..3.4 1..1\n",
    "])"
   ]
  },
  {
   "cell_type": "code",
   "execution_count": null,
   "id": "f860fb33-ae44-4a5f-b5b7-48b601c4993f",
   "metadata": {},
   "outputs": [],
   "source": []
  }
 ],
 "metadata": {
  "kernelspec": {
   "display_name": "Julia 1.8.2",
   "language": "julia",
   "name": "julia-1.8"
  },
  "language_info": {
   "file_extension": ".jl",
   "mimetype": "application/julia",
   "name": "julia",
   "version": "1.8.2"
  }
 },
 "nbformat": 4,
 "nbformat_minor": 5
}
