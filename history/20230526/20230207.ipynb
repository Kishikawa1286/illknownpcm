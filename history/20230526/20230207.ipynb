{
 "cells": [
  {
   "attachments": {},
   "cell_type": "markdown",
   "id": "62d70223",
   "metadata": {},
   "source": [
    "## 発表スライドの計算"
   ]
  },
  {
   "cell_type": "code",
   "execution_count": 1,
   "id": "d1cc794c",
   "metadata": {},
   "outputs": [
    {
     "data": {
      "text/plain": [
       "4.131451830581148 + 0.0im"
      ]
     },
     "metadata": {},
     "output_type": "display_data"
    }
   ],
   "source": [
    "using LinearAlgebra\n",
    "\n",
    "A = [\n",
    "    1 3 5 5\n",
    "    1/3 1 3 5\n",
    "    1/5 1/3 1 2\n",
    "    1/5 1/5 1/2 1\n",
    "]\n",
    "\n",
    "_, n = size(A)\n",
    "\n",
    "λ = eigvals(A)[4]"
   ]
  },
  {
   "cell_type": "code",
   "execution_count": 2,
   "id": "31e2937b",
   "metadata": {},
   "outputs": [
    {
     "data": {
      "text/plain": [
       "4-element Vector{Float64}:\n",
       " 0.5475207090938252\n",
       " 0.2739308638789637\n",
       " 0.10872386651043692\n",
       " 0.0698245605167741"
      ]
     },
     "metadata": {},
     "output_type": "display_data"
    }
   ],
   "source": [
    "w = real.(eigvecs(A)[1:n,4])\n",
    "w = w / sum(w)"
   ]
  },
  {
   "cell_type": "code",
   "execution_count": 3,
   "id": "57313723",
   "metadata": {},
   "outputs": [
    {
     "data": {
      "text/plain": [
       "4-element Vector{Float64}:\n",
       " -8.881784197001252e-16\n",
       "  2.220446049250313e-16\n",
       " -2.220446049250313e-16\n",
       " -1.6653345369377348e-16"
      ]
     },
     "metadata": {},
     "output_type": "display_data"
    }
   ],
   "source": [
    "(A - real(λ) * Matrix{Float64}(I, n, n)) * w"
   ]
  },
  {
   "cell_type": "code",
   "execution_count": 4,
   "id": "b73e52ad",
   "metadata": {},
   "outputs": [
    {
     "data": {
      "text/plain": [
       "upperAppoximation (generic function with 1 method)"
      ]
     },
     "metadata": {},
     "output_type": "display_data"
    }
   ],
   "source": [
    "using JuMP\n",
    "using HiGHS\n",
    "using IntervalArithmetic\n",
    "\n",
    "function upperAppoximation(A)\n",
    "    ε = 1e-8\n",
    "\n",
    "    model = Model(HiGHS.Optimizer)\n",
    "    set_silent(model)\n",
    "\n",
    "    try\n",
    "        @variable(model, wᴸ[i=1:n] ≥ ε); @variable(model, wᵁ[i=1:n] ≥ ε)\n",
    "\n",
    "        for i = 1:n\n",
    "            wᵢᴸ = wᴸ[i]; wᵢᵁ = wᵁ[i]\n",
    "            @constraint(model, wᵢᵁ ≥ wᵢᴸ)\n",
    "\n",
    "            ∑wⱼᴸ = sum(map(j -> wᴸ[j], filter(j -> i != j, 1:n)))\n",
    "            @constraint(model, ∑wⱼᴸ + wᵢᵁ ≤ 1)\n",
    "            ∑wⱼᵁ = sum(map(j -> wᵁ[j], filter(j -> i != j, 1:n)))\n",
    "            @constraint(model, ∑wⱼᵁ + wᵢᴸ ≥ 1)\n",
    "\n",
    "            for j = 1:n\n",
    "                if i == j continue end\n",
    "\n",
    "                aᵢⱼ = A[i,j]\n",
    "                wⱼᴸ = wᴸ[j]; wⱼᵁ = wᵁ[j]\n",
    "\n",
    "                @constraint(model, aᵢⱼ * wⱼᵁ ≥ wᵢᴸ)\n",
    "                @constraint(model, aᵢⱼ * wⱼᴸ ≤ wᵢᵁ)\n",
    "            end\n",
    "        end\n",
    "\n",
    "        @objective(model, Min, -sum(wᴸ) + sum(wᵁ))\n",
    "        optimize!(model)\n",
    "\n",
    "        return map(i -> value(wᴸ[i])..value(wᵁ[i]), 1:n)\n",
    "    finally\n",
    "        empty!(model)\n",
    "    end\n",
    "end"
   ]
  },
  {
   "cell_type": "code",
   "execution_count": 5,
   "id": "dae66474",
   "metadata": {},
   "outputs": [
    {
     "data": {
      "text/plain": [
       "4-element Vector{Interval{Float64}}:\n",
       " [0.601851, 0.601852]\n",
       " [0.200617, 0.231482]\n",
       " [0.0771604, 0.120371]\n",
       " [0.0462962, 0.120371]"
      ]
     },
     "metadata": {},
     "output_type": "display_data"
    }
   ],
   "source": [
    "upperAppoximation(A)"
   ]
  },
  {
   "cell_type": "code",
   "execution_count": 6,
   "id": "979ac460",
   "metadata": {},
   "outputs": [],
   "source": []
  }
 ],
 "metadata": {
  "kernelspec": {
   "display_name": "Julia 1.8.5",
   "language": "julia",
   "name": "julia-1.8"
  },
  "language_info": {
   "file_extension": ".jl",
   "mimetype": "application/julia",
   "name": "julia",
   "version": "1.8.5"
  },
  "vscode": {
   "interpreter": {
    "hash": "d4d1e4263499bec80672ea0156c357c1ee493ec2b1c70f0acce89fc37c4a6abe"
   }
  }
 },
 "nbformat": 4,
 "nbformat_minor": 5
}
