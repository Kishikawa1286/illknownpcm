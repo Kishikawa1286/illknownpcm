{
 "cells": [
  {
   "cell_type": "code",
   "execution_count": 1,
   "metadata": {},
   "outputs": [
    {
     "data": {
      "text/plain": [
       "updatePCM_m1 (generic function with 1 method)"
      ]
     },
     "metadata": {},
     "output_type": "display_data"
    }
   ],
   "source": [
    "include(\"./index.jl\")"
   ]
  },
  {
   "cell_type": "code",
   "execution_count": 7,
   "metadata": {},
   "outputs": [
    {
     "data": {
      "text/plain": [
       "(A₁ = Interval{Float64}[[1, 1] [2.69999, 3.20001] [0.30303, 0.333334]; [0.3125, 0.370371] [1, 1] [0.0999999, 0.103093]; [3, 3.30001] [9.69999, 10] [1, 1]], A₂ = Interval{Float64}[[1, 1] [2.19999, 2.80001] [0.25, 0.357143]; [0.357142, 0.454546] [1, 1] [0.10204, 0.103093]; [2.79999, 4] [9.69999, 9.80001] [1, 1]])"
      ]
     },
     "metadata": {},
     "output_type": "display_data"
    }
   ],
   "source": [
    "A₁ = [\n",
    "    1..1 2.7..3.2 (1/3.3)..(1/3)\n",
    "    (1/3.2)..(1/2.7) 1..1 (1/10)..(1/9.7)\n",
    "    3..3.3 9.7..10 1..1\n",
    "]\n",
    "A₂ = [\n",
    "    1..1 2.2..2.8 (1/4)..(1/2.8)\n",
    "    (1/2.8)..(1/2.2) 1..1 (1/9.8)..(1/9.7)\n",
    "    2.8..4 9.7..9.8 1..1\n",
    "]"
   ]
  },
  {
   "cell_type": "code",
   "execution_count": 5,
   "metadata": {},
   "outputs": [
    {
     "data": {
      "text/plain": [
       "3×3 Matrix{Tuple{Interval{Float64}, Interval{Float64}}}:\n",
       " ([1, 1], [1, 1])                            …  ([0.30303, 0.32732], [0.25, 0.357143])\n",
       " ([0.357142, 0.363689], [0.3125, 0.454546])     ([0.10204, 0.103093], [0.0999999, 0.104987])\n",
       " ([3.05511, 3.30001], [2.79999, 4])             ([1, 1], [1, 1])"
      ]
     },
     "metadata": {},
     "output_type": "display_data"
    }
   ],
   "source": [
    "method1(A₁, A₂)"
   ]
  },
  {
   "cell_type": "code",
   "execution_count": null,
   "metadata": {},
   "outputs": [],
   "source": []
  }
 ],
 "metadata": {
  "kernelspec": {
   "display_name": "Julia 1.9.1",
   "language": "julia",
   "name": "julia-1.9"
  },
  "language_info": {
   "file_extension": ".jl",
   "mimetype": "application/julia",
   "name": "julia",
   "version": "1.9.1"
  },
  "orig_nbformat": 4
 },
 "nbformat": 4,
 "nbformat_minor": 2
}
