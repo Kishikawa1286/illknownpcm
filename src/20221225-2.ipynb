{
 "cells": [
  {
   "attachments": {},
   "cell_type": "markdown",
   "id": "861633f4-1250-459f-a30a-a7b79b59f811",
   "metadata": {},
   "source": [
    "# 2022 / 12 / 25"
   ]
  },
  {
   "cell_type": "code",
   "execution_count": 1,
   "id": "cc9c2ab8-e95b-4b69-9229-5be8a94d9517",
   "metadata": {},
   "outputs": [],
   "source": [
    "using IntervalArithmetic\n",
    "using LaTeXStrings"
   ]
  },
  {
   "cell_type": "code",
   "execution_count": 2,
   "id": "31f113d6-703e-4d94-8bf6-6f29a91a5859",
   "metadata": {},
   "outputs": [
    {
     "data": {
      "text/plain": [
       "intervalPCM2TwofoldIntervalPCM"
      ]
     },
     "metadata": {},
     "output_type": "display_data"
    }
   ],
   "source": [
    "include(\"./concatImportanceMethod/concatImportanceMethod.jl\")\n",
    "include(\"./concatMatricesMethod/concatMatricesMethod.jl\")\n",
    "include(\"./display/concatImportanceMethod.jl\")\n",
    "include(\"./display/concatMatricesMethod.jl\")\n",
    "include(\"./display/interval.jl\")\n",
    "include(\"./display/twofoldInterval.jl\")\n",
    "include(\"./twofoldIntervalPCM/twofoldIntervalPCM.jl\")"
   ]
  },
  {
   "cell_type": "code",
   "execution_count": 9,
   "id": "0641976a-5193-49af-b922-28624f8155ca",
   "metadata": {},
   "outputs": [
    {
     "data": {
      "text/plain": [
       "concatMatricesMethod (generic function with 1 method)"
      ]
     },
     "metadata": {},
     "output_type": "display_data"
    }
   ],
   "source": [
    "function concatMatricesMethod(A₁::Matrix{Interval{T}}, A₂::Matrix{Interval{T}}) where {T <: Real}\n",
    "    A = intervalPCM2TwofoldIntervalPCM(A₁, A₂)\n",
    "    display(L\"\\text{修正前の行列}\")\n",
    "    display(L\"A = %$(twofoldIntervalMatrixLaTeXString(A))\")\n",
    "\n",
    "    result = solveConcatMatricesMethodLP(A)\n",
    "    display(L\"\\text{LPの最適解}\")\n",
    "    displayConcatMatricesMethodLPResult(result)\n",
    "\n",
    "    Â = updateConcatMatricesMethodPCM(A, result)\n",
    "    display(L\"\\text{修正後の行列}\")\n",
    "    display(L\"\\hat{A} = %$(twofoldIntervalMatrixLaTeXString(Â))\")\n",
    "end"
   ]
  },
  {
   "cell_type": "code",
   "execution_count": 10,
   "id": "a3e5def2",
   "metadata": {},
   "outputs": [
    {
     "data": {
      "text/plain": [
       "concatImportanceMethod (generic function with 1 method)"
      ]
     },
     "metadata": {},
     "output_type": "display_data"
    }
   ],
   "source": [
    "function concatImportanceMethod(A₁::Matrix{Interval{T}}, A₂::Matrix{Interval{T}}) where {T <: Real}\n",
    "    approximationResults = solveConcatImportanceMethodApproximationLP.([A₁, A₂])\n",
    "    display(L\"\\text{各DMの上近似と下近似}\")\n",
    "    displayConcatImportanceMethodApproximationLPResults(approximationResults)\n",
    "\n",
    "    display(L\"\\frac{w_{23}^{\\text{U}+}}{w_{12}^{\\text{U}-}} = %$(approximationResults[2].wₖᵁ⁺[3] / approximationResults[1].wₖᵁ⁻[2])\")\n",
    "\n",
    "    tBoundaries = calculateConcatImportanceMethodTBoundaries.(approximationResults)\n",
    "    display(L\"\\text{各DMの上近似と下近似の}t\\text{の範囲}\")\n",
    "    displayConcatImportanceMethodTBoundaries(tBoundaries)\n",
    "\n",
    "    result = solveConcatImportanceMethodConcatLP(approximationResults, tBoundaries)\n",
    "    display(L\"\\text{LPの最適解}\")\n",
    "    displayConcatImportanceMethodConcatLPResult(result)\n",
    "\n",
    "    Â = generateConcatImportanceMethodPCM(result)\n",
    "    display(L\"\\text{結合後のPCM}\")\n",
    "    display(L\"\\hat{A} = %$(twofoldIntervalMatrixLaTeXString(Â))\")\n",
    "end"
   ]
  },
  {
   "cell_type": "code",
   "execution_count": 11,
   "id": "25af7ad0",
   "metadata": {},
   "outputs": [
    {
     "data": {
      "text/plain": [
       "runBothMethod (generic function with 1 method)"
      ]
     },
     "metadata": {},
     "output_type": "display_data"
    }
   ],
   "source": [
    "function runBothMethod(A₁::Matrix{Interval{T}}, A₂::Matrix{Interval{T}}) where {T <: Real}\n",
    "    display(L\"A_1 = %$(intervalMatrixLaTeXString(A₁))\")\n",
    "    display(L\"A_2 = %$(intervalMatrixLaTeXString(A₂))\")\n",
    "    \n",
    "    display(L\"\\text{--- PCMを結合 ---}\")\n",
    "    concatMatricesMethod(A₁, A₂)\n",
    "\n",
    "    display(L\"\\text{--- 重要度を結合 ---}\")\n",
    "    concatImportanceMethod(A₁, A₂)\n",
    "end"
   ]
  },
  {
   "attachments": {},
   "cell_type": "markdown",
   "id": "ff0712cb",
   "metadata": {},
   "source": [
    "重要度を結合する方のみキャンセルが発生する"
   ]
  },
  {
   "cell_type": "code",
   "execution_count": 55,
   "id": "5736d77c",
   "metadata": {},
   "outputs": [
    {
     "data": {
      "text/latex": [
       "$\\frac{a_{112}^\\text{L}}{a_{113}^\\text{L}} = 2.0$"
      ],
      "text/plain": [
       "L\"$\\frac{a_{112}^\\text{L}}{a_{113}^\\text{L}} = 2.0$\""
      ]
     },
     "metadata": {},
     "output_type": "display_data"
    },
    {
     "data": {
      "text/latex": [
       "$\\frac{a_{212}^\\text{L}}{a_{213}^\\text{L}} = 2.0$"
      ],
      "text/plain": [
       "L\"$\\frac{a_{212}^\\text{L}}{a_{213}^\\text{L}} = 2.0$\""
      ]
     },
     "metadata": {},
     "output_type": "display_data"
    },
    {
     "data": {
      "text/latex": [
       "$\\frac{a_{112}^\\text{L}}{a_{213}^\\text{L}} = 3.0$"
      ],
      "text/plain": [
       "L\"$\\frac{a_{112}^\\text{L}}{a_{213}^\\text{L}} = 3.0$\""
      ]
     },
     "metadata": {},
     "output_type": "display_data"
    },
    {
     "data": {
      "text/latex": [
       "$\\frac{a_{212}^\\text{L}}{a_{113}^\\text{L}} = 1.3333333333333333$"
      ],
      "text/plain": [
       "L\"$\\frac{a_{212}^\\text{L}}{a_{113}^\\text{L}} = 1.3333333333333333$\""
      ]
     },
     "metadata": {},
     "output_type": "display_data"
    },
    {
     "data": {
      "text/latex": [
       "$A_1 = \\begin{bmatrix} \\left[ 1.0, 1.0 \\right] & \\left[ 4.0, 4.0 \\right] & \\left[ 2.0, 2.0 \\right] \\\\ \\left[ 0.25, 0.25 \\right] & \\left[ 1.0, 1.0 \\right] & \\left[ 0.5, 0.5 \\right] \\\\ \\left[ 0.5, 0.5 \\right] & \\left[ 2.0, 2.0 \\right] & \\left[ 1.0, 1.0 \\right] \\end{bmatrix}$"
      ],
      "text/plain": [
       "L\"$A_1 = \\begin{bmatrix} \\left[ 1.0, 1.0 \\right] & \\left[ 4.0, 4.0 \\right] & \\left[ 2.0, 2.0 \\right] \\\\ \\left[ 0.25, 0.25 \\right] & \\left[ 1.0, 1.0 \\right] & \\left[ 0.5, 0.5 \\right] \\\\ \\left[ 0.5, 0.5 \\right] & \\left[ 2.0, 2.0 \\right] & \\left[ 1.0, 1.0 \\right] \\end{bmatrix}$\""
      ]
     },
     "metadata": {},
     "output_type": "display_data"
    },
    {
     "data": {
      "text/latex": [
       "$A_2 = \\begin{bmatrix} \\left[ 1.0, 1.0 \\right] & \\left[ 2.667, 6.0 \\right] & \\left[ 1.333, 3.0 \\right] \\\\ \\left[ 0.167, 0.375 \\right] & \\left[ 1.0, 1.0 \\right] & \\left[ 0.333, 0.75 \\right] \\\\ \\left[ 0.333, 0.75 \\right] & \\left[ 1.333, 3.0 \\right] & \\left[ 1.0, 1.0 \\right] \\end{bmatrix}$"
      ],
      "text/plain": [
       "L\"$A_2 = \\begin{bmatrix} \\left[ 1.0, 1.0 \\right] & \\left[ 2.667, 6.0 \\right] & \\left[ 1.333, 3.0 \\right] \\\\ \\left[ 0.167, 0.375 \\right] & \\left[ 1.0, 1.0 \\right] & \\left[ 0.333, 0.75 \\right] \\\\ \\left[ 0.333, 0.75 \\right] & \\left[ 1.333, 3.0 \\right] & \\left[ 1.0, 1.0 \\right] \\end{bmatrix}$\""
      ]
     },
     "metadata": {},
     "output_type": "display_data"
    },
    {
     "data": {
      "text/latex": [
       "$\\text{--- PCMを結合 ---}$"
      ],
      "text/plain": [
       "L\"$\\text{--- PCMを結合 ---}$\""
      ]
     },
     "metadata": {},
     "output_type": "display_data"
    },
    {
     "data": {
      "text/latex": [
       "$\\text{修正前の行列}$"
      ],
      "text/plain": [
       "L\"$\\text{修正前の行列}$\""
      ]
     },
     "metadata": {},
     "output_type": "display_data"
    },
    {
     "data": {
      "text/latex": [
       "$A = \\begin{bmatrix} \\left[   1.0, \\left[   1.0,   1.0 \\right],   1.0 \\right] & \\left[ 2.667, \\left[   4.0,   4.0 \\right],   6.0 \\right] & \\left[ 1.333, \\left[   2.0,   2.0 \\right],   3.0 \\right] \\\\ \\left[ 0.167, \\left[  0.25,  0.25 \\right], 0.375 \\right] & \\left[   1.0, \\left[   1.0,   1.0 \\right],   1.0 \\right] & \\left[ 0.333, \\left[   0.5,   0.5 \\right],  0.75 \\right] \\\\ \\left[ 0.333, \\left[   0.5,   0.5 \\right],  0.75 \\right] & \\left[ 1.333, \\left[   2.0,   2.0 \\right],   3.0 \\right] & \\left[   1.0, \\left[   1.0,   1.0 \\right],   1.0 \\right] \\end{bmatrix}$"
      ],
      "text/plain": [
       "\"\\$A = \\\\begin{bmatrix} \\\\left[   1.0, \\\\left[   1.0,   1.0 \\\\right],   1.0 \\\\right] & \\\\left[ 2.667, \\\\left[   4.0,   4.0 \\\\right],   6.0 \\\\right] & \\\\left[ 1.333, \\\\left[   2.0,   2.0 \\\\right],   3.0 \\\\right] \\\\\\\\ \\\\left[ 0.167, \\\\left[  0.25,  0.25 \\\\right], 0.375 \\\\right] & \\\\left[   1.0,\" ⋯ 24 bytes ⋯ \"ght],   1.0 \\\\right] & \\\\left[ 0.333, \\\\left[   0.5,   0.5 \\\\right],  0.75 \\\\right] \\\\\\\\ \\\\left[ 0.333, \\\\left[   0.5,   0.5 \\\\right],  0.75 \\\\right] & \\\\left[ 1.333, \\\\left[   2.0,   2.0 \\\\right],   3.0 \\\\right] & \\\\left[   1.0, \\\\left[   1.0,   1.0 \\\\right],   1.0 \\\\right] \\\\end{bmatrix}\\$\""
      ]
     },
     "metadata": {},
     "output_type": "display_data"
    },
    {
     "data": {
      "text/latex": [
       "$\\text{LPの最適解}$"
      ],
      "text/plain": [
       "L\"$\\text{LPの最適解}$\""
      ]
     },
     "metadata": {},
     "output_type": "display_data"
    },
    {
     "data": {
      "text/latex": [
       "$W = \\begin{bmatrix}\\left[ 0.571, 0.571 \\right] \\\\ \\left[ 0.143, 0.143 \\right] \\\\ \\left[ 0.286, 0.286 \\right]\\end{bmatrix}$"
      ],
      "text/plain": [
       "L\"$W = \\begin{bmatrix}\\left[ 0.571, 0.571 \\right] \\\\ \\left[ 0.143, 0.143 \\right] \\\\ \\left[ 0.286, 0.286 \\right]\\end{bmatrix}$\""
      ]
     },
     "metadata": {},
     "output_type": "display_data"
    },
    {
     "data": {
      "text/latex": [
       "$w^{\\text{L}-} = \\begin{bmatrix} 0.571  \\\\  0.143  \\\\  0.286 \\end{bmatrix}, ~~\n",
       "w^{\\text{U}-} = \\begin{bmatrix} 0.571  \\\\  0.143  \\\\  0.286 \\end{bmatrix}, ~~\n",
       "w^{\\text{L}+} = \\begin{bmatrix} 0.571  \\\\  0.143  \\\\  0.286 \\end{bmatrix}, ~~\n",
       "w^{\\text{U}+} = \\begin{bmatrix} 0.571  \\\\  0.143  \\\\  0.286 \\end{bmatrix}\n",
       "$"
      ],
      "text/plain": [
       "L\"$w^{\\text{L}-} = \\begin{bmatrix} 0.571  \\\\  0.143  \\\\  0.286 \\end{bmatrix}, ~~\n",
       "w^{\\text{U}-} = \\begin{bmatrix} 0.571  \\\\  0.143  \\\\  0.286 \\end{bmatrix}, ~~\n",
       "w^{\\text{L}+} = \\begin{bmatrix} 0.571  \\\\  0.143  \\\\  0.286 \\end{bmatrix}, ~~\n",
       "w^{\\text{U}+} = \\begin{bmatrix} 0.571  \\\\  0.143  \\\\  0.286 \\end{bmatrix}\n",
       "$\""
      ]
     },
     "metadata": {},
     "output_type": "display_data"
    },
    {
     "data": {
      "text/latex": [
       "$\\varepsilon^\\text{L} = \\begin{bmatrix} 0.0  \\\\  0.0  \\\\  0.0 \\end{bmatrix}, ~~\n",
       "\\varepsilon^\\text{U} = \\begin{bmatrix} 0.0  \\\\  0.0  \\\\  0.0 \\end{bmatrix}\n",
       "$"
      ],
      "text/plain": [
       "L\"$\\varepsilon^\\text{L} = \\begin{bmatrix} 0.0  \\\\  0.0  \\\\  0.0 \\end{bmatrix}, ~~\n",
       "\\varepsilon^\\text{U} = \\begin{bmatrix} 0.0  \\\\  0.0  \\\\  0.0 \\end{bmatrix}\n",
       "$\""
      ]
     },
     "metadata": {},
     "output_type": "display_data"
    },
    {
     "data": {
      "text/latex": [
       "$\\text{修正後の行列}$"
      ],
      "text/plain": [
       "L\"$\\text{修正後の行列}$\""
      ]
     },
     "metadata": {},
     "output_type": "display_data"
    },
    {
     "data": {
      "text/latex": [
       "$\\hat{A} = \\begin{bmatrix} \\left[   1.0, \\left[   1.0,   1.0 \\right],   1.0 \\right] & \\left[ 2.667, \\left[   4.0,   4.0 \\right],   6.0 \\right] & \\left[ 1.333, \\left[   2.0,   2.0 \\right],   3.0 \\right] \\\\ \\left[ 0.167, \\left[  0.25,  0.25 \\right], 0.375 \\right] & \\left[   1.0, \\left[   1.0,   1.0 \\right],   1.0 \\right] & \\left[ 0.333, \\left[   0.5,   0.5 \\right],  0.75 \\right] \\\\ \\left[ 0.333, \\left[   0.5,   0.5 \\right],  0.75 \\right] & \\left[ 1.333, \\left[   2.0,   2.0 \\right],   3.0 \\right] & \\left[   1.0, \\left[   1.0,   1.0 \\right],   1.0 \\right] \\end{bmatrix}$"
      ],
      "text/plain": [
       "\"\\$\\\\hat{A} = \\\\begin{bmatrix} \\\\left[   1.0, \\\\left[   1.0,   1.0 \\\\right],   1.0 \\\\right] & \\\\left[ 2.667, \\\\left[   4.0,   4.0 \\\\right],   6.0 \\\\right] & \\\\left[ 1.333, \\\\left[   2.0,   2.0 \\\\right],   3.0 \\\\right] \\\\\\\\ \\\\left[ 0.167, \\\\left[  0.25,  0.25 \\\\right], 0.375 \\\\right] & \\\\left[ \" ⋯ 30 bytes ⋯ \"ght],   1.0 \\\\right] & \\\\left[ 0.333, \\\\left[   0.5,   0.5 \\\\right],  0.75 \\\\right] \\\\\\\\ \\\\left[ 0.333, \\\\left[   0.5,   0.5 \\\\right],  0.75 \\\\right] & \\\\left[ 1.333, \\\\left[   2.0,   2.0 \\\\right],   3.0 \\\\right] & \\\\left[   1.0, \\\\left[   1.0,   1.0 \\\\right],   1.0 \\\\right] \\\\end{bmatrix}\\$\""
      ]
     },
     "metadata": {},
     "output_type": "display_data"
    },
    {
     "data": {
      "text/latex": [
       "$\\text{--- 重要度を結合 ---}$"
      ],
      "text/plain": [
       "L\"$\\text{--- 重要度を結合 ---}$\""
      ]
     },
     "metadata": {},
     "output_type": "display_data"
    },
    {
     "data": {
      "text/latex": [
       "$\\text{各DMの上近似と下近似}$"
      ],
      "text/plain": [
       "L\"$\\text{各DMの上近似と下近似}$\""
      ]
     },
     "metadata": {},
     "output_type": "display_data"
    },
    {
     "data": {
      "text/latex": [
       "$    w_{1}^{\\text{L}-} = \\begin{bmatrix} 0.571  \\\\  0.143  \\\\  0.286 \\end{bmatrix}, ~~\n",
       "    w_{1}^{\\text{U}-} = \\begin{bmatrix} 0.571  \\\\  0.143  \\\\  0.286 \\end{bmatrix}, ~~\n",
       "    w_{1}^{\\text{L}+} = \\begin{bmatrix} 0.571  \\\\  0.143  \\\\  0.286 \\end{bmatrix}, ~~\n",
       "    w_{1}^{\\text{U}+} = \\begin{bmatrix} 0.571  \\\\  0.143  \\\\  0.286 \\end{bmatrix}\n",
       "$"
      ],
      "text/plain": [
       "L\"$    w_{1}^{\\text{L}-} = \\begin{bmatrix} 0.571  \\\\  0.143  \\\\  0.286 \\end{bmatrix}, ~~\n",
       "    w_{1}^{\\text{U}-} = \\begin{bmatrix} 0.571  \\\\  0.143  \\\\  0.286 \\end{bmatrix}, ~~\n",
       "    w_{1}^{\\text{L}+} = \\begin{bmatrix} 0.571  \\\\  0.143  \\\\  0.286 \\end{bmatrix}, ~~\n",
       "    w_{1}^{\\text{U}+} = \\begin{bmatrix} 0.571  \\\\  0.143  \\\\  0.286 \\end{bmatrix}\n",
       "$\""
      ]
     },
     "metadata": {},
     "output_type": "display_data"
    },
    {
     "data": {
      "text/latex": [
       "$    w_{2}^{\\text{L}-} = \\begin{bmatrix} 0.606  \\\\  0.169  \\\\  0.225 \\end{bmatrix}, ~~\n",
       "    w_{2}^{\\text{U}-} = \\begin{bmatrix} 0.606  \\\\  0.169  \\\\  0.225 \\end{bmatrix}, ~~\n",
       "    w_{2}^{\\text{L}+} = \\begin{bmatrix} 0.514  \\\\  0.101  \\\\  0.202 \\end{bmatrix}, ~~\n",
       "    w_{2}^{\\text{U}+} = \\begin{bmatrix} 0.606  \\\\  0.193  \\\\  0.385 \\end{bmatrix}\n",
       "$"
      ],
      "text/plain": [
       "L\"$    w_{2}^{\\text{L}-} = \\begin{bmatrix} 0.606  \\\\  0.169  \\\\  0.225 \\end{bmatrix}, ~~\n",
       "    w_{2}^{\\text{U}-} = \\begin{bmatrix} 0.606  \\\\  0.169  \\\\  0.225 \\end{bmatrix}, ~~\n",
       "    w_{2}^{\\text{L}+} = \\begin{bmatrix} 0.514  \\\\  0.101  \\\\  0.202 \\end{bmatrix}, ~~\n",
       "    w_{2}^{\\text{U}+} = \\begin{bmatrix} 0.606  \\\\  0.193  \\\\  0.385 \\end{bmatrix}\n",
       "$\""
      ]
     },
     "metadata": {},
     "output_type": "display_data"
    },
    {
     "data": {
      "text/latex": [
       "$\\frac{w_{23}^{\\text{U}+}}{w_{12}^{\\text{U}-}} = 2.6972477064220177$"
      ],
      "text/plain": [
       "L\"$\\frac{w_{23}^{\\text{U}+}}{w_{12}^{\\text{U}-}} = 2.6972477064220177$\""
      ]
     },
     "metadata": {},
     "output_type": "display_data"
    },
    {
     "data": {
      "text/latex": [
       "$\\text{各DMの上近似と下近似の}t\\text{の範囲}$"
      ],
      "text/plain": [
       "L\"$\\text{各DMの上近似と下近似の}t\\text{の範囲}$\""
      ]
     },
     "metadata": {},
     "output_type": "display_data"
    },
    {
     "data": {
      "text/latex": [
       "$    t_{1}^{\\text{L}-} = 1.0, ~~\n",
       "    t_{1}^{\\text{U}-} = 1.0, ~~\n",
       "    t_{1}^{\\text{L}+} = 1.0, ~~\n",
       "    t_{1}^{\\text{U}+} = 1.0\n",
       "$"
      ],
      "text/plain": [
       "L\"$    t_{1}^{\\text{L}-} = 1.0, ~~\n",
       "    t_{1}^{\\text{U}-} = 1.0, ~~\n",
       "    t_{1}^{\\text{L}+} = 1.0, ~~\n",
       "    t_{1}^{\\text{U}+} = 1.0\n",
       "$\""
      ]
     },
     "metadata": {},
     "output_type": "display_data"
    },
    {
     "data": {
      "text/latex": [
       "$    t_{2}^{\\text{L}-} = 1.0, ~~\n",
       "    t_{2}^{\\text{U}-} = 1.0, ~~\n",
       "    t_{2}^{\\text{L}+} = 1.0, ~~\n",
       "    t_{2}^{\\text{U}+} = 1.0\n",
       "$"
      ],
      "text/plain": [
       "L\"$    t_{2}^{\\text{L}-} = 1.0, ~~\n",
       "    t_{2}^{\\text{U}-} = 1.0, ~~\n",
       "    t_{2}^{\\text{L}+} = 1.0, ~~\n",
       "    t_{2}^{\\text{U}+} = 1.0\n",
       "$\""
      ]
     },
     "metadata": {},
     "output_type": "display_data"
    },
    {
     "data": {
      "text/latex": [
       "$\\text{LPの最適解}$"
      ],
      "text/plain": [
       "L\"$\\text{LPの最適解}$\""
      ]
     },
     "metadata": {},
     "output_type": "display_data"
    },
    {
     "data": {
      "text/latex": [
       "$t^- = \\begin{bmatrix} 1.0  \\\\  1.0 \\end{bmatrix}, ~~\n",
       "t^+ = \\begin{bmatrix} 1.0  \\\\  1.0 \\end{bmatrix}\n",
       "$"
      ],
      "text/plain": [
       "L\"$t^- = \\begin{bmatrix} 1.0  \\\\  1.0 \\end{bmatrix}, ~~\n",
       "t^+ = \\begin{bmatrix} 1.0  \\\\  1.0 \\end{bmatrix}\n",
       "$\""
      ]
     },
     "metadata": {},
     "output_type": "display_data"
    },
    {
     "data": {
      "text/latex": [
       "$W = \\begin{bmatrix}\\left[ 0.571, 0.606 \\right] \\\\ \\left[ 0.143, 0.169 \\right] \\\\ \\left[ 0.225, 0.286 \\right]\\end{bmatrix}$"
      ],
      "text/plain": [
       "L\"$W = \\begin{bmatrix}\\left[ 0.571, 0.606 \\right] \\\\ \\left[ 0.143, 0.169 \\right] \\\\ \\left[ 0.225, 0.286 \\right]\\end{bmatrix}$\""
      ]
     },
     "metadata": {},
     "output_type": "display_data"
    },
    {
     "data": {
      "text/latex": [
       "$v^{\\text{L}-} = \\begin{bmatrix} 0.571  \\\\  0.143  \\\\  0.225 \\end{bmatrix}, ~~\n",
       "v^{\\text{U}-} = \\begin{bmatrix} 0.606  \\\\  0.169  \\\\  0.286 \\end{bmatrix}, ~~\n",
       "v^{\\text{L}+} = \\begin{bmatrix} 0.571  \\\\  0.143  \\\\  0.286 \\end{bmatrix}, ~~\n",
       "v^{\\text{U}+} = \\begin{bmatrix} 0.571  \\\\  0.143  \\\\  0.286 \\end{bmatrix}\n",
       "$"
      ],
      "text/plain": [
       "L\"$v^{\\text{L}-} = \\begin{bmatrix} 0.571  \\\\  0.143  \\\\  0.225 \\end{bmatrix}, ~~\n",
       "v^{\\text{U}-} = \\begin{bmatrix} 0.606  \\\\  0.169  \\\\  0.286 \\end{bmatrix}, ~~\n",
       "v^{\\text{L}+} = \\begin{bmatrix} 0.571  \\\\  0.143  \\\\  0.286 \\end{bmatrix}, ~~\n",
       "v^{\\text{U}+} = \\begin{bmatrix} 0.571  \\\\  0.143  \\\\  0.286 \\end{bmatrix}\n",
       "$\""
      ]
     },
     "metadata": {},
     "output_type": "display_data"
    },
    {
     "data": {
      "text/latex": [
       "$\\varepsilon^\\text{L} = \\begin{bmatrix} 0.0  \\\\  0.0  \\\\  0.06 \\end{bmatrix}, ~~\n",
       "\\varepsilon^\\text{U} = \\begin{bmatrix} 0.034  \\\\  0.026  \\\\  0.0 \\end{bmatrix}\n",
       "$"
      ],
      "text/plain": [
       "L\"$\\varepsilon^\\text{L} = \\begin{bmatrix} 0.0  \\\\  0.0  \\\\  0.06 \\end{bmatrix}, ~~\n",
       "\\varepsilon^\\text{U} = \\begin{bmatrix} 0.034  \\\\  0.026  \\\\  0.0 \\end{bmatrix}\n",
       "$\""
      ]
     },
     "metadata": {},
     "output_type": "display_data"
    },
    {
     "data": {
      "text/latex": [
       "$\\text{結合後のPCM}$"
      ],
      "text/plain": [
       "L\"$\\text{結合後のPCM}$\""
      ]
     },
     "metadata": {},
     "output_type": "display_data"
    },
    {
     "data": {
      "text/latex": [
       "$\\hat{A} = \\begin{bmatrix} \\left[   1.0, \\left[   1.0,   1.0 \\right],   1.0 \\right] & \\left[  3.38, \\left[   4.0,   4.0 \\right], 4.239 \\right] & \\left[   2.0, \\left[   2.0, 2.119 \\right], 2.686 \\right] \\\\ \\left[ 0.236, \\left[  0.25,  0.25 \\right], 0.296 \\right] & \\left[   1.0, \\left[   1.0,   1.0 \\right],   1.0 \\right] & \\left[   0.5, \\left[   0.5, 0.592 \\right],  0.75 \\right] \\\\ \\left[ 0.372, \\left[ 0.472,   0.5 \\right],   0.5 \\right] & \\left[ 1.333, \\left[  1.69,   2.0 \\right],   2.0 \\right] & \\left[   1.0, \\left[   1.0,   1.0 \\right],   1.0 \\right] \\end{bmatrix}$"
      ],
      "text/plain": [
       "\"\\$\\\\hat{A} = \\\\begin{bmatrix} \\\\left[   1.0, \\\\left[   1.0,   1.0 \\\\right],   1.0 \\\\right] & \\\\left[  3.38, \\\\left[   4.0,   4.0 \\\\right], 4.239 \\\\right] & \\\\left[   2.0, \\\\left[   2.0, 2.119 \\\\right], 2.686 \\\\right] \\\\\\\\ \\\\left[ 0.236, \\\\left[  0.25,  0.25 \\\\right], 0.296 \\\\right] & \\\\left[ \" ⋯ 30 bytes ⋯ \"ght],   1.0 \\\\right] & \\\\left[   0.5, \\\\left[   0.5, 0.592 \\\\right],  0.75 \\\\right] \\\\\\\\ \\\\left[ 0.372, \\\\left[ 0.472,   0.5 \\\\right],   0.5 \\\\right] & \\\\left[ 1.333, \\\\left[  1.69,   2.0 \\\\right],   2.0 \\\\right] & \\\\left[   1.0, \\\\left[   1.0,   1.0 \\\\right],   1.0 \\\\right] \\\\end{bmatrix}\\$\""
      ]
     },
     "metadata": {},
     "output_type": "display_data"
    }
   ],
   "source": [
    "A₁ = [\n",
    "    1..1 4..4 2..2\n",
    "    (1/4)..(1/4) 1..1 (1/2)..(1/2)\n",
    "    (1/2)..(1/2) 2..2 1..1\n",
    "]\n",
    "A₂ = deepcopy(A₁)\n",
    "m,n = size(A₂)\n",
    "for i = 1:n, j = 1:n\n",
    "    if i == j continue end\n",
    "    A₂[i,j] = (A₂[i,j].lo / 1.5)..(A₂[i,j].hi * 1.5)\n",
    "end\n",
    "\n",
    "display(L\"\\frac{a_{112}^\\text{L}}{a_{113}^\\text{L}} = %$(A₁[1,2].lo / A₁[1,3].lo)\")\n",
    "display(L\"\\frac{a_{212}^\\text{L}}{a_{213}^\\text{L}} = %$(A₂[1,2].lo / A₂[1,3].lo)\")\n",
    "display(L\"\\frac{a_{112}^\\text{L}}{a_{213}^\\text{L}} = %$(A₁[1,2].lo / A₂[1,3].lo)\")\n",
    "display(L\"\\frac{a_{212}^\\text{L}}{a_{113}^\\text{L}} = %$(A₂[1,2].lo / A₁[1,3].lo)\")\n",
    "\n",
    "runBothMethod(A₁, A₂)"
   ]
  },
  {
   "cell_type": "code",
   "execution_count": 6,
   "id": "4fe84026",
   "metadata": {},
   "outputs": [],
   "source": []
  }
 ],
 "metadata": {
  "kernelspec": {
   "display_name": "Julia 1.8.3",
   "language": "julia",
   "name": "julia-1.8"
  },
  "language_info": {
   "file_extension": ".jl",
   "mimetype": "application/julia",
   "name": "julia",
   "version": "1.8.3"
  },
  "vscode": {
   "interpreter": {
    "hash": "d4d1e4263499bec80672ea0156c357c1ee493ec2b1c70f0acce89fc37c4a6abe"
   }
  }
 },
 "nbformat": 4,
 "nbformat_minor": 5
}
