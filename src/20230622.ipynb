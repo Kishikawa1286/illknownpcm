{
 "cells": [
  {
   "cell_type": "code",
   "execution_count": 48,
   "metadata": {},
   "outputs": [
    {
     "name": "stdout",
     "output_type": "stream",
     "text": [
      "22\n"
     ]
    }
   ],
   "source": [
    "println(Threads.nthreads())"
   ]
  },
  {
   "cell_type": "code",
   "execution_count": 49,
   "metadata": {},
   "outputs": [],
   "source": [
    "using IntervalArithmetic\n",
    "using Statistics"
   ]
  },
  {
   "cell_type": "code",
   "execution_count": 50,
   "metadata": {},
   "outputs": [
    {
     "data": {
      "text/plain": [
       "R (generic function with 1 method)"
      ]
     },
     "metadata": {},
     "output_type": "display_data"
    }
   ],
   "source": [
    "include(\"./crispPCM/index.jl\")\n",
    "include(\"./evaluation/index.jl\")\n",
    "include(\"./method1/index.jl\")\n",
    "include(\"./method2/index.jl\")\n",
    "include(\"./method3/index.jl\")\n",
    "include(\"./method4/index.jl\")\n",
    "include(\"./intervalPCM/index.jl\")\n",
    "include(\"./twofoldInterval/index.jl\")\n",
    "include(\"./twofoldIntervalPCM/index.jl\")\n",
    "include(\"./utils.jl\")"
   ]
  },
  {
   "cell_type": "code",
   "execution_count": 51,
   "metadata": {},
   "outputs": [
    {
     "data": {
      "text/plain": [
       "TaskLocalRNG()"
      ]
     },
     "metadata": {},
     "output_type": "display_data"
    }
   ],
   "source": [
    "Random.seed!(124)"
   ]
  },
  {
   "cell_type": "code",
   "execution_count": 52,
   "metadata": {},
   "outputs": [
    {
     "data": {
      "text/plain": [
       "generateSimulationCases (generic function with 2 methods)"
      ]
     },
     "metadata": {},
     "output_type": "display_data"
    }
   ],
   "source": [
    "SimulationCase = @NamedTuple{\n",
    "    CR::T,\n",
    "    A::Matrix{T},\n",
    "    A₁::Matrix{Interval{T}},\n",
    "    A₂::Matrix{Interval{T}}\n",
    "} where {T <: Real}\n",
    "\n",
    "function generateSimulationCases(\n",
    "    n::Integer, \n",
    "    values::Vector{T},\n",
    "    width::T,\n",
    "    numOfCrispPCM::Integer, \n",
    "    intervalPCMsPerCrispPCM::Integer\n",
    ")::Array{SimulationCase, 1} where {T <: Real}\n",
    "\n",
    "    simulation_cases = SimulationCase[]\n",
    "\n",
    "    for _ in 1:numOfCrispPCM\n",
    "        # Generate a Crisp PCM\n",
    "        crisp_pcm = generateConsistentCrispPCM(n, values)\n",
    "        CR = consistencyRatio(crisp_pcm)\n",
    "\n",
    "        for _ in 1:intervalPCMsPerCrispPCM\n",
    "            # Generate an Interval PCM for each Crisp PCM\n",
    "            interval_pcm_1 = randamizedIntervalPCM(crisp_pcm, width)\n",
    "            interval_pcm_2 = randamizedIntervalPCM(crisp_pcm, width)\n",
    "            # Append the Crisp PCM and its corresponding Interval PCM as a tuple to the list\n",
    "            push!(simulation_cases, (CR=CR, A=crisp_pcm, A₁=interval_pcm_1, A₂=interval_pcm_2))\n",
    "        end\n",
    "    end\n",
    "\n",
    "    return simulation_cases\n",
    "end\n"
   ]
  },
  {
   "cell_type": "code",
   "execution_count": 53,
   "metadata": {},
   "outputs": [
    {
     "data": {
      "text/plain": [
       "runSimulation (generic function with 1 method)"
      ]
     },
     "metadata": {},
     "output_type": "display_data"
    }
   ],
   "source": [
    "SimulationResult = @NamedTuple{\n",
    "    # A₁, A₂ の元となった crisp PCM\n",
    "    A::Matrix{T},\n",
    "    # 各 DM の与える区間 PCM\n",
    "    A₁::Matrix{Interval{T}}, A₂::Matrix{Interval{T}},\n",
    "    # method 1 ~ 4 の二重区間 PCM\n",
    "    𝓐¹::Matrix{TwofoldInterval{T}}, 𝓐²::Matrix{TwofoldInterval{T}},\n",
    "    𝓐³::Matrix{TwofoldInterval{T}}, 𝓐⁴::Matrix{TwofoldInterval{T}},\n",
    "    # 𝓐ᵏ の二重区間の内側の区間\n",
    "    𝓐¹⁻::Matrix{Interval{T}}, 𝓐²⁻::Matrix{Interval{T}},\n",
    "    𝓐³⁻::Matrix{Interval{T}}, 𝓐⁴⁻::Matrix{Interval{T}},\n",
    "    # 𝓐ᵏ の二重区間の外側の区間\n",
    "    𝓐¹⁺::Matrix{Interval{T}}, 𝓐²⁺::Matrix{Interval{T}},\n",
    "    𝓐³⁺::Matrix{Interval{T}}, 𝓐⁴⁺::Matrix{Interval{T}},\n",
    "    # エラーメッセージ\n",
    "    error::String\n",
    "} where {T <: Real}\n",
    "\n",
    "methodList = [method1, method2, method3, method4]\n",
    "\n",
    "function runSimulation(\n",
    "    case::SimulationCase{T}\n",
    "    )::SimulationResult{T} where {T <: Real}\n",
    "    𝓐 = Dict(); 𝓐⁻ = Dict(); 𝓐⁺ = Dict()\n",
    "    \n",
    "    try\n",
    "        for k in 1:4\n",
    "            𝓐[k] = methodList[k](case.A₁, case.A₂)\n",
    "            𝓐⁻[k] = map(𝓐ᵢⱼ -> 𝓐ᵢⱼ[1], 𝓐[k])\n",
    "            𝓐⁺[k] = map(𝓐ᵢⱼ -> 𝓐ᵢⱼ[2], 𝓐[k])\n",
    "        end\n",
    "\n",
    "        return (\n",
    "            A=case.A, A₁=case.A₁, A₂=case.A₂,\n",
    "            𝓐¹=𝓐[1], 𝓐²=𝓐[2], 𝓐³=𝓐[3], 𝓐⁴=𝓐[4],\n",
    "            𝓐¹⁻=𝓐⁻[1], 𝓐²⁻=𝓐⁻[2], 𝓐³⁻=𝓐⁻[3], 𝓐⁴⁻=𝓐⁻[4],\n",
    "            𝓐¹⁺=𝓐⁺[1], 𝓐²⁺=𝓐⁺[2], 𝓐³⁺=𝓐⁺[3], 𝓐⁴⁺=𝓐⁺[4],\n",
    "            error=\"\"\n",
    "        )\n",
    "    catch e\n",
    "        n = size(case.A₁, 2)\n",
    "        IPCM = fill(1..1, n, n)\n",
    "        twofoldIPCM = fill((1..1, 1..1), n, n)\n",
    "        return (\n",
    "            A=case.A, A₁=case.A₁, A₂=case.A₂,\n",
    "            𝓐¹=twofoldIPCM, 𝓐²=twofoldIPCM, 𝓐³=twofoldIPCM, 𝓐⁴=twofoldIPCM,\n",
    "            𝓐¹⁻=IPCM, 𝓐²⁻=IPCM, 𝓐³⁻=IPCM, 𝓐⁴⁻=IPCM,\n",
    "            𝓐¹⁺=IPCM, 𝓐²⁺=IPCM, 𝓐³⁺=IPCM, 𝓐⁴⁺=IPCM,\n",
    "            error=string(e)\n",
    "        )\n",
    "    end\n",
    "end"
   ]
  },
  {
   "cell_type": "code",
   "execution_count": 54,
   "metadata": {},
   "outputs": [
    {
     "data": {
      "text/plain": [
       "calculateCoincidenceList (generic function with 1 method)"
      ]
     },
     "metadata": {},
     "output_type": "display_data"
    }
   ],
   "source": [
    "ConincidenceList = @NamedTuple{\n",
    "    A₁_𝓐¹⁻::T, A₁_𝓐¹⁺::T, A₂_𝓐¹⁻::T, A₂_𝓐¹⁺::T,\n",
    "    A₁_𝓐²⁻::T, A₁_𝓐²⁺::T, A₂_𝓐²⁻::T, A₂_𝓐²⁺::T,\n",
    "    A₁_𝓐³⁻::T, A₁_𝓐³⁺::T, A₂_𝓐³⁻::T, A₂_𝓐³⁺::T,\n",
    "    A₁_𝓐⁴⁻::T, A₁_𝓐⁴⁺::T, A₂_𝓐⁴⁻::T, A₂_𝓐⁴⁺::T,\n",
    "    error::String\n",
    "} where {T <: Real}\n",
    "\n",
    "function calculateCoincidenceList(result::SimulationResult{T})::ConincidenceList{T} where {T <: Real}\n",
    "    A₁ = result.A₁; A₂ = result.A₂\n",
    "    𝓐¹⁻ = result.𝓐¹⁻; 𝓐¹⁺ = result.𝓐¹⁺\n",
    "    𝓐²⁻ = result.𝓐²⁻; 𝓐²⁺ = result.𝓐²⁺\n",
    "    𝓐³⁻ = result.𝓐³⁻; 𝓐³⁺ = result.𝓐³⁺\n",
    "    𝓐⁴⁻ = result.𝓐⁴⁻; 𝓐⁴⁺ = result.𝓐⁴⁺\n",
    "    try\n",
    "        return (\n",
    "            A₁_𝓐¹⁻=coincidenceIndex(A₁, 𝓐¹⁻), A₁_𝓐¹⁺=coincidenceIndex(A₁, 𝓐¹⁺),\n",
    "            A₂_𝓐¹⁻=coincidenceIndex(A₂, 𝓐¹⁻), A₂_𝓐¹⁺=coincidenceIndex(A₂, 𝓐¹⁺),\n",
    "            A₁_𝓐²⁻=coincidenceIndex(A₁, 𝓐²⁻), A₁_𝓐²⁺=coincidenceIndex(A₁, 𝓐²⁺),\n",
    "            A₂_𝓐²⁻=coincidenceIndex(A₂, 𝓐²⁻), A₂_𝓐²⁺=coincidenceIndex(A₂, 𝓐²⁺),\n",
    "            A₁_𝓐³⁻=coincidenceIndex(A₁, 𝓐³⁻), A₁_𝓐³⁺=coincidenceIndex(A₁, 𝓐³⁺),\n",
    "            A₂_𝓐³⁻=coincidenceIndex(A₂, 𝓐³⁻), A₂_𝓐³⁺=coincidenceIndex(A₂, 𝓐³⁺),\n",
    "            A₁_𝓐⁴⁻=coincidenceIndex(A₁, 𝓐⁴⁻), A₁_𝓐⁴⁺=coincidenceIndex(A₁, 𝓐⁴⁺),\n",
    "            A₂_𝓐⁴⁻=coincidenceIndex(A₂, 𝓐⁴⁻), A₂_𝓐⁴⁺=coincidenceIndex(A₂, 𝓐⁴⁺),\n",
    "            error=\"\"\n",
    "        )\n",
    "    catch e\n",
    "        return (\n",
    "            A₁_𝓐¹⁻=NaN, A₁_𝓐¹⁺=NaN, A₂_𝓐¹⁻=NaN, A₂_𝓐¹⁺=NaN,\n",
    "            A₁_𝓐²⁻=NaN, A₁_𝓐²⁺=NaN, A₂_𝓐²⁻=NaN, A₂_𝓐²⁺=NaN,\n",
    "            A₁_𝓐³⁻=NaN, A₁_𝓐³⁺=NaN, A₂_𝓐³⁻=NaN, A₂_𝓐³⁺=NaN,\n",
    "            A₁_𝓐⁴⁻=NaN, A₁_𝓐⁴⁺=NaN, A₂_𝓐⁴⁻=NaN, A₂_𝓐⁴⁺=NaN,\n",
    "            error=string(e)\n",
    "        )\n",
    "    end\n",
    "end"
   ]
  },
  {
   "cell_type": "code",
   "execution_count": 55,
   "metadata": {},
   "outputs": [
    {
     "data": {
      "text/plain": [
       "averageConincidenceLists (generic function with 1 method)"
      ]
     },
     "metadata": {},
     "output_type": "display_data"
    }
   ],
   "source": [
    "function averageConincidenceLists(conincidenceLists::Vector{ConincidenceList{T}}) where {T <: Real}\n",
    "    if length(conincidenceLists) == 0\n",
    "        throw(ArgumentError(\"Empty list of ConincidenceLists\"))\n",
    "    end\n",
    "\n",
    "    total_𝓐¹⁻ = zero(T); total_𝓐¹⁺ = zero(T)\n",
    "    total_𝓐²⁻ = zero(T); total_𝓐²⁺ = zero(T)\n",
    "    total_𝓐³⁻ = zero(T); total_𝓐³⁺ = zero(T)\n",
    "    total_𝓐⁴⁻ = zero(T); total_𝓐⁴⁺ = zero(T)\n",
    "\n",
    "    count = 0\n",
    "\n",
    "    for list in conincidenceLists\n",
    "        if list.error != \"\" continue end\n",
    "\n",
    "        count += 1\n",
    "        total_𝓐¹⁻ += list.A₁_𝓐¹⁻ + list.A₂_𝓐¹⁻\n",
    "        total_𝓐¹⁺ += list.A₁_𝓐¹⁺ + list.A₂_𝓐¹⁺\n",
    "        total_𝓐²⁻ += list.A₁_𝓐²⁻ + list.A₂_𝓐²⁻\n",
    "        total_𝓐²⁺ += list.A₁_𝓐²⁺ + list.A₂_𝓐²⁺\n",
    "        total_𝓐³⁻ += list.A₁_𝓐³⁻ + list.A₂_𝓐³⁻\n",
    "        total_𝓐³⁺ += list.A₁_𝓐³⁺ + list.A₂_𝓐³⁺\n",
    "        total_𝓐⁴⁻ += list.A₁_𝓐⁴⁻ + list.A₂_𝓐⁴⁻\n",
    "        total_𝓐⁴⁺ += list.A₁_𝓐⁴⁺ + list.A₂_𝓐⁴⁺\n",
    "    end\n",
    "    count *= 2\n",
    "\n",
    "    return (\n",
    "        𝓐¹⁻ = total_𝓐¹⁻ / count, 𝓐¹⁺ = total_𝓐¹⁺ / count,\n",
    "        𝓐²⁻ = total_𝓐²⁻ / count, 𝓐²⁺ = total_𝓐²⁺ / count,\n",
    "        𝓐³⁻ = total_𝓐³⁻ / count, 𝓐³⁺ = total_𝓐³⁺ / count,\n",
    "        𝓐⁴⁻ = total_𝓐⁴⁻ / count, 𝓐⁴⁺ = total_𝓐⁴⁺ / count,\n",
    "    )\n",
    "end"
   ]
  },
  {
   "cell_type": "code",
   "execution_count": 56,
   "metadata": {},
   "outputs": [
    {
     "data": {
      "text/plain": [
       "runSimulate (generic function with 1 method)"
      ]
     },
     "metadata": {},
     "output_type": "display_data"
    }
   ],
   "source": [
    "function runSimulate(\n",
    "    n::Integer, \n",
    "    values::Vector{T},\n",
    "    width::T,\n",
    "    numOfCrispPCM::Integer, \n",
    "    intervalPCMsPerCrispPCM::Integer\n",
    "    ) where {T <: Real}\n",
    "    cases = generateSimulationCases(5, [1.0, 3, 5, 7], 0.5, 10, 100)\n",
    "    results = Vector{SimulationResult}(undef, length(cases))\n",
    "    Threads.@threads for i in 1:length(cases)\n",
    "        results[i] = runSimulation(cases[i])\n",
    "    end\n",
    "    conincidenceList = calculateCoincidenceList.(results)\n",
    "    return averageConincidenceLists(conincidenceList)\n",
    "end"
   ]
  },
  {
   "cell_type": "code",
   "execution_count": 63,
   "metadata": {},
   "outputs": [
    {
     "name": "stdout",
     "output_type": "stream",
     "text": [
      "(𝓐¹⁻ = 0.00400593778500724, 𝓐¹⁺ = 0.2883845891268793, 𝓐²⁻ = 1.4498756059818845e-16, 𝓐²⁺ = 0.3587593929145373, 𝓐³⁻ = 0.0, 𝓐³⁺ = 0.3076141825851131, 𝓐⁴⁻ = 0.0, 𝓐⁴⁺ = 0.38804418886858866)\n"
     ]
    },
    {
     "name": "stdout",
     "output_type": "stream",
     "text": [
      "(𝓐¹⁻ = 0.0033389904150032037, 𝓐¹⁺ = 0.2890845874680869, 𝓐²⁻ = 1.4234681514203832e-16, 𝓐²⁺ = 0.3464735391240684, 𝓐³⁻ = 0.0, 𝓐³⁺ = 0.29445918327936005, 𝓐⁴⁻ = 0.0, 𝓐⁴⁺ = 0.37766237255198765)\n"
     ]
    },
    {
     "ename": "MethodError",
     "evalue": "MethodError: no method matching runSimulate(::Int64, ::Vector{Float64}, ::Int64, ::Int64, ::Int64)\n\nClosest candidates are:\n  runSimulate(::Integer, ::Vector{T}, !Matched::T, ::Integer, ::Integer) where T<:Real\n   @ Main /workspaces/illknownpcm/src/20230622.ipynb:1\n",
     "output_type": "error",
     "traceback": [
      "MethodError: no method matching runSimulate(::Int64, ::Vector{Float64}, ::Int64, ::Int64, ::Int64)\n",
      "\n",
      "Closest candidates are:\n",
      "  runSimulate(::Integer, ::Vector{T}, !Matched::T, ::Integer, ::Integer) where T<:Real\n",
      "   @ Main /workspaces/illknownpcm/src/20230622.ipynb:1\n",
      "\n",
      "\n",
      "Stacktrace:\n",
      " [1] top-level scope\n",
      "   @ /workspaces/illknownpcm/src/20230622.ipynb:3"
     ]
    }
   ],
   "source": [
    "print(\"n = 5\")\n",
    "println(runSimulate(5, [1.0, 3, 5, 7, 9], 0.1, 10, 100))\n",
    "println(runSimulate(5, [1.0, 3, 5, 7, 9], 0.5, 10, 100))\n",
    "println(runSimulate(5, [1.0, 3, 5, 7, 9], 1.0, 10, 100))\n",
    "print(\"n = 6\")\n",
    "println(runSimulate(6, [1.0, 3, 5, 7, 9], 0.1, 10, 100))\n",
    "println(runSimulate(6, [1.0, 3, 5, 7, 9], 0.5, 10, 100))\n",
    "println(runSimulate(6, [1.0, 3, 5, 7, 9], 1.0, 10, 100))\n",
    "print(\"n = 7\")\n",
    "println(runSimulate(7, [1.0, 3, 5, 7, 9], 0.1, 10, 100))\n",
    "println(runSimulate(7, [1.0, 3, 5, 7, 9], 0.5, 10, 100))\n",
    "println(runSimulate(7, [1.0, 3, 5, 7, 9], 1.0, 10, 100))\n",
    "print(\"n = 8\")\n",
    "println(runSimulate(8, [1.0, 3, 5, 7, 9], 0.1, 10, 100))\n",
    "println(runSimulate(8, [1.0, 3, 5, 7, 9], 0.5, 10, 100))\n",
    "println(runSimulate(8, [1.0, 3, 5, 7, 9], 1.0, 10, 100))"
   ]
  },
  {
   "cell_type": "code",
   "execution_count": null,
   "metadata": {},
   "outputs": [],
   "source": []
  }
 ],
 "metadata": {
  "kernelspec": {
   "display_name": "Julia 1.9.1",
   "language": "julia",
   "name": "julia-1.9"
  },
  "language_info": {
   "file_extension": ".jl",
   "mimetype": "application/julia",
   "name": "julia",
   "version": "1.9.1"
  },
  "orig_nbformat": 4
 },
 "nbformat": 4,
 "nbformat_minor": 2
}
