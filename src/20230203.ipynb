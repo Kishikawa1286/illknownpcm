{
 "cells": [
  {
   "attachments": {},
   "cell_type": "markdown",
   "id": "e1a0c220",
   "metadata": {},
   "source": [
    "# 各種法の統計量の table の生成"
   ]
  },
  {
   "cell_type": "code",
   "execution_count": 40,
   "id": "a661200b-0885-4ad6-9e50-f9b552f74857",
   "metadata": {},
   "outputs": [],
   "source": [
    "using IntervalArithmetic\n",
    "using LaTeXStrings\n",
    "using Plots"
   ]
  },
  {
   "cell_type": "code",
   "execution_count": 41,
   "id": "6ae45f35-7c99-45c9-a934-88166cfef5fb",
   "metadata": {},
   "outputs": [],
   "source": [
    "include(\"./heatmap/index.jl\")\n",
    "include(\"./method1/index.jl\")\n",
    "include(\"./method2/index.jl\")\n",
    "include(\"./method3/index.jl\")\n",
    "include(\"./method4/index.jl\")\n",
    "include(\"./intervalPCM/index.jl\")\n",
    "include(\"./twofoldInterval/index.jl\")\n",
    "include(\"./twofoldIntervalPCM/index.jl\")\n",
    "\n",
    "print()"
   ]
  },
  {
   "cell_type": "code",
   "execution_count": 42,
   "id": "98b3f285",
   "metadata": {},
   "outputs": [
    {
     "data": {
      "text/plain": [
       "method1 (generic function with 1 method)"
      ]
     },
     "metadata": {},
     "output_type": "display_data"
    }
   ],
   "source": [
    "function method1(A₁::Matrix{Interval{T}}, A₂::Matrix{Interval{T}}) where {T <: Real}\n",
    "    A = intervalPCM2TwofoldIntervalPCM(A₁, A₂)\n",
    "    result = solveLP_m1(A)\n",
    "    Â = updatePCM_m1(A, result)\n",
    "    return Â\n",
    "end"
   ]
  },
  {
   "cell_type": "code",
   "execution_count": 43,
   "id": "05761e6b",
   "metadata": {},
   "outputs": [
    {
     "data": {
      "text/plain": [
       "method2 (generic function with 1 method)"
      ]
     },
     "metadata": {},
     "output_type": "display_data"
    }
   ],
   "source": [
    "function  method2(A₁::Matrix{Interval{T}}, A₂::Matrix{Interval{T}}) where {T <: Real}\n",
    "    εᶿ = solveIndividualCancellingLP_m2([A₁, A₂])\n",
    "    result = solveApproximationLP_m2([A₁, A₂], εᶿ)\n",
    "    A = importance2TwofoldIntervalPCM_m2(result)\n",
    "    return A\n",
    "end"
   ]
  },
  {
   "cell_type": "code",
   "execution_count": 44,
   "id": "66f28ba5",
   "metadata": {},
   "outputs": [
    {
     "data": {
      "text/plain": [
       "method3 (generic function with 1 method)"
      ]
     },
     "metadata": {},
     "output_type": "display_data"
    }
   ],
   "source": [
    "function method3(A₁::Matrix{Interval{T}}, A₂::Matrix{Interval{T}}) where {T <: Real}\n",
    "    approximationResults = solveApproximationLP_m3.([A₁, A₂])\n",
    "    tBoundaries = calculateTBoundaries_m3.(approximationResults)\n",
    "    result = solveConcatLP_m3(approximationResults, tBoundaries)\n",
    "    Â = generatePCM_m3(result)\n",
    "    return Â\n",
    "end"
   ]
  },
  {
   "cell_type": "code",
   "execution_count": 45,
   "id": "4b3a5e9d",
   "metadata": {},
   "outputs": [
    {
     "data": {
      "text/plain": [
       "method4 (generic function with 1 method)"
      ]
     },
     "metadata": {},
     "output_type": "display_data"
    }
   ],
   "source": [
    "function method4(A₁::Matrix{Interval{T}}, A₂::Matrix{Interval{T}}) where {T <: Real}\n",
    "    results = solveApproximationLP_m4.([A₁, A₂])\n",
    "    A = generateTwofoldIntervalMatrix_m4(results)\n",
    "    result = solveCancellingLP_m4(A)\n",
    "    Â = updatePCM_m4(A, result)\n",
    "    return Â\n",
    "end"
   ]
  },
  {
   "cell_type": "code",
   "execution_count": 46,
   "id": "0f662105",
   "metadata": {},
   "outputs": [
    {
     "data": {
      "text/plain": [
       "plotAll (generic function with 2 methods)"
      ]
     },
     "metadata": {},
     "output_type": "display_data"
    }
   ],
   "source": [
    "# 対角成分以外の算術平均\n",
    "function simmean(A::Matrix{T})::T where {T <: Real}\n",
    "    m, n = size(A)\n",
    "\n",
    "    if m != n return 0 end\n",
    "    if n == 1 return 0 end\n",
    "\n",
    "    a = 0\n",
    "    for i = 1:m, j = 1:n\n",
    "        if i == j continue end\n",
    "        a += A[i,j]\n",
    "    end\n",
    "\n",
    "    return a / n / (n-1)\n",
    "end\n",
    "\n",
    "# 対角成分以外の分散\n",
    "function simvar(A::Matrix{T})::T where {T <: Real}\n",
    "    m, n = size(A)\n",
    "\n",
    "    if m != n return 0 end\n",
    "    if n == 1 return 0 end\n",
    "\n",
    "    μ = simmean(A)\n",
    "\n",
    "    a = 0\n",
    "    for i = 1:m, j = 1:n\n",
    "        if i == j continue end\n",
    "        a += (A[i,j])^2\n",
    "    end\n",
    "    a /= n * (n - 1)\n",
    "\n",
    "    return a - μ^2\n",
    "end\n",
    "\n",
    "function plotAll(A₁::Matrix{Interval{T}}, A₂::Matrix{Interval{T}}) where {T <: Real}\n",
    "    m = 2 # DM の数\n",
    "\n",
    "    matrices = [A₁, A₂]\n",
    "    resultMatrices = twofoldIntervalMatrix2intervalMatrices.(\n",
    "        [method1(A₁, A₂), method2(A₁, A₂), method3(A₁, A₂), method4(A₁, A₂)])\n",
    "    \n",
    "    a = []; indmat = []\n",
    "    for k = 1:length(resultMatrices)\n",
    "        indrow = []\n",
    "        Âₖ⁻, Âₖ⁺ = resultMatrices[k]\n",
    "        for l = 1:m\n",
    "            heatmap⁻, indices⁻ = plotConincidenceIndices(matrices[l], Âₖ⁻, L\"~~\")\n",
    "            heatmap⁺, indices⁺ = plotConincidenceIndices(matrices[l], Âₖ⁺, L\"~~\")\n",
    "\n",
    "            push!(indrow, indices⁻); push!(indrow, indices⁺)\n",
    "        end\n",
    "\n",
    "        push!(a, [Âₖ⁻, Âₖ⁺])\n",
    "        push!(indmat, indrow)\n",
    "    end\n",
    "\n",
    "    tabμ⁻ = \"\"; tabV⁻ = \"\"\n",
    "    tabμ⁺ = \"\"; tabV⁺ = \"\"\n",
    "    tabρ = \"\"\n",
    "    for i = eachindex(a)\n",
    "        μ₁⁻ = simmean(indmat[i][1]); μ₁⁺ = simmean(indmat[i][2])\n",
    "        μ₂⁻ = simmean(indmat[i][3]); μ₂⁺ = simmean(indmat[i][4])\n",
    "        V₁⁻ = simvar(indmat[i][1]); V₁⁺ = simvar(indmat[i][2])\n",
    "        V₂⁻ = simvar(indmat[i][3]); V₂⁺ = simvar(indmat[i][4])\n",
    "        ρ⁻ = (μ₁⁻ + μ₂⁻) / 2; ρ⁺ = (μ₁⁺ + μ₂⁺) / 2\n",
    "\n",
    "        tabμ⁻ *= \"$(round(μ₁⁻, digits=3)) & $(round(μ₂⁻, digits=3)) \\\\\\\\\\n\"\n",
    "        tabμ⁺ *= \"$(round(μ₁⁺, digits=3)) & $(round(μ₂⁺, digits=3)) \\\\\\\\\\n\"\n",
    "        tabV⁻ *= \"$(round(V₁⁻, digits=4)) & $(round(V₂⁻, digits=4)) \\\\\\\\\\n\"\n",
    "        tabV⁺ *= \"$(round(V₁⁺, digits=4)) & $(round(V₂⁺, digits=4)) \\\\\\\\\\n\"\n",
    "        tabρ *= \"$(round(ρ⁻, digits=3)) & $(round(ρ⁺, digits=3)) \\\\\\\\\\n\"\n",
    "    end\n",
    "\n",
    "    println(\"tabμ⁻\"); println(tabμ⁻); println()\n",
    "    println(\"tabμ⁺\"); println(tabμ⁺); println()\n",
    "    println(\"tabV⁻\"); println(tabV⁻); println()\n",
    "    println(\"tabV⁺\"); println(tabV⁺); println()\n",
    "    println(\"tabρ\"); println(tabρ)\n",
    "end"
   ]
  },
  {
   "attachments": {},
   "cell_type": "markdown",
   "id": "e0934d78",
   "metadata": {},
   "source": [
    "# exmple 1"
   ]
  },
  {
   "cell_type": "code",
   "execution_count": 47,
   "id": "7a539df8",
   "metadata": {},
   "outputs": [
    {
     "data": {
      "text/latex": [
       "$A_1 = A_2 = \\begin{bmatrix} \\left[ 1.0, 1.0 \\right] & \\left[ 1.0, 2.0 \\right] & \\left[ 0.667, 1.333 \\right] & \\left[ 1.0, 1.333 \\right] \\\\ \\left[ 0.5, 1.0 \\right] & \\left[ 1.0, 1.0 \\right] & \\left[ 0.444, 1.0 \\right] & \\left[ 0.667, 1.0 \\right] \\\\ \\left[ 0.75, 1.5 \\right] & \\left[ 1.0, 2.25 \\right] & \\left[ 1.0, 1.0 \\right] & \\left[ 1.0, 1.5 \\right] \\\\ \\left[ 0.75, 1.0 \\right] & \\left[ 1.0, 1.5 \\right] & \\left[ 0.667, 1.0 \\right] & \\left[ 1.0, 1.0 \\right] \\end{bmatrix}$"
      ],
      "text/plain": [
       "L\"$A_1 = A_2 = \\begin{bmatrix} \\left[ 1.0, 1.0 \\right] & \\left[ 1.0, 2.0 \\right] & \\left[ 0.667, 1.333 \\right] & \\left[ 1.0, 1.333 \\right] \\\\ \\left[ 0.5, 1.0 \\right] & \\left[ 1.0, 1.0 \\right] & \\left[ 0.444, 1.0 \\right] & \\left[ 0.667, 1.0 \\right] \\\\ \\left[ 0.75, 1.5 \\right] & \\left[ 1.0, 2.25 \\right] & \\left[ 1.0, 1.0 \\right] & \\left[ 1.0, 1.5 \\right] \\\\ \\left[ 0.75, 1.0 \\right] & \\left[ 1.0, 1.5 \\right] & \\left[ 0.667, 1.0 \\right] & \\left[ 1.0, 1.0 \\right] \\end{bmatrix}$\""
      ]
     },
     "metadata": {},
     "output_type": "display_data"
    },
    {
     "name": "stdout",
     "output_type": "stream",
     "text": [
      "tabμ⁻\n",
      "1.0 & 1.0 \\\\\n",
      "1.0 & 1.0 \\\\\n",
      "1.0 & 1.0 \\\\\n",
      "1.0 & 1.0 \\\\\n",
      "\n",
      "\n",
      "tabμ⁺\n",
      "1.0 & 1.0 \\\\\n",
      "1.0 & 1.0 \\\\\n",
      "1.0 & 1.0 \\\\\n",
      "1.0 & 1.0 \\\\\n",
      "\n",
      "\n",
      "tabV⁻\n",
      "0.0 & 0.0 \\\\\n",
      "0.0 & 0.0 \\\\\n",
      "0.0 & 0.0 \\\\\n",
      "0.0 & 0.0 \\\\\n",
      "\n",
      "\n",
      "tabV⁺\n",
      "0.0 & 0.0 \\\\\n",
      "0.0 & 0.0 \\\\\n",
      "0.0 & 0.0 \\\\\n",
      "0.0 & 0.0 \\\\\n",
      "\n",
      "\n",
      "tabρ\n",
      "1.0 & 1.0 \\\\\n",
      "1.0 & 1.0 \\\\\n",
      "1.0 & 1.0 \\\\\n",
      "1.0 & 1.0 \\\\\n",
      "\n"
     ]
    }
   ],
   "source": [
    "A₁ = [\n",
    "    1..1 1..2 (2/3)..(4/3) 1..(4/3)\n",
    "    (1/2)..1 1..1 (4/9)..1 (2/3)..1\n",
    "    (3/4)..(3/2) 1..(9/4) 1..1 1..(3/2)\n",
    "    (3/4)..1 1..(3/2) (2/3)..1 1..1\n",
    "]\n",
    "A₂ = A₁\n",
    "\n",
    "display(L\"A_1 = A_2 = %$(intervalMatrixLaTeXString(A₁))\")\n",
    "\n",
    "plotAll(A₂, A₂)"
   ]
  },
  {
   "attachments": {},
   "cell_type": "markdown",
   "id": "f23c1019",
   "metadata": {},
   "source": [
    "# example 2"
   ]
  },
  {
   "cell_type": "code",
   "execution_count": 48,
   "id": "9af5bd92",
   "metadata": {},
   "outputs": [
    {
     "data": {
      "text/latex": [
       "$A_1 = \\begin{bmatrix} \\left[ 1.0, 1.0 \\right] & \\left[ 1.0, 2.0 \\right] & \\left[ 0.667, 1.333 \\right] & \\left[ 1.0, 1.333 \\right] \\\\ \\left[ 0.5, 1.0 \\right] & \\left[ 1.0, 1.0 \\right] & \\left[ 0.444, 1.0 \\right] & \\left[ 0.667, 1.0 \\right] \\\\ \\left[ 0.75, 1.5 \\right] & \\left[ 1.0, 2.25 \\right] & \\left[ 1.0, 1.0 \\right] & \\left[ 1.0, 1.5 \\right] \\\\ \\left[ 0.75, 1.0 \\right] & \\left[ 1.0, 1.5 \\right] & \\left[ 0.667, 1.0 \\right] & \\left[ 1.0, 1.0 \\right] \\end{bmatrix}$"
      ],
      "text/plain": [
       "L\"$A_1 = \\begin{bmatrix} \\left[ 1.0, 1.0 \\right] & \\left[ 1.0, 2.0 \\right] & \\left[ 0.667, 1.333 \\right] & \\left[ 1.0, 1.333 \\right] \\\\ \\left[ 0.5, 1.0 \\right] & \\left[ 1.0, 1.0 \\right] & \\left[ 0.444, 1.0 \\right] & \\left[ 0.667, 1.0 \\right] \\\\ \\left[ 0.75, 1.5 \\right] & \\left[ 1.0, 2.25 \\right] & \\left[ 1.0, 1.0 \\right] & \\left[ 1.0, 1.5 \\right] \\\\ \\left[ 0.75, 1.0 \\right] & \\left[ 1.0, 1.5 \\right] & \\left[ 0.667, 1.0 \\right] & \\left[ 1.0, 1.0 \\right] \\end{bmatrix}$\""
      ]
     },
     "metadata": {},
     "output_type": "display_data"
    },
    {
     "data": {
      "text/latex": [
       "$A_2 = \\begin{bmatrix} \\left[ 1.0, 1.0 \\right] & \\left[ 0.8, 2.5 \\right] & \\left[ 0.533, 1.667 \\right] & \\left[ 0.8, 1.667 \\right] \\\\ \\left[ 0.4, 1.25 \\right] & \\left[ 1.0, 1.0 \\right] & \\left[ 0.356, 1.25 \\right] & \\left[ 0.533, 1.25 \\right] \\\\ \\left[ 0.6, 1.875 \\right] & \\left[ 0.8, 2.812 \\right] & \\left[ 1.0, 1.0 \\right] & \\left[ 0.8, 1.875 \\right] \\\\ \\left[ 0.6, 1.25 \\right] & \\left[ 0.8, 1.875 \\right] & \\left[ 0.533, 1.25 \\right] & \\left[ 1.0, 1.0 \\right] \\end{bmatrix}$"
      ],
      "text/plain": [
       "L\"$A_2 = \\begin{bmatrix} \\left[ 1.0, 1.0 \\right] & \\left[ 0.8, 2.5 \\right] & \\left[ 0.533, 1.667 \\right] & \\left[ 0.8, 1.667 \\right] \\\\ \\left[ 0.4, 1.25 \\right] & \\left[ 1.0, 1.0 \\right] & \\left[ 0.356, 1.25 \\right] & \\left[ 0.533, 1.25 \\right] \\\\ \\left[ 0.6, 1.875 \\right] & \\left[ 0.8, 2.812 \\right] & \\left[ 1.0, 1.0 \\right] & \\left[ 0.8, 1.875 \\right] \\\\ \\left[ 0.6, 1.25 \\right] & \\left[ 0.8, 1.875 \\right] & \\left[ 0.533, 1.25 \\right] & \\left[ 1.0, 1.0 \\right] \\end{bmatrix}$\""
      ]
     },
     "metadata": {},
     "output_type": "display_data"
    },
    {
     "name": "stdout",
     "output_type": "stream",
     "text": [
      "tabμ⁻\n",
      "1.0 & 0.519 \\\\\n",
      "1.0 & 0.519 \\\\\n",
      "0.993 & 0.522 \\\\\n",
      "1.0 & 0.519 \\\\\n",
      "\n",
      "\n",
      "tabμ⁺\n",
      "0.519 & 1.0 \\\\\n",
      "0.519 & 1.0 \\\\\n",
      "0.52 & 0.997 \\\\\n",
      "0.519 & 1.0 \\\\\n",
      "\n",
      "\n",
      "tabV⁻\n",
      "0.0 & 0.0073 \\\\\n",
      "0.0 & 0.0073 \\\\\n",
      "0.0001 & 0.007 \\\\\n",
      "0.0 & 0.0073 \\\\\n",
      "\n",
      "\n",
      "tabV⁺\n",
      "0.0073 & 0.0 \\\\\n",
      "0.0073 & 0.0 \\\\\n",
      "0.0074 & 0.0 \\\\\n",
      "0.0073 & 0.0 \\\\\n",
      "\n",
      "\n",
      "tabρ\n",
      "0.759 & 0.759 \\\\\n",
      "0.759 & 0.759 \\\\\n",
      "0.758 & 0.759 \\\\\n",
      "0.759 & 0.759 \\\\\n",
      "\n"
     ]
    }
   ],
   "source": [
    "A₁ = [\n",
    "    1..1 1..2 (2/3)..(4/3) 1..(4/3)\n",
    "    (1/2)..1 1..1 (4/9)..1 (2/3)..1\n",
    "    (3/4)..(3/2) 1..(9/4) 1..1 1..(3/2)\n",
    "    (3/4)..1 1..(3/2) (2/3)..1 1..1\n",
    "]\n",
    "_, n = size(A₁)\n",
    "A₂ = fill(1..1, (n, n))\n",
    "for i = 1:n, j = 1:n\n",
    "    if i == j continue end\n",
    "    A₂[i,j] = (A₁[i,j].lo * 4/5)..(A₁[i,j].hi * 5/4)\n",
    "end\n",
    "\n",
    "display(L\"A_1 = %$(intervalMatrixLaTeXString(A₁))\")\n",
    "display(L\"A_2 = %$(intervalMatrixLaTeXString(A₂))\")\n",
    "\n",
    "plotAll(A₁, A₂)"
   ]
  },
  {
   "cell_type": "markdown",
   "id": "c5c807c9",
   "metadata": {},
   "source": [
    "<!-- ともに弱い整合性を持ち， $A_{1ij} \\subseteq A_{2ij}$\n",
    "\n",
    "```\n",
    "A₁ = [\n",
    "    1..1 2..5 2..4 2..3\n",
    "    (1/5)..(1/2) 1..1 (1/5)..4 (1/5)..3\n",
    "    (1/4)..(1/2) (1/4)..5 1..1 (1/4)..3\n",
    "    (1/3)..(1/2) (1/3)..5 (1/3)..4 1..1\n",
    "]\n",
    "A₂ = fill(1..1, size(A₁))\n",
    "_, n = size(A₁)\n",
    "for i = 1:n, j = 1:n\n",
    "    if i == j continue end\n",
    "    A₂[i,j] = (A₁[i,j].lo * 1/1.1)..(A₁[i,j].hi * 1.1)\n",
    "end\n",
    "\n",
    "display(L\"A_1 = %$(intervalMatrixLaTeXString(A₁))\")\n",
    "display(L\"A_2 = %$(intervalMatrixLaTeXString(A₂))\")\n",
    "\n",
    "display(isConsistentIntervalPCM(A₁))\n",
    "display(isWeaklyConsistentIntervalPCM(A₁))\n",
    "display(isConsistentIntervalPCM(A₂))\n",
    "display(isWeaklyConsistentIntervalPCM(A₂))\n",
    "\n",
    "plotAll(A₁, A₂)\n",
    "``` -->"
   ]
  },
  {
   "attachments": {},
   "cell_type": "markdown",
   "id": "db9f7e4c",
   "metadata": {},
   "source": [
    "# example 3\n",
    "\n",
    "推移率が成り立つ通常の $4 \\times 4$ PCM に幅を与えて整合していない行列　2 つを作る\n",
    "\n",
    "$\\begin{bmatrix} 1/2 & 2 & 4 & 4 \\\\ 1/2 & 1 & 2 & 2 \\\\ 1/4 & 1/2 & 1 & 1 \\\\ 1/4 & 1/2 & 1 & 1 \\end{bmatrix}$ に自然対数スケールで $[0, 0.03]$ の一様分布に従う乱数の分だけ上下に幅をもたせている"
   ]
  },
  {
   "cell_type": "code",
   "execution_count": 49,
   "id": "6e1ba351",
   "metadata": {},
   "outputs": [
    {
     "data": {
      "text/latex": [
       "$A_1 = \\begin{bmatrix} \\left[ 1.0, 1.0 \\right] & \\left[ 1.981, 2.033 \\right] & \\left[ 3.974, 4.109 \\right] & \\left[ 3.958, 4.048 \\right] \\\\ \\left[ 0.492, 0.505 \\right] & \\left[ 1.0, 1.0 \\right] & \\left[ 1.944, 2.048 \\right] & \\left[ 1.971, 2.045 \\right] \\\\ \\left[ 0.243, 0.252 \\right] & \\left[ 0.488, 0.515 \\right] & \\left[ 1.0, 1.0 \\right] & \\left[ 0.983, 1.022 \\right] \\\\ \\left[ 0.247, 0.253 \\right] & \\left[ 0.489, 0.507 \\right] & \\left[ 0.978, 1.017 \\right] & \\left[ 1.0, 1.0 \\right] \\end{bmatrix}$"
      ],
      "text/plain": [
       "L\"$A_1 = \\begin{bmatrix} \\left[ 1.0, 1.0 \\right] & \\left[ 1.981, 2.033 \\right] & \\left[ 3.974, 4.109 \\right] & \\left[ 3.958, 4.048 \\right] \\\\ \\left[ 0.492, 0.505 \\right] & \\left[ 1.0, 1.0 \\right] & \\left[ 1.944, 2.048 \\right] & \\left[ 1.971, 2.045 \\right] \\\\ \\left[ 0.243, 0.252 \\right] & \\left[ 0.488, 0.515 \\right] & \\left[ 1.0, 1.0 \\right] & \\left[ 0.983, 1.022 \\right] \\\\ \\left[ 0.247, 0.253 \\right] & \\left[ 0.489, 0.507 \\right] & \\left[ 0.978, 1.017 \\right] & \\left[ 1.0, 1.0 \\right] \\end{bmatrix}$\""
      ]
     },
     "metadata": {},
     "output_type": "display_data"
    },
    {
     "data": {
      "text/latex": [
       "$A_2 = \\begin{bmatrix} \\left[ 1.0, 1.0 \\right] & \\left[ 1.998, 2.01 \\right] & \\left[ 3.974, 4.05 \\right] & \\left[ 3.962, 4.041 \\right] \\\\ \\left[ 0.497, 0.5 \\right] & \\left[ 1.0, 1.0 \\right] & \\left[ 1.945, 2.015 \\right] & \\left[ 1.942, 2.033 \\right] \\\\ \\left[ 0.247, 0.252 \\right] & \\left[ 0.496, 0.514 \\right] & \\left[ 1.0, 1.0 \\right] & \\left[ 0.972, 1.021 \\right] \\\\ \\left[ 0.247, 0.252 \\right] & \\left[ 0.492, 0.515 \\right] & \\left[ 0.979, 1.029 \\right] & \\left[ 1.0, 1.0 \\right] \\end{bmatrix}$"
      ],
      "text/plain": [
       "L\"$A_2 = \\begin{bmatrix} \\left[ 1.0, 1.0 \\right] & \\left[ 1.998, 2.01 \\right] & \\left[ 3.974, 4.05 \\right] & \\left[ 3.962, 4.041 \\right] \\\\ \\left[ 0.497, 0.5 \\right] & \\left[ 1.0, 1.0 \\right] & \\left[ 1.945, 2.015 \\right] & \\left[ 1.942, 2.033 \\right] \\\\ \\left[ 0.247, 0.252 \\right] & \\left[ 0.496, 0.514 \\right] & \\left[ 1.0, 1.0 \\right] & \\left[ 0.972, 1.021 \\right] \\\\ \\left[ 0.247, 0.252 \\right] & \\left[ 0.492, 0.515 \\right] & \\left[ 0.979, 1.029 \\right] & \\left[ 1.0, 1.0 \\right] \\end{bmatrix}$\""
      ]
     },
     "metadata": {},
     "output_type": "display_data"
    },
    {
     "name": "stdout",
     "output_type": "stream",
     "text": [
      "tabμ⁻\n",
      "0.668 & 0.879 \\\\\n",
      "0.568 & 0.728 \\\\\n",
      "0.682 & 0.749 \\\\\n",
      "0.708 & 0.746 \\\\\n",
      "\n",
      "\n",
      "tabμ⁺\n",
      "0.846 & 0.66 \\\\\n",
      "0.793 & 0.606 \\\\\n",
      "0.819 & 0.628 \\\\\n",
      "0.801 & 0.664 \\\\\n",
      "\n",
      "\n",
      "tabV⁻\n",
      "0.0569 & 0.018 \\\\\n",
      "0.0671 & 0.0256 \\\\\n",
      "0.024 & 0.0209 \\\\\n",
      "0.0332 & 0.0262 \\\\\n",
      "\n",
      "\n",
      "tabV⁺\n",
      "0.0098 & 0.0639 \\\\\n",
      "0.0109 & 0.0503 \\\\\n",
      "0.0167 & 0.0356 \\\\\n",
      "0.0251 & 0.046 \\\\\n",
      "\n",
      "\n",
      "tabρ\n",
      "0.773 & 0.753 \\\\\n",
      "0.648 & 0.7 \\\\\n",
      "0.715 & 0.723 \\\\\n",
      "0.727 & 0.732 \\\\\n",
      "\n"
     ]
    }
   ],
   "source": [
    "A = [\n",
    "    1 2 4 4\n",
    "    1/2 1 2 2\n",
    "    1/4 1/2 1 1\n",
    "    1/4 1/2 1 1\n",
    "]\n",
    "\n",
    "A₁ = randamizedIntervalPCM(A, 1234, 3e-2)\n",
    "A₂ = randamizedIntervalPCM(A, 134, 3e-2)\n",
    "\n",
    "display(L\"A_1 = %$(intervalMatrixLaTeXString(A₁))\")\n",
    "display(L\"A_2 = %$(intervalMatrixLaTeXString(A₂))\")\n",
    "\n",
    "plotAll(A₁, A₂)"
   ]
  },
  {
   "attachments": {},
   "cell_type": "markdown",
   "id": "4785fe4c",
   "metadata": {},
   "source": [
    "# example 4"
   ]
  },
  {
   "cell_type": "code",
   "execution_count": 50,
   "id": "efb08e9f",
   "metadata": {},
   "outputs": [
    {
     "data": {
      "text/latex": [
       "$A_1 = \\begin{bmatrix} \\left[ 1.0, 1.0 \\right] & \\left[ 1.415, 2.501 \\right] & \\left[ 2.252, 4.04 \\right] & \\left[ 8.141, 13.465 \\right] \\\\ \\left[ 0.4, 0.707 \\right] & \\left[ 1.0, 1.0 \\right] & \\left[ 2.122, 3.056 \\right] & \\left[ 6.481, 8.402 \\right] \\\\ \\left[ 0.248, 0.444 \\right] & \\left[ 0.327, 0.471 \\right] & \\left[ 1.0, 1.0 \\right] & \\left[ 2.174, 3.356 \\right] \\\\ \\left[ 0.074, 0.123 \\right] & \\left[ 0.119, 0.154 \\right] & \\left[ 0.298, 0.46 \\right] & \\left[ 1.0, 1.0 \\right] \\end{bmatrix}$"
      ],
      "text/plain": [
       "L\"$A_1 = \\begin{bmatrix} \\left[ 1.0, 1.0 \\right] & \\left[ 1.415, 2.501 \\right] & \\left[ 2.252, 4.04 \\right] & \\left[ 8.141, 13.465 \\right] \\\\ \\left[ 0.4, 0.707 \\right] & \\left[ 1.0, 1.0 \\right] & \\left[ 2.122, 3.056 \\right] & \\left[ 6.481, 8.402 \\right] \\\\ \\left[ 0.248, 0.444 \\right] & \\left[ 0.327, 0.471 \\right] & \\left[ 1.0, 1.0 \\right] & \\left[ 2.174, 3.356 \\right] \\\\ \\left[ 0.074, 0.123 \\right] & \\left[ 0.119, 0.154 \\right] & \\left[ 0.298, 0.46 \\right] & \\left[ 1.0, 1.0 \\right] \\end{bmatrix}$\""
      ]
     },
     "metadata": {},
     "output_type": "display_data"
    },
    {
     "data": {
      "text/latex": [
       "$A_2 = \\begin{bmatrix} \\left[ 1.0, 1.0 \\right] & \\left[ 1.547, 2.232 \\right] & \\left[ 2.233, 3.723 \\right] & \\left[ 8.746, 12.652 \\right] \\\\ \\left[ 0.448, 0.646 \\right] & \\left[ 1.0, 1.0 \\right] & \\left[ 2.28, 3.644 \\right] & \\left[ 5.559, 10.701 \\right] \\\\ \\left[ 0.269, 0.448 \\right] & \\left[ 0.274, 0.439 \\right] & \\left[ 1.0, 1.0 \\right] & \\left[ 2.759, 3.774 \\right] \\\\ \\left[ 0.079, 0.114 \\right] & \\left[ 0.093, 0.18 \\right] & \\left[ 0.265, 0.362 \\right] & \\left[ 1.0, 1.0 \\right] \\end{bmatrix}$"
      ],
      "text/plain": [
       "L\"$A_2 = \\begin{bmatrix} \\left[ 1.0, 1.0 \\right] & \\left[ 1.547, 2.232 \\right] & \\left[ 2.233, 3.723 \\right] & \\left[ 8.746, 12.652 \\right] \\\\ \\left[ 0.448, 0.646 \\right] & \\left[ 1.0, 1.0 \\right] & \\left[ 2.28, 3.644 \\right] & \\left[ 5.559, 10.701 \\right] \\\\ \\left[ 0.269, 0.448 \\right] & \\left[ 0.274, 0.439 \\right] & \\left[ 1.0, 1.0 \\right] & \\left[ 2.759, 3.774 \\right] \\\\ \\left[ 0.079, 0.114 \\right] & \\left[ 0.093, 0.18 \\right] & \\left[ 0.265, 0.362 \\right] & \\left[ 1.0, 1.0 \\right] \\end{bmatrix}$\""
      ]
     },
     "metadata": {},
     "output_type": "display_data"
    },
    {
     "name": "stdout",
     "output_type": "stream",
     "text": [
      "tabμ⁻\n",
      "0.037 & 0.051 \\\\\n",
      "0.294 & 0.264 \\\\\n",
      "0.411 & 0.388 \\\\\n",
      "0.488 & 0.405 \\\\\n",
      "\n",
      "\n",
      "tabμ⁺\n",
      "0.535 & 0.53 \\\\\n",
      "0.53 & 0.481 \\\\\n",
      "0.57 & 0.511 \\\\\n",
      "0.59 & 0.544 \\\\\n",
      "\n",
      "\n",
      "tabV⁻\n",
      "0.0064 & 0.0121 \\\\\n",
      "0.0698 & 0.0374 \\\\\n",
      "0.0257 & 0.0524 \\\\\n",
      "0.0462 & 0.0422 \\\\\n",
      "\n",
      "\n",
      "tabV⁺\n",
      "0.0355 & 0.0353 \\\\\n",
      "0.0904 & 0.0327 \\\\\n",
      "0.0187 & 0.0272 \\\\\n",
      "0.0518 & 0.0596 \\\\\n",
      "\n",
      "\n",
      "tabρ\n",
      "0.044 & 0.533 \\\\\n",
      "0.279 & 0.505 \\\\\n",
      "0.399 & 0.54 \\\\\n",
      "0.447 & 0.567 \\\\\n",
      "\n"
     ]
    }
   ],
   "source": [
    "A = [\n",
    "    1 2 3 10\n",
    "    1/2 1 3 8\n",
    "    1/3 1/3 1 3\n",
    "    1/10 1/8 1/3 1\n",
    "]\n",
    "\n",
    "A₁ = randamizedIntervalPCM(A, 124, 4e-1)\n",
    "A₂ = randamizedIntervalPCM(A, 411, 4e-1)\n",
    "\n",
    "display(L\"A_1 = %$(intervalMatrixLaTeXString(A₁))\")\n",
    "display(L\"A_2 = %$(intervalMatrixLaTeXString(A₂))\")\n",
    "\n",
    "plotAll(A₁, A₂)"
   ]
  },
  {
   "cell_type": "code",
   "execution_count": 51,
   "id": "a11970ff",
   "metadata": {},
   "outputs": [],
   "source": []
  }
 ],
 "metadata": {
  "kernelspec": {
   "display_name": "Julia 1.8.5",
   "language": "julia",
   "name": "julia-1.8"
  },
  "language_info": {
   "file_extension": ".jl",
   "mimetype": "application/julia",
   "name": "julia",
   "version": "1.8.5"
  },
  "vscode": {
   "interpreter": {
    "hash": "d4d1e4263499bec80672ea0156c357c1ee493ec2b1c70f0acce89fc37c4a6abe"
   }
  }
 },
 "nbformat": 4,
 "nbformat_minor": 5
}
