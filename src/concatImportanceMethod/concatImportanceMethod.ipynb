{
 "cells": [
  {
   "cell_type": "markdown",
   "id": "e7a0f536",
   "metadata": {},
   "source": [
    "上・下近似を求めるLP  \n",
    "これを各 $k \\in \\{ 1, 2 \\}$ について解く\n",
    "$$\n",
    "\\begin{align*}\n",
    "    \\text{minimize} ~~ & ~~\n",
    "    \\sum_{i \\in N} \\left( w_{ki}^{\\text{L}-} - w_{ki}^{\\text{L}+} + w_{ki}^{\\text{U}+} - w_{ki}^{\\text{U}-} \\right), \\\\\n",
    "    \\text{subject to} ~~ & ~~\n",
    "    \\frac{w_{ki}^{\\text{L}+}}{w_{kj}^{\\text{U}+}} \\leq a_{kij}^\\text{L} \\leq \\frac{w_{ki}^{\\text{L}-}}{w_{kj}^{\\text{U}-}}, ~~\n",
    "    \\frac{w_{ki}^{\\text{U}-}}{w_{kj}^{\\text{L}-}} \\leq a_{kij}^\\text{U} \\leq \\frac{w_{ki}^{\\text{U}+}}{w_{kj}^{\\text{L}+}}, ~~\n",
    "    i, j \\in N, \\\\ & ~~\n",
    "    \\sum_{j \\in N \\backslash \\{i\\}} w_{kj}^{\\text{U}-} + w_{ki}^{\\text{L}-} \\geq 1, ~~\n",
    "    \\sum_{j \\in N \\backslash \\{i\\}} w_{kj}^{\\text{L}-} + w_{ki}^{\\text{U}-} \\leq 1, ~~\n",
    "    i \\in N, \\\\ & ~~\n",
    "    \\sum_{j \\in N \\backslash \\{i\\}} w_{kj}^{\\text{U}+} + w_{ki}^{\\text{L}+} \\geq 1, ~~\n",
    "    \\sum_{j \\in N \\backslash \\{i\\}} w_{kj}^{\\text{L}+} + w_{ki}^{\\text{U}+} \\leq 1, ~~\n",
    "    i \\in N, \\\\ & ~~\n",
    "    \\sum_{i \\in N} \\left( w_{ki}^{\\text{L}-} + w_{ki}^{\\text{U}-} \\right) = 2, ~~\n",
    "    \\sum_{i \\in N} \\left( w_{ki}^{\\text{L}+} + w_{ki}^{\\text{U}+} \\right) = 2, \\\\ & ~~\n",
    "    w_{ki}^{\\text{U}+} \\geq w_{ki}^{\\text{U}-} \\geq w_{ki}^{\\text{L}-} \\geq w_{ki}^{\\text{L}+} \\geq \\varepsilon, ~~ i \\in N\n",
    "\\end{align*}\n",
    "$$"
   ]
  },
  {
   "cell_type": "markdown",
   "id": "dc7043c7",
   "metadata": {},
   "source": [
    "$$\n",
    "t_k^{\\text{L}-} = \\left( \\min_{i \\in N} \\left( \\sum_{j \\in N \\backslash \\{i\\}} w_{kj}^{\\text{U}-} + w_{ki}^{\\text{L}-} \\right) \\right)^{-1}, ~~\n",
    "t_k^{\\text{U}-} = \\left( \\max_{i \\in N} \\left( \\sum_{j \\in N \\backslash \\{i\\}} w_{kj}^{\\text{L}-} + w_{ki}^{\\text{U}-} \\right) \\right)^{-1}, \\\\\n",
    "t_k^{\\text{L}+} = \\left( \\min_{i \\in N} \\left( \\sum_{j \\in N \\backslash \\{i\\}} w_{kj}^{\\text{U}+} + w_{ki}^{\\text{L}+} \\right) \\right)^{-1}, ~~\n",
    "t_k^{\\text{U}+} = \\left( \\max_{i \\in N} \\left( \\sum_{j \\in N \\backslash \\{i\\}} w_{kj}^{\\text{L}+} + w_{ki}^{\\text{U}+} \\right) \\right)^{-1}\n",
    "$$"
   ]
  },
  {
   "cell_type": "markdown",
   "id": "c293054f",
   "metadata": {},
   "source": [
    "$$\n",
    "\\begin{align*}\n",
    "    \\text{minimize} ~~ & ~~\n",
    "    \\sum_{i \\in N} \\left( \\varepsilon_i^\\text{L} + \\varepsilon_i^\\text{U} \\right), \\\\\n",
    "    \\text{subject to} ~~ & ~~\n",
    "    t_k^+ w_{ki}^{\\text{L}+} - \\varepsilon_i^\\text{L} \\leq w_i^\\text{L} \\leq t_k^- w_{ki}^{\\text{L}-} + \\varepsilon_i^\\text{L}, ~~\n",
    "    i \\in N, ~~ k \\in \\{ 1, 2 \\}, \\\\ & ~~\n",
    "    t_k^- w_{ki}^{\\text{U}-} - \\varepsilon_i^\\text{U} \\leq w_i^\\text{U} \\leq t_k^+ w_{ki}^{\\text{U}+} + \\varepsilon_i^\\text{U}, ~~\n",
    "    i \\in N, ~~ k \\in \\{ 1, 2 \\}, \\\\ & ~~\n",
    "    \\varepsilon_i^\\text{L} \\geq v_i^{\\text{L}+} - v_i^{\\text{L}-}, ~~\n",
    "    \\varepsilon_i^\\text{U} \\geq v_i^{\\text{U}-} - v_i^{\\text{U}+}, ~~\n",
    "    i \\in N, ~~ k \\in \\{ 1, 2 \\}, \\\\ & ~~\n",
    "    v_i^{\\text{L}-} \\leq t_k^- w_{ki}^{\\text{L}-}, ~~\n",
    "    v_i^{\\text{U}-} \\geq t_k^- w_{ki}^{\\text{U}-}, ~~\n",
    "    i \\in N, ~~ k \\in \\{ 1, 2 \\}, \\\\ & ~~\n",
    "    v_i^{\\text{L}+} \\geq t_k^+ w_{ki}^{\\text{L}+}, ~~\n",
    "    v_i^{\\text{U}+} \\leq t_k^+ w_{ki}^{\\text{U}+}, ~~\n",
    "    i \\in N, ~~ k \\in \\{ 1, 2 \\}, \\\\ & ~~\n",
    "    \\sum_{j \\in N \\backslash \\{i\\}} w_j^\\text{U} + w_i^\\text{L} \\geq 1, ~~\n",
    "    \\sum_{j \\in N \\backslash \\{i\\}} w_j^\\text{L} + w_i^\\text{U} \\leq 1, ~~\n",
    "    i \\in N, \\\\ & ~~\n",
    "     \\sum_{i \\in N} \\left(  w_i^\\text{L} +  w_i^\\text{U} \\right) = 2, \\\\ & ~~\n",
    "    t_k^{\\text{L}-} \\leq t_k^- \\leq t_k^{\\text{U}-}, ~~\n",
    "    t_k^{\\text{L}+} \\leq t_k^+ \\leq t_k^{\\text{U}+}, ~~\n",
    "    k \\in \\{ 1, 2 \\}, \\\\ & ~~\n",
    "    w_i^\\text{U} \\geq w_i^\\text{L} \\geq \\varepsilon, ~~\n",
    "    v_i^{\\text{L}-}, v_i^{\\text{U}-}, v_i^{\\text{L}+}, v_i^{\\text{U}+}, \\varepsilon_i^\\text{L}, \\varepsilon_i^\\text{U} \\geq 0, ~~\n",
    "    i \\in N\n",
    "\\end{align*}\n",
    "$$\n",
    "上・下近似で中心総和1とすると$t_k^- = t_k^+ = 1$"
   ]
  },
  {
   "cell_type": "markdown",
   "id": "2a0125ae",
   "metadata": {},
   "source": [
    "$$\n",
    "\\begin{align*}\n",
    "\\hat{a}_{ij}^{\\text{L}-} & = \\frac{v_i^{\\text{L}-} + \\varepsilon_i^\\text{L}}{v_j^{\\text{U}-} - \\varepsilon_j^\\text{U}}, ~~ i, j \\in N, ~~ i \\not= j, \\\\\n",
    "\\hat{a}_{ij}^{\\text{U}-} & = \\frac{v_i^{\\text{U}-} - \\varepsilon_i^\\text{U}}{v_j^{\\text{L}-} + \\varepsilon_j^\\text{L}}, ~~ i, j \\in N, ~~ i \\not= j, \\\\\n",
    "\\hat{a}_{ij}^{\\text{L}+} & = \\frac{v_i^{\\text{L}+} - \\varepsilon_i^\\text{L}}{v_j^{\\text{U}+} + \\varepsilon_j^\\text{U}}, ~~ i, j \\in N, ~~ i \\not= j, \\\\\n",
    "\\hat{a}_{ij}^{\\text{U}+} & = \\frac{v_i^{\\text{U}+} + \\varepsilon_i^\\text{U}}{v_j^{\\text{L}+} - \\varepsilon_j^\\text{L}}, ~~ i, j \\in N, ~~ i \\not= j\n",
    "\\end{align*}\n",
    "$$"
   ]
  },
  {
   "cell_type": "code",
   "execution_count": 1,
   "id": "acd086ce-742a-4493-a331-7abe3296c70d",
   "metadata": {},
   "outputs": [],
   "source": [
    "using IntervalArithmetic\n",
    "using LaTeXStrings"
   ]
  },
  {
   "cell_type": "code",
   "execution_count": 2,
   "id": "6ae45f35-7c99-45c9-a934-88166cfef5fb",
   "metadata": {},
   "outputs": [
    {
     "data": {
      "text/plain": [
       "intervalPCM2TwofoldIntervalPCM"
      ]
     },
     "metadata": {},
     "output_type": "display_data"
    }
   ],
   "source": [
    "include(\"./concatImportanceMethod.jl\")\n",
    "include(\"../concatMatricesMethod/concatMatricesMethod.jl\")\n",
    "include(\"../display/concatImportanceMethod.jl\")\n",
    "include(\"../display/interval.jl\")\n",
    "include(\"../display/twofoldInterval.jl\")\n",
    "include(\"../twofoldIntervalPCM/twofoldIntervalPCM.jl\")"
   ]
  },
  {
   "cell_type": "code",
   "execution_count": 3,
   "id": "f6600aef-528e-4336-9695-9b6123a05033",
   "metadata": {},
   "outputs": [],
   "source": [
    "A₁ = [\n",
    "    1..1 2.7..3.2 (1/3.3)..(1/3)\n",
    "    (1/3.2)..(1/2.7) 1..1 (1/10)..(1/9.7)\n",
    "    3..3.3 9.7..10 1..1\n",
    "]\n",
    "A₂ = [\n",
    "    1..1 2.2..2.8 (1/4)..(1/2.8)\n",
    "    (1/2.8)..(1/2.2) 1..1 (1/9.8)..(1/9.7)\n",
    "    2.8..4 9.7..9.8 1..1\n",
    "]\n",
    "\n",
    "print()"
   ]
  },
  {
   "cell_type": "code",
   "execution_count": 4,
   "id": "180ce015",
   "metadata": {},
   "outputs": [
    {
     "data": {
      "text/latex": [
       "$    w_{1}^{\\text{L}-} = \\begin{bmatrix} 0.23  \\\\  0.072  \\\\  0.698 \\end{bmatrix}, ~~\n",
       "    w_{1}^{\\text{U}-} = \\begin{bmatrix} 0.23  \\\\  0.072  \\\\  0.698 \\end{bmatrix}, ~~\n",
       "    w_{1}^{\\text{L}+} = \\begin{bmatrix} 0.214  \\\\  0.071  \\\\  0.697 \\end{bmatrix}, ~~\n",
       "    w_{1}^{\\text{U}+} = \\begin{bmatrix} 0.232  \\\\  0.079  \\\\  0.707 \\end{bmatrix}\n",
       "$"
      ],
      "text/plain": [
       "L\"$    w_{1}^{\\text{L}-} = \\begin{bmatrix} 0.23  \\\\  0.072  \\\\  0.698 \\end{bmatrix}, ~~\n",
       "    w_{1}^{\\text{U}-} = \\begin{bmatrix} 0.23  \\\\  0.072  \\\\  0.698 \\end{bmatrix}, ~~\n",
       "    w_{1}^{\\text{L}+} = \\begin{bmatrix} 0.214  \\\\  0.071  \\\\  0.697 \\end{bmatrix}, ~~\n",
       "    w_{1}^{\\text{U}+} = \\begin{bmatrix} 0.232  \\\\  0.079  \\\\  0.707 \\end{bmatrix}\n",
       "$\""
      ]
     },
     "metadata": {},
     "output_type": "display_data"
    },
    {
     "data": {
      "text/latex": [
       "$    w_{2}^{\\text{L}-} = \\begin{bmatrix} 0.199  \\\\  0.075  \\\\  0.726 \\end{bmatrix}, ~~\n",
       "    w_{2}^{\\text{U}-} = \\begin{bmatrix} 0.199  \\\\  0.075  \\\\  0.726 \\end{bmatrix}, ~~\n",
       "    w_{2}^{\\text{L}+} = \\begin{bmatrix} 0.183  \\\\  0.075  \\\\  0.682 \\end{bmatrix}, ~~\n",
       "    w_{2}^{\\text{U}+} = \\begin{bmatrix} 0.243  \\\\  0.083  \\\\  0.733 \\end{bmatrix}\n",
       "$"
      ],
      "text/plain": [
       "L\"$    w_{2}^{\\text{L}-} = \\begin{bmatrix} 0.199  \\\\  0.075  \\\\  0.726 \\end{bmatrix}, ~~\n",
       "    w_{2}^{\\text{U}-} = \\begin{bmatrix} 0.199  \\\\  0.075  \\\\  0.726 \\end{bmatrix}, ~~\n",
       "    w_{2}^{\\text{L}+} = \\begin{bmatrix} 0.183  \\\\  0.075  \\\\  0.682 \\end{bmatrix}, ~~\n",
       "    w_{2}^{\\text{U}+} = \\begin{bmatrix} 0.243  \\\\  0.083  \\\\  0.733 \\end{bmatrix}\n",
       "$\""
      ]
     },
     "metadata": {},
     "output_type": "display_data"
    }
   ],
   "source": [
    "result1 = solveConcatImportanceMethodApproximationLP(A₁)\n",
    "result2 = solveConcatImportanceMethodApproximationLP(A₂)\n",
    "\n",
    "displayConcatImportanceMethodApproximationLPResults([result1, result2])"
   ]
  },
  {
   "cell_type": "code",
   "execution_count": 5,
   "id": "1e0a58e1",
   "metadata": {},
   "outputs": [
    {
     "data": {
      "text/latex": [
       "$    t_{1}^{\\text{L}-} = 1.0, ~~\n",
       "    t_{1}^{\\text{U}-} = 1.0, ~~\n",
       "    t_{1}^{\\text{L}+} = 1.0, ~~\n",
       "    t_{1}^{\\text{U}+} = 1.0\n",
       "$"
      ],
      "text/plain": [
       "L\"$    t_{1}^{\\text{L}-} = 1.0, ~~\n",
       "    t_{1}^{\\text{U}-} = 1.0, ~~\n",
       "    t_{1}^{\\text{L}+} = 1.0, ~~\n",
       "    t_{1}^{\\text{U}+} = 1.0\n",
       "$\""
      ]
     },
     "metadata": {},
     "output_type": "display_data"
    },
    {
     "data": {
      "text/latex": [
       "$    t_{2}^{\\text{L}-} = 1.0, ~~\n",
       "    t_{2}^{\\text{U}-} = 1.0, ~~\n",
       "    t_{2}^{\\text{L}+} = 1.0, ~~\n",
       "    t_{2}^{\\text{U}+} = 1.0\n",
       "$"
      ],
      "text/plain": [
       "L\"$    t_{2}^{\\text{L}-} = 1.0, ~~\n",
       "    t_{2}^{\\text{U}-} = 1.0, ~~\n",
       "    t_{2}^{\\text{L}+} = 1.0, ~~\n",
       "    t_{2}^{\\text{U}+} = 1.0\n",
       "$\""
      ]
     },
     "metadata": {},
     "output_type": "display_data"
    }
   ],
   "source": [
    "tBoundaries1 = calculateConcatImportanceMethodTBoundaries(result1)\n",
    "tBoundaries2 = calculateConcatImportanceMethodTBoundaries(result2)\n",
    "\n",
    "displayConcatImportanceMethodTBoundaries([tBoundaries1, tBoundaries2])"
   ]
  },
  {
   "cell_type": "code",
   "execution_count": 6,
   "id": "d426f37d",
   "metadata": {},
   "outputs": [
    {
     "data": {
      "text/latex": [
       "$t^- = \\begin{bmatrix} 1.0  \\\\  1.0 \\end{bmatrix}, ~~\n",
       "t^+ = \\begin{bmatrix} 1.0  \\\\  1.0 \\end{bmatrix}\n",
       "$"
      ],
      "text/plain": [
       "L\"$t^- = \\begin{bmatrix} 1.0  \\\\  1.0 \\end{bmatrix}, ~~\n",
       "t^+ = \\begin{bmatrix} 1.0  \\\\  1.0 \\end{bmatrix}\n",
       "$\""
      ]
     },
     "metadata": {},
     "output_type": "display_data"
    },
    {
     "data": {
      "text/latex": [
       "$W = \\begin{bmatrix}\\left[ 0.199, 0.23 \\right] \\\\ \\left[ 0.073, 0.079 \\right] \\\\ \\left[ 0.697, 0.721 \\right]\\end{bmatrix}$"
      ],
      "text/plain": [
       "L\"$W = \\begin{bmatrix}\\left[ 0.199, 0.23 \\right] \\\\ \\left[ 0.073, 0.079 \\right] \\\\ \\left[ 0.697, 0.721 \\right]\\end{bmatrix}$\""
      ]
     },
     "metadata": {},
     "output_type": "display_data"
    },
    {
     "data": {
      "text/latex": [
       "$v^{\\text{L}-} = \\begin{bmatrix} 0.199  \\\\  0.072  \\\\  0.698 \\end{bmatrix}, ~~\n",
       "v^{\\text{U}-} = \\begin{bmatrix} 0.23  \\\\  0.075  \\\\  0.726 \\end{bmatrix}, ~~\n",
       "v^{\\text{L}+} = \\begin{bmatrix} 0.214  \\\\  0.075  \\\\  0.697 \\end{bmatrix}, ~~\n",
       "v^{\\text{U}+} = \\begin{bmatrix} 0.214  \\\\  0.075  \\\\  0.697 \\end{bmatrix}\n",
       "$"
      ],
      "text/plain": [
       "L\"$v^{\\text{L}-} = \\begin{bmatrix} 0.199  \\\\  0.072  \\\\  0.698 \\end{bmatrix}, ~~\n",
       "v^{\\text{U}-} = \\begin{bmatrix} 0.23  \\\\  0.075  \\\\  0.726 \\end{bmatrix}, ~~\n",
       "v^{\\text{L}+} = \\begin{bmatrix} 0.214  \\\\  0.075  \\\\  0.697 \\end{bmatrix}, ~~\n",
       "v^{\\text{U}+} = \\begin{bmatrix} 0.214  \\\\  0.075  \\\\  0.697 \\end{bmatrix}\n",
       "$\""
      ]
     },
     "metadata": {},
     "output_type": "display_data"
    },
    {
     "data": {
      "text/latex": [
       "$\\varepsilon^\\text{L} = \\begin{bmatrix} 0.015  \\\\  0.003  \\\\  0.0 \\end{bmatrix}, ~~\n",
       "\\varepsilon^\\text{U} = \\begin{bmatrix} 0.0  \\\\  0.0  \\\\  0.019 \\end{bmatrix}\n",
       "$"
      ],
      "text/plain": [
       "L\"$\\varepsilon^\\text{L} = \\begin{bmatrix} 0.015  \\\\  0.003  \\\\  0.0 \\end{bmatrix}, ~~\n",
       "\\varepsilon^\\text{U} = \\begin{bmatrix} 0.0  \\\\  0.0  \\\\  0.019 \\end{bmatrix}\n",
       "$\""
      ]
     },
     "metadata": {},
     "output_type": "display_data"
    }
   ],
   "source": [
    "result = solveConcatImportanceMethodConcatLP([result1, result2], [tBoundaries1, tBoundaries2])\n",
    "\n",
    "displayConcatImportanceMethodConcatLPResult(result)"
   ]
  },
  {
   "cell_type": "code",
   "execution_count": 7,
   "id": "02b1c2ad",
   "metadata": {},
   "outputs": [
    {
     "data": {
      "text/latex": [
       "$\\hat{A} = \\begin{bmatrix} \\left[   1.0, \\left[   1.0,   1.0 \\right],   1.0 \\right] & \\left[ 2.513, \\left[   2.7, 3.077 \\right],   3.2 \\right] & \\left[ 0.276, \\left[ 0.297,  0.33 \\right],  0.33 \\right] \\\\ \\left[ 0.312, \\left[ 0.325,  0.37 \\right], 0.398 \\right] & \\left[   1.0, \\left[   1.0,   1.0 \\right],   1.0 \\right] & \\left[   0.1, \\left[ 0.104, 0.107 \\right], 0.114 \\right] \\\\ \\left[ 3.028, \\left[ 3.031, 3.369 \\right], 3.619 \\right] & \\left[ 8.789, \\left[ 9.315,  9.64 \\right], 10.027 \\right] & \\left[   1.0, \\left[   1.0,   1.0 \\right],   1.0 \\right] \\end{bmatrix}$"
      ],
      "text/plain": [
       "\"\\$\\\\hat{A} = \\\\begin{bmatrix} \\\\left[   1.0, \\\\left[   1.0,   1.0 \\\\right],   1.0 \\\\right] & \\\\left[ 2.513, \\\\left[   2.7, 3.077 \\\\right],   3.2 \\\\right] & \\\\left[ 0.276, \\\\left[ 0.297,  0.33 \\\\right],  0.33 \\\\right] \\\\\\\\ \\\\left[ 0.312, \\\\left[ 0.325,  0.37 \\\\right], 0.398 \\\\right] & \\\\left[ \" ⋯ 31 bytes ⋯ \"ht],   1.0 \\\\right] & \\\\left[   0.1, \\\\left[ 0.104, 0.107 \\\\right], 0.114 \\\\right] \\\\\\\\ \\\\left[ 3.028, \\\\left[ 3.031, 3.369 \\\\right], 3.619 \\\\right] & \\\\left[ 8.789, \\\\left[ 9.315,  9.64 \\\\right], 10.027 \\\\right] & \\\\left[   1.0, \\\\left[   1.0,   1.0 \\\\right],   1.0 \\\\right] \\\\end{bmatrix}\\$\""
      ]
     },
     "metadata": {},
     "output_type": "display_data"
    }
   ],
   "source": [
    "Â = generateConcatImportanceMethodPCM(result)\n",
    "\n",
    "display(L\"\\hat{A} = %$(twofoldIntervalMatrixLaTeXString(Â))\")"
   ]
  },
  {
   "cell_type": "code",
   "execution_count": 8,
   "id": "4c1154ae-9638-4b6f-8f36-a79b99e7d684",
   "metadata": {},
   "outputs": [
    {
     "data": {
      "text/plain": [
       "0.160432023577514"
      ]
     },
     "metadata": {},
     "output_type": "display_data"
    }
   ],
   "source": [
    "using LinearAlgebra\n",
    "\n",
    "L = [\n",
    "    1 1/5 3 2\n",
    "    5 1 7 1\n",
    "    1/3 1/7 1 1/3\n",
    "    1/2 1 3 1\n",
    "]\n",
    "\n",
    "m, n = size(L)\n",
    "λₘₐₓ = maximum(map(λ -> real(λ), filter(λ -> isreal(λ), eigvals(L))))\n",
    "CI = (λₘₐₓ - n) / (n - 1)"
   ]
  },
  {
   "cell_type": "code",
   "execution_count": 9,
   "id": "47be66fe-0cf5-4d78-a24f-73f7fb932cc8",
   "metadata": {},
   "outputs": [
    {
     "data": {
      "text/latex": [
       "$A_1 = \\begin{bmatrix} \\left[ 1.0, 1.0 \\right] & \\left[ 0.182, 0.196 \\right] & \\left[ 2.7, 2.9 \\right] & \\left[ 1.5, 2.0 \\right] \\\\ \\left[ 5.1, 5.5 \\right] & \\left[ 1.0, 1.0 \\right] & \\left[ 6.9, 7.2 \\right] & \\left[ 0.9, 1.3 \\right] \\\\ \\left[ 0.345, 0.37 \\right] & \\left[ 0.139, 0.145 \\right] & \\left[ 1.0, 1.0 \\right] & \\left[ 0.294, 0.333 \\right] \\\\ \\left[ 0.5, 0.667 \\right] & \\left[ 0.769, 1.111 \\right] & \\left[ 3.0, 3.4 \\right] & \\left[ 1.0, 1.0 \\right] \\end{bmatrix}$"
      ],
      "text/plain": [
       "L\"$A_1 = \\begin{bmatrix} \\left[ 1.0, 1.0 \\right] & \\left[ 0.182, 0.196 \\right] & \\left[ 2.7, 2.9 \\right] & \\left[ 1.5, 2.0 \\right] \\\\ \\left[ 5.1, 5.5 \\right] & \\left[ 1.0, 1.0 \\right] & \\left[ 6.9, 7.2 \\right] & \\left[ 0.9, 1.3 \\right] \\\\ \\left[ 0.345, 0.37 \\right] & \\left[ 0.139, 0.145 \\right] & \\left[ 1.0, 1.0 \\right] & \\left[ 0.294, 0.333 \\right] \\\\ \\left[ 0.5, 0.667 \\right] & \\left[ 0.769, 1.111 \\right] & \\left[ 3.0, 3.4 \\right] & \\left[ 1.0, 1.0 \\right] \\end{bmatrix}$\""
      ]
     },
     "metadata": {},
     "output_type": "display_data"
    }
   ],
   "source": [
    "M = [\n",
    "    1..1 (1/5.5)..(1/5.1) 2.7..2.9 1.5..2\n",
    "    5.1..5.5 1..1 6.9..7.2 0.9..1.3\n",
    "    (1/2.9)..(1/2.7) (1/7.2)..(1/6.9) 1..1 (1/3.4)..(1/3)\n",
    "    (1/2)..(1/1.5) (1/1.3)..(1/0.9) 3..3.4 1..1\n",
    "]\n",
    "display(L\"A_1 = %$(intervalMatrixLaTeXString(M))\")"
   ]
  },
  {
   "cell_type": "code",
   "execution_count": 10,
   "id": "f860fb33-ae44-4a5f-b5b7-48b601c4993f",
   "metadata": {},
   "outputs": [],
   "source": []
  }
 ],
 "metadata": {
  "kernelspec": {
   "display_name": "Julia 1.8.3",
   "language": "julia",
   "name": "julia-1.8"
  },
  "language_info": {
   "file_extension": ".jl",
   "mimetype": "application/julia",
   "name": "julia",
   "version": "1.8.3"
  }
 },
 "nbformat": 4,
 "nbformat_minor": 5
}
