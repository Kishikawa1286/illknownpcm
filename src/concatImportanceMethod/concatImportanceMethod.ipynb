{
 "cells": [
  {
   "attachments": {},
   "cell_type": "markdown",
   "id": "1dcc5ef9",
   "metadata": {},
   "source": [
    "上・下近似を同時に求めるLPが実行可能かを求めるLP  \n",
    "これを各 $k \\in M$ について解く\n",
    "\n",
    "$$\n",
    "\\begin{align*}\n",
    "    \\text{minimize} ~~ & ~~\n",
    "    \\sum_{i \\in N} \\left( \\delta_{ki}^\\text{L} + \\delta_{ki}^\\text{U} \\right) \\\\\n",
    "    \\text{subject to} ~~ & ~~\n",
    "    a_{kij}^\\text{L} w_{kj}^{\\text{U}+} \\geq w_{ki}^{\\text{L}+}, ~~\n",
    "    a_{kij}^\\text{U} w_{kj}^{\\text{L}-} \\leq w_{ki}^{\\text{U}+}, ~~\n",
    "    i, j \\in N, ~~ i \\not= j \\\\ & ~~\n",
    "    a_{kij}^\\text{L} w_{kj}^{\\text{U}-} - \\delta_{ki}^\\text{L} \\leq w_{ki}^{\\text{L}-}, ~~\n",
    "    a_{kij}^\\text{U} w_{kj}^{\\text{L}-} + \\delta_{ki}^\\text{U} \\geq w_{ki}^{\\text{U}-}, ~~\n",
    "    i, j \\in N, ~~ i \\not= j, \\\\ & ~~\n",
    "    \\sum_{j \\in N \\backslash \\{i\\}} w_{kj}^{\\text{U}-} + w_{ki}^{\\text{L}-} \\geq 1, ~~\n",
    "    \\sum_{j \\in N \\backslash \\{i\\}} w_{kj}^{\\text{L}-} + w_{ki}^{\\text{U}-} \\leq 1, ~~\n",
    "    i \\in N, \\\\ & ~~\n",
    "    \\sum_{j \\in N \\backslash \\{i\\}} w_{kj}^{\\text{U}+} + w_{ki}^{\\text{L}+} \\geq 1, ~~\n",
    "    \\sum_{j \\in N \\backslash \\{i\\}} w_{kj}^{\\text{L}+} + w_{ki}^{\\text{U}+} \\leq 1, ~~\n",
    "    i \\in N, \\\\ & ~~\n",
    "    \\sum_{i \\in N} \\left( w_{ki}^{\\text{L}-} + w_{ki}^{\\text{U}-} \\right) = 2, ~~\n",
    "    \\sum_{i \\in N} \\left( w_{ki}^{\\text{L}+} + w_{ki}^{\\text{U}+} \\right) = 2, \\\\ & ~~\n",
    "    w_{ki}^{\\text{U}+} \\geq w_{ki}^{\\text{U}-} \\geq w_{ki}^{\\text{L}-} \\geq w_{ki}^{\\text{L}+} \\geq \\varepsilon, ~~\n",
    "    \\delta_{ki}^\\text{L}, \\delta_{ki}^\\text{U} \\geq 0, ~~ i \\in N\n",
    "\\end{align*}\n",
    "$$\n",
    "\n",
    "最適値が $0$ であれば上・下近似を同時に求めるLPが実行可能"
   ]
  },
  {
   "attachments": {},
   "cell_type": "markdown",
   "id": "65a51c51",
   "metadata": {},
   "source": [
    "上・下近似を同時に求めるLPが実行可能でない場合は上近似のみを求める\n",
    "\n",
    "$$\n",
    "\\begin{align*}\n",
    "    \\text{minimize} ~~ & ~~\n",
    "    \\sum_{i \\in N} \\left( -w_{ki}^{\\text{L}+} + w_{ki}^{\\text{U}+} \\right), \\\\\n",
    "    \\text{subject to} ~~ & ~~\n",
    "    w_{ki}^{\\text{L}+} \\leq a_{kij}^\\text{L} w_{kj}^{\\text{U}+} ~~\n",
    "    a_{kij}^\\text{U} w_{kj}^{\\text{L}+} \\leq w_{ki}^{\\text{U}+}, ~~\n",
    "    i, j \\in N, \\\\ & ~~\n",
    "    \\sum_{j \\in N \\backslash \\{i\\}} w_{kj}^{\\text{U}+} + w_{ki}^{\\text{L}+} \\geq 1, ~~\n",
    "    \\sum_{j \\in N \\backslash \\{i\\}} w_{kj}^{\\text{L}+} + w_{ki}^{\\text{U}+} \\leq 1, ~~\n",
    "    i \\in N, \\\\ & ~~\n",
    "    \\sum_{i \\in N} \\left( w_{ki}^{\\text{L}-} + w_{ki}^{\\text{U}-} \\right) = 2, ~~\n",
    "    \\sum_{i \\in N} \\left( w_{ki}^{\\text{L}+} + w_{ki}^{\\text{U}+} \\right) = 2, \\\\ & ~~\n",
    "    w_{ki}^{\\text{U}+} \\geq w_{ki}^{\\text{L}+} \\geq \\varepsilon, ~~ i \\in N\n",
    "\\end{align*}\n",
    "$$\n",
    "\n",
    "$W_k^- = \\emptyset$ として考える"
   ]
  },
  {
   "attachments": {},
   "cell_type": "markdown",
   "id": "855aed4e",
   "metadata": {},
   "source": [
    "$$\n",
    "t_k^{\\text{L}+} = \\left( \\min_{i \\in N} \\left( \\sum_{j \\in N \\backslash \\{i\\}} w_{kj}^{\\text{U}+} + w_{ki}^{\\text{L}+} \\right) \\right)^{-1}, ~~\n",
    "t_k^{\\text{U}+} = \\left( \\max_{i \\in N} \\left( \\sum_{j \\in N \\backslash \\{i\\}} w_{kj}^{\\text{L}+} + w_{ki}^{\\text{U}+} \\right) \\right)^{-1}\n",
    "$$"
   ]
  },
  {
   "attachments": {},
   "cell_type": "markdown",
   "id": "e7a0f536",
   "metadata": {},
   "source": [
    "上・下近似を求めるLP  \n",
    "これを各 $k \\in M$ について解く\n",
    "\n",
    "$$\n",
    "\\begin{align*}\n",
    "    \\text{minimize} ~~ & ~~\n",
    "    \\sum_{i \\in N} \\left( w_{ki}^{\\text{L}-} - w_{ki}^{\\text{L}+} + w_{ki}^{\\text{U}+} - w_{ki}^{\\text{U}-} \\right), \\\\\n",
    "    \\text{subject to} ~~ & ~~\n",
    "    \\frac{w_{ki}^{\\text{L}+}}{w_{kj}^{\\text{U}+}} \\leq a_{kij}^\\text{L} \\leq \\frac{w_{ki}^{\\text{L}-}}{w_{kj}^{\\text{U}-}}, ~~\n",
    "    \\frac{w_{ki}^{\\text{U}-}}{w_{kj}^{\\text{L}-}} \\leq a_{kij}^\\text{U} \\leq \\frac{w_{ki}^{\\text{U}+}}{w_{kj}^{\\text{L}+}}, ~~\n",
    "    i, j \\in N, \\\\ & ~~\n",
    "    \\sum_{j \\in N \\backslash \\{i\\}} w_{kj}^{\\text{U}-} + w_{ki}^{\\text{L}-} \\geq 1, ~~\n",
    "    \\sum_{j \\in N \\backslash \\{i\\}} w_{kj}^{\\text{L}-} + w_{ki}^{\\text{U}-} \\leq 1, ~~\n",
    "    i \\in N, \\\\ & ~~\n",
    "    \\sum_{j \\in N \\backslash \\{i\\}} w_{kj}^{\\text{U}+} + w_{ki}^{\\text{L}+} \\geq 1, ~~\n",
    "    \\sum_{j \\in N \\backslash \\{i\\}} w_{kj}^{\\text{L}+} + w_{ki}^{\\text{U}+} \\leq 1, ~~\n",
    "    i \\in N, \\\\ & ~~\n",
    "    \\sum_{i \\in N} \\left( w_{ki}^{\\text{L}+} + w_{ki}^{\\text{U}+} \\right) = 2, \\\\ & ~~\n",
    "    w_{ki}^{\\text{U}+} \\geq w_{ki}^{\\text{U}-} \\geq w_{ki}^{\\text{L}-} \\geq w_{ki}^{\\text{L}+} \\geq \\varepsilon, ~~ i \\in N\n",
    "\\end{align*}\n",
    "$$"
   ]
  },
  {
   "cell_type": "markdown",
   "id": "dc7043c7",
   "metadata": {},
   "source": [
    "$$\n",
    "t_k^{\\text{L}-} = \\left( \\min_{i \\in N} \\left( \\sum_{j \\in N \\backslash \\{i\\}} w_{kj}^{\\text{U}-} + w_{ki}^{\\text{L}-} \\right) \\right)^{-1}, ~~\n",
    "t_k^{\\text{U}-} = \\left( \\max_{i \\in N} \\left( \\sum_{j \\in N \\backslash \\{i\\}} w_{kj}^{\\text{L}-} + w_{ki}^{\\text{U}-} \\right) \\right)^{-1}, \\\\\n",
    "t_k^{\\text{L}+} = \\left( \\min_{i \\in N} \\left( \\sum_{j \\in N \\backslash \\{i\\}} w_{kj}^{\\text{U}+} + w_{ki}^{\\text{L}+} \\right) \\right)^{-1}, ~~\n",
    "t_k^{\\text{U}+} = \\left( \\max_{i \\in N} \\left( \\sum_{j \\in N \\backslash \\{i\\}} w_{kj}^{\\text{L}+} + w_{ki}^{\\text{U}+} \\right) \\right)^{-1}\n",
    "$$"
   ]
  },
  {
   "attachments": {},
   "cell_type": "markdown",
   "id": "c293054f",
   "metadata": {},
   "source": [
    "次のLPを解いて重要度を結合する  \n",
    "下近似が存在する $k \\in M$ の集合を $M^{'} = \\left\\{ k \\in M ~~ | ~~ W_k^- \\not= \\emptyset \\right\\}$ とする\n",
    "$$\n",
    "\\begin{align*}\n",
    "    \\text{minimize} ~~ & ~~\n",
    "    \\sum_{i \\in N} \\left( \\varepsilon_i^\\text{L} + \\varepsilon_i^\\text{U} \\right), \\\\\n",
    "    \\text{subject to} ~~ & ~~\n",
    "    t_k^+ w_{ki}^{\\text{L}+} - \\varepsilon_i^\\text{L} \\leq w_i^\\text{L}, ~~\n",
    "    i \\in N, ~~ k \\in M, \\\\ & ~~\n",
    "    w_i^\\text{L} \\leq t_k^- w_{ki}^{\\text{L}-} + \\varepsilon_i^\\text{L}, ~~\n",
    "    i \\in N, ~~ k \\in M^{'}, \\\\ & ~~\n",
    "    t_k^- w_{ki}^{\\text{U}-} - \\varepsilon_i^\\text{U} \\leq w_i^\\text{U}, ~~\n",
    "    i \\in N, ~~ k \\in M^{'}, \\\\ & ~~\n",
    "    w_i^\\text{U} \\leq t_k^+ w_{ki}^{\\text{U}+} + \\varepsilon_i^\\text{U}, ~~\n",
    "    i \\in N, ~~ k \\in M, \\\\ & ~~\n",
    "    \\varepsilon_i^\\text{L} \\geq v_i^{\\text{L}+} - v_i^{\\text{L}-}, ~~\n",
    "    \\varepsilon_i^\\text{U} \\geq v_i^{\\text{U}-} - v_i^{\\text{U}+}, ~~\n",
    "    i \\in N, ~~ k \\in M, \\\\ & ~~\n",
    "    v_i^{\\text{L}-} \\leq t_k^- w_{ki}^{\\text{L}-}, ~~\n",
    "    v_i^{\\text{U}-} \\geq t_k^- w_{ki}^{\\text{U}-}, ~~\n",
    "    i \\in N, ~~ k \\in M^{'}, \\\\ & ~~\n",
    "    v_i^{\\text{L}+} \\geq t_k^+ w_{ki}^{\\text{L}+}, ~~\n",
    "    v_i^{\\text{U}+} \\leq t_k^+ w_{ki}^{\\text{U}+}, ~~\n",
    "    i \\in N, ~~ k \\in M, \\\\ & ~~\n",
    "    \\sum_{j \\in N \\backslash \\{i\\}} w_j^\\text{U} + w_i^\\text{L} \\geq 1, ~~\n",
    "    \\sum_{j \\in N \\backslash \\{i\\}} w_j^\\text{L} + w_i^\\text{U} \\leq 1, ~~\n",
    "    i \\in N, \\\\ & ~~\n",
    "     \\sum_{i \\in N} \\left(  w_i^\\text{L} +  w_i^\\text{U} \\right) = 2, \\\\ & ~~\n",
    "    t_k^{\\text{L}-} \\leq t_k^- \\leq t_k^{\\text{U}-}, ~~\n",
    "    k \\in M^{'}, \\\\ & ~~\n",
    "    t_k^{\\text{L}+} \\leq t_k^+ \\leq t_k^{\\text{U}+}, ~~\n",
    "    k \\in M, \\\\ & ~~\n",
    "    w_i^\\text{U} \\geq w_i^\\text{L} \\geq \\varepsilon, ~~\n",
    "    v_i^{\\text{L}-}, v_i^{\\text{U}-}, v_i^{\\text{L}+}, v_i^{\\text{U}+}, \\varepsilon_i^\\text{L}, \\varepsilon_i^\\text{U} \\geq 0, ~~\n",
    "    i \\in N\n",
    "\\end{align*}\n",
    "$$"
   ]
  },
  {
   "attachments": {},
   "cell_type": "markdown",
   "id": "2a0125ae",
   "metadata": {},
   "source": [
    "$A$ とLPの最適解から $\\hat{A} = \\left( \\left( \\hat{a}_{ij}^{\\text{L}-}, \\hat{a}_{ij}^{\\text{U}-} \\right), \\left( \\hat{a}_{ij}^{\\text{L}+}, \\hat{a}_{ij}^{\\text{U}+} \\right) \\right)_{n \\times n}$ を求める\n",
    "\n",
    "$$\n",
    "    \\begin{align*}\n",
    "    \\hat{a}_{ij}^{\\text{L}-} & = \\max\\left( \\frac{v_i^{\\text{L}+}}{w_j^\\text{U}}, \\frac{w_i^\\text{L}}{v_j^{\\text{U}+}} \\right), ~~\n",
    "    i, j \\in N, ~~ i \\not= j, \\\\\n",
    "    \\hat{a}_{ij}^{\\text{U}-} & = \\min\\left( \\frac{v_i^{\\text{U}+}}{w_j^\\text{L}}, \\frac{w_i^\\text{U}}{v_j^{\\text{L}+}} \\right), ~~\n",
    "    i, j \\in N, ~~ i \\not= j, \\\\\n",
    "    \\hat{a}_{ij}^{\\text{L}+} & = \\min\\left( \\frac{v_i^{\\text{L}-}}{w_j^\\text{U}}, \\frac{w_i^\\text{L}}{v_j^{\\text{U}-}} \\right), ~~\n",
    "    i, j \\in N, ~~ i \\not= j, \\\\\n",
    "    \\hat{a}_{ij}^{\\text{U}+} & = \\max\\left( \\frac{v_i^{\\text{U}-}}{w_j^\\text{L}}, \\frac{w_i^\\text{U}}{v_j^{\\text{L}-}} \\right), ~~\n",
    "    i, j \\in N, ~~ i \\not= j\n",
    "\\end{align*}\n",
    "$$"
   ]
  },
  {
   "cell_type": "code",
   "execution_count": 15,
   "id": "acd086ce-742a-4493-a331-7abe3296c70d",
   "metadata": {},
   "outputs": [],
   "source": [
    "using IntervalArithmetic\n",
    "using LaTeXStrings"
   ]
  },
  {
   "cell_type": "code",
   "execution_count": 16,
   "id": "6ae45f35-7c99-45c9-a934-88166cfef5fb",
   "metadata": {},
   "outputs": [
    {
     "data": {
      "text/plain": [
       "intervalPCM2TwofoldIntervalPCM"
      ]
     },
     "metadata": {},
     "output_type": "display_data"
    }
   ],
   "source": [
    "include(\"./concatImportanceMethod.jl\")\n",
    "include(\"../concatMatricesMethod/concatMatricesMethod.jl\")\n",
    "include(\"../display/concatImportanceMethod.jl\")\n",
    "include(\"../display/interval.jl\")\n",
    "include(\"../display/twofoldInterval.jl\")\n",
    "include(\"../twofoldIntervalPCM/twofoldIntervalPCM.jl\")"
   ]
  },
  {
   "cell_type": "code",
   "execution_count": 17,
   "id": "f6600aef-528e-4336-9695-9b6123a05033",
   "metadata": {},
   "outputs": [],
   "source": [
    "A₁ = [\n",
    "    1..1 2.7..3.2 (1/3.3)..(1/3)\n",
    "    (1/3.2)..(1/2.7) 1..1 (1/10)..(1/9.7)\n",
    "    3..3.3 9.7..10 1..1\n",
    "]\n",
    "A₂ = [\n",
    "    1..1 2.2..2.8 (1/4)..(1/2.8)\n",
    "    (1/2.8)..(1/2.2) 1..1 (1/9.8)..(1/9.7)\n",
    "    2.8..4 9.7..9.8 1..1\n",
    "]\n",
    "\n",
    "print()"
   ]
  },
  {
   "cell_type": "code",
   "execution_count": 18,
   "id": "3a53ce86",
   "metadata": {},
   "outputs": [
    {
     "data": {
      "text/plain": [
       "0.0"
      ]
     },
     "metadata": {},
     "output_type": "display_data"
    },
    {
     "data": {
      "text/plain": [
       "0.0"
      ]
     },
     "metadata": {},
     "output_type": "display_data"
    }
   ],
   "source": [
    "display(solveConcatImportanceMethodFeasibilityCheckLP(A₁))\n",
    "display(solveConcatImportanceMethodFeasibilityCheckLP(A₂))"
   ]
  },
  {
   "cell_type": "code",
   "execution_count": 19,
   "id": "180ce015",
   "metadata": {},
   "outputs": [
    {
     "data": {
      "text/latex": [
       "$    w_{1}^{\\text{L}-} = \\begin{bmatrix} 0.23  \\\\  0.072  \\\\  0.698 \\end{bmatrix}, ~~\n",
       "    w_{1}^{\\text{U}-} = \\begin{bmatrix} 0.23  \\\\  0.072  \\\\  0.698 \\end{bmatrix}, ~~\n",
       "    w_{1}^{\\text{L}+} = \\begin{bmatrix} 0.214  \\\\  0.071  \\\\  0.697 \\end{bmatrix}, ~~\n",
       "    w_{1}^{\\text{U}+} = \\begin{bmatrix} 0.232  \\\\  0.079  \\\\  0.707 \\end{bmatrix}\n",
       "$"
      ],
      "text/plain": [
       "L\"$    w_{1}^{\\text{L}-} = \\begin{bmatrix} 0.23  \\\\  0.072  \\\\  0.698 \\end{bmatrix}, ~~\n",
       "    w_{1}^{\\text{U}-} = \\begin{bmatrix} 0.23  \\\\  0.072  \\\\  0.698 \\end{bmatrix}, ~~\n",
       "    w_{1}^{\\text{L}+} = \\begin{bmatrix} 0.214  \\\\  0.071  \\\\  0.697 \\end{bmatrix}, ~~\n",
       "    w_{1}^{\\text{U}+} = \\begin{bmatrix} 0.232  \\\\  0.079  \\\\  0.707 \\end{bmatrix}\n",
       "$\""
      ]
     },
     "metadata": {},
     "output_type": "display_data"
    },
    {
     "data": {
      "text/latex": [
       "$    w_{2}^{\\text{L}-} = \\begin{bmatrix} 0.199  \\\\  0.075  \\\\  0.726 \\end{bmatrix}, ~~\n",
       "    w_{2}^{\\text{U}-} = \\begin{bmatrix} 0.199  \\\\  0.075  \\\\  0.726 \\end{bmatrix}, ~~\n",
       "    w_{2}^{\\text{L}+} = \\begin{bmatrix} 0.183  \\\\  0.075  \\\\  0.682 \\end{bmatrix}, ~~\n",
       "    w_{2}^{\\text{U}+} = \\begin{bmatrix} 0.243  \\\\  0.083  \\\\  0.733 \\end{bmatrix}\n",
       "$"
      ],
      "text/plain": [
       "L\"$    w_{2}^{\\text{L}-} = \\begin{bmatrix} 0.199  \\\\  0.075  \\\\  0.726 \\end{bmatrix}, ~~\n",
       "    w_{2}^{\\text{U}-} = \\begin{bmatrix} 0.199  \\\\  0.075  \\\\  0.726 \\end{bmatrix}, ~~\n",
       "    w_{2}^{\\text{L}+} = \\begin{bmatrix} 0.183  \\\\  0.075  \\\\  0.682 \\end{bmatrix}, ~~\n",
       "    w_{2}^{\\text{U}+} = \\begin{bmatrix} 0.243  \\\\  0.083  \\\\  0.733 \\end{bmatrix}\n",
       "$\""
      ]
     },
     "metadata": {},
     "output_type": "display_data"
    }
   ],
   "source": [
    "result1 = solveConcatImportanceMethodApproximationLP(A₁)\n",
    "result2 = solveConcatImportanceMethodApproximationLP(A₂)\n",
    "\n",
    "displayConcatImportanceMethodApproximationLPResults([result1, result2])"
   ]
  },
  {
   "cell_type": "code",
   "execution_count": 20,
   "id": "1e0a58e1",
   "metadata": {},
   "outputs": [
    {
     "data": {
      "text/latex": [
       "$    t_{1}^{\\text{L}-} = 1.0, ~~\n",
       "    t_{1}^{\\text{U}-} = 1.0, ~~\n",
       "    t_{1}^{\\text{L}+} = 1.0, ~~\n",
       "    t_{1}^{\\text{U}+} = 1.0\n",
       "$"
      ],
      "text/plain": [
       "L\"$    t_{1}^{\\text{L}-} = 1.0, ~~\n",
       "    t_{1}^{\\text{U}-} = 1.0, ~~\n",
       "    t_{1}^{\\text{L}+} = 1.0, ~~\n",
       "    t_{1}^{\\text{U}+} = 1.0\n",
       "$\""
      ]
     },
     "metadata": {},
     "output_type": "display_data"
    },
    {
     "data": {
      "text/latex": [
       "$    t_{2}^{\\text{L}-} = 1.0, ~~\n",
       "    t_{2}^{\\text{U}-} = 1.0, ~~\n",
       "    t_{2}^{\\text{L}+} = 1.0, ~~\n",
       "    t_{2}^{\\text{U}+} = 1.0\n",
       "$"
      ],
      "text/plain": [
       "L\"$    t_{2}^{\\text{L}-} = 1.0, ~~\n",
       "    t_{2}^{\\text{U}-} = 1.0, ~~\n",
       "    t_{2}^{\\text{L}+} = 1.0, ~~\n",
       "    t_{2}^{\\text{U}+} = 1.0\n",
       "$\""
      ]
     },
     "metadata": {},
     "output_type": "display_data"
    }
   ],
   "source": [
    "tBoundaries1 = calculateConcatImportanceMethodTBoundaries(result1)\n",
    "tBoundaries2 = calculateConcatImportanceMethodTBoundaries(result2)\n",
    "\n",
    "displayConcatImportanceMethodTBoundaries([tBoundaries1, tBoundaries2])"
   ]
  },
  {
   "cell_type": "code",
   "execution_count": 21,
   "id": "d426f37d",
   "metadata": {},
   "outputs": [
    {
     "data": {
      "text/latex": [
       "$t^- = \\begin{bmatrix} 1.0  \\\\  1.0 \\end{bmatrix}, ~~\n",
       "t^+ = \\begin{bmatrix} 1.0  \\\\  1.0 \\end{bmatrix}\n",
       "$"
      ],
      "text/plain": [
       "L\"$t^- = \\begin{bmatrix} 1.0  \\\\  1.0 \\end{bmatrix}, ~~\n",
       "t^+ = \\begin{bmatrix} 1.0  \\\\  1.0 \\end{bmatrix}\n",
       "$\""
      ]
     },
     "metadata": {},
     "output_type": "display_data"
    },
    {
     "data": {
      "text/latex": [
       "$W = \\begin{bmatrix}\\left[ 0.214, 0.23 \\right] \\\\ \\left[ 0.073, 0.079 \\right] \\\\ \\left[ 0.697, 0.707 \\right]\\end{bmatrix}$"
      ],
      "text/plain": [
       "L\"$W = \\begin{bmatrix}\\left[ 0.214, 0.23 \\right] \\\\ \\left[ 0.073, 0.079 \\right] \\\\ \\left[ 0.697, 0.707 \\right]\\end{bmatrix}$\""
      ]
     },
     "metadata": {},
     "output_type": "display_data"
    },
    {
     "data": {
      "text/latex": [
       "$v^{\\text{L}-} = \\begin{bmatrix} 0.199  \\\\  0.072  \\\\  0.698 \\end{bmatrix}, ~~\n",
       "v^{\\text{U}-} = \\begin{bmatrix} 0.23  \\\\  0.075  \\\\  0.726 \\end{bmatrix}, ~~\n",
       "v^{\\text{L}+} = \\begin{bmatrix} 0.214  \\\\  0.075  \\\\  0.697 \\end{bmatrix}, ~~\n",
       "v^{\\text{U}+} = \\begin{bmatrix} 0.214  \\\\  0.075  \\\\  0.697 \\end{bmatrix}\n",
       "$"
      ],
      "text/plain": [
       "L\"$v^{\\text{L}-} = \\begin{bmatrix} 0.199  \\\\  0.072  \\\\  0.698 \\end{bmatrix}, ~~\n",
       "v^{\\text{U}-} = \\begin{bmatrix} 0.23  \\\\  0.075  \\\\  0.726 \\end{bmatrix}, ~~\n",
       "v^{\\text{L}+} = \\begin{bmatrix} 0.214  \\\\  0.075  \\\\  0.697 \\end{bmatrix}, ~~\n",
       "v^{\\text{U}+} = \\begin{bmatrix} 0.214  \\\\  0.075  \\\\  0.697 \\end{bmatrix}\n",
       "$\""
      ]
     },
     "metadata": {},
     "output_type": "display_data"
    },
    {
     "data": {
      "text/latex": [
       "$\\varepsilon^\\text{L} = \\begin{bmatrix} 0.015  \\\\  0.003  \\\\  0.0 \\end{bmatrix}, ~~\n",
       "\\varepsilon^\\text{U} = \\begin{bmatrix} 0.0  \\\\  0.0  \\\\  0.019 \\end{bmatrix}\n",
       "$"
      ],
      "text/plain": [
       "L\"$\\varepsilon^\\text{L} = \\begin{bmatrix} 0.015  \\\\  0.003  \\\\  0.0 \\end{bmatrix}, ~~\n",
       "\\varepsilon^\\text{U} = \\begin{bmatrix} 0.0  \\\\  0.0  \\\\  0.019 \\end{bmatrix}\n",
       "$\""
      ]
     },
     "metadata": {},
     "output_type": "display_data"
    }
   ],
   "source": [
    "result = solveConcatImportanceMethodConcatLP([result1, result2], [tBoundaries1, tBoundaries2])\n",
    "\n",
    "displayConcatImportanceMethodConcatLPResult(result)"
   ]
  },
  {
   "cell_type": "code",
   "execution_count": 22,
   "id": "8e9496cd",
   "metadata": {},
   "outputs": [
    {
     "data": {
      "text/latex": [
       "$\\hat{A} = \\begin{bmatrix} \\left[   1.0, \\left[   1.0,   1.0 \\right],   1.0 \\right] & \\left[ 2.513, \\left[ 2.861, 3.077 \\right],   3.2 \\right] & \\left[ 0.282, \\left[ 0.303,  0.33 \\right],  0.33 \\right] \\\\ \\left[ 0.312, \\left[ 0.325, 0.349 \\right], 0.398 \\right] & \\left[   1.0, \\left[   1.0,   1.0 \\right],   1.0 \\right] & \\left[ 0.102, \\left[ 0.106, 0.107 \\right], 0.114 \\right] \\\\ \\left[ 3.028, \\left[ 3.031,   3.3 \\right], 3.545 \\right] & \\left[ 8.789, \\left[ 9.315, 9.443 \\right], 9.842 \\right] & \\left[   1.0, \\left[   1.0,   1.0 \\right],   1.0 \\right] \\end{bmatrix}$"
      ],
      "text/plain": [
       "\"\\$\\\\hat{A} = \\\\begin{bmatrix} \\\\left[   1.0, \\\\left[   1.0,   1.0 \\\\right],   1.0 \\\\right] & \\\\left[ 2.513, \\\\left[ 2.861, 3.077 \\\\right],   3.2 \\\\right] & \\\\left[ 0.282, \\\\left[ 0.303,  0.33 \\\\right],  0.33 \\\\right] \\\\\\\\ \\\\left[ 0.312, \\\\left[ 0.325, 0.349 \\\\right], 0.398 \\\\right] & \\\\left[ \" ⋯ 30 bytes ⋯ \"ght],   1.0 \\\\right] & \\\\left[ 0.102, \\\\left[ 0.106, 0.107 \\\\right], 0.114 \\\\right] \\\\\\\\ \\\\left[ 3.028, \\\\left[ 3.031,   3.3 \\\\right], 3.545 \\\\right] & \\\\left[ 8.789, \\\\left[ 9.315, 9.443 \\\\right], 9.842 \\\\right] & \\\\left[   1.0, \\\\left[   1.0,   1.0 \\\\right],   1.0 \\\\right] \\\\end{bmatrix}\\$\""
      ]
     },
     "metadata": {},
     "output_type": "display_data"
    }
   ],
   "source": [
    "Â = generateConcatImportanceMethodPCM(result)\n",
    "display(L\"\\hat{A} = %$(twofoldIntervalMatrixLaTeXString(Â))\")"
   ]
  },
  {
   "cell_type": "code",
   "execution_count": 23,
   "id": "4c1154ae-9638-4b6f-8f36-a79b99e7d684",
   "metadata": {},
   "outputs": [],
   "source": [
    "A₁ = [\n",
    "    1..1 (1/5.5)..(1/4.8) 2.7..3.3 1.5..2.1\n",
    "    4.8..5.5 1..1 6.8..7.6 0.8..1.1\n",
    "    (1/3.3)..(1/2.7) (1/7.6)..(1/6.8) 1..1 (1/3.4)..(1/3)\n",
    "    (1/2.1)..(1/1.5) (1/1.1)..(1/0.8) 3..3.4 1..1\n",
    "]\n",
    "A₂ = [\n",
    "    1..1 (1/5.5)..(1/5.1) 2.7..2.9 1.5..2\n",
    "    5.1..5.5 1..1 6.9..7.2 0.9..1.3\n",
    "    (1/2.9)..(1/2.7) (1/7.2)..(1/6.9) 1..1 (1/3.4)..(1/3)\n",
    "    (1/2)..(1/1.5) (1/1.3)..(1/0.9) 3..3.4 1..1\n",
    "]\n",
    "\n",
    "print()"
   ]
  },
  {
   "cell_type": "code",
   "execution_count": 24,
   "id": "3a97c423",
   "metadata": {},
   "outputs": [
    {
     "data": {
      "text/plain": [
       "0.9343078195779169"
      ]
     },
     "metadata": {},
     "output_type": "display_data"
    },
    {
     "data": {
      "text/plain": [
       "0.8292445153441454"
      ]
     },
     "metadata": {},
     "output_type": "display_data"
    }
   ],
   "source": [
    "display(solveConcatImportanceMethodFeasibilityCheckLP(A₁))\n",
    "display(solveConcatImportanceMethodFeasibilityCheckLP(A₂))"
   ]
  },
  {
   "cell_type": "code",
   "execution_count": 25,
   "id": "47be66fe-0cf5-4d78-a24f-73f7fb932cc8",
   "metadata": {},
   "outputs": [
    {
     "data": {
      "text/latex": [
       "$    w_{1}^{\\text{L}+} = \\begin{bmatrix} 0.071  \\\\  0.39  \\\\  0.051  \\\\  0.178 \\end{bmatrix}, ~~\n",
       "    w_{1}^{\\text{U}+} = \\begin{bmatrix} 0.373  \\\\  0.39  \\\\  0.059  \\\\  0.488 \\end{bmatrix}\n",
       "$"
      ],
      "text/plain": [
       "L\"$    w_{1}^{\\text{L}+} = \\begin{bmatrix} 0.071  \\\\  0.39  \\\\  0.051  \\\\  0.178 \\end{bmatrix}, ~~\n",
       "    w_{1}^{\\text{U}+} = \\begin{bmatrix} 0.373  \\\\  0.39  \\\\  0.059  \\\\  0.488 \\end{bmatrix}\n",
       "$\""
      ]
     },
     "metadata": {},
     "output_type": "display_data"
    },
    {
     "data": {
      "text/latex": [
       "$    w_{2}^{\\text{L}+} = \\begin{bmatrix} 0.075  \\\\  0.411  \\\\  0.057  \\\\  0.176 \\end{bmatrix}, ~~\n",
       "    w_{2}^{\\text{U}+} = \\begin{bmatrix} 0.353  \\\\  0.411  \\\\  0.06  \\\\  0.457 \\end{bmatrix}\n",
       "$"
      ],
      "text/plain": [
       "L\"$    w_{2}^{\\text{L}+} = \\begin{bmatrix} 0.075  \\\\  0.411  \\\\  0.057  \\\\  0.176 \\end{bmatrix}, ~~\n",
       "    w_{2}^{\\text{U}+} = \\begin{bmatrix} 0.353  \\\\  0.411  \\\\  0.06  \\\\  0.457 \\end{bmatrix}\n",
       "$\""
      ]
     },
     "metadata": {},
     "output_type": "display_data"
    }
   ],
   "source": [
    "result1 = solveConcatImportanceMethodApproximationLP(A₁)\n",
    "result2 = solveConcatImportanceMethodApproximationLP(A₂)\n",
    "\n",
    "displayConcatImportanceMethodApproximationLPResults([result1, result2])"
   ]
  },
  {
   "cell_type": "code",
   "execution_count": 26,
   "id": "f860fb33-ae44-4a5f-b5b7-48b601c4993f",
   "metadata": {},
   "outputs": [
    {
     "data": {
      "text/latex": [
       "$    t_{1}^{\\text{L}+} = 1.0, ~~\n",
       "    t_{1}^{\\text{U}+} = 1.0\n",
       "$"
      ],
      "text/plain": [
       "L\"$    t_{1}^{\\text{L}+} = 1.0, ~~\n",
       "    t_{1}^{\\text{U}+} = 1.0\n",
       "$\""
      ]
     },
     "metadata": {},
     "output_type": "display_data"
    },
    {
     "data": {
      "text/latex": [
       "$    t_{2}^{\\text{L}+} = 1.0, ~~\n",
       "    t_{2}^{\\text{U}+} = 1.0\n",
       "$"
      ],
      "text/plain": [
       "L\"$    t_{2}^{\\text{L}+} = 1.0, ~~\n",
       "    t_{2}^{\\text{U}+} = 1.0\n",
       "$\""
      ]
     },
     "metadata": {},
     "output_type": "display_data"
    }
   ],
   "source": [
    "tBoundaries1 = calculateConcatImportanceMethodTBoundaries(result1)\n",
    "tBoundaries2 = calculateConcatImportanceMethodTBoundaries(result2)\n",
    "\n",
    "displayConcatImportanceMethodTBoundaries([tBoundaries1, tBoundaries2])"
   ]
  },
  {
   "cell_type": "code",
   "execution_count": 27,
   "id": "742e2551",
   "metadata": {},
   "outputs": [
    {
     "data": {
      "text/latex": [
       "$t^- = \\begin{bmatrix} 0.0  \\\\  0.0 \\end{bmatrix}, ~~\n",
       "t^+ = \\begin{bmatrix} 1.051  \\\\  0.998 \\end{bmatrix}\n",
       "$"
      ],
      "text/plain": [
       "L\"$t^- = \\begin{bmatrix} 0.0  \\\\  0.0 \\end{bmatrix}, ~~\n",
       "t^+ = \\begin{bmatrix} 1.051  \\\\  0.998 \\end{bmatrix}\n",
       "$\""
      ]
     },
     "metadata": {},
     "output_type": "display_data"
    },
    {
     "data": {
      "text/latex": [
       "$W = \\begin{bmatrix}\\left[ 0.075, 0.077 \\right] \\\\ \\left[ 0.41, 0.41 \\right] \\\\ \\left[ 0.057, 0.059 \\right] \\\\ \\left[ 0.456, 0.456 \\right]\\end{bmatrix}$"
      ],
      "text/plain": [
       "L\"$W = \\begin{bmatrix}\\left[ 0.075, 0.077 \\right] \\\\ \\left[ 0.41, 0.41 \\right] \\\\ \\left[ 0.057, 0.059 \\right] \\\\ \\left[ 0.456, 0.456 \\right]\\end{bmatrix}$\""
      ]
     },
     "metadata": {},
     "output_type": "display_data"
    },
    {
     "data": {
      "text/latex": [
       "$v^{\\text{L}-} = \\begin{bmatrix} 0.075  \\\\  0.41  \\\\  0.057  \\\\  0.187 \\end{bmatrix}, ~~\n",
       "v^{\\text{U}-} = \\begin{bmatrix} 0.0  \\\\  0.0  \\\\  0.0  \\\\  0.0 \\end{bmatrix}, ~~\n",
       "v^{\\text{L}+} = \\begin{bmatrix} 0.075  \\\\  0.41  \\\\  0.057  \\\\  0.187 \\end{bmatrix}, ~~\n",
       "v^{\\text{U}+} = \\begin{bmatrix} 0.075  \\\\  0.41  \\\\  0.057  \\\\  0.187 \\end{bmatrix}\n",
       "$"
      ],
      "text/plain": [
       "L\"$v^{\\text{L}-} = \\begin{bmatrix} 0.075  \\\\  0.41  \\\\  0.057  \\\\  0.187 \\end{bmatrix}, ~~\n",
       "v^{\\text{U}-} = \\begin{bmatrix} 0.0  \\\\  0.0  \\\\  0.0  \\\\  0.0 \\end{bmatrix}, ~~\n",
       "v^{\\text{L}+} = \\begin{bmatrix} 0.075  \\\\  0.41  \\\\  0.057  \\\\  0.187 \\end{bmatrix}, ~~\n",
       "v^{\\text{U}+} = \\begin{bmatrix} 0.075  \\\\  0.41  \\\\  0.057  \\\\  0.187 \\end{bmatrix}\n",
       "$\""
      ]
     },
     "metadata": {},
     "output_type": "display_data"
    },
    {
     "data": {
      "text/latex": [
       "$\\varepsilon^\\text{L} = \\begin{bmatrix} 0.0  \\\\  0.0  \\\\  0.0  \\\\  0.0 \\end{bmatrix}, ~~\n",
       "\\varepsilon^\\text{U} = \\begin{bmatrix} 0.0  \\\\  0.0  \\\\  0.0  \\\\  0.0 \\end{bmatrix}\n",
       "$"
      ],
      "text/plain": [
       "L\"$\\varepsilon^\\text{L} = \\begin{bmatrix} 0.0  \\\\  0.0  \\\\  0.0  \\\\  0.0 \\end{bmatrix}, ~~\n",
       "\\varepsilon^\\text{U} = \\begin{bmatrix} 0.0  \\\\  0.0  \\\\  0.0  \\\\  0.0 \\end{bmatrix}\n",
       "$\""
      ]
     },
     "metadata": {},
     "output_type": "display_data"
    }
   ],
   "source": [
    "result = solveConcatImportanceMethodConcatLP([result1, result2], [tBoundaries1, tBoundaries2])\n",
    "\n",
    "displayConcatImportanceMethodConcatLPResult(result)"
   ]
  },
  {
   "cell_type": "code",
   "execution_count": 28,
   "id": "801c8a8c",
   "metadata": {},
   "outputs": [
    {
     "data": {
      "text/latex": [
       "$\\hat{A} = \\begin{bmatrix} \\left[   1.0, \\left[   1.0,   1.0 \\right],   1.0 \\right] & \\left[ 0.182, \\emptyset, 0.188 \\right] & \\left[ 1.255, \\emptyset, 1.353 \\right] & \\left[ 0.164, \\emptyset, 0.413 \\right] \\\\ \\left[ 5.323, \\emptyset,   5.5 \\right] & \\left[   1.0, \\left[   1.0,   1.0 \\right],   1.0 \\right] & \\left[   6.9, \\emptyset,   7.2 \\right] & \\left[   0.9, \\emptyset, 2.196 \\right] \\\\ \\left[ 0.739, \\emptyset, 0.797 \\right] & \\left[ 0.139, \\emptyset, 0.145 \\right] & \\left[   1.0, \\left[   1.0,   1.0 \\right],   1.0 \\right] & \\left[ 0.125, \\emptyset, 0.318 \\right] \\\\ \\left[ 2.424, \\emptyset, 6.111 \\right] & \\left[ 0.455, \\emptyset, 1.111 \\right] & \\left[ 3.142, \\emptyset,   8.0 \\right] & \\left[   1.0, \\left[   1.0,   1.0 \\right],   1.0 \\right] \\end{bmatrix}$"
      ],
      "text/plain": [
       "\"\\$\\\\hat{A} = \\\\begin{bmatrix} \\\\left[   1.0, \\\\left[   1.0,   1.0 \\\\right],   1.0 \\\\right] & \\\\left[ 0.182, \\\\emptyset, 0.188 \\\\right] & \\\\left[ 1.255, \\\\emptyset, 1.353 \\\\right] & \\\\left[ 0.164, \\\\emptyset, 0.413 \\\\right] \\\\\\\\ \\\\left[ 5.323, \\\\emptyset,   5.5 \\\\right] & \\\\left[   1.0, \\\\left[\" ⋯ 229 bytes ⋯ \"0,   1.0 \\\\right],   1.0 \\\\right] & \\\\left[ 0.125, \\\\emptyset, 0.318 \\\\right] \\\\\\\\ \\\\left[ 2.424, \\\\emptyset, 6.111 \\\\right] & \\\\left[ 0.455, \\\\emptyset, 1.111 \\\\right] & \\\\left[ 3.142, \\\\emptyset,   8.0 \\\\right] & \\\\left[   1.0, \\\\left[   1.0,   1.0 \\\\right],   1.0 \\\\right] \\\\end{bmatrix}\\$\""
      ]
     },
     "metadata": {},
     "output_type": "display_data"
    }
   ],
   "source": [
    "Â = generateConcatImportanceMethodPCM(result)\n",
    "display(L\"\\hat{A} = %$(twofoldIntervalMatrixLaTeXString(Â))\")"
   ]
  }
 ],
 "metadata": {
  "kernelspec": {
   "display_name": "Julia 1.8.3",
   "language": "julia",
   "name": "julia-1.8"
  },
  "language_info": {
   "file_extension": ".jl",
   "mimetype": "application/julia",
   "name": "julia",
   "version": "1.8.3"
  },
  "vscode": {
   "interpreter": {
    "hash": "d4d1e4263499bec80672ea0156c357c1ee493ec2b1c70f0acce89fc37c4a6abe"
   }
  }
 },
 "nbformat": 4,
 "nbformat_minor": 5
}
