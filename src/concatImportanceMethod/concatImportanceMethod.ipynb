{
 "cells": [
  {
   "cell_type": "markdown",
   "id": "e7a0f536",
   "metadata": {},
   "source": [
    "上・下近似を求めるLP  \n",
    "これを各 $k \\in \\{ 1, 2 \\}$ について解く\n",
    "$$\n",
    "\\begin{align*}\n",
    "    \\text{minimize} ~~ & ~~\n",
    "    \\sum_{i \\in N} \\left( w_{ki}^{\\text{L}-} - w_{ki}^{\\text{L}+} + w_{ki}^{\\text{U}+} - w_{ki}^{\\text{U}-} \\right), \\\\\n",
    "    \\text{subject to} ~~ & ~~\n",
    "    \\frac{w_{ki}^{\\text{L}+}}{w_{kj}^{\\text{U}+}} \\leq a_{kij}^\\text{L} \\leq \\frac{w_{ki}^{\\text{L}-}}{w_{kj}^{\\text{U}-}}, ~~\n",
    "    \\frac{w_{ki}^{\\text{U}-}}{w_{kj}^{\\text{L}-}} \\leq a_{kij}^\\text{U} \\leq \\frac{w_{ki}^{\\text{U}+}}{w_{kj}^{\\text{L}+}}, ~~\n",
    "    i, j \\in N, \\\\ & ~~\n",
    "    \\sum_{j \\in N \\backslash \\{i\\}} w_{kj}^{\\text{U}-} + w_{ki}^{\\text{L}-} \\geq 1, ~~\n",
    "    \\sum_{j \\in N \\backslash \\{i\\}} w_{kj}^{\\text{L}-} + w_{ki}^{\\text{U}-} \\leq 1, ~~\n",
    "    i \\in N, \\\\ & ~~\n",
    "    \\sum_{j \\in N \\backslash \\{i\\}} w_{kj}^{\\text{U}+} + w_{ki}^{\\text{L}+} \\geq 1, ~~\n",
    "    \\sum_{j \\in N \\backslash \\{i\\}} w_{kj}^{\\text{L}+} + w_{ki}^{\\text{U}+} \\leq 1, ~~\n",
    "    i \\in N, \\\\ & ~~\n",
    "    \\sum_{i \\in N} \\left( w_{ki}^{\\text{L}-} + w_{ki}^{\\text{U}-} \\right) = 2, ~~\n",
    "    \\sum_{i \\in N} \\left( w_{ki}^{\\text{L}+} + w_{ki}^{\\text{U}+} \\right) = 2, \\\\ & ~~\n",
    "    w_{ki}^{\\text{U}+} \\geq w_{ki}^{\\text{U}-} \\geq w_{ki}^{\\text{L}-} \\geq w_{ki}^{\\text{L}+} \\geq \\varepsilon, ~~ i \\in N\n",
    "\\end{align*}\n",
    "$$"
   ]
  },
  {
   "cell_type": "markdown",
   "id": "dc7043c7",
   "metadata": {},
   "source": [
    "$$\n",
    "t_k^{\\text{L}-} = \\left( \\min_{i \\in N} \\left( \\sum_{j \\in N \\backslash \\{i\\}} w_{kj}^{\\text{U}-} + w_{ki}^{\\text{L}-} \\right) \\right)^{-1}, ~~\n",
    "t_k^{\\text{U}-} = \\left( \\max_{i \\in N} \\left( \\sum_{j \\in N \\backslash \\{i\\}} w_{kj}^{\\text{L}-} + w_{ki}^{\\text{U}-} \\right) \\right)^{-1}, \\\\\n",
    "t_k^{\\text{L}+} = \\left( \\min_{i \\in N} \\left( \\sum_{j \\in N \\backslash \\{i\\}} w_{kj}^{\\text{U}+} + w_{ki}^{\\text{L}+} \\right) \\right)^{-1}, ~~\n",
    "t_k^{\\text{U}+} = \\left( \\max_{i \\in N} \\left( \\sum_{j \\in N \\backslash \\{i\\}} w_{kj}^{\\text{L}+} + w_{ki}^{\\text{U}+} \\right) \\right)^{-1}\n",
    "$$\n",
    "中心総和1とすると全て1になる．"
   ]
  },
  {
   "cell_type": "markdown",
   "id": "c293054f",
   "metadata": {},
   "source": [
    "$$\n",
    "\\begin{align*}\n",
    "    \\text{minimize} ~~ & ~~\n",
    "    \\sum_{i \\in N} \\left( \\varepsilon_i^\\text{L} + \\varepsilon_i^\\text{U} \\right), \\\\\n",
    "    \\text{subject to} ~~ & ~~\n",
    "    t_k^+ w_{ki}^{\\text{L}+} - \\varepsilon_i^\\text{L} \\leq w_i^\\text{L} \\leq t_k^- w_{ki}^{\\text{L}-} + \\varepsilon_i^\\text{L}, ~~\n",
    "    i \\in N, ~~ k \\in \\{ 1, 2 \\}, \\\\ & ~~\n",
    "    t_k^- w_{ki}^{\\text{U}-} - \\varepsilon_i^\\text{U} \\leq w_i^\\text{U} \\leq t_k^+ w_{ki}^{\\text{U}+} + \\varepsilon_i^\\text{U}, ~~\n",
    "    i \\in N, ~~ k \\in \\{ 1, 2 \\}, \\\\ & ~~\n",
    "    \\varepsilon_i^\\text{L} \\geq w_i^{\\text{L}+} - w_i^{\\text{L}-}, ~~\n",
    "    \\varepsilon_i^\\text{U} \\geq w_i^{\\text{U}-} - w_i^{\\text{U}+}, ~~\n",
    "    i \\in N, ~~ k \\in \\{ 1, 2 \\}, \\\\ & ~~\n",
    "    w_i^{\\text{L}-} \\leq t_k^- w_{ki}^{\\text{L}-}, ~~\n",
    "    w_i^{\\text{U}-} \\geq t_k^- w_{ki}^{\\text{U}-}, ~~\n",
    "    i \\in N, ~~ k \\in \\{ 1, 2 \\}, \\\\ & ~~\n",
    "    w_i^{\\text{L}+} \\geq t_k^+ w_{ki}^{\\text{L}+}, ~~\n",
    "    w_i^{\\text{U}+} \\leq t_k^+ w_{ki}^{\\text{U}+}, ~~\n",
    "    i \\in N, ~~ k \\in \\{ 1, 2 \\}, \\\\ & ~~\n",
    "    \\sum_{j \\in N \\backslash \\{i\\}} w_j^\\text{U} + w_i^\\text{L} \\geq 1, ~~\n",
    "    \\sum_{j \\in N \\backslash \\{i\\}} w_j^\\text{L} + w_i^\\text{U} \\leq 1, ~~\n",
    "    i \\in N, \\\\ & ~~\n",
    "     \\sum_{i \\in N} \\left(  w_i^\\text{L} +  w_i^\\text{U} \\right) = 2, \\\\ & ~~\n",
    "    t_k^{\\text{L}-} \\leq t_k^- \\leq t_k^{\\text{U}-}, ~~\n",
    "    t_k^{\\text{L}+} \\leq t_k^+ \\leq t_k^{\\text{U}+}, ~~\n",
    "    k \\in \\{ 1, 2 \\}, \\\\ & ~~\n",
    "    w_i^\\text{U} \\geq w_i^\\text{L} \\geq \\varepsilon, ~~\n",
    "    w_i^{\\text{L}-}, w_i^{\\text{U}-}, w_i^{\\text{L}+}, w_i^{\\text{U}+}, \\varepsilon_i^\\text{L}, \\varepsilon_i^\\text{U} \\geq 0, ~~\n",
    "    i \\in N\n",
    "\\end{align*}\n",
    "$$\n",
    "上・下近似で中心総和1とすると$t_k^- = t_k^+ = 1$"
   ]
  },
  {
   "attachments": {},
   "cell_type": "markdown",
   "id": "6ef9f619",
   "metadata": {},
   "source": [
    "$$\n",
    "\\begin{align*}\n",
    "    \\text{minimize} ~~ & ~~\n",
    "    \\sum_{i \\in N} \\left( \\varepsilon_i^\\text{L} + \\varepsilon_i^\\text{U} \\right), \\\\\n",
    "    \\text{subject to} ~~ & ~~\n",
    "    w_{ki}^{\\text{L}+} - \\varepsilon_i^\\text{L} \\leq w_i^\\text{L} \\leq w_{ki}^{\\text{L}-} + \\varepsilon_i^\\text{L}, ~~\n",
    "    i \\in N, ~~ k \\in \\{ 1, 2 \\}, \\\\ & ~~\n",
    "    w_{ki}^{\\text{U}-} - \\varepsilon_i^\\text{U} \\leq w_i^\\text{U} \\leq w_{ki}^{\\text{U}+} + \\varepsilon_i^\\text{U}, ~~\n",
    "    i \\in N, ~~ k \\in \\{ 1, 2 \\}, \\\\ & ~~\n",
    "    \\varepsilon_i^\\text{L} \\geq w_i^{\\text{L}+} - w_i^{\\text{L}-}, ~~\n",
    "    \\varepsilon_i^\\text{U} \\geq w_i^{\\text{U}-} - w_i^{\\text{U}+}, ~~\n",
    "    i \\in N, ~~ k \\in \\{ 1, 2 \\}, \\\\ & ~~\n",
    "    w_i^{\\text{L}-} \\leq w_{ki}^{\\text{L}-}, ~~\n",
    "    w_i^{\\text{U}-} \\geq w_{ki}^{\\text{U}-}, ~~\n",
    "    i \\in N, ~~ k \\in \\{ 1, 2 \\}, \\\\ & ~~\n",
    "    w_i^{\\text{L}+} \\geq w_{ki}^{\\text{L}+}, ~~\n",
    "    w_i^{\\text{U}+} \\leq w_{ki}^{\\text{U}+}, ~~\n",
    "    i \\in N, ~~ k \\in \\{ 1, 2 \\}, \\\\ & ~~\n",
    "    \\sum_{j \\in N \\backslash \\{i\\}} w_j^\\text{U} + w_i^\\text{L} \\geq 1, ~~\n",
    "    \\sum_{j \\in N \\backslash \\{i\\}} w_j^\\text{L} + w_i^\\text{U} \\leq 1, ~~\n",
    "    i \\in N, \\\\ & ~~\n",
    "    \\sum_{i \\in N} \\left(  w_i^\\text{L} +  w_i^\\text{U} \\right) = 2, \\\\ & ~~\n",
    "    w_i^\\text{U} \\geq w_i^\\text{L} \\geq \\varepsilon, ~~\n",
    "    w_i^{\\text{L}-}, w_i^{\\text{U}-}, w_i^{\\text{L}+}, w_i^{\\text{U}+}, \\varepsilon_i^\\text{L}, \\varepsilon_i^\\text{U} \\geq 0, ~~\n",
    "    i \\in N\n",
    "\\end{align*}\n",
    "$$"
   ]
  },
  {
   "cell_type": "markdown",
   "id": "2a0125ae",
   "metadata": {},
   "source": [
    "$$\n",
    "\\begin{align*}\n",
    "\\hat{a}_{ij}^{\\text{L}-} & = \\frac{w_i^{\\text{L}-} + \\varepsilon_i^\\text{L}}{w_j^{\\text{U}-} - \\varepsilon_j^\\text{U}}, ~~ i, j \\in N, ~~ i \\not= j, \\\\\n",
    "\\hat{a}_{ij}^{\\text{U}-} & = \\frac{w_i^{\\text{U}-} - \\varepsilon_i^\\text{U}}{w_j^{\\text{L}-} + \\varepsilon_j^\\text{L}}, ~~ i, j \\in N, ~~ i \\not= j, \\\\\n",
    "\\hat{a}_{ij}^{\\text{L}+} & = \\frac{w_i^{\\text{L}+} - \\varepsilon_i^\\text{L}}{w_j^{\\text{U}+} + \\varepsilon_j^\\text{U}}, ~~ i, j \\in N, ~~ i \\not= j, \\\\\n",
    "\\hat{a}_{ij}^{\\text{U}+} & = \\frac{w_i^{\\text{U}+} + \\varepsilon_i^\\text{U}}{w_j^{\\text{L}+} - \\varepsilon_j^\\text{L}}, ~~ i, j \\in N, ~~ i \\not= j\n",
    "\\end{align*}\n",
    "$$"
   ]
  },
  {
   "cell_type": "code",
   "execution_count": 21,
   "id": "acd086ce-742a-4493-a331-7abe3296c70d",
   "metadata": {},
   "outputs": [],
   "source": [
    "using IntervalArithmetic\n",
    "using LaTeXStrings"
   ]
  },
  {
   "cell_type": "code",
   "execution_count": 22,
   "id": "6ae45f35-7c99-45c9-a934-88166cfef5fb",
   "metadata": {},
   "outputs": [
    {
     "data": {
      "text/plain": [
       "intervalPCM2TwofoldIntervalPCM"
      ]
     },
     "metadata": {},
     "output_type": "display_data"
    }
   ],
   "source": [
    "include(\"./concatImportanceMethod.jl\")\n",
    "include(\"../concatMatricesMethod/concatMatricesMethod.jl\")\n",
    "include(\"../display/interval.jl\")\n",
    "include(\"../display/twofoldInterval.jl\")\n",
    "include(\"../twofoldIntervalPCM/twofoldIntervalPCM.jl\")"
   ]
  },
  {
   "cell_type": "code",
   "execution_count": 23,
   "id": "f6600aef-528e-4336-9695-9b6123a05033",
   "metadata": {},
   "outputs": [],
   "source": [
    "A₁ = [\n",
    "    1..1 2.7..3.2 (1/3.3)..(1/3)\n",
    "    (1/3.2)..(1/2.7) 1..1 (1/10)..(1/9.7)\n",
    "    3..3.3 9.7..10 1..1\n",
    "]\n",
    "A₂ = [\n",
    "    1..1 2.2..2.8 (1/4)..(1/2.8)\n",
    "    (1/2.8)..(1/2.2) 1..1 (1/9.8)..(1/9.7)\n",
    "    2.8..4 9.7..9.8 1..1\n",
    "]\n",
    "\n",
    "print()"
   ]
  },
  {
   "cell_type": "code",
   "execution_count": 24,
   "id": "180ce015",
   "metadata": {},
   "outputs": [
    {
     "data": {
      "text/plain": [
       "(wₖᴸ⁻ = [0.23021582733812956, 0.07194244604316549, 0.6978417266187049], wₖᵁ⁻ = [0.23021582733812956, 0.07194244604316546, 0.6978417266187049], wₖᴸ⁺ = [0.21411578112609037, 0.07065820777160983, 0.6970063441712927], wₖᵁ⁺ = [0.2323354480570976, 0.07930214115781126, 0.7065820777160983], optimalValue = 0.036439333862014145)"
      ]
     },
     "metadata": {},
     "output_type": "display_data"
    }
   ],
   "source": [
    "result1 = solveConcatImportanceMethodApproximationLP(A₁)"
   ]
  },
  {
   "cell_type": "code",
   "execution_count": 25,
   "id": "14533858",
   "metadata": {},
   "outputs": [
    {
     "data": {
      "text/plain": [
       "(wₖᴸ⁻ = [0.19931972789115654, 0.0748299319727891, 0.7258503401360542], wₖᵁ⁻ = [0.19931972789115654, 0.0748299319727891, 0.7258503401360542], wₖᴸ⁺ = [0.18333333333333332, 0.0748299319727891, 0.681704260651629], wₖᵁ⁺ = [0.2434658073755818, 0.08333333333333333, 0.7333333333333333], optimalValue = 0.12026494808449706)"
      ]
     },
     "metadata": {},
     "output_type": "display_data"
    }
   ],
   "source": [
    "result2 = solveConcatImportanceMethodApproximationLP(A₂)"
   ]
  },
  {
   "cell_type": "code",
   "execution_count": 15,
   "id": "1e0a58e1",
   "metadata": {},
   "outputs": [
    {
     "data": {
      "text/plain": [
       "(tᴸ⁻ = [1.0, 1.0000000000000002], tᵁ⁻ = [1.0, 1.0000000000000002], tᴸ⁺ = [1.0000000000000002, 1.0], tᵁ⁺ = [1.0, 1.0000000000000002])"
      ]
     },
     "metadata": {},
     "output_type": "display_data"
    }
   ],
   "source": [
    "tBoundaries = calculateConcatImportanceMethodTBoundaries([result1, result2])"
   ]
  },
  {
   "cell_type": "code",
   "execution_count": 26,
   "id": "d426f37d",
   "metadata": {},
   "outputs": [
    {
     "data": {
      "text/plain": [
       "(t⁻ = [1.0e-8, 1.0e-8], t⁺ = [1.0e-8, 1.0e-8], wᴸ = [0.19931972789115654, 0.07277782849057768, 0.6970063441712927], wᵁ = [0.23021582733812956, 0.07930214115781126, 0.7213781309510323], vᴸ⁻ = [0.19931972789115654, 0.07194244604316549, 0.6978417266187049], vᵁ⁻ = [0.23021582733812956, 0.0748299319727891, 0.7258503401360542], vᴸ⁺ = [0.21411578112609037, 0.0748299319727891, 0.6970063441712927], vᵁ⁺ = [0.21411578112609037, 0.0748299319727891, 0.6970063441712927], εᴸ = [0.014796053234933826, 0.0028874859296236094, 0.0], εᵁ = [0.0, 0.0, 0.01926826241995594], optimalValue = 0.036951801584513375)"
      ]
     },
     "metadata": {},
     "output_type": "display_data"
    }
   ],
   "source": [
    "result = solveConcatImportanceMethodConcatLP([result1, result2], tBoundaries)"
   ]
  },
  {
   "cell_type": "code",
   "execution_count": 17,
   "id": "02b1c2ad",
   "metadata": {},
   "outputs": [
    {
     "data": {
      "text/latex": [
       "$\\hat{A} = \\begin{bmatrix} \\left[   1.0, \\left[   1.0,   1.0 \\right],   1.0 \\right] & \\left[ 2.513, \\left[   2.7, 3.077 \\right],   3.2 \\right] & \\left[ 0.276, \\left[ 0.297,  0.33 \\right],  0.33 \\right] \\\\ \\left[ 0.312, \\left[ 0.325,  0.37 \\right], 0.398 \\right] & \\left[   1.0, \\left[   1.0,   1.0 \\right],   1.0 \\right] & \\left[   0.1, \\left[ 0.104, 0.107 \\right], 0.114 \\right] \\\\ \\left[ 3.028, \\left[ 3.031, 3.369 \\right], 3.619 \\right] & \\left[ 8.789, \\left[ 9.315,  9.64 \\right], 10.027 \\right] & \\left[   1.0, \\left[   1.0,   1.0 \\right],   1.0 \\right] \\end{bmatrix}$"
      ],
      "text/plain": [
       "\"\\$\\\\hat{A} = \\\\begin{bmatrix} \\\\left[   1.0, \\\\left[   1.0,   1.0 \\\\right],   1.0 \\\\right] & \\\\left[ 2.513, \\\\left[   2.7, 3.077 \\\\right],   3.2 \\\\right] & \\\\left[ 0.276, \\\\left[ 0.297,  0.33 \\\\right],  0.33 \\\\right] \\\\\\\\ \\\\left[ 0.312, \\\\left[ 0.325,  0.37 \\\\right], 0.398 \\\\right] & \\\\left[ \" ⋯ 31 bytes ⋯ \"ht],   1.0 \\\\right] & \\\\left[   0.1, \\\\left[ 0.104, 0.107 \\\\right], 0.114 \\\\right] \\\\\\\\ \\\\left[ 3.028, \\\\left[ 3.031, 3.369 \\\\right], 3.619 \\\\right] & \\\\left[ 8.789, \\\\left[ 9.315,  9.64 \\\\right], 10.027 \\\\right] & \\\\left[   1.0, \\\\left[   1.0,   1.0 \\\\right],   1.0 \\\\right] \\\\end{bmatrix}\\$\""
      ]
     },
     "metadata": {},
     "output_type": "display_data"
    }
   ],
   "source": [
    "Â = generateConcatImportanceMethodPCM(result)\n",
    "\n",
    "display(L\"\\hat{A} = %$(twofoldIntervalMatrixLaTeXString(Â))\")"
   ]
  },
  {
   "cell_type": "code",
   "execution_count": 20,
   "id": "2c9e0071",
   "metadata": {},
   "outputs": [
    {
     "data": {
      "text/latex": [
       "$\\begin{bmatrix} \\left[   1.0, \\left[   1.0,   1.0 \\right],   1.0 \\right] & \\left[ 2.513, \\left[  2.94,  2.94 \\right],   3.2 \\right] & \\left[ 0.276, \\left[ 0.323, 0.323 \\right],  0.33 \\right] \\\\ \\left[ 0.312, \\left[  0.34,  0.34 \\right], 0.398 \\right] & \\left[   1.0, \\left[   1.0,   1.0 \\right],   1.0 \\right] & \\left[   0.1, \\emptyset, 0.114 \\right] \\\\ \\left[ 3.028, \\left[ 3.094, 3.094 \\right], 3.619 \\right] & \\left[ 8.789, \\emptyset, 10.027 \\right] & \\left[   1.0, \\left[   1.0,   1.0 \\right],   1.0 \\right] \\end{bmatrix}$"
      ],
      "text/plain": [
       "L\"$\\begin{bmatrix} \\left[   1.0, \\left[   1.0,   1.0 \\right],   1.0 \\right] & \\left[ 2.513, \\left[  2.94,  2.94 \\right],   3.2 \\right] & \\left[ 0.276, \\left[ 0.323, 0.323 \\right],  0.33 \\right] \\\\ \\left[ 0.312, \\left[  0.34,  0.34 \\right], 0.398 \\right] & \\left[   1.0, \\left[   1.0,   1.0 \\right],   1.0 \\right] & \\left[   0.1, \\emptyset, 0.114 \\right] \\\\ \\left[ 3.028, \\left[ 3.094, 3.094 \\right], 3.619 \\right] & \\left[ 8.789, \\emptyset, 10.027 \\right] & \\left[   1.0, \\left[   1.0,   1.0 \\right],   1.0 \\right] \\end{bmatrix}$\""
      ]
     },
     "metadata": {},
     "output_type": "display_data"
    }
   ],
   "source": [
    "r = solveConcatMatricesMethodLP(Â)\n",
    "B = updateConcatMatricesMethodPCM(Â, r)\n",
    "\n",
    "display(L\"%$(twofoldIntervalMatrixLaTeXString(B))\")"
   ]
  },
  {
   "cell_type": "code",
   "execution_count": null,
   "id": "595a5729",
   "metadata": {},
   "outputs": [],
   "source": []
  }
 ],
 "metadata": {
  "kernelspec": {
   "display_name": "Julia 1.8.3",
   "language": "julia",
   "name": "julia-1.8"
  },
  "language_info": {
   "file_extension": ".jl",
   "mimetype": "application/julia",
   "name": "julia",
   "version": "1.8.3"
  }
 },
 "nbformat": 4,
 "nbformat_minor": 5
}
