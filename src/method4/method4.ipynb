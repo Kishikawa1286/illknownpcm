{
 "cells": [
  {
   "attachments": {},
   "cell_type": "markdown",
   "id": "6054e3da",
   "metadata": {},
   "source": [
    "DM ごとに重要度の上・下近似を計算してそれらを計算してそれらを結合する手法と同様に DM ごとの重要度の上・下近似 $W_k^-, W_k^+, ~~ k \\in M$ を計算する．"
   ]
  },
  {
   "attachments": {},
   "cell_type": "markdown",
   "id": "8598aed0",
   "metadata": {},
   "source": [
    "下近似が存在する $k \\in M$ の集合を $M^{'} = \\left\\{ k \\in M ~~ | ~~ W_k^- \\not= \\emptyset \\right\\}$ とする"
   ]
  },
  {
   "attachments": {},
   "cell_type": "markdown",
   "id": "8bb03ff7",
   "metadata": {},
   "source": [
    "$A_{ij}^- = \\bigcap_{k \\in M^{'}} \\frac{W_{ki}^-}{W_{kj}^-}, A_{ij}^+ = \\bigcup_{k \\in M} \\frac{W_{ki}^+}{W_{kj}^+}$ のように考える  \n",
    "ただし，この段階では $\\bar{a}_{ij}^{\\text{L}-} > \\bar{a}_{ij}^{\\text{U}-}$ の場合に空集合にする処理を行わない\n",
    "\n",
    "$$\n",
    "\\bar{a}_{ij}^{\\text{L}-} = \\max_{k \\in M^{'}} \\left( \\frac{w_{ki}^{\\text{L}-}}{w_{kj}^{\\text{U}-}} \\right), ~~\n",
    "\\bar{a}_{ij}^{\\text{U}-} = \\min_{k \\in M^{'}} \\left( \\frac{w_{ki}^{\\text{U}-}}{w_{kj}^{\\text{L}-}} \\right), ~~\n",
    "\\bar{a}_{ij}^{\\text{L}+} = \\min_{k \\in M} \\left( \\frac{w_{ki}^{\\text{L}+}}{w_{kj}^{\\text{U}+}} \\right), ~~\n",
    "\\bar{a}_{ij}^{\\text{U}+} = \\max_{k \\in M} \\left( \\frac{w_{ki}^{\\text{U}+}}{w_{kj}^{\\text{L}+}} \\right)\n",
    "$$\n",
    "\n",
    "二重区間になるように CBA と同じように区間の端を入れ替える（例えば $\\bar{a}_{ij}^{\\text{L}-} < \\bar{a}_{ij}^{\\text{L}+}$ の場合に $a_{ij}^{\\text{L}-} = \\bar{a}_{ij}^{\\text{L}+}, a_{ij}^{\\text{L}+} = \\bar{a}_{ij}^{\\text{L}-}$ とする）  \n",
    "また， reciprocity を満たすように対称成分とも比較して安全側（内を狭めて外を広げる方向）のものをとる\n",
    "\n",
    "$$\n",
    "a_{ij}^{\\text{L}-} = \\max\\left( \\bar{a}_{ij}^{\\text{L}-}, \\bar{a}_{ij}^{\\text{L}+}, \\frac{1}{\\bar{a}_{ji}^{\\text{U}-}}, \\frac{1}{\\bar{a}_{ji}^{\\text{U}+}} \\right), ~~\n",
    "a_{ij}^{\\text{U}-} = \\min\\left( \\bar{a}_{ij}^{\\text{U}-}, \\bar{a}_{ij}^{\\text{U}+}, \\frac{1}{\\bar{a}_{ji}^{\\text{L}-}}, \\frac{1}{\\bar{a}_{ji}^{\\text{L}+}} \\right), \\\\\n",
    "a_{ij}^{\\text{L}+} = \\min\\left( \\bar{a}_{ij}^{\\text{L}-}, \\bar{a}_{ij}^{\\text{L}+}, \\frac{1}{\\bar{a}_{ji}^{\\text{U}-}}, \\frac{1}{\\bar{a}_{ji}^{\\text{U}+}} \\right), ~~\n",
    "a_{ij}^{\\text{U}+} = \\max\\left( \\bar{a}_{ij}^{\\text{U}-}, \\bar{a}_{ij}^{\\text{U}+}, \\frac{1}{\\bar{a}_{ji}^{\\text{L}-}}, \\frac{1}{\\bar{a}_{ji}^{\\text{L}+}} \\right)\n",
    "$$\n",
    "\n",
    "$$\n",
    "A_{ij}^- = \\begin{cases}\n",
    "\\left[ a_{ij}^{\\text{L}-}, a_{ij}^{\\text{U}-} \\right] & \\text{if} ~~~ a_{ij}^{\\text{L}-} \\leq a_{ij}^{\\text{U}-}, \\\\\n",
    "\\emptyset & \\text{otherwise}\n",
    "\\end{cases}, \\\\\n",
    "A_{ij}^+ = \\left[ a_{ij}^{\\text{L}+}, a_{ij}^{\\text{U}+} \\right]\n",
    "$$\n",
    "\n",
    "$$\n",
    "A = \\left( A_{ij}^-, A_{ij}^+ \\right)_{n \\times n}\n",
    "$$"
   ]
  },
  {
   "attachments": {},
   "cell_type": "markdown",
   "id": "a8d26b58-7b40-4923-9fdf-05d4b71c5c0f",
   "metadata": {},
   "source": [
    "与えられた PCM を結合する手法と同じ方法で整合化する  \n",
    "ただし， $A_{ij}^- = \\emptyset$ の箇所に関しては制約を設けていない\n",
    "\n",
    "$\\bar{N}^{2} = \\{ (i, j) \\in N^2 | A_{ij}^- \\not= \\emptyset, i \\not= j \\}$ とする\n",
    "\n",
    "$$\n",
    "\\begin{align*}\n",
    "    \\text{minimize} ~~\n",
    "    & \\sum_{i \\in N} \\left( \\varepsilon_i^\\text{L} + \\varepsilon_i^\\text{U} \\right)\\\\\n",
    "    \\text{subject to} ~~\n",
    "    & a_{ij}^{\\text{L}+}w_j^\\text{U} - \\varepsilon_i^\\text{L} \\leq\n",
    "    w_i^\\text{L} \\leq\n",
    "    a_{ij}^{\\text{L}-}w_j^\\text{U} + \\varepsilon_i^\\text{L}, ~~ (i, j) \\in \\bar{N}^{2}, \\\\\n",
    "    & a_{ij}^{\\text{U}-}w_j^\\text{L} - \\varepsilon_i^\\text{U} \\leq\n",
    "    w_i^\\text{U} \\leq\n",
    "    a_{ij}^{\\text{U}+}w_j^\\text{L} + \\varepsilon_i^\\text{U}, ~~ i, j \\in N, ~~ i \\not= j, \\\\\n",
    "    & \\varepsilon_i^\\text{L} \\geq w_i^{\\text{L}+} - w_i^{\\text{L}-}, ~~\n",
    "    \\varepsilon_i^\\text{U} \\geq w_i^{\\text{U}-} - w_i^{\\text{U}+}, ~~ i \\in N, \\\\\n",
    "    & w_i^{\\text{L}-} \\leq a_{ij}^{\\text{L}-}w_j^\\text{U}, ~~\n",
    "    w_i^{\\text{U}-} \\geq a_{ij}^{\\text{U}-}w_j^\\text{L}, ~~ (i, j) \\in \\bar{N}^{2}, \\\\\n",
    "    & w_i^{\\text{L}+} \\geq a_{ij}^{\\text{L}+}w_j^\\text{U}, ~~\n",
    "    w_i^{\\text{U}+} \\leq a_{ij}^{\\text{U}+}w_j^\\text{L}, ~~ i, j \\in N, ~~ i \\not= j, \\\\\n",
    "    & \\sum_{i \\in N\\backslash\\{ j \\}} w_i^\\text{U} + w_j^\\text{L} \\geq 1, ~~\n",
    "    \\sum_{i \\in N\\backslash\\{ j \\}} w_i^\\text{L} + w_j^\\text{U} \\leq 1, ~~ j \\in N, \\\\\n",
    "    & \\sum_{i \\in N} \\left(  w_i^\\text{L} +  w_i^\\text{U} \\right) = 2, \\\\\n",
    "    & w_i^\\text{U} \\geq w_i^\\text{L} \\geq \\epsilon, ~~ i \\in N, ~~\n",
    "    w_i^{\\text{L}+}, w_i^{\\text{L}-}, \\varepsilon_i^\\text{L},\n",
    "    w_i^{\\text{U}-}, w_i^{\\text{U}+}, \\varepsilon_i^\\text{U} \\geq 0, ~~ i \\in N\n",
    "\\end{align*}\n",
    "$$"
   ]
  },
  {
   "attachments": {},
   "cell_type": "markdown",
   "id": "3ec3ffe7-d638-4db1-8954-48392d5a9afe",
   "metadata": {},
   "source": [
    "$$\n",
    "\\hat{a}_{ij}^{\\text{L}-} = \\begin{cases}\n",
    "\\max\\left( a_{ij}^{\\text{L}-}, \\frac{w_i^{\\text{L}+}}{w_j^\\text{U}}, \\frac{w_i^\\text{L}}{w_j^{\\text{U}+}} \\right) & \\text{if} ~~~ (i,j) \\in \\bar{N}^{2} \\\\\n",
    "\\emptyset & \\text{otherwise}\n",
    "\\end{cases}, ~~\n",
    "i, j \\in N, ~~ i \\not= j, \\\\\n",
    "\\hat{a}_{ij}^{\\text{U}-} = \\begin{cases}\n",
    "\\min\\left( a_{ij}^{\\text{U}-}, \\frac{w_i^{\\text{U}+}}{w_j^\\text{L}}, \\frac{w_i^\\text{U}}{w_j^{\\text{L}+}} \\right) & \\text{if} ~~~ (i,j) \\in \\bar{N}^{2} \\\\\n",
    "\\emptyset & \\text{otherwise}\n",
    "\\end{cases}, ~~\n",
    "i, j \\in N, ~~ i \\not= j, \\\\\n",
    "\n",
    "\n",
    "\\hat{a}_{ij}^{\\text{L}+} = \\min\\left( a_{ij}^{\\text{L}+}, \\frac{w_i^{\\text{L}-}}{w_j^\\text{U}}, \\frac{w_i^\\text{L}}{w_j^{\\text{U}-}} \\right), ~~\n",
    "i, j \\in N, ~~ i \\not= j, \\\\\n",
    "\\hat{a}_{ij}^{\\text{U}+} = \\max\\left( a_{ij}^{\\text{U}+}, \\frac{w_i^{\\text{U}-}}{w_j^\\text{L}}, \\frac{w_i^\\text{U}}{w_j^{\\text{L}-}} \\right), ~~\n",
    "i, j \\in N, ~~ i \\not= j \\\\\n",
    "$$"
   ]
  },
  {
   "attachments": {},
   "cell_type": "markdown",
   "id": "b2234c51",
   "metadata": {},
   "source": [
    "$$\n",
    "\\hat{A}_{ij}^- = \\begin{cases}\n",
    "\\left[ \\hat{a}_{ij}^{\\text{L}-}, \\hat{a}_{ij}^{\\text{U}-} \\right] & \\text{if} ~~~ \\hat{a}_{ij}^{\\text{L}-} \\leq \\hat{a}_{ij}^{\\text{U}-}, \\\\\n",
    "\\emptyset & \\text{otherwise}\n",
    "\\end{cases}, \\\\\n",
    "\\hat{A}_{ij}^+ = \\left[ \\hat{a}_{ij}^{\\text{L}+}, \\hat{a}_{ij}^{\\text{U}+} \\right]\n",
    "$$\n",
    "\n",
    "$$\n",
    "\\hat{A} = \\left( A_{ij}^-, A_{ij}^+ \\right)_{n \\times n}\n",
    "$$"
   ]
  },
  {
   "cell_type": "code",
   "execution_count": 14,
   "id": "a661200b-0885-4ad6-9e50-f9b552f74857",
   "metadata": {},
   "outputs": [],
   "source": [
    "using IntervalArithmetic\n",
    "using LaTeXStrings"
   ]
  },
  {
   "cell_type": "code",
   "execution_count": 15,
   "id": "6ae45f35-7c99-45c9-a934-88166cfef5fb",
   "metadata": {},
   "outputs": [],
   "source": [
    "include(\"./index.jl\")\n",
    "include(\"../intervalPCM/index.jl\")\n",
    "include(\"../twofoldInterval/index.jl\")\n",
    "include(\"../twofoldIntervalPCM/index.jl\")\n",
    "\n",
    "print()"
   ]
  },
  {
   "cell_type": "code",
   "execution_count": 16,
   "id": "180ce015",
   "metadata": {},
   "outputs": [
    {
     "data": {
      "text/latex": [
       "$A = \\begin{bmatrix} \\left[   1.0, \\left[   1.0,   1.0 \\right],   1.0 \\right] & \\left[  2.45, \\emptyset,  3.03 \\right] & \\left[ 0.269, \\emptyset, 0.332 \\right] \\\\ \\left[  0.33, \\emptyset, 0.408 \\right] & \\left[   1.0, \\left[   1.0,   1.0 \\right],   1.0 \\right] & \\left[ 0.101, \\emptyset, 0.114 \\right] \\\\ \\left[ 3.012, \\emptyset, 3.718 \\right] & \\left[   8.8, \\emptyset, 9.864 \\right] & \\left[   1.0, \\left[   1.0,   1.0 \\right],   1.0 \\right] \\end{bmatrix}$"
      ],
      "text/plain": [
       "L\"$A = \\begin{bmatrix} \\left[   1.0, \\left[   1.0,   1.0 \\right],   1.0 \\right] & \\left[  2.45, \\emptyset,  3.03 \\right] & \\left[ 0.269, \\emptyset, 0.332 \\right] \\\\ \\left[  0.33, \\emptyset, 0.408 \\right] & \\left[   1.0, \\left[   1.0,   1.0 \\right],   1.0 \\right] & \\left[ 0.101, \\emptyset, 0.114 \\right] \\\\ \\left[ 3.012, \\emptyset, 3.718 \\right] & \\left[   8.8, \\emptyset, 9.864 \\right] & \\left[   1.0, \\left[   1.0,   1.0 \\right],   1.0 \\right] \\end{bmatrix}$\""
      ]
     },
     "metadata": {},
     "output_type": "display_data"
    }
   ],
   "source": [
    "A₁ = [\n",
    "    1..1 2.7..3.2 (1/3.3)..(1/3)\n",
    "    (1/3.2)..(1/2.7) 1..1 (1/10)..(1/9.7)\n",
    "    3..3.3 9.7..10 1..1\n",
    "]\n",
    "A₂ = [\n",
    "    1..1 2.2..2.8 (1/4)..(1/2.8)\n",
    "    (1/2.8)..(1/2.2) 1..1 (1/9.8)..(1/9.7)\n",
    "    2.8..4 9.7..9.8 1..1\n",
    "]\n",
    "\n",
    "results = solveApproximationLP_m4.([A₁, A₂])\n",
    "A = generateTwofoldIntervalMatrix_m4(results)\n",
    "\n",
    "display(L\"A = %$(twofoldIntervalMatrixLaTeXString(A))\")"
   ]
  },
  {
   "cell_type": "code",
   "execution_count": 17,
   "id": "d65bb01d",
   "metadata": {},
   "outputs": [
    {
     "data": {
      "text/latex": [
       "$\\hat{A} = \\begin{bmatrix} \\left[   1.0, \\left[   1.0,   1.0 \\right],   1.0 \\right] & \\left[  2.45, \\emptyset,  3.03 \\right] & \\left[ 0.269, \\emptyset, 0.332 \\right] \\\\ \\left[  0.33, \\emptyset, 0.408 \\right] & \\left[   1.0, \\left[   1.0,   1.0 \\right],   1.0 \\right] & \\left[ 0.101, \\emptyset, 0.114 \\right] \\\\ \\left[ 3.012, \\emptyset, 3.718 \\right] & \\left[   8.8, \\emptyset, 9.864 \\right] & \\left[   1.0, \\left[   1.0,   1.0 \\right],   1.0 \\right] \\end{bmatrix}$"
      ],
      "text/plain": [
       "L\"$\\hat{A} = \\begin{bmatrix} \\left[   1.0, \\left[   1.0,   1.0 \\right],   1.0 \\right] & \\left[  2.45, \\emptyset,  3.03 \\right] & \\left[ 0.269, \\emptyset, 0.332 \\right] \\\\ \\left[  0.33, \\emptyset, 0.408 \\right] & \\left[   1.0, \\left[   1.0,   1.0 \\right],   1.0 \\right] & \\left[ 0.101, \\emptyset, 0.114 \\right] \\\\ \\left[ 3.012, \\emptyset, 3.718 \\right] & \\left[   8.8, \\emptyset, 9.864 \\right] & \\left[   1.0, \\left[   1.0,   1.0 \\right],   1.0 \\right] \\end{bmatrix}$\""
      ]
     },
     "metadata": {},
     "output_type": "display_data"
    }
   ],
   "source": [
    "result = solveCancellingLP_m4(A)\n",
    "Â = updatePCM_m4(A, result)\n",
    "\n",
    "display(L\"\\hat{A} = %$(twofoldIntervalMatrixLaTeXString(Â))\")"
   ]
  },
  {
   "cell_type": "code",
   "execution_count": 18,
   "id": "bb488cad",
   "metadata": {},
   "outputs": [],
   "source": []
  }
 ],
 "metadata": {
  "kernelspec": {
   "display_name": "Julia 1.8.3",
   "language": "julia",
   "name": "julia-1.8"
  },
  "language_info": {
   "file_extension": ".jl",
   "mimetype": "application/julia",
   "name": "julia",
   "version": "1.8.3"
  },
  "vscode": {
   "interpreter": {
    "hash": "d4d1e4263499bec80672ea0156c357c1ee493ec2b1c70f0acce89fc37c4a6abe"
   }
  }
 },
 "nbformat": 4,
 "nbformat_minor": 5
}
