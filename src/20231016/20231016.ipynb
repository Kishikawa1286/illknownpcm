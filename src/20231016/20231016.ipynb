{
 "cells": [
  {
   "cell_type": "markdown",
   "metadata": {},
   "source": [
    "# 2023 / 10 / 16\n",
    "\n",
    "石川健太郎"
   ]
  },
  {
   "cell_type": "markdown",
   "metadata": {},
   "source": [
    "AHP において, 重要度 $w_i$ は比 $w_i / w_j$ が意味を持つ.  \n",
    "比が意味を持つ $w_i$ を線形スケールで修正して ($w_i \\pm \\varepsilon_i$) 修正量の和を最小化する ($\\sum_{i\\in N} \\varepsilon_i$) 場合, 一対比較において劣っているとされる ($a_{ij}$ が小さい $i$) 基準の $w_i$ が優先して修正される.  \n",
    "これを補正するために, 対数スケールで修正する."
   ]
  },
  {
   "cell_type": "markdown",
   "metadata": {},
   "source": [
    "## 元の式\n",
    "\n",
    "二重区間 PCM $A$ から区間重要度ベクトルを求めることができないときに, $A$ を修正して, 中心の和が $1$ の区間重要度ベクトル $W$ をもつ二重区間 PCM $\\mathscr{A}$ を得る.\n",
    "\n",
    "$$\n",
    "\\begin{align*}\n",
    "\\text{元の二重区間 PCM: }\n",
    "& A = \\left( A_{ij}^-, A_{ij}^+ \\right) = \\left( \\left[ a_{ij}^\\mathrm{L-}, a_{ij}^\\mathrm{U-} \\right] , \\left[ a_{ij}^\\mathrm{L+}, a_{ij}^\\mathrm{U+} \\right] \\right)\n",
    "\\\\\n",
    "\\text{修正後の二重区間 PCM: }\n",
    "& \\mathscr{A} = \\left( \\mathscr{A}_{ij}^-, \\mathscr{A}_{ij}^+ \\right) = \\left( \\left[ \\alpha_{ij}^\\mathrm{L-}, \\alpha_{ij}^\\mathrm{U-} \\right] , \\left[ \\alpha_{ij}^\\mathrm{L+}, \\alpha_{ij}^\\mathrm{U+} \\right] \\right)\n",
    "\\\\\n",
    "\\text{区間重要度: }\n",
    "& W = (W_i) = \\left( \\left[ w_i^\\mathrm{L}, w_i^\\mathrm{U} \\right] \\right)\n",
    "\\end{align*}\n",
    "$$"
   ]
  },
  {
   "cell_type": "markdown",
   "metadata": {},
   "source": [
    "$$\n",
    "\\begin{align*}\n",
    "\\text{minimize} ~~ & ~~\n",
    "\\sum_{i \\in N} \\left( \\varepsilon_i^\\mathrm{L} + \\varepsilon_i^\\mathrm{U} \\right),\n",
    "\\\\ \\text{subject to} ~~ & ~~\n",
    "a_{ij}^\\mathrm{L+} w_j^\\mathrm{U} - \\varepsilon_i^\\mathrm{L} \\leq w_i^\\mathrm{L} \\leq a_{ij}^\\mathrm{L-} w_j^\\mathrm{U} + \\varepsilon_i^\\mathrm{L}, &&\n",
    "i, j \\in N, ~~ i \\neq j, \\\\ & ~~\n",
    "a_{ij}^\\mathrm{U-} w_j^\\mathrm{L} - \\varepsilon_i^\\mathrm{U} \\leq w_i^\\mathrm{U} \\leq a_{ij}^\\mathrm{U+} w_j^\\mathrm{L} + \\varepsilon_i^\\mathrm{U}, &&\n",
    "i, j \\in N, ~~ i \\neq j, \\\\ & ~~\n",
    "\\varepsilon_i^\\mathrm{L} \\geq w_i^\\mathrm{L+} - w_i^\\mathrm{L-}, ~~\n",
    "\\varepsilon_i^\\mathrm{U} \\geq w_i^\\mathrm{U-} - w_i^\\mathrm{U+}, &&\n",
    "i \\in N, \\\\ & ~~\n",
    "w_i^\\mathrm{L-} \\leq a_{ij}^\\mathrm{L-} w_j^\\mathrm{U} , ~~\n",
    "w_i^\\mathrm{U-} \\geq a_{ij}^\\mathrm{U-} w_j^\\mathrm{L}, &&\n",
    "i, j \\in N, ~~ i \\neq j, \\\\ & ~~\n",
    "w_i^\\mathrm{L+} \\geq a_{ij}^\\mathrm{L+} w_j^\\mathrm{U}, ~~\n",
    "w_i^\\mathrm{U+} \\leq a_{ij}^\\mathrm{U+} w_j^\\mathrm{L}, &&\n",
    "i, j \\in N, ~~ i \\neq j, \\\\ & ~~\n",
    "\\sum_{j \\in N \\backslash \\{i\\}} \\left( w_j^\\mathrm{U} \\right) + w_i^\\mathrm{L} \\geq 1, ~~\n",
    "\\sum_{j \\in N \\backslash \\{i\\}} \\left( w_j^\\mathrm{L} \\right) + w_i^\\mathrm{U} \\leq 1, &&\n",
    "i \\in N, \\\\ & ~~\n",
    "\\sum_{i \\in N} \\left( w_i^\\mathrm{L} + w_i^\\mathrm{U} \\right) = 1,\n",
    "\\\\ & ~~\n",
    "w_i^\\mathrm{U} \\geq w_i^\\mathrm{L} \\geq \\epsilon, ~~\n",
    "w_i^\\mathrm{L-}, w_i^\\mathrm{U-}, w_i^\\mathrm{L+}, w_i^\\mathrm{U+} \\geq \\epsilon, ~~\n",
    "\\varepsilon_i^\\mathrm{L}, \\varepsilon_i^\\mathrm{U} \\geq 0, &&\n",
    "i \\in N. \n",
    "\\end{align*}\n",
    "$$"
   ]
  },
  {
   "cell_type": "markdown",
   "metadata": {},
   "source": [
    "線形計画問題の最適解から $\\mathscr{A}$ を求める.\n",
    "\n",
    "$$\n",
    "\\begin{align*}\n",
    "\\alpha_{ij}^\\mathrm{L-} & = \\max \\left( a_{ij}^\\mathrm{L-}, \\frac{w_i^\\mathrm{L+}}{w_j^\\mathrm{U}}, \\frac{w_i^\\mathrm{L}}{w_j^\\mathrm{U+}} \\right), &&\n",
    "i \\in N, ~~ i \\neq j, \\\\\n",
    "\\alpha_{ij}^\\mathrm{U-} & = \\min \\left( a_{ij}^\\mathrm{U-}, \\frac{w_i^\\mathrm{U+}}{w_j^\\mathrm{L}}, \\frac{w_i^\\mathrm{U}}{w_j^\\mathrm{L+}} \\right), &&\n",
    "i \\in N, ~~ i \\neq j, \\\\\n",
    "\\alpha_{ij}^\\mathrm{L+} & = \\min \\left( a_{ij}^\\mathrm{L+}, \\frac{w_i^\\mathrm{L+}}{w_j^\\mathrm{U}}, \\frac{w_i^\\mathrm{L}}{w_j^\\mathrm{U-}} \\right), &&\n",
    "i \\in N, ~~ i \\neq j, \\\\\n",
    "\\alpha_{ij}^\\mathrm{U+} & = \\max \\left( a_{ij}^\\mathrm{U-}, \\frac{w_i^\\mathrm{U-}}{w_j^\\mathrm{L}}, \\frac{w_i^\\mathrm{U}}{w_j^\\mathrm{L-}} \\right), &&\n",
    "i \\in N, ~~ i \\neq j.\n",
    "\\end{align*}\n",
    "$$\n",
    "\n",
    "次の関係が成り立つことに注意.\n",
    "\n",
    "$$\n",
    "\\begin{align*}\n",
    "w_i^\\mathrm{L-} = w_i^\\mathrm{L+} - \\varepsilon_i^\\mathrm{L}, &&\n",
    "i \\in N, \\\\\n",
    "w_i^\\mathrm{U-} = w_i^\\mathrm{U+} + \\varepsilon_i^\\mathrm{U}, &&\n",
    "i \\in N.\n",
    "\\end{align*}\n",
    "$$"
   ]
  },
  {
   "cell_type": "markdown",
   "metadata": {},
   "source": [
    "## 対数スケールで修正する式\n",
    "\n",
    "$$\n",
    "\\begin{align*}\n",
    "\\text{minimize} ~~ & ~~\n",
    "\\sum_{i \\in N} \\left( \\varepsilon_i^\\mathrm{L} + \\varepsilon_i^\\mathrm{U} \\right),\n",
    "\\\\ \\text{subject to} ~~ & ~~\n",
    "\\ln a_{ij}^\\mathrm{L+} + \\ln w_j^\\mathrm{U} - \\varepsilon_i^\\mathrm{L} \\leq \\ln w_i^\\mathrm{L} \\leq \\ln a_{ij}^\\mathrm{L-} + \\ln w_j^\\mathrm{U} + \\varepsilon_i^\\mathrm{L}, &&\n",
    "i, j \\in N, ~~ i \\neq j, \\\\ & ~~\n",
    "\\ln a_{ij}^\\mathrm{U-} + \\ln w_j^\\mathrm{L} - \\varepsilon_i^\\mathrm{U} \\leq \\ln w_i^\\mathrm{U} \\leq \\ln a_{ij}^\\mathrm{U+} + \\ln w_j^\\mathrm{L} + \\varepsilon_i^\\mathrm{U}, &&\n",
    "i, j \\in N, ~~ i \\neq j, \\\\ & ~~\n",
    "\\varepsilon_i^\\mathrm{L} \\geq \\ln w_i^\\mathrm{L+} - \\ln w_i^\\mathrm{L-}, ~~\n",
    "\\varepsilon_i^\\mathrm{U} \\geq \\ln w_i^\\mathrm{U-} - \\ln w_i^\\mathrm{U+}, &&\n",
    "i \\in N, \\\\ & ~~\n",
    "w_i^\\mathrm{L-} \\leq a_{ij}^\\mathrm{L-} w_j^\\mathrm{U} , ~~\n",
    "w_i^\\mathrm{U-} \\geq a_{ij}^\\mathrm{U-} w_j^\\mathrm{L}, &&\n",
    "i, j \\in N, ~~ i \\neq j, \\\\ & ~~\n",
    "w_i^\\mathrm{L+} \\geq a_{ij}^\\mathrm{L+} w_j^\\mathrm{U}, ~~\n",
    "w_i^\\mathrm{U+} \\leq a_{ij}^\\mathrm{U+} w_j^\\mathrm{L}, &&\n",
    "i, j \\in N, ~~ i \\neq j, \\\\ & ~~\n",
    "\\sum_{j \\in N \\backslash \\{i\\}} \\left( w_j^\\mathrm{U} \\right) + w_i^\\mathrm{L} \\geq 1, ~~\n",
    "\\sum_{j \\in N \\backslash \\{i\\}} \\left( w_j^\\mathrm{L} \\right) + w_i^\\mathrm{U} \\leq 1, &&\n",
    "i \\in N, \\\\ & ~~\n",
    "\\sum_{i \\in N} \\left( w_i^\\mathrm{L} + w_i^\\mathrm{U} \\right) = 1,\n",
    "\\\\ & ~~\n",
    "w_i^\\mathrm{U} \\geq w_i^\\mathrm{L} \\geq \\epsilon, ~~\n",
    "w_i^\\mathrm{L-}, w_i^\\mathrm{U-}, w_i^\\mathrm{L+}, w_i^\\mathrm{U+} \\geq \\epsilon, ~~\n",
    "\\varepsilon_i^\\mathrm{L}, \\varepsilon_i^\\mathrm{U} \\geq 0, &&\n",
    "i \\in N. \n",
    "\\end{align*}\n",
    "$$"
   ]
  },
  {
   "cell_type": "markdown",
   "metadata": {},
   "source": [
    "## 初期値の実行可能解を求める方法\n",
    "\n",
    "$$\n",
    "\\bar{w}_i^\\mathrm{L} = \\bar{w}_i^\\mathrm{U} = \\frac{1}{n}\n",
    "$$\n",
    "\n",
    "$$\n",
    "\\bar{w}_i^\\mathrm{L-} = \\frac{1}{n} \\min_{j \\in N} a_{ij}^\\mathrm{L-}, \\\\\n",
    "\\bar{w}_i^\\mathrm{U-} = \\frac{1}{n} \\max_{j \\in N} a_{ij}^\\mathrm{U-}, \\\\\n",
    "\\bar{w}_i^\\mathrm{L+} = \\frac{1}{n} \\max_{j \\in N} a_{ij}^\\mathrm{L+}, \\\\\n",
    "\\bar{w}_i^\\mathrm{U+} = \\frac{1}{n} \\min_{j \\in N} a_{ij}^\\mathrm{U+}.\n",
    "$$\n",
    "\n",
    "$\\bar{\\varepsilon}_i^\\mathrm{L}$ の満たすべき条件を確認する.\n",
    "\n",
    "$$\n",
    "\\begin{align*}\n",
    "& ~~\n",
    "\\ln a_{ij}^\\mathrm{L+} + \\ln \\bar{w}_j^\\mathrm{U} - \\bar{\\varepsilon}_i^\\mathrm{L} && \\leq \\ln \\bar{w}_i^\\mathrm{L} && \\leq \\ln a_{ij}^\\mathrm{L-} + \\ln \\bar{w}_j^\\mathrm{U} + \\bar{\\varepsilon}_i^\\mathrm{L}, &&\n",
    "i, j \\in N, ~~ i \\neq j, \\\\\n",
    "\\Leftrightarrow ~~ & ~~\n",
    "\\ln a_{ij}^\\mathrm{L+} - \\bar{\\varepsilon}_i^\\mathrm{L} && \\leq 0 && \\leq \\ln a_{ij}^\\mathrm{L-} + \\bar{\\varepsilon}_i^\\mathrm{L}, &&\n",
    "i, j \\in N, ~~ i \\neq j, &&\n",
    "\\left( \\because \\bar{w}_i^\\mathrm{L} = \\bar{w}_i^\\mathrm{U} = \\frac{1}{n} \\right) \\\\\n",
    "\\Leftrightarrow ~~ & ~~\n",
    "\\bar{\\varepsilon}_i^\\mathrm{L} \\geq \\ln a_{ij}^\\mathrm{L+} ~~ \\text{ and } ~~ \\bar{\\varepsilon}_i^\\mathrm{L} \\geq \\ln a_{ji}^\\mathrm{U-}, &&&&&&\n",
    "i, j \\in N, ~~ i \\neq j, &&\n",
    "\\left( \\because - \\ln a_{ij}^\\mathrm{L-} = \\ln a_{ji}^\\mathrm{U-} \\right) \\\\\n",
    "\\Leftrightarrow ~~ & ~~ \n",
    "\\bar{\\varepsilon}_i^\\mathrm{L} \\geq \\max \\left( \\max_{j \\in N} \\left( \\ln a_{ij}^\\mathrm{L+} \\right), \\max_{j \\in N} \\left( \\ln a_{ji}^\\mathrm{U-} \\right) \\right), &&&&&&\n",
    "i \\in N\n",
    "\\end{align*}\n",
    "$$\n",
    "\n",
    "よって, 次のようにする.\n",
    "\n",
    "$$\n",
    "\\bar{\\varepsilon}_i^\\mathrm{L} = \\max \\left( \\max_{j \\in N} \\left( \\ln a_{ij}^\\mathrm{L+} \\right), \\max_{j \\in N} \\left( \\ln a_{ji}^\\mathrm{U-} \\right) \\right)\n",
    "$$\n",
    "\n",
    "$\\bar{\\varepsilon}_i^\\mathrm{U}$ も同様に定める.\n",
    "\n",
    "$$\n",
    "\\bar{\\varepsilon}_i^\\mathrm{U} = \\max \\left( \\max_{j \\in N} \\left( \\ln a_{ij}^\\mathrm{U-} \\right), \\max_{j \\in N} \\left( \\ln a_{ji}^\\mathrm{L+} \\right) \\right)\n",
    "$$"
   ]
  },
  {
   "cell_type": "markdown",
   "metadata": {},
   "source": [
    "## 凸計画問題ソルバ\n",
    "\n",
    "### [NLOpt](https://github.com/stevengj/nlopt)\n",
    "\n",
    "- [公式ページ](https://nlopt.readthedocs.io/en/latest/)\n",
    "- [Julia 向け wrapper](https://github.com/JuliaOpt/NLopt.jl)\n",
    "- [アルゴリズム一覧](https://nlopt.readthedocs.io/en/latest/NLopt_Algorithms/)\n",
    "    - [切り捨てニュートン法](https://link.springer.com/article/10.1007/BF02592055)\n",
    "    - BFGS 法\n",
    "- コミュニティがメンテナンスしている\n",
    "    - Issue 総数 340 なのでコミュニティは厚い\n",
    "- 試したが動作がやや不安定\n",
    "\n",
    "### [Ipopt](https://github.com/coin-or/Ipopt)\n",
    "\n",
    "- [公式ページ](https://coin-or.github.io/Ipopt/)\n",
    "    - ほかのソルバの紹介もしている\n",
    "- 主双対内点法ベース\n",
    "- [Computational Infrastructure for Operations Research](https://www.coin-or.org/) がメンテナンスしている\n",
    "- [Julia 向け wrapper](https://github.com/jump-dev/Ipopt.jl)\n",
    "- [論文](https://link.springer.com/article/10.1007/s10107-004-0559-y)\n",
    "    - ヘッシアンによる更新と BFGS 法を切り替える\n",
    "\n",
    "### [SCIP](https://www.scipopt.org/)\n",
    "\n",
    "- BFGS 法をはじめとするいくつかの手法が使える\n",
    "- 非線形混合整数計画問題ソルバ\n",
    "\n",
    "## その他ソルバ\n",
    "\n",
    "線形計画問題専用の主双対内点法を用いたソルバがいくつかあったので取り上げる.\n",
    "\n",
    "### [GLPK](https://www.gnu.org/software/glpk/)\n",
    "\n",
    "- 線形計画問題用の主双対内点法ソルバが入っている\n",
    "- GNU プロジェクトの一部\n",
    "- [Julia 向け wrapper](https://github.com/jump-dev/GLPK.jl)\n",
    "- [詳細なドキュメント (旧版)](http://most.ccib.rutgers.edu/glpk.pdf)\n",
    "    - 最新版は GLPK をダウンロードして展開すると見られる\n",
    "\n",
    "### [Tulip](https://github.com/ds4dm/Tulip.jl)\n",
    "\n",
    "- 線形計画問題向け\n",
    "- 主双対内点法ベース\n",
    "- [Canada Excellence Research Chair in Data Science for Real-Time Decision-Making](https://cerc-datascience.polymtl.ca/) がメンテナンスしている\n",
    "- [論文](https://arxiv.org/abs/2006.08814)\n",
    "\n",
    "### [Convex.jl](https://github.com/jump-dev/Convex.jl)\n",
    "\n",
    "- 二次計画問題, 二次錐計画問題, 半正定値計画問題などのソルバの Julia 向けインタフェースの詰め合わせ\n",
    "    - オープンソースか非商用無料のソルバ\n",
    "- コミュニティがメンテナンスしている\n",
    "    - 卒業研究代わりに学生が開発をするのが中心らしい"
   ]
  },
  {
   "cell_type": "markdown",
   "metadata": {},
   "source": [
    "### 数値例"
   ]
  },
  {
   "cell_type": "markdown",
   "metadata": {},
   "source": [
    "Ipopt で上記の方法を実行する."
   ]
  },
  {
   "cell_type": "code",
   "execution_count": 30,
   "metadata": {},
   "outputs": [
    {
     "data": {
      "text/plain": [
       "total (generic function with 1 method)"
      ]
     },
     "metadata": {},
     "output_type": "display_data"
    }
   ],
   "source": [
    "using IntervalArithmetic\n",
    "using LaTeXStrings\n",
    "using Latexify\n",
    "\n",
    "include(\"./linear.jl\")\n",
    "include(\"./logarithmic.jl\")\n",
    "include(\"./solution.jl\")\n",
    "include(\"./updatePCM.jl\")\n",
    "\n",
    "include(\"../intervalPCM/index.jl\")\n",
    "include(\"../twofoldInterval/index.jl\")\n",
    "include(\"../twofoldIntervalPCM/index.jl\")\n",
    "include(\"../simulation.jl\")"
   ]
  },
  {
   "cell_type": "code",
   "execution_count": 33,
   "metadata": {},
   "outputs": [
    {
     "data": {
      "text/latex": [
       "$A = \\begin{bmatrix} \\left[ 1.0, \\left[ 1.0, 1.0 \\right], 1.0 \\right] & \\left[ 0.33, \\left[ 0.5, 0.5 \\right], 1.0 \\right] & \\left[ 2.0, \\left[ 3.0, 8.0 \\right], 9.0 \\right] & \\left[ 1.0, \\left[ 2.0, 3.0 \\right], 5.0 \\right] & \\left[ 0.5, \\left[ 0.5, 1.0 \\right], 1.0 \\right] \\\\ \\left[ 1.0, \\left[ 2.0, 2.0 \\right], 3.0 \\right] & \\left[ 1.0, \\left[ 1.0, 1.0 \\right], 1.0 \\right] & \\left[ 4.0, \\left[ 6.0, 8.0 \\right], 9.0 \\right] & \\left[ 0.5, \\left[ 1.0, 2.0 \\right], 3.0 \\right] & \\left[ 0.5, \\left[ 1.0, 2.0 \\right], 2.0 \\right] \\\\ \\left[ 0.11, \\left[ 0.12, 0.33 \\right], 0.5 \\right] & \\left[ 0.11, \\left[ 0.12, 0.17 \\right], 0.25 \\right] & \\left[ 1.0, \\left[ 1.0, 1.0 \\right], 1.0 \\right] & \\left[ 0.11, \\left[ 0.12, 0.12 \\right], 0.25 \\right] & \\left[ 0.2, \\left[ 0.33, 0.5 \\right], 0.5 \\right] \\\\ \\left[ 0.2, \\left[ 0.33, 0.5 \\right], 1.0 \\right] & \\left[ 0.33, \\left[ 0.5, 1.0 \\right], 2.0 \\right] & \\left[ 4.0, \\left[ 8.0, 8.0 \\right], 9.0 \\right] & \\left[ 1.0, \\left[ 1.0, 1.0 \\right], 1.0 \\right] & \\left[ 0.33, \\left[ 0.33, 1.0 \\right], 1.0 \\right] \\\\ \\left[ 1.0, \\left[ 1.0, 2.0 \\right], 2.0 \\right] & \\left[ 0.5, \\left[ 0.5, 1.0 \\right], 2.0 \\right] & \\left[ 2.0, \\left[ 2.0, 3.0 \\right], 5.0 \\right] & \\left[ 1.0, \\left[ 1.0, 3.0 \\right], 3.0 \\right] & \\left[ 1.0, \\left[ 1.0, 1.0 \\right], 1.0 \\right] \\end{bmatrix}$"
      ],
      "text/plain": [
       "\"\\$A = \\\\begin{bmatrix} \\\\left[ 1.0, \\\\left[ 1.0, 1.0 \\\\right], 1.0 \\\\right] & \\\\left[ 0.33, \\\\left[ 0.5, 0.5 \\\\right], 1.0 \\\\right] & \\\\left[ 2.0, \\\\left[ 3.0, 8.0 \\\\right], 9.0 \\\\right] & \\\\left[ 1.0, \\\\left[ 2.0, 3.0 \\\\right], 5.0 \\\\right] & \\\\left[ 0.5, \\\\left[ 0.5, 1.0 \\\\right], 1.0 \\\\rig\" ⋯ 788 bytes ⋯ \"\\\\\\\\ \\\\left[ 1.0, \\\\left[ 1.0, 2.0 \\\\right], 2.0 \\\\right] & \\\\left[ 0.5, \\\\left[ 0.5, 1.0 \\\\right], 2.0 \\\\right] & \\\\left[ 2.0, \\\\left[ 2.0, 3.0 \\\\right], 5.0 \\\\right] & \\\\left[ 1.0, \\\\left[ 1.0, 3.0 \\\\right], 3.0 \\\\right] & \\\\left[ 1.0, \\\\left[ 1.0, 1.0 \\\\right], 1.0 \\\\right] \\\\end{bmatrix}\\$\""
      ]
     },
     "metadata": {},
     "output_type": "display_data"
    }
   ],
   "source": [
    "A = map(\n",
    "    case -> intervalPCM2TwofoldIntervalPCM(case.A₁, case.A₂),\n",
    "    generateSimulationCases(5, 1, 1))[1]\n",
    "\n",
    "display(L\"A = %$(twofoldIntervalMatrixLaTeXString(A))\")"
   ]
  },
  {
   "cell_type": "markdown",
   "metadata": {},
   "source": [
    "### 線形スケールで実行"
   ]
  },
  {
   "cell_type": "code",
   "execution_count": 34,
   "metadata": {},
   "outputs": [
    {
     "data": {
      "text/latex": [
       "$\\varepsilon^\\mathrm{L} = \\begin{equation}\n",
       "\\left[\n",
       "\\begin{array}{c}\n",
       "0.060606060606060635 \\\\\n",
       "0.0 \\\\\n",
       "0.042424242424242434 \\\\\n",
       "0.16161616161616166 \\\\\n",
       "0.12121212121212123 \\\\\n",
       "\\end{array}\n",
       "\\right]\n",
       "\\end{equation}\n",
       "$"
      ],
      "text/plain": [
       "L\"$\\varepsilon^\\mathrm{L} = \\begin{equation}\n",
       "\\left[\n",
       "\\begin{array}{c}\n",
       "0.060606060606060635 \\\\\n",
       "0.0 \\\\\n",
       "0.042424242424242434 \\\\\n",
       "0.16161616161616166 \\\\\n",
       "0.12121212121212123 \\\\\n",
       "\\end{array}\n",
       "\\right]\n",
       "\\end{equation}\n",
       "$\""
      ]
     },
     "metadata": {},
     "output_type": "display_data"
    },
    {
     "data": {
      "text/latex": [
       "$\\varepsilon^\\mathrm{U} = \\begin{equation}\n",
       "\\left[\n",
       "\\begin{array}{c}\n",
       "0.09090909090909094 \\\\\n",
       "0.09090909090909088 \\\\\n",
       "0.06818181818181818 \\\\\n",
       "0.060606060606060635 \\\\\n",
       "0.2121212121212121 \\\\\n",
       "\\end{array}\n",
       "\\right]\n",
       "\\end{equation}\n",
       "$"
      ],
      "text/plain": [
       "L\"$\\varepsilon^\\mathrm{U} = \\begin{equation}\n",
       "\\left[\n",
       "\\begin{array}{c}\n",
       "0.09090909090909094 \\\\\n",
       "0.09090909090909088 \\\\\n",
       "0.06818181818181818 \\\\\n",
       "0.060606060606060635 \\\\\n",
       "0.2121212121212121 \\\\\n",
       "\\end{array}\n",
       "\\right]\n",
       "\\end{equation}\n",
       "$\""
      ]
     },
     "metadata": {},
     "output_type": "display_data"
    },
    {
     "data": {
      "text/latex": [
       "$\\mathscr{A} = \\begin{bmatrix} \\left[ 1.0, \\left[ 1.0, 1.0 \\right], 1.0 \\right] & \\left[ 0.33, \\left[ 0.5, 0.5 \\right], 1.12 \\right] & \\left[ 2.0, \\left[ 3.33, 3.33 \\right], 9.0 \\right] & \\left[ 0.75, \\left[ 1.0, 1.0 \\right], 5.0 \\right] & \\left[ 0.5, \\left[ 1.0, 1.0 \\right], 2.0 \\right] \\\\ \\left[ 0.89, \\left[ 1.5, 1.5 \\right], 3.0 \\right] & \\left[ 1.0, \\left[ 1.0, 1.0 \\right], 1.0 \\right] & \\left[ 2.67, \\left[ 5.0, 5.0 \\right], 12.0 \\right] & \\left[ 0.5, \\left[ 1.33, 1.5 \\right], 4.5 \\right] & \\left[ 0.5, \\left[ 1.5, 1.5 \\right], 3.0 \\right] \\\\ \\left[ 0.11, \\left[ 0.13, 0.13 \\right], 0.5 \\right] & \\left[ 0.08, \\left[ 0.09, 0.09 \\right], 0.37 \\right] & \\left[ 1.0, \\left[ 1.0, 1.0 \\right], 1.0 \\right] & \\left[ 0.11, \\left[ 0.12, 0.12 \\right], 1.0 \\right] & \\left[ 0.08, \\left[ 0.13, 0.13 \\right], 0.5 \\right] \\\\ \\left[ 0.2, \\left[ 0.5, 0.5 \\right], 1.33 \\right] & \\left[ 0.22, \\left[ 0.67, 0.75 \\right], 2.0 \\right] & \\left[ 1.0, \\left[ 3.33, 3.33 \\right], 9.0 \\right] & \\left[ 1.0, \\left[ 1.0, 1.0 \\right], 1.0 \\right] & \\left[ 0.22, \\left[ 0.67, 1.0 \\right], 2.0 \\right] \\\\ \\left[ 0.5, \\left[ 0.83, 0.83 \\right], 2.0 \\right] & \\left[ 0.33, \\left[ 0.62, 0.62 \\right], 2.0 \\right] & \\left[ 2.0, \\left[ 3.0, 3.0 \\right], 12.0 \\right] & \\left[ 0.5, \\left[ 1.0, 1.5 \\right], 4.5 \\right] & \\left[ 1.0, \\left[ 1.0, 1.0 \\right], 1.0 \\right] \\end{bmatrix}$"
      ],
      "text/plain": [
       "\"\\$\\\\mathscr{A} = \\\\begin{bmatrix} \\\\left[ 1.0, \\\\left[ 1.0, 1.0 \\\\right], 1.0 \\\\right] & \\\\left[ 0.33, \\\\left[ 0.5, 0.5 \\\\right], 1.12 \\\\right] & \\\\left[ 2.0, \\\\left[ 3.33, 3.33 \\\\right], 9.0 \\\\right] & \\\\left[ 0.75, \\\\left[ 1.0, 1.0 \\\\right], 5.0 \\\\right] & \\\\left[ 0.5, \\\\left[ 1.0, 1.0 \\\\ri\" ⋯ 817 bytes ⋯ \"ft[ 0.5, \\\\left[ 0.83, 0.83 \\\\right], 2.0 \\\\right] & \\\\left[ 0.33, \\\\left[ 0.62, 0.62 \\\\right], 2.0 \\\\right] & \\\\left[ 2.0, \\\\left[ 3.0, 3.0 \\\\right], 12.0 \\\\right] & \\\\left[ 0.5, \\\\left[ 1.0, 1.5 \\\\right], 4.5 \\\\right] & \\\\left[ 1.0, \\\\left[ 1.0, 1.0 \\\\right], 1.0 \\\\right] \\\\end{bmatrix}\\$\""
      ]
     },
     "metadata": {},
     "output_type": "display_data"
    }
   ],
   "source": [
    "solution_Linear = solveLinear(A)\n",
    "\n",
    "display(L\"\\varepsilon^\\mathrm{L} = %$(latexify(solution_Linear.εᴸ))\")\n",
    "display(L\"\\varepsilon^\\mathrm{U} = %$(latexify(solution_Linear.εᵁ))\")\n",
    "\n",
    "𝒜_Linear = updatePCM(A, solution_Linear)\n",
    "\n",
    "display(L\"\\mathscr{A} = %$(twofoldIntervalMatrixLaTeXString(𝒜_Linear))\")"
   ]
  },
  {
   "cell_type": "markdown",
   "metadata": {},
   "source": [
    "### 対数スケールで実行"
   ]
  },
  {
   "cell_type": "code",
   "execution_count": 35,
   "metadata": {},
   "outputs": [
    {
     "data": {
      "text/latex": [
       "$\\varepsilon^\\mathrm{L} = \\begin{equation}\n",
       "\\left[\n",
       "\\begin{array}{c}\n",
       "0.587087361316438 \\\\\n",
       "1.4229211557537325e-9 \\\\\n",
       "0.5760628513301684 \\\\\n",
       "0.8451412285342697 \\\\\n",
       "0.9466179315446899 \\\\\n",
       "\\end{array}\n",
       "\\right]\n",
       "\\end{equation}\n",
       "$"
      ],
      "text/plain": [
       "L\"$\\varepsilon^\\mathrm{L} = \\begin{equation}\n",
       "\\left[\n",
       "\\begin{array}{c}\n",
       "0.587087361316438 \\\\\n",
       "1.4229211557537325e-9 \\\\\n",
       "0.5760628513301684 \\\\\n",
       "0.8451412285342697 \\\\\n",
       "0.9466179315446899 \\\\\n",
       "\\end{array}\n",
       "\\right]\n",
       "\\end{equation}\n",
       "$\""
      ]
     },
     "metadata": {},
     "output_type": "display_data"
    },
    {
     "data": {
      "text/latex": [
       "$\\varepsilon^\\mathrm{U} = \\begin{equation}\n",
       "\\left[\n",
       "\\begin{array}{c}\n",
       "0.6931470806398697 \\\\\n",
       "8.107771218710842e-9 \\\\\n",
       "1.0986118603489612 \\\\\n",
       "0.613796432397407 \\\\\n",
       "0.5493542141959666 \\\\\n",
       "\\end{array}\n",
       "\\right]\n",
       "\\end{equation}\n",
       "$"
      ],
      "text/plain": [
       "L\"$\\varepsilon^\\mathrm{U} = \\begin{equation}\n",
       "\\left[\n",
       "\\begin{array}{c}\n",
       "0.6931470806398697 \\\\\n",
       "8.107771218710842e-9 \\\\\n",
       "1.0986118603489612 \\\\\n",
       "0.613796432397407 \\\\\n",
       "0.5493542141959666 \\\\\n",
       "\\end{array}\n",
       "\\right]\n",
       "\\end{equation}\n",
       "$\""
      ]
     },
     "metadata": {},
     "output_type": "display_data"
    },
    {
     "data": {
      "text/latex": [
       "$\\mathscr{A} = \\begin{bmatrix} \\left[ 1.0, \\left[ 1.0, 1.0 \\right], 1.0 \\right] & \\left[ 0.33, \\left[ 0.5, 0.5 \\right], 1.41 \\right] & \\left[ 2.0, \\left[ 4.33, 4.33 \\right], 9.0 \\right] & \\left[ 0.54, \\left[ 1.29, 1.29 \\right], 5.0 \\right] & \\left[ 0.5, \\left[ 0.9, 1.0 \\right], 2.58 \\right] \\\\ \\left[ 0.71, \\left[ 1.41, 1.41 \\right], 3.0 \\right] & \\left[ 1.0, \\left[ 1.0, 1.0 \\right], 1.0 \\right] & \\left[ 2.84, \\left[ 6.33, 6.33 \\right], 11.26 \\right] & \\left[ 0.5, \\left[ 1.42, 1.81 \\right], 4.22 \\right] & \\left[ 0.5, \\left[ 1.23, 1.41 \\right], 3.63 \\right] \\\\ \\left[ 0.11, \\left[ 0.17, 0.17 \\right], 0.5 \\right] & \\left[ 0.09, \\left[ 0.12, 0.12 \\right], 0.35 \\right] & \\left[ 1.0, \\left[ 1.0, 1.0 \\right], 1.0 \\right] & \\left[ 0.11, \\left[ 0.12, 0.12 \\right], 0.75 \\right] & \\left[ 0.11, \\left[ 0.17, 0.17 \\right], 0.5 \\right] \\\\ \\left[ 0.2, \\left[ 0.5, 0.5 \\right], 1.85 \\right] & \\left[ 0.24, \\left[ 0.55, 0.7 \\right], 2.0 \\right] & \\left[ 1.33, \\left[ 4.33, 4.33 \\right], 9.0 \\right] & \\left[ 1.0, \\left[ 1.0, 1.0 \\right], 1.0 \\right] & \\left[ 0.3, \\left[ 0.7, 1.0 \\right], 2.58 \\right] \\\\ \\left[ 0.39, \\left[ 1.0, 1.11 \\right], 2.0 \\right] & \\left[ 0.28, \\left[ 0.71, 0.81 \\right], 2.0 \\right] & \\left[ 2.0, \\left[ 3.0, 3.0 \\right], 8.9 \\right] & \\left[ 0.39, \\left[ 1.0, 1.43 \\right], 3.34 \\right] & \\left[ 1.0, \\left[ 1.0, 1.0 \\right], 1.0 \\right] \\end{bmatrix}$"
      ],
      "text/plain": [
       "\"\\$\\\\mathscr{A} = \\\\begin{bmatrix} \\\\left[ 1.0, \\\\left[ 1.0, 1.0 \\\\right], 1.0 \\\\right] & \\\\left[ 0.33, \\\\left[ 0.5, 0.5 \\\\right], 1.41 \\\\right] & \\\\left[ 2.0, \\\\left[ 4.33, 4.33 \\\\right], 9.0 \\\\right] & \\\\left[ 0.54, \\\\left[ 1.29, 1.29 \\\\right], 5.0 \\\\right] & \\\\left[ 0.5, \\\\left[ 0.9, 1.0 \\\\\" ⋯ 832 bytes ⋯ \"[ 0.39, \\\\left[ 1.0, 1.11 \\\\right], 2.0 \\\\right] & \\\\left[ 0.28, \\\\left[ 0.71, 0.81 \\\\right], 2.0 \\\\right] & \\\\left[ 2.0, \\\\left[ 3.0, 3.0 \\\\right], 8.9 \\\\right] & \\\\left[ 0.39, \\\\left[ 1.0, 1.43 \\\\right], 3.34 \\\\right] & \\\\left[ 1.0, \\\\left[ 1.0, 1.0 \\\\right], 1.0 \\\\right] \\\\end{bmatrix}\\$\""
      ]
     },
     "metadata": {},
     "output_type": "display_data"
    }
   ],
   "source": [
    "solution_Logarithmic = solveLogarithmic(A)\n",
    "\n",
    "display(L\"\\varepsilon^\\mathrm{L} = %$(latexify(solution_Logarithmic.εᴸ))\")\n",
    "display(L\"\\varepsilon^\\mathrm{U} = %$(latexify(solution_Logarithmic.εᵁ))\")\n",
    "\n",
    "𝒜_Logarithmic = updatePCM(A, solution_Logarithmic)\n",
    "\n",
    "display(L\"\\mathscr{A} = %$(twofoldIntervalMatrixLaTeXString(𝒜_Logarithmic))\")"
   ]
  },
  {
   "cell_type": "markdown",
   "metadata": {},
   "source": [
    "どの $i$ もまんべんなく修正されていることがわかる.\n",
    "\n",
    "線形で解いた従来のモデルと今回作成したモデルとの間で修正量の大きさの比較はできないことに注意."
   ]
  },
  {
   "cell_type": "markdown",
   "metadata": {},
   "source": []
  }
 ],
 "metadata": {
  "kernelspec": {
   "display_name": "Julia 1.9.1",
   "language": "julia",
   "name": "julia-1.9"
  },
  "language_info": {
   "file_extension": ".jl",
   "mimetype": "application/julia",
   "name": "julia",
   "version": "1.9.1"
  }
 },
 "nbformat": 4,
 "nbformat_minor": 2
}
