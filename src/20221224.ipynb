{
 "cells": [
  {
   "attachments": {},
   "cell_type": "markdown",
   "id": "861633f4-1250-459f-a30a-a7b79b59f811",
   "metadata": {},
   "source": [
    "# 2022 / 12 / 24"
   ]
  },
  {
   "cell_type": "code",
   "execution_count": 1,
   "id": "cc9c2ab8-e95b-4b69-9229-5be8a94d9517",
   "metadata": {},
   "outputs": [],
   "source": [
    "using IntervalArithmetic\n",
    "using LaTeXStrings"
   ]
  },
  {
   "cell_type": "code",
   "execution_count": 2,
   "id": "31f113d6-703e-4d94-8bf6-6f29a91a5859",
   "metadata": {},
   "outputs": [
    {
     "data": {
      "text/plain": [
       "intervalPCM2TwofoldIntervalPCM"
      ]
     },
     "metadata": {},
     "output_type": "display_data"
    }
   ],
   "source": [
    "include(\"./concatImportanceMethod/concatImportanceMethod.jl\")\n",
    "include(\"./concatMatricesMethod/concatMatricesMethod.jl\")\n",
    "include(\"./display/concatImportanceMethod.jl\")\n",
    "include(\"./display/concatMatricesMethod.jl\")\n",
    "include(\"./display/interval.jl\")\n",
    "include(\"./display/twofoldInterval.jl\")\n",
    "include(\"./twofoldIntervalPCM/twofoldIntervalPCM.jl\")"
   ]
  },
  {
   "cell_type": "code",
   "execution_count": 3,
   "id": "39cbcb05-824d-4c9c-9d89-d18d6e57fc57",
   "metadata": {},
   "outputs": [
    {
     "data": {
      "text/plain": [
       "concatMatricesMethod (generic function with 1 method)"
      ]
     },
     "metadata": {},
     "output_type": "display_data"
    }
   ],
   "source": [
    "function concatMatricesMethod(A₁::Matrix{Interval{T}}, A₂::Matrix{Interval{T}}) where {T <: Real}\n",
    "    A = intervalPCM2TwofoldIntervalPCM(A₁, A₂)\n",
    "    display(L\"\\text{修正前の行列}\")\n",
    "    display(L\"A = %$(twofoldIntervalMatrixLaTeXString(A))\")\n",
    "\n",
    "    result = solveConcatMatricesMethodLP(A)\n",
    "    display(L\"\\text{LPの最適解}\")\n",
    "    displayConcatMatricesMethodLPResult(result)\n",
    "\n",
    "    Â = updateConcatMatricesMethodPCM(A, result)\n",
    "    display(L\"\\text{修正後の行列}\")\n",
    "    display(L\"\\hat{A} = %$(twofoldIntervalMatrixLaTeXString(Â))\")\n",
    "\n",
    "    return Â\n",
    "end"
   ]
  },
  {
   "cell_type": "code",
   "execution_count": 4,
   "id": "0641976a-5193-49af-b922-28624f8155ca",
   "metadata": {},
   "outputs": [
    {
     "data": {
      "text/plain": [
       "concatImportanceMethod (generic function with 1 method)"
      ]
     },
     "metadata": {},
     "output_type": "display_data"
    }
   ],
   "source": [
    "function concatImportanceMethod(A₁::Matrix{Interval{T}}, A₂::Matrix{Interval{T}}) where {T <: Real}\n",
    "    approximationResults = solveConcatImportanceMethodApproximationLP.([A₁, A₂])\n",
    "    display(L\"\\text{各DMの上近似と下近似}\")\n",
    "    displayConcatImportanceMethodApproximationLPResults(approximationResults)\n",
    "\n",
    "    tBoundaries = calculateConcatImportanceMethodTBoundaries.(approximationResults)\n",
    "    display(L\"\\text{各DMの上近似と下近似の}t\\text{の範囲}\")\n",
    "    displayConcatImportanceMethodTBoundaries(tBoundaries)\n",
    "\n",
    "    result = solveConcatImportanceMethodConcatLP(approximationResults, tBoundaries)\n",
    "    display(L\"\\text{LPの最適解}\")\n",
    "    displayConcatImportanceMethodConcatLPResult(result)\n",
    "\n",
    "    Â = generateConcatImportanceMethodPCM(result)\n",
    "    display(L\"\\text{結合後のPCM}\")\n",
    "    display(L\"\\hat{A} = %$(twofoldIntervalMatrixLaTeXString(Â))\")\n",
    "\n",
    "    return Â\n",
    "end"
   ]
  },
  {
   "cell_type": "code",
   "execution_count": 5,
   "id": "75a3de1b-e2fe-41f8-a5e5-ad1c6957977f",
   "metadata": {},
   "outputs": [
    {
     "data": {
      "text/plain": [
       "runBothMethod (generic function with 1 method)"
      ]
     },
     "metadata": {},
     "output_type": "display_data"
    }
   ],
   "source": [
    "function runBothMethod(A₁::Matrix{Interval{T}}, A₂::Matrix{Interval{T}}) where {T <: Real}\n",
    "    display(L\"A_1 = %$(intervalMatrixLaTeXString(A₁))\")\n",
    "    display(L\"A_2 = %$(intervalMatrixLaTeXString(A₂))\")\n",
    "    \n",
    "    display(L\"\\text{--- PCMを結合 ---}\")\n",
    "    concatMatricesMethod(A₁, A₂)\n",
    "\n",
    "    display(L\"\\text{--- 重要度を結合 ---}\")\n",
    "    concatImportanceMethod(A₁, A₂)\n",
    "end"
   ]
  },
  {
   "cell_type": "markdown",
   "id": "622fc8c2-9407-46d1-9e66-d2efce33205d",
   "metadata": {},
   "source": [
    "---\n",
    "推移率が成り立つcrisp PCM\n",
    "$\n",
    "\\begin{bmatrix} 1 & 4 & 2 \\\\ 1/4 & 1 & 1/2 \\\\ 1/2 & 2 & 1 \\end{bmatrix}\n",
    "$\n",
    "2つを入力"
   ]
  },
  {
   "cell_type": "code",
   "execution_count": 6,
   "id": "1ff2dc63-5e42-4bc3-8819-42823af4bf45",
   "metadata": {},
   "outputs": [
    {
     "data": {
      "text/latex": [
       "$A_1 = \\begin{bmatrix} \\left[ 1.0, 1.0 \\right] & \\left[ 4.0, 4.0 \\right] & \\left[ 2.0, 2.0 \\right] \\\\ \\left[ 0.25, 0.25 \\right] & \\left[ 1.0, 1.0 \\right] & \\left[ 0.5, 0.5 \\right] \\\\ \\left[ 0.5, 0.5 \\right] & \\left[ 2.0, 2.0 \\right] & \\left[ 1.0, 1.0 \\right] \\end{bmatrix}$"
      ],
      "text/plain": [
       "L\"$A_1 = \\begin{bmatrix} \\left[ 1.0, 1.0 \\right] & \\left[ 4.0, 4.0 \\right] & \\left[ 2.0, 2.0 \\right] \\\\ \\left[ 0.25, 0.25 \\right] & \\left[ 1.0, 1.0 \\right] & \\left[ 0.5, 0.5 \\right] \\\\ \\left[ 0.5, 0.5 \\right] & \\left[ 2.0, 2.0 \\right] & \\left[ 1.0, 1.0 \\right] \\end{bmatrix}$\""
      ]
     },
     "metadata": {},
     "output_type": "display_data"
    },
    {
     "data": {
      "text/latex": [
       "$A_2 = \\begin{bmatrix} \\left[ 1.0, 1.0 \\right] & \\left[ 4.0, 4.0 \\right] & \\left[ 2.0, 2.0 \\right] \\\\ \\left[ 0.25, 0.25 \\right] & \\left[ 1.0, 1.0 \\right] & \\left[ 0.5, 0.5 \\right] \\\\ \\left[ 0.5, 0.5 \\right] & \\left[ 2.0, 2.0 \\right] & \\left[ 1.0, 1.0 \\right] \\end{bmatrix}$"
      ],
      "text/plain": [
       "L\"$A_2 = \\begin{bmatrix} \\left[ 1.0, 1.0 \\right] & \\left[ 4.0, 4.0 \\right] & \\left[ 2.0, 2.0 \\right] \\\\ \\left[ 0.25, 0.25 \\right] & \\left[ 1.0, 1.0 \\right] & \\left[ 0.5, 0.5 \\right] \\\\ \\left[ 0.5, 0.5 \\right] & \\left[ 2.0, 2.0 \\right] & \\left[ 1.0, 1.0 \\right] \\end{bmatrix}$\""
      ]
     },
     "metadata": {},
     "output_type": "display_data"
    },
    {
     "data": {
      "text/latex": [
       "$\\text{--- PCMを結合 ---}$"
      ],
      "text/plain": [
       "L\"$\\text{--- PCMを結合 ---}$\""
      ]
     },
     "metadata": {},
     "output_type": "display_data"
    },
    {
     "data": {
      "text/latex": [
       "$\\text{修正前の行列}$"
      ],
      "text/plain": [
       "L\"$\\text{修正前の行列}$\""
      ]
     },
     "metadata": {},
     "output_type": "display_data"
    },
    {
     "data": {
      "text/latex": [
       "$A = \\begin{bmatrix} \\left[   1.0, \\left[   1.0,   1.0 \\right],   1.0 \\right] & \\left[   4.0, \\left[   4.0,   4.0 \\right],   4.0 \\right] & \\left[   2.0, \\left[   2.0,   2.0 \\right],   2.0 \\right] \\\\ \\left[  0.25, \\left[  0.25,  0.25 \\right],  0.25 \\right] & \\left[   1.0, \\left[   1.0,   1.0 \\right],   1.0 \\right] & \\left[   0.5, \\left[   0.5,   0.5 \\right],   0.5 \\right] \\\\ \\left[   0.5, \\left[   0.5,   0.5 \\right],   0.5 \\right] & \\left[   2.0, \\left[   2.0,   2.0 \\right],   2.0 \\right] & \\left[   1.0, \\left[   1.0,   1.0 \\right],   1.0 \\right] \\end{bmatrix}$"
      ],
      "text/plain": [
       "\"\\$A = \\\\begin{bmatrix} \\\\left[   1.0, \\\\left[   1.0,   1.0 \\\\right],   1.0 \\\\right] & \\\\left[   4.0, \\\\left[   4.0,   4.0 \\\\right],   4.0 \\\\right] & \\\\left[   2.0, \\\\left[   2.0,   2.0 \\\\right],   2.0 \\\\right] \\\\\\\\ \\\\left[  0.25, \\\\left[  0.25,  0.25 \\\\right],  0.25 \\\\right] & \\\\left[   1.0,\" ⋯ 24 bytes ⋯ \"ght],   1.0 \\\\right] & \\\\left[   0.5, \\\\left[   0.5,   0.5 \\\\right],   0.5 \\\\right] \\\\\\\\ \\\\left[   0.5, \\\\left[   0.5,   0.5 \\\\right],   0.5 \\\\right] & \\\\left[   2.0, \\\\left[   2.0,   2.0 \\\\right],   2.0 \\\\right] & \\\\left[   1.0, \\\\left[   1.0,   1.0 \\\\right],   1.0 \\\\right] \\\\end{bmatrix}\\$\""
      ]
     },
     "metadata": {},
     "output_type": "display_data"
    },
    {
     "data": {
      "text/latex": [
       "$\\text{LPの最適解}$"
      ],
      "text/plain": [
       "L\"$\\text{LPの最適解}$\""
      ]
     },
     "metadata": {},
     "output_type": "display_data"
    },
    {
     "data": {
      "text/latex": [
       "$W = \\begin{bmatrix}\\left[ 0.571, 0.571 \\right] \\\\ \\left[ 0.143, 0.143 \\right] \\\\ \\left[ 0.286, 0.286 \\right]\\end{bmatrix}$"
      ],
      "text/plain": [
       "L\"$W = \\begin{bmatrix}\\left[ 0.571, 0.571 \\right] \\\\ \\left[ 0.143, 0.143 \\right] \\\\ \\left[ 0.286, 0.286 \\right]\\end{bmatrix}$\""
      ]
     },
     "metadata": {},
     "output_type": "display_data"
    },
    {
     "data": {
      "text/latex": [
       "$w^{\\text{L}-} = \\begin{bmatrix} 0.571  \\\\  0.143  \\\\  0.286 \\end{bmatrix}, ~~\n",
       "w^{\\text{U}-} = \\begin{bmatrix} 0.571  \\\\  0.143  \\\\  0.286 \\end{bmatrix}, ~~\n",
       "w^{\\text{L}+} = \\begin{bmatrix} 0.571  \\\\  0.143  \\\\  0.286 \\end{bmatrix}, ~~\n",
       "w^{\\text{U}+} = \\begin{bmatrix} 0.571  \\\\  0.143  \\\\  0.286 \\end{bmatrix}\n",
       "$"
      ],
      "text/plain": [
       "L\"$w^{\\text{L}-} = \\begin{bmatrix} 0.571  \\\\  0.143  \\\\  0.286 \\end{bmatrix}, ~~\n",
       "w^{\\text{U}-} = \\begin{bmatrix} 0.571  \\\\  0.143  \\\\  0.286 \\end{bmatrix}, ~~\n",
       "w^{\\text{L}+} = \\begin{bmatrix} 0.571  \\\\  0.143  \\\\  0.286 \\end{bmatrix}, ~~\n",
       "w^{\\text{U}+} = \\begin{bmatrix} 0.571  \\\\  0.143  \\\\  0.286 \\end{bmatrix}\n",
       "$\""
      ]
     },
     "metadata": {},
     "output_type": "display_data"
    },
    {
     "data": {
      "text/latex": [
       "$\\varepsilon^\\text{L} = \\begin{bmatrix} 0.0  \\\\  0.0  \\\\  0.0 \\end{bmatrix}, ~~\n",
       "\\varepsilon^\\text{U} = \\begin{bmatrix} 0.0  \\\\  0.0  \\\\  0.0 \\end{bmatrix}\n",
       "$"
      ],
      "text/plain": [
       "L\"$\\varepsilon^\\text{L} = \\begin{bmatrix} 0.0  \\\\  0.0  \\\\  0.0 \\end{bmatrix}, ~~\n",
       "\\varepsilon^\\text{U} = \\begin{bmatrix} 0.0  \\\\  0.0  \\\\  0.0 \\end{bmatrix}\n",
       "$\""
      ]
     },
     "metadata": {},
     "output_type": "display_data"
    },
    {
     "data": {
      "text/latex": [
       "$\\text{修正後の行列}$"
      ],
      "text/plain": [
       "L\"$\\text{修正後の行列}$\""
      ]
     },
     "metadata": {},
     "output_type": "display_data"
    },
    {
     "data": {
      "text/latex": [
       "$\\hat{A} = \\begin{bmatrix} \\left[   1.0, \\left[   1.0,   1.0 \\right],   1.0 \\right] & \\left[   4.0, \\left[   4.0,   4.0 \\right],   4.0 \\right] & \\left[   2.0, \\left[   2.0,   2.0 \\right],   2.0 \\right] \\\\ \\left[  0.25, \\left[  0.25,  0.25 \\right],  0.25 \\right] & \\left[   1.0, \\left[   1.0,   1.0 \\right],   1.0 \\right] & \\left[   0.5, \\left[   0.5,   0.5 \\right],   0.5 \\right] \\\\ \\left[   0.5, \\left[   0.5,   0.5 \\right],   0.5 \\right] & \\left[   2.0, \\left[   2.0,   2.0 \\right],   2.0 \\right] & \\left[   1.0, \\left[   1.0,   1.0 \\right],   1.0 \\right] \\end{bmatrix}$"
      ],
      "text/plain": [
       "\"\\$\\\\hat{A} = \\\\begin{bmatrix} \\\\left[   1.0, \\\\left[   1.0,   1.0 \\\\right],   1.0 \\\\right] & \\\\left[   4.0, \\\\left[   4.0,   4.0 \\\\right],   4.0 \\\\right] & \\\\left[   2.0, \\\\left[   2.0,   2.0 \\\\right],   2.0 \\\\right] \\\\\\\\ \\\\left[  0.25, \\\\left[  0.25,  0.25 \\\\right],  0.25 \\\\right] & \\\\left[ \" ⋯ 30 bytes ⋯ \"ght],   1.0 \\\\right] & \\\\left[   0.5, \\\\left[   0.5,   0.5 \\\\right],   0.5 \\\\right] \\\\\\\\ \\\\left[   0.5, \\\\left[   0.5,   0.5 \\\\right],   0.5 \\\\right] & \\\\left[   2.0, \\\\left[   2.0,   2.0 \\\\right],   2.0 \\\\right] & \\\\left[   1.0, \\\\left[   1.0,   1.0 \\\\right],   1.0 \\\\right] \\\\end{bmatrix}\\$\""
      ]
     },
     "metadata": {},
     "output_type": "display_data"
    },
    {
     "data": {
      "text/latex": [
       "$\\text{--- 重要度を結合 ---}$"
      ],
      "text/plain": [
       "L\"$\\text{--- 重要度を結合 ---}$\""
      ]
     },
     "metadata": {},
     "output_type": "display_data"
    },
    {
     "data": {
      "text/latex": [
       "$\\text{各DMの上近似と下近似}$"
      ],
      "text/plain": [
       "L\"$\\text{各DMの上近似と下近似}$\""
      ]
     },
     "metadata": {},
     "output_type": "display_data"
    },
    {
     "data": {
      "text/latex": [
       "$    w_{1}^{\\text{L}-} = \\begin{bmatrix} 0.571  \\\\  0.143  \\\\  0.286 \\end{bmatrix}, ~~\n",
       "    w_{1}^{\\text{U}-} = \\begin{bmatrix} 0.571  \\\\  0.143  \\\\  0.286 \\end{bmatrix}, ~~\n",
       "    w_{1}^{\\text{L}+} = \\begin{bmatrix} 0.571  \\\\  0.143  \\\\  0.286 \\end{bmatrix}, ~~\n",
       "    w_{1}^{\\text{U}+} = \\begin{bmatrix} 0.571  \\\\  0.143  \\\\  0.286 \\end{bmatrix}\n",
       "$"
      ],
      "text/plain": [
       "L\"$    w_{1}^{\\text{L}-} = \\begin{bmatrix} 0.571  \\\\  0.143  \\\\  0.286 \\end{bmatrix}, ~~\n",
       "    w_{1}^{\\text{U}-} = \\begin{bmatrix} 0.571  \\\\  0.143  \\\\  0.286 \\end{bmatrix}, ~~\n",
       "    w_{1}^{\\text{L}+} = \\begin{bmatrix} 0.571  \\\\  0.143  \\\\  0.286 \\end{bmatrix}, ~~\n",
       "    w_{1}^{\\text{U}+} = \\begin{bmatrix} 0.571  \\\\  0.143  \\\\  0.286 \\end{bmatrix}\n",
       "$\""
      ]
     },
     "metadata": {},
     "output_type": "display_data"
    },
    {
     "data": {
      "text/latex": [
       "$    w_{2}^{\\text{L}-} = \\begin{bmatrix} 0.571  \\\\  0.143  \\\\  0.286 \\end{bmatrix}, ~~\n",
       "    w_{2}^{\\text{U}-} = \\begin{bmatrix} 0.571  \\\\  0.143  \\\\  0.286 \\end{bmatrix}, ~~\n",
       "    w_{2}^{\\text{L}+} = \\begin{bmatrix} 0.571  \\\\  0.143  \\\\  0.286 \\end{bmatrix}, ~~\n",
       "    w_{2}^{\\text{U}+} = \\begin{bmatrix} 0.571  \\\\  0.143  \\\\  0.286 \\end{bmatrix}\n",
       "$"
      ],
      "text/plain": [
       "L\"$    w_{2}^{\\text{L}-} = \\begin{bmatrix} 0.571  \\\\  0.143  \\\\  0.286 \\end{bmatrix}, ~~\n",
       "    w_{2}^{\\text{U}-} = \\begin{bmatrix} 0.571  \\\\  0.143  \\\\  0.286 \\end{bmatrix}, ~~\n",
       "    w_{2}^{\\text{L}+} = \\begin{bmatrix} 0.571  \\\\  0.143  \\\\  0.286 \\end{bmatrix}, ~~\n",
       "    w_{2}^{\\text{U}+} = \\begin{bmatrix} 0.571  \\\\  0.143  \\\\  0.286 \\end{bmatrix}\n",
       "$\""
      ]
     },
     "metadata": {},
     "output_type": "display_data"
    },
    {
     "data": {
      "text/latex": [
       "$\\text{各DMの上近似と下近似の}t\\text{の範囲}$"
      ],
      "text/plain": [
       "L\"$\\text{各DMの上近似と下近似の}t\\text{の範囲}$\""
      ]
     },
     "metadata": {},
     "output_type": "display_data"
    },
    {
     "data": {
      "text/latex": [
       "$    t_{1}^{\\text{L}-} = 1.0, ~~\n",
       "    t_{1}^{\\text{U}-} = 1.0, ~~\n",
       "    t_{1}^{\\text{L}+} = 1.0, ~~\n",
       "    t_{1}^{\\text{U}+} = 1.0\n",
       "$"
      ],
      "text/plain": [
       "L\"$    t_{1}^{\\text{L}-} = 1.0, ~~\n",
       "    t_{1}^{\\text{U}-} = 1.0, ~~\n",
       "    t_{1}^{\\text{L}+} = 1.0, ~~\n",
       "    t_{1}^{\\text{U}+} = 1.0\n",
       "$\""
      ]
     },
     "metadata": {},
     "output_type": "display_data"
    },
    {
     "data": {
      "text/latex": [
       "$    t_{2}^{\\text{L}-} = 1.0, ~~\n",
       "    t_{2}^{\\text{U}-} = 1.0, ~~\n",
       "    t_{2}^{\\text{L}+} = 1.0, ~~\n",
       "    t_{2}^{\\text{U}+} = 1.0\n",
       "$"
      ],
      "text/plain": [
       "L\"$    t_{2}^{\\text{L}-} = 1.0, ~~\n",
       "    t_{2}^{\\text{U}-} = 1.0, ~~\n",
       "    t_{2}^{\\text{L}+} = 1.0, ~~\n",
       "    t_{2}^{\\text{U}+} = 1.0\n",
       "$\""
      ]
     },
     "metadata": {},
     "output_type": "display_data"
    },
    {
     "data": {
      "text/latex": [
       "$\\text{LPの最適解}$"
      ],
      "text/plain": [
       "L\"$\\text{LPの最適解}$\""
      ]
     },
     "metadata": {},
     "output_type": "display_data"
    },
    {
     "data": {
      "text/latex": [
       "$t^- = \\begin{bmatrix} 1.0  \\\\  1.0 \\end{bmatrix}, ~~\n",
       "t^+ = \\begin{bmatrix} 1.0  \\\\  1.0 \\end{bmatrix}\n",
       "$"
      ],
      "text/plain": [
       "L\"$t^- = \\begin{bmatrix} 1.0  \\\\  1.0 \\end{bmatrix}, ~~\n",
       "t^+ = \\begin{bmatrix} 1.0  \\\\  1.0 \\end{bmatrix}\n",
       "$\""
      ]
     },
     "metadata": {},
     "output_type": "display_data"
    },
    {
     "data": {
      "text/latex": [
       "$W = \\begin{bmatrix}\\left[ 0.571, 0.571 \\right] \\\\ \\left[ 0.143, 0.143 \\right] \\\\ \\left[ 0.286, 0.286 \\right]\\end{bmatrix}$"
      ],
      "text/plain": [
       "L\"$W = \\begin{bmatrix}\\left[ 0.571, 0.571 \\right] \\\\ \\left[ 0.143, 0.143 \\right] \\\\ \\left[ 0.286, 0.286 \\right]\\end{bmatrix}$\""
      ]
     },
     "metadata": {},
     "output_type": "display_data"
    },
    {
     "data": {
      "text/latex": [
       "$v^{\\text{L}-} = \\begin{bmatrix} 0.571  \\\\  0.143  \\\\  0.286 \\end{bmatrix}, ~~\n",
       "v^{\\text{U}-} = \\begin{bmatrix} 0.571  \\\\  0.143  \\\\  0.286 \\end{bmatrix}, ~~\n",
       "v^{\\text{L}+} = \\begin{bmatrix} 0.571  \\\\  0.143  \\\\  0.286 \\end{bmatrix}, ~~\n",
       "v^{\\text{U}+} = \\begin{bmatrix} 0.571  \\\\  0.143  \\\\  0.286 \\end{bmatrix}\n",
       "$"
      ],
      "text/plain": [
       "L\"$v^{\\text{L}-} = \\begin{bmatrix} 0.571  \\\\  0.143  \\\\  0.286 \\end{bmatrix}, ~~\n",
       "v^{\\text{U}-} = \\begin{bmatrix} 0.571  \\\\  0.143  \\\\  0.286 \\end{bmatrix}, ~~\n",
       "v^{\\text{L}+} = \\begin{bmatrix} 0.571  \\\\  0.143  \\\\  0.286 \\end{bmatrix}, ~~\n",
       "v^{\\text{U}+} = \\begin{bmatrix} 0.571  \\\\  0.143  \\\\  0.286 \\end{bmatrix}\n",
       "$\""
      ]
     },
     "metadata": {},
     "output_type": "display_data"
    },
    {
     "data": {
      "text/latex": [
       "$\\varepsilon^\\text{L} = \\begin{bmatrix} 0.0  \\\\  0.0  \\\\  0.0 \\end{bmatrix}, ~~\n",
       "\\varepsilon^\\text{U} = \\begin{bmatrix} 0.0  \\\\  0.0  \\\\  0.0 \\end{bmatrix}\n",
       "$"
      ],
      "text/plain": [
       "L\"$\\varepsilon^\\text{L} = \\begin{bmatrix} 0.0  \\\\  0.0  \\\\  0.0 \\end{bmatrix}, ~~\n",
       "\\varepsilon^\\text{U} = \\begin{bmatrix} 0.0  \\\\  0.0  \\\\  0.0 \\end{bmatrix}\n",
       "$\""
      ]
     },
     "metadata": {},
     "output_type": "display_data"
    },
    {
     "data": {
      "text/latex": [
       "$\\text{結合後のPCM}$"
      ],
      "text/plain": [
       "L\"$\\text{結合後のPCM}$\""
      ]
     },
     "metadata": {},
     "output_type": "display_data"
    },
    {
     "data": {
      "text/latex": [
       "$\\hat{A} = \\begin{bmatrix} \\left[   1.0, \\left[   1.0,   1.0 \\right],   1.0 \\right] & \\left[   4.0, \\left[   4.0,   4.0 \\right],   4.0 \\right] & \\left[   2.0, \\left[   2.0,   2.0 \\right],   2.0 \\right] \\\\ \\left[  0.25, \\left[  0.25,  0.25 \\right],  0.25 \\right] & \\left[   1.0, \\left[   1.0,   1.0 \\right],   1.0 \\right] & \\left[   0.5, \\left[   0.5,   0.5 \\right],   0.5 \\right] \\\\ \\left[   0.5, \\left[   0.5,   0.5 \\right],   0.5 \\right] & \\left[   2.0, \\left[   2.0,   2.0 \\right],   2.0 \\right] & \\left[   1.0, \\left[   1.0,   1.0 \\right],   1.0 \\right] \\end{bmatrix}$"
      ],
      "text/plain": [
       "\"\\$\\\\hat{A} = \\\\begin{bmatrix} \\\\left[   1.0, \\\\left[   1.0,   1.0 \\\\right],   1.0 \\\\right] & \\\\left[   4.0, \\\\left[   4.0,   4.0 \\\\right],   4.0 \\\\right] & \\\\left[   2.0, \\\\left[   2.0,   2.0 \\\\right],   2.0 \\\\right] \\\\\\\\ \\\\left[  0.25, \\\\left[  0.25,  0.25 \\\\right],  0.25 \\\\right] & \\\\left[ \" ⋯ 30 bytes ⋯ \"ght],   1.0 \\\\right] & \\\\left[   0.5, \\\\left[   0.5,   0.5 \\\\right],   0.5 \\\\right] \\\\\\\\ \\\\left[   0.5, \\\\left[   0.5,   0.5 \\\\right],   0.5 \\\\right] & \\\\left[   2.0, \\\\left[   2.0,   2.0 \\\\right],   2.0 \\\\right] & \\\\left[   1.0, \\\\left[   1.0,   1.0 \\\\right],   1.0 \\\\right] \\\\end{bmatrix}\\$\""
      ]
     },
     "metadata": {},
     "output_type": "display_data"
    }
   ],
   "source": [
    "A₁ = [\n",
    "    1..1 4..4 2..2\n",
    "    (1/4)..(1/4) 1..1 (1/2)..(1/2)\n",
    "    (1/2)..(1/2) 2..2 1..1\n",
    "]\n",
    "A₂ = [\n",
    "    1..1 4..4 2..2\n",
    "    (1/4)..(1/4) 1..1 (1/2)..(1/2)\n",
    "    (1/2)..(1/2) 2..2 1..1\n",
    "]\n",
    "\n",
    "runBothMethod(A₁, A₂)\n",
    "print()"
   ]
  },
  {
   "cell_type": "markdown",
   "id": "c6d59d2c-e7bb-4b59-95a7-bd0d784a5cc9",
   "metadata": {},
   "source": [
    "---\n",
    "$\n",
    "\\begin{bmatrix} 1 & 3 & 1/3 \\\\ 1/3 & 1 & 1/10 \\\\ 3 & 10 & 1 \\end{bmatrix}\n",
    "$\n",
    "に近いPCM2つを入力"
   ]
  },
  {
   "cell_type": "code",
   "execution_count": 7,
   "id": "9b8d0a26-bd26-4ed0-ab6c-60007166d58f",
   "metadata": {},
   "outputs": [
    {
     "data": {
      "text/latex": [
       "$A_1 = \\begin{bmatrix} \\left[ 1.0, 1.0 \\right] & \\left[ 2.7, 3.2 \\right] & \\left[ 0.303, 0.333 \\right] \\\\ \\left[ 0.312, 0.37 \\right] & \\left[ 1.0, 1.0 \\right] & \\left[ 0.1, 0.103 \\right] \\\\ \\left[ 3.0, 3.3 \\right] & \\left[ 9.7, 10.0 \\right] & \\left[ 1.0, 1.0 \\right] \\end{bmatrix}$"
      ],
      "text/plain": [
       "L\"$A_1 = \\begin{bmatrix} \\left[ 1.0, 1.0 \\right] & \\left[ 2.7, 3.2 \\right] & \\left[ 0.303, 0.333 \\right] \\\\ \\left[ 0.312, 0.37 \\right] & \\left[ 1.0, 1.0 \\right] & \\left[ 0.1, 0.103 \\right] \\\\ \\left[ 3.0, 3.3 \\right] & \\left[ 9.7, 10.0 \\right] & \\left[ 1.0, 1.0 \\right] \\end{bmatrix}$\""
      ]
     },
     "metadata": {},
     "output_type": "display_data"
    },
    {
     "data": {
      "text/latex": [
       "$A_2 = \\begin{bmatrix} \\left[ 1.0, 1.0 \\right] & \\left[ 2.2, 2.8 \\right] & \\left[ 0.25, 0.357 \\right] \\\\ \\left[ 0.357, 0.455 \\right] & \\left[ 1.0, 1.0 \\right] & \\left[ 0.102, 0.103 \\right] \\\\ \\left[ 2.8, 4.0 \\right] & \\left[ 9.7, 9.8 \\right] & \\left[ 1.0, 1.0 \\right] \\end{bmatrix}$"
      ],
      "text/plain": [
       "L\"$A_2 = \\begin{bmatrix} \\left[ 1.0, 1.0 \\right] & \\left[ 2.2, 2.8 \\right] & \\left[ 0.25, 0.357 \\right] \\\\ \\left[ 0.357, 0.455 \\right] & \\left[ 1.0, 1.0 \\right] & \\left[ 0.102, 0.103 \\right] \\\\ \\left[ 2.8, 4.0 \\right] & \\left[ 9.7, 9.8 \\right] & \\left[ 1.0, 1.0 \\right] \\end{bmatrix}$\""
      ]
     },
     "metadata": {},
     "output_type": "display_data"
    },
    {
     "data": {
      "text/latex": [
       "$\\text{--- PCMを結合 ---}$"
      ],
      "text/plain": [
       "L\"$\\text{--- PCMを結合 ---}$\""
      ]
     },
     "metadata": {},
     "output_type": "display_data"
    },
    {
     "data": {
      "text/latex": [
       "$\\text{修正前の行列}$"
      ],
      "text/plain": [
       "L\"$\\text{修正前の行列}$\""
      ]
     },
     "metadata": {},
     "output_type": "display_data"
    },
    {
     "data": {
      "text/latex": [
       "$A = \\begin{bmatrix} \\left[   1.0, \\left[   1.0,   1.0 \\right],   1.0 \\right] & \\left[   2.2, \\left[   2.7,   2.8 \\right],   3.2 \\right] & \\left[  0.25, \\left[ 0.303, 0.333 \\right], 0.357 \\right] \\\\ \\left[ 0.312, \\left[ 0.357,  0.37 \\right], 0.455 \\right] & \\left[   1.0, \\left[   1.0,   1.0 \\right],   1.0 \\right] & \\left[   0.1, \\left[ 0.102, 0.103 \\right], 0.103 \\right] \\\\ \\left[   2.8, \\left[   3.0,   3.3 \\right],   4.0 \\right] & \\left[   9.7, \\left[   9.7,   9.8 \\right],  10.0 \\right] & \\left[   1.0, \\left[   1.0,   1.0 \\right],   1.0 \\right] \\end{bmatrix}$"
      ],
      "text/plain": [
       "\"\\$A = \\\\begin{bmatrix} \\\\left[   1.0, \\\\left[   1.0,   1.0 \\\\right],   1.0 \\\\right] & \\\\left[   2.2, \\\\left[   2.7,   2.8 \\\\right],   3.2 \\\\right] & \\\\left[  0.25, \\\\left[ 0.303, 0.333 \\\\right], 0.357 \\\\right] \\\\\\\\ \\\\left[ 0.312, \\\\left[ 0.357,  0.37 \\\\right], 0.455 \\\\right] & \\\\left[   1.0,\" ⋯ 24 bytes ⋯ \"ght],   1.0 \\\\right] & \\\\left[   0.1, \\\\left[ 0.102, 0.103 \\\\right], 0.103 \\\\right] \\\\\\\\ \\\\left[   2.8, \\\\left[   3.0,   3.3 \\\\right],   4.0 \\\\right] & \\\\left[   9.7, \\\\left[   9.7,   9.8 \\\\right],  10.0 \\\\right] & \\\\left[   1.0, \\\\left[   1.0,   1.0 \\\\right],   1.0 \\\\right] \\\\end{bmatrix}\\$\""
      ]
     },
     "metadata": {},
     "output_type": "display_data"
    },
    {
     "data": {
      "text/latex": [
       "$\\text{LPの最適解}$"
      ],
      "text/plain": [
       "L\"$\\text{LPの最適解}$\""
      ]
     },
     "metadata": {},
     "output_type": "display_data"
    },
    {
     "data": {
      "text/latex": [
       "$W = \\begin{bmatrix}\\left[ 0.216, 0.232 \\right] \\\\ \\left[ 0.072, 0.073 \\right] \\\\ \\left[ 0.696, 0.711 \\right]\\end{bmatrix}$"
      ],
      "text/plain": [
       "L\"$W = \\begin{bmatrix}\\left[ 0.216, 0.232 \\right] \\\\ \\left[ 0.072, 0.073 \\right] \\\\ \\left[ 0.696, 0.711 \\right]\\end{bmatrix}$\""
      ]
     },
     "metadata": {},
     "output_type": "display_data"
    },
    {
     "data": {
      "text/latex": [
       "$w^{\\text{L}-} = \\begin{bmatrix} 0.198  \\\\  0.072  \\\\  0.696 \\end{bmatrix}, ~~\n",
       "w^{\\text{U}-} = \\begin{bmatrix} 0.232  \\\\  0.08  \\\\  0.711 \\end{bmatrix}, ~~\n",
       "w^{\\text{L}+} = \\begin{bmatrix} 0.232  \\\\  0.073  \\\\  0.711 \\end{bmatrix}, ~~\n",
       "w^{\\text{U}+} = \\begin{bmatrix} 0.232  \\\\  0.073  \\\\  0.711 \\end{bmatrix}\n",
       "$"
      ],
      "text/plain": [
       "L\"$w^{\\text{L}-} = \\begin{bmatrix} 0.198  \\\\  0.072  \\\\  0.696 \\end{bmatrix}, ~~\n",
       "w^{\\text{U}-} = \\begin{bmatrix} 0.232  \\\\  0.08  \\\\  0.711 \\end{bmatrix}, ~~\n",
       "w^{\\text{L}+} = \\begin{bmatrix} 0.232  \\\\  0.073  \\\\  0.711 \\end{bmatrix}, ~~\n",
       "w^{\\text{U}+} = \\begin{bmatrix} 0.232  \\\\  0.073  \\\\  0.711 \\end{bmatrix}\n",
       "$\""
      ]
     },
     "metadata": {},
     "output_type": "display_data"
    },
    {
     "data": {
      "text/latex": [
       "$\\varepsilon^\\text{L} = \\begin{bmatrix} 0.034  \\\\  0.002  \\\\  0.015 \\end{bmatrix}, ~~\n",
       "\\varepsilon^\\text{U} = \\begin{bmatrix} 0.017  \\\\  0.008  \\\\  0.015 \\end{bmatrix}\n",
       "$"
      ],
      "text/plain": [
       "L\"$\\varepsilon^\\text{L} = \\begin{bmatrix} 0.034  \\\\  0.002  \\\\  0.015 \\end{bmatrix}, ~~\n",
       "\\varepsilon^\\text{U} = \\begin{bmatrix} 0.017  \\\\  0.008  \\\\  0.015 \\end{bmatrix}\n",
       "$\""
      ]
     },
     "metadata": {},
     "output_type": "display_data"
    },
    {
     "data": {
      "text/latex": [
       "$\\text{修正後の行列}$"
      ],
      "text/plain": [
       "L\"$\\text{修正後の行列}$\""
      ]
     },
     "metadata": {},
     "output_type": "display_data"
    },
    {
     "data": {
      "text/latex": [
       "$\\hat{A} = \\begin{bmatrix} \\left[   1.0, \\left[   1.0,   1.0 \\right],   1.0 \\right] & \\left[   2.2, \\emptyset, 3.233 \\right] & \\left[  0.25, \\left[ 0.326, 0.326 \\right], 0.357 \\right] \\\\ \\left[ 0.309, \\emptyset, 0.455 \\right] & \\left[   1.0, \\left[   1.0,   1.0 \\right],   1.0 \\right] & \\left[   0.1, \\left[ 0.103, 0.103 \\right], 0.115 \\right] \\\\ \\left[   2.8, \\left[ 3.065, 3.065 \\right],   4.0 \\right] & \\left[ 8.722, \\left[   9.7,   9.7 \\right],  10.0 \\right] & \\left[   1.0, \\left[   1.0,   1.0 \\right],   1.0 \\right] \\end{bmatrix}$"
      ],
      "text/plain": [
       "L\"$\\hat{A} = \\begin{bmatrix} \\left[   1.0, \\left[   1.0,   1.0 \\right],   1.0 \\right] & \\left[   2.2, \\emptyset, 3.233 \\right] & \\left[  0.25, \\left[ 0.326, 0.326 \\right], 0.357 \\right] \\\\ \\left[ 0.309, \\emptyset, 0.455 \\right] & \\left[   1.0, \\left[   1.0,   1.0 \\right],   1.0 \\right] & \\left[   0.1, \\left[ 0.103, 0.103 \\right], 0.115 \\right] \\\\ \\left[   2.8, \\left[ 3.065, 3.065 \\right],   4.0 \\right] & \\left[ 8.722, \\left[   9.7,   9.7 \\right],  10.0 \\right] & \\left[   1.0, \\left[   1.0,   1.0 \\right],   1.0 \\right] \\end{bmatrix}$\""
      ]
     },
     "metadata": {},
     "output_type": "display_data"
    },
    {
     "data": {
      "text/latex": [
       "$\\text{--- 重要度を結合 ---}$"
      ],
      "text/plain": [
       "L\"$\\text{--- 重要度を結合 ---}$\""
      ]
     },
     "metadata": {},
     "output_type": "display_data"
    },
    {
     "data": {
      "text/latex": [
       "$\\text{各DMの上近似と下近似}$"
      ],
      "text/plain": [
       "L\"$\\text{各DMの上近似と下近似}$\""
      ]
     },
     "metadata": {},
     "output_type": "display_data"
    },
    {
     "data": {
      "text/latex": [
       "$    w_{1}^{\\text{L}-} = \\begin{bmatrix} 0.23  \\\\  0.072  \\\\  0.698 \\end{bmatrix}, ~~\n",
       "    w_{1}^{\\text{U}-} = \\begin{bmatrix} 0.23  \\\\  0.072  \\\\  0.698 \\end{bmatrix}, ~~\n",
       "    w_{1}^{\\text{L}+} = \\begin{bmatrix} 0.214  \\\\  0.071  \\\\  0.697 \\end{bmatrix}, ~~\n",
       "    w_{1}^{\\text{U}+} = \\begin{bmatrix} 0.232  \\\\  0.079  \\\\  0.707 \\end{bmatrix}\n",
       "$"
      ],
      "text/plain": [
       "L\"$    w_{1}^{\\text{L}-} = \\begin{bmatrix} 0.23  \\\\  0.072  \\\\  0.698 \\end{bmatrix}, ~~\n",
       "    w_{1}^{\\text{U}-} = \\begin{bmatrix} 0.23  \\\\  0.072  \\\\  0.698 \\end{bmatrix}, ~~\n",
       "    w_{1}^{\\text{L}+} = \\begin{bmatrix} 0.214  \\\\  0.071  \\\\  0.697 \\end{bmatrix}, ~~\n",
       "    w_{1}^{\\text{U}+} = \\begin{bmatrix} 0.232  \\\\  0.079  \\\\  0.707 \\end{bmatrix}\n",
       "$\""
      ]
     },
     "metadata": {},
     "output_type": "display_data"
    },
    {
     "data": {
      "text/latex": [
       "$    w_{2}^{\\text{L}-} = \\begin{bmatrix} 0.199  \\\\  0.075  \\\\  0.726 \\end{bmatrix}, ~~\n",
       "    w_{2}^{\\text{U}-} = \\begin{bmatrix} 0.199  \\\\  0.075  \\\\  0.726 \\end{bmatrix}, ~~\n",
       "    w_{2}^{\\text{L}+} = \\begin{bmatrix} 0.183  \\\\  0.075  \\\\  0.682 \\end{bmatrix}, ~~\n",
       "    w_{2}^{\\text{U}+} = \\begin{bmatrix} 0.243  \\\\  0.083  \\\\  0.733 \\end{bmatrix}\n",
       "$"
      ],
      "text/plain": [
       "L\"$    w_{2}^{\\text{L}-} = \\begin{bmatrix} 0.199  \\\\  0.075  \\\\  0.726 \\end{bmatrix}, ~~\n",
       "    w_{2}^{\\text{U}-} = \\begin{bmatrix} 0.199  \\\\  0.075  \\\\  0.726 \\end{bmatrix}, ~~\n",
       "    w_{2}^{\\text{L}+} = \\begin{bmatrix} 0.183  \\\\  0.075  \\\\  0.682 \\end{bmatrix}, ~~\n",
       "    w_{2}^{\\text{U}+} = \\begin{bmatrix} 0.243  \\\\  0.083  \\\\  0.733 \\end{bmatrix}\n",
       "$\""
      ]
     },
     "metadata": {},
     "output_type": "display_data"
    },
    {
     "data": {
      "text/latex": [
       "$\\text{各DMの上近似と下近似の}t\\text{の範囲}$"
      ],
      "text/plain": [
       "L\"$\\text{各DMの上近似と下近似の}t\\text{の範囲}$\""
      ]
     },
     "metadata": {},
     "output_type": "display_data"
    },
    {
     "data": {
      "text/latex": [
       "$    t_{1}^{\\text{L}-} = 1.0, ~~\n",
       "    t_{1}^{\\text{U}-} = 1.0, ~~\n",
       "    t_{1}^{\\text{L}+} = 1.0, ~~\n",
       "    t_{1}^{\\text{U}+} = 1.0\n",
       "$"
      ],
      "text/plain": [
       "L\"$    t_{1}^{\\text{L}-} = 1.0, ~~\n",
       "    t_{1}^{\\text{U}-} = 1.0, ~~\n",
       "    t_{1}^{\\text{L}+} = 1.0, ~~\n",
       "    t_{1}^{\\text{U}+} = 1.0\n",
       "$\""
      ]
     },
     "metadata": {},
     "output_type": "display_data"
    },
    {
     "data": {
      "text/latex": [
       "$    t_{2}^{\\text{L}-} = 1.0, ~~\n",
       "    t_{2}^{\\text{U}-} = 1.0, ~~\n",
       "    t_{2}^{\\text{L}+} = 1.0, ~~\n",
       "    t_{2}^{\\text{U}+} = 1.0\n",
       "$"
      ],
      "text/plain": [
       "L\"$    t_{2}^{\\text{L}-} = 1.0, ~~\n",
       "    t_{2}^{\\text{U}-} = 1.0, ~~\n",
       "    t_{2}^{\\text{L}+} = 1.0, ~~\n",
       "    t_{2}^{\\text{U}+} = 1.0\n",
       "$\""
      ]
     },
     "metadata": {},
     "output_type": "display_data"
    },
    {
     "data": {
      "text/latex": [
       "$\\text{LPの最適解}$"
      ],
      "text/plain": [
       "L\"$\\text{LPの最適解}$\""
      ]
     },
     "metadata": {},
     "output_type": "display_data"
    },
    {
     "data": {
      "text/latex": [
       "$t^- = \\begin{bmatrix} 1.0  \\\\  1.0 \\end{bmatrix}, ~~\n",
       "t^+ = \\begin{bmatrix} 1.0  \\\\  1.0 \\end{bmatrix}\n",
       "$"
      ],
      "text/plain": [
       "L\"$t^- = \\begin{bmatrix} 1.0  \\\\  1.0 \\end{bmatrix}, ~~\n",
       "t^+ = \\begin{bmatrix} 1.0  \\\\  1.0 \\end{bmatrix}\n",
       "$\""
      ]
     },
     "metadata": {},
     "output_type": "display_data"
    },
    {
     "data": {
      "text/latex": [
       "$W = \\begin{bmatrix}\\left[ 0.214, 0.23 \\right] \\\\ \\left[ 0.073, 0.079 \\right] \\\\ \\left[ 0.697, 0.707 \\right]\\end{bmatrix}$"
      ],
      "text/plain": [
       "L\"$W = \\begin{bmatrix}\\left[ 0.214, 0.23 \\right] \\\\ \\left[ 0.073, 0.079 \\right] \\\\ \\left[ 0.697, 0.707 \\right]\\end{bmatrix}$\""
      ]
     },
     "metadata": {},
     "output_type": "display_data"
    },
    {
     "data": {
      "text/latex": [
       "$v^{\\text{L}-} = \\begin{bmatrix} 0.199  \\\\  0.072  \\\\  0.698 \\end{bmatrix}, ~~\n",
       "v^{\\text{U}-} = \\begin{bmatrix} 0.23  \\\\  0.075  \\\\  0.726 \\end{bmatrix}, ~~\n",
       "v^{\\text{L}+} = \\begin{bmatrix} 0.214  \\\\  0.075  \\\\  0.697 \\end{bmatrix}, ~~\n",
       "v^{\\text{U}+} = \\begin{bmatrix} 0.214  \\\\  0.075  \\\\  0.697 \\end{bmatrix}\n",
       "$"
      ],
      "text/plain": [
       "L\"$v^{\\text{L}-} = \\begin{bmatrix} 0.199  \\\\  0.072  \\\\  0.698 \\end{bmatrix}, ~~\n",
       "v^{\\text{U}-} = \\begin{bmatrix} 0.23  \\\\  0.075  \\\\  0.726 \\end{bmatrix}, ~~\n",
       "v^{\\text{L}+} = \\begin{bmatrix} 0.214  \\\\  0.075  \\\\  0.697 \\end{bmatrix}, ~~\n",
       "v^{\\text{U}+} = \\begin{bmatrix} 0.214  \\\\  0.075  \\\\  0.697 \\end{bmatrix}\n",
       "$\""
      ]
     },
     "metadata": {},
     "output_type": "display_data"
    },
    {
     "data": {
      "text/latex": [
       "$\\varepsilon^\\text{L} = \\begin{bmatrix} 0.015  \\\\  0.003  \\\\  0.0 \\end{bmatrix}, ~~\n",
       "\\varepsilon^\\text{U} = \\begin{bmatrix} 0.0  \\\\  0.0  \\\\  0.019 \\end{bmatrix}\n",
       "$"
      ],
      "text/plain": [
       "L\"$\\varepsilon^\\text{L} = \\begin{bmatrix} 0.015  \\\\  0.003  \\\\  0.0 \\end{bmatrix}, ~~\n",
       "\\varepsilon^\\text{U} = \\begin{bmatrix} 0.0  \\\\  0.0  \\\\  0.019 \\end{bmatrix}\n",
       "$\""
      ]
     },
     "metadata": {},
     "output_type": "display_data"
    },
    {
     "data": {
      "text/latex": [
       "$\\text{結合後のPCM}$"
      ],
      "text/plain": [
       "L\"$\\text{結合後のPCM}$\""
      ]
     },
     "metadata": {},
     "output_type": "display_data"
    },
    {
     "data": {
      "text/latex": [
       "$\\hat{A} = \\begin{bmatrix} \\left[   1.0, \\left[   1.0,   1.0 \\right],   1.0 \\right] & \\left[ 2.513, \\left[ 2.861, 3.077 \\right],   3.2 \\right] & \\left[ 0.282, \\left[ 0.303,  0.33 \\right],  0.33 \\right] \\\\ \\left[ 0.312, \\left[ 0.325, 0.349 \\right], 0.398 \\right] & \\left[   1.0, \\left[   1.0,   1.0 \\right],   1.0 \\right] & \\left[ 0.102, \\left[ 0.106, 0.107 \\right], 0.114 \\right] \\\\ \\left[ 3.028, \\left[ 3.031,   3.3 \\right], 3.545 \\right] & \\left[ 8.789, \\left[ 9.315, 9.443 \\right], 9.842 \\right] & \\left[   1.0, \\left[   1.0,   1.0 \\right],   1.0 \\right] \\end{bmatrix}$"
      ],
      "text/plain": [
       "\"\\$\\\\hat{A} = \\\\begin{bmatrix} \\\\left[   1.0, \\\\left[   1.0,   1.0 \\\\right],   1.0 \\\\right] & \\\\left[ 2.513, \\\\left[ 2.861, 3.077 \\\\right],   3.2 \\\\right] & \\\\left[ 0.282, \\\\left[ 0.303,  0.33 \\\\right],  0.33 \\\\right] \\\\\\\\ \\\\left[ 0.312, \\\\left[ 0.325, 0.349 \\\\right], 0.398 \\\\right] & \\\\left[ \" ⋯ 30 bytes ⋯ \"ght],   1.0 \\\\right] & \\\\left[ 0.102, \\\\left[ 0.106, 0.107 \\\\right], 0.114 \\\\right] \\\\\\\\ \\\\left[ 3.028, \\\\left[ 3.031,   3.3 \\\\right], 3.545 \\\\right] & \\\\left[ 8.789, \\\\left[ 9.315, 9.443 \\\\right], 9.842 \\\\right] & \\\\left[   1.0, \\\\left[   1.0,   1.0 \\\\right],   1.0 \\\\right] \\\\end{bmatrix}\\$\""
      ]
     },
     "metadata": {},
     "output_type": "display_data"
    }
   ],
   "source": [
    "A₁ = [\n",
    "    1..1 2.7..3.2 (1/3.3)..(1/3)\n",
    "    (1/3.2)..(1/2.7) 1..1 (1/10)..(1/9.7)\n",
    "    3..3.3 9.7..10 1..1\n",
    "]\n",
    "A₂ = [\n",
    "    1..1 2.2..2.8 (1/4)..(1/2.8)\n",
    "    (1/2.8)..(1/2.2) 1..1 (1/9.8)..(1/9.7)\n",
    "    2.8..4 9.7..9.8 1..1\n",
    "]\n",
    "\n",
    "runBothMethod(A₁, A₂)\n",
    "print()"
   ]
  },
  {
   "cell_type": "markdown",
   "id": "b7c76f6c-5061-492b-9a6b-7e8a283f16a8",
   "metadata": {},
   "source": [
    "---"
   ]
  },
  {
   "cell_type": "code",
   "execution_count": 8,
   "id": "0197ea8f-47e6-4ee3-a055-240d855c1b27",
   "metadata": {},
   "outputs": [
    {
     "data": {
      "text/latex": [
       "$A_1 = \\begin{bmatrix} \\left[ 1.0, 1.0 \\right] & \\left[ 1.0, 3.0 \\right] & \\left[ 1.0, 5.0 \\right] \\\\ \\left[ 0.333, 1.0 \\right] & \\left[ 1.0, 1.0 \\right] & \\left[ 1.0, 9.0 \\right] \\\\ \\left[ 0.2, 1.0 \\right] & \\left[ 0.111, 1.0 \\right] & \\left[ 1.0, 1.0 \\right] \\end{bmatrix}$"
      ],
      "text/plain": [
       "L\"$A_1 = \\begin{bmatrix} \\left[ 1.0, 1.0 \\right] & \\left[ 1.0, 3.0 \\right] & \\left[ 1.0, 5.0 \\right] \\\\ \\left[ 0.333, 1.0 \\right] & \\left[ 1.0, 1.0 \\right] & \\left[ 1.0, 9.0 \\right] \\\\ \\left[ 0.2, 1.0 \\right] & \\left[ 0.111, 1.0 \\right] & \\left[ 1.0, 1.0 \\right] \\end{bmatrix}$\""
      ]
     },
     "metadata": {},
     "output_type": "display_data"
    },
    {
     "data": {
      "text/latex": [
       "$A_2 = \\begin{bmatrix} \\left[ 1.0, 1.0 \\right] & \\left[ 1.0, 1.0 \\right] & \\left[ 1.0, 2.0 \\right] \\\\ \\left[ 1.0, 1.0 \\right] & \\left[ 1.0, 1.0 \\right] & \\left[ 0.5, 1.0 \\right] \\\\ \\left[ 0.5, 1.0 \\right] & \\left[ 1.0, 2.0 \\right] & \\left[ 1.0, 1.0 \\right] \\end{bmatrix}$"
      ],
      "text/plain": [
       "L\"$A_2 = \\begin{bmatrix} \\left[ 1.0, 1.0 \\right] & \\left[ 1.0, 1.0 \\right] & \\left[ 1.0, 2.0 \\right] \\\\ \\left[ 1.0, 1.0 \\right] & \\left[ 1.0, 1.0 \\right] & \\left[ 0.5, 1.0 \\right] \\\\ \\left[ 0.5, 1.0 \\right] & \\left[ 1.0, 2.0 \\right] & \\left[ 1.0, 1.0 \\right] \\end{bmatrix}$\""
      ]
     },
     "metadata": {},
     "output_type": "display_data"
    },
    {
     "data": {
      "text/latex": [
       "$\\text{--- PCMを結合 ---}$"
      ],
      "text/plain": [
       "L\"$\\text{--- PCMを結合 ---}$\""
      ]
     },
     "metadata": {},
     "output_type": "display_data"
    },
    {
     "data": {
      "text/latex": [
       "$\\text{修正前の行列}$"
      ],
      "text/plain": [
       "L\"$\\text{修正前の行列}$\""
      ]
     },
     "metadata": {},
     "output_type": "display_data"
    },
    {
     "data": {
      "text/latex": [
       "$A = \\begin{bmatrix} \\left[   1.0, \\left[   1.0,   1.0 \\right],   1.0 \\right] & \\left[   1.0, \\left[   1.0,   1.0 \\right],   3.0 \\right] & \\left[   1.0, \\left[   1.0,   2.0 \\right],   5.0 \\right] \\\\ \\left[ 0.333, \\left[   1.0,   1.0 \\right],   1.0 \\right] & \\left[   1.0, \\left[   1.0,   1.0 \\right],   1.0 \\right] & \\left[   0.5, \\left[   1.0,   1.0 \\right],   9.0 \\right] \\\\ \\left[   0.2, \\left[   0.5,   1.0 \\right],   1.0 \\right] & \\left[ 0.111, \\left[   1.0,   1.0 \\right],   2.0 \\right] & \\left[   1.0, \\left[   1.0,   1.0 \\right],   1.0 \\right] \\end{bmatrix}$"
      ],
      "text/plain": [
       "\"\\$A = \\\\begin{bmatrix} \\\\left[   1.0, \\\\left[   1.0,   1.0 \\\\right],   1.0 \\\\right] & \\\\left[   1.0, \\\\left[   1.0,   1.0 \\\\right],   3.0 \\\\right] & \\\\left[   1.0, \\\\left[   1.0,   2.0 \\\\right],   5.0 \\\\right] \\\\\\\\ \\\\left[ 0.333, \\\\left[   1.0,   1.0 \\\\right],   1.0 \\\\right] & \\\\left[   1.0,\" ⋯ 24 bytes ⋯ \"ght],   1.0 \\\\right] & \\\\left[   0.5, \\\\left[   1.0,   1.0 \\\\right],   9.0 \\\\right] \\\\\\\\ \\\\left[   0.2, \\\\left[   0.5,   1.0 \\\\right],   1.0 \\\\right] & \\\\left[ 0.111, \\\\left[   1.0,   1.0 \\\\right],   2.0 \\\\right] & \\\\left[   1.0, \\\\left[   1.0,   1.0 \\\\right],   1.0 \\\\right] \\\\end{bmatrix}\\$\""
      ]
     },
     "metadata": {},
     "output_type": "display_data"
    },
    {
     "data": {
      "text/latex": [
       "$\\text{LPの最適解}$"
      ],
      "text/plain": [
       "L\"$\\text{LPの最適解}$\""
      ]
     },
     "metadata": {},
     "output_type": "display_data"
    },
    {
     "data": {
      "text/latex": [
       "$W = \\begin{bmatrix}\\left[ 0.333, 0.444 \\right] \\\\ \\left[ 0.333, 0.333 \\right] \\\\ \\left[ 0.222, 0.333 \\right]\\end{bmatrix}$"
      ],
      "text/plain": [
       "L\"$W = \\begin{bmatrix}\\left[ 0.333, 0.444 \\right] \\\\ \\left[ 0.333, 0.333 \\right] \\\\ \\left[ 0.222, 0.333 \\right]\\end{bmatrix}$\""
      ]
     },
     "metadata": {},
     "output_type": "display_data"
    },
    {
     "data": {
      "text/latex": [
       "$w^{\\text{L}-} = \\begin{bmatrix} 0.333  \\\\  0.333  \\\\  0.222 \\end{bmatrix}, ~~\n",
       "w^{\\text{U}-} = \\begin{bmatrix} 0.444  \\\\  0.333  \\\\  0.333 \\end{bmatrix}, ~~\n",
       "w^{\\text{L}+} = \\begin{bmatrix} 0.444  \\\\  0.333  \\\\  0.333 \\end{bmatrix}, ~~\n",
       "w^{\\text{U}+} = \\begin{bmatrix} 0.444  \\\\  0.333  \\\\  0.333 \\end{bmatrix}\n",
       "$"
      ],
      "text/plain": [
       "L\"$w^{\\text{L}-} = \\begin{bmatrix} 0.333  \\\\  0.333  \\\\  0.222 \\end{bmatrix}, ~~\n",
       "w^{\\text{U}-} = \\begin{bmatrix} 0.444  \\\\  0.333  \\\\  0.333 \\end{bmatrix}, ~~\n",
       "w^{\\text{L}+} = \\begin{bmatrix} 0.444  \\\\  0.333  \\\\  0.333 \\end{bmatrix}, ~~\n",
       "w^{\\text{U}+} = \\begin{bmatrix} 0.444  \\\\  0.333  \\\\  0.333 \\end{bmatrix}\n",
       "$\""
      ]
     },
     "metadata": {},
     "output_type": "display_data"
    },
    {
     "data": {
      "text/latex": [
       "$\\varepsilon^\\text{L} = \\begin{bmatrix} 0.111  \\\\  -0.0  \\\\  0.111 \\end{bmatrix}, ~~\n",
       "\\varepsilon^\\text{U} = \\begin{bmatrix} 0.111  \\\\  -0.0  \\\\  0.111 \\end{bmatrix}\n",
       "$"
      ],
      "text/plain": [
       "L\"$\\varepsilon^\\text{L} = \\begin{bmatrix} 0.111  \\\\  -0.0  \\\\  0.111 \\end{bmatrix}, ~~\n",
       "\\varepsilon^\\text{U} = \\begin{bmatrix} 0.111  \\\\  -0.0  \\\\  0.111 \\end{bmatrix}\n",
       "$\""
      ]
     },
     "metadata": {},
     "output_type": "display_data"
    },
    {
     "data": {
      "text/latex": [
       "$\\text{修正後の行列}$"
      ],
      "text/plain": [
       "L\"$\\text{修正後の行列}$\""
      ]
     },
     "metadata": {},
     "output_type": "display_data"
    },
    {
     "data": {
      "text/latex": [
       "$\\hat{A} = \\begin{bmatrix} \\left[   1.0, \\left[   1.0,   1.0 \\right],   1.0 \\right] & \\left[   1.0, \\emptyset,   3.0 \\right] & \\left[   1.0, \\left[ 1.333, 1.333 \\right],   5.0 \\right] \\\\ \\left[ 0.333, \\emptyset,   1.0 \\right] & \\left[   1.0, \\left[   1.0,   1.0 \\right],   1.0 \\right] & \\left[   0.5, \\left[   1.0,   1.0 \\right],   9.0 \\right] \\\\ \\left[   0.2, \\left[  0.75,  0.75 \\right],   1.0 \\right] & \\left[ 0.111, \\left[   1.0,   1.0 \\right],   2.0 \\right] & \\left[   1.0, \\left[   1.0,   1.0 \\right],   1.0 \\right] \\end{bmatrix}$"
      ],
      "text/plain": [
       "L\"$\\hat{A} = \\begin{bmatrix} \\left[   1.0, \\left[   1.0,   1.0 \\right],   1.0 \\right] & \\left[   1.0, \\emptyset,   3.0 \\right] & \\left[   1.0, \\left[ 1.333, 1.333 \\right],   5.0 \\right] \\\\ \\left[ 0.333, \\emptyset,   1.0 \\right] & \\left[   1.0, \\left[   1.0,   1.0 \\right],   1.0 \\right] & \\left[   0.5, \\left[   1.0,   1.0 \\right],   9.0 \\right] \\\\ \\left[   0.2, \\left[  0.75,  0.75 \\right],   1.0 \\right] & \\left[ 0.111, \\left[   1.0,   1.0 \\right],   2.0 \\right] & \\left[   1.0, \\left[   1.0,   1.0 \\right],   1.0 \\right] \\end{bmatrix}$\""
      ]
     },
     "metadata": {},
     "output_type": "display_data"
    },
    {
     "data": {
      "text/latex": [
       "$\\text{--- 重要度を結合 ---}$"
      ],
      "text/plain": [
       "L\"$\\text{--- 重要度を結合 ---}$\""
      ]
     },
     "metadata": {},
     "output_type": "display_data"
    },
    {
     "data": {
      "text/latex": [
       "$\\text{各DMの上近似と下近似}$"
      ],
      "text/plain": [
       "L\"$\\text{各DMの上近似と下近似}$\""
      ]
     },
     "metadata": {},
     "output_type": "display_data"
    },
    {
     "data": {
      "text/latex": [
       "$    w_{1}^{\\text{L}-} = \\begin{bmatrix} 0.545  \\\\  0.345  \\\\  0.109 \\end{bmatrix}, ~~\n",
       "    w_{1}^{\\text{U}-} = \\begin{bmatrix} 0.545  \\\\  0.345  \\\\  0.109 \\end{bmatrix}, ~~\n",
       "    w_{1}^{\\text{L}+} = \\begin{bmatrix} 0.409  \\\\  0.182  \\\\  0.045 \\end{bmatrix}, ~~\n",
       "    w_{1}^{\\text{U}+} = \\begin{bmatrix} 0.545  \\\\  0.409  \\\\  0.409 \\end{bmatrix}\n",
       "$"
      ],
      "text/plain": [
       "L\"$    w_{1}^{\\text{L}-} = \\begin{bmatrix} 0.545  \\\\  0.345  \\\\  0.109 \\end{bmatrix}, ~~\n",
       "    w_{1}^{\\text{U}-} = \\begin{bmatrix} 0.545  \\\\  0.345  \\\\  0.109 \\end{bmatrix}, ~~\n",
       "    w_{1}^{\\text{L}+} = \\begin{bmatrix} 0.409  \\\\  0.182  \\\\  0.045 \\end{bmatrix}, ~~\n",
       "    w_{1}^{\\text{U}+} = \\begin{bmatrix} 0.545  \\\\  0.409  \\\\  0.409 \\end{bmatrix}\n",
       "$\""
      ]
     },
     "metadata": {},
     "output_type": "display_data"
    },
    {
     "data": {
      "text/latex": [
       "$    w_{2}^{\\text{L}-} = \\begin{bmatrix} 0.333  \\\\  0.333  \\\\  0.333 \\end{bmatrix}, ~~\n",
       "    w_{2}^{\\text{U}-} = \\begin{bmatrix} 0.333  \\\\  0.333  \\\\  0.333 \\end{bmatrix}, ~~\n",
       "    w_{2}^{\\text{L}+} = \\begin{bmatrix} 0.333  \\\\  0.222  \\\\  0.222 \\end{bmatrix}, ~~\n",
       "    w_{2}^{\\text{U}+} = \\begin{bmatrix} 0.444  \\\\  0.333  \\\\  0.444 \\end{bmatrix}\n",
       "$"
      ],
      "text/plain": [
       "L\"$    w_{2}^{\\text{L}-} = \\begin{bmatrix} 0.333  \\\\  0.333  \\\\  0.333 \\end{bmatrix}, ~~\n",
       "    w_{2}^{\\text{U}-} = \\begin{bmatrix} 0.333  \\\\  0.333  \\\\  0.333 \\end{bmatrix}, ~~\n",
       "    w_{2}^{\\text{L}+} = \\begin{bmatrix} 0.333  \\\\  0.222  \\\\  0.222 \\end{bmatrix}, ~~\n",
       "    w_{2}^{\\text{U}+} = \\begin{bmatrix} 0.444  \\\\  0.333  \\\\  0.444 \\end{bmatrix}\n",
       "$\""
      ]
     },
     "metadata": {},
     "output_type": "display_data"
    },
    {
     "data": {
      "text/latex": [
       "$\\text{各DMの上近似と下近似の}t\\text{の範囲}$"
      ],
      "text/plain": [
       "L\"$\\text{各DMの上近似と下近似の}t\\text{の範囲}$\""
      ]
     },
     "metadata": {},
     "output_type": "display_data"
    },
    {
     "data": {
      "text/latex": [
       "$    t_{1}^{\\text{L}-} = 1.0, ~~\n",
       "    t_{1}^{\\text{U}-} = 1.0, ~~\n",
       "    t_{1}^{\\text{L}+} = 1.0, ~~\n",
       "    t_{1}^{\\text{U}+} = 1.0\n",
       "$"
      ],
      "text/plain": [
       "L\"$    t_{1}^{\\text{L}-} = 1.0, ~~\n",
       "    t_{1}^{\\text{U}-} = 1.0, ~~\n",
       "    t_{1}^{\\text{L}+} = 1.0, ~~\n",
       "    t_{1}^{\\text{U}+} = 1.0\n",
       "$\""
      ]
     },
     "metadata": {},
     "output_type": "display_data"
    },
    {
     "data": {
      "text/latex": [
       "$    t_{2}^{\\text{L}-} = 1.0, ~~\n",
       "    t_{2}^{\\text{U}-} = 1.0, ~~\n",
       "    t_{2}^{\\text{L}+} = 1.0, ~~\n",
       "    t_{2}^{\\text{U}+} = 1.0\n",
       "$"
      ],
      "text/plain": [
       "L\"$    t_{2}^{\\text{L}-} = 1.0, ~~\n",
       "    t_{2}^{\\text{U}-} = 1.0, ~~\n",
       "    t_{2}^{\\text{L}+} = 1.0, ~~\n",
       "    t_{2}^{\\text{U}+} = 1.0\n",
       "$\""
      ]
     },
     "metadata": {},
     "output_type": "display_data"
    },
    {
     "data": {
      "text/latex": [
       "$\\text{LPの最適解}$"
      ],
      "text/plain": [
       "L\"$\\text{LPの最適解}$\""
      ]
     },
     "metadata": {},
     "output_type": "display_data"
    },
    {
     "data": {
      "text/latex": [
       "$t^- = \\begin{bmatrix} 1.0  \\\\  1.0 \\end{bmatrix}, ~~\n",
       "t^+ = \\begin{bmatrix} 1.0  \\\\  1.0 \\end{bmatrix}\n",
       "$"
      ],
      "text/plain": [
       "L\"$t^- = \\begin{bmatrix} 1.0  \\\\  1.0 \\end{bmatrix}, ~~\n",
       "t^+ = \\begin{bmatrix} 1.0  \\\\  1.0 \\end{bmatrix}\n",
       "$\""
      ]
     },
     "metadata": {},
     "output_type": "display_data"
    },
    {
     "data": {
      "text/latex": [
       "$W = \\begin{bmatrix}\\left[ 0.333, 0.545 \\right] \\\\ \\left[ 0.333, 0.345 \\right] \\\\ \\left[ 0.109, 0.333 \\right]\\end{bmatrix}$"
      ],
      "text/plain": [
       "L\"$W = \\begin{bmatrix}\\left[ 0.333, 0.545 \\right] \\\\ \\left[ 0.333, 0.345 \\right] \\\\ \\left[ 0.109, 0.333 \\right]\\end{bmatrix}$\""
      ]
     },
     "metadata": {},
     "output_type": "display_data"
    },
    {
     "data": {
      "text/latex": [
       "$v^{\\text{L}-} = \\begin{bmatrix} 0.333  \\\\  0.333  \\\\  0.109 \\end{bmatrix}, ~~\n",
       "v^{\\text{U}-} = \\begin{bmatrix} 0.545  \\\\  0.345  \\\\  0.333 \\end{bmatrix}, ~~\n",
       "v^{\\text{L}+} = \\begin{bmatrix} 0.409  \\\\  0.222  \\\\  0.222 \\end{bmatrix}, ~~\n",
       "v^{\\text{U}+} = \\begin{bmatrix} 0.409  \\\\  0.222  \\\\  0.222 \\end{bmatrix}\n",
       "$"
      ],
      "text/plain": [
       "L\"$v^{\\text{L}-} = \\begin{bmatrix} 0.333  \\\\  0.333  \\\\  0.109 \\end{bmatrix}, ~~\n",
       "v^{\\text{U}-} = \\begin{bmatrix} 0.545  \\\\  0.345  \\\\  0.333 \\end{bmatrix}, ~~\n",
       "v^{\\text{L}+} = \\begin{bmatrix} 0.409  \\\\  0.222  \\\\  0.222 \\end{bmatrix}, ~~\n",
       "v^{\\text{U}+} = \\begin{bmatrix} 0.409  \\\\  0.222  \\\\  0.222 \\end{bmatrix}\n",
       "$\""
      ]
     },
     "metadata": {},
     "output_type": "display_data"
    },
    {
     "data": {
      "text/latex": [
       "$\\varepsilon^\\text{L} = \\begin{bmatrix} 0.076  \\\\  0.0  \\\\  0.113 \\end{bmatrix}, ~~\n",
       "\\varepsilon^\\text{U} = \\begin{bmatrix} 0.101  \\\\  0.012  \\\\  0.0 \\end{bmatrix}\n",
       "$"
      ],
      "text/plain": [
       "L\"$\\varepsilon^\\text{L} = \\begin{bmatrix} 0.076  \\\\  0.0  \\\\  0.113 \\end{bmatrix}, ~~\n",
       "\\varepsilon^\\text{U} = \\begin{bmatrix} 0.101  \\\\  0.012  \\\\  0.0 \\end{bmatrix}\n",
       "$\""
      ]
     },
     "metadata": {},
     "output_type": "display_data"
    },
    {
     "data": {
      "text/latex": [
       "$\\text{結合後のPCM}$"
      ],
      "text/plain": [
       "L\"$\\text{結合後のPCM}$\""
      ]
     },
     "metadata": {},
     "output_type": "display_data"
    },
    {
     "data": {
      "text/latex": [
       "$\\hat{A} = \\begin{bmatrix} \\left[   1.0, \\left[   1.0,   1.0 \\right],   1.0 \\right] & \\left[ 0.965, \\left[ 1.184, 1.333 \\right], 2.455 \\right] & \\left[   1.0, \\left[ 1.227, 2.455 \\right],   5.0 \\right] \\\\ \\left[ 0.407, \\left[  0.75, 0.844 \\right], 1.036 \\right] & \\left[   1.0, \\left[   1.0,   1.0 \\right],   1.0 \\right] & \\left[ 0.667, \\left[   1.0, 1.555 \\right], 3.167 \\right] \\\\ \\left[   0.2, \\left[ 0.407, 0.815 \\right],   1.0 \\right] & \\left[ 0.316, \\left[ 0.643,   1.0 \\right],   1.5 \\right] & \\left[   1.0, \\left[   1.0,   1.0 \\right],   1.0 \\right] \\end{bmatrix}$"
      ],
      "text/plain": [
       "\"\\$\\\\hat{A} = \\\\begin{bmatrix} \\\\left[   1.0, \\\\left[   1.0,   1.0 \\\\right],   1.0 \\\\right] & \\\\left[ 0.965, \\\\left[ 1.184, 1.333 \\\\right], 2.455 \\\\right] & \\\\left[   1.0, \\\\left[ 1.227, 2.455 \\\\right],   5.0 \\\\right] \\\\\\\\ \\\\left[ 0.407, \\\\left[  0.75, 0.844 \\\\right], 1.036 \\\\right] & \\\\left[ \" ⋯ 30 bytes ⋯ \"ght],   1.0 \\\\right] & \\\\left[ 0.667, \\\\left[   1.0, 1.555 \\\\right], 3.167 \\\\right] \\\\\\\\ \\\\left[   0.2, \\\\left[ 0.407, 0.815 \\\\right],   1.0 \\\\right] & \\\\left[ 0.316, \\\\left[ 0.643,   1.0 \\\\right],   1.5 \\\\right] & \\\\left[   1.0, \\\\left[   1.0,   1.0 \\\\right],   1.0 \\\\right] \\\\end{bmatrix}\\$\""
      ]
     },
     "metadata": {},
     "output_type": "display_data"
    }
   ],
   "source": [
    "A₁ = [\n",
    "    1..1 1..3 1..5\n",
    "    (1/3)..1 1..1 1..9\n",
    "    (1/5)..1 (1/9)..1 1..1\n",
    "]\n",
    "A₂ = [\n",
    "    1..1 1..1 1..2\n",
    "    1..1 1..1 (1/2)..1\n",
    "    (1/2)..1 1..2 1..1\n",
    "]\n",
    "\n",
    "runBothMethod(A₁, A₂)\n",
    "print()"
   ]
  },
  {
   "cell_type": "markdown",
   "id": "561470fb-e7e6-4a2b-aa32-91a9e6186eff",
   "metadata": {},
   "source": [
    "---\n",
    "次の区間行列 $A_1, A_2$ は上・下近似を求めるLPで実行不可能になる"
   ]
  },
  {
   "cell_type": "code",
   "execution_count": 9,
   "id": "6a031546-63f6-42b6-af08-13b26cb34b3c",
   "metadata": {},
   "outputs": [
    {
     "data": {
      "text/latex": [
       "$A_1 = \\begin{bmatrix} \\left[ 1.0, 1.0 \\right] & \\left[ 0.182, 0.208 \\right] & \\left[ 2.7, 3.3 \\right] & \\left[ 1.5, 2.1 \\right] \\\\ \\left[ 4.8, 5.5 \\right] & \\left[ 1.0, 1.0 \\right] & \\left[ 6.8, 7.6 \\right] & \\left[ 0.8, 1.1 \\right] \\\\ \\left[ 0.303, 0.37 \\right] & \\left[ 0.132, 0.147 \\right] & \\left[ 1.0, 1.0 \\right] & \\left[ 0.294, 0.333 \\right] \\\\ \\left[ 0.476, 0.667 \\right] & \\left[ 0.909, 1.25 \\right] & \\left[ 3.0, 3.4 \\right] & \\left[ 1.0, 1.0 \\right] \\end{bmatrix}$"
      ],
      "text/plain": [
       "L\"$A_1 = \\begin{bmatrix} \\left[ 1.0, 1.0 \\right] & \\left[ 0.182, 0.208 \\right] & \\left[ 2.7, 3.3 \\right] & \\left[ 1.5, 2.1 \\right] \\\\ \\left[ 4.8, 5.5 \\right] & \\left[ 1.0, 1.0 \\right] & \\left[ 6.8, 7.6 \\right] & \\left[ 0.8, 1.1 \\right] \\\\ \\left[ 0.303, 0.37 \\right] & \\left[ 0.132, 0.147 \\right] & \\left[ 1.0, 1.0 \\right] & \\left[ 0.294, 0.333 \\right] \\\\ \\left[ 0.476, 0.667 \\right] & \\left[ 0.909, 1.25 \\right] & \\left[ 3.0, 3.4 \\right] & \\left[ 1.0, 1.0 \\right] \\end{bmatrix}$\""
      ]
     },
     "metadata": {},
     "output_type": "display_data"
    },
    {
     "data": {
      "text/latex": [
       "$A_2 = \\begin{bmatrix} \\left[ 1.0, 1.0 \\right] & \\left[ 0.182, 0.196 \\right] & \\left[ 2.7, 2.9 \\right] & \\left[ 1.5, 2.0 \\right] \\\\ \\left[ 5.1, 5.5 \\right] & \\left[ 1.0, 1.0 \\right] & \\left[ 6.9, 7.2 \\right] & \\left[ 0.9, 1.3 \\right] \\\\ \\left[ 0.345, 0.37 \\right] & \\left[ 0.139, 0.145 \\right] & \\left[ 1.0, 1.0 \\right] & \\left[ 0.294, 0.333 \\right] \\\\ \\left[ 0.5, 0.667 \\right] & \\left[ 0.769, 1.111 \\right] & \\left[ 3.0, 3.4 \\right] & \\left[ 1.0, 1.0 \\right] \\end{bmatrix}$"
      ],
      "text/plain": [
       "L\"$A_2 = \\begin{bmatrix} \\left[ 1.0, 1.0 \\right] & \\left[ 0.182, 0.196 \\right] & \\left[ 2.7, 2.9 \\right] & \\left[ 1.5, 2.0 \\right] \\\\ \\left[ 5.1, 5.5 \\right] & \\left[ 1.0, 1.0 \\right] & \\left[ 6.9, 7.2 \\right] & \\left[ 0.9, 1.3 \\right] \\\\ \\left[ 0.345, 0.37 \\right] & \\left[ 0.139, 0.145 \\right] & \\left[ 1.0, 1.0 \\right] & \\left[ 0.294, 0.333 \\right] \\\\ \\left[ 0.5, 0.667 \\right] & \\left[ 0.769, 1.111 \\right] & \\left[ 3.0, 3.4 \\right] & \\left[ 1.0, 1.0 \\right] \\end{bmatrix}$\""
      ]
     },
     "metadata": {},
     "output_type": "display_data"
    },
    {
     "data": {
      "text/latex": [
       "$\\text{--- PCMを結合 ---}$"
      ],
      "text/plain": [
       "L\"$\\text{--- PCMを結合 ---}$\""
      ]
     },
     "metadata": {},
     "output_type": "display_data"
    },
    {
     "data": {
      "text/latex": [
       "$\\text{修正前の行列}$"
      ],
      "text/plain": [
       "L\"$\\text{修正前の行列}$\""
      ]
     },
     "metadata": {},
     "output_type": "display_data"
    },
    {
     "data": {
      "text/latex": [
       "$A = \\begin{bmatrix} \\left[   1.0, \\left[   1.0,   1.0 \\right],   1.0 \\right] & \\left[ 0.182, \\left[ 0.182, 0.196 \\right], 0.208 \\right] & \\left[   2.7, \\left[   2.7,   2.9 \\right],   3.3 \\right] & \\left[   1.5, \\left[   1.5,   2.0 \\right],   2.1 \\right] \\\\ \\left[   4.8, \\left[   5.1,   5.5 \\right],   5.5 \\right] & \\left[   1.0, \\left[   1.0,   1.0 \\right],   1.0 \\right] & \\left[   6.8, \\left[   6.9,   7.2 \\right],   7.6 \\right] & \\left[   0.8, \\left[   0.9,   1.1 \\right],   1.3 \\right] \\\\ \\left[ 0.303, \\left[ 0.345,  0.37 \\right],  0.37 \\right] & \\left[ 0.132, \\left[ 0.139, 0.145 \\right], 0.147 \\right] & \\left[   1.0, \\left[   1.0,   1.0 \\right],   1.0 \\right] & \\left[ 0.294, \\left[ 0.294, 0.333 \\right], 0.333 \\right] \\\\ \\left[ 0.476, \\left[   0.5, 0.667 \\right], 0.667 \\right] & \\left[ 0.769, \\left[ 0.909, 1.111 \\right],  1.25 \\right] & \\left[   3.0, \\left[   3.0,   3.4 \\right],   3.4 \\right] & \\left[   1.0, \\left[   1.0,   1.0 \\right],   1.0 \\right] \\end{bmatrix}$"
      ],
      "text/plain": [
       "\"\\$A = \\\\begin{bmatrix} \\\\left[   1.0, \\\\left[   1.0,   1.0 \\\\right],   1.0 \\\\right] & \\\\left[ 0.182, \\\\left[ 0.182, 0.196 \\\\right], 0.208 \\\\right] & \\\\left[   2.7, \\\\left[   2.7,   2.9 \\\\right],   3.3 \\\\right] & \\\\left[   1.5, \\\\left[   1.5,   2.0 \\\\right],   2.1 \\\\right] \\\\\\\\ \\\\left[   4.8,\" ⋯ 439 bytes ⋯ \"ht], 0.333 \\\\right] \\\\\\\\ \\\\left[ 0.476, \\\\left[   0.5, 0.667 \\\\right], 0.667 \\\\right] & \\\\left[ 0.769, \\\\left[ 0.909, 1.111 \\\\right],  1.25 \\\\right] & \\\\left[   3.0, \\\\left[   3.0,   3.4 \\\\right],   3.4 \\\\right] & \\\\left[   1.0, \\\\left[   1.0,   1.0 \\\\right],   1.0 \\\\right] \\\\end{bmatrix}\\$\""
      ]
     },
     "metadata": {},
     "output_type": "display_data"
    },
    {
     "data": {
      "text/latex": [
       "$\\text{LPの最適解}$"
      ],
      "text/plain": [
       "L\"$\\text{LPの最適解}$\""
      ]
     },
     "metadata": {},
     "output_type": "display_data"
    },
    {
     "data": {
      "text/latex": [
       "$W = \\begin{bmatrix}\\left[ 0.087, 0.099 \\right] \\\\ \\left[ 0.472, 0.477 \\right] \\\\ \\left[ 0.066, 0.07 \\right] \\\\ \\left[ 0.363, 0.367 \\right]\\end{bmatrix}$"
      ],
      "text/plain": [
       "L\"$W = \\begin{bmatrix}\\left[ 0.087, 0.099 \\right] \\\\ \\left[ 0.472, 0.477 \\right] \\\\ \\left[ 0.066, 0.07 \\right] \\\\ \\left[ 0.363, 0.367 \\right]\\end{bmatrix}$\""
      ]
     },
     "metadata": {},
     "output_type": "display_data"
    },
    {
     "data": {
      "text/latex": [
       "$w^{\\text{L}-} = \\begin{bmatrix} 0.087  \\\\  0.33  \\\\  0.034  \\\\  0.05 \\end{bmatrix}, ~~\n",
       "w^{\\text{U}-} = \\begin{bmatrix} 0.726  \\\\  0.477  \\\\  0.121  \\\\  0.524 \\end{bmatrix}, ~~\n",
       "w^{\\text{L}+} = \\begin{bmatrix} 0.55  \\\\  0.477  \\\\  0.108  \\\\  0.367 \\end{bmatrix}, ~~\n",
       "w^{\\text{U}+} = \\begin{bmatrix} 0.55  \\\\  0.477  \\\\  0.108  \\\\  0.367 \\end{bmatrix}\n",
       "$"
      ],
      "text/plain": [
       "L\"$w^{\\text{L}-} = \\begin{bmatrix} 0.087  \\\\  0.33  \\\\  0.034  \\\\  0.05 \\end{bmatrix}, ~~\n",
       "w^{\\text{U}-} = \\begin{bmatrix} 0.726  \\\\  0.477  \\\\  0.121  \\\\  0.524 \\end{bmatrix}, ~~\n",
       "w^{\\text{L}+} = \\begin{bmatrix} 0.55  \\\\  0.477  \\\\  0.108  \\\\  0.367 \\end{bmatrix}, ~~\n",
       "w^{\\text{U}+} = \\begin{bmatrix} 0.55  \\\\  0.477  \\\\  0.108  \\\\  0.367 \\end{bmatrix}\n",
       "$\""
      ]
     },
     "metadata": {},
     "output_type": "display_data"
    },
    {
     "data": {
      "text/latex": [
       "$\\varepsilon^\\text{L} = \\begin{bmatrix} 0.463  \\\\  0.147  \\\\  0.074  \\\\  0.317 \\end{bmatrix}, ~~\n",
       "\\varepsilon^\\text{U} = \\begin{bmatrix} 0.639  \\\\  0.005  \\\\  0.089  \\\\  0.466 \\end{bmatrix}\n",
       "$"
      ],
      "text/plain": [
       "L\"$\\varepsilon^\\text{L} = \\begin{bmatrix} 0.463  \\\\  0.147  \\\\  0.074  \\\\  0.317 \\end{bmatrix}, ~~\n",
       "\\varepsilon^\\text{U} = \\begin{bmatrix} 0.639  \\\\  0.005  \\\\  0.089  \\\\  0.466 \\end{bmatrix}\n",
       "$\""
      ]
     },
     "metadata": {},
     "output_type": "display_data"
    },
    {
     "data": {
      "text/latex": [
       "$\\text{修正後の行列}$"
      ],
      "text/plain": [
       "L\"$\\text{修正後の行列}$\""
      ]
     },
     "metadata": {},
     "output_type": "display_data"
    },
    {
     "data": {
      "text/latex": [
       "$\\hat{A} = \\begin{bmatrix} \\left[   1.0, \\left[   1.0,   1.0 \\right],   1.0 \\right] & \\left[ 0.182, \\emptyset, 1.538 \\right] & \\left[ 0.717, \\emptyset, 10.962 \\right] & \\left[ 0.165, \\emptyset,   2.1 \\right] \\\\ \\left[  0.65, \\emptyset,   5.5 \\right] & \\left[   1.0, \\left[   1.0,   1.0 \\right],   1.0 \\right] & \\left[   3.9, \\emptyset, 13.92 \\right] & \\left[   0.8, \\emptyset,   9.6 \\right] \\\\ \\left[ 0.091, \\emptyset, 1.396 \\right] & \\left[ 0.072, \\emptyset, 0.256 \\right] & \\left[   1.0, \\left[   1.0,   1.0 \\right],   1.0 \\right] & \\left[ 0.093, \\emptyset, 1.412 \\right] \\\\ \\left[ 0.476, \\emptyset, 6.048 \\right] & \\left[ 0.104, \\emptyset,  1.25 \\right] & \\left[ 0.708, \\emptyset, 10.708 \\right] & \\left[   1.0, \\left[   1.0,   1.0 \\right],   1.0 \\right] \\end{bmatrix}$"
      ],
      "text/plain": [
       "\"\\$\\\\hat{A} = \\\\begin{bmatrix} \\\\left[   1.0, \\\\left[   1.0,   1.0 \\\\right],   1.0 \\\\right] & \\\\left[ 0.182, \\\\emptyset, 1.538 \\\\right] & \\\\left[ 0.717, \\\\emptyset, 10.962 \\\\right] & \\\\left[ 0.165, \\\\emptyset,   2.1 \\\\right] \\\\\\\\ \\\\left[  0.65, \\\\emptyset,   5.5 \\\\right] & \\\\left[   1.0, \\\\left\" ⋯ 231 bytes ⋯ \",   1.0 \\\\right],   1.0 \\\\right] & \\\\left[ 0.093, \\\\emptyset, 1.412 \\\\right] \\\\\\\\ \\\\left[ 0.476, \\\\emptyset, 6.048 \\\\right] & \\\\left[ 0.104, \\\\emptyset,  1.25 \\\\right] & \\\\left[ 0.708, \\\\emptyset, 10.708 \\\\right] & \\\\left[   1.0, \\\\left[   1.0,   1.0 \\\\right],   1.0 \\\\right] \\\\end{bmatrix}\\$\""
      ]
     },
     "metadata": {},
     "output_type": "display_data"
    },
    {
     "data": {
      "text/latex": [
       "$\\text{--- 重要度を結合 ---}$"
      ],
      "text/plain": [
       "L\"$\\text{--- 重要度を結合 ---}$\""
      ]
     },
     "metadata": {},
     "output_type": "display_data"
    },
    {
     "data": {
      "text/latex": [
       "$\\text{各DMの上近似と下近似}$"
      ],
      "text/plain": [
       "L\"$\\text{各DMの上近似と下近似}$\""
      ]
     },
     "metadata": {},
     "output_type": "display_data"
    },
    {
     "data": {
      "text/latex": [
       "$W_1^- = \\emptyset$"
      ],
      "text/plain": [
       "L\"$W_1^- = \\emptyset$\""
      ]
     },
     "metadata": {},
     "output_type": "display_data"
    },
    {
     "data": {
      "text/latex": [
       "$    w_{1}^{\\text{L}+} = \\begin{bmatrix} 0.071  \\\\  0.39  \\\\  0.051  \\\\  0.178 \\end{bmatrix}, ~~\n",
       "    w_{1}^{\\text{U}+} = \\begin{bmatrix} 0.373  \\\\  0.39  \\\\  0.059  \\\\  0.488 \\end{bmatrix}\n",
       "$"
      ],
      "text/plain": [
       "L\"$    w_{1}^{\\text{L}+} = \\begin{bmatrix} 0.071  \\\\  0.39  \\\\  0.051  \\\\  0.178 \\end{bmatrix}, ~~\n",
       "    w_{1}^{\\text{U}+} = \\begin{bmatrix} 0.373  \\\\  0.39  \\\\  0.059  \\\\  0.488 \\end{bmatrix}\n",
       "$\""
      ]
     },
     "metadata": {},
     "output_type": "display_data"
    },
    {
     "data": {
      "text/latex": [
       "$W_2^- = \\emptyset$"
      ],
      "text/plain": [
       "L\"$W_2^- = \\emptyset$\""
      ]
     },
     "metadata": {},
     "output_type": "display_data"
    },
    {
     "data": {
      "text/latex": [
       "$    w_{2}^{\\text{L}+} = \\begin{bmatrix} 0.075  \\\\  0.411  \\\\  0.057  \\\\  0.176 \\end{bmatrix}, ~~\n",
       "    w_{2}^{\\text{U}+} = \\begin{bmatrix} 0.353  \\\\  0.411  \\\\  0.06  \\\\  0.457 \\end{bmatrix}\n",
       "$"
      ],
      "text/plain": [
       "L\"$    w_{2}^{\\text{L}+} = \\begin{bmatrix} 0.075  \\\\  0.411  \\\\  0.057  \\\\  0.176 \\end{bmatrix}, ~~\n",
       "    w_{2}^{\\text{U}+} = \\begin{bmatrix} 0.353  \\\\  0.411  \\\\  0.06  \\\\  0.457 \\end{bmatrix}\n",
       "$\""
      ]
     },
     "metadata": {},
     "output_type": "display_data"
    },
    {
     "data": {
      "text/latex": [
       "$\\text{各DMの上近似と下近似の}t\\text{の範囲}$"
      ],
      "text/plain": [
       "L\"$\\text{各DMの上近似と下近似の}t\\text{の範囲}$\""
      ]
     },
     "metadata": {},
     "output_type": "display_data"
    },
    {
     "data": {
      "text/latex": [
       "$    t_{1}^{\\text{L}+} = 1.0, ~~\n",
       "    t_{1}^{\\text{U}+} = 1.0\n",
       "$"
      ],
      "text/plain": [
       "L\"$    t_{1}^{\\text{L}+} = 1.0, ~~\n",
       "    t_{1}^{\\text{U}+} = 1.0\n",
       "$\""
      ]
     },
     "metadata": {},
     "output_type": "display_data"
    },
    {
     "data": {
      "text/latex": [
       "$    t_{2}^{\\text{L}+} = 1.0, ~~\n",
       "    t_{2}^{\\text{U}+} = 1.0\n",
       "$"
      ],
      "text/plain": [
       "L\"$    t_{2}^{\\text{L}+} = 1.0, ~~\n",
       "    t_{2}^{\\text{U}+} = 1.0\n",
       "$\""
      ]
     },
     "metadata": {},
     "output_type": "display_data"
    },
    {
     "data": {
      "text/latex": [
       "$\\text{LPの最適解}$"
      ],
      "text/plain": [
       "L\"$\\text{LPの最適解}$\""
      ]
     },
     "metadata": {},
     "output_type": "display_data"
    },
    {
     "data": {
      "text/latex": [
       "$t^- = \\begin{bmatrix} 0.0  \\\\  0.0 \\end{bmatrix}, ~~\n",
       "t^+ = \\begin{bmatrix} 1.051  \\\\  0.998 \\end{bmatrix}\n",
       "$"
      ],
      "text/plain": [
       "L\"$t^- = \\begin{bmatrix} 0.0  \\\\  0.0 \\end{bmatrix}, ~~\n",
       "t^+ = \\begin{bmatrix} 1.051  \\\\  0.998 \\end{bmatrix}\n",
       "$\""
      ]
     },
     "metadata": {},
     "output_type": "display_data"
    },
    {
     "data": {
      "text/latex": [
       "$W = \\begin{bmatrix}\\left[ 0.075, 0.077 \\right] \\\\ \\left[ 0.41, 0.41 \\right] \\\\ \\left[ 0.057, 0.059 \\right] \\\\ \\left[ 0.456, 0.456 \\right]\\end{bmatrix}$"
      ],
      "text/plain": [
       "L\"$W = \\begin{bmatrix}\\left[ 0.075, 0.077 \\right] \\\\ \\left[ 0.41, 0.41 \\right] \\\\ \\left[ 0.057, 0.059 \\right] \\\\ \\left[ 0.456, 0.456 \\right]\\end{bmatrix}$\""
      ]
     },
     "metadata": {},
     "output_type": "display_data"
    },
    {
     "data": {
      "text/latex": [
       "$v^{\\text{L}-} = \\begin{bmatrix} 0.075  \\\\  0.41  \\\\  0.057  \\\\  0.187 \\end{bmatrix}, ~~\n",
       "v^{\\text{U}-} = \\begin{bmatrix} 0.0  \\\\  0.0  \\\\  0.0  \\\\  0.0 \\end{bmatrix}, ~~\n",
       "v^{\\text{L}+} = \\begin{bmatrix} 0.075  \\\\  0.41  \\\\  0.057  \\\\  0.187 \\end{bmatrix}, ~~\n",
       "v^{\\text{U}+} = \\begin{bmatrix} 0.075  \\\\  0.41  \\\\  0.057  \\\\  0.187 \\end{bmatrix}\n",
       "$"
      ],
      "text/plain": [
       "L\"$v^{\\text{L}-} = \\begin{bmatrix} 0.075  \\\\  0.41  \\\\  0.057  \\\\  0.187 \\end{bmatrix}, ~~\n",
       "v^{\\text{U}-} = \\begin{bmatrix} 0.0  \\\\  0.0  \\\\  0.0  \\\\  0.0 \\end{bmatrix}, ~~\n",
       "v^{\\text{L}+} = \\begin{bmatrix} 0.075  \\\\  0.41  \\\\  0.057  \\\\  0.187 \\end{bmatrix}, ~~\n",
       "v^{\\text{U}+} = \\begin{bmatrix} 0.075  \\\\  0.41  \\\\  0.057  \\\\  0.187 \\end{bmatrix}\n",
       "$\""
      ]
     },
     "metadata": {},
     "output_type": "display_data"
    },
    {
     "data": {
      "text/latex": [
       "$\\varepsilon^\\text{L} = \\begin{bmatrix} 0.0  \\\\  0.0  \\\\  0.0  \\\\  0.0 \\end{bmatrix}, ~~\n",
       "\\varepsilon^\\text{U} = \\begin{bmatrix} 0.0  \\\\  0.0  \\\\  0.0  \\\\  0.0 \\end{bmatrix}\n",
       "$"
      ],
      "text/plain": [
       "L\"$\\varepsilon^\\text{L} = \\begin{bmatrix} 0.0  \\\\  0.0  \\\\  0.0  \\\\  0.0 \\end{bmatrix}, ~~\n",
       "\\varepsilon^\\text{U} = \\begin{bmatrix} 0.0  \\\\  0.0  \\\\  0.0  \\\\  0.0 \\end{bmatrix}\n",
       "$\""
      ]
     },
     "metadata": {},
     "output_type": "display_data"
    },
    {
     "data": {
      "text/latex": [
       "$\\text{結合後のPCM}$"
      ],
      "text/plain": [
       "L\"$\\text{結合後のPCM}$\""
      ]
     },
     "metadata": {},
     "output_type": "display_data"
    },
    {
     "data": {
      "text/latex": [
       "$\\hat{A} = \\begin{bmatrix} \\left[   1.0, \\left[   1.0,   1.0 \\right],   1.0 \\right] & \\left[ 0.182, \\emptyset, 0.188 \\right] & \\left[ 1.255, \\emptyset, 1.353 \\right] & \\left[ 0.164, \\emptyset, 0.413 \\right] \\\\ \\left[ 5.323, \\emptyset,   5.5 \\right] & \\left[   1.0, \\left[   1.0,   1.0 \\right],   1.0 \\right] & \\left[   6.9, \\emptyset,   7.2 \\right] & \\left[   0.9, \\emptyset, 2.196 \\right] \\\\ \\left[ 0.739, \\emptyset, 0.797 \\right] & \\left[ 0.139, \\emptyset, 0.145 \\right] & \\left[   1.0, \\left[   1.0,   1.0 \\right],   1.0 \\right] & \\left[ 0.125, \\emptyset, 0.318 \\right] \\\\ \\left[ 2.424, \\emptyset, 6.111 \\right] & \\left[ 0.455, \\emptyset, 1.111 \\right] & \\left[ 3.142, \\emptyset,   8.0 \\right] & \\left[   1.0, \\left[   1.0,   1.0 \\right],   1.0 \\right] \\end{bmatrix}$"
      ],
      "text/plain": [
       "\"\\$\\\\hat{A} = \\\\begin{bmatrix} \\\\left[   1.0, \\\\left[   1.0,   1.0 \\\\right],   1.0 \\\\right] & \\\\left[ 0.182, \\\\emptyset, 0.188 \\\\right] & \\\\left[ 1.255, \\\\emptyset, 1.353 \\\\right] & \\\\left[ 0.164, \\\\emptyset, 0.413 \\\\right] \\\\\\\\ \\\\left[ 5.323, \\\\emptyset,   5.5 \\\\right] & \\\\left[   1.0, \\\\left[\" ⋯ 229 bytes ⋯ \"0,   1.0 \\\\right],   1.0 \\\\right] & \\\\left[ 0.125, \\\\emptyset, 0.318 \\\\right] \\\\\\\\ \\\\left[ 2.424, \\\\emptyset, 6.111 \\\\right] & \\\\left[ 0.455, \\\\emptyset, 1.111 \\\\right] & \\\\left[ 3.142, \\\\emptyset,   8.0 \\\\right] & \\\\left[   1.0, \\\\left[   1.0,   1.0 \\\\right],   1.0 \\\\right] \\\\end{bmatrix}\\$\""
      ]
     },
     "metadata": {},
     "output_type": "display_data"
    }
   ],
   "source": [
    "A₁ = [\n",
    "    1..1 (1/5.5)..(1/4.8) 2.7..3.3 1.5..2.1\n",
    "    4.8..5.5 1..1 6.8..7.6 0.8..1.1\n",
    "    (1/3.3)..(1/2.7) (1/7.6)..(1/6.8) 1..1 (1/3.4)..(1/3)\n",
    "    (1/2.1)..(1/1.5) (1/1.1)..(1/0.8) 3..3.4 1..1\n",
    "]\n",
    "A₂ = [\n",
    "    1..1 (1/5.5)..(1/5.1) 2.7..2.9 1.5..2\n",
    "    5.1..5.5 1..1 6.9..7.2 0.9..1.3\n",
    "    (1/2.9)..(1/2.7) (1/7.2)..(1/6.9) 1..1 (1/3.4)..(1/3)\n",
    "    (1/2)..(1/1.5) (1/1.3)..(1/0.9) 3..3.4 1..1\n",
    "]\n",
    "\n",
    "runBothMethod(A₁, A₂)\n",
    "print()"
   ]
  },
  {
   "cell_type": "code",
   "execution_count": 10,
   "id": "e67e2c04-7370-418d-9b3f-1d87509a9284",
   "metadata": {},
   "outputs": [],
   "source": []
  }
 ],
 "metadata": {
  "kernelspec": {
   "display_name": "Julia 1.8.3",
   "language": "julia",
   "name": "julia-1.8"
  },
  "language_info": {
   "file_extension": ".jl",
   "mimetype": "application/julia",
   "name": "julia",
   "version": "1.8.3"
  }
 },
 "nbformat": 4,
 "nbformat_minor": 5
}
