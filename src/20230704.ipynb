{
 "cells": [
  {
   "attachments": {},
   "cell_type": "markdown",
   "metadata": {},
   "source": [
    "### crisp PCM の生成\n",
    "\n",
    "1. $i < j$ について $a_{ij}$ を $[1/S, S]$ の中からランダムに選ぶ\n",
    "\n",
    "    a. $-\\ln 9$ から $\\ln 9$ の一様分布に従う乱数 $\\ln a_{ij}$ を生成\n",
    "\n",
    "2. $i > j$ について $a_{ij} = 1 / a_{ji}$ とする\n",
    "\n",
    "3. $\\mathrm{CR}$ が $0.1$ より大きい場合は 1. に戻る"
   ]
  },
  {
   "attachments": {},
   "cell_type": "markdown",
   "metadata": {},
   "source": [
    "### 区間 PCM の生成\n",
    "\n",
    "- $n$: 基準/代替案数\n",
    "- $N = \\left\\{ 1, 2, \\dots, n \\right\\}$\n",
    "- $r_{\\max}$: 区間 PCM $\\bar{A}_k$ の各成分の幅を定めるときのパラメータ\n",
    "\n",
    "crisp PCM $A = \\left( a_{ij} \\right)_{n \\times n}$ を与える.\n",
    "\n",
    "$\\mathrm{DM}_k$ の区間 PCM $\\bar{A}_k = \\left( \\bar{A}_{kij} \\right)_{n \\times n} = \\left( \\left[ \\bar{a}_{kij}^\\mathrm{L}, \\bar{a}_{kij}^\\mathrm{U} \\right] \\right)_{n \\times n}$ を次のように与える.\n",
    "\n",
    "1. $i < j$ の成分を次のように計算する.\n",
    "    $$\n",
    "    \\begin{align*}\n",
    "    \\bar{a}_{kij}^\\mathrm{L} & = a_{ij} \\exp \\left( -r_{kij}^\\mathrm{L} \\right), \\\\\n",
    "    \\bar{a}_{kij}^\\mathrm{U} & = a_{ij} \\exp \\left( r_{kij}^\\mathrm{U} \\right).\n",
    "    \\end{align*}\n",
    "    $$\n",
    "    ただし, $r_{kij}^\\mathrm{L}, r_{kij}^\\mathrm{U} ~ (k \\in \\{ 1,2 \\}, ~~ i, j \\in N, ~ i < j)$ は $0$ から $r_{\\max}$ の一様分布に従う.\n",
    "    $S = 9$ ならば, $r_{\\max}$ は $\\frac{\\ln 3}{2} \\approx 0.55$ 程度にする.\n",
    "    \n",
    "\n",
    "2. $i > j$ の成分は $\\bar{A}_{kij} = 1 / \\bar{A}_{kji} = \\left[ \\frac{1}{\\bar{a}_{kij}^\\mathrm{U}}, \\frac{1}{\\bar{a}_{kij}^\\mathrm{L}} \\right]$ とする."
   ]
  },
  {
   "attachments": {},
   "cell_type": "markdown",
   "metadata": {},
   "source": [
    "区間 PCM $\\bar{A}$ の各成分を $1/S, \\dots, 1/2, 1, 2, \\dots, S$ にして区間 PCM $\\left(  A_{ij} \\right) = \\left( \\left[  a_{ij}^\\mathrm{L}, a_{ij}^\\mathrm{U} \\right] \\right)$ を得る.\n",
    "\n",
    "$$\n",
    "a_{ij}^\\mathrm{L} = \\begin{cases}\n",
    "1/9 & \\text{if} ~~ \\bar{a}_{ij}^\\mathrm{L} \\leq 1 / \\sqrt{9\\cdot8}, \\\\\n",
    "1/s & \\text{if} ~~ 1/\\sqrt{(s+1)s} < \\bar{a}_{ij}^\\mathrm{L} \\leq 1/\\sqrt{s(s-1)}, & s = 2, 3, \\dots, 8, \\\\\n",
    "1 & \\text{if} ~~ 1/\\sqrt{2} < \\bar{a}_{ij}^\\mathrm{L} \\leq \\sqrt{2}, \\\\\n",
    "s & \\text{if} ~~ \\sqrt{(s-1)s} < \\bar{a}_{ij}^\\mathrm{L} \\leq \\sqrt{s(s+1)}, & s = 2, 3, \\dots, 8, \\\\\n",
    "9 & \\text{if} ~~ \\sqrt{8\\cdot9} < \\bar{a}_{ij}^\\mathrm{L}.\n",
    "\\end{cases}\n",
    "$$\n",
    "\n",
    "$a_{ij}^\\mathrm{U}$ も同様に計算する."
   ]
  },
  {
   "attachments": {},
   "cell_type": "markdown",
   "metadata": {},
   "source": [
    "### 区間の類似度\n",
    "\n",
    "ある比率の範囲を値とする区間 $A = \\left[ a^\\mathrm{L}, a^\\mathrm{U} \\right], B = \\left[ b^\\mathrm{L}, b^\\mathrm{U} \\right]$ の類似度 $\\mathrm{Sim}\\left( A, B \\right)$ を次のように定める.\n",
    "\n",
    "$$\n",
    "\\begin{align*}\n",
    "    & \\mathrm{Sim}\\left( A, B \\right) = \\frac{\\left| \\bar{A} \\cap \\bar{B} \\right|}{\\left| \\bar{A} \\cup \\bar{B} \\right|}, \\\\\n",
    "    & \\text{where} ~~ \\bar{A} = \\left[ \\ln a^\\mathrm{L}, \\ln a^\\mathrm{U} \\right], ~ \\bar{B} = \\left[ \\ln b^\\mathrm{L}, \\ln b^\\mathrm{U} \\right]\n",
    "\\end{align*}\n",
    "$$"
   ]
  },
  {
   "attachments": {},
   "cell_type": "markdown",
   "metadata": {},
   "source": [
    "### シミュレーション\n",
    "\n",
    "1. 整合している crisp PCM $A_1, A_2$ を 1000 組生成する\n",
    "2. crisp PCM 1 個に対して, 区間 PCM を 10 個生成する\n",
    "3. 各区間 PCM について\n",
    "    1. 手法 1 ~ 4 によって二重区間 PCM $\\mathscr{A}^1, \\mathscr{A}^2, \\mathscr{A}^3, \\mathscr{A}^4$ を計算\n",
    "    2. 類似度を計算\n",
    "        $$\n",
    "        \\mathrm{Sim}\\left( A_{kij}, \\mathscr{A}_{ij}^{l\\pm} \\right), ~~ i, j \\in N, ~ i \\neq j, ~ k \\in \\{ 1, 2 \\}, ~ l \\in \\{ 1, 2, 3, 4 \\}\n",
    "        $$\n",
    "    3. 類似度の集計\n",
    "        $i,j$ 成分の算術平均, 二人の幾何平均をとる\n",
    "            $$\n",
    "            \\sigma^{l\\pm} = \\sqrt{ \\frac{1}{n(n-1)} \\prod_{k \\in \\{ 1,2 \\}} \\sum_{i, j \\in N, i \\neq j} \\mathrm{Sim}\\left( A_{kij}, \\mathscr{A}_{ij}^{l\\pm} \\right) }, ~~ l \\in \\{ 1, 2, 3, 4 \\}\n",
    "            $$\n",
    "3. $\\sigma^{l\\pm}, ~ l \\in \\{ 1, 2, 3, 4 \\}$ がそれぞれ 10000 個得られるので, その算術平均をとる"
   ]
  },
  {
   "cell_type": "code",
   "execution_count": 1,
   "metadata": {},
   "outputs": [
    {
     "data": {
      "text/plain": [
       "discretizateIntoComparisonScale (generic function with 3 methods)"
      ]
     },
     "metadata": {},
     "output_type": "display_data"
    }
   ],
   "source": [
    "include(\"./crispPCM/index.jl\")\n",
    "include(\"./evaluation/index.jl\")\n",
    "include(\"./method1/index.jl\")\n",
    "include(\"./method2/index.jl\")\n",
    "include(\"./method3/index.jl\")\n",
    "include(\"./method4/index.jl\")\n",
    "include(\"./intervalPCM/index.jl\")\n",
    "include(\"./twofoldInterval/index.jl\")\n",
    "include(\"./twofoldIntervalPCM/index.jl\")\n",
    "include(\"./utils.jl\")"
   ]
  },
  {
   "cell_type": "code",
   "execution_count": 2,
   "metadata": {},
   "outputs": [
    {
     "data": {
      "text/plain": [
       "TaskLocalRNG()"
      ]
     },
     "metadata": {},
     "output_type": "display_data"
    }
   ],
   "source": [
    "Random.seed!(100)"
   ]
  },
  {
   "cell_type": "code",
   "execution_count": 3,
   "metadata": {},
   "outputs": [
    {
     "data": {
      "text/plain": [
       "0.8047189562170501"
      ]
     },
     "metadata": {},
     "output_type": "display_data"
    }
   ],
   "source": [
    "S = 9.0\n",
    "threshold = log(5) / 2"
   ]
  },
  {
   "cell_type": "code",
   "execution_count": 4,
   "metadata": {},
   "outputs": [
    {
     "data": {
      "text/plain": [
       "generateSimulationCases (generic function with 1 method)"
      ]
     },
     "metadata": {},
     "output_type": "display_data"
    }
   ],
   "source": [
    "SimulationCase = @NamedTuple{\n",
    "    A₁::Matrix{Interval{T}},\n",
    "    A₂::Matrix{Interval{T}}\n",
    "} where {T <: Real}\n",
    "\n",
    "function generateSimulationCases(\n",
    "    n::Integer,\n",
    "    numOfCrispPCM::Integer,\n",
    "    intervalPCMsPerCrispPCM::Integer\n",
    ")::Vector{SimulationCase}\n",
    "    simulation_cases = SimulationCase[]\n",
    "\n",
    "    for _ in 1:numOfCrispPCM\n",
    "        # Generate a Crisp PCM\n",
    "        crisp_pcm = generateConsistentCrispPCM(n, S)\n",
    "        for _ in 1:intervalPCMsPerCrispPCM\n",
    "            # Generate an Interval PCM for each Crisp PCM\n",
    "            interval_pcm_1 = discretizateIntoComparisonScale(randamizedIntervalPCM(crisp_pcm, threshold), S)\n",
    "            interval_pcm_2 = discretizateIntoComparisonScale(randamizedIntervalPCM(crisp_pcm, threshold), S)\n",
    "            # Append the Crisp PCM and its corresponding Interval PCM as a tuple to the list\n",
    "            push!(simulation_cases, (A₁=interval_pcm_1, A₂=interval_pcm_2))\n",
    "        end\n",
    "    end\n",
    "\n",
    "    return simulation_cases\n",
    "end"
   ]
  },
  {
   "cell_type": "code",
   "execution_count": 5,
   "metadata": {},
   "outputs": [
    {
     "data": {
      "text/plain": [
       "runSimulation (generic function with 1 method)"
      ]
     },
     "metadata": {},
     "output_type": "display_data"
    }
   ],
   "source": [
    "SimulationResult = @NamedTuple{\n",
    "    # 各 DM の与える区間 PCM\n",
    "    A₁::Matrix{Interval{T}}, A₂::Matrix{Interval{T}},\n",
    "    # method 1 ~ 4 の二重区間 PCM\n",
    "    𝓐¹::Matrix{TwofoldInterval{T}}, 𝓐²::Matrix{TwofoldInterval{T}},\n",
    "    𝓐³::Matrix{TwofoldInterval{T}}, 𝓐⁴::Matrix{TwofoldInterval{T}},\n",
    "    # 𝓐ᵏ の二重区間の内側の区間\n",
    "    𝓐¹⁻::Matrix{Interval{T}}, 𝓐²⁻::Matrix{Interval{T}},\n",
    "    𝓐³⁻::Matrix{Interval{T}}, 𝓐⁴⁻::Matrix{Interval{T}},\n",
    "    # 𝓐ᵏ の二重区間の外側の区間\n",
    "    𝓐¹⁺::Matrix{Interval{T}}, 𝓐²⁺::Matrix{Interval{T}},\n",
    "    𝓐³⁺::Matrix{Interval{T}}, 𝓐⁴⁺::Matrix{Interval{T}},\n",
    "    # エラーメッセージ\n",
    "    error::String\n",
    "} where {T <: Real}\n",
    "\n",
    "methodList = [method1, method2, method3, method4]\n",
    "\n",
    "function runSimulation(\n",
    "    case::SimulationCase{T}\n",
    "    )::SimulationResult{T} where {T <: Real}\n",
    "    𝓐 = Dict(); 𝓐⁻ = Dict(); 𝓐⁺ = Dict()\n",
    "    \n",
    "    try\n",
    "        for k in 1:4\n",
    "            𝓐[k] = methodList[k](case.A₁, case.A₂)\n",
    "            𝓐⁻[k] = map(𝓐ᵢⱼ -> 𝓐ᵢⱼ[1], 𝓐[k])\n",
    "            𝓐⁺[k] = map(𝓐ᵢⱼ -> 𝓐ᵢⱼ[2], 𝓐[k])\n",
    "        end\n",
    "\n",
    "        return (\n",
    "            A₁=case.A₁, A₂=case.A₂,\n",
    "            𝓐¹=𝓐[1], 𝓐²=𝓐[2], 𝓐³=𝓐[3], 𝓐⁴=𝓐[4],\n",
    "            𝓐¹⁻=𝓐⁻[1], 𝓐²⁻=𝓐⁻[2], 𝓐³⁻=𝓐⁻[3], 𝓐⁴⁻=𝓐⁻[4],\n",
    "            𝓐¹⁺=𝓐⁺[1], 𝓐²⁺=𝓐⁺[2], 𝓐³⁺=𝓐⁺[3], 𝓐⁴⁺=𝓐⁺[4],\n",
    "            error=\"\"\n",
    "        )\n",
    "    catch e\n",
    "        n = size(case.A₁, 2)\n",
    "        IPCM = fill(1..1, n, n)\n",
    "        twofoldIPCM = fill((1..1, 1..1), n, n)\n",
    "        return (\n",
    "            A₁=case.A₁, A₂=case.A₂,\n",
    "            𝓐¹=twofoldIPCM, 𝓐²=twofoldIPCM, 𝓐³=twofoldIPCM, 𝓐⁴=twofoldIPCM,\n",
    "            𝓐¹⁻=IPCM, 𝓐²⁻=IPCM, 𝓐³⁻=IPCM, 𝓐⁴⁻=IPCM,\n",
    "            𝓐¹⁺=IPCM, 𝓐²⁺=IPCM, 𝓐³⁺=IPCM, 𝓐⁴⁺=IPCM,\n",
    "            error=string(e)\n",
    "        )\n",
    "    end\n",
    "end"
   ]
  },
  {
   "cell_type": "code",
   "execution_count": 6,
   "metadata": {},
   "outputs": [
    {
     "data": {
      "text/plain": [
       "calculateCoincidenceList (generic function with 1 method)"
      ]
     },
     "metadata": {},
     "output_type": "display_data"
    }
   ],
   "source": [
    "InnerConincidenceList = @NamedTuple{\n",
    "    𝓐¹⁻::T, 𝓐¹⁺::T,\n",
    "    𝓐²⁻::T, 𝓐²⁺::T,\n",
    "    𝓐³⁻::T, 𝓐³⁺::T,\n",
    "    𝓐⁴⁻::T, 𝓐⁴⁺::T\n",
    "} where {T <: Real}\n",
    "\n",
    "ConincidenceList = @NamedTuple{\n",
    "    A₁::InnerConincidenceList{T},\n",
    "    A₂::InnerConincidenceList{T},\n",
    "    error::String\n",
    "} where {T <: Real}\n",
    "\n",
    "function calculateCoincidenceList(result::SimulationResult{T})::ConincidenceList{T} where {T <: Real}\n",
    "    A₁ = result.A₁; A₂ = result.A₂\n",
    "    𝓐¹⁻ = result.𝓐¹⁻; 𝓐¹⁺ = result.𝓐¹⁺\n",
    "    𝓐²⁻ = result.𝓐²⁻; 𝓐²⁺ = result.𝓐²⁺\n",
    "    𝓐³⁻ = result.𝓐³⁻; 𝓐³⁺ = result.𝓐³⁺\n",
    "    𝓐⁴⁻ = result.𝓐⁴⁻; 𝓐⁴⁺ = result.𝓐⁴⁺\n",
    "    try\n",
    "        return (\n",
    "            A₁=(\n",
    "                𝓐¹⁻=logarithmicCoincidenceIndex(A₁, 𝓐¹⁻), 𝓐¹⁺=logarithmicCoincidenceIndex(A₁, 𝓐¹⁺),\n",
    "                𝓐²⁻=logarithmicCoincidenceIndex(A₁, 𝓐²⁻), 𝓐²⁺=logarithmicCoincidenceIndex(A₁, 𝓐²⁺),\n",
    "                𝓐³⁻=logarithmicCoincidenceIndex(A₁, 𝓐³⁻), 𝓐³⁺=logarithmicCoincidenceIndex(A₁, 𝓐³⁺),\n",
    "                𝓐⁴⁻=logarithmicCoincidenceIndex(A₁, 𝓐⁴⁻), 𝓐⁴⁺=logarithmicCoincidenceIndex(A₁, 𝓐⁴⁺)\n",
    "            ),\n",
    "            A₂=(\n",
    "                𝓐¹⁻=logarithmicCoincidenceIndex(A₂, 𝓐¹⁻), 𝓐¹⁺=logarithmicCoincidenceIndex(A₂, 𝓐¹⁺),\n",
    "                𝓐²⁻=logarithmicCoincidenceIndex(A₂, 𝓐²⁻), 𝓐²⁺=logarithmicCoincidenceIndex(A₂, 𝓐²⁺),\n",
    "                𝓐³⁻=logarithmicCoincidenceIndex(A₂, 𝓐³⁻), 𝓐³⁺=logarithmicCoincidenceIndex(A₂, 𝓐³⁺),\n",
    "                𝓐⁴⁻=logarithmicCoincidenceIndex(A₂, 𝓐⁴⁻), 𝓐⁴⁺=logarithmicCoincidenceIndex(A₂, 𝓐⁴⁺)\n",
    "            ),\n",
    "            error=\"\"\n",
    "        )\n",
    "    catch e\n",
    "        return (\n",
    "            A₁=(\n",
    "                𝓐¹⁻=NaN, 𝓐¹⁺=NaN,\n",
    "                𝓐²⁻=NaN, 𝓐²⁺=NaN,\n",
    "                𝓐³⁻=NaN, 𝓐³⁺=NaN,\n",
    "                𝓐⁴⁻=NaN, 𝓐⁴⁺=NaN\n",
    "            ),\n",
    "            A₂=(\n",
    "                𝓐¹⁻=NaN, 𝓐¹⁺=NaN,\n",
    "                𝓐²⁻=NaN, 𝓐²⁺=NaN,\n",
    "                𝓐³⁻=NaN, 𝓐³⁺=NaN,\n",
    "                𝓐⁴⁻=NaN, 𝓐⁴⁺=NaN\n",
    "            ),\n",
    "            error=string(e)\n",
    "        )\n",
    "    end\n",
    "end"
   ]
  },
  {
   "cell_type": "code",
   "execution_count": 7,
   "metadata": {},
   "outputs": [
    {
     "data": {
      "text/plain": [
       "total (generic function with 1 method)"
      ]
     },
     "metadata": {},
     "output_type": "display_data"
    }
   ],
   "source": [
    "function total(conincidenceLists::Vector{ConincidenceList{T}}) where {T <: Real}\n",
    "    if length(conincidenceLists) == 0\n",
    "        throw(ArgumentError(\"Empty list of ConincidenceLists\"))\n",
    "    end\n",
    "\n",
    "    total_gm_𝓐¹⁻ = zero(T); total_gm_𝓐¹⁺ = zero(T)\n",
    "    total_gm_𝓐²⁻ = zero(T); total_gm_𝓐²⁺ = zero(T)\n",
    "    total_gm_𝓐³⁻ = zero(T); total_gm_𝓐³⁺ = zero(T)\n",
    "    total_gm_𝓐⁴⁻ = zero(T); total_gm_𝓐⁴⁺ = zero(T)\n",
    "\n",
    "    count = 0\n",
    "\n",
    "    for list in conincidenceLists\n",
    "        if list.error != \"\" continue end\n",
    "\n",
    "        count += 1\n",
    "        total_gm_𝓐¹⁻ += sqrt(list.A₁.𝓐¹⁻ * list.A₂.𝓐¹⁻)\n",
    "        total_gm_𝓐¹⁺ += sqrt(list.A₁.𝓐¹⁺ * list.A₂.𝓐¹⁺)\n",
    "        total_gm_𝓐²⁻ += sqrt(list.A₁.𝓐²⁻ * list.A₂.𝓐²⁻)\n",
    "        total_gm_𝓐²⁺ += sqrt(list.A₁.𝓐²⁺ * list.A₂.𝓐²⁺)\n",
    "        total_gm_𝓐³⁻ += sqrt(list.A₁.𝓐³⁻ * list.A₂.𝓐³⁻)\n",
    "        total_gm_𝓐³⁺ += sqrt(list.A₁.𝓐³⁺ * list.A₂.𝓐³⁺)\n",
    "        total_gm_𝓐⁴⁻ += sqrt(list.A₁.𝓐⁴⁻ * list.A₂.𝓐⁴⁻)\n",
    "        total_gm_𝓐⁴⁺ += sqrt(list.A₁.𝓐⁴⁺ * list.A₂.𝓐⁴⁺)\n",
    "    end\n",
    "    count *= 2\n",
    "\n",
    "    return (\n",
    "        σ¹⁻ = total_gm_𝓐¹⁻ / count, σ¹⁺ = total_gm_𝓐¹⁺ / count,\n",
    "        σ²⁻ = total_gm_𝓐²⁻ / count, σ²⁺ = total_gm_𝓐²⁺ / count,\n",
    "        σ³⁻ = total_gm_𝓐³⁻ / count, σ³⁺ = total_gm_𝓐³⁺ / count,\n",
    "        σ⁴⁻ = total_gm_𝓐⁴⁻ / count, σ⁴⁺ = total_gm_𝓐⁴⁺ / count\n",
    "    )\n",
    "end"
   ]
  },
  {
   "cell_type": "code",
   "execution_count": 8,
   "metadata": {},
   "outputs": [
    {
     "data": {
      "text/plain": [
       "run (generic function with 1 method)"
      ]
     },
     "metadata": {},
     "output_type": "display_data"
    }
   ],
   "source": [
    "function run(\n",
    "    n::Integer, \n",
    "    numOfCrispPCM::Integer, \n",
    "    intervalPCMsPerCrispPCM::Integer\n",
    "    )\n",
    "    cases = generateSimulationCases(n, numOfCrispPCM, intervalPCMsPerCrispPCM)\n",
    "    results = Vector{SimulationResult}(undef, length(cases))\n",
    "    Threads.@threads for i in 1:length(cases)\n",
    "        results[i] = runSimulation(cases[i])\n",
    "    end\n",
    "    conincidenceList = calculateCoincidenceList.(results)\n",
    "    return total(conincidenceList)\n",
    "end"
   ]
  },
  {
   "cell_type": "code",
   "execution_count": 9,
   "metadata": {},
   "outputs": [
    {
     "data": {
      "text/plain": [
       "(σ¹⁻ = 0.06633979288392912, σ¹⁺ = 0.2371052543679202, σ²⁻ = 0.017599760014814295, σ²⁺ = 0.2374604080181367, σ³⁻ = 0.08127310898569243, σ³⁺ = 0.22027765036106026, σ⁴⁻ = 0.06298297429636641, σ⁴⁺ = 0.26336476795504116)"
      ]
     },
     "metadata": {},
     "output_type": "display_data"
    }
   ],
   "source": [
    "r4 = run(4, 1000, 100)"
   ]
  },
  {
   "cell_type": "code",
   "execution_count": 11,
   "metadata": {},
   "outputs": [
    {
     "data": {
      "text/plain": [
       "(σ¹⁻ = 0.020685091879555372, σ¹⁺ = 0.19943075895629528, σ²⁻ = 0.004948128411487274, σ²⁺ = 0.20952549282229332, σ³⁻ = 0.016229778671678432, σ³⁺ = 0.18555627036700245, σ⁴⁻ = 0.005005096435888825, σ⁴⁺ = 0.23994369595292894)"
      ]
     },
     "metadata": {},
     "output_type": "display_data"
    }
   ],
   "source": [
    "r5 = run(5, 1000, 100)"
   ]
  },
  {
   "cell_type": "code",
   "execution_count": 13,
   "metadata": {},
   "outputs": [
    {
     "data": {
      "text/plain": [
       "(σ¹⁻ = 0.007134218402483535, σ¹⁺ = 0.1774367176271772, σ²⁻ = 0.004319598312946578, σ²⁺ = 0.19026508501062173, σ³⁻ = 0.0015005799898423701, σ³⁺ = 0.14225373502121583, σ⁴⁻ = 0.00022891844413317812, σ⁴⁺ = 0.22155229737613674)"
      ]
     },
     "metadata": {},
     "output_type": "display_data"
    }
   ],
   "source": [
    "r6 = run(6, 1000, 100)"
   ]
  },
  {
   "cell_type": "code",
   "execution_count": 19,
   "metadata": {},
   "outputs": [
    {
     "data": {
      "text/plain": [
       "(σ¹⁻ = 0.0010288817667689605, σ¹⁺ = 0.14882524200316954, σ²⁻ = 0.003066231558661392, σ²⁺ = 0.16576425300556058, σ³⁻ = 3.330451075914519e-6, σ³⁺ = 0.14415869115000432, σ⁴⁻ = 0.0, σ⁴⁺ = 0.19559744518313824)"
      ]
     },
     "metadata": {},
     "output_type": "display_data"
    }
   ],
   "source": [
    "r7 = run(7, 1000, 100)"
   ]
  },
  {
   "cell_type": "code",
   "execution_count": 17,
   "metadata": {},
   "outputs": [
    {
     "data": {
      "text/plain": [
       "(σ¹⁻ = 0.00010499051195137911, σ¹⁺ = 0.12779541746888654, σ²⁻ = 0.0020442674879686787, σ²⁺ = 0.14564664729525598, σ³⁻ = 0.0, σ³⁺ = 0.1239970586707913, σ⁴⁻ = 0.0, σ⁴⁺ = 0.17326766794833173)"
      ]
     },
     "metadata": {},
     "output_type": "display_data"
    }
   ],
   "source": [
    "r8 = run(8, 1000, 100)"
   ]
  },
  {
   "cell_type": "code",
   "execution_count": null,
   "metadata": {},
   "outputs": [],
   "source": [
    "# using LaTeXStrings\n",
    "\n",
    "# function run2(\n",
    "#     n::Integer, \n",
    "#     numOfCrispPCM::Integer, \n",
    "#     intervalPCMsPerCrispPCM::Integer\n",
    "#     )\n",
    "#     cases = generateSimulationCases(n, numOfCrispPCM, intervalPCMsPerCrispPCM)\n",
    "#     display(L\"%$(intervalMatrixLaTeXString(cases[1].A₁))\")\n",
    "#     display(L\"%$(intervalMatrixLaTeXString(cases[1].A₂))\")\n",
    "#     results = Vector{SimulationResult}(undef, length(cases))\n",
    "#     Threads.@threads for i in 1:length(cases)\n",
    "#         results[i] = runSimulation(cases[i])\n",
    "#     end\n",
    "#     display(L\"%$(twofoldIntervalMatrixLaTeXString(results[1].𝓐¹))\")\n",
    "#     display(L\"%$(twofoldIntervalMatrixLaTeXString(results[1].𝓐²))\")\n",
    "#     display(L\"%$(twofoldIntervalMatrixLaTeXString(results[1].𝓐³))\")\n",
    "#     display(L\"%$(twofoldIntervalMatrixLaTeXString(results[1].𝓐⁴))\")\n",
    "#     conincidenceList = calculateCoincidenceList.(results)\n",
    "#     return total(conincidenceList)\n",
    "# end"
   ]
  },
  {
   "cell_type": "code",
   "execution_count": null,
   "metadata": {},
   "outputs": [],
   "source": []
  }
 ],
 "metadata": {
  "kernelspec": {
   "display_name": "Julia 1.9.1",
   "language": "julia",
   "name": "julia-1.9"
  },
  "language_info": {
   "file_extension": ".jl",
   "mimetype": "application/julia",
   "name": "julia",
   "version": "1.9.1"
  },
  "orig_nbformat": 4
 },
 "nbformat": 4,
 "nbformat_minor": 2
}
