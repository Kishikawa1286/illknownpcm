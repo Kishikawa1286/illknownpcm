{
 "cells": [
  {
   "cell_type": "code",
   "execution_count": 13,
   "id": "acd086ce-742a-4493-a331-7abe3296c70d",
   "metadata": {},
   "outputs": [],
   "source": [
    "using IntervalArithmetic\n",
    "using LaTeXStrings"
   ]
  },
  {
   "cell_type": "code",
   "execution_count": 14,
   "id": "6ae45f35-7c99-45c9-a934-88166cfef5fb",
   "metadata": {},
   "outputs": [
    {
     "data": {
      "text/plain": [
       "twofoldIntervalMatrixLaTeXString"
      ]
     },
     "metadata": {},
     "output_type": "display_data"
    }
   ],
   "source": [
    "include(\"./index.jl\")\n",
    "include(\"../intervalPCM/index.jl\")\n",
    "include(\"../twofoldInterval/index.jl\")"
   ]
  },
  {
   "cell_type": "code",
   "execution_count": 15,
   "id": "f6600aef-528e-4336-9695-9b6123a05033",
   "metadata": {},
   "outputs": [
    {
     "data": {
      "text/latex": [
       "$A_1 = \\begin{bmatrix} \\left[ 1.0, 1.0 \\right] & \\left[ 1.0, 1.0 \\right] & \\left[ 1.0, 2.0 \\right] \\\\ \\left[ 1.0, 1.0 \\right] & \\left[ 1.0, 1.0 \\right] & \\left[ 0.5, 1.0 \\right] \\\\ \\left[ 0.5, 1.0 \\right] & \\left[ 1.0, 2.0 \\right] & \\left[ 1.0, 1.0 \\right] \\end{bmatrix}$"
      ],
      "text/plain": [
       "L\"$A_1 = \\begin{bmatrix} \\left[ 1.0, 1.0 \\right] & \\left[ 1.0, 1.0 \\right] & \\left[ 1.0, 2.0 \\right] \\\\ \\left[ 1.0, 1.0 \\right] & \\left[ 1.0, 1.0 \\right] & \\left[ 0.5, 1.0 \\right] \\\\ \\left[ 0.5, 1.0 \\right] & \\left[ 1.0, 2.0 \\right] & \\left[ 1.0, 1.0 \\right] \\end{bmatrix}$\""
      ]
     },
     "metadata": {},
     "output_type": "display_data"
    },
    {
     "data": {
      "text/latex": [
       "$A_2 = \\begin{bmatrix} \\left[ 1.0, 1.0 \\right] & \\left[ 1.0, 1.0 \\right] & \\left[ 1.0, 2.0 \\right] \\\\ \\left[ 1.0, 1.0 \\right] & \\left[ 1.0, 1.0 \\right] & \\left[ 0.5, 1.0 \\right] \\\\ \\left[ 0.5, 1.0 \\right] & \\left[ 1.0, 2.0 \\right] & \\left[ 1.0, 1.0 \\right] \\end{bmatrix}$"
      ],
      "text/plain": [
       "L\"$A_2 = \\begin{bmatrix} \\left[ 1.0, 1.0 \\right] & \\left[ 1.0, 1.0 \\right] & \\left[ 1.0, 2.0 \\right] \\\\ \\left[ 1.0, 1.0 \\right] & \\left[ 1.0, 1.0 \\right] & \\left[ 0.5, 1.0 \\right] \\\\ \\left[ 0.5, 1.0 \\right] & \\left[ 1.0, 2.0 \\right] & \\left[ 1.0, 1.0 \\right] \\end{bmatrix}$\""
      ]
     },
     "metadata": {},
     "output_type": "display_data"
    }
   ],
   "source": [
    "A₁ = [\n",
    "    1..1 1..1 1..2\n",
    "    1..1 1..1 (1/2)..1\n",
    "    (1/2)..1 1..2 1..1\n",
    "]\n",
    "A₂ = [\n",
    "    1..1 1..1 1..2\n",
    "    1..1 1..1 (1/2)..1\n",
    "    (1/2)..1 1..2 1..1\n",
    "]\n",
    "\n",
    "display(L\"A_1 = %$(intervalMatrixLaTeXString(A₁))\")\n",
    "display(L\"A_2 = %$(intervalMatrixLaTeXString(A₂))\")"
   ]
  },
  {
   "cell_type": "code",
   "execution_count": 17,
   "id": "5fd64346",
   "metadata": {},
   "outputs": [
    {
     "data": {
      "text/plain": [
       "\"\\\\begin{bmatrix} \\\\left[   1.0, \\\\left[   1.0,   1.0 \\\\right],   1.0 \\\\right] & \\\\left[   1.0, \\\\left[   1.0,   1.0 \\\\right],   1.0 \\\\right] & \\\\left[   1.0, \\\\left[   1.0,   2.0 \\\\right],   2.0 \\\\right] \\\\\\\\ \\\\left[   1.0, \\\\left[   1.0,   1.0 \\\\right],   1.0 \\\\right] & \\\\left[   1.0, \\\\lef\" ⋯ 18 bytes ⋯ \"ight],   1.0 \\\\right] & \\\\left[   0.5, \\\\left[   0.5,   1.0 \\\\right],   1.0 \\\\right] \\\\\\\\ \\\\left[   0.5, \\\\left[   0.5,   1.0 \\\\right],   1.0 \\\\right] & \\\\left[   1.0, \\\\left[   1.0,   2.0 \\\\right],   2.0 \\\\right] & \\\\left[   1.0, \\\\left[   1.0,   1.0 \\\\right],   1.0 \\\\right] \\\\end{bmatrix}\""
      ]
     },
     "metadata": {},
     "output_type": "display_data"
    },
    {
     "data": {
      "text/latex": [
       "$A = \\begin{bmatrix} \\left[   1.0, \\left[   1.0,   1.0 \\right],   1.0 \\right] & \\left[   1.0, \\left[   1.0,   1.0 \\right],   1.0 \\right] & \\left[   1.0, \\left[   1.0,   2.0 \\right],   2.0 \\right] \\\\ \\left[   1.0, \\left[   1.0,   1.0 \\right],   1.0 \\right] & \\left[   1.0, \\left[   1.0,   1.0 \\right],   1.0 \\right] & \\left[   0.5, \\left[   0.5,   1.0 \\right],   1.0 \\right] \\\\ \\left[   0.5, \\left[   0.5,   1.0 \\right],   1.0 \\right] & \\left[   1.0, \\left[   1.0,   2.0 \\right],   2.0 \\right] & \\left[   1.0, \\left[   1.0,   1.0 \\right],   1.0 \\right] \\end{bmatrix}$"
      ],
      "text/plain": [
       "\"\\$A = \\\\begin{bmatrix} \\\\left[   1.0, \\\\left[   1.0,   1.0 \\\\right],   1.0 \\\\right] & \\\\left[   1.0, \\\\left[   1.0,   1.0 \\\\right],   1.0 \\\\right] & \\\\left[   1.0, \\\\left[   1.0,   2.0 \\\\right],   2.0 \\\\right] \\\\\\\\ \\\\left[   1.0, \\\\left[   1.0,   1.0 \\\\right],   1.0 \\\\right] & \\\\left[   1.0,\" ⋯ 24 bytes ⋯ \"ght],   1.0 \\\\right] & \\\\left[   0.5, \\\\left[   0.5,   1.0 \\\\right],   1.0 \\\\right] \\\\\\\\ \\\\left[   0.5, \\\\left[   0.5,   1.0 \\\\right],   1.0 \\\\right] & \\\\left[   1.0, \\\\left[   1.0,   2.0 \\\\right],   2.0 \\\\right] & \\\\left[   1.0, \\\\left[   1.0,   1.0 \\\\right],   1.0 \\\\right] \\\\end{bmatrix}\\$\""
      ]
     },
     "metadata": {},
     "output_type": "display_data"
    }
   ],
   "source": [
    "A = intervalPCM2TwofoldIntervalPCM(A₁, A₂)\n",
    "\n",
    "display(twofoldIntervalMatrixLaTeXString(A))\n",
    "display(L\"A = %$(twofoldIntervalMatrixLaTeXString(A))\")"
   ]
  },
  {
   "cell_type": "code",
   "execution_count": 18,
   "id": "4c35fba6",
   "metadata": {},
   "outputs": [
    {
     "data": {
      "text/plain": [
       "\"\\\\begin{bmatrix} \\\\left[ 1.0, 1.0 \\\\right] \\\\\\\\ \\\\left[ 1.0, 1.0 \\\\right] \\\\\\\\ \\\\left[ 1.0, 1.0 \\\\right] \\\\end{bmatrix}\""
      ]
     },
     "metadata": {},
     "output_type": "display_data"
    },
    {
     "data": {
      "text/latex": [
       "$\\begin{bmatrix} \\left[ 1.0, 1.0 \\right] \\\\ \\left[ 1.0, 1.0 \\right] \\\\ \\left[ 1.0, 1.0 \\right] \\end{bmatrix}$"
      ],
      "text/plain": [
       "L\"$\\begin{bmatrix} \\left[ 1.0, 1.0 \\right] \\\\ \\left[ 1.0, 1.0 \\right] \\\\ \\left[ 1.0, 1.0 \\right] \\end{bmatrix}$\""
      ]
     },
     "metadata": {},
     "output_type": "display_data"
    }
   ],
   "source": [
    "W = [\n",
    "    1..1\n",
    "    1..1\n",
    "    1..1\n",
    "]\n",
    "\n",
    "display(intervalVectorLaTeXString(W))\n",
    "L\"%$(intervalVectorLaTeXString(W))\""
   ]
  },
  {
   "cell_type": "code",
   "execution_count": 12,
   "id": "b3ebaf6c",
   "metadata": {},
   "outputs": [],
   "source": []
  }
 ],
 "metadata": {
  "kernelspec": {
   "display_name": "Julia 1.8.3",
   "language": "julia",
   "name": "julia-1.8"
  },
  "language_info": {
   "file_extension": ".jl",
   "mimetype": "application/julia",
   "name": "julia",
   "version": "1.8.3"
  },
  "vscode": {
   "interpreter": {
    "hash": "d4d1e4263499bec80672ea0156c357c1ee493ec2b1c70f0acce89fc37c4a6abe"
   }
  }
 },
 "nbformat": 4,
 "nbformat_minor": 5
}
