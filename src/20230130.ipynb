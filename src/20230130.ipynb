{
 "cells": [
  {
   "cell_type": "code",
   "execution_count": 18,
   "id": "a661200b-0885-4ad6-9e50-f9b552f74857",
   "metadata": {},
   "outputs": [],
   "source": [
    "using IntervalArithmetic\n",
    "using LaTeXStrings\n",
    "using Plots"
   ]
  },
  {
   "cell_type": "code",
   "execution_count": 19,
   "id": "6ae45f35-7c99-45c9-a934-88166cfef5fb",
   "metadata": {},
   "outputs": [],
   "source": [
    "include(\"./heatmap/index.jl\")\n",
    "include(\"./method1/index.jl\")\n",
    "include(\"./method2/index.jl\")\n",
    "include(\"./method3/index.jl\")\n",
    "include(\"./method4/index.jl\")\n",
    "include(\"./intervalPCM/index.jl\")\n",
    "include(\"./twofoldInterval/index.jl\")\n",
    "include(\"./twofoldIntervalPCM/index.jl\")\n",
    "\n",
    "print()"
   ]
  },
  {
   "cell_type": "code",
   "execution_count": 20,
   "id": "98b3f285",
   "metadata": {},
   "outputs": [
    {
     "data": {
      "text/plain": [
       "method1 (generic function with 1 method)"
      ]
     },
     "metadata": {},
     "output_type": "display_data"
    }
   ],
   "source": [
    "function method1(A₁::Matrix{Interval{T}}, A₂::Matrix{Interval{T}}) where {T <: Real}\n",
    "    A = intervalPCM2TwofoldIntervalPCM(A₁, A₂)\n",
    "    result = solveLP_m1(A)\n",
    "    Â = updatePCM_m1(A, result)\n",
    "    return Â\n",
    "end"
   ]
  },
  {
   "cell_type": "code",
   "execution_count": 21,
   "id": "05761e6b",
   "metadata": {},
   "outputs": [
    {
     "data": {
      "text/plain": [
       "method2 (generic function with 1 method)"
      ]
     },
     "metadata": {},
     "output_type": "display_data"
    }
   ],
   "source": [
    "function  method2(A₁::Matrix{Interval{T}}, A₂::Matrix{Interval{T}}) where {T <: Real}\n",
    "    εᶿ = solveIndividualCancellingLP_m2([A₁, A₂])\n",
    "    result = solveApproximationLP_m2([A₁, A₂], εᶿ)\n",
    "    A = importance2TwofoldIntervalPCM_m2(result)\n",
    "    return A\n",
    "end"
   ]
  },
  {
   "cell_type": "code",
   "execution_count": 22,
   "id": "66f28ba5",
   "metadata": {},
   "outputs": [
    {
     "data": {
      "text/plain": [
       "method3 (generic function with 1 method)"
      ]
     },
     "metadata": {},
     "output_type": "display_data"
    }
   ],
   "source": [
    "function method3(A₁::Matrix{Interval{T}}, A₂::Matrix{Interval{T}}) where {T <: Real}\n",
    "    approximationResults = solveApproximationLP_m3.([A₁, A₂])\n",
    "    tBoundaries = calculateTBoundaries_m3.(approximationResults)\n",
    "    result = solveConcatLP_m3(approximationResults, tBoundaries)\n",
    "    Â = generatePCM_m3(result)\n",
    "    return Â\n",
    "end"
   ]
  },
  {
   "cell_type": "code",
   "execution_count": 23,
   "id": "4b3a5e9d",
   "metadata": {},
   "outputs": [
    {
     "data": {
      "text/plain": [
       "method4 (generic function with 1 method)"
      ]
     },
     "metadata": {},
     "output_type": "display_data"
    }
   ],
   "source": [
    "function method4(A₁::Matrix{Interval{T}}, A₂::Matrix{Interval{T}}) where {T <: Real}\n",
    "    results = solveApproximationLP_m4.([A₁, A₂])\n",
    "    A = generateTwofoldIntervalMatrix_m4(results)\n",
    "    result = solveCancellingLP_m4(A)\n",
    "    Â = updatePCM_m4(A, result)\n",
    "    return Â\n",
    "end"
   ]
  },
  {
   "cell_type": "code",
   "execution_count": 24,
   "id": "00c417be",
   "metadata": {},
   "outputs": [
    {
     "data": {
      "text/plain": [
       "laTeXMatrix (generic function with 1 method)"
      ]
     },
     "metadata": {},
     "output_type": "display_data"
    }
   ],
   "source": [
    "function laTeXMatrix(\n",
    "        pattern,\n",
    "        size::Tuple{Integer, Integer})::String\n",
    "    m, n = size\n",
    "\n",
    "    mat = \"\\\\begin{bmatrix}\"\n",
    "    for i = 1:m, j = 1:n\n",
    "        mat *= pattern(i, j)\n",
    "        if j == n\n",
    "            if i != m\n",
    "                mat *= \"\\\\\\\\\"\n",
    "            end\n",
    "        else\n",
    "            mat *= \" & \"\n",
    "        end\n",
    "    end\n",
    "    mat *= \"\\\\end{bmatrix}\"\n",
    "\n",
    "    return mat\n",
    "end"
   ]
  },
  {
   "cell_type": "code",
   "execution_count": 25,
   "id": "0f662105",
   "metadata": {},
   "outputs": [
    {
     "data": {
      "text/plain": [
       "displayAll (generic function with 1 method)"
      ]
     },
     "metadata": {},
     "output_type": "display_data"
    }
   ],
   "source": [
    "# function display1(\n",
    "#         A₁::Matrix{Interval{T}},\n",
    "#         A₂::Matrix{Interval{T}}) where {T <: Real}\n",
    "#     _, n = size(A₁)\n",
    "#     A = intervalPCM2TwofoldIntervalPCM(A₁, A₂)\n",
    "#     println(\"A = $(twofoldIntervalMatrixLaTeXString(A))\")\n",
    "#     println(\"\\n\\n\")\n",
    "#     result = solveLP_m1(A)\n",
    "#     resultₛₜᵣ = lPResultLaTeXString_m1(result)\n",
    "#     println(\"W = $(resultₛₜᵣ.W)\")\n",
    "#     println()\n",
    "#     println(\"\"\"\n",
    "#         $(laTeXMatrix((i, j) -> \"w_$i^{\\\\text{L}-}\", (n, 1))) = $(resultₛₜᵣ.wᴸ⁻), ~~\n",
    "#         $(laTeXMatrix((i, j) -> \"w_$i^{\\\\text{U}-}\", (n, 1))) = $(resultₛₜᵣ.wᵁ⁻), ~~\n",
    "#         $(laTeXMatrix((i, j) -> \"w_$i^{\\\\text{L}+}\", (n, 1))) = $(resultₛₜᵣ.wᴸ⁺), ~~\n",
    "#         $(laTeXMatrix((i, j) -> \"w_$i^{\\\\text{U}+}\", (n, 1))) = $(resultₛₜᵣ.wᵁ⁺)\n",
    "#         \"\"\")\n",
    "#     println()\n",
    "#     println(\"\"\"\n",
    "#         $(laTeXMatrix((i, j) -> \"\\\\varepsilon_$i^\\\\text{L}\", (n, 1))) = $(resultₛₜᵣ.εᴸ), ~~\n",
    "#         $(laTeXMatrix((i, j) -> \"\\\\varepsilon_$i^\\\\text{U}\", (n, 1))) = $(resultₛₜᵣ.εᵁ)\n",
    "#         \"\"\")\n",
    "#     println()\n",
    "#     Â = updatePCM_m1(A, result)\n",
    "#     println(\"A = $(twofoldIntervalMatrixLaTeXString(A))\")\n",
    "#     println()\n",
    "#     println(\"\\\\hat{A} = $(twofoldIntervalMatrixLaTeXString(Â))\")\n",
    "#     println()\n",
    "# end\n",
    "\n",
    "function displayAll(\n",
    "        A₁::Matrix{Interval{T}},\n",
    "        A₂::Matrix{Interval{T}}) where {T <: Real}\n",
    "    Â₁ = method1(A₁, A₂)\n",
    "    Â₂ = method2(A₁, A₂)\n",
    "    Â₃ = method3(A₁, A₂)\n",
    "    Â₄ = method4(A₁, A₂)\n",
    "\n",
    "    println(\"\\\\hat{A}_1 = $(twofoldIntervalMatrixLaTeXString(Â₁))\")\n",
    "    println()\n",
    "    println(\"\\\\hat{A}_2 = $(twofoldIntervalMatrixLaTeXString(Â₂))\")\n",
    "    println()\n",
    "    println(\"\\\\hat{A}_3 = $(twofoldIntervalMatrixLaTeXString(Â₃))\")\n",
    "    println()\n",
    "    println(\"\\\\hat{A}_4 = $(twofoldIntervalMatrixLaTeXString(Â₄))\")\n",
    "    println()\n",
    "end"
   ]
  },
  {
   "cell_type": "markdown",
   "id": "e0934d78",
   "metadata": {},
   "source": [
    "整合している同じ行列 2 つ"
   ]
  },
  {
   "cell_type": "code",
   "execution_count": 30,
   "id": "7a539df8",
   "metadata": {},
   "outputs": [
    {
     "name": "stdout",
     "output_type": "stream",
     "text": [
      "A_1 = A_2 = \\begin{bmatrix} \\left[ 1.0, 1.0 \\right] & \\left[ 1.0, 2.0 \\right] & \\left[ 0.667, 1.333 \\right] & \\left[ 1.0, 1.333 \\right] \\\\ \\left[ 0.5, 1.0 \\right] & \\left[ 1.0, 1.0 \\right] & \\left[ 0.444, 1.0 \\right] & \\left[ 0.667, 1.0 \\right] \\\\ \\left[ 0.75, 1.5 \\right] & \\left[ 1.0, 2.25 \\right] & \\left[ 1.0, 1.0 \\right] & \\left[ 1.0, 1.5 \\right] \\\\ \\left[ 0.75, 1.0 \\right] & \\left[ 1.0, 1.5 \\right] & \\left[ 0.667, 1.0 \\right] & \\left[ 1.0, 1.0 \\right] \\end{bmatrix}\n",
      "\n",
      "\\hat{A}_1 = \\begin{bmatrix} \\left[   1.0, \\left[   1.0,   1.0 \\right],   1.0 \\right] & \\left[   1.0, \\left[   1.0,   2.0 \\right],   2.0 \\right] & \\left[ 0.667, \\left[ 0.667, 1.333 \\right], 1.333 \\right] & \\left[   1.0, \\left[   1.0, 1.333 \\right], 1.333 \\right] \\\\ \\left[   0.5, \\left[   0.5,   1.0 \\right],   1.0 \\right] & \\left[   1.0, \\left[   1.0,   1.0 \\right],   1.0 \\right] & \\left[ 0.444, \\left[ 0.444,   1.0 \\right],   1.0 \\right] & \\left[ 0.667, \\left[ 0.667,   1.0 \\right],   1.0 \\right] \\\\ \\left[  0.75, \\left[  0.75,   1.5 \\right],   1.5 \\right] & \\left[   1.0, \\left[   1.0,  2.25 \\right],  2.25 \\right] & \\left[   1.0, \\left[   1.0,   1.0 \\right],   1.0 \\right] & \\left[   1.0, \\left[   1.0,   1.5 \\right],   1.5 \\right] \\\\ \\left[  0.75, \\left[  0.75,   1.0 \\right],   1.0 \\right] & \\left[   1.0, \\left[   1.0,   1.5 \\right],   1.5 \\right] & \\left[ 0.667, \\left[ 0.667,   1.0 \\right],   1.0 \\right] & \\left[   1.0, \\left[   1.0,   1.0 \\right],   1.0 \\right] \\end{bmatrix}\n",
      "\n",
      "\\hat{A}_2 = \\begin{bmatrix} \\left[   1.0, \\left[   1.0,   1.0 \\right],   1.0 \\right] & \\left[   1.0, \\left[   1.0,   2.0 \\right],   2.0 \\right] & \\left[ 0.667, \\left[ 0.667, 1.333 \\right], 1.333 \\right] & \\left[   1.0, \\left[   1.0, 1.333 \\right], 1.333 \\right] \\\\ \\left[   0.5, \\left[   0.5,   1.0 \\right],   1.0 \\right] & \\left[   1.0, \\left[   1.0,   1.0 \\right],   1.0 \\right] & \\left[ 0.444, \\left[ 0.444,   1.0 \\right],   1.0 \\right] & \\left[ 0.667, \\left[ 0.667,   1.0 \\right],   1.0 \\right] \\\\ \\left[  0.75, \\left[  0.75,   1.5 \\right],   1.5 \\right] & \\left[   1.0, \\left[   1.0,  2.25 \\right],  2.25 \\right] & \\left[   1.0, \\left[   1.0,   1.0 \\right],   1.0 \\right] & \\left[   1.0, \\left[   1.0,   1.5 \\right],   1.5 \\right] \\\\ \\left[  0.75, \\left[  0.75,   1.0 \\right],   1.0 \\right] & \\left[   1.0, \\left[   1.0,   1.5 \\right],   1.5 \\right] & \\left[ 0.667, \\left[ 0.667,   1.0 \\right],   1.0 \\right] & \\left[   1.0, \\left[   1.0,   1.0 \\right],   1.0 \\right] \\end{bmatrix}\n",
      "\n",
      "\\hat{A}_3 = \\begin{bmatrix} \\left[   1.0, \\left[   1.0,   1.0 \\right],   1.0 \\right] & \\left[   1.0, \\left[   1.0,   2.0 \\right],   2.0 \\right] & \\left[ 0.667, \\left[ 0.667, 1.333 \\right], 1.333 \\right] & \\left[   1.0, \\left[   1.0, 1.333 \\right], 1.333 \\right] \\\\ \\left[   0.5, \\left[   0.5,   1.0 \\right],   1.0 \\right] & \\left[   1.0, \\left[   1.0,   1.0 \\right],   1.0 \\right] & \\left[ 0.444, \\left[ 0.444,   1.0 \\right],   1.0 \\right] & \\left[ 0.667, \\left[ 0.667,   1.0 \\right],   1.0 \\right] \\\\ \\left[  0.75, \\left[  0.75,   1.5 \\right],   1.5 \\right] & \\left[   1.0, \\left[   1.0,  2.25 \\right],  2.25 \\right] & \\left[   1.0, \\left[   1.0,   1.0 \\right],   1.0 \\right] & \\left[   1.0, \\left[   1.0,   1.5 \\right],   1.5 \\right] \\\\ \\left[  0.75, \\left[  0.75,   1.0 \\right],   1.0 \\right] & \\left[   1.0, \\left[   1.0,   1.5 \\right],   1.5 \\right] & \\left[ 0.667, \\left[ 0.667,   1.0 \\right],   1.0 \\right] & \\left[   1.0, \\left[   1.0,   1.0 \\right],   1.0 \\right] \\end{bmatrix}\n",
      "\n",
      "\\hat{A}_4 = \\begin{bmatrix} \\left[   1.0, \\left[   1.0,   1.0 \\right],   1.0 \\right] & \\left[   1.0, \\left[   1.0,   2.0 \\right],   2.0 \\right] & \\left[ 0.667, \\left[ 0.667, 1.333 \\right], 1.333 \\right] & \\left[   1.0, \\left[   1.0, 1.333 \\right], 1.333 \\right] \\\\ \\left[   0.5, \\left[   0.5,   1.0 \\right],   1.0 \\right] & \\left[   1.0, \\left[   1.0,   1.0 \\right],   1.0 \\right] & \\left[ 0.444, \\left[ 0.444,   1.0 \\right],   1.0 \\right] & \\left[ 0.667, \\left[ 0.667,   1.0 \\right],   1.0 \\right] \\\\ \\left[  0.75, \\left[  0.75,   1.5 \\right],   1.5 \\right] & \\left[   1.0, \\left[   1.0,  2.25 \\right],  2.25 \\right] & \\left[   1.0, \\left[   1.0,   1.0 \\right],   1.0 \\right] & \\left[   1.0, \\left[   1.0,   1.5 \\right],   1.5 \\right] \\\\ \\left[  0.75, \\left[  0.75,   1.0 \\right],   1.0 \\right] & \\left[   1.0, \\left[   1.0,   1.5 \\right],   1.5 \\right] & \\left[ 0.667, \\left[ 0.667,   1.0 \\right],   1.0 \\right] & \\left[   1.0, \\left[   1.0,   1.0 \\right],   1.0 \\right] \\end{bmatrix}\n",
      "\n"
     ]
    }
   ],
   "source": [
    "A₁ = [\n",
    "    1..1 1..2 (2/3)..(4/3) 1..(4/3)\n",
    "    (1/2)..1 1..1 (4/9)..1 (2/3)..1\n",
    "    (3/4)..(3/2) 1..(9/4) 1..1 1..(3/2)\n",
    "    (3/4)..1 1..(3/2) (2/3)..1 1..1\n",
    "]\n",
    "A₂ = A₁\n",
    "\n",
    "println(\"A_1 = A_2 = $(intervalMatrixLaTeXString(A₁))\")\n",
    "println()\n",
    "\n",
    "displayAll(A₁, A₂)"
   ]
  },
  {
   "cell_type": "markdown",
   "id": "f23c1019",
   "metadata": {},
   "source": [
    "ともに整合していて， $A_{1ij} \\subseteq A_{2ij}$"
   ]
  },
  {
   "cell_type": "code",
   "execution_count": 29,
   "id": "9af5bd92",
   "metadata": {},
   "outputs": [
    {
     "name": "stdout",
     "output_type": "stream",
     "text": [
      "A_1 = \\begin{bmatrix} \\left[ 1.0, 1.0 \\right] & \\left[ 1.0, 2.0 \\right] & \\left[ 0.667, 1.333 \\right] & \\left[ 1.0, 1.333 \\right] \\\\ \\left[ 0.5, 1.0 \\right] & \\left[ 1.0, 1.0 \\right] & \\left[ 0.444, 1.0 \\right] & \\left[ 0.667, 1.0 \\right] \\\\ \\left[ 0.75, 1.5 \\right] & \\left[ 1.0, 2.25 \\right] & \\left[ 1.0, 1.0 \\right] & \\left[ 1.0, 1.5 \\right] \\\\ \\left[ 0.75, 1.0 \\right] & \\left[ 1.0, 1.5 \\right] & \\left[ 0.667, 1.0 \\right] & \\left[ 1.0, 1.0 \\right] \\end{bmatrix}\n",
      "\n",
      "A_2 = \\begin{bmatrix} \\left[ 1.0, 1.0 \\right] & \\left[ 0.9, 2.222 \\right] & \\left[ 0.6, 1.481 \\right] & \\left[ 0.9, 1.481 \\right] \\\\ \\left[ 0.45, 1.111 \\right] & \\left[ 1.0, 1.0 \\right] & \\left[ 0.4, 1.111 \\right] & \\left[ 0.6, 1.111 \\right] \\\\ \\left[ 0.675, 1.667 \\right] & \\left[ 0.9, 2.5 \\right] & \\left[ 1.0, 1.0 \\right] & \\left[ 0.9, 1.667 \\right] \\\\ \\left[ 0.675, 1.111 \\right] & \\left[ 0.9, 1.667 \\right] & \\left[ 0.6, 1.111 \\right] & \\left[ 1.0, 1.0 \\right] \\end{bmatrix}\n",
      "\n",
      "\\hat{A}_1 = \\begin{bmatrix} \\left[   1.0, \\left[   1.0,   1.0 \\right],   1.0 \\right] & \\left[   0.9, \\left[   1.0,   2.0 \\right], 2.222 \\right] & \\left[   0.6, \\left[ 0.667, 1.333 \\right], 1.481 \\right] & \\left[   0.9, \\left[   1.0, 1.333 \\right], 1.481 \\right] \\\\ \\left[  0.45, \\left[   0.5,   1.0 \\right], 1.111 \\right] & \\left[   1.0, \\left[   1.0,   1.0 \\right],   1.0 \\right] & \\left[   0.4, \\left[ 0.444,   1.0 \\right], 1.111 \\right] & \\left[   0.6, \\left[ 0.667,   1.0 \\right], 1.111 \\right] \\\\ \\left[ 0.675, \\left[  0.75,   1.5 \\right], 1.667 \\right] & \\left[   0.9, \\left[   1.0,  2.25 \\right],   2.5 \\right] & \\left[   1.0, \\left[   1.0,   1.0 \\right],   1.0 \\right] & \\left[   0.9, \\left[   1.0,   1.5 \\right], 1.667 \\right] \\\\ \\left[ 0.675, \\left[  0.75,   1.0 \\right], 1.111 \\right] & \\left[   0.9, \\left[   1.0,   1.5 \\right], 1.667 \\right] & \\left[   0.6, \\left[ 0.667,   1.0 \\right], 1.111 \\right] & \\left[   1.0, \\left[   1.0,   1.0 \\right],   1.0 \\right] \\end{bmatrix}\n",
      "\n",
      "\\hat{A}_2 = \\begin{bmatrix} \\left[   1.0, \\left[   1.0,   1.0 \\right],   1.0 \\right] & \\left[   0.9, \\left[   1.0,   2.0 \\right], 2.222 \\right] & \\left[   0.6, \\left[ 0.667, 1.333 \\right], 1.481 \\right] & \\left[   0.9, \\left[   1.0, 1.333 \\right], 1.481 \\right] \\\\ \\left[  0.45, \\left[   0.5,   1.0 \\right], 1.111 \\right] & \\left[   1.0, \\left[   1.0,   1.0 \\right],   1.0 \\right] & \\left[   0.4, \\left[ 0.444,   1.0 \\right], 1.111 \\right] & \\left[   0.6, \\left[ 0.667,   1.0 \\right], 1.111 \\right] \\\\ \\left[ 0.675, \\left[  0.75,   1.5 \\right], 1.667 \\right] & \\left[   0.9, \\left[   1.0,  2.25 \\right],   2.5 \\right] & \\left[   1.0, \\left[   1.0,   1.0 \\right],   1.0 \\right] & \\left[   0.9, \\left[   1.0,   1.5 \\right], 1.667 \\right] \\\\ \\left[ 0.675, \\left[  0.75,   1.0 \\right], 1.111 \\right] & \\left[   0.9, \\left[   1.0,   1.5 \\right], 1.667 \\right] & \\left[   0.6, \\left[ 0.667,   1.0 \\right], 1.111 \\right] & \\left[   1.0, \\left[   1.0,   1.0 \\right],   1.0 \\right] \\end{bmatrix}\n",
      "\n",
      "\\hat{A}_3 = \\begin{bmatrix} \\left[   1.0, \\left[   1.0,   1.0 \\right],   1.0 \\right] & \\left[   0.9, \\left[   1.0,   2.0 \\right], 2.222 \\right] & \\left[   0.6, \\left[ 0.667, 1.333 \\right], 1.481 \\right] & \\left[   0.9, \\left[   1.0, 1.333 \\right], 1.481 \\right] \\\\ \\left[  0.45, \\left[   0.5,   1.0 \\right], 1.111 \\right] & \\left[   1.0, \\left[   1.0,   1.0 \\right],   1.0 \\right] & \\left[   0.4, \\left[ 0.444,   1.0 \\right], 1.111 \\right] & \\left[   0.6, \\left[ 0.667,   1.0 \\right], 1.111 \\right] \\\\ \\left[ 0.675, \\left[  0.75,   1.5 \\right], 1.667 \\right] & \\left[   0.9, \\left[   1.0,  2.25 \\right],   2.5 \\right] & \\left[   1.0, \\left[   1.0,   1.0 \\right],   1.0 \\right] & \\left[   0.9, \\left[   1.0,   1.5 \\right], 1.667 \\right] \\\\ \\left[ 0.675, \\left[  0.75,   1.0 \\right], 1.111 \\right] & \\left[   0.9, \\left[   1.0,   1.5 \\right], 1.667 \\right] & \\left[   0.6, \\left[ 0.667,   1.0 \\right], 1.111 \\right] & \\left[   1.0, \\left[   1.0,   1.0 \\right],   1.0 \\right] \\end{bmatrix}\n",
      "\n",
      "\\hat{A}_4 = \\begin{bmatrix} \\left[   1.0, \\left[   1.0,   1.0 \\right],   1.0 \\right] & \\left[   0.9, \\left[   1.0,   2.0 \\right], 2.222 \\right] & \\left[   0.6, \\left[ 0.667, 1.333 \\right], 1.481 \\right] & \\left[   0.9, \\left[   1.0, 1.333 \\right], 1.481 \\right] \\\\ \\left[  0.45, \\left[   0.5,   1.0 \\right], 1.111 \\right] & \\left[   1.0, \\left[   1.0,   1.0 \\right],   1.0 \\right] & \\left[   0.4, \\left[ 0.444,   1.0 \\right], 1.111 \\right] & \\left[   0.6, \\left[ 0.667,   1.0 \\right], 1.111 \\right] \\\\ \\left[ 0.675, \\left[  0.75,   1.5 \\right], 1.667 \\right] & \\left[   0.9, \\left[   1.0,  2.25 \\right],   2.5 \\right] & \\left[   1.0, \\left[   1.0,   1.0 \\right],   1.0 \\right] & \\left[   0.9, \\left[   1.0,   1.5 \\right], 1.667 \\right] \\\\ \\left[ 0.675, \\left[  0.75,   1.0 \\right], 1.111 \\right] & \\left[   0.9, \\left[   1.0,   1.5 \\right], 1.667 \\right] & \\left[   0.6, \\left[ 0.667,   1.0 \\right], 1.111 \\right] & \\left[   1.0, \\left[   1.0,   1.0 \\right],   1.0 \\right] \\end{bmatrix}\n",
      "\n"
     ]
    }
   ],
   "source": [
    "A₁ = [\n",
    "    1..1 1..2 (2/3)..(4/3) 1..(4/3)\n",
    "    (1/2)..1 1..1 (4/9)..1 (2/3)..1\n",
    "    (3/4)..(3/2) 1..(9/4) 1..1 1..(3/2)\n",
    "    (3/4)..1 1..(3/2) (2/3)..1 1..1\n",
    "]\n",
    "_, n = size(A₁)\n",
    "A₂ = fill(1..1, (n, n))\n",
    "for i = 1:n, j = 1:n\n",
    "    if i == j continue end\n",
    "    A₂[i,j] = (A₁[i,j].lo * 4 / 5)..(A₁[i,j].hi * 5 / 4)\n",
    "end\n",
    "\n",
    "println(\"A_1 = $(intervalMatrixLaTeXString(A₁))\")\n",
    "println()\n",
    "println(\"A_2 = $(intervalMatrixLaTeXString(A₂))\")\n",
    "println()\n",
    "\n",
    "displayAll(A₁, A₂)"
   ]
  },
  {
   "cell_type": "markdown",
   "id": "c5c807c9",
   "metadata": {},
   "source": [
    "<!-- ともに弱い整合性を持ち， $A_{1ij} \\subseteq A_{2ij}$\n",
    "\n",
    "```\n",
    "A₁ = [\n",
    "    1..1 2..5 2..4 2..3\n",
    "    (1/5)..(1/2) 1..1 (1/5)..4 (1/5)..3\n",
    "    (1/4)..(1/2) (1/4)..5 1..1 (1/4)..3\n",
    "    (1/3)..(1/2) (1/3)..5 (1/3)..4 1..1\n",
    "]\n",
    "A₂ = fill(1..1, size(A₁))\n",
    "_, n = size(A₁)\n",
    "for i = 1:n, j = 1:n\n",
    "    if i == j continue end\n",
    "    A₂[i,j] = (A₁[i,j].lo * 1/1.1)..(A₁[i,j].hi * 1.1)\n",
    "end\n",
    "\n",
    "display(L\"A_1 = %$(intervalMatrixLaTeXString(A₁))\")\n",
    "display(L\"A_2 = %$(intervalMatrixLaTeXString(A₂))\")\n",
    "\n",
    "display(isConsistentIntervalPCM(A₁))\n",
    "display(isWeaklyConsistentIntervalPCM(A₁))\n",
    "display(isConsistentIntervalPCM(A₂))\n",
    "display(isWeaklyConsistentIntervalPCM(A₂))\n",
    "\n",
    "plotAll(A₁, A₂)\n",
    "``` -->"
   ]
  },
  {
   "cell_type": "markdown",
   "id": "db9f7e4c",
   "metadata": {},
   "source": [
    "推移率が成り立つ通常の $4 \\times 4$ PCM に幅を与えて整合していない行列　2 つを作る\n",
    "\n",
    "$\\begin{bmatrix} 1/2 & 2 & 4 & 4 \\\\ 1/2 & 1 & 2 & 2 \\\\ 1/4 & 1/2 & 1 & 1 \\\\ 1/4 & 1/2 & 1 & 1 \\end{bmatrix}$ に自然対数スケールで $[0, 0.03]$ の一様分布に従う乱数の分だけ上下に幅をもたせている"
   ]
  },
  {
   "cell_type": "code",
   "execution_count": 11,
   "id": "6e1ba351",
   "metadata": {},
   "outputs": [
    {
     "name": "stdout",
     "output_type": "stream",
     "text": [
      "A_1 = \\begin{bmatrix} \\left[ 1.0, 1.0 \\right] & \\left[ 1.981, 2.033 \\right] & \\left[ 3.974, 4.109 \\right] & \\left[ 3.958, 4.048 \\right] \\\\ \\left[ 0.492, 0.505 \\right] & \\left[ 1.0, 1.0 \\right] & \\left[ 1.944, 2.048 \\right] & \\left[ 1.971, 2.045 \\right] \\\\ \\left[ 0.243, 0.252 \\right] & \\left[ 0.488, 0.515 \\right] & \\left[ 1.0, 1.0 \\right] & \\left[ 0.983, 1.022 \\right] \\\\ \\left[ 0.247, 0.253 \\right] & \\left[ 0.489, 0.507 \\right] & \\left[ 0.978, 1.017 \\right] & \\left[ 1.0, 1.0 \\right] \\end{bmatrix}\n",
      "\n",
      "A_2 = \\begin{bmatrix} \\left[ 1.0, 1.0 \\right] & \\left[ 1.998, 2.01 \\right] & \\left[ 3.974, 4.05 \\right] & \\left[ 3.962, 4.041 \\right] \\\\ \\left[ 0.497, 0.5 \\right] & \\left[ 1.0, 1.0 \\right] & \\left[ 1.945, 2.015 \\right] & \\left[ 1.942, 2.033 \\right] \\\\ \\left[ 0.247, 0.252 \\right] & \\left[ 0.496, 0.514 \\right] & \\left[ 1.0, 1.0 \\right] & \\left[ 0.972, 1.021 \\right] \\\\ \\left[ 0.247, 0.252 \\right] & \\left[ 0.492, 0.515 \\right] & \\left[ 0.979, 1.029 \\right] & \\left[ 1.0, 1.0 \\right] \\end{bmatrix}\n",
      "\n",
      "\\hat{A}_1 = \\begin{bmatrix} \\left[   1.0, \\left[   1.0,   1.0 \\right],   1.0 \\right] & \\left[ 1.981, \\left[ 1.998,  2.01 \\right], 2.043 \\right] & \\left[ 3.955, \\left[ 3.974,  4.05 \\right], 4.109 \\right] & \\left[ 3.958, \\left[ 3.962, 4.041 \\right], 4.058 \\right] \\\\ \\left[  0.49, \\left[ 0.497,   0.5 \\right], 0.505 \\right] & \\left[   1.0, \\left[   1.0,   1.0 \\right],   1.0 \\right] & \\left[ 1.944, \\left[ 1.954, 2.015 \\right], 2.048 \\right] & \\left[ 1.938, \\left[ 1.971, 2.033 \\right], 2.045 \\right] \\\\ \\left[ 0.243, \\left[ 0.247, 0.252 \\right], 0.253 \\right] & \\left[ 0.488, \\left[ 0.496, 0.512 \\right], 0.515 \\right] & \\left[   1.0, \\left[   1.0,   1.0 \\right],   1.0 \\right] & \\left[ 0.972, \\left[ 0.983, 1.019 \\right], 1.023 \\right] \\\\ \\left[ 0.246, \\left[ 0.247, 0.252 \\right], 0.253 \\right] & \\left[ 0.489, \\left[ 0.492, 0.507 \\right], 0.516 \\right] & \\left[ 0.977, \\left[ 0.982, 1.017 \\right], 1.029 \\right] & \\left[   1.0, \\left[   1.0,   1.0 \\right],   1.0 \\right] \\end{bmatrix}\n",
      "\n",
      "\\hat{A}_2 = \\begin{bmatrix} \\left[   1.0, \\left[   1.0,   1.0 \\right],   1.0 \\right] & \\left[ 1.977, \\left[   2.0,  2.01 \\right], 2.033 \\right] & \\left[ 3.948, \\left[ 3.974, 4.031 \\right], 4.109 \\right] & \\left[ 3.944, \\left[ 3.962, 4.041 \\right], 4.048 \\right] \\\\ \\left[ 0.492, \\left[ 0.497,   0.5 \\right], 0.506 \\right] & \\left[   1.0, \\left[   1.0,   1.0 \\right],   1.0 \\right] & \\left[ 1.944, \\left[ 1.977, 2.015 \\right], 2.076 \\right] & \\left[ 1.942, \\left[ 1.971,  2.02 \\right], 2.045 \\right] \\\\ \\left[ 0.243, \\left[ 0.248, 0.252 \\right], 0.253 \\right] & \\left[ 0.482, \\left[ 0.496, 0.506 \\right], 0.515 \\right] & \\left[   1.0, \\left[   1.0,   1.0 \\right],   1.0 \\right] & \\left[ 0.961, \\left[ 0.983, 1.017 \\right], 1.024 \\right] \\\\ \\left[ 0.247, \\left[ 0.247, 0.252 \\right], 0.254 \\right] & \\left[ 0.489, \\left[ 0.495, 0.507 \\right], 0.515 \\right] & \\left[ 0.976, \\left[ 0.983, 1.017 \\right], 1.041 \\right] & \\left[   1.0, \\left[   1.0,   1.0 \\right],   1.0 \\right] \\end{bmatrix}\n",
      "\n",
      "\\hat{A}_3 = \\begin{bmatrix} \\left[   1.0, \\left[   1.0,   1.0 \\right],   1.0 \\right] & \\left[ 1.981, \\left[ 1.998, 2.021 \\right], 2.033 \\right] & \\left[ 3.948, \\left[ 3.974, 4.057 \\right], 4.071 \\right] & \\left[ 3.962, \\left[ 3.962, 4.055 \\right],  4.07 \\right] \\\\ \\left[ 0.492, \\left[ 0.495,   0.5 \\right], 0.505 \\right] & \\left[   1.0, \\left[   1.0,   1.0 \\right],   1.0 \\right] & \\left[ 1.949, \\left[ 1.967,  2.03 \\right], 2.048 \\right] & \\left[ 1.956, \\left[ 1.961,  2.03 \\right], 2.048 \\right] \\\\ \\left[ 0.246, \\left[ 0.247, 0.252 \\right], 0.253 \\right] & \\left[ 0.488, \\left[ 0.493, 0.509 \\right], 0.513 \\right] & \\left[   1.0, \\left[   1.0,   1.0 \\right],   1.0 \\right] & \\left[ 0.977, \\left[ 0.978,  1.02 \\right], 1.027 \\right] \\\\ \\left[ 0.246, \\left[ 0.247, 0.252 \\right], 0.252 \\right] & \\left[ 0.488, \\left[ 0.493,  0.51 \\right], 0.511 \\right] & \\left[ 0.973, \\left[  0.98, 1.022 \\right], 1.024 \\right] & \\left[   1.0, \\left[   1.0,   1.0 \\right],   1.0 \\right] \\end{bmatrix}\n",
      "\n",
      "\\hat{A}_4 = \\begin{bmatrix} \\left[   1.0, \\left[   1.0,   1.0 \\right],   1.0 \\right] & \\left[ 1.981, \\emptyset, 2.036 \\right] & \\left[ 3.931, \\emptyset, 4.109 \\right] & \\left[ 3.924, \\emptyset, 4.066 \\right] \\\\ \\left[ 0.491, \\emptyset, 0.505 \\right] & \\left[   1.0, \\left[   1.0,   1.0 \\right],   1.0 \\right] & \\left[ 1.944, \\emptyset, 2.067 \\right] & \\left[ 1.942, \\emptyset, 2.045 \\right] \\\\ \\left[ 0.243, \\emptyset, 0.254 \\right] & \\left[ 0.484, \\emptyset, 0.515 \\right] & \\left[   1.0, \\left[   1.0,   1.0 \\right],   1.0 \\right] & \\left[ 0.967, \\emptyset, 1.033 \\right] \\\\ \\left[ 0.246, \\emptyset, 0.255 \\right] & \\left[ 0.489, \\emptyset, 0.515 \\right] & \\left[ 0.968, \\emptyset, 1.034 \\right] & \\left[   1.0, \\left[   1.0,   1.0 \\right],   1.0 \\right] \\end{bmatrix}\n",
      "\n"
     ]
    }
   ],
   "source": [
    "A = [\n",
    "    1 2 4 4\n",
    "    1/2 1 2 2\n",
    "    1/4 1/2 1 1\n",
    "    1/4 1/2 1 1\n",
    "]\n",
    "\n",
    "A₁ = randamizedIntervalPCM(A, 1234, 3e-2)\n",
    "A₂ = randamizedIntervalPCM(A, 134, 3e-2)\n",
    "\n",
    "println(\"A_1 = $(intervalMatrixLaTeXString(A₁))\")\n",
    "println()\n",
    "println(\"A_2 = $(intervalMatrixLaTeXString(A₂))\")\n",
    "println()\n",
    "\n",
    "displayAll(A₁, A₂)"
   ]
  },
  {
   "cell_type": "markdown",
   "id": "4411cc16",
   "metadata": {},
   "source": [
    "推移率が成り立つ通常の $4 \\times 4$ PCM に幅を与えて整合していない行列 2 つを作る\n",
    "\n",
    "$\\begin{bmatrix} 1/2 & 2 & 4 & 4 \\\\ 1/2 & 1 & 2 & 2 \\\\ 1/4 & 1/2 & 1 & 1 \\\\ 1/4 & 1/2 & 1 & 1 \\end{bmatrix}$ に自然対数スケールで $[0, 0.3]$ の一様分布に従う乱数の分だけ上下に幅をもたせている"
   ]
  },
  {
   "cell_type": "code",
   "execution_count": 12,
   "id": "789d049c",
   "metadata": {},
   "outputs": [
    {
     "name": "stdout",
     "output_type": "stream",
     "text": [
      "A_1 = \\begin{bmatrix} \\left[ 1.0, 1.0 \\right] & \\left[ 1.564, 2.231 \\right] & \\left[ 3.102, 4.959 \\right] & \\left[ 3.625, 4.692 \\right] \\\\ \\left[ 0.448, 0.639 \\right] & \\left[ 1.0, 1.0 \\right] & \\left[ 1.523, 2.056 \\right] & \\left[ 1.901, 2.608 \\right] \\\\ \\left[ 0.202, 0.322 \\right] & \\left[ 0.486, 0.657 \\right] & \\left[ 1.0, 1.0 \\right] & \\left[ 0.975, 1.144 \\right] \\\\ \\left[ 0.213, 0.276 \\right] & \\left[ 0.383, 0.526 \\right] & \\left[ 0.874, 1.026 \\right] & \\left[ 1.0, 1.0 \\right] \\end{bmatrix}\n",
      "\n",
      "A_2 = \\begin{bmatrix} \\left[ 1.0, 1.0 \\right] & \\left[ 1.814, 2.358 \\right] & \\left[ 3.746, 5.231 \\right] & \\left[ 3.598, 4.502 \\right] \\\\ \\left[ 0.424, 0.551 \\right] & \\left[ 1.0, 1.0 \\right] & \\left[ 1.503, 2.539 \\right] & \\left[ 1.724, 2.503 \\right] \\\\ \\left[ 0.191, 0.267 \\right] & \\left[ 0.394, 0.666 \\right] & \\left[ 1.0, 1.0 \\right] & \\left[ 0.841, 1.244 \\right] \\\\ \\left[ 0.222, 0.278 \\right] & \\left[ 0.399, 0.58 \\right] & \\left[ 0.804, 1.189 \\right] & \\left[ 1.0, 1.0 \\right] \\end{bmatrix}\n",
      "\n"
     ]
    },
    {
     "name": "stdout",
     "output_type": "stream",
     "text": [
      "\\hat{A}_1 = \\begin{bmatrix} \\left[   1.0, \\left[   1.0,   1.0 \\right],   1.0 \\right] & \\left[ 1.564, \\left[ 1.814, 2.231 \\right], 2.358 \\right] & \\left[ 3.102, \\left[ 3.746, 4.758 \\right], 5.231 \\right] & \\left[ 3.598, \\left[ 3.625, 4.467 \\right], 4.692 \\right] \\\\ \\left[ 0.424, \\left[ 0.448, 0.551 \\right], 0.639 \\right] & \\left[   1.0, \\left[   1.0,   1.0 \\right],   1.0 \\right] & \\left[ 1.503, \\left[ 1.599, 2.056 \\right], 2.646 \\right] & \\left[ 1.724, \\left[ 1.901, 2.384 \\right], 2.608 \\right] \\\\ \\left[ 0.191, \\left[  0.21, 0.267 \\right], 0.322 \\right] & \\left[ 0.378, \\left[ 0.486, 0.625 \\right], 0.666 \\right] & \\left[   1.0, \\left[   1.0,   1.0 \\right],   1.0 \\right] & \\left[ 0.841, \\left[ 0.975, 1.144 \\right], 1.307 \\right] \\\\ \\left[ 0.213, \\left[ 0.224, 0.276 \\right], 0.278 \\right] & \\left[ 0.383, \\left[  0.42, 0.526 \\right],  0.58 \\right] & \\left[ 0.765, \\left[ 0.874, 1.026 \\right], 1.189 \\right] & \\left[   1.0, \\left[   1.0,   1.0 \\right],   1.0 \\right] \\end{bmatrix}\n",
      "\n",
      "\\hat{A}_2 = \\begin{bmatrix} \\left[   1.0, \\left[   1.0,   1.0 \\right],   1.0 \\right] & \\left[ 1.564, \\left[ 1.822, 2.231 \\right], 2.358 \\right] & \\left[ 3.102, \\left[ 3.746, 4.045 \\right], 5.231 \\right] & \\left[ 3.598, \\left[ 3.927, 4.502 \\right], 4.692 \\right] \\\\ \\left[ 0.424, \\left[ 0.448, 0.549 \\right], 0.639 \\right] & \\left[   1.0, \\left[   1.0,   1.0 \\right],   1.0 \\right] & \\left[ 1.487, \\left[ 1.813, 2.056 \\right], 2.958 \\right] & \\left[ 1.724, \\left[ 1.901, 2.289 \\right], 2.654 \\right] \\\\ \\left[ 0.191, \\left[ 0.247, 0.267 \\right], 0.322 \\right] & \\left[ 0.338, \\left[ 0.486, 0.552 \\right], 0.673 \\right] & \\left[   1.0, \\left[   1.0,   1.0 \\right],   1.0 \\right] & \\left[ 0.777, \\left[ 1.048, 1.113 \\right], 1.338 \\right] \\\\ \\left[ 0.213, \\left[ 0.222, 0.255 \\right], 0.278 \\right] & \\left[ 0.377, \\left[ 0.437, 0.526 \\right],  0.58 \\right] & \\left[ 0.747, \\left[ 0.898, 0.954 \\right], 1.286 \\right] & \\left[   1.0, \\left[   1.0,   1.0 \\right],   1.0 \\right] \\end{bmatrix}\n",
      "\n",
      "\\hat{A}_3 = \\begin{bmatrix} \\left[   1.0, \\left[   1.0,   1.0 \\right],   1.0 \\right] & \\left[ 1.665, \\left[ 1.795, 2.231 \\right], 2.358 \\right] & \\left[ 3.257, \\left[ 3.626, 4.776 \\right], 4.959 \\right] & \\left[ 3.599, \\left[ 3.879, 4.502 \\right], 4.692 \\right] \\\\ \\left[ 0.424, \\left[ 0.448, 0.557 \\right], 0.601 \\right] & \\left[   1.0, \\left[   1.0,   1.0 \\right],   1.0 \\right] & \\left[ 1.544, \\left[ 1.632, 2.539 \\right], 2.665 \\right] & \\left[ 1.706, \\left[ 1.803, 2.419 \\right], 2.521 \\right] \\\\ \\left[ 0.202, \\left[ 0.209, 0.276 \\right], 0.307 \\right] & \\left[ 0.375, \\left[ 0.394, 0.613 \\right], 0.648 \\right] & \\left[   1.0, \\left[   1.0,   1.0 \\right],   1.0 \\right] & \\left[ 0.811, \\left[ 0.851, 1.226 \\right], 1.237 \\right] \\\\ \\left[ 0.213, \\left[ 0.222, 0.258 \\right], 0.278 \\right] & \\left[ 0.397, \\left[ 0.413, 0.555 \\right], 0.586 \\right] & \\left[ 0.809, \\left[ 0.816, 1.175 \\right], 1.233 \\right] & \\left[   1.0, \\left[   1.0,   1.0 \\right],   1.0 \\right] \\end{bmatrix}\n",
      "\n",
      "\\hat{A}_4 = \\begin{bmatrix} \\left[   1.0, \\left[   1.0,   1.0 \\right],   1.0 \\right] & \\left[ 1.564, \\emptyset, 2.423 \\right] & \\left[ 3.061, \\emptyset, 5.231 \\right] & \\left[ 3.598, \\emptyset, 4.709 \\right] \\\\ \\left[ 0.413, \\emptyset, 0.639 \\right] & \\left[   1.0, \\left[   1.0,   1.0 \\right],   1.0 \\right] & \\left[ 1.503, \\emptyset, 2.857 \\right] & \\left[  1.54, \\emptyset, 2.703 \\right] \\\\ \\left[ 0.191, \\emptyset, 0.327 \\right] & \\left[  0.35, \\emptyset, 0.666 \\right] & \\left[   1.0, \\left[   1.0,   1.0 \\right],   1.0 \\right] & \\left[ 0.713, \\emptyset, 1.381 \\right] \\\\ \\left[ 0.212, \\emptyset, 0.278 \\right] & \\left[  0.37, \\emptyset, 0.649 \\right] & \\left[ 0.724, \\emptyset, 1.402 \\right] & \\left[   1.0, \\left[   1.0,   1.0 \\right],   1.0 \\right] \\end{bmatrix}\n",
      "\n"
     ]
    }
   ],
   "source": [
    "A = [\n",
    "    1 2 4 4\n",
    "    1/2 1 2 2\n",
    "    1/4 1/2 1 1\n",
    "    1/4 1/2 1 1\n",
    "]\n",
    "\n",
    "A₁ = randamizedIntervalPCM(A, 14, 3e-1)\n",
    "A₂ = randamizedIntervalPCM(A, 1234, 3e-1)\n",
    "\n",
    "println(\"A_1 = $(intervalMatrixLaTeXString(A₁))\")\n",
    "println()\n",
    "println(\"A_2 = $(intervalMatrixLaTeXString(A₂))\")\n",
    "println()\n",
    "\n",
    "displayAll(A₁, A₂)"
   ]
  },
  {
   "attachments": {},
   "cell_type": "markdown",
   "id": "75d55a58",
   "metadata": {},
   "source": [
    "完全整合はしていない PCM にランダムに幅をもたせる"
   ]
  },
  {
   "cell_type": "code",
   "execution_count": 13,
   "id": "ae5fc820",
   "metadata": {},
   "outputs": [
    {
     "data": {
      "text/plain": [
       "0.015252586019426436"
      ]
     },
     "metadata": {},
     "output_type": "display_data"
    }
   ],
   "source": [
    "using LinearAlgebra\n",
    "\n",
    "A = [\n",
    "    1 2 3 10\n",
    "    1/2 1 3 8\n",
    "    1/3 1/3 1 3\n",
    "    1/10 1/8 1/3 1\n",
    "]\n",
    "\n",
    "_, n = size(A)\n",
    "\n",
    "λ = maximum(real.(filter(e -> imag(e) == 0,eigvals(A))))\n",
    "(λ - n) / (n - 1)"
   ]
  },
  {
   "cell_type": "code",
   "execution_count": 14,
   "id": "efb08e9f",
   "metadata": {},
   "outputs": [
    {
     "name": "stdout",
     "output_type": "stream",
     "text": [
      "A_1 = \\begin{bmatrix} \\left[ 1.0, 1.0 \\right] & \\left[ 1.477, 2.432 \\right] & \\left[ 2.334, 3.893 \\right] & \\left[ 8.353, 12.974 \\right] \\\\ \\left[ 0.411, 0.677 \\right] & \\left[ 1.0, 1.0 \\right] & \\left[ 2.216, 3.049 \\right] & \\left[ 6.654, 8.351 \\right] \\\\ \\left[ 0.257, 0.428 \\right] & \\left[ 0.328, 0.451 \\right] & \\left[ 1.0, 1.0 \\right] & \\left[ 2.263, 3.309 \\right] \\\\ \\left[ 0.077, 0.12 \\right] & \\left[ 0.12, 0.15 \\right] & \\left[ 0.302, 0.442 \\right] & \\left[ 1.0, 1.0 \\right] \\end{bmatrix}\n",
      "\n",
      "A_2 = \\begin{bmatrix} \\left[ 1.0, 1.0 \\right] & \\left[ 1.483, 2.772 \\right] & \\left[ 2.367, 3.578 \\right] & \\left[ 8.663, 11.158 \\right] \\\\ \\left[ 0.361, 0.674 \\right] & \\left[ 1.0, 1.0 \\right] & \\left[ 2.786, 3.835 \\right] & \\left[ 6.615, 10.334 \\right] \\\\ \\left[ 0.279, 0.422 \\right] & \\left[ 0.261, 0.359 \\right] & \\left[ 1.0, 1.0 \\right] & \\left[ 2.648, 4.048 \\right] \\\\ \\left[ 0.09, 0.115 \\right] & \\left[ 0.097, 0.151 \\right] & \\left[ 0.247, 0.378 \\right] & \\left[ 1.0, 1.0 \\right] \\end{bmatrix}\n",
      "\n",
      "\\hat{A}_1 = \\begin{bmatrix} \\left[   1.0, \\left[   1.0,   1.0 \\right],   1.0 \\right] & \\left[ 1.073, \\emptyset, 2.772 \\right] & \\left[ 2.334, \\emptyset, 5.358 \\right] & \\left[ 8.353, \\emptyset, 14.677 \\right] \\\\ \\left[ 0.361, \\emptyset, 0.932 \\right] & \\left[   1.0, \\left[   1.0,   1.0 \\right],   1.0 \\right] & \\left[ 1.158, \\emptyset, 3.835 \\right] & \\left[ 4.237, \\emptyset, 10.334 \\right] \\\\ \\left[ 0.187, \\emptyset, 0.428 \\right] & \\left[ 0.261, \\emptyset, 0.864 \\right] & \\left[   1.0, \\left[   1.0,   1.0 \\right],   1.0 \\right] & \\left[ 1.924, \\emptyset, 5.212 \\right] \\\\ \\left[ 0.068, \\emptyset,  0.12 \\right] & \\left[ 0.097, \\emptyset, 0.236 \\right] & \\left[ 0.192, \\emptyset,  0.52 \\right] & \\left[   1.0, \\left[   1.0,   1.0 \\right],   1.0 \\right] \\end{bmatrix}\n",
      "\n",
      "\\hat{A}_2 = \\begin{bmatrix} \\left[   1.0, \\left[   1.0,   1.0 \\right],   1.0 \\right] & \\left[ 1.477, \\left[ 1.483, 1.483 \\right], 2.772 \\right] & \\left[ 2.334, \\left[ 3.578, 3.578 \\right], 6.841 \\right] & \\left[ 8.353, \\left[ 9.868, 9.868 \\right], 18.434 \\right] \\\\ \\left[ 0.361, \\left[ 0.674, 0.674 \\right], 0.677 \\right] & \\left[   1.0, \\left[   1.0,   1.0 \\right],   1.0 \\right] & \\left[ 1.016, \\left[ 2.413, 2.413 \\right], 3.835 \\right] & \\left[ 3.638, \\left[ 6.654, 6.654 \\right], 10.334 \\right] \\\\ \\left[ 0.146, \\left[ 0.279, 0.279 \\right], 0.428 \\right] & \\left[ 0.261, \\left[ 0.414, 0.414 \\right], 0.984 \\right] & \\left[   1.0, \\left[   1.0,   1.0 \\right],   1.0 \\right] & \\left[ 1.474, \\left[ 2.758, 2.758 \\right], 6.541 \\right] \\\\ \\left[ 0.054, \\left[ 0.101, 0.101 \\right],  0.12 \\right] & \\left[ 0.097, \\left[  0.15,  0.15 \\right], 0.275 \\right] & \\left[ 0.153, \\left[ 0.363, 0.363 \\right], 0.678 \\right] & \\left[   1.0, \\left[   1.0,   1.0 \\right],   1.0 \\right] \\end{bmatrix}\n",
      "\n",
      "\\hat{A}_3 = \\begin{bmatrix} \\left[   1.0, \\left[   1.0,   1.0 \\right],   1.0 \\right] & \\left[ 1.477, \\left[ 1.568, 1.773 \\right],  2.41 \\right] & \\left[ 2.341, \\left[ 3.837, 3.929 \\right], 4.762 \\right] & \\left[ 10.994, \\left[ 11.667, 12.922 \\right], 13.003 \\right] \\\\ \\left[ 0.415, \\left[ 0.564, 0.638 \\right], 0.677 \\right] & \\left[   1.0, \\left[   1.0,   1.0 \\right],   1.0 \\right] & \\left[ 1.417, \\left[ 1.615, 2.478 \\right], 3.003 \\right] & \\left[ 4.851, \\left[ 6.654, 8.202 \\right], 8.227 \\right] \\\\ \\left[  0.21, \\left[ 0.255, 0.261 \\right], 0.427 \\right] & \\left[ 0.333, \\left[ 0.404, 0.619 \\right], 0.706 \\right] & \\left[   1.0, \\left[   1.0,   1.0 \\right],   1.0 \\right] & \\left[ 2.478, \\left[ 3.003,  3.32 \\right], 5.175 \\right] \\\\ \\left[ 0.077, \\left[ 0.077, 0.086 \\right], 0.091 \\right] & \\left[ 0.122, \\left[ 0.122,  0.15 \\right], 0.206 \\right] & \\left[ 0.193, \\left[ 0.301, 0.333 \\right], 0.404 \\right] & \\left[   1.0, \\left[   1.0,   1.0 \\right],   1.0 \\right] \\end{bmatrix}\n",
      "\n",
      "\\hat{A}_4 = \\begin{bmatrix} \\left[   1.0, \\left[   1.0,   1.0 \\right],   1.0 \\right] & \\left[ 1.451, \\emptyset, 2.772 \\right] & \\left[ 2.334, \\emptyset, 5.757 \\right] & \\left[ 8.353, \\emptyset, 15.515 \\right] \\\\ \\left[ 0.361, \\emptyset, 0.689 \\right] & \\left[   1.0, \\left[   1.0,   1.0 \\right],   1.0 \\right] & \\left[ 0.864, \\emptyset, 3.835 \\right] & \\left[ 3.163, \\emptyset, 10.334 \\right] \\\\ \\left[ 0.174, \\emptyset, 0.428 \\right] & \\left[ 0.261, \\emptyset, 1.157 \\right] & \\left[   1.0, \\left[   1.0,   1.0 \\right],   1.0 \\right] & \\left[ 1.523, \\emptyset, 6.475 \\right] \\\\ \\left[ 0.064, \\emptyset,  0.12 \\right] & \\left[ 0.097, \\emptyset, 0.316 \\right] & \\left[ 0.154, \\emptyset, 0.656 \\right] & \\left[   1.0, \\left[   1.0,   1.0 \\right],   1.0 \\right] \\end{bmatrix}\n",
      "\n"
     ]
    }
   ],
   "source": [
    "A = [\n",
    "    1 2 3 10\n",
    "    1/2 1 3 8\n",
    "    1/3 1/3 1 3\n",
    "    1/10 1/8 1/3 1\n",
    "]\n",
    "\n",
    "A₁ = randamizedIntervalPCM(A, 124, 3.5e-1)\n",
    "A₂ = randamizedIntervalPCM(A, 4, 3.5e-1)\n",
    "\n",
    "println(\"A_1 = $(intervalMatrixLaTeXString(A₁))\")\n",
    "println()\n",
    "println(\"A_2 = $(intervalMatrixLaTeXString(A₂))\")\n",
    "println()\n",
    "\n",
    "displayAll(A₁, A₂)"
   ]
  },
  {
   "cell_type": "code",
   "execution_count": 15,
   "id": "28f7c269-9bb7-41fc-966d-f6a2f02aa66f",
   "metadata": {},
   "outputs": [],
   "source": []
  }
 ],
 "metadata": {
  "kernelspec": {
   "display_name": "Julia 1.8.5",
   "language": "julia",
   "name": "julia-1.8"
  },
  "language_info": {
   "file_extension": ".jl",
   "mimetype": "application/julia",
   "name": "julia",
   "version": "1.8.5"
  },
  "vscode": {
   "interpreter": {
    "hash": "d4d1e4263499bec80672ea0156c357c1ee493ec2b1c70f0acce89fc37c4a6abe"
   }
  }
 },
 "nbformat": 4,
 "nbformat_minor": 5
}
