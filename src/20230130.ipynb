{
 "cells": [
  {
   "cell_type": "code",
   "execution_count": 14,
   "id": "a661200b-0885-4ad6-9e50-f9b552f74857",
   "metadata": {},
   "outputs": [],
   "source": [
    "using IntervalArithmetic\n",
    "using LaTeXStrings\n",
    "using Plots"
   ]
  },
  {
   "cell_type": "code",
   "execution_count": 15,
   "id": "6ae45f35-7c99-45c9-a934-88166cfef5fb",
   "metadata": {},
   "outputs": [],
   "source": [
    "include(\"./heatmap/index.jl\")\n",
    "include(\"./method1/index.jl\")\n",
    "include(\"./method2/index.jl\")\n",
    "include(\"./method3/index.jl\")\n",
    "include(\"./method4/index.jl\")\n",
    "include(\"./intervalPCM/index.jl\")\n",
    "include(\"./twofoldInterval/index.jl\")\n",
    "include(\"./twofoldIntervalPCM/index.jl\")\n",
    "\n",
    "print()"
   ]
  },
  {
   "cell_type": "code",
   "execution_count": 16,
   "id": "98b3f285",
   "metadata": {},
   "outputs": [
    {
     "data": {
      "text/plain": [
       "method1 (generic function with 1 method)"
      ]
     },
     "metadata": {},
     "output_type": "display_data"
    }
   ],
   "source": [
    "function method1(A₁::Matrix{Interval{T}}, A₂::Matrix{Interval{T}}) where {T <: Real}\n",
    "    A = intervalPCM2TwofoldIntervalPCM(A₁, A₂)\n",
    "    result = solveLP_m1(A)\n",
    "    Â = updatePCM_m1(A, result)\n",
    "    return Â\n",
    "end"
   ]
  },
  {
   "cell_type": "code",
   "execution_count": 17,
   "id": "05761e6b",
   "metadata": {},
   "outputs": [
    {
     "data": {
      "text/plain": [
       "method2 (generic function with 1 method)"
      ]
     },
     "metadata": {},
     "output_type": "display_data"
    }
   ],
   "source": [
    "function  method2(A₁::Matrix{Interval{T}}, A₂::Matrix{Interval{T}}) where {T <: Real}\n",
    "    εᶿ = solveIndividualCancellingLP_m2([A₁, A₂])\n",
    "    result = solveApproximationLP_m2([A₁, A₂], εᶿ)\n",
    "    A = importance2TwofoldIntervalPCM_m2(result)\n",
    "    return A\n",
    "end"
   ]
  },
  {
   "cell_type": "code",
   "execution_count": 18,
   "id": "66f28ba5",
   "metadata": {},
   "outputs": [
    {
     "data": {
      "text/plain": [
       "method3 (generic function with 1 method)"
      ]
     },
     "metadata": {},
     "output_type": "display_data"
    }
   ],
   "source": [
    "function method3(A₁::Matrix{Interval{T}}, A₂::Matrix{Interval{T}}) where {T <: Real}\n",
    "    approximationResults = solveApproximationLP_m3.([A₁, A₂])\n",
    "    tBoundaries = calculateTBoundaries_m3.(approximationResults)\n",
    "    result = solveConcatLP_m3(approximationResults, tBoundaries)\n",
    "    Â = generatePCM_m3(result)\n",
    "    return Â\n",
    "end"
   ]
  },
  {
   "cell_type": "code",
   "execution_count": 19,
   "id": "4b3a5e9d",
   "metadata": {},
   "outputs": [
    {
     "data": {
      "text/plain": [
       "method4 (generic function with 1 method)"
      ]
     },
     "metadata": {},
     "output_type": "display_data"
    }
   ],
   "source": [
    "function method4(A₁::Matrix{Interval{T}}, A₂::Matrix{Interval{T}}) where {T <: Real}\n",
    "    results = solveApproximationLP_m4.([A₁, A₂])\n",
    "    A = generateTwofoldIntervalMatrix_m4(results)\n",
    "    result = solveCancellingLP_m4(A)\n",
    "    Â = updatePCM_m4(A, result)\n",
    "    return Â\n",
    "end"
   ]
  },
  {
   "cell_type": "code",
   "execution_count": 20,
   "id": "0f662105",
   "metadata": {},
   "outputs": [
    {
     "data": {
      "text/plain": [
       "displayAll (generic function with 1 method)"
      ]
     },
     "metadata": {},
     "output_type": "display_data"
    }
   ],
   "source": [
    "function displayAll(\n",
    "        A₁::Matrix{Interval{T}},\n",
    "        A₂::Matrix{Interval{T}}) where {T <: Real}\n",
    "    Â₁ = method1(A₁, A₂)\n",
    "    Â₂ = method2(A₁, A₂)\n",
    "    Â₃ = method3(A₁, A₂)\n",
    "    Â₄ = method4(A₁, A₂)\n",
    "\n",
    "    println(\"\\\\mathscr{A}^1 = $(twofoldIntervalMatrixLaTeXString(Â₁))\"); println()\n",
    "    println(\"\\\\mathscr{A}^2 = $(twofoldIntervalMatrixLaTeXString(Â₂))\"); println()\n",
    "    println(\"\\\\mathscr{A}^3 = $(twofoldIntervalMatrixLaTeXString(Â₃))\"); println()\n",
    "    println(\"\\\\mathscr{A}^4 = $(twofoldIntervalMatrixLaTeXString(Â₄))\"); println()\n",
    "end"
   ]
  },
  {
   "attachments": {},
   "cell_type": "markdown",
   "id": "e0934d78",
   "metadata": {},
   "source": [
    "# example 1"
   ]
  },
  {
   "cell_type": "code",
   "execution_count": 26,
   "id": "7a539df8",
   "metadata": {},
   "outputs": [
    {
     "name": "stdout",
     "output_type": "stream",
     "text": [
      "A_1 = A_2 = \\begin{bmatrix} \\left[ 1.0, 1.0 \\right] & \\left[ 1.0, 2.0 \\right] & \\left[ 0.667, 1.333 \\right] & \\left[ 1.0, 1.333 \\right] \\\\ \\left[ 0.5, 1.0 \\right] & \\left[ 1.0, 1.0 \\right] & \\left[ 0.444, 1.0 \\right] & \\left[ 0.667, 1.0 \\right] \\\\ \\left[ 0.75, 1.5 \\right] & \\left[ 1.0, 2.25 \\right] & \\left[ 1.0, 1.0 \\right] & \\left[ 1.0, 1.5 \\right] \\\\ \\left[ 0.75, 1.0 \\right] & \\left[ 1.0, 1.5 \\right] & \\left[ 0.667, 1.0 \\right] & \\left[ 1.0, 1.0 \\right] \\end{bmatrix}\n",
      "\n",
      "\\mathscr{A}^1 = \\begin{bmatrix} \\left[ 1.0, \\left[ 1.0, 1.0 \\right], 1.0 \\right] & \\left[ 1.0, \\left[ 1.0, 2.0 \\right], 2.0 \\right] & \\left[ 0.67, \\left[ 0.67, 1.33 \\right], 1.33 \\right] & \\left[ 1.0, \\left[ 1.0, 1.33 \\right], 1.33 \\right] \\\\ \\left[ 0.5, \\left[ 0.5, 1.0 \\right], 1.0 \\right] & \\left[ 1.0, \\left[ 1.0, 1.0 \\right], 1.0 \\right] & \\left[ 0.44, \\left[ 0.44, 1.0 \\right], 1.0 \\right] & \\left[ 0.67, \\left[ 0.67, 1.0 \\right], 1.0 \\right] \\\\ \\left[ 0.75, \\left[ 0.75, 1.5 \\right], 1.5 \\right] & \\left[ 1.0, \\left[ 1.0, 2.25 \\right], 2.25 \\right] & \\left[ 1.0, \\left[ 1.0, 1.0 \\right], 1.0 \\right] & \\left[ 1.0, \\left[ 1.0, 1.5 \\right], 1.5 \\right] \\\\ \\left[ 0.75, \\left[ 0.75, 1.0 \\right], 1.0 \\right] & \\left[ 1.0, \\left[ 1.0, 1.5 \\right], 1.5 \\right] & \\left[ 0.67, \\left[ 0.67, 1.0 \\right], 1.0 \\right] & \\left[ 1.0, \\left[ 1.0, 1.0 \\right], 1.0 \\right] \\end{bmatrix}\n",
      "\n",
      "\\mathscr{A}^2 = \\begin{bmatrix} \\left[ 1.0, \\left[ 1.0, 1.0 \\right], 1.0 \\right] & \\left[ 1.0, \\left[ 1.0, 2.0 \\right], 2.0 \\right] & \\left[ 0.67, \\left[ 0.67, 1.33 \\right], 1.33 \\right] & \\left[ 1.0, \\left[ 1.0, 1.33 \\right], 1.33 \\right] \\\\ \\left[ 0.5, \\left[ 0.5, 1.0 \\right], 1.0 \\right] & \\left[ 1.0, \\left[ 1.0, 1.0 \\right], 1.0 \\right] & \\left[ 0.44, \\left[ 0.44, 1.0 \\right], 1.0 \\right] & \\left[ 0.67, \\left[ 0.67, 1.0 \\right], 1.0 \\right] \\\\ \\left[ 0.75, \\left[ 0.75, 1.5 \\right], 1.5 \\right] & \\left[ 1.0, \\left[ 1.0, 2.25 \\right], 2.25 \\right] & \\left[ 1.0, \\left[ 1.0, 1.0 \\right], 1.0 \\right] & \\left[ 1.0, \\left[ 1.0, 1.5 \\right], 1.5 \\right] \\\\ \\left[ 0.75, \\left[ 0.75, 1.0 \\right], 1.0 \\right] & \\left[ 1.0, \\left[ 1.0, 1.5 \\right], 1.5 \\right] & \\left[ 0.67, \\left[ 0.67, 1.0 \\right], 1.0 \\right] & \\left[ 1.0, \\left[ 1.0, 1.0 \\right], 1.0 \\right] \\end{bmatrix}\n",
      "\n",
      "\\mathscr{A}^3 = \\begin{bmatrix} \\left[ 1.0, \\left[ 1.0, 1.0 \\right], 1.0 \\right] & \\left[ 1.0, \\left[ 1.0, 2.0 \\right], 2.0 \\right] & \\left[ 0.67, \\left[ 0.67, 1.33 \\right], 1.33 \\right] & \\left[ 1.0, \\left[ 1.0, 1.33 \\right], 1.33 \\right] \\\\ \\left[ 0.5, \\left[ 0.5, 1.0 \\right], 1.0 \\right] & \\left[ 1.0, \\left[ 1.0, 1.0 \\right], 1.0 \\right] & \\left[ 0.44, \\left[ 0.44, 1.0 \\right], 1.0 \\right] & \\left[ 0.67, \\left[ 0.67, 1.0 \\right], 1.0 \\right] \\\\ \\left[ 0.75, \\left[ 0.75, 1.5 \\right], 1.5 \\right] & \\left[ 1.0, \\left[ 1.0, 2.25 \\right], 2.25 \\right] & \\left[ 1.0, \\left[ 1.0, 1.0 \\right], 1.0 \\right] & \\left[ 1.0, \\left[ 1.0, 1.5 \\right], 1.5 \\right] \\\\ \\left[ 0.75, \\left[ 0.75, 1.0 \\right], 1.0 \\right] & \\left[ 1.0, \\left[ 1.0, 1.5 \\right], 1.5 \\right] & \\left[ 0.67, \\left[ 0.67, 1.0 \\right], 1.0 \\right] & \\left[ 1.0, \\left[ 1.0, 1.0 \\right], 1.0 \\right] \\end{bmatrix}\n",
      "\n",
      "\\mathscr{A}^4 = \\begin{bmatrix} \\left[ 1.0, \\left[ 1.0, 1.0 \\right], 1.0 \\right] & \\left[ 1.0, \\left[ 1.0, 2.0 \\right], 2.0 \\right] & \\left[ 0.67, \\left[ 0.67, 1.33 \\right], 1.33 \\right] & \\left[ 1.0, \\left[ 1.0, 1.33 \\right], 1.33 \\right] \\\\ \\left[ 0.5, \\left[ 0.5, 1.0 \\right], 1.0 \\right] & \\left[ 1.0, \\left[ 1.0, 1.0 \\right], 1.0 \\right] & \\left[ 0.44, \\left[ 0.44, 1.0 \\right], 1.0 \\right] & \\left[ 0.67, \\left[ 0.67, 1.0 \\right], 1.0 \\right] \\\\ \\left[ 0.75, \\left[ 0.75, 1.5 \\right], 1.5 \\right] & \\left[ 1.0, \\left[ 1.0, 2.25 \\right], 2.25 \\right] & \\left[ 1.0, \\left[ 1.0, 1.0 \\right], 1.0 \\right] & \\left[ 1.0, \\left[ 1.0, 1.5 \\right], 1.5 \\right] \\\\ \\left[ 0.75, \\left[ 0.75, 1.0 \\right], 1.0 \\right] & \\left[ 1.0, \\left[ 1.0, 1.5 \\right], 1.5 \\right] & \\left[ 0.67, \\left[ 0.67, 1.0 \\right], 1.0 \\right] & \\left[ 1.0, \\left[ 1.0, 1.0 \\right], 1.0 \\right] \\end{bmatrix}\n",
      "\n"
     ]
    }
   ],
   "source": [
    "A₁ = [\n",
    "    1..1 1..2 (2/3)..(4/3) 1..(4/3)\n",
    "    (1/2)..1 1..1 (4/9)..1 (2/3)..1\n",
    "    (3/4)..(3/2) 1..(9/4) 1..1 1..(3/2)\n",
    "    (3/4)..1 1..(3/2) (2/3)..1 1..1\n",
    "]\n",
    "A₂ = A₁\n",
    "\n",
    "println(\"A_1 = A_2 = $(intervalMatrixLaTeXString(A₁))\")\n",
    "println()\n",
    "\n",
    "displayAll(A₁, A₂)"
   ]
  },
  {
   "attachments": {},
   "cell_type": "markdown",
   "id": "f23c1019",
   "metadata": {},
   "source": [
    "# example 2"
   ]
  },
  {
   "cell_type": "code",
   "execution_count": 22,
   "id": "9af5bd92",
   "metadata": {},
   "outputs": [
    {
     "name": "stdout",
     "output_type": "stream",
     "text": [
      "A_1 = \\begin{bmatrix} \\left[ 1.0, 1.0 \\right] & \\left[ 1.0, 2.0 \\right] & \\left[ 0.667, 1.333 \\right] & \\left[ 1.0, 1.333 \\right] \\\\ \\left[ 0.5, 1.0 \\right] & \\left[ 1.0, 1.0 \\right] & \\left[ 0.444, 1.0 \\right] & \\left[ 0.667, 1.0 \\right] \\\\ \\left[ 0.75, 1.5 \\right] & \\left[ 1.0, 2.25 \\right] & \\left[ 1.0, 1.0 \\right] & \\left[ 1.0, 1.5 \\right] \\\\ \\left[ 0.75, 1.0 \\right] & \\left[ 1.0, 1.5 \\right] & \\left[ 0.667, 1.0 \\right] & \\left[ 1.0, 1.0 \\right] \\end{bmatrix}\n",
      "\n",
      "A_2 = \\begin{bmatrix} \\left[ 1.0, 1.0 \\right] & \\left[ 0.8, 2.5 \\right] & \\left[ 0.533, 1.667 \\right] & \\left[ 0.8, 1.667 \\right] \\\\ \\left[ 0.4, 1.25 \\right] & \\left[ 1.0, 1.0 \\right] & \\left[ 0.356, 1.25 \\right] & \\left[ 0.533, 1.25 \\right] \\\\ \\left[ 0.6, 1.875 \\right] & \\left[ 0.8, 2.812 \\right] & \\left[ 1.0, 1.0 \\right] & \\left[ 0.8, 1.875 \\right] \\\\ \\left[ 0.6, 1.25 \\right] & \\left[ 0.8, 1.875 \\right] & \\left[ 0.533, 1.25 \\right] & \\left[ 1.0, 1.0 \\right] \\end{bmatrix}\n",
      "\n",
      "\\mathscr{A}^1 = \\begin{bmatrix} \\left[ 1.0, \\left[ 1.0, 1.0 \\right], 1.0 \\right] & \\left[ 0.8, \\left[ 1.0, 2.0 \\right], 2.5 \\right] & \\left[ 0.53, \\left[ 0.67, 1.33 \\right], 1.67 \\right] & \\left[ 0.8, \\left[ 1.0, 1.33 \\right], 1.67 \\right] \\\\ \\left[ 0.4, \\left[ 0.5, 1.0 \\right], 1.25 \\right] & \\left[ 1.0, \\left[ 1.0, 1.0 \\right], 1.0 \\right] & \\left[ 0.36, \\left[ 0.44, 1.0 \\right], 1.25 \\right] & \\left[ 0.53, \\left[ 0.67, 1.0 \\right], 1.25 \\right] \\\\ \\left[ 0.6, \\left[ 0.75, 1.5 \\right], 1.88 \\right] & \\left[ 0.8, \\left[ 1.0, 2.25 \\right], 2.81 \\right] & \\left[ 1.0, \\left[ 1.0, 1.0 \\right], 1.0 \\right] & \\left[ 0.8, \\left[ 1.0, 1.5 \\right], 1.88 \\right] \\\\ \\left[ 0.6, \\left[ 0.75, 1.0 \\right], 1.25 \\right] & \\left[ 0.8, \\left[ 1.0, 1.5 \\right], 1.88 \\right] & \\left[ 0.53, \\left[ 0.67, 1.0 \\right], 1.25 \\right] & \\left[ 1.0, \\left[ 1.0, 1.0 \\right], 1.0 \\right] \\end{bmatrix}\n",
      "\n",
      "\\mathscr{A}^2 = \\begin{bmatrix} \\left[ 1.0, \\left[ 1.0, 1.0 \\right], 1.0 \\right] & \\left[ 0.8, \\left[ 1.0, 2.0 \\right], 2.5 \\right] & \\left[ 0.53, \\left[ 0.67, 1.33 \\right], 1.67 \\right] & \\left[ 0.8, \\left[ 1.0, 1.33 \\right], 1.67 \\right] \\\\ \\left[ 0.4, \\left[ 0.5, 1.0 \\right], 1.25 \\right] & \\left[ 1.0, \\left[ 1.0, 1.0 \\right], 1.0 \\right] & \\left[ 0.36, \\left[ 0.44, 1.0 \\right], 1.25 \\right] & \\left[ 0.53, \\left[ 0.67, 1.0 \\right], 1.25 \\right] \\\\ \\left[ 0.6, \\left[ 0.75, 1.5 \\right], 1.88 \\right] & \\left[ 0.8, \\left[ 1.0, 2.25 \\right], 2.81 \\right] & \\left[ 1.0, \\left[ 1.0, 1.0 \\right], 1.0 \\right] & \\left[ 0.8, \\left[ 1.0, 1.5 \\right], 1.88 \\right] \\\\ \\left[ 0.6, \\left[ 0.75, 1.0 \\right], 1.25 \\right] & \\left[ 0.8, \\left[ 1.0, 1.5 \\right], 1.88 \\right] & \\left[ 0.53, \\left[ 0.67, 1.0 \\right], 1.25 \\right] & \\left[ 1.0, \\left[ 1.0, 1.0 \\right], 1.0 \\right] \\end{bmatrix}\n",
      "\n",
      "\\mathscr{A}^3 = \\begin{bmatrix} \\left[ 1.0, \\left[ 1.0, 1.0 \\right], 1.0 \\right] & \\left[ 0.8, \\left[ 0.99, 2.0 \\right], 2.5 \\right] & \\left[ 0.53, \\left[ 0.67, 1.33 \\right], 1.67 \\right] & \\left[ 0.8, \\left[ 0.99, 1.33 \\right], 1.67 \\right] \\\\ \\left[ 0.4, \\left[ 0.5, 1.01 \\right], 1.25 \\right] & \\left[ 1.0, \\left[ 1.0, 1.0 \\right], 1.0 \\right] & \\left[ 0.36, \\left[ 0.44, 1.0 \\right], 1.25 \\right] & \\left[ 0.53, \\left[ 0.67, 1.0 \\right], 1.25 \\right] \\\\ \\left[ 0.6, \\left[ 0.75, 1.5 \\right], 1.88 \\right] & \\left[ 0.8, \\left[ 1.0, 2.25 \\right], 2.79 \\right] & \\left[ 1.0, \\left[ 1.0, 1.0 \\right], 1.0 \\right] & \\left[ 0.8, \\left[ 1.0, 1.5 \\right], 1.86 \\right] \\\\ \\left[ 0.6, \\left[ 0.75, 1.01 \\right], 1.25 \\right] & \\left[ 0.8, \\left[ 1.0, 1.5 \\right], 1.87 \\right] & \\left[ 0.54, \\left[ 0.67, 1.0 \\right], 1.25 \\right] & \\left[ 1.0, \\left[ 1.0, 1.0 \\right], 1.0 \\right] \\end{bmatrix}\n",
      "\n",
      "\\mathscr{A}^4 = \\begin{bmatrix} \\left[ 1.0, \\left[ 1.0, 1.0 \\right], 1.0 \\right] & \\left[ 0.8, \\left[ 1.0, 2.0 \\right], 2.5 \\right] & \\left[ 0.53, \\left[ 0.67, 1.33 \\right], 1.67 \\right] & \\left[ 0.8, \\left[ 1.0, 1.33 \\right], 1.67 \\right] \\\\ \\left[ 0.4, \\left[ 0.5, 1.0 \\right], 1.25 \\right] & \\left[ 1.0, \\left[ 1.0, 1.0 \\right], 1.0 \\right] & \\left[ 0.36, \\left[ 0.44, 1.0 \\right], 1.25 \\right] & \\left[ 0.53, \\left[ 0.67, 1.0 \\right], 1.25 \\right] \\\\ \\left[ 0.6, \\left[ 0.75, 1.5 \\right], 1.88 \\right] & \\left[ 0.8, \\left[ 1.0, 2.25 \\right], 2.81 \\right] & \\left[ 1.0, \\left[ 1.0, 1.0 \\right], 1.0 \\right] & \\left[ 0.8, \\left[ 1.0, 1.5 \\right], 1.88 \\right] \\\\ \\left[ 0.6, \\left[ 0.75, 1.0 \\right], 1.25 \\right] & \\left[ 0.8, \\left[ 1.0, 1.5 \\right], 1.87 \\right] & \\left[ 0.53, \\left[ 0.67, 1.0 \\right], 1.25 \\right] & \\left[ 1.0, \\left[ 1.0, 1.0 \\right], 1.0 \\right] \\end{bmatrix}\n",
      "\n"
     ]
    }
   ],
   "source": [
    "A₁ = [\n",
    "    1..1 1..2 (2/3)..(4/3) 1..(4/3)\n",
    "    (1/2)..1 1..1 (4/9)..1 (2/3)..1\n",
    "    (3/4)..(3/2) 1..(9/4) 1..1 1..(3/2)\n",
    "    (3/4)..1 1..(3/2) (2/3)..1 1..1\n",
    "]\n",
    "_, n = size(A₁)\n",
    "A₂ = fill(1..1, (n, n))\n",
    "for i = 1:n, j = 1:n\n",
    "    if i == j continue end\n",
    "    A₂[i,j] = (A₁[i,j].lo * 4/5)..(A₁[i,j].hi * 5/4)\n",
    "end\n",
    "\n",
    "println(\"A_1 = $(intervalMatrixLaTeXString(A₁))\")\n",
    "println()\n",
    "println(\"A_2 = $(intervalMatrixLaTeXString(A₂))\")\n",
    "println()\n",
    "\n",
    "displayAll(A₁, A₂)"
   ]
  },
  {
   "cell_type": "markdown",
   "id": "c5c807c9",
   "metadata": {},
   "source": [
    "<!-- ともに弱い整合性を持ち， $A_{1ij} \\subseteq A_{2ij}$\n",
    "\n",
    "```\n",
    "A₁ = [\n",
    "    1..1 2..5 2..4 2..3\n",
    "    (1/5)..(1/2) 1..1 (1/5)..4 (1/5)..3\n",
    "    (1/4)..(1/2) (1/4)..5 1..1 (1/4)..3\n",
    "    (1/3)..(1/2) (1/3)..5 (1/3)..4 1..1\n",
    "]\n",
    "A₂ = fill(1..1, size(A₁))\n",
    "_, n = size(A₁)\n",
    "for i = 1:n, j = 1:n\n",
    "    if i == j continue end\n",
    "    A₂[i,j] = (A₁[i,j].lo * 1/1.1)..(A₁[i,j].hi * 1.1)\n",
    "end\n",
    "\n",
    "display(L\"A_1 = %$(intervalMatrixLaTeXString(A₁))\")\n",
    "display(L\"A_2 = %$(intervalMatrixLaTeXString(A₂))\")\n",
    "\n",
    "display(isConsistentIntervalPCM(A₁))\n",
    "display(isWeaklyConsistentIntervalPCM(A₁))\n",
    "display(isConsistentIntervalPCM(A₂))\n",
    "display(isWeaklyConsistentIntervalPCM(A₂))\n",
    "\n",
    "plotAll(A₁, A₂)\n",
    "``` -->"
   ]
  },
  {
   "attachments": {},
   "cell_type": "markdown",
   "id": "db9f7e4c",
   "metadata": {},
   "source": [
    "# example 3"
   ]
  },
  {
   "cell_type": "code",
   "execution_count": 23,
   "id": "6e1ba351",
   "metadata": {},
   "outputs": [
    {
     "name": "stdout",
     "output_type": "stream",
     "text": [
      "A_1 = \\begin{bmatrix} \\left[ 1.0, 1.0 \\right] & \\left[ 1.981, 2.033 \\right] & \\left[ 3.974, 4.109 \\right] & \\left[ 3.958, 4.048 \\right] \\\\ \\left[ 0.492, 0.505 \\right] & \\left[ 1.0, 1.0 \\right] & \\left[ 1.944, 2.048 \\right] & \\left[ 1.971, 2.045 \\right] \\\\ \\left[ 0.243, 0.252 \\right] & \\left[ 0.488, 0.515 \\right] & \\left[ 1.0, 1.0 \\right] & \\left[ 0.983, 1.022 \\right] \\\\ \\left[ 0.247, 0.253 \\right] & \\left[ 0.489, 0.507 \\right] & \\left[ 0.978, 1.017 \\right] & \\left[ 1.0, 1.0 \\right] \\end{bmatrix}\n",
      "\n",
      "A_2 = \\begin{bmatrix} \\left[ 1.0, 1.0 \\right] & \\left[ 1.998, 2.01 \\right] & \\left[ 3.974, 4.05 \\right] & \\left[ 3.962, 4.041 \\right] \\\\ \\left[ 0.497, 0.5 \\right] & \\left[ 1.0, 1.0 \\right] & \\left[ 1.945, 2.015 \\right] & \\left[ 1.942, 2.033 \\right] \\\\ \\left[ 0.247, 0.252 \\right] & \\left[ 0.496, 0.514 \\right] & \\left[ 1.0, 1.0 \\right] & \\left[ 0.972, 1.021 \\right] \\\\ \\left[ 0.247, 0.252 \\right] & \\left[ 0.492, 0.515 \\right] & \\left[ 0.979, 1.029 \\right] & \\left[ 1.0, 1.0 \\right] \\end{bmatrix}\n",
      "\n",
      "\\mathscr{A}^1 = \\begin{bmatrix} \\left[ 1.0, \\left[ 1.0, 1.0 \\right], 1.0 \\right] & \\left[ 1.98, \\left[ 2.0, 2.01 \\right], 2.04 \\right] & \\left[ 3.96, \\left[ 3.97, 4.05 \\right], 4.11 \\right] & \\left[ 3.96, \\left[ 3.96, 4.04 \\right], 4.06 \\right] \\\\ \\left[ 0.49, \\left[ 0.5, 0.5 \\right], 0.5 \\right] & \\left[ 1.0, \\left[ 1.0, 1.0 \\right], 1.0 \\right] & \\left[ 1.94, \\left[ 1.95, 2.02 \\right], 2.05 \\right] & \\left[ 1.94, \\left[ 1.97, 2.03 \\right], 2.05 \\right] \\\\ \\left[ 0.24, \\left[ 0.25, 0.25 \\right], 0.25 \\right] & \\left[ 0.49, \\left[ 0.5, 0.51 \\right], 0.51 \\right] & \\left[ 1.0, \\left[ 1.0, 1.0 \\right], 1.0 \\right] & \\left[ 0.97, \\left[ 0.98, 1.02 \\right], 1.02 \\right] \\\\ \\left[ 0.25, \\left[ 0.25, 0.25 \\right], 0.25 \\right] & \\left[ 0.49, \\left[ 0.49, 0.51 \\right], 0.52 \\right] & \\left[ 0.98, \\left[ 0.98, 1.02 \\right], 1.03 \\right] & \\left[ 1.0, \\left[ 1.0, 1.0 \\right], 1.0 \\right] \\end{bmatrix}\n",
      "\n",
      "\\mathscr{A}^2 = \\begin{bmatrix} \\left[ 1.0, \\left[ 1.0, 1.0 \\right], 1.0 \\right] & \\left[ 1.98, \\left[ 2.0, 2.01 \\right], 2.03 \\right] & \\left[ 3.95, \\left[ 3.97, 4.03 \\right], 4.11 \\right] & \\left[ 3.94, \\left[ 3.96, 4.04 \\right], 4.05 \\right] \\\\ \\left[ 0.49, \\left[ 0.5, 0.5 \\right], 0.51 \\right] & \\left[ 1.0, \\left[ 1.0, 1.0 \\right], 1.0 \\right] & \\left[ 1.94, \\left[ 1.98, 2.02 \\right], 2.08 \\right] & \\left[ 1.94, \\left[ 1.97, 2.02 \\right], 2.05 \\right] \\\\ \\left[ 0.24, \\left[ 0.25, 0.25 \\right], 0.25 \\right] & \\left[ 0.48, \\left[ 0.5, 0.51 \\right], 0.51 \\right] & \\left[ 1.0, \\left[ 1.0, 1.0 \\right], 1.0 \\right] & \\left[ 0.96, \\left[ 0.98, 1.02 \\right], 1.02 \\right] \\\\ \\left[ 0.25, \\left[ 0.25, 0.25 \\right], 0.25 \\right] & \\left[ 0.49, \\left[ 0.49, 0.51 \\right], 0.52 \\right] & \\left[ 0.98, \\left[ 0.98, 1.02 \\right], 1.04 \\right] & \\left[ 1.0, \\left[ 1.0, 1.0 \\right], 1.0 \\right] \\end{bmatrix}\n",
      "\n",
      "\\mathscr{A}^3 = \\begin{bmatrix} \\left[ 1.0, \\left[ 1.0, 1.0 \\right], 1.0 \\right] & \\left[ 1.98, \\left[ 2.0, 2.02 \\right], 2.03 \\right] & \\left[ 3.95, \\left[ 3.97, 4.06 \\right], 4.07 \\right] & \\left[ 3.96, \\left[ 3.96, 4.06 \\right], 4.07 \\right] \\\\ \\left[ 0.49, \\left[ 0.49, 0.5 \\right], 0.5 \\right] & \\left[ 1.0, \\left[ 1.0, 1.0 \\right], 1.0 \\right] & \\left[ 1.95, \\left[ 1.97, 2.03 \\right], 2.05 \\right] & \\left[ 1.96, \\left[ 1.96, 2.03 \\right], 2.05 \\right] \\\\ \\left[ 0.25, \\left[ 0.25, 0.25 \\right], 0.25 \\right] & \\left[ 0.49, \\left[ 0.49, 0.51 \\right], 0.51 \\right] & \\left[ 1.0, \\left[ 1.0, 1.0 \\right], 1.0 \\right] & \\left[ 0.98, \\left[ 0.98, 1.02 \\right], 1.03 \\right] \\\\ \\left[ 0.25, \\left[ 0.25, 0.25 \\right], 0.25 \\right] & \\left[ 0.49, \\left[ 0.49, 0.51 \\right], 0.51 \\right] & \\left[ 0.97, \\left[ 0.98, 1.02 \\right], 1.02 \\right] & \\left[ 1.0, \\left[ 1.0, 1.0 \\right], 1.0 \\right] \\end{bmatrix}\n",
      "\n",
      "\\mathscr{A}^4 = \\begin{bmatrix} \\left[ 1.0, \\left[ 1.0, 1.0 \\right], 1.0 \\right] & \\left[ 1.98, \\left[ 2.0, 2.02 \\right], 2.03 \\right] & \\left[ 3.94, \\left[ 3.97, 4.05 \\right], 4.07 \\right] & \\left[ 3.96, \\left[ 3.96, 4.05 \\right], 4.06 \\right] \\\\ \\left[ 0.49, \\left[ 0.49, 0.5 \\right], 0.5 \\right] & \\left[ 1.0, \\left[ 1.0, 1.0 \\right], 1.0 \\right] & \\left[ 1.95, \\left[ 1.96, 2.03 \\right], 2.05 \\right] & \\left[ 1.95, \\left[ 1.97, 2.03 \\right], 2.04 \\right] \\\\ \\left[ 0.25, \\left[ 0.25, 0.25 \\right], 0.25 \\right] & \\left[ 0.49, \\left[ 0.49, 0.51 \\right], 0.51 \\right] & \\left[ 1.0, \\left[ 1.0, 1.0 \\right], 1.0 \\right] & \\left[ 0.97, \\left[ 0.98, 1.02 \\right], 1.03 \\right] \\\\ \\left[ 0.25, \\left[ 0.25, 0.25 \\right], 0.25 \\right] & \\left[ 0.49, \\left[ 0.49, 0.51 \\right], 0.51 \\right] & \\left[ 0.97, \\left[ 0.98, 1.02 \\right], 1.03 \\right] & \\left[ 1.0, \\left[ 1.0, 1.0 \\right], 1.0 \\right] \\end{bmatrix}\n",
      "\n"
     ]
    }
   ],
   "source": [
    "A = [\n",
    "    1 2 4 4\n",
    "    1/2 1 2 2\n",
    "    1/4 1/2 1 1\n",
    "    1/4 1/2 1 1\n",
    "]\n",
    "\n",
    "A₁ = randamizedIntervalPCM(A, 1234, 3e-2)\n",
    "A₂ = randamizedIntervalPCM(A, 134, 3e-2)\n",
    "\n",
    "println(\"A_1 = $(intervalMatrixLaTeXString(A₁))\")\n",
    "println()\n",
    "println(\"A_2 = $(intervalMatrixLaTeXString(A₂))\")\n",
    "println()\n",
    "\n",
    "displayAll(A₁, A₂)"
   ]
  },
  {
   "attachments": {},
   "cell_type": "markdown",
   "id": "4411cc16",
   "metadata": {},
   "source": [
    "# example 4"
   ]
  },
  {
   "cell_type": "code",
   "execution_count": 24,
   "id": "789d049c",
   "metadata": {},
   "outputs": [
    {
     "name": "stdout",
     "output_type": "stream",
     "text": [
      "A_1 = \\begin{bmatrix} \\left[ 1.0, 1.0 \\right] & \\left[ 1.415, 2.501 \\right] & \\left[ 2.252, 4.04 \\right] & \\left[ 8.141, 13.465 \\right] \\\\ \\left[ 0.4, 0.707 \\right] & \\left[ 1.0, 1.0 \\right] & \\left[ 2.122, 3.056 \\right] & \\left[ 6.481, 8.402 \\right] \\\\ \\left[ 0.248, 0.444 \\right] & \\left[ 0.327, 0.471 \\right] & \\left[ 1.0, 1.0 \\right] & \\left[ 2.174, 3.356 \\right] \\\\ \\left[ 0.074, 0.123 \\right] & \\left[ 0.119, 0.154 \\right] & \\left[ 0.298, 0.46 \\right] & \\left[ 1.0, 1.0 \\right] \\end{bmatrix}\n",
      "\n",
      "A_2 = \\begin{bmatrix} \\left[ 1.0, 1.0 \\right] & \\left[ 1.547, 2.232 \\right] & \\left[ 2.233, 3.723 \\right] & \\left[ 8.746, 12.652 \\right] \\\\ \\left[ 0.448, 0.646 \\right] & \\left[ 1.0, 1.0 \\right] & \\left[ 2.28, 3.644 \\right] & \\left[ 5.559, 10.701 \\right] \\\\ \\left[ 0.269, 0.448 \\right] & \\left[ 0.274, 0.439 \\right] & \\left[ 1.0, 1.0 \\right] & \\left[ 2.759, 3.774 \\right] \\\\ \\left[ 0.079, 0.114 \\right] & \\left[ 0.093, 0.18 \\right] & \\left[ 0.265, 0.362 \\right] & \\left[ 1.0, 1.0 \\right] \\end{bmatrix}\n",
      "\n",
      "\\mathscr{A}^1 = \\begin{bmatrix} \\left[ 1.0, \\left[ 1.0, 1.0 \\right], 1.0 \\right] & \\left[ 1.04, \\emptyset, 2.5 \\right] & \\left[ 2.23, \\left[ 3.71, 3.72 \\right], 5.52 \\right] & \\left[ 8.14, \\left[ 9.72, 10.85 \\right], 15.17 \\right] \\\\ \\left[ 0.4, \\emptyset, 0.97 \\right] & \\left[ 1.0, \\left[ 1.0, 1.0 \\right], 1.0 \\right] & \\left[ 1.29, \\emptyset, 3.64 \\right] & \\left[ 5.0, \\emptyset, 10.7 \\right] \\\\ \\left[ 0.18, \\left[ 0.27, 0.27 \\right], 0.45 \\right] & \\left[ 0.27, \\emptyset, 0.78 \\right] & \\left[ 1.0, \\left[ 1.0, 1.0 \\right], 1.0 \\right] & \\left[ 2.02, \\emptyset, 5.28 \\right] \\\\ \\left[ 0.07, \\left[ 0.09, 0.1 \\right], 0.12 \\right] & \\left[ 0.09, \\emptyset, 0.2 \\right] & \\left[ 0.19, \\emptyset, 0.5 \\right] & \\left[ 1.0, \\left[ 1.0, 1.0 \\right], 1.0 \\right] \\end{bmatrix}\n",
      "\n",
      "\\mathscr{A}^2 = \\begin{bmatrix} \\left[ 1.0, \\left[ 1.0, 1.0 \\right], 1.0 \\right] & \\left[ 1.41, \\left[ 1.55, 1.63 \\right], 2.5 \\right] & \\left[ 2.23, \\left[ 3.68, 3.72 \\right], 5.38 \\right] & \\left[ 8.14, \\left[ 10.46, 12.49 \\right], 15.8 \\right] \\\\ \\left[ 0.4, \\left[ 0.61, 0.65 \\right], 0.71 \\right] & \\left[ 1.0, \\left[ 1.0, 1.0 \\right], 1.0 \\right] & \\left[ 0.93, \\left[ 2.28, 2.38 \\right], 3.64 \\right] & \\left[ 3.4, \\left[ 6.48, 7.98 \\right], 10.7 \\right] \\\\ \\left[ 0.19, \\left[ 0.27, 0.27 \\right], 0.45 \\right] & \\left[ 0.27, \\left[ 0.42, 0.44 \\right], 1.07 \\right] & \\left[ 1.0, \\left[ 1.0, 1.0 \\right], 1.0 \\right] & \\left[ 1.58, \\left[ 2.84, 3.36 \\right], 6.78 \\right] \\\\ \\left[ 0.06, \\left[ 0.08, 0.1 \\right], 0.12 \\right] & \\left[ 0.09, \\left[ 0.13, 0.15 \\right], 0.29 \\right] & \\left[ 0.15, \\left[ 0.3, 0.35 \\right], 0.63 \\right] & \\left[ 1.0, \\left[ 1.0, 1.0 \\right], 1.0 \\right] \\end{bmatrix}\n",
      "\n",
      "\\mathscr{A}^3 = \\begin{bmatrix} \\left[ 1.0, \\left[ 1.0, 1.0 \\right], 1.0 \\right] & \\left[ 1.41, \\left[ 1.55, 1.88 \\right], 2.24 \\right] & \\left[ 2.83, \\left[ 3.71, 4.04 \\right], 4.86 \\right] & \\left[ 9.77, \\left[ 10.23, 13.47 \\right], 13.51 \\right] \\\\ \\left[ 0.45, \\left[ 0.53, 0.65 \\right], 0.71 \\right] & \\left[ 1.0, \\left[ 1.0, 1.0 \\right], 1.0 \\right] & \\left[ 1.42, \\left[ 1.78, 2.55 \\right], 3.06 \\right] & \\left[ 4.9, \\left[ 5.82, 8.14 \\right], 8.51 \\right] \\\\ \\left[ 0.21, \\left[ 0.25, 0.27 \\right], 0.35 \\right] & \\left[ 0.33, \\left[ 0.39, 0.56 \\right], 0.71 \\right] & \\left[ 1.0, \\left[ 1.0, 1.0 \\right], 1.0 \\right] & \\left[ 2.25, \\left[ 2.71, 3.4 \\right], 4.26 \\right] \\\\ \\left[ 0.07, \\left[ 0.07, 0.1 \\right], 0.1 \\right] & \\left[ 0.12, \\left[ 0.12, 0.17 \\right], 0.2 \\right] & \\left[ 0.23, \\left[ 0.29, 0.37 \\right], 0.44 \\right] & \\left[ 1.0, \\left[ 1.0, 1.0 \\right], 1.0 \\right] \\end{bmatrix}\n",
      "\n",
      "\\mathscr{A}^4 = \\begin{bmatrix} \\left[ 1.0, \\left[ 1.0, 1.0 \\right], 1.0 \\right] & \\left[ 1.41, \\left[ 1.55, 1.88 \\right], 2.23 \\right] & \\left[ 2.25, \\left[ 3.56, 4.04 \\right], 4.85 \\right] & \\left[ 8.75, \\left[ 10.17, 13.34 \\right], 13.47 \\right] \\\\ \\left[ 0.45, \\left[ 0.53, 0.65 \\right], 0.71 \\right] & \\left[ 1.0, \\left[ 1.0, 1.0 \\right], 1.0 \\right] & \\left[ 1.07, \\left[ 2.12, 2.55 \\right], 3.06 \\right] & \\left[ 4.19, \\left[ 6.29, 8.4 \\right], 8.48 \\right] \\\\ \\left[ 0.21, \\left[ 0.25, 0.28 \\right], 0.44 \\right] & \\left[ 0.33, \\left[ 0.39, 0.47 \\right], 0.93 \\right] & \\left[ 1.0, \\left[ 1.0, 1.0 \\right], 1.0 \\right] & \\left[ 1.88, \\left[ 2.76, 3.4 \\right], 5.33 \\right] \\\\ \\left[ 0.07, \\left[ 0.07, 0.1 \\right], 0.11 \\right] & \\left[ 0.12, \\left[ 0.12, 0.16 \\right], 0.24 \\right] & \\left[ 0.19, \\left[ 0.29, 0.36 \\right], 0.53 \\right] & \\left[ 1.0, \\left[ 1.0, 1.0 \\right], 1.0 \\right] \\end{bmatrix}\n",
      "\n"
     ]
    }
   ],
   "source": [
    "A = [\n",
    "    1 2 3 10\n",
    "    1/2 1 3 8\n",
    "    1/3 1/3 1 3\n",
    "    1/10 1/8 1/3 1\n",
    "]\n",
    "\n",
    "A₁ = randamizedIntervalPCM(A, 124, 4e-1)\n",
    "A₂ = randamizedIntervalPCM(A, 411, 4e-1)\n",
    "\n",
    "println(\"A_1 = $(intervalMatrixLaTeXString(A₁))\")\n",
    "println()\n",
    "println(\"A_2 = $(intervalMatrixLaTeXString(A₂))\")\n",
    "println()\n",
    "\n",
    "displayAll(A₁, A₂)"
   ]
  },
  {
   "cell_type": "code",
   "execution_count": 25,
   "id": "0e637524",
   "metadata": {},
   "outputs": [],
   "source": []
  }
 ],
 "metadata": {
  "kernelspec": {
   "display_name": "Julia 1.8.5",
   "language": "julia",
   "name": "julia-1.8"
  },
  "language_info": {
   "file_extension": ".jl",
   "mimetype": "application/julia",
   "name": "julia",
   "version": "1.8.5"
  },
  "vscode": {
   "interpreter": {
    "hash": "d4d1e4263499bec80672ea0156c357c1ee493ec2b1c70f0acce89fc37c4a6abe"
   }
  }
 },
 "nbformat": 4,
 "nbformat_minor": 5
}
