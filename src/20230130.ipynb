{
 "cells": [
  {
   "cell_type": "code",
   "execution_count": 53,
   "id": "a661200b-0885-4ad6-9e50-f9b552f74857",
   "metadata": {},
   "outputs": [],
   "source": [
    "using IntervalArithmetic\n",
    "using LaTeXStrings\n",
    "using Plots"
   ]
  },
  {
   "cell_type": "code",
   "execution_count": 54,
   "id": "6ae45f35-7c99-45c9-a934-88166cfef5fb",
   "metadata": {},
   "outputs": [],
   "source": [
    "include(\"./heatmap/index.jl\")\n",
    "include(\"./method1/index.jl\")\n",
    "include(\"./method2/index.jl\")\n",
    "include(\"./method3/index.jl\")\n",
    "include(\"./method4/index.jl\")\n",
    "include(\"./intervalPCM/index.jl\")\n",
    "include(\"./twofoldInterval/index.jl\")\n",
    "include(\"./twofoldIntervalPCM/index.jl\")\n",
    "\n",
    "print()"
   ]
  },
  {
   "cell_type": "code",
   "execution_count": 55,
   "id": "98b3f285",
   "metadata": {},
   "outputs": [
    {
     "data": {
      "text/plain": [
       "method1 (generic function with 1 method)"
      ]
     },
     "metadata": {},
     "output_type": "display_data"
    }
   ],
   "source": [
    "function method1(A₁::Matrix{Interval{T}}, A₂::Matrix{Interval{T}}) where {T <: Real}\n",
    "    A = intervalPCM2TwofoldIntervalPCM(A₁, A₂)\n",
    "    result = solveLP_m1(A)\n",
    "    Â = updatePCM_m1(A, result)\n",
    "    return Â\n",
    "end"
   ]
  },
  {
   "cell_type": "code",
   "execution_count": 56,
   "id": "05761e6b",
   "metadata": {},
   "outputs": [
    {
     "data": {
      "text/plain": [
       "method2 (generic function with 1 method)"
      ]
     },
     "metadata": {},
     "output_type": "display_data"
    }
   ],
   "source": [
    "function  method2(A₁::Matrix{Interval{T}}, A₂::Matrix{Interval{T}}) where {T <: Real}\n",
    "    εᶿ = solveIndividualCancellingLP_m2([A₁, A₂])\n",
    "    result = solveApproximationLP_m2([A₁, A₂], εᶿ)\n",
    "    A = importance2TwofoldIntervalPCM_m2(result)\n",
    "    return A\n",
    "end"
   ]
  },
  {
   "cell_type": "code",
   "execution_count": 57,
   "id": "66f28ba5",
   "metadata": {},
   "outputs": [
    {
     "data": {
      "text/plain": [
       "method3 (generic function with 1 method)"
      ]
     },
     "metadata": {},
     "output_type": "display_data"
    }
   ],
   "source": [
    "function method3(A₁::Matrix{Interval{T}}, A₂::Matrix{Interval{T}}) where {T <: Real}\n",
    "    approximationResults = solveApproximationLP_m3.([A₁, A₂])\n",
    "    tBoundaries = calculateTBoundaries_m3.(approximationResults)\n",
    "    result = solveConcatLP_m3(approximationResults, tBoundaries)\n",
    "    Â = generatePCM_m3(result)\n",
    "    return Â\n",
    "end"
   ]
  },
  {
   "cell_type": "code",
   "execution_count": 58,
   "id": "4b3a5e9d",
   "metadata": {},
   "outputs": [
    {
     "data": {
      "text/plain": [
       "method4 (generic function with 1 method)"
      ]
     },
     "metadata": {},
     "output_type": "display_data"
    }
   ],
   "source": [
    "function method4(A₁::Matrix{Interval{T}}, A₂::Matrix{Interval{T}}) where {T <: Real}\n",
    "    results = solveApproximationLP_m4.([A₁, A₂])\n",
    "    A = generateTwofoldIntervalMatrix_m4(results)\n",
    "    result = solveCancellingLP_m4(A)\n",
    "    Â = updatePCM_m4(A, result)\n",
    "    return Â\n",
    "end"
   ]
  },
  {
   "cell_type": "code",
   "execution_count": 59,
   "id": "00c417be",
   "metadata": {},
   "outputs": [
    {
     "data": {
      "text/plain": [
       "laTeXMatrix (generic function with 1 method)"
      ]
     },
     "metadata": {},
     "output_type": "display_data"
    }
   ],
   "source": [
    "function laTeXMatrix(\n",
    "        pattern,\n",
    "        size::Tuple{Integer, Integer})::String\n",
    "    m, n = size\n",
    "\n",
    "    mat = \"\\\\begin{bmatrix}\"\n",
    "    for i = 1:m, j = 1:n\n",
    "        mat *= pattern(i, j)\n",
    "        if j == n\n",
    "            if i != m\n",
    "                mat *= \"\\\\\\\\\"\n",
    "            end\n",
    "        else\n",
    "            mat *= \" & \"\n",
    "        end\n",
    "    end\n",
    "    mat *= \"\\\\end{bmatrix}\"\n",
    "\n",
    "    return mat\n",
    "end"
   ]
  },
  {
   "cell_type": "code",
   "execution_count": 60,
   "id": "0f662105",
   "metadata": {},
   "outputs": [
    {
     "data": {
      "text/plain": [
       "displayAll (generic function with 1 method)"
      ]
     },
     "metadata": {},
     "output_type": "display_data"
    }
   ],
   "source": [
    "# function display1(\n",
    "#         A₁::Matrix{Interval{T}},\n",
    "#         A₂::Matrix{Interval{T}}) where {T <: Real}\n",
    "#     _, n = size(A₁)\n",
    "#     A = intervalPCM2TwofoldIntervalPCM(A₁, A₂)\n",
    "#     println(\"A = $(twofoldIntervalMatrixLaTeXString(A))\")\n",
    "#     println(\"\\n\\n\")\n",
    "#     result = solveLP_m1(A)\n",
    "#     resultₛₜᵣ = lPResultLaTeXString_m1(result)\n",
    "#     println(\"W = $(resultₛₜᵣ.W)\")\n",
    "#     println()\n",
    "#     println(\"\"\"\n",
    "#         $(laTeXMatrix((i, j) -> \"w_$i^{\\\\text{L}-}\", (n, 1))) = $(resultₛₜᵣ.wᴸ⁻), ~~\n",
    "#         $(laTeXMatrix((i, j) -> \"w_$i^{\\\\text{U}-}\", (n, 1))) = $(resultₛₜᵣ.wᵁ⁻), ~~\n",
    "#         $(laTeXMatrix((i, j) -> \"w_$i^{\\\\text{L}+}\", (n, 1))) = $(resultₛₜᵣ.wᴸ⁺), ~~\n",
    "#         $(laTeXMatrix((i, j) -> \"w_$i^{\\\\text{U}+}\", (n, 1))) = $(resultₛₜᵣ.wᵁ⁺)\n",
    "#         \"\"\")\n",
    "#     println()\n",
    "#     println(\"\"\"\n",
    "#         $(laTeXMatrix((i, j) -> \"\\\\varepsilon_$i^\\\\text{L}\", (n, 1))) = $(resultₛₜᵣ.εᴸ), ~~\n",
    "#         $(laTeXMatrix((i, j) -> \"\\\\varepsilon_$i^\\\\text{U}\", (n, 1))) = $(resultₛₜᵣ.εᵁ)\n",
    "#         \"\"\")\n",
    "#     println()\n",
    "#     Â = updatePCM_m1(A, result)\n",
    "#     println(\"A = $(twofoldIntervalMatrixLaTeXString(A))\")\n",
    "#     println()\n",
    "#     println(\"\\\\hat{A} = $(twofoldIntervalMatrixLaTeXString(Â))\")\n",
    "#     println()\n",
    "# end\n",
    "\n",
    "function displayAll(\n",
    "        A₁::Matrix{Interval{T}},\n",
    "        A₂::Matrix{Interval{T}}) where {T <: Real}\n",
    "    Â₁ = method1(A₁, A₂)\n",
    "    Â₂ = method2(A₁, A₂)\n",
    "    Â₃ = method3(A₁, A₂)\n",
    "    Â₄ = method4(A₁, A₂)\n",
    "\n",
    "    println(\"\\\\hat{A}_1 = $(twofoldIntervalMatrixLaTeXString(Â₁))\")\n",
    "    println()\n",
    "    println(\"\\\\hat{A}_2 = $(twofoldIntervalMatrixLaTeXString(Â₂))\")\n",
    "    println()\n",
    "    println(\"\\\\hat{A}_3 = $(twofoldIntervalMatrixLaTeXString(Â₃))\")\n",
    "    println()\n",
    "    println(\"\\\\hat{A}_4 = $(twofoldIntervalMatrixLaTeXString(Â₄))\")\n",
    "    println()\n",
    "end"
   ]
  },
  {
   "cell_type": "markdown",
   "id": "e0934d78",
   "metadata": {},
   "source": [
    "整合している同じ行列 2 つ"
   ]
  },
  {
   "cell_type": "code",
   "execution_count": 63,
   "id": "7a539df8",
   "metadata": {},
   "outputs": [
    {
     "name": "stdout",
     "output_type": "stream",
     "text": [
      "A_1 = A_2 = \\begin{bmatrix} \\left[ 1.0, 1.0 \\right] & \\left[ 1.0, 2.0 \\right] & \\left[ 0.667, 1.333 \\right] & \\left[ 1.0, 1.333 \\right] \\\\ \\left[ 0.5, 1.0 \\right] & \\left[ 1.0, 1.0 \\right] & \\left[ 0.444, 1.0 \\right] & \\left[ 0.667, 1.0 \\right] \\\\ \\left[ 0.75, 1.5 \\right] & \\left[ 1.0, 2.25 \\right] & \\left[ 1.0, 1.0 \\right] & \\left[ 1.0, 1.5 \\right] \\\\ \\left[ 0.75, 1.0 \\right] & \\left[ 1.0, 1.5 \\right] & \\left[ 0.667, 1.0 \\right] & \\left[ 1.0, 1.0 \\right] \\end{bmatrix}\n",
      "\n",
      "\\hat{A}_1 = \\begin{bmatrix} \\left[   1.0, \\left[   1.0,   1.0 \\right],   1.0 \\right] & \\left[   1.0, \\left[ 1.333, 1.333 \\right],   2.0 \\right] & \\left[ 0.667, \\left[ 0.889, 0.889 \\right], 1.333 \\right] & \\left[   1.0, \\left[ 1.333, 1.333 \\right], 1.333 \\right] \\\\ \\left[   0.5, \\left[  0.75,  0.75 \\right],   1.0 \\right] & \\left[   1.0, \\left[   1.0,   1.0 \\right],   1.0 \\right] & \\left[ 0.444, \\left[ 0.667, 0.667 \\right],   1.0 \\right] & \\left[ 0.667, \\left[   1.0,   1.0 \\right],   1.0 \\right] \\\\ \\left[  0.75, \\left[ 1.125, 1.125 \\right],   1.5 \\right] & \\left[   1.0, \\left[   1.5,   1.5 \\right],  2.25 \\right] & \\left[   1.0, \\left[   1.0,   1.0 \\right],   1.0 \\right] & \\left[   1.0, \\left[   1.5,   1.5 \\right],   1.5 \\right] \\\\ \\left[  0.75, \\left[  0.75,  0.75 \\right],   1.0 \\right] & \\left[   1.0, \\left[   1.0,   1.0 \\right],   1.5 \\right] & \\left[ 0.667, \\left[ 0.667, 0.667 \\right],   1.0 \\right] & \\left[   1.0, \\left[   1.0,   1.0 \\right],   1.0 \\right] \\end{bmatrix}\n",
      "\n",
      "\\hat{A}_2 = \\begin{bmatrix} \\left[   1.0, \\left[   1.0,   1.0 \\right],   1.0 \\right] & \\left[   1.0, \\left[   1.0,   2.0 \\right],   2.0 \\right] & \\left[ 0.667, \\left[ 0.667, 1.333 \\right], 1.333 \\right] & \\left[   1.0, \\left[   1.0, 1.333 \\right], 1.333 \\right] \\\\ \\left[   0.5, \\left[   0.5,   1.0 \\right],   1.0 \\right] & \\left[   1.0, \\left[   1.0,   1.0 \\right],   1.0 \\right] & \\left[ 0.444, \\left[ 0.444,   1.0 \\right],   1.0 \\right] & \\left[ 0.667, \\left[ 0.667,   1.0 \\right],   1.0 \\right] \\\\ \\left[  0.75, \\left[  0.75,   1.5 \\right],   1.5 \\right] & \\left[   1.0, \\left[   1.0,  2.25 \\right],  2.25 \\right] & \\left[   1.0, \\left[   1.0,   1.0 \\right],   1.0 \\right] & \\left[   1.0, \\left[   1.0,   1.5 \\right],   1.5 \\right] \\\\ \\left[  0.75, \\left[  0.75,   1.0 \\right],   1.0 \\right] & \\left[   1.0, \\left[   1.0,   1.5 \\right],   1.5 \\right] & \\left[ 0.667, \\left[ 0.667,   1.0 \\right],   1.0 \\right] & \\left[   1.0, \\left[   1.0,   1.0 \\right],   1.0 \\right] \\end{bmatrix}\n",
      "\n",
      "\\hat{A}_3 = \\begin{bmatrix} \\left[   1.0, \\left[   1.0,   1.0 \\right],   1.0 \\right] & \\left[   1.5, \\left[ 1.778,   2.0 \\right],   2.0 \\right] & \\left[   0.8, \\left[ 0.889, 1.067 \\right], 1.067 \\right] & \\left[   1.0, \\left[ 1.333, 1.333 \\right], 1.333 \\right] \\\\ \\left[   0.5, \\left[   0.5, 0.562 \\right], 0.667 \\right] & \\left[   1.0, \\left[   1.0,   1.0 \\right],   1.0 \\right] & \\left[ 0.444, \\left[ 0.533, 0.533 \\right],   0.6 \\right] & \\left[ 0.667, \\left[ 0.667, 0.667 \\right],  0.75 \\right] \\\\ \\left[ 0.938, \\left[ 0.938, 1.125 \\right],  1.25 \\right] & \\left[ 1.667, \\left[ 1.875, 1.875 \\right],  2.25 \\right] & \\left[   1.0, \\left[   1.0,   1.0 \\right],   1.0 \\right] & \\left[  1.25, \\left[  1.25,  1.25 \\right],   1.5 \\right] \\\\ \\left[  0.75, \\left[  0.75,  0.75 \\right],   1.0 \\right] & \\left[ 1.333, \\left[   1.5,   1.5 \\right],   1.5 \\right] & \\left[ 0.667, \\left[   0.8,   0.8 \\right],   0.8 \\right] & \\left[   1.0, \\left[   1.0,   1.0 \\right],   1.0 \\right] \\end{bmatrix}\n",
      "\n",
      "\\hat{A}_4 = \\begin{bmatrix} \\left[   1.0, \\left[   1.0,   1.0 \\right],   1.0 \\right] & \\left[   1.0, \\left[   2.0,   2.0 \\right],   2.0 \\right] & \\left[ 0.667, \\left[ 1.067, 1.067 \\right], 1.333 \\right] & \\left[   1.0, \\left[ 1.333, 1.333 \\right], 1.333 \\right] \\\\ \\left[   0.5, \\left[   0.5,   0.5 \\right],   1.0 \\right] & \\left[   1.0, \\left[   1.0,   1.0 \\right],   1.0 \\right] & \\left[ 0.444, \\left[ 0.533, 0.533 \\right],   1.0 \\right] & \\left[ 0.667, \\left[ 0.667, 0.667 \\right],   1.0 \\right] \\\\ \\left[  0.75, \\left[ 0.938, 0.938 \\right],   1.5 \\right] & \\left[   1.0, \\left[ 1.875, 1.875 \\right],  2.25 \\right] & \\left[   1.0, \\left[   1.0,   1.0 \\right],   1.0 \\right] & \\left[   1.0, \\left[  1.25,  1.25 \\right],   1.5 \\right] \\\\ \\left[  0.75, \\left[  0.75,  0.75 \\right],   1.0 \\right] & \\left[   1.0, \\left[   1.5,   1.5 \\right],   1.5 \\right] & \\left[ 0.667, \\left[   0.8,   0.8 \\right],   1.0 \\right] & \\left[   1.0, \\left[   1.0,   1.0 \\right],   1.0 \\right] \\end{bmatrix}\n",
      "\n"
     ]
    }
   ],
   "source": [
    "A₁ = [\n",
    "    1..1 1..2 (2/3)..(4/3) 1..(4/3)\n",
    "    (1/2)..1 1..1 (4/9)..1 (2/3)..1\n",
    "    (3/4)..(3/2) 1..(9/4) 1..1 1..(3/2)\n",
    "    (3/4)..1 1..(3/2) (2/3)..1 1..1\n",
    "]\n",
    "A₂ = A₁\n",
    "\n",
    "println(\"A_1 = A_2 = $(intervalMatrixLaTeXString(A₁))\")\n",
    "println()\n",
    "\n",
    "displayAll(A₁, A₂)"
   ]
  },
  {
   "cell_type": "markdown",
   "id": "f23c1019",
   "metadata": {},
   "source": [
    "ともに整合していて， $A_{1ij} \\subseteq A_{2ij}$"
   ]
  },
  {
   "cell_type": "code",
   "execution_count": 62,
   "id": "9af5bd92",
   "metadata": {},
   "outputs": [
    {
     "data": {
      "text/latex": [
       "$A_1 = \\begin{bmatrix} \\left[ 1.0, 1.0 \\right] & \\left[ 1.0, 2.0 \\right] & \\left[ 0.667, 1.333 \\right] & \\left[ 1.0, 1.333 \\right] \\\\ \\left[ 0.5, 1.0 \\right] & \\left[ 1.0, 1.0 \\right] & \\left[ 0.444, 1.0 \\right] & \\left[ 0.667, 1.0 \\right] \\\\ \\left[ 0.75, 1.5 \\right] & \\left[ 1.0, 2.25 \\right] & \\left[ 1.0, 1.0 \\right] & \\left[ 1.0, 1.5 \\right] \\\\ \\left[ 0.75, 1.0 \\right] & \\left[ 1.0, 1.5 \\right] & \\left[ 0.667, 1.0 \\right] & \\left[ 1.0, 1.0 \\right] \\end{bmatrix}$"
      ],
      "text/plain": [
       "L\"$A_1 = \\begin{bmatrix} \\left[ 1.0, 1.0 \\right] & \\left[ 1.0, 2.0 \\right] & \\left[ 0.667, 1.333 \\right] & \\left[ 1.0, 1.333 \\right] \\\\ \\left[ 0.5, 1.0 \\right] & \\left[ 1.0, 1.0 \\right] & \\left[ 0.444, 1.0 \\right] & \\left[ 0.667, 1.0 \\right] \\\\ \\left[ 0.75, 1.5 \\right] & \\left[ 1.0, 2.25 \\right] & \\left[ 1.0, 1.0 \\right] & \\left[ 1.0, 1.5 \\right] \\\\ \\left[ 0.75, 1.0 \\right] & \\left[ 1.0, 1.5 \\right] & \\left[ 0.667, 1.0 \\right] & \\left[ 1.0, 1.0 \\right] \\end{bmatrix}$\""
      ]
     },
     "metadata": {},
     "output_type": "display_data"
    },
    {
     "data": {
      "text/latex": [
       "$A_2 = \\begin{bmatrix} \\left[ 1.0, 1.0 \\right] & \\left[ 0.8, 2.5 \\right] & \\left[ 0.533, 1.667 \\right] & \\left[ 0.8, 1.667 \\right] \\\\ \\left[ 0.4, 1.25 \\right] & \\left[ 1.0, 1.0 \\right] & \\left[ 0.356, 1.25 \\right] & \\left[ 0.533, 1.25 \\right] \\\\ \\left[ 0.6, 1.875 \\right] & \\left[ 0.8, 2.812 \\right] & \\left[ 1.0, 1.0 \\right] & \\left[ 0.8, 1.875 \\right] \\\\ \\left[ 0.6, 1.25 \\right] & \\left[ 0.8, 1.875 \\right] & \\left[ 0.533, 1.25 \\right] & \\left[ 1.0, 1.0 \\right] \\end{bmatrix}$"
      ],
      "text/plain": [
       "L\"$A_2 = \\begin{bmatrix} \\left[ 1.0, 1.0 \\right] & \\left[ 0.8, 2.5 \\right] & \\left[ 0.533, 1.667 \\right] & \\left[ 0.8, 1.667 \\right] \\\\ \\left[ 0.4, 1.25 \\right] & \\left[ 1.0, 1.0 \\right] & \\left[ 0.356, 1.25 \\right] & \\left[ 0.533, 1.25 \\right] \\\\ \\left[ 0.6, 1.875 \\right] & \\left[ 0.8, 2.812 \\right] & \\left[ 1.0, 1.0 \\right] & \\left[ 0.8, 1.875 \\right] \\\\ \\left[ 0.6, 1.25 \\right] & \\left[ 0.8, 1.875 \\right] & \\left[ 0.533, 1.25 \\right] & \\left[ 1.0, 1.0 \\right] \\end{bmatrix}$\""
      ]
     },
     "metadata": {},
     "output_type": "display_data"
    },
    {
     "name": "stdout",
     "output_type": "stream",
     "text": [
      "\\hat{A}_1 = \\begin{bmatrix} \\left[   1.0, \\left[   1.0,   1.0 \\right],   1.0 \\right] & \\left[   0.8, \\left[ 1.333, 1.333 \\right],   2.5 \\right] & \\left[ 0.533, \\left[ 0.889, 0.889 \\right], 1.667 \\right] & \\left[   0.8, \\left[ 1.333, 1.333 \\right], 1.667 \\right] \\\\ \\left[   0.4, \\left[  0.75,  0.75 \\right],  1.25 \\right] & \\left[   1.0, \\left[   1.0,   1.0 \\right],   1.0 \\right] & \\left[ 0.356, \\left[ 0.667, 0.667 \\right],  1.25 \\right] & \\left[ 0.533, \\left[   1.0,   1.0 \\right],  1.25 \\right] \\\\ \\left[   0.6, \\left[ 1.125, 1.125 \\right], 1.875 \\right] & \\left[   0.8, \\left[   1.5,   1.5 \\right], 2.812 \\right] & \\left[   1.0, \\left[   1.0,   1.0 \\right],   1.0 \\right] & \\left[   0.8, \\left[   1.5,   1.5 \\right], 1.875 \\right] \\\\ \\left[   0.6, \\left[  0.75,  0.75 \\right],  1.25 \\right] & \\left[   0.8, \\left[   1.0,   1.0 \\right], 1.875 \\right] & \\left[ 0.533, \\left[ 0.667, 0.667 \\right],  1.25 \\right] & \\left[   1.0, \\left[   1.0,   1.0 \\right],   1.0 \\right] \\end{bmatrix}\n",
      "\n",
      "\\hat{A}_2 = \\begin{bmatrix} \\left[   1.0, \\left[   1.0,   1.0 \\right],   1.0 \\right] & \\left[   0.8, \\left[   1.0,   2.0 \\right],   2.5 \\right] & \\left[ 0.533, \\left[ 0.667, 1.333 \\right], 1.667 \\right] & \\left[   0.8, \\left[   1.0, 1.333 \\right], 1.667 \\right] \\\\ \\left[   0.4, \\left[   0.5,   1.0 \\right],  1.25 \\right] & \\left[   1.0, \\left[   1.0,   1.0 \\right],   1.0 \\right] & \\left[ 0.356, \\left[ 0.444,   1.0 \\right],  1.25 \\right] & \\left[ 0.533, \\left[ 0.667,   1.0 \\right],  1.25 \\right] \\\\ \\left[   0.6, \\left[  0.75,   1.5 \\right], 1.875 \\right] & \\left[   0.8, \\left[   1.0,  2.25 \\right], 2.812 \\right] & \\left[   1.0, \\left[   1.0,   1.0 \\right],   1.0 \\right] & \\left[   0.8, \\left[   1.0,   1.5 \\right], 1.875 \\right] \\\\ \\left[   0.6, \\left[  0.75,   1.0 \\right],  1.25 \\right] & \\left[   0.8, \\left[   1.0,   1.5 \\right], 1.875 \\right] & \\left[ 0.533, \\left[ 0.667,   1.0 \\right],  1.25 \\right] & \\left[   1.0, \\left[   1.0,   1.0 \\right],   1.0 \\right] \\end{bmatrix}\n",
      "\n",
      "\\hat{A}_3 = \\begin{bmatrix} \\left[   1.0, \\left[   1.0,   1.0 \\right],   1.0 \\right] & \\left[ 1.455, \\left[   2.0,   2.0 \\right], 2.494 \\right] & \\left[ 1.001, \\left[ 1.001, 1.067 \\right], 1.459 \\right] & \\left[ 1.333, \\left[ 1.333, 1.333 \\right], 1.523 \\right] \\\\ \\left[ 0.401, \\left[   0.5,   0.5 \\right], 0.688 \\right] & \\left[   1.0, \\left[   1.0,   1.0 \\right],   1.0 \\right] & \\left[ 0.438, \\left[ 0.501, 0.667 \\right], 0.733 \\right] & \\left[ 0.584, \\left[ 0.667, 0.667 \\right], 1.047 \\right] \\\\ \\left[ 0.685, \\left[ 0.938, 0.999 \\right], 0.999 \\right] & \\left[ 1.364, \\left[   1.5, 1.997 \\right], 2.281 \\right] & \\left[   1.0, \\left[   1.0,   1.0 \\right],   1.0 \\right] & \\left[   1.0, \\left[  1.25, 1.332 \\right], 1.521 \\right] \\\\ \\left[ 0.657, \\left[  0.75,  0.75 \\right],  0.75 \\right] & \\left[ 0.955, \\left[   1.5,   1.5 \\right], 1.713 \\right] & \\left[ 0.658, \\left[ 0.751,   0.8 \\right],   1.0 \\right] & \\left[   1.0, \\left[   1.0,   1.0 \\right],   1.0 \\right] \\end{bmatrix}\n",
      "\n",
      "\\hat{A}_4 = \\begin{bmatrix} \\left[   1.0, \\left[   1.0,   1.0 \\right],   1.0 \\right] & \\left[   0.8, \\emptyset,   2.5 \\right] & \\left[ 0.533, \\emptyset, 1.667 \\right] & \\left[   0.8, \\emptyset, 1.667 \\right] \\\\ \\left[   0.4, \\emptyset,  1.25 \\right] & \\left[   1.0, \\left[   1.0,   1.0 \\right],   1.0 \\right] & \\left[ 0.356, \\emptyset,  1.25 \\right] & \\left[ 0.533, \\left[ 0.667, 0.667 \\right],  1.25 \\right] \\\\ \\left[   0.6, \\emptyset, 1.875 \\right] & \\left[   0.8, \\emptyset, 2.812 \\right] & \\left[   1.0, \\left[   1.0,   1.0 \\right],   1.0 \\right] & \\left[   0.8, \\emptyset, 1.875 \\right] \\\\ \\left[   0.6, \\emptyset,  1.25 \\right] & \\left[   0.8, \\left[   1.5,   1.5 \\right], 1.875 \\right] & \\left[ 0.533, \\emptyset,  1.25 \\right] & \\left[   1.0, \\left[   1.0,   1.0 \\right],   1.0 \\right] \\end{bmatrix}\n",
      "\n"
     ]
    }
   ],
   "source": [
    "A₁ = [\n",
    "    1..1 1..2 (2/3)..(4/3) 1..(4/3)\n",
    "    (1/2)..1 1..1 (4/9)..1 (2/3)..1\n",
    "    (3/4)..(3/2) 1..(9/4) 1..1 1..(3/2)\n",
    "    (3/4)..1 1..(3/2) (2/3)..1 1..1\n",
    "]\n",
    "_, n = size(A₁)\n",
    "A₂ = fill(1..1, (n, n))\n",
    "for i = 1:n, j = 1:n\n",
    "    if i == j continue end\n",
    "    A₂[i,j] = (A₁[i,j].lo * 4 / 5)..(A₁[i,j].hi * 5 / 4)\n",
    "end\n",
    "\n",
    "display(L\"A_1 = %$(intervalMatrixLaTeXString(A₁))\")\n",
    "display(L\"A_2 = %$(intervalMatrixLaTeXString(A₂))\")\n",
    "\n",
    "displayAll(A₁, A₂)"
   ]
  },
  {
   "cell_type": "markdown",
   "id": "c5c807c9",
   "metadata": {},
   "source": [
    "<!-- ともに弱い整合性を持ち， $A_{1ij} \\subseteq A_{2ij}$\n",
    "\n",
    "```\n",
    "A₁ = [\n",
    "    1..1 2..5 2..4 2..3\n",
    "    (1/5)..(1/2) 1..1 (1/5)..4 (1/5)..3\n",
    "    (1/4)..(1/2) (1/4)..5 1..1 (1/4)..3\n",
    "    (1/3)..(1/2) (1/3)..5 (1/3)..4 1..1\n",
    "]\n",
    "A₂ = fill(1..1, size(A₁))\n",
    "_, n = size(A₁)\n",
    "for i = 1:n, j = 1:n\n",
    "    if i == j continue end\n",
    "    A₂[i,j] = (A₁[i,j].lo * 1/1.1)..(A₁[i,j].hi * 1.1)\n",
    "end\n",
    "\n",
    "display(L\"A_1 = %$(intervalMatrixLaTeXString(A₁))\")\n",
    "display(L\"A_2 = %$(intervalMatrixLaTeXString(A₂))\")\n",
    "\n",
    "display(isConsistentIntervalPCM(A₁))\n",
    "display(isWeaklyConsistentIntervalPCM(A₁))\n",
    "display(isConsistentIntervalPCM(A₂))\n",
    "display(isWeaklyConsistentIntervalPCM(A₂))\n",
    "\n",
    "plotAll(A₁, A₂)\n",
    "``` -->"
   ]
  },
  {
   "cell_type": "markdown",
   "id": "db9f7e4c",
   "metadata": {},
   "source": [
    "推移率が成り立つ通常の $4 \\times 4$ PCM に幅を与えて整合していない行列　2 つを作る\n",
    "\n",
    "$\\begin{bmatrix} 1/2 & 2 & 4 & 4 \\\\ 1/2 & 1 & 2 & 2 \\\\ 1/4 & 1/2 & 1 & 1 \\\\ 1/4 & 1/2 & 1 & 1 \\end{bmatrix}$ に自然対数スケールで $[0, 0.03]$ の一様分布に従う乱数の分だけ上下に幅をもたせている"
   ]
  },
  {
   "cell_type": "code",
   "execution_count": 64,
   "id": "6e1ba351",
   "metadata": {},
   "outputs": [
    {
     "data": {
      "text/latex": [
       "$A_1 = \\begin{bmatrix} \\left[ 1.0, 1.0 \\right] & \\left[ 1.981, 2.033 \\right] & \\left[ 3.974, 4.109 \\right] & \\left[ 3.958, 4.048 \\right] \\\\ \\left[ 0.492, 0.505 \\right] & \\left[ 1.0, 1.0 \\right] & \\left[ 1.944, 2.048 \\right] & \\left[ 1.971, 2.045 \\right] \\\\ \\left[ 0.243, 0.252 \\right] & \\left[ 0.488, 0.515 \\right] & \\left[ 1.0, 1.0 \\right] & \\left[ 0.983, 1.022 \\right] \\\\ \\left[ 0.247, 0.253 \\right] & \\left[ 0.489, 0.507 \\right] & \\left[ 0.978, 1.017 \\right] & \\left[ 1.0, 1.0 \\right] \\end{bmatrix}$"
      ],
      "text/plain": [
       "L\"$A_1 = \\begin{bmatrix} \\left[ 1.0, 1.0 \\right] & \\left[ 1.981, 2.033 \\right] & \\left[ 3.974, 4.109 \\right] & \\left[ 3.958, 4.048 \\right] \\\\ \\left[ 0.492, 0.505 \\right] & \\left[ 1.0, 1.0 \\right] & \\left[ 1.944, 2.048 \\right] & \\left[ 1.971, 2.045 \\right] \\\\ \\left[ 0.243, 0.252 \\right] & \\left[ 0.488, 0.515 \\right] & \\left[ 1.0, 1.0 \\right] & \\left[ 0.983, 1.022 \\right] \\\\ \\left[ 0.247, 0.253 \\right] & \\left[ 0.489, 0.507 \\right] & \\left[ 0.978, 1.017 \\right] & \\left[ 1.0, 1.0 \\right] \\end{bmatrix}$\""
      ]
     },
     "metadata": {},
     "output_type": "display_data"
    },
    {
     "data": {
      "text/latex": [
       "$A_2 = \\begin{bmatrix} \\left[ 1.0, 1.0 \\right] & \\left[ 1.998, 2.01 \\right] & \\left[ 3.974, 4.05 \\right] & \\left[ 3.962, 4.041 \\right] \\\\ \\left[ 0.497, 0.5 \\right] & \\left[ 1.0, 1.0 \\right] & \\left[ 1.945, 2.015 \\right] & \\left[ 1.942, 2.033 \\right] \\\\ \\left[ 0.247, 0.252 \\right] & \\left[ 0.496, 0.514 \\right] & \\left[ 1.0, 1.0 \\right] & \\left[ 0.972, 1.021 \\right] \\\\ \\left[ 0.247, 0.252 \\right] & \\left[ 0.492, 0.515 \\right] & \\left[ 0.979, 1.029 \\right] & \\left[ 1.0, 1.0 \\right] \\end{bmatrix}$"
      ],
      "text/plain": [
       "L\"$A_2 = \\begin{bmatrix} \\left[ 1.0, 1.0 \\right] & \\left[ 1.998, 2.01 \\right] & \\left[ 3.974, 4.05 \\right] & \\left[ 3.962, 4.041 \\right] \\\\ \\left[ 0.497, 0.5 \\right] & \\left[ 1.0, 1.0 \\right] & \\left[ 1.945, 2.015 \\right] & \\left[ 1.942, 2.033 \\right] \\\\ \\left[ 0.247, 0.252 \\right] & \\left[ 0.496, 0.514 \\right] & \\left[ 1.0, 1.0 \\right] & \\left[ 0.972, 1.021 \\right] \\\\ \\left[ 0.247, 0.252 \\right] & \\left[ 0.492, 0.515 \\right] & \\left[ 0.979, 1.029 \\right] & \\left[ 1.0, 1.0 \\right] \\end{bmatrix}$\""
      ]
     },
     "metadata": {},
     "output_type": "display_data"
    },
    {
     "name": "stdout",
     "output_type": "stream",
     "text": [
      "\\hat{A}_1 = \\begin{bmatrix} \\left[   1.0, \\left[   1.0,   1.0 \\right],   1.0 \\right] & \\left[ 1.981, \\left[ 1.998, 1.998 \\right], 2.043 \\right] & \\left[ 3.911, \\emptyset, 4.109 \\right] & \\left[ 3.958, \\left[ 3.962, 3.962 \\right], 4.061 \\right] \\\\ \\left[  0.49, \\left[   0.5,   0.5 \\right], 0.505 \\right] & \\left[   1.0, \\left[   1.0,   1.0 \\right],   1.0 \\right] & \\left[ 1.944, \\left[ 1.989, 1.989 \\right], 2.048 \\right] & \\left[  1.94, \\left[ 1.983, 1.983 \\right], 2.045 \\right] \\\\ \\left[ 0.243, \\emptyset, 0.256 \\right] & \\left[ 0.488, \\left[ 0.503, 0.503 \\right], 0.515 \\right] & \\left[   1.0, \\left[   1.0,   1.0 \\right],   1.0 \\right] & \\left[ 0.972, \\left[ 0.997, 0.997 \\right], 1.035 \\right] \\\\ \\left[ 0.246, \\left[ 0.252, 0.252 \\right], 0.253 \\right] & \\left[ 0.489, \\left[ 0.504, 0.504 \\right], 0.516 \\right] & \\left[ 0.966, \\left[ 1.003, 1.003 \\right], 1.029 \\right] & \\left[   1.0, \\left[   1.0,   1.0 \\right],   1.0 \\right] \\end{bmatrix}\n",
      "\n",
      "\\hat{A}_2 = \\begin{bmatrix} \\left[   1.0, \\left[   1.0,   1.0 \\right],   1.0 \\right] & \\left[ 1.977, \\left[   2.0,  2.01 \\right], 2.033 \\right] & \\left[ 3.948, \\left[ 3.974, 4.031 \\right], 4.109 \\right] & \\left[ 3.944, \\left[ 3.962, 4.041 \\right], 4.048 \\right] \\\\ \\left[ 0.492, \\left[ 0.497,   0.5 \\right], 0.506 \\right] & \\left[   1.0, \\left[   1.0,   1.0 \\right],   1.0 \\right] & \\left[ 1.944, \\left[ 1.977, 2.015 \\right], 2.076 \\right] & \\left[ 1.942, \\left[ 1.971,  2.02 \\right], 2.045 \\right] \\\\ \\left[ 0.243, \\left[ 0.248, 0.252 \\right], 0.253 \\right] & \\left[ 0.482, \\left[ 0.496, 0.506 \\right], 0.515 \\right] & \\left[   1.0, \\left[   1.0,   1.0 \\right],   1.0 \\right] & \\left[ 0.961, \\left[ 0.983, 1.017 \\right], 1.024 \\right] \\\\ \\left[ 0.247, \\left[ 0.247, 0.252 \\right], 0.254 \\right] & \\left[ 0.489, \\left[ 0.495, 0.507 \\right], 0.515 \\right] & \\left[ 0.976, \\left[ 0.983, 1.017 \\right], 1.041 \\right] & \\left[   1.0, \\left[   1.0,   1.0 \\right],   1.0 \\right] \\end{bmatrix}\n",
      "\n",
      "\\hat{A}_3 = \\begin{bmatrix} \\left[   1.0, \\left[   1.0,   1.0 \\right],   1.0 \\right] & \\left[ 1.998, \\left[ 2.008, 2.009 \\right], 2.028 \\right] & \\left[ 3.952, \\left[ 3.972, 3.976 \\right], 4.051 \\right] & \\left[ 3.958, \\left[ 4.041, 4.048 \\right], 4.053 \\right] \\\\ \\left[ 0.493, \\left[ 0.498, 0.498 \\right],   0.5 \\right] & \\left[   1.0, \\left[   1.0,   1.0 \\right],   1.0 \\right] & \\left[ 1.949, \\left[ 1.967, 1.989 \\right], 2.027 \\right] & \\left[ 1.952, \\left[ 1.993, 2.018 \\right], 2.027 \\right] \\\\ \\left[ 0.247, \\left[ 0.252, 0.252 \\right], 0.253 \\right] & \\left[ 0.493, \\left[ 0.503, 0.508 \\right], 0.513 \\right] & \\left[   1.0, \\left[   1.0,   1.0 \\right],   1.0 \\right] & \\left[ 0.977, \\left[ 1.001,  1.02 \\right], 1.025 \\right] \\\\ \\left[ 0.247, \\left[ 0.247, 0.247 \\right], 0.253 \\right] & \\left[ 0.493, \\left[ 0.496, 0.502 \\right], 0.512 \\right] & \\left[ 0.976, \\left[ 0.981, 0.999 \\right], 1.023 \\right] & \\left[   1.0, \\left[   1.0,   1.0 \\right],   1.0 \\right] \\end{bmatrix}\n",
      "\n",
      "\\hat{A}_4 = \\begin{bmatrix} \\left[   1.0, \\left[   1.0,   1.0 \\right],   1.0 \\right] & \\left[ 1.981, \\emptyset, 2.033 \\right] & \\left[ 3.944, \\emptyset, 4.109 \\right] & \\left[ 3.937, \\emptyset, 4.061 \\right] \\\\ \\left[ 0.492, \\emptyset, 0.505 \\right] & \\left[   1.0, \\left[   1.0,   1.0 \\right],   1.0 \\right] & \\left[ 1.944, \\emptyset, 2.075 \\right] & \\left[ 1.942, \\emptyset, 2.045 \\right] \\\\ \\left[ 0.243, \\emptyset, 0.254 \\right] & \\left[ 0.482, \\emptyset, 0.515 \\right] & \\left[   1.0, \\left[   1.0,   1.0 \\right],   1.0 \\right] & \\left[ 0.963, \\emptyset,  1.03 \\right] \\\\ \\left[ 0.246, \\emptyset, 0.254 \\right] & \\left[ 0.489, \\emptyset, 0.515 \\right] & \\left[ 0.971, \\emptyset, 1.038 \\right] & \\left[   1.0, \\left[   1.0,   1.0 \\right],   1.0 \\right] \\end{bmatrix}\n",
      "\n"
     ]
    }
   ],
   "source": [
    "A = [\n",
    "    1 2 4 4\n",
    "    1/2 1 2 2\n",
    "    1/4 1/2 1 1\n",
    "    1/4 1/2 1 1\n",
    "]\n",
    "\n",
    "A₁ = randamizedIntervalPCM(A, 1234, 3e-2)\n",
    "A₂ = randamizedIntervalPCM(A, 134, 3e-2)\n",
    "\n",
    "display(L\"A_1 = %$(intervalMatrixLaTeXString(A₁))\")\n",
    "display(L\"A_2 = %$(intervalMatrixLaTeXString(A₂))\")\n",
    "\n",
    "displayAll(A₁, A₂)"
   ]
  },
  {
   "cell_type": "markdown",
   "id": "4411cc16",
   "metadata": {},
   "source": [
    "推移率が成り立つ通常の $4 \\times 4$ PCM に幅を与えて整合していない行列 2 つを作る\n",
    "\n",
    "$\\begin{bmatrix} 1/2 & 2 & 4 & 4 \\\\ 1/2 & 1 & 2 & 2 \\\\ 1/4 & 1/2 & 1 & 1 \\\\ 1/4 & 1/2 & 1 & 1 \\end{bmatrix}$ に自然対数スケールで $[0, 0.3]$ の一様分布に従う乱数の分だけ上下に幅をもたせている"
   ]
  },
  {
   "cell_type": "code",
   "execution_count": 65,
   "id": "789d049c",
   "metadata": {},
   "outputs": [
    {
     "data": {
      "text/latex": [
       "$A_1 = \\begin{bmatrix} \\left[ 1.0, 1.0 \\right] & \\left[ 1.564, 2.231 \\right] & \\left[ 3.102, 4.959 \\right] & \\left[ 3.625, 4.692 \\right] \\\\ \\left[ 0.448, 0.639 \\right] & \\left[ 1.0, 1.0 \\right] & \\left[ 1.523, 2.056 \\right] & \\left[ 1.901, 2.608 \\right] \\\\ \\left[ 0.202, 0.322 \\right] & \\left[ 0.486, 0.657 \\right] & \\left[ 1.0, 1.0 \\right] & \\left[ 0.975, 1.144 \\right] \\\\ \\left[ 0.213, 0.276 \\right] & \\left[ 0.383, 0.526 \\right] & \\left[ 0.874, 1.026 \\right] & \\left[ 1.0, 1.0 \\right] \\end{bmatrix}$"
      ],
      "text/plain": [
       "L\"$A_1 = \\begin{bmatrix} \\left[ 1.0, 1.0 \\right] & \\left[ 1.564, 2.231 \\right] & \\left[ 3.102, 4.959 \\right] & \\left[ 3.625, 4.692 \\right] \\\\ \\left[ 0.448, 0.639 \\right] & \\left[ 1.0, 1.0 \\right] & \\left[ 1.523, 2.056 \\right] & \\left[ 1.901, 2.608 \\right] \\\\ \\left[ 0.202, 0.322 \\right] & \\left[ 0.486, 0.657 \\right] & \\left[ 1.0, 1.0 \\right] & \\left[ 0.975, 1.144 \\right] \\\\ \\left[ 0.213, 0.276 \\right] & \\left[ 0.383, 0.526 \\right] & \\left[ 0.874, 1.026 \\right] & \\left[ 1.0, 1.0 \\right] \\end{bmatrix}$\""
      ]
     },
     "metadata": {},
     "output_type": "display_data"
    },
    {
     "data": {
      "text/latex": [
       "$A_2 = \\begin{bmatrix} \\left[ 1.0, 1.0 \\right] & \\left[ 1.814, 2.358 \\right] & \\left[ 3.746, 5.231 \\right] & \\left[ 3.598, 4.502 \\right] \\\\ \\left[ 0.424, 0.551 \\right] & \\left[ 1.0, 1.0 \\right] & \\left[ 1.503, 2.539 \\right] & \\left[ 1.724, 2.503 \\right] \\\\ \\left[ 0.191, 0.267 \\right] & \\left[ 0.394, 0.666 \\right] & \\left[ 1.0, 1.0 \\right] & \\left[ 0.841, 1.244 \\right] \\\\ \\left[ 0.222, 0.278 \\right] & \\left[ 0.399, 0.58 \\right] & \\left[ 0.804, 1.189 \\right] & \\left[ 1.0, 1.0 \\right] \\end{bmatrix}$"
      ],
      "text/plain": [
       "L\"$A_2 = \\begin{bmatrix} \\left[ 1.0, 1.0 \\right] & \\left[ 1.814, 2.358 \\right] & \\left[ 3.746, 5.231 \\right] & \\left[ 3.598, 4.502 \\right] \\\\ \\left[ 0.424, 0.551 \\right] & \\left[ 1.0, 1.0 \\right] & \\left[ 1.503, 2.539 \\right] & \\left[ 1.724, 2.503 \\right] \\\\ \\left[ 0.191, 0.267 \\right] & \\left[ 0.394, 0.666 \\right] & \\left[ 1.0, 1.0 \\right] & \\left[ 0.841, 1.244 \\right] \\\\ \\left[ 0.222, 0.278 \\right] & \\left[ 0.399, 0.58 \\right] & \\left[ 0.804, 1.189 \\right] & \\left[ 1.0, 1.0 \\right] \\end{bmatrix}$\""
      ]
     },
     "metadata": {},
     "output_type": "display_data"
    },
    {
     "name": "stdout",
     "output_type": "stream",
     "text": [
      "\\hat{A}_1 = \\begin{bmatrix} \\left[   1.0, \\left[   1.0,   1.0 \\right],   1.0 \\right] & \\left[ 1.564, \\left[ 1.814, 1.814 \\right], 2.358 \\right] & \\left[ 3.102, \\emptyset, 5.231 \\right] & \\left[ 3.598, \\left[ 3.625, 3.625 \\right], 4.692 \\right] \\\\ \\left[ 0.424, \\left[ 0.551, 0.551 \\right], 0.639 \\right] & \\left[   1.0, \\left[   1.0,   1.0 \\right],   1.0 \\right] & \\left[ 1.503, \\left[ 1.873, 1.873 \\right], 2.734 \\right] & \\left[ 1.625, \\left[ 1.999, 1.999 \\right], 2.608 \\right] \\\\ \\left[ 0.191, \\emptyset, 0.322 \\right] & \\left[ 0.366, \\left[ 0.534, 0.534 \\right], 0.666 \\right] & \\left[   1.0, \\left[   1.0,   1.0 \\right],   1.0 \\right] & \\left[ 0.731, \\left[ 1.067, 1.067 \\right], 1.337 \\right] \\\\ \\left[ 0.213, \\left[ 0.276, 0.276 \\right], 0.278 \\right] & \\left[ 0.383, \\left[   0.5,   0.5 \\right], 0.615 \\right] & \\left[ 0.748, \\left[ 0.937, 0.937 \\right], 1.368 \\right] & \\left[   1.0, \\left[   1.0,   1.0 \\right],   1.0 \\right] \\end{bmatrix}\n",
      "\n",
      "\\hat{A}_2 = \\begin{bmatrix} \\left[   1.0, \\left[   1.0,   1.0 \\right],   1.0 \\right] & \\left[ 1.564, \\left[ 1.822, 2.231 \\right], 2.358 \\right] & \\left[ 3.102, \\left[ 3.746, 4.045 \\right], 5.231 \\right] & \\left[ 3.598, \\left[ 3.927, 4.502 \\right], 4.692 \\right] \\\\ \\left[ 0.424, \\left[ 0.448, 0.549 \\right], 0.639 \\right] & \\left[   1.0, \\left[   1.0,   1.0 \\right],   1.0 \\right] & \\left[ 1.487, \\left[ 1.813, 2.056 \\right], 2.958 \\right] & \\left[ 1.724, \\left[ 1.901, 2.289 \\right], 2.654 \\right] \\\\ \\left[ 0.191, \\left[ 0.247, 0.267 \\right], 0.322 \\right] & \\left[ 0.338, \\left[ 0.486, 0.552 \\right], 0.673 \\right] & \\left[   1.0, \\left[   1.0,   1.0 \\right],   1.0 \\right] & \\left[ 0.777, \\left[ 1.048, 1.113 \\right], 1.338 \\right] \\\\ \\left[ 0.213, \\left[ 0.222, 0.255 \\right], 0.278 \\right] & \\left[ 0.377, \\left[ 0.437, 0.526 \\right],  0.58 \\right] & \\left[ 0.747, \\left[ 0.898, 0.954 \\right], 1.286 \\right] & \\left[   1.0, \\left[   1.0,   1.0 \\right],   1.0 \\right] \\end{bmatrix}\n",
      "\n",
      "\\hat{A}_3 = \\begin{bmatrix} \\left[   1.0, \\left[   1.0,   1.0 \\right],   1.0 \\right] & \\left[ 2.056, \\left[ 2.064, 2.208 \\right], 2.254 \\right] & \\left[ 3.659, \\left[ 3.674, 3.746 \\right], 3.785 \\right] & \\left[  3.97, \\left[ 4.202, 4.502 \\right], 4.588 \\right] \\\\ \\left[ 0.444, \\left[ 0.453, 0.484 \\right], 0.486 \\right] & \\left[   1.0, \\left[   1.0,   1.0 \\right],   1.0 \\right] & \\left[ 1.647, \\left[ 1.657, 1.815 \\right], 1.822 \\right] & \\left[ 1.798, \\left[ 1.884,  2.19 \\right],   2.2 \\right] \\\\ \\left[ 0.264, \\left[ 0.267, 0.272 \\right], 0.273 \\right] & \\left[ 0.549, \\left[ 0.551, 0.603 \\right], 0.607 \\right] & \\left[   1.0, \\left[   1.0,   1.0 \\right],   1.0 \\right] & \\left[  1.06, \\left[ 1.122,  1.23 \\right], 1.236 \\right] \\\\ \\left[ 0.218, \\left[ 0.222, 0.238 \\right], 0.252 \\right] & \\left[ 0.455, \\left[ 0.457, 0.531 \\right], 0.556 \\right] & \\left[ 0.809, \\left[ 0.813, 0.891 \\right], 0.944 \\right] & \\left[   1.0, \\left[   1.0,   1.0 \\right],   1.0 \\right] \\end{bmatrix}\n",
      "\n",
      "\\hat{A}_4 = \\begin{bmatrix} \\left[   1.0, \\left[   1.0,   1.0 \\right],   1.0 \\right] & \\left[ 1.564, \\emptyset, 2.358 \\right] & \\left[ 3.102, \\emptyset, 5.231 \\right] & \\left[ 3.598, \\emptyset, 4.692 \\right] \\\\ \\left[ 0.424, \\emptyset, 0.639 \\right] & \\left[   1.0, \\left[   1.0,   1.0 \\right],   1.0 \\right] & \\left[ 1.503, \\emptyset, 2.895 \\right] & \\left[ 1.526, \\emptyset, 2.739 \\right] \\\\ \\left[ 0.191, \\emptyset, 0.322 \\right] & \\left[ 0.345, \\emptyset, 0.666 \\right] & \\left[   1.0, \\left[   1.0,   1.0 \\right],   1.0 \\right] & \\left[ 0.688, \\emptyset, 1.381 \\right] \\\\ \\left[ 0.213, \\emptyset, 0.278 \\right] & \\left[ 0.365, \\emptyset, 0.655 \\right] & \\left[ 0.724, \\emptyset, 1.454 \\right] & \\left[   1.0, \\left[   1.0,   1.0 \\right],   1.0 \\right] \\end{bmatrix}\n",
      "\n"
     ]
    }
   ],
   "source": [
    "A = [\n",
    "    1 2 4 4\n",
    "    1/2 1 2 2\n",
    "    1/4 1/2 1 1\n",
    "    1/4 1/2 1 1\n",
    "]\n",
    "\n",
    "A₁ = randamizedIntervalPCM(A, 14, 3e-1)\n",
    "A₂ = randamizedIntervalPCM(A, 1234, 3e-1)\n",
    "\n",
    "display(L\"A_1 = %$(intervalMatrixLaTeXString(A₁))\")\n",
    "display(L\"A_2 = %$(intervalMatrixLaTeXString(A₂))\")\n",
    "\n",
    "displayAll(A₁, A₂)"
   ]
  },
  {
   "attachments": {},
   "cell_type": "markdown",
   "id": "75d55a58",
   "metadata": {},
   "source": [
    "完全整合はしていない PCM にランダムに幅をもたせる"
   ]
  },
  {
   "cell_type": "code",
   "execution_count": 12,
   "id": "ae5fc820",
   "metadata": {},
   "outputs": [
    {
     "data": {
      "text/plain": [
       "0.015252586019425252"
      ]
     },
     "metadata": {},
     "output_type": "display_data"
    }
   ],
   "source": [
    "using LinearAlgebra\n",
    "\n",
    "A = [\n",
    "    1 2 3 10\n",
    "    1/2 1 3 8\n",
    "    1/3 1/3 1 3\n",
    "    1/10 1/8 1/3 1\n",
    "]\n",
    "\n",
    "_, n = size(A)\n",
    "\n",
    "λ = maximum(real.(filter(e -> imag(e) == 0,eigvals(A))))\n",
    "(λ - n) / (n - 1)"
   ]
  },
  {
   "cell_type": "code",
   "execution_count": 66,
   "id": "efb08e9f",
   "metadata": {},
   "outputs": [
    {
     "data": {
      "text/latex": [
       "$A_1 = \\begin{bmatrix} \\left[ 1.0, 1.0 \\right] & \\left[ 5.909, 9.73 \\right] & \\left[ 2.334, 3.893 \\right] & \\left[ 8.353, 12.974 \\right] \\\\ \\left[ 0.103, 0.169 \\right] & \\left[ 1.0, 1.0 \\right] & \\left[ 2.954, 4.065 \\right] & \\left[ 6.654, 8.351 \\right] \\\\ \\left[ 0.257, 0.428 \\right] & \\left[ 0.246, 0.338 \\right] & \\left[ 1.0, 1.0 \\right] & \\left[ 2.263, 3.309 \\right] \\\\ \\left[ 0.077, 0.12 \\right] & \\left[ 0.12, 0.15 \\right] & \\left[ 0.302, 0.442 \\right] & \\left[ 1.0, 1.0 \\right] \\end{bmatrix}$"
      ],
      "text/plain": [
       "L\"$A_1 = \\begin{bmatrix} \\left[ 1.0, 1.0 \\right] & \\left[ 5.909, 9.73 \\right] & \\left[ 2.334, 3.893 \\right] & \\left[ 8.353, 12.974 \\right] \\\\ \\left[ 0.103, 0.169 \\right] & \\left[ 1.0, 1.0 \\right] & \\left[ 2.954, 4.065 \\right] & \\left[ 6.654, 8.351 \\right] \\\\ \\left[ 0.257, 0.428 \\right] & \\left[ 0.246, 0.338 \\right] & \\left[ 1.0, 1.0 \\right] & \\left[ 2.263, 3.309 \\right] \\\\ \\left[ 0.077, 0.12 \\right] & \\left[ 0.12, 0.15 \\right] & \\left[ 0.302, 0.442 \\right] & \\left[ 1.0, 1.0 \\right] \\end{bmatrix}$\""
      ]
     },
     "metadata": {},
     "output_type": "display_data"
    },
    {
     "data": {
      "text/latex": [
       "$A_2 = \\begin{bmatrix} \\left[ 1.0, 1.0 \\right] & \\left[ 5.932, 11.09 \\right] & \\left[ 2.367, 3.578 \\right] & \\left[ 8.663, 11.158 \\right] \\\\ \\left[ 0.09, 0.169 \\right] & \\left[ 1.0, 1.0 \\right] & \\left[ 3.714, 5.113 \\right] & \\left[ 6.615, 10.334 \\right] \\\\ \\left[ 0.279, 0.422 \\right] & \\left[ 0.196, 0.269 \\right] & \\left[ 1.0, 1.0 \\right] & \\left[ 2.648, 4.048 \\right] \\\\ \\left[ 0.09, 0.115 \\right] & \\left[ 0.097, 0.151 \\right] & \\left[ 0.247, 0.378 \\right] & \\left[ 1.0, 1.0 \\right] \\end{bmatrix}$"
      ],
      "text/plain": [
       "L\"$A_2 = \\begin{bmatrix} \\left[ 1.0, 1.0 \\right] & \\left[ 5.932, 11.09 \\right] & \\left[ 2.367, 3.578 \\right] & \\left[ 8.663, 11.158 \\right] \\\\ \\left[ 0.09, 0.169 \\right] & \\left[ 1.0, 1.0 \\right] & \\left[ 3.714, 5.113 \\right] & \\left[ 6.615, 10.334 \\right] \\\\ \\left[ 0.279, 0.422 \\right] & \\left[ 0.196, 0.269 \\right] & \\left[ 1.0, 1.0 \\right] & \\left[ 2.648, 4.048 \\right] \\\\ \\left[ 0.09, 0.115 \\right] & \\left[ 0.097, 0.151 \\right] & \\left[ 0.247, 0.378 \\right] & \\left[ 1.0, 1.0 \\right] \\end{bmatrix}$\""
      ]
     },
     "metadata": {},
     "output_type": "display_data"
    },
    {
     "name": "stdout",
     "output_type": "stream",
     "text": [
      "\\hat{A}_1 = \\begin{bmatrix} \\left[   1.0, \\left[   1.0,   1.0 \\right],   1.0 \\right] & \\left[ 0.958, \\emptyset, 11.09 \\right] & \\left[ 2.334, \\emptyset, 24.019 \\right] & \\left[ 5.462, \\left[ 8.983, 8.983 \\right], 49.344 \\right] \\\\ \\left[  0.09, \\emptyset, 1.044 \\right] & \\left[   1.0, \\left[   1.0,   1.0 \\right],   1.0 \\right] & \\left[ 0.252, \\emptyset, 5.113 \\right] & \\left[ 0.923, \\emptyset, 11.237 \\right] \\\\ \\left[ 0.042, \\emptyset, 0.428 \\right] & \\left[ 0.196, \\emptyset, 3.964 \\right] & \\left[   1.0, \\left[   1.0,   1.0 \\right],   1.0 \\right] & \\left[ 0.374, \\emptyset, 12.676 \\right] \\\\ \\left[  0.02, \\left[ 0.111, 0.111 \\right], 0.183 \\right] & \\left[ 0.089, \\emptyset, 1.083 \\right] & \\left[ 0.079, \\emptyset, 2.674 \\right] & \\left[   1.0, \\left[   1.0,   1.0 \\right],   1.0 \\right] \\end{bmatrix}\n",
      "\n",
      "\\hat{A}_2 = \\begin{bmatrix} \\left[   1.0, \\left[   1.0,   1.0 \\right],   1.0 \\right] & \\left[ 2.926, \\left[ 5.932, 5.932 \\right], 11.09 \\right] & \\left[ 2.334, \\left[ 3.893, 3.893 \\right], 15.346 \\right] & \\left[ 8.353, \\left[ 11.158, 11.158 \\right], 31.015 \\right] \\\\ \\left[  0.09, \\left[ 0.169, 0.169 \\right], 0.342 \\right] & \\left[   1.0, \\left[   1.0,   1.0 \\right],   1.0 \\right] & \\left[ 0.216, \\left[ 0.656, 0.656 \\right], 5.113 \\right] & \\left[ 0.773, \\left[ 1.881, 1.881 \\right], 10.334 \\right] \\\\ \\left[ 0.065, \\left[ 0.257, 0.257 \\right], 0.428 \\right] & \\left[ 0.196, \\left[ 1.524, 1.524 \\right], 4.633 \\right] & \\left[   1.0, \\left[   1.0,   1.0 \\right],   1.0 \\right] & \\left[ 0.558, \\left[ 2.867, 2.867 \\right], 12.956 \\right] \\\\ \\left[ 0.032, \\left[  0.09,  0.09 \\right],  0.12 \\right] & \\left[ 0.097, \\left[ 0.532, 0.532 \\right], 1.294 \\right] & \\left[ 0.077, \\left[ 0.349, 0.349 \\right], 1.791 \\right] & \\left[   1.0, \\left[   1.0,   1.0 \\right],   1.0 \\right] \\end{bmatrix}\n",
      "\n",
      "\\hat{A}_3 = \\begin{bmatrix} \\left[   1.0, \\left[   1.0,   1.0 \\right],   1.0 \\right] & \\left[ 2.737, \\left[ 5.866,  9.73 \\right],  9.73 \\right] & \\left[ 2.334, \\emptyset, 11.125 \\right] & \\left[ 8.513, \\left[ 8.814, 22.854 \\right], 22.854 \\right] \\\\ \\left[ 0.103, \\left[ 0.103,  0.17 \\right], 0.365 \\right] & \\left[   1.0, \\left[   1.0,   1.0 \\right],   1.0 \\right] & \\left[  0.24, \\left[  0.29,  1.03 \\right], 1.963 \\right] & \\left[ 0.875, \\left[ 0.875, 4.033 \\right], 8.351 \\right] \\\\ \\left[  0.09, \\emptyset, 0.428 \\right] & \\left[ 0.509, \\left[ 0.971, 3.452 \\right], 4.169 \\right] & \\left[   1.0, \\left[   1.0,   1.0 \\right],   1.0 \\right] & \\left[ 0.765, \\left[  3.02, 8.108 \\right], 9.793 \\right] \\\\ \\left[ 0.044, \\left[ 0.044, 0.113 \\right], 0.117 \\right] & \\left[  0.12, \\left[ 0.248, 1.143 \\right], 1.143 \\right] & \\left[ 0.102, \\left[ 0.123, 0.331 \\right], 1.307 \\right] & \\left[   1.0, \\left[   1.0,   1.0 \\right],   1.0 \\right] \\end{bmatrix}\n",
      "\n",
      "\\hat{A}_4 = \\begin{bmatrix} \\left[   1.0, \\left[   1.0,   1.0 \\right],   1.0 \\right] & \\left[ 2.737, \\emptyset, 11.09 \\right] & \\left[ 2.334, \\emptyset, 14.144 \\right] & \\left[ 8.353, \\emptyset, 28.586 \\right] \\\\ \\left[  0.09, \\emptyset, 0.365 \\right] & \\left[   1.0, \\left[   1.0,   1.0 \\right],   1.0 \\right] & \\left[ 0.213, \\emptyset, 5.113 \\right] & \\left[ 0.781, \\emptyset, 10.334 \\right] \\\\ \\left[ 0.071, \\emptyset, 0.428 \\right] & \\left[ 0.196, \\emptyset, 4.685 \\right] & \\left[   1.0, \\left[   1.0,   1.0 \\right],   1.0 \\right] & \\left[ 0.613, \\emptyset, 12.077 \\right] \\\\ \\left[ 0.035, \\emptyset,  0.12 \\right] & \\left[ 0.097, \\emptyset,  1.28 \\right] & \\left[ 0.083, \\emptyset, 1.633 \\right] & \\left[   1.0, \\left[   1.0,   1.0 \\right],   1.0 \\right] \\end{bmatrix}\n",
      "\n"
     ]
    },
    {
     "name": "stderr",
     "output_type": "stream",
     "text": [
      "┌ Warning: Invalid input, empty interval is returned\n",
      "└ @ IntervalArithmetic /opt/julia/packages/IntervalArithmetic/BORQB/src/intervals/intervals.jl:141\n",
      "┌ Warning: Invalid input, empty interval is returned\n",
      "└ @ IntervalArithmetic /opt/julia/packages/IntervalArithmetic/BORQB/src/intervals/intervals.jl:141\n",
      "┌ Warning: Invalid input, empty interval is returned\n",
      "└ @ IntervalArithmetic /opt/julia/packages/IntervalArithmetic/BORQB/src/intervals/intervals.jl:141\n",
      "┌ Warning: Invalid input, empty interval is returned\n",
      "└ @ IntervalArithmetic /opt/julia/packages/IntervalArithmetic/BORQB/src/intervals/intervals.jl:141\n",
      "┌ Warning: Invalid input, empty interval is returned\n",
      "└ @ IntervalArithmetic /opt/julia/packages/IntervalArithmetic/BORQB/src/intervals/intervals.jl:141\n",
      "┌ Warning: Invalid input, empty interval is returned\n",
      "└ @ IntervalArithmetic /opt/julia/packages/IntervalArithmetic/BORQB/src/intervals/intervals.jl:141\n",
      "┌ Warning: Invalid input, empty interval is returned\n",
      "└ @ IntervalArithmetic /opt/julia/packages/IntervalArithmetic/BORQB/src/intervals/intervals.jl:141\n",
      "┌ Warning: Invalid input, empty interval is returned\n",
      "└ @ IntervalArithmetic /opt/julia/packages/IntervalArithmetic/BORQB/src/intervals/intervals.jl:141\n",
      "┌ Warning: Invalid input, empty interval is returned\n",
      "└ @ IntervalArithmetic /opt/julia/packages/IntervalArithmetic/BORQB/src/intervals/intervals.jl:141\n",
      "┌ Warning: Invalid input, empty interval is returned\n",
      "└ @ IntervalArithmetic /opt/julia/packages/IntervalArithmetic/BORQB/src/intervals/intervals.jl:141\n",
      "┌ Warning: Invalid input, empty interval is returned\n",
      "└ @ IntervalArithmetic /opt/julia/packages/IntervalArithmetic/BORQB/src/intervals/intervals.jl:141\n",
      "┌ Warning: Invalid input, empty interval is returned\n",
      "└ @ IntervalArithmetic /opt/julia/packages/IntervalArithmetic/BORQB/src/intervals/intervals.jl:141\n"
     ]
    }
   ],
   "source": [
    "A = [\n",
    "    1 8 3 10\n",
    "    1/8 1 4 8\n",
    "    1/3 1/4 1 3\n",
    "    1/10 1/8 1/3 1\n",
    "]\n",
    "\n",
    "A₁ = randamizedIntervalPCM(A, 124, 3.5e-1)\n",
    "A₂ = randamizedIntervalPCM(A, 4, 3.5e-1)\n",
    "\n",
    "display(L\"A_1 = %$(intervalMatrixLaTeXString(A₁))\")\n",
    "display(L\"A_2 = %$(intervalMatrixLaTeXString(A₂))\")\n",
    "\n",
    "displayAll(A₁, A₂)"
   ]
  },
  {
   "cell_type": "code",
   "execution_count": 14,
   "id": "28f7c269-9bb7-41fc-966d-f6a2f02aa66f",
   "metadata": {},
   "outputs": [],
   "source": []
  }
 ],
 "metadata": {
  "kernelspec": {
   "display_name": "Julia 1.8.5",
   "language": "julia",
   "name": "julia-1.8"
  },
  "language_info": {
   "file_extension": ".jl",
   "mimetype": "application/julia",
   "name": "julia",
   "version": "1.8.5"
  },
  "vscode": {
   "interpreter": {
    "hash": "d4d1e4263499bec80672ea0156c357c1ee493ec2b1c70f0acce89fc37c4a6abe"
   }
  }
 },
 "nbformat": 4,
 "nbformat_minor": 5
}
