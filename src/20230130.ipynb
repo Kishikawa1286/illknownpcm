{
 "cells": [
  {
   "cell_type": "code",
   "execution_count": 1,
   "id": "a661200b-0885-4ad6-9e50-f9b552f74857",
   "metadata": {},
   "outputs": [],
   "source": [
    "using IntervalArithmetic\n",
    "using LaTeXStrings\n",
    "using Plots"
   ]
  },
  {
   "cell_type": "code",
   "execution_count": 2,
   "id": "6ae45f35-7c99-45c9-a934-88166cfef5fb",
   "metadata": {},
   "outputs": [],
   "source": [
    "include(\"./heatmap/index.jl\")\n",
    "include(\"./method1/index.jl\")\n",
    "include(\"./method2/index.jl\")\n",
    "include(\"./method3/index.jl\")\n",
    "include(\"./method4/index.jl\")\n",
    "include(\"./intervalPCM/index.jl\")\n",
    "include(\"./twofoldInterval/index.jl\")\n",
    "include(\"./twofoldIntervalPCM/index.jl\")\n",
    "\n",
    "print()"
   ]
  },
  {
   "cell_type": "code",
   "execution_count": 3,
   "id": "98b3f285",
   "metadata": {},
   "outputs": [
    {
     "data": {
      "text/plain": [
       "method1 (generic function with 1 method)"
      ]
     },
     "metadata": {},
     "output_type": "display_data"
    }
   ],
   "source": [
    "function method1(A₁::Matrix{Interval{T}}, A₂::Matrix{Interval{T}}) where {T <: Real}\n",
    "    A = intervalPCM2TwofoldIntervalPCM(A₁, A₂)\n",
    "    result = solveLP_m1(A)\n",
    "    Â = updatePCM_m1(A, result)\n",
    "    return Â\n",
    "end"
   ]
  },
  {
   "cell_type": "code",
   "execution_count": 4,
   "id": "05761e6b",
   "metadata": {},
   "outputs": [
    {
     "data": {
      "text/plain": [
       "method2 (generic function with 1 method)"
      ]
     },
     "metadata": {},
     "output_type": "display_data"
    }
   ],
   "source": [
    "function  method2(A₁::Matrix{Interval{T}}, A₂::Matrix{Interval{T}}) where {T <: Real}\n",
    "    εᶿ = solveIndividualCancellingLP_m2([A₁, A₂])\n",
    "    result = solveApproximationLP_m2([A₁, A₂], εᶿ)\n",
    "    A = importance2TwofoldIntervalPCM_m2(result)\n",
    "    return A\n",
    "end"
   ]
  },
  {
   "cell_type": "code",
   "execution_count": 5,
   "id": "66f28ba5",
   "metadata": {},
   "outputs": [
    {
     "data": {
      "text/plain": [
       "method3 (generic function with 1 method)"
      ]
     },
     "metadata": {},
     "output_type": "display_data"
    }
   ],
   "source": [
    "function method3(A₁::Matrix{Interval{T}}, A₂::Matrix{Interval{T}}) where {T <: Real}\n",
    "    approximationResults = solveApproximationLP_m3.([A₁, A₂])\n",
    "    tBoundaries = calculateTBoundaries_m3.(approximationResults)\n",
    "    result = solveConcatLP_m3(approximationResults, tBoundaries)\n",
    "    Â = generatePCM_m3(result)\n",
    "    return Â\n",
    "end"
   ]
  },
  {
   "cell_type": "code",
   "execution_count": 6,
   "id": "4b3a5e9d",
   "metadata": {},
   "outputs": [
    {
     "data": {
      "text/plain": [
       "method4 (generic function with 1 method)"
      ]
     },
     "metadata": {},
     "output_type": "display_data"
    }
   ],
   "source": [
    "function method4(A₁::Matrix{Interval{T}}, A₂::Matrix{Interval{T}}) where {T <: Real}\n",
    "    results = solveApproximationLP_m4.([A₁, A₂])\n",
    "    A = generateTwofoldIntervalMatrix_m4(results)\n",
    "    result = solveCancellingLP_m4(A)\n",
    "    Â = updatePCM_m4(A, result)\n",
    "    return Â\n",
    "end"
   ]
  },
  {
   "cell_type": "code",
   "execution_count": 7,
   "id": "0f662105",
   "metadata": {},
   "outputs": [
    {
     "data": {
      "text/plain": [
       "displayAll (generic function with 1 method)"
      ]
     },
     "metadata": {},
     "output_type": "display_data"
    }
   ],
   "source": [
    "function displayAll(\n",
    "        A₁::Matrix{Interval{T}},\n",
    "        A₂::Matrix{Interval{T}}) where {T <: Real}\n",
    "    Â₁ = method1(A₁, A₂)\n",
    "    Â₂ = method2(A₁, A₂)\n",
    "    Â₃ = method3(A₁, A₂)\n",
    "    Â₄ = method4(A₁, A₂)\n",
    "\n",
    "    println(\"\\\\mathscr{A}^1 = $(twofoldIntervalMatrixLaTeXString(Â₁))\"); println()\n",
    "    println(\"\\\\mathscr{A}^2 = $(twofoldIntervalMatrixLaTeXString(Â₂))\"); println()\n",
    "    println(\"\\\\mathscr{A}^3 = $(twofoldIntervalMatrixLaTeXString(Â₃))\"); println()\n",
    "    println(\"\\\\mathscr{A}^4 = $(twofoldIntervalMatrixLaTeXString(Â₄))\"); println()\n",
    "end"
   ]
  },
  {
   "attachments": {},
   "cell_type": "markdown",
   "id": "e0934d78",
   "metadata": {},
   "source": [
    "# example 1"
   ]
  },
  {
   "cell_type": "code",
   "execution_count": 9,
   "id": "7a539df8",
   "metadata": {},
   "outputs": [
    {
     "name": "stdout",
     "output_type": "stream",
     "text": [
      "A_1 = A_2 = \\begin{bmatrix} \\left[ 1.0, 1.0 \\right] & \\left[ 0.5, 2.0 \\right] & \\left[ 0.5, 2.0 \\right] \\\\ \\left[ 0.5, 2.0 \\right] & \\left[ 1.0, 1.0 \\right] & \\left[ 0.5, 2.0 \\right] \\\\ \\left[ 0.5, 2.0 \\right] & \\left[ 0.5, 2.0 \\right] & \\left[ 1.0, 1.0 \\right] \\end{bmatrix}\n",
      "\n",
      "\\mathscr{A}^1 = \\begin{bmatrix} \\left[   1.0, \\left[   1.0,   1.0 \\right],   1.0 \\right] & \\left[   0.4, \\left[   0.5,   2.0 \\right],   2.5 \\right] & \\left[   0.4, \\left[   0.5,   2.0 \\right],   2.5 \\right] \\\\ \\left[   0.4, \\left[   0.5,   2.0 \\right],   2.5 \\right] & \\left[   1.0, \\left[   1.0,   1.0 \\right],   1.0 \\right] & \\left[   0.4, \\left[   0.5,   2.0 \\right],   2.5 \\right] \\\\ \\left[   0.4, \\left[   0.5,   2.0 \\right],   2.5 \\right] & \\left[   0.4, \\left[   0.5,   2.0 \\right],   2.5 \\right] & \\left[   1.0, \\left[   1.0,   1.0 \\right],   1.0 \\right] \\end{bmatrix}\n",
      "\n",
      "\\mathscr{A}^2 = \\begin{bmatrix} \\left[   1.0, \\left[   1.0,   1.0 \\right],   1.0 \\right] & \\left[   0.4, \\left[   0.5,   2.0 \\right],   2.5 \\right] & \\left[   0.4, \\left[   0.5,   2.0 \\right],   2.5 \\right] \\\\ \\left[   0.4, \\left[   0.5,   2.0 \\right],   2.5 \\right] & \\left[   1.0, \\left[   1.0,   1.0 \\right],   1.0 \\right] & \\left[   0.4, \\left[   0.5,   2.0 \\right],   2.5 \\right] \\\\ \\left[   0.4, \\left[   0.5,   2.0 \\right],   2.5 \\right] & \\left[   0.4, \\left[   0.5,   2.0 \\right],   2.5 \\right] & \\left[   1.0, \\left[   1.0,   1.0 \\right],   1.0 \\right] \\end{bmatrix}\n",
      "\n",
      "\\mathscr{A}^3 = \\begin{bmatrix} \\left[   1.0, \\left[   1.0,   1.0 \\right],   1.0 \\right] & \\left[   0.4, \\left[   0.5,   2.0 \\right],   2.5 \\right] & \\left[   0.4, \\left[   0.5,   2.0 \\right],   2.5 \\right] \\\\ \\left[   0.4, \\left[   0.5,   2.0 \\right],   2.5 \\right] & \\left[   1.0, \\left[   1.0,   1.0 \\right],   1.0 \\right] & \\left[   0.4, \\left[   0.5,   2.0 \\right],   2.5 \\right] \\\\ \\left[   0.4, \\left[   0.5,   2.0 \\right],   2.5 \\right] & \\left[   0.4, \\left[   0.5,   2.0 \\right],   2.5 \\right] & \\left[   1.0, \\left[   1.0,   1.0 \\right],   1.0 \\right] \\end{bmatrix}\n",
      "\n",
      "\\mathscr{A}^4 = \\begin{bmatrix} \\left[   1.0, \\left[   1.0,   1.0 \\right],   1.0 \\right] & \\left[   0.4, \\left[   0.5,   2.0 \\right],   2.5 \\right] & \\left[   0.4, \\left[   0.5,   2.0 \\right],   2.5 \\right] \\\\ \\left[   0.4, \\left[   0.5,   2.0 \\right],   2.5 \\right] & \\left[   1.0, \\left[   1.0,   1.0 \\right],   1.0 \\right] & \\left[   0.4, \\left[   0.5,   2.0 \\right],   2.5 \\right] \\\\ \\left[   0.4, \\left[   0.5,   2.0 \\right],   2.5 \\right] & \\left[   0.4, \\left[   0.5,   2.0 \\right],   2.5 \\right] & \\left[   1.0, \\left[   1.0,   1.0 \\right],   1.0 \\right] \\end{bmatrix}\n",
      "\n"
     ]
    }
   ],
   "source": [
    "A₁ = [\n",
    "    1..1 (1/2)..2 (1/2)..2\n",
    "    (1/2)..2 1..1 (1/2)..2\n",
    "    (1/2)..2 (1/2)..2 1..1\n",
    "]\n",
    "_, n = size(A₁)\n",
    "A₂ = fill(1..1, (n, n))\n",
    "for i = 1:n, j = 1:n\n",
    "    if i == j continue end\n",
    "    A₂[i,j] = (A₁[i,j].lo * 4 / 5)..(A₁[i,j].hi * 5 / 4)\n",
    "end\n",
    "\n",
    "println(\"A_1 = A_2 = $(intervalMatrixLaTeXString(A₁))\")\n",
    "println()\n",
    "\n",
    "displayAll(A₁, A₂)"
   ]
  },
  {
   "attachments": {},
   "cell_type": "markdown",
   "id": "f23c1019",
   "metadata": {},
   "source": [
    "# example 2"
   ]
  },
  {
   "cell_type": "code",
   "execution_count": 10,
   "id": "9af5bd92",
   "metadata": {},
   "outputs": [
    {
     "name": "stdout",
     "output_type": "stream",
     "text": [
      "A_1 = \\begin{bmatrix} \\left[ 1.0, 1.0 \\right] & \\left[ 1.0, 2.0 \\right] & \\left[ 0.667, 1.333 \\right] & \\left[ 1.0, 1.333 \\right] \\\\ \\left[ 0.5, 1.0 \\right] & \\left[ 1.0, 1.0 \\right] & \\left[ 0.444, 1.0 \\right] & \\left[ 0.667, 1.0 \\right] \\\\ \\left[ 0.75, 1.5 \\right] & \\left[ 1.0, 2.25 \\right] & \\left[ 1.0, 1.0 \\right] & \\left[ 1.0, 1.5 \\right] \\\\ \\left[ 0.75, 1.0 \\right] & \\left[ 1.0, 1.5 \\right] & \\left[ 0.667, 1.0 \\right] & \\left[ 1.0, 1.0 \\right] \\end{bmatrix}\n",
      "\n",
      "A_2 = \\begin{bmatrix} \\left[ 1.0, 1.0 \\right] & \\left[ 0.8, 2.5 \\right] & \\left[ 0.533, 1.667 \\right] & \\left[ 0.8, 1.667 \\right] \\\\ \\left[ 0.4, 1.25 \\right] & \\left[ 1.0, 1.0 \\right] & \\left[ 0.356, 1.25 \\right] & \\left[ 0.533, 1.25 \\right] \\\\ \\left[ 0.6, 1.875 \\right] & \\left[ 0.8, 2.812 \\right] & \\left[ 1.0, 1.0 \\right] & \\left[ 0.8, 1.875 \\right] \\\\ \\left[ 0.6, 1.25 \\right] & \\left[ 0.8, 1.875 \\right] & \\left[ 0.533, 1.25 \\right] & \\left[ 1.0, 1.0 \\right] \\end{bmatrix}\n",
      "\n",
      "\\mathscr{A}^1 = \\begin{bmatrix} \\left[   1.0, \\left[   1.0,   1.0 \\right],   1.0 \\right] & \\left[   0.8, \\left[   1.0,   2.0 \\right],   2.5 \\right] & \\left[ 0.533, \\left[ 0.667, 1.333 \\right], 1.667 \\right] & \\left[   0.8, \\left[   1.0, 1.333 \\right], 1.667 \\right] \\\\ \\left[   0.4, \\left[   0.5,   1.0 \\right],  1.25 \\right] & \\left[   1.0, \\left[   1.0,   1.0 \\right],   1.0 \\right] & \\left[ 0.356, \\left[ 0.444,   1.0 \\right],  1.25 \\right] & \\left[ 0.533, \\left[ 0.667,   1.0 \\right],  1.25 \\right] \\\\ \\left[   0.6, \\left[  0.75,   1.5 \\right], 1.875 \\right] & \\left[   0.8, \\left[   1.0,  2.25 \\right], 2.812 \\right] & \\left[   1.0, \\left[   1.0,   1.0 \\right],   1.0 \\right] & \\left[   0.8, \\left[   1.0,   1.5 \\right], 1.875 \\right] \\\\ \\left[   0.6, \\left[  0.75,   1.0 \\right],  1.25 \\right] & \\left[   0.8, \\left[   1.0,   1.5 \\right], 1.875 \\right] & \\left[ 0.533, \\left[ 0.667,   1.0 \\right],  1.25 \\right] & \\left[   1.0, \\left[   1.0,   1.0 \\right],   1.0 \\right] \\end{bmatrix}\n",
      "\n",
      "\\mathscr{A}^2 = \\begin{bmatrix} \\left[   1.0, \\left[   1.0,   1.0 \\right],   1.0 \\right] & \\left[   0.8, \\left[   1.0,   2.0 \\right],   2.5 \\right] & \\left[ 0.533, \\left[ 0.667, 1.333 \\right], 1.667 \\right] & \\left[   0.8, \\left[   1.0, 1.333 \\right], 1.667 \\right] \\\\ \\left[   0.4, \\left[   0.5,   1.0 \\right],  1.25 \\right] & \\left[   1.0, \\left[   1.0,   1.0 \\right],   1.0 \\right] & \\left[ 0.356, \\left[ 0.444,   1.0 \\right],  1.25 \\right] & \\left[ 0.533, \\left[ 0.667,   1.0 \\right],  1.25 \\right] \\\\ \\left[   0.6, \\left[  0.75,   1.5 \\right], 1.875 \\right] & \\left[   0.8, \\left[   1.0,  2.25 \\right], 2.812 \\right] & \\left[   1.0, \\left[   1.0,   1.0 \\right],   1.0 \\right] & \\left[   0.8, \\left[   1.0,   1.5 \\right], 1.875 \\right] \\\\ \\left[   0.6, \\left[  0.75,   1.0 \\right],  1.25 \\right] & \\left[   0.8, \\left[   1.0,   1.5 \\right], 1.875 \\right] & \\left[ 0.533, \\left[ 0.667,   1.0 \\right],  1.25 \\right] & \\left[   1.0, \\left[   1.0,   1.0 \\right],   1.0 \\right] \\end{bmatrix}\n",
      "\n",
      "\\mathscr{A}^3 = \\begin{bmatrix} \\left[   1.0, \\left[   1.0,   1.0 \\right],   1.0 \\right] & \\left[   0.8, \\left[ 0.992,   2.0 \\right],   2.5 \\right] & \\left[ 0.533, \\left[ 0.667, 1.333 \\right], 1.667 \\right] & \\left[   0.8, \\left[ 0.992, 1.333 \\right], 1.667 \\right] \\\\ \\left[   0.4, \\left[   0.5, 1.008 \\right],  1.25 \\right] & \\left[   1.0, \\left[   1.0,   1.0 \\right],   1.0 \\right] & \\left[ 0.358, \\left[ 0.444,   1.0 \\right],  1.25 \\right] & \\left[ 0.533, \\left[ 0.667,   1.0 \\right],  1.25 \\right] \\\\ \\left[   0.6, \\left[  0.75,   1.5 \\right], 1.875 \\right] & \\left[   0.8, \\left[   1.0,  2.25 \\right],  2.79 \\right] & \\left[   1.0, \\left[   1.0,   1.0 \\right],   1.0 \\right] & \\left[   0.8, \\left[   1.0,   1.5 \\right],  1.86 \\right] \\\\ \\left[   0.6, \\left[  0.75, 1.008 \\right],  1.25 \\right] & \\left[   0.8, \\left[   1.0,   1.5 \\right], 1.875 \\right] & \\left[ 0.538, \\left[ 0.667,   1.0 \\right],  1.25 \\right] & \\left[   1.0, \\left[   1.0,   1.0 \\right],   1.0 \\right] \\end{bmatrix}\n",
      "\n",
      "\\mathscr{A}^4 = \\begin{bmatrix} \\left[   1.0, \\left[   1.0,   1.0 \\right],   1.0 \\right] & \\left[   0.8, \\left[   1.0,   2.0 \\right],   2.5 \\right] & \\left[ 0.533, \\left[ 0.667, 1.333 \\right], 1.667 \\right] & \\left[   0.8, \\left[   1.0, 1.333 \\right], 1.667 \\right] \\\\ \\left[   0.4, \\left[   0.5,   1.0 \\right],  1.25 \\right] & \\left[   1.0, \\left[   1.0,   1.0 \\right],   1.0 \\right] & \\left[ 0.356, \\left[ 0.444,   1.0 \\right],  1.25 \\right] & \\left[ 0.533, \\left[ 0.667,   1.0 \\right],  1.25 \\right] \\\\ \\left[   0.6, \\left[  0.75,   1.5 \\right], 1.875 \\right] & \\left[   0.8, \\left[   1.0,  2.25 \\right], 2.812 \\right] & \\left[   1.0, \\left[   1.0,   1.0 \\right],   1.0 \\right] & \\left[   0.8, \\left[   1.0,   1.5 \\right], 1.875 \\right] \\\\ \\left[   0.6, \\left[  0.75,   1.0 \\right],  1.25 \\right] & \\left[   0.8, \\left[   1.0,   1.5 \\right], 1.875 \\right] & \\left[ 0.533, \\left[ 0.667,   1.0 \\right],  1.25 \\right] & \\left[   1.0, \\left[   1.0,   1.0 \\right],   1.0 \\right] \\end{bmatrix}\n",
      "\n"
     ]
    }
   ],
   "source": [
    "A₁ = [\n",
    "    1..1 1..2 (2/3)..(4/3) 1..(4/3)\n",
    "    (1/2)..1 1..1 (4/9)..1 (2/3)..1\n",
    "    (3/4)..(3/2) 1..(9/4) 1..1 1..(3/2)\n",
    "    (3/4)..1 1..(3/2) (2/3)..1 1..1\n",
    "]\n",
    "_, n = size(A₁)\n",
    "A₂ = fill(1..1, (n, n))\n",
    "for i = 1:n, j = 1:n\n",
    "    if i == j continue end\n",
    "    A₂[i,j] = (A₁[i,j].lo * 4 / 5)..(A₁[i,j].hi * 5 / 4)\n",
    "end\n",
    "\n",
    "println(\"A_1 = $(intervalMatrixLaTeXString(A₁))\")\n",
    "println()\n",
    "println(\"A_2 = $(intervalMatrixLaTeXString(A₂))\")\n",
    "println()\n",
    "\n",
    "displayAll(A₁, A₂)"
   ]
  },
  {
   "cell_type": "markdown",
   "id": "c5c807c9",
   "metadata": {},
   "source": [
    "<!-- ともに弱い整合性を持ち， $A_{1ij} \\subseteq A_{2ij}$\n",
    "\n",
    "```\n",
    "A₁ = [\n",
    "    1..1 2..5 2..4 2..3\n",
    "    (1/5)..(1/2) 1..1 (1/5)..4 (1/5)..3\n",
    "    (1/4)..(1/2) (1/4)..5 1..1 (1/4)..3\n",
    "    (1/3)..(1/2) (1/3)..5 (1/3)..4 1..1\n",
    "]\n",
    "A₂ = fill(1..1, size(A₁))\n",
    "_, n = size(A₁)\n",
    "for i = 1:n, j = 1:n\n",
    "    if i == j continue end\n",
    "    A₂[i,j] = (A₁[i,j].lo * 1/1.1)..(A₁[i,j].hi * 1.1)\n",
    "end\n",
    "\n",
    "display(L\"A_1 = %$(intervalMatrixLaTeXString(A₁))\")\n",
    "display(L\"A_2 = %$(intervalMatrixLaTeXString(A₂))\")\n",
    "\n",
    "display(isConsistentIntervalPCM(A₁))\n",
    "display(isWeaklyConsistentIntervalPCM(A₁))\n",
    "display(isConsistentIntervalPCM(A₂))\n",
    "display(isWeaklyConsistentIntervalPCM(A₂))\n",
    "\n",
    "plotAll(A₁, A₂)\n",
    "``` -->"
   ]
  },
  {
   "attachments": {},
   "cell_type": "markdown",
   "id": "db9f7e4c",
   "metadata": {},
   "source": [
    "# example 3"
   ]
  },
  {
   "cell_type": "code",
   "execution_count": 11,
   "id": "6e1ba351",
   "metadata": {},
   "outputs": [
    {
     "name": "stdout",
     "output_type": "stream",
     "text": [
      "A_1 = \\begin{bmatrix} \\left[ 1.0, 1.0 \\right] & \\left[ 1.981, 2.033 \\right] & \\left[ 3.974, 4.109 \\right] & \\left[ 3.958, 4.048 \\right] \\\\ \\left[ 0.492, 0.505 \\right] & \\left[ 1.0, 1.0 \\right] & \\left[ 1.944, 2.048 \\right] & \\left[ 1.971, 2.045 \\right] \\\\ \\left[ 0.243, 0.252 \\right] & \\left[ 0.488, 0.515 \\right] & \\left[ 1.0, 1.0 \\right] & \\left[ 0.983, 1.022 \\right] \\\\ \\left[ 0.247, 0.253 \\right] & \\left[ 0.489, 0.507 \\right] & \\left[ 0.978, 1.017 \\right] & \\left[ 1.0, 1.0 \\right] \\end{bmatrix}\n",
      "\n",
      "A_2 = \\begin{bmatrix} \\left[ 1.0, 1.0 \\right] & \\left[ 1.998, 2.01 \\right] & \\left[ 3.974, 4.05 \\right] & \\left[ 3.962, 4.041 \\right] \\\\ \\left[ 0.497, 0.5 \\right] & \\left[ 1.0, 1.0 \\right] & \\left[ 1.945, 2.015 \\right] & \\left[ 1.942, 2.033 \\right] \\\\ \\left[ 0.247, 0.252 \\right] & \\left[ 0.496, 0.514 \\right] & \\left[ 1.0, 1.0 \\right] & \\left[ 0.972, 1.021 \\right] \\\\ \\left[ 0.247, 0.252 \\right] & \\left[ 0.492, 0.515 \\right] & \\left[ 0.979, 1.029 \\right] & \\left[ 1.0, 1.0 \\right] \\end{bmatrix}\n",
      "\n",
      "\\mathscr{A}^1 = \\begin{bmatrix} \\left[   1.0, \\left[   1.0,   1.0 \\right],   1.0 \\right] & \\left[ 1.981, \\left[ 1.998,  2.01 \\right], 2.043 \\right] & \\left[ 3.955, \\left[ 3.974,  4.05 \\right], 4.109 \\right] & \\left[ 3.958, \\left[ 3.962, 4.041 \\right], 4.058 \\right] \\\\ \\left[  0.49, \\left[ 0.497,   0.5 \\right], 0.505 \\right] & \\left[   1.0, \\left[   1.0,   1.0 \\right],   1.0 \\right] & \\left[ 1.944, \\left[ 1.954, 2.015 \\right], 2.048 \\right] & \\left[ 1.938, \\left[ 1.971, 2.033 \\right], 2.045 \\right] \\\\ \\left[ 0.243, \\left[ 0.247, 0.252 \\right], 0.253 \\right] & \\left[ 0.488, \\left[ 0.496, 0.512 \\right], 0.515 \\right] & \\left[   1.0, \\left[   1.0,   1.0 \\right],   1.0 \\right] & \\left[ 0.972, \\left[ 0.983, 1.019 \\right], 1.023 \\right] \\\\ \\left[ 0.246, \\left[ 0.247, 0.252 \\right], 0.253 \\right] & \\left[ 0.489, \\left[ 0.492, 0.507 \\right], 0.516 \\right] & \\left[ 0.977, \\left[ 0.982, 1.017 \\right], 1.029 \\right] & \\left[   1.0, \\left[   1.0,   1.0 \\right],   1.0 \\right] \\end{bmatrix}\n",
      "\n",
      "\\mathscr{A}^2 = \\begin{bmatrix} \\left[   1.0, \\left[   1.0,   1.0 \\right],   1.0 \\right] & \\left[ 1.977, \\left[   2.0,  2.01 \\right], 2.033 \\right] & \\left[ 3.948, \\left[ 3.974, 4.031 \\right], 4.109 \\right] & \\left[ 3.944, \\left[ 3.962, 4.041 \\right], 4.048 \\right] \\\\ \\left[ 0.492, \\left[ 0.497,   0.5 \\right], 0.506 \\right] & \\left[   1.0, \\left[   1.0,   1.0 \\right],   1.0 \\right] & \\left[ 1.944, \\left[ 1.977, 2.015 \\right], 2.076 \\right] & \\left[ 1.942, \\left[ 1.971,  2.02 \\right], 2.045 \\right] \\\\ \\left[ 0.243, \\left[ 0.248, 0.252 \\right], 0.253 \\right] & \\left[ 0.482, \\left[ 0.496, 0.506 \\right], 0.515 \\right] & \\left[   1.0, \\left[   1.0,   1.0 \\right],   1.0 \\right] & \\left[ 0.961, \\left[ 0.983, 1.017 \\right], 1.024 \\right] \\\\ \\left[ 0.247, \\left[ 0.247, 0.252 \\right], 0.254 \\right] & \\left[ 0.489, \\left[ 0.495, 0.507 \\right], 0.515 \\right] & \\left[ 0.976, \\left[ 0.983, 1.017 \\right], 1.041 \\right] & \\left[   1.0, \\left[   1.0,   1.0 \\right],   1.0 \\right] \\end{bmatrix}\n",
      "\n",
      "\\mathscr{A}^3 = \\begin{bmatrix} \\left[   1.0, \\left[   1.0,   1.0 \\right],   1.0 \\right] & \\left[ 1.981, \\left[ 1.998, 2.021 \\right], 2.033 \\right] & \\left[ 3.948, \\left[ 3.974, 4.057 \\right], 4.071 \\right] & \\left[ 3.962, \\left[ 3.962, 4.055 \\right],  4.07 \\right] \\\\ \\left[ 0.492, \\left[ 0.495,   0.5 \\right], 0.505 \\right] & \\left[   1.0, \\left[   1.0,   1.0 \\right],   1.0 \\right] & \\left[ 1.949, \\left[ 1.967,  2.03 \\right], 2.048 \\right] & \\left[ 1.956, \\left[ 1.961,  2.03 \\right], 2.048 \\right] \\\\ \\left[ 0.246, \\left[ 0.247, 0.252 \\right], 0.253 \\right] & \\left[ 0.488, \\left[ 0.493, 0.509 \\right], 0.513 \\right] & \\left[   1.0, \\left[   1.0,   1.0 \\right],   1.0 \\right] & \\left[ 0.977, \\left[ 0.978,  1.02 \\right], 1.027 \\right] \\\\ \\left[ 0.246, \\left[ 0.247, 0.252 \\right], 0.252 \\right] & \\left[ 0.488, \\left[ 0.493,  0.51 \\right], 0.511 \\right] & \\left[ 0.973, \\left[  0.98, 1.022 \\right], 1.024 \\right] & \\left[   1.0, \\left[   1.0,   1.0 \\right],   1.0 \\right] \\end{bmatrix}\n",
      "\n",
      "\\mathscr{A}^4 = \\begin{bmatrix} \\left[   1.0, \\left[   1.0,   1.0 \\right],   1.0 \\right] & \\left[ 1.981, \\left[ 1.998, 2.021 \\right], 2.033 \\right] & \\left[ 3.944, \\left[ 3.974,  4.05 \\right], 4.071 \\right] & \\left[ 3.958, \\left[ 3.962, 4.048 \\right], 4.061 \\right] \\\\ \\left[ 0.492, \\left[ 0.495,   0.5 \\right], 0.505 \\right] & \\left[   1.0, \\left[   1.0,   1.0 \\right],   1.0 \\right] & \\left[ 1.945, \\left[ 1.962, 2.027 \\right], 2.048 \\right] & \\left[ 1.951, \\left[ 1.971, 2.033 \\right], 2.036 \\right] \\\\ \\left[ 0.246, \\left[ 0.247, 0.252 \\right], 0.254 \\right] & \\left[ 0.488, \\left[ 0.493,  0.51 \\right], 0.514 \\right] & \\left[   1.0, \\left[   1.0,   1.0 \\right],   1.0 \\right] & \\left[ 0.969, \\left[ 0.984, 1.017 \\right], 1.027 \\right] \\\\ \\left[ 0.246, \\left[ 0.247, 0.252 \\right], 0.253 \\right] & \\left[ 0.491, \\left[ 0.492, 0.507 \\right], 0.513 \\right] & \\left[ 0.973, \\left[ 0.983, 1.016 \\right], 1.032 \\right] & \\left[   1.0, \\left[   1.0,   1.0 \\right],   1.0 \\right] \\end{bmatrix}\n",
      "\n"
     ]
    }
   ],
   "source": [
    "A = [\n",
    "    1 2 4 4\n",
    "    1/2 1 2 2\n",
    "    1/4 1/2 1 1\n",
    "    1/4 1/2 1 1\n",
    "]\n",
    "\n",
    "A₁ = randamizedIntervalPCM(A, 1234, 3e-2)\n",
    "A₂ = randamizedIntervalPCM(A, 134, 3e-2)\n",
    "\n",
    "println(\"A_1 = $(intervalMatrixLaTeXString(A₁))\")\n",
    "println()\n",
    "println(\"A_2 = $(intervalMatrixLaTeXString(A₂))\")\n",
    "println()\n",
    "\n",
    "displayAll(A₁, A₂)"
   ]
  },
  {
   "attachments": {},
   "cell_type": "markdown",
   "id": "4411cc16",
   "metadata": {},
   "source": [
    "# example 4"
   ]
  },
  {
   "cell_type": "code",
   "execution_count": 13,
   "id": "789d049c",
   "metadata": {},
   "outputs": [
    {
     "name": "stdout",
     "output_type": "stream",
     "text": [
      "A_1 = \\begin{bmatrix} \\left[ 1.0, 1.0 \\right] & \\left[ 1.415, 2.501 \\right] & \\left[ 2.252, 4.04 \\right] & \\left[ 8.141, 13.465 \\right] \\\\ \\left[ 0.4, 0.707 \\right] & \\left[ 1.0, 1.0 \\right] & \\left[ 2.122, 3.056 \\right] & \\left[ 6.481, 8.402 \\right] \\\\ \\left[ 0.248, 0.444 \\right] & \\left[ 0.327, 0.471 \\right] & \\left[ 1.0, 1.0 \\right] & \\left[ 2.174, 3.356 \\right] \\\\ \\left[ 0.074, 0.123 \\right] & \\left[ 0.119, 0.154 \\right] & \\left[ 0.298, 0.46 \\right] & \\left[ 1.0, 1.0 \\right] \\end{bmatrix}\n",
      "\n",
      "A_2 = \\begin{bmatrix} \\left[ 1.0, 1.0 \\right] & \\left[ 1.547, 2.232 \\right] & \\left[ 2.233, 3.723 \\right] & \\left[ 8.746, 12.652 \\right] \\\\ \\left[ 0.448, 0.646 \\right] & \\left[ 1.0, 1.0 \\right] & \\left[ 2.28, 3.644 \\right] & \\left[ 5.559, 10.701 \\right] \\\\ \\left[ 0.269, 0.448 \\right] & \\left[ 0.274, 0.439 \\right] & \\left[ 1.0, 1.0 \\right] & \\left[ 2.759, 3.774 \\right] \\\\ \\left[ 0.079, 0.114 \\right] & \\left[ 0.093, 0.18 \\right] & \\left[ 0.265, 0.362 \\right] & \\left[ 1.0, 1.0 \\right] \\end{bmatrix}\n",
      "\n",
      "\\mathscr{A}^1 = \\begin{bmatrix} \\left[   1.0, \\left[   1.0,   1.0 \\right],   1.0 \\right] & \\left[ 1.036, \\emptyset, 2.501 \\right] & \\left[ 2.233, \\left[ 3.709, 3.723 \\right], 5.518 \\right] & \\left[ 8.141, \\left[ 9.718, 10.847 \\right], 15.174 \\right] \\\\ \\left[   0.4, \\emptyset, 0.966 \\right] & \\left[   1.0, \\left[   1.0,   1.0 \\right],   1.0 \\right] & \\left[ 1.288, \\emptyset, 3.644 \\right] & \\left[ 4.995, \\emptyset, 10.701 \\right] \\\\ \\left[ 0.181, \\left[ 0.269,  0.27 \\right], 0.448 \\right] & \\left[ 0.274, \\emptyset, 0.776 \\right] & \\left[   1.0, \\left[   1.0,   1.0 \\right],   1.0 \\right] & \\left[  2.02, \\emptyset, 5.279 \\right] \\\\ \\left[ 0.066, \\left[ 0.092, 0.103 \\right], 0.123 \\right] & \\left[ 0.093, \\emptyset,   0.2 \\right] & \\left[ 0.189, \\emptyset, 0.495 \\right] & \\left[   1.0, \\left[   1.0,   1.0 \\right],   1.0 \\right] \\end{bmatrix}\n",
      "\n",
      "\\mathscr{A}^2 = \\begin{bmatrix} \\left[   1.0, \\left[   1.0,   1.0 \\right],   1.0 \\right] & \\left[ 1.415, \\left[ 1.547, 1.633 \\right], 2.501 \\right] & \\left[ 2.233, \\left[ 3.679, 3.723 \\right],  5.38 \\right] & \\left[ 8.141, \\left[ 10.458, 12.494 \\right], 15.799 \\right] \\\\ \\left[   0.4, \\left[ 0.612, 0.646 \\right], 0.707 \\right] & \\left[   1.0, \\left[   1.0,   1.0 \\right],   1.0 \\right] & \\left[ 0.932, \\left[  2.28, 2.378 \\right], 3.644 \\right] & \\left[ 3.396, \\left[ 6.481, 7.979 \\right], 10.701 \\right] \\\\ \\left[ 0.186, \\left[ 0.269, 0.272 \\right], 0.448 \\right] & \\left[ 0.274, \\left[ 0.421, 0.439 \\right], 1.073 \\right] & \\left[   1.0, \\left[   1.0,   1.0 \\right],   1.0 \\right] & \\left[ 1.579, \\left[ 2.843, 3.356 \\right], 6.778 \\right] \\\\ \\left[ 0.063, \\left[  0.08, 0.096 \\right], 0.123 \\right] & \\left[ 0.093, \\left[ 0.125, 0.154 \\right], 0.294 \\right] & \\left[ 0.148, \\left[ 0.298, 0.352 \\right], 0.633 \\right] & \\left[   1.0, \\left[   1.0,   1.0 \\right],   1.0 \\right] \\end{bmatrix}\n",
      "\n",
      "\\mathscr{A}^3 = \\begin{bmatrix} \\left[   1.0, \\left[   1.0,   1.0 \\right],   1.0 \\right] & \\left[ 1.415, \\left[ 1.547, 1.884 \\right], 2.238 \\right] & \\left[ 2.827, \\left[ 3.706,  4.04 \\right], 4.864 \\right] & \\left[ 9.772, \\left[ 10.226, 13.468 \\right], 13.505 \\right] \\\\ \\left[ 0.447, \\left[ 0.531, 0.646 \\right], 0.707 \\right] & \\left[   1.0, \\left[   1.0,   1.0 \\right],   1.0 \\right] & \\left[ 1.417, \\left[ 1.776, 2.545 \\right], 3.064 \\right] & \\left[   4.9, \\left[ 5.821, 8.141 \\right], 8.509 \\right] \\\\ \\left[ 0.206, \\left[ 0.248,  0.27 \\right], 0.354 \\right] & \\left[ 0.326, \\left[ 0.393, 0.563 \\right], 0.706 \\right] & \\left[   1.0, \\left[   1.0,   1.0 \\right],   1.0 \\right] & \\left[ 2.254, \\left[ 2.714, 3.399 \\right], 4.259 \\right] \\\\ \\left[ 0.074, \\left[ 0.074, 0.098 \\right], 0.102 \\right] & \\left[ 0.118, \\left[ 0.123, 0.172 \\right], 0.204 \\right] & \\left[ 0.235, \\left[ 0.294, 0.368 \\right], 0.444 \\right] & \\left[   1.0, \\left[   1.0,   1.0 \\right],   1.0 \\right] \\end{bmatrix}\n",
      "\n",
      "\\mathscr{A}^4 = \\begin{bmatrix} \\left[   1.0, \\left[   1.0,   1.0 \\right],   1.0 \\right] & \\left[ 1.415, \\left[ 1.547, 1.884 \\right], 2.232 \\right] & \\left[ 2.252, \\left[ 3.562,  4.04 \\right],  4.85 \\right] & \\left[ 8.746, \\left[ 10.174, 13.336 \\right], 13.465 \\right] \\\\ \\left[ 0.448, \\left[ 0.531, 0.646 \\right], 0.707 \\right] & \\left[   1.0, \\left[   1.0,   1.0 \\right],   1.0 \\right] & \\left[  1.07, \\left[ 2.122, 2.545 \\right], 3.056 \\right] & \\left[ 4.191, \\left[  6.29, 8.402 \\right], 8.483 \\right] \\\\ \\left[ 0.206, \\left[ 0.248, 0.281 \\right], 0.444 \\right] & \\left[ 0.327, \\left[ 0.393, 0.471 \\right], 0.934 \\right] & \\left[   1.0, \\left[   1.0,   1.0 \\right],   1.0 \\right] & \\left[ 1.883, \\left[ 2.759, 3.399 \\right],  5.33 \\right] \\\\ \\left[ 0.074, \\left[ 0.075, 0.098 \\right], 0.114 \\right] & \\left[ 0.118, \\left[ 0.119, 0.159 \\right], 0.239 \\right] & \\left[ 0.188, \\left[ 0.294, 0.362 \\right], 0.531 \\right] & \\left[   1.0, \\left[   1.0,   1.0 \\right],   1.0 \\right] \\end{bmatrix}\n",
      "\n"
     ]
    }
   ],
   "source": [
    "A = [\n",
    "    1 2 3 10\n",
    "    1/2 1 3 8\n",
    "    1/3 1/3 1 3\n",
    "    1/10 1/8 1/3 1\n",
    "]\n",
    "\n",
    "A₁ = randamizedIntervalPCM(A, 124, 4e-1)\n",
    "A₂ = randamizedIntervalPCM(A, 411, 4e-1)\n",
    "\n",
    "println(\"A_1 = $(intervalMatrixLaTeXString(A₁))\")\n",
    "println()\n",
    "println(\"A_2 = $(intervalMatrixLaTeXString(A₂))\")\n",
    "println()\n",
    "\n",
    "displayAll(A₁, A₂)"
   ]
  },
  {
   "cell_type": "code",
   "execution_count": null,
   "id": "0e637524",
   "metadata": {},
   "outputs": [],
   "source": []
  }
 ],
 "metadata": {
  "kernelspec": {
   "display_name": "Julia 1.8.5",
   "language": "julia",
   "name": "julia-1.8"
  },
  "language_info": {
   "file_extension": ".jl",
   "mimetype": "application/julia",
   "name": "julia",
   "version": "1.8.5"
  },
  "vscode": {
   "interpreter": {
    "hash": "d4d1e4263499bec80672ea0156c357c1ee493ec2b1c70f0acce89fc37c4a6abe"
   }
  }
 },
 "nbformat": 4,
 "nbformat_minor": 5
}
