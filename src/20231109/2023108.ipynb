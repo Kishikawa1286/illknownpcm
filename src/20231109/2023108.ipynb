{
 "cells": [
  {
   "cell_type": "markdown",
   "metadata": {},
   "source": [
    "# 2023 / 11 / 08\n",
    "\n",
    "石川健太郎"
   ]
  },
  {
   "cell_type": "markdown",
   "metadata": {},
   "source": [
    "$a_{ij}$ が小さくなるような代替案 $i$ が優先的に修正される.\n",
    "\n",
    "前回は, 非線形モデルを用いると理論通りにこの偏りがなくなることが確認できた.\n",
    "\n",
    "これらを比較する.\n",
    "- 非線形モデルで求めた修正量\n",
    "- 重み付き線形モデルで求めた修正量"
   ]
  },
  {
   "cell_type": "markdown",
   "metadata": {},
   "source": [
    "## 元の式\n",
    "\n",
    "二重区間 PCM $A$ から区間重要度ベクトルを求めることができないときに, $A$ を修正して, 中心の和が $1$ の区間重要度ベクトル $W$ をもつ二重区間 PCM $\\mathscr{A}$ を得る.\n",
    "\n",
    "$$\n",
    "\\begin{align*}\n",
    "\\text{元の二重区間 PCM: }\n",
    "& A = \\left( A_{ij}^-, A_{ij}^+ \\right) = \\left( \\left[ a_{ij}^\\mathrm{L-}, a_{ij}^\\mathrm{U-} \\right] , \\left[ a_{ij}^\\mathrm{L+}, a_{ij}^\\mathrm{U+} \\right] \\right)\n",
    "\\\\\n",
    "\\text{修正後の二重区間 PCM: }\n",
    "& \\mathscr{A} = \\left( \\mathscr{A}_{ij}^-, \\mathscr{A}_{ij}^+ \\right) = \\left( \\left[ \\alpha_{ij}^\\mathrm{L-}, \\alpha_{ij}^\\mathrm{U-} \\right] , \\left[ \\alpha_{ij}^\\mathrm{L+}, \\alpha_{ij}^\\mathrm{U+} \\right] \\right)\n",
    "\\\\\n",
    "\\text{区間重要度: }\n",
    "& W = (W_i) = \\left( \\left[ w_i^\\mathrm{L}, w_i^\\mathrm{U} \\right] \\right)\n",
    "\\end{align*}\n",
    "$$"
   ]
  },
  {
   "cell_type": "markdown",
   "metadata": {},
   "source": [
    "$$\n",
    "\\begin{align*}\n",
    "\\text{minimize} ~~ & ~~\n",
    "\\sum_{i \\in N} \\left( \\varepsilon_i^\\mathrm{L} + \\varepsilon_i^\\mathrm{U} \\right),\n",
    "\\\\ \\text{subject to} ~~ & ~~\n",
    "a_{ij}^\\mathrm{L+} w_j^\\mathrm{U} - \\varepsilon_i^\\mathrm{L} \\leq w_i^\\mathrm{L} \\leq a_{ij}^\\mathrm{L-} w_j^\\mathrm{U} + \\varepsilon_i^\\mathrm{L}, &&\n",
    "i, j \\in N, ~~ i \\neq j, \\\\ & ~~\n",
    "a_{ij}^\\mathrm{U-} w_j^\\mathrm{L} - \\varepsilon_i^\\mathrm{U} \\leq w_i^\\mathrm{U} \\leq a_{ij}^\\mathrm{U+} w_j^\\mathrm{L} + \\varepsilon_i^\\mathrm{U}, &&\n",
    "i, j \\in N, ~~ i \\neq j, \\\\ & ~~\n",
    "\\varepsilon_i^\\mathrm{L} \\geq w_i^\\mathrm{L+} - w_i^\\mathrm{L-}, ~~\n",
    "\\varepsilon_i^\\mathrm{U} \\geq w_i^\\mathrm{U-} - w_i^\\mathrm{U+}, &&\n",
    "i \\in N, \\\\ & ~~\n",
    "w_i^\\mathrm{L-} \\leq a_{ij}^\\mathrm{L-} w_j^\\mathrm{U} , ~~\n",
    "w_i^\\mathrm{U-} \\geq a_{ij}^\\mathrm{U-} w_j^\\mathrm{L}, &&\n",
    "i, j \\in N, ~~ i \\neq j, \\\\ & ~~\n",
    "w_i^\\mathrm{L+} \\geq a_{ij}^\\mathrm{L+} w_j^\\mathrm{U}, ~~\n",
    "w_i^\\mathrm{U+} \\leq a_{ij}^\\mathrm{U+} w_j^\\mathrm{L}, &&\n",
    "i, j \\in N, ~~ i \\neq j, \\\\ & ~~\n",
    "\\sum_{j \\in N \\backslash \\{i\\}} \\left( w_j^\\mathrm{U} \\right) + w_i^\\mathrm{L} \\geq 1, ~~\n",
    "\\sum_{j \\in N \\backslash \\{i\\}} \\left( w_j^\\mathrm{L} \\right) + w_i^\\mathrm{U} \\leq 1, &&\n",
    "i \\in N, \\\\ & ~~\n",
    "\\sum_{i \\in N} \\left( w_i^\\mathrm{L} + w_i^\\mathrm{U} \\right) = 2,\n",
    "\\\\ & ~~\n",
    "w_i^\\mathrm{U} \\geq w_i^\\mathrm{L} \\geq \\epsilon, ~~\n",
    "w_i^\\mathrm{L-}, w_i^\\mathrm{U-}, w_i^\\mathrm{L+}, w_i^\\mathrm{U+} \\geq \\epsilon, ~~\n",
    "\\varepsilon_i^\\mathrm{L}, \\varepsilon_i^\\mathrm{U} \\geq 0, &&\n",
    "i \\in N. \n",
    "\\end{align*}\n",
    "$$"
   ]
  },
  {
   "cell_type": "markdown",
   "metadata": {},
   "source": [
    "線形計画問題の最適解から $\\mathscr{A}$ を求める.\n",
    "\n",
    "$$\n",
    "\\begin{align*}\n",
    "\\alpha_{ij}^\\mathrm{L-} & = \\max \\left( a_{ij}^\\mathrm{L-}, \\frac{w_i^\\mathrm{L+}}{w_j^\\mathrm{U}}, \\frac{w_i^\\mathrm{L}}{w_j^\\mathrm{U+}} \\right), &&\n",
    "i \\in N, ~~ i \\neq j, \\\\\n",
    "\\alpha_{ij}^\\mathrm{U-} & = \\min \\left( a_{ij}^\\mathrm{U-}, \\frac{w_i^\\mathrm{U+}}{w_j^\\mathrm{L}}, \\frac{w_i^\\mathrm{U}}{w_j^\\mathrm{L+}} \\right), &&\n",
    "i \\in N, ~~ i \\neq j, \\\\\n",
    "\\alpha_{ij}^\\mathrm{L+} & = \\min \\left( a_{ij}^\\mathrm{L+}, \\frac{w_i^\\mathrm{L+}}{w_j^\\mathrm{U}}, \\frac{w_i^\\mathrm{L}}{w_j^\\mathrm{U-}} \\right), &&\n",
    "i \\in N, ~~ i \\neq j, \\\\\n",
    "\\alpha_{ij}^\\mathrm{U+} & = \\max \\left( a_{ij}^\\mathrm{U-}, \\frac{w_i^\\mathrm{U-}}{w_j^\\mathrm{L}}, \\frac{w_i^\\mathrm{U}}{w_j^\\mathrm{L-}} \\right), &&\n",
    "i \\in N, ~~ i \\neq j.\n",
    "\\end{align*}\n",
    "$$\n",
    "\n",
    "次の関係が成り立つことに注意.\n",
    "\n",
    "$$\n",
    "\\begin{align*}\n",
    "w_i^\\mathrm{L-} = w_i^\\mathrm{L+} - \\varepsilon_i^\\mathrm{L}, &&\n",
    "i \\in N, \\\\\n",
    "w_i^\\mathrm{U-} = w_i^\\mathrm{U+} + \\varepsilon_i^\\mathrm{U}, &&\n",
    "i \\in N.\n",
    "\\end{align*}\n",
    "$$"
   ]
  },
  {
   "cell_type": "markdown",
   "metadata": {},
   "source": [
    "## 対数スケールで修正する式\n",
    "\n",
    "$$\n",
    "\\begin{align*}\n",
    "\\text{minimize} ~~ & ~~\n",
    "\\sum_{i \\in N} \\left( \\varepsilon_i^\\mathrm{L} + \\varepsilon_i^\\mathrm{U} \\right),\n",
    "\\\\ \\text{subject to} ~~ & ~~\n",
    "\\ln a_{ij}^\\mathrm{L+} + \\ln w_j^\\mathrm{U} - \\varepsilon_i^\\mathrm{L} \\leq \\ln w_i^\\mathrm{L} \\leq \\ln a_{ij}^\\mathrm{L-} + \\ln w_j^\\mathrm{U} + \\varepsilon_i^\\mathrm{L}, &&\n",
    "i, j \\in N, ~~ i \\neq j, \\\\ & ~~\n",
    "\\ln a_{ij}^\\mathrm{U-} + \\ln w_j^\\mathrm{L} - \\varepsilon_i^\\mathrm{U} \\leq \\ln w_i^\\mathrm{U} \\leq \\ln a_{ij}^\\mathrm{U+} + \\ln w_j^\\mathrm{L} + \\varepsilon_i^\\mathrm{U}, &&\n",
    "i, j \\in N, ~~ i \\neq j, \\\\ & ~~\n",
    "\\varepsilon_i^\\mathrm{L} \\geq \\ln w_i^\\mathrm{L+} - \\ln w_i^\\mathrm{L-}, ~~\n",
    "\\varepsilon_i^\\mathrm{U} \\geq \\ln w_i^\\mathrm{U-} - \\ln w_i^\\mathrm{U+}, &&\n",
    "i \\in N, \\\\ & ~~\n",
    "w_i^\\mathrm{L-} \\leq a_{ij}^\\mathrm{L-} w_j^\\mathrm{U} , ~~\n",
    "w_i^\\mathrm{U-} \\geq a_{ij}^\\mathrm{U-} w_j^\\mathrm{L}, &&\n",
    "i, j \\in N, ~~ i \\neq j, \\\\ & ~~\n",
    "w_i^\\mathrm{L+} \\geq a_{ij}^\\mathrm{L+} w_j^\\mathrm{U}, ~~\n",
    "w_i^\\mathrm{U+} \\leq a_{ij}^\\mathrm{U+} w_j^\\mathrm{L}, &&\n",
    "i, j \\in N, ~~ i \\neq j, \\\\ & ~~\n",
    "\\sum_{j \\in N \\backslash \\{i\\}} \\left( w_j^\\mathrm{U} \\right) + w_i^\\mathrm{L} \\geq 1, ~~\n",
    "\\sum_{j \\in N \\backslash \\{i\\}} \\left( w_j^\\mathrm{L} \\right) + w_i^\\mathrm{U} \\leq 1, &&\n",
    "i \\in N, \\\\ & ~~\n",
    "\\sum_{i \\in N} \\left( w_i^\\mathrm{L} + w_i^\\mathrm{U} \\right) = 2,\n",
    "\\\\ & ~~\n",
    "w_i^\\mathrm{U} \\geq w_i^\\mathrm{L} \\geq \\epsilon, ~~\n",
    "w_i^\\mathrm{L-}, w_i^\\mathrm{U-}, w_i^\\mathrm{L+}, w_i^\\mathrm{U+} \\geq \\epsilon, ~~\n",
    "\\varepsilon_i^\\mathrm{L}, \\varepsilon_i^\\mathrm{U} \\geq 0, &&\n",
    "i \\in N. \n",
    "\\end{align*}\n",
    "$$"
   ]
  },
  {
   "cell_type": "markdown",
   "metadata": {},
   "source": [
    "## 目的関数に重み付けする式"
   ]
  },
  {
   "cell_type": "markdown",
   "metadata": {},
   "source": [
    "重みを $\\hat{w}_i^\\mathrm{L}, \\hat{w}_i^\\mathrm{U}, ~ i \\in N, ~~ \\sum_{i \\in N} \\hat{w}_i^\\mathrm{L} = 1, ~~  \\sum_{i \\in N} \\hat{w}_i^\\mathrm{U} = 1$ とする.\n",
    "\n",
    "$$\n",
    "\\begin{align*}\n",
    "\\text{minimize} ~~ & ~~\n",
    "\\sum_{i \\in N} \\left( \\hat{w}_i^\\mathrm{L} \\varepsilon_i^\\mathrm{L} + \\hat{w}_i^\\mathrm{U} \\varepsilon_i^\\mathrm{U} \\right),\n",
    "\\\\ \\text{subject to} ~~ & ~~\n",
    "a_{ij}^\\mathrm{L+} w_j^\\mathrm{U} - \\varepsilon_i^\\mathrm{L} \\leq w_i^\\mathrm{L} \\leq a_{ij}^\\mathrm{L-} w_j^\\mathrm{U} + \\varepsilon_i^\\mathrm{L}, &&\n",
    "i, j \\in N, ~~ i \\neq j, \\\\ & ~~\n",
    "a_{ij}^\\mathrm{U-} w_j^\\mathrm{L} - \\varepsilon_i^\\mathrm{U} \\leq w_i^\\mathrm{U} \\leq a_{ij}^\\mathrm{U+} w_j^\\mathrm{L} + \\varepsilon_i^\\mathrm{U}, &&\n",
    "i, j \\in N, ~~ i \\neq j, \\\\ & ~~\n",
    "\\varepsilon_i^\\mathrm{L} \\geq w_i^\\mathrm{L+} - w_i^\\mathrm{L-}, ~~\n",
    "\\varepsilon_i^\\mathrm{U} \\geq w_i^\\mathrm{U-} - w_i^\\mathrm{U+}, &&\n",
    "i \\in N, \\\\ & ~~\n",
    "w_i^\\mathrm{L-} \\leq a_{ij}^\\mathrm{L-} w_j^\\mathrm{U} , ~~\n",
    "w_i^\\mathrm{U-} \\geq a_{ij}^\\mathrm{U-} w_j^\\mathrm{L}, &&\n",
    "i, j \\in N, ~~ i \\neq j, \\\\ & ~~\n",
    "w_i^\\mathrm{L+} \\geq a_{ij}^\\mathrm{L+} w_j^\\mathrm{U}, ~~\n",
    "w_i^\\mathrm{U+} \\leq a_{ij}^\\mathrm{U+} w_j^\\mathrm{L}, &&\n",
    "i, j \\in N, ~~ i \\neq j, \\\\ & ~~\n",
    "\\sum_{j \\in N \\backslash \\{i\\}} \\left( w_j^\\mathrm{U} \\right) + w_i^\\mathrm{L} \\geq 1, ~~\n",
    "\\sum_{j \\in N \\backslash \\{i\\}} \\left( w_j^\\mathrm{L} \\right) + w_i^\\mathrm{U} \\leq 1, &&\n",
    "i \\in N, \\\\ & ~~\n",
    "\\sum_{i \\in N} \\left( w_i^\\mathrm{L} + w_i^\\mathrm{U} \\right) = 2,\n",
    "\\\\ & ~~\n",
    "w_i^\\mathrm{U} \\geq w_i^\\mathrm{L} \\geq \\epsilon, ~~\n",
    "w_i^\\mathrm{L-}, w_i^\\mathrm{U-}, w_i^\\mathrm{L+}, w_i^\\mathrm{U+} \\geq \\epsilon, ~~\n",
    "\\varepsilon_i^\\mathrm{L}, \\varepsilon_i^\\mathrm{U} \\geq 0, &&\n",
    "i \\in N. \n",
    "\\end{align*}\n",
    "$$"
   ]
  },
  {
   "cell_type": "markdown",
   "metadata": {},
   "source": [
    "### 重みなしで求めた $W_i = \\left( \\left[ w_i^\\mathrm{L}, w_i^\\mathrm{U} \\right] \\right)$ を重みにする\n",
    "\n",
    "一度重みなしで計算すると, 中心の和が $1$ の区間ベクトル $W_i = \\left( \\left[ w_i^\\mathrm{L}, w_i^\\mathrm{U} \\right] \\right)$ が得られる.\n",
    "\n",
    "$\\hat{w}_i^\\mathrm{L} = 1 / w_i^\\mathrm{L}, \\hat{w}_i^\\mathrm{U} = 1 / w_i^\\mathrm{U}, ~~ i \\in N$ とする."
   ]
  },
  {
   "cell_type": "markdown",
   "metadata": {},
   "source": [
    "### 二重区間 PCM $\\mathscr{A}$ から上近似の区間重要度 $W^+$ を計算する"
   ]
  },
  {
   "cell_type": "markdown",
   "metadata": {},
   "source": [
    "下近似 ($W_i^- / W_j^- \\subseteq \\mathscr{A}_{ij}^-$) は不整合性のために存在しない場合があるため, 上近似のみを使う."
   ]
  },
  {
   "cell_type": "markdown",
   "metadata": {},
   "source": [
    "$$\n",
    "\\begin{align*}\n",
    "\\operatorname{minimize} ~~ & ~~\n",
    "\\sum_{i \\in N} \\left( w_i^\\mathrm{U+} - w_i^\\mathrm{L+} \\right), \\\\\n",
    "\\text{subject to} ~~ & ~~\n",
    "w_i^\\mathrm{L+} \\leq a_{ij}^\\mathrm{L+} w_j^\\mathrm{U+}, ~~\n",
    "a_{ij}^\\mathrm{U+} w_j^\\mathrm{L+} \\leq w_i^\\mathrm{U+}, &&\n",
    "i, j \\in N, ~ i \\neq j, \\\\ & ~~\n",
    "\\sum_{j \\in N \\backslash \\{i\\}} \\left( w_j^\\mathrm{U+} \\right) + w_i^\\mathrm{L+} \\geq 1, ~~\n",
    "\\sum_{j \\in N \\backslash \\{i\\}} \\left( w_j^\\mathrm{L+} \\right) + w_i^\\mathrm{U+} \\leq 1, &&\n",
    "i \\in N, \\\\ & ~~\n",
    "\\sum_{i \\in N} \\left( w_i^\\mathrm{L+} + w_i^\\mathrm{U+} \\right) = 2, \\\\ & ~~\n",
    "\\epsilon \\leq w_i^\\mathrm{L+} \\leq w_i^\\mathrm{U+}, &&\n",
    "i \\in N.\n",
    "\\end{align*}\n",
    "$$"
   ]
  },
  {
   "cell_type": "markdown",
   "metadata": {},
   "source": [
    "$$\n",
    "\\hat{w}_i^\\mathrm{L} = \\frac{1}{w_i^\\mathrm{L+}}, ~~\n",
    "\\hat{w}_i^\\mathrm{U} = \\frac{1}{w_i^\\mathrm{U+}}.\n",
    "$$"
   ]
  },
  {
   "cell_type": "markdown",
   "metadata": {},
   "source": [
    "### PCM から重みを計算する\n",
    "\n",
    "$$\n",
    "\\begin{align*}\n",
    "\\bar{a}_{ij}^\\mathrm{L} & = \\sqrt{ a_{ij}^\\mathrm{L-} a_{ij}^\\mathrm{L+} }, && i \\in N, \\\\\n",
    "\\bar{a}_{ij}^\\mathrm{U} & = \\sqrt{ a_{ij}^\\mathrm{U-} a_{ij}^\\mathrm{U+} }, && i \\in N, \\\\\n",
    "\\bar{a}_{ij}^\\mathrm{C} & = \\sqrt{ \\bar{a}_{ij}^\\mathrm{L} \\bar{a}_{ij}^\\mathrm{U} }, && i \\in N.\n",
    "\\end{align*}\n",
    "$$"
   ]
  },
  {
   "cell_type": "markdown",
   "metadata": {},
   "source": [
    "$$\n",
    "\\begin{align*}\n",
    "\\bar{w}_i^\\mathrm{L} = \\frac{\\left( \\prod_{i \\in N} \\bar{a}_{ij}^\\mathrm{L} \\right)^\\frac{1}{n}}{\\sum_{j \\in N} \\left( \\prod_{k \\in N} \\bar{a}_{jk}^\\mathrm{C} \\right)^\\frac{1}{n}}, && i \\in N, \\\\\n",
    "\\bar{w}_i^\\mathrm{U} = \\frac{\\left( \\prod_{i \\in N} \\bar{a}_{ij}^\\mathrm{U} \\right)^\\frac{1}{n}}{\\sum_{j \\in N} \\left( \\prod_{k \\in N} \\bar{a}_{jk}^\\mathrm{C} \\right)^\\frac{1}{n}}, && i \\in N.\n",
    "\\end{align*}\n",
    "$$"
   ]
  },
  {
   "cell_type": "markdown",
   "metadata": {},
   "source": [
    "求めた $\\bar{W} = \\left( \\left[ \\bar{w}_i^\\mathrm{L}, \\bar{w}_i^\\mathrm{U} \\right] \\right)$ を正規性を満たすように変更したものを重みにする.\n",
    "\n",
    "$$\n",
    "\\begin{align*}\n",
    "\\hat{w}_i^\\mathrm{L} = \\left( \\max \\left( \\bar{w}_i^\\mathrm{L}, 1 - \\sum_{j \\in N, ~ j \\neq i} \\bar{w}_j^\\mathrm{U} \\right) \\right)^{-1}, && i \\in N, \\\\\n",
    "\\hat{w}_i^\\mathrm{U} = \\left( \\min \\left( \\bar{w}_i^\\mathrm{U}, 1 - \\sum_{j \\in N, ~ j \\neq i} \\bar{w}_j^\\mathrm{L} \\right) \\right)^{-1}, && i \\in N.\n",
    "\\end{align*}\n",
    "$$"
   ]
  },
  {
   "cell_type": "markdown",
   "metadata": {},
   "source": []
  }
 ],
 "metadata": {
  "kernelspec": {
   "display_name": "Julia 1.9.1",
   "language": "julia",
   "name": "julia-1.9"
  },
  "language_info": {
   "file_extension": ".jl",
   "mimetype": "application/julia",
   "name": "julia",
   "version": "1.9.1"
  }
 },
 "nbformat": 4,
 "nbformat_minor": 2
}
