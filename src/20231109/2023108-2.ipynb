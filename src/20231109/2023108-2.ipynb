{
 "cells": [
  {
   "cell_type": "markdown",
   "metadata": {},
   "source": [
    "## シミュレーション内容"
   ]
  },
  {
   "cell_type": "markdown",
   "metadata": {},
   "source": [
    "1. 二重区間 PCM $\\mathscr{A} = \\left( \\left( \\mathscr{A}_{ij}^-, \\mathscr{A}_{ij}^+ \\right) \\right)$ を生成する\n",
    "2. 各手法で計算\n",
    "3. $w_i^\\mathrm{C}$ 対 $\\varepsilon_i^\\mathrm{L} + \\varepsilon_i^\\mathrm{U}$ のヒートマップのプロット\n",
    "\n",
    "$$\n",
    "\\bar{a}_{ij}^\\mathrm{C} := \\left( a_{ij}^\\mathrm{L+} a_{ij}^\\mathrm{L-} a_{ij}^\\mathrm{U-} a_{ij}^\\mathrm{U+} \\right)^\\frac{1}{4}, \\quad i \\in N\n",
    "$$\n",
    "\n",
    "$w_i^\\mathrm{C}, ~ i \\in N$ は crisp PCM $\\bar{A} = \\left( \\bar{a}_{ij}^\\mathrm{C} \\right)$ の幾何平均法の重要度"
   ]
  },
  {
   "cell_type": "markdown",
   "metadata": {},
   "source": [
    "## 考察"
   ]
  },
  {
   "cell_type": "markdown",
   "metadata": {},
   "source": [
    "- $w_i^\\mathrm{C}$ が大きい $i$ の修正量 $\\varepsilon_i^\\mathrm{L} + \\varepsilon_i^\\mathrm{U}$ が重みづけによって増加した\n",
    "    - 偏りの補正の効果は見られる"
   ]
  },
  {
   "cell_type": "markdown",
   "metadata": {},
   "source": [
    "- いずれの重みの定め方でも同様の結果が得られた\n",
    "    - 計算が最も軽量な PCM から求める方法を使うべき"
   ]
  },
  {
   "cell_type": "markdown",
   "metadata": {},
   "source": [
    "- 非線形モデルと重みづけ線形モデルの修正量 $\\varepsilon_i^\\mathrm{L} + \\varepsilon_i^\\mathrm{U}$ は似ていない\n",
    "    - 理想的な挙動ではない"
   ]
  },
  {
   "cell_type": "markdown",
   "metadata": {},
   "source": [
    "- 非線形モデルの修正量 $\\varepsilon_i^\\mathrm{L} + \\varepsilon_i^\\mathrm{U}$ と重みづけ線形モデルの重み付き修正量 $\\hat{w}_i^\\mathrm{L} \\varepsilon_i^\\mathrm{L} + \\hat{w}_i^\\mathrm{U} \\varepsilon_i^\\mathrm{U}$ が非常に似ている\n",
    "    - 実際の修正量は $\\hat{w}_i^\\mathrm{L} \\varepsilon_i^\\mathrm{L} + \\hat{w}_i^\\mathrm{U} \\varepsilon_i^\\mathrm{U}$ ではなく $\\varepsilon_i^\\mathrm{L} + \\varepsilon_i^\\mathrm{U}$"
   ]
  }
 ],
 "metadata": {
  "kernelspec": {
   "display_name": "Julia 1.9.1",
   "language": "julia",
   "name": "julia-1.9"
  },
  "language_info": {
   "file_extension": ".jl",
   "mimetype": "application/julia",
   "name": "julia",
   "version": "1.9.1"
  }
 },
 "nbformat": 4,
 "nbformat_minor": 2
}
