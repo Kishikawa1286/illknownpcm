{
 "cells": [
  {
   "attachments": {},
   "cell_type": "markdown",
   "id": "861633f4-1250-459f-a30a-a7b79b59f811",
   "metadata": {},
   "source": [
    "# 2022 / 12 / 25"
   ]
  },
  {
   "cell_type": "code",
   "execution_count": 1,
   "id": "cc9c2ab8-e95b-4b69-9229-5be8a94d9517",
   "metadata": {},
   "outputs": [],
   "source": [
    "using IntervalArithmetic\n",
    "using LaTeXStrings"
   ]
  },
  {
   "cell_type": "code",
   "execution_count": 2,
   "id": "31f113d6-703e-4d94-8bf6-6f29a91a5859",
   "metadata": {},
   "outputs": [
    {
     "data": {
      "text/plain": [
       "intervalPCM2TwofoldIntervalPCM"
      ]
     },
     "metadata": {},
     "output_type": "display_data"
    }
   ],
   "source": [
    "include(\"./concatImportanceMethod/concatImportanceMethod.jl\")\n",
    "include(\"./display/concatImportanceMethod.jl\")\n",
    "include(\"./display/interval.jl\")\n",
    "include(\"./display/twofoldInterval.jl\")\n",
    "include(\"./twofoldIntervalPCM/twofoldIntervalPCM.jl\")"
   ]
  },
  {
   "cell_type": "code",
   "execution_count": 3,
   "id": "0641976a-5193-49af-b922-28624f8155ca",
   "metadata": {},
   "outputs": [
    {
     "data": {
      "text/plain": [
       "concatImportanceMethod (generic function with 1 method)"
      ]
     },
     "metadata": {},
     "output_type": "display_data"
    }
   ],
   "source": [
    "function concatImportanceMethod(A₁::Matrix{Interval{T}}, A₂::Matrix{Interval{T}}) where {T <: Real}\n",
    "    approximationResults = solveConcatImportanceMethodApproximationLP.([A₁, A₂])\n",
    "    display(L\"\\text{各DMの上近似と下近似}\")\n",
    "    displayConcatImportanceMethodApproximationLPResults(approximationResults)\n",
    "\n",
    "    tBoundaries = calculateConcatImportanceMethodTBoundaries.(approximationResults)\n",
    "    display(L\"\\text{各DMの上近似と下近似の}t\\text{の範囲}\")\n",
    "    displayConcatImportanceMethodTBoundaries(tBoundaries)\n",
    "\n",
    "    result = solveConcatImportanceMethodConcatLP(approximationResults, tBoundaries)\n",
    "    display(L\"\\text{LPの最適解}\")\n",
    "    displayConcatImportanceMethodConcatLPResult(result)\n",
    "\n",
    "    Â = generateConcatImportanceMethodPCM(result)\n",
    "    display(L\"\\text{結合後のPCM}\")\n",
    "    display(L\"\\hat{A} = %$(twofoldIntervalMatrixLaTeXString(Â))\")\n",
    "end"
   ]
  },
  {
   "cell_type": "code",
   "execution_count": 4,
   "id": "a3e5def2",
   "metadata": {},
   "outputs": [
    {
     "data": {
      "text/plain": [
       "getIntervalVector (generic function with 1 method)"
      ]
     },
     "metadata": {},
     "output_type": "display_data"
    }
   ],
   "source": [
    "function getIntervalVector(\n",
    "        approximationLPResult::ConcatImportanceMethodApproximationLPResult{T},\n",
    "        concatLPResult::ConcatImportanceMethodConcatLPResult{T},\n",
    "        k::Integer\n",
    "        ) where {T <: Real}\n",
    "    m = length(concatLPResult.t⁻)\n",
    "    n = length(concatLPResult.wᴸ)\n",
    "\n",
    "    wₖᴸ⁻ = approximationLPResult.wₖᴸ⁻\n",
    "    wₖᵁ⁻ = approximationLPResult.wₖᵁ⁻\n",
    "    wₖᴸ⁺ = approximationLPResult.wₖᴸ⁺\n",
    "    wₖᵁ⁺ = approximationLPResult.wₖᵁ⁺\n",
    "\n",
    "    tₖ⁻ = concatLPResult.t⁻[k]\n",
    "    tₖ⁺ = concatLPResult.t⁺[k]\n",
    "\n",
    "    tₖ⁺Wₖ⁺ = map(i -> tₖ⁺ * (wₖᴸ⁺[i]..wₖᵁ⁺[i]), 1:n)\n",
    "\n",
    "    if any(isinf.(wₖᴸ⁻)) || any(isinf.(wₖᵁ⁻))\n",
    "        return (tₖ⁻Wₖ⁻=fill(emptyinterval(), n), tₖ⁺Wₖ⁺=tₖ⁺Wₖ⁺)\n",
    "    end\n",
    "\n",
    "    tₖ⁻Wₖ⁻ = map(i -> tₖ⁻ * (wₖᴸ⁻[i]..wₖᵁ⁻[i]), 1:n)\n",
    "    return (tₖ⁻Wₖ⁻=tₖ⁻Wₖ⁻, tₖ⁺Wₖ⁺=tₖ⁺Wₖ⁺)\n",
    "end"
   ]
  },
  {
   "cell_type": "code",
   "execution_count": 5,
   "id": "25af7ad0",
   "metadata": {},
   "outputs": [
    {
     "data": {
      "text/plain": [
       "concatIntervalVectors (generic function with 1 method)"
      ]
     },
     "metadata": {},
     "output_type": "display_data"
    }
   ],
   "source": [
    "function concatIntervalVectors(\n",
    "        approximationLPResults::AbstractArray{ConcatImportanceMethodApproximationLPResult{T}, 1},\n",
    "        concatLPResult::ConcatImportanceMethodConcatLPResult{T}\n",
    "        ) where {T <: Real}\n",
    "    m = length(concatLPResult.t⁻)\n",
    "    n = length(concatLPResult.wᴸ)\n",
    "\n",
    "    ⋂tₖ⁻Wₖ⁻ = fill(entireinterval(), n); ⋃tₖ⁻Wₖ⁻ = fill(emptyinterval(), n)\n",
    "    ⋂tₖ⁺Wₖ⁺ = fill(entireinterval(), n); ⋃tₖ⁺Wₖ⁺ = fill(emptyinterval(), n)\n",
    "\n",
    "    for k = 1:m\n",
    "        intervalVectors = getIntervalVector(approximationLPResults[k], concatLPResult, k)\n",
    "        for i = 1:n\n",
    "            ⋂tₖ⁻Wₖ⁻[i] = ⋂tₖ⁻Wₖ⁻[i] ∩ intervalVectors.tₖ⁻Wₖ⁻[i]\n",
    "            ⋃tₖ⁻Wₖ⁻[i] = ⋃tₖ⁻Wₖ⁻[i] ∪ intervalVectors.tₖ⁻Wₖ⁻[i]\n",
    "            ⋂tₖ⁺Wₖ⁺[i] = ⋂tₖ⁺Wₖ⁺[i] ∩ intervalVectors.tₖ⁺Wₖ⁺[i]\n",
    "            ⋃tₖ⁺Wₖ⁺[i] = ⋃tₖ⁺Wₖ⁺[i] ∪ intervalVectors.tₖ⁺Wₖ⁺[i]\n",
    "        end\n",
    "    end\n",
    "\n",
    "    return (⋂tₖ⁻Wₖ⁻=⋂tₖ⁻Wₖ⁻, ⋃tₖ⁻Wₖ⁻=⋃tₖ⁻Wₖ⁻, ⋂tₖ⁺Wₖ⁺=⋂tₖ⁺Wₖ⁺, ⋃tₖ⁺Wₖ⁺=⋃tₖ⁺Wₖ⁺)\n",
    "end"
   ]
  },
  {
   "cell_type": "code",
   "execution_count": 6,
   "id": "78045aa7",
   "metadata": {},
   "outputs": [
    {
     "data": {
      "text/plain": [
       "displayConcatIntervalVectors (generic function with 1 method)"
      ]
     },
     "metadata": {},
     "output_type": "display_data"
    }
   ],
   "source": [
    "function displayConcatIntervalVectors(\n",
    "        approximationLPResults::AbstractArray{ConcatImportanceMethodApproximationLPResult{T}, 1},\n",
    "        concatLPResult::ConcatImportanceMethodConcatLPResult{T}\n",
    "        ) where {T <: Real}\n",
    "    intervalVectors = concatIntervalVectors(approximationLPResults, concatLPResult)\n",
    "\n",
    "    display(L\"\"\"\n",
    "        \\bigcap_{k \\in M^{'}} t_k^- W_k^- = %$(intervalVectorLaTeXString(intervalVectors.⋂tₖ⁻Wₖ⁻)), ~~\n",
    "        \\bigcup_{k \\in M^{'}} t_k^- W_k^- = %$(intervalVectorLaTeXString(intervalVectors.⋃tₖ⁻Wₖ⁻)), ~~\n",
    "        \\bigcap_{k \\in M} t_k^+ W_k^+ = %$(intervalVectorLaTeXString(intervalVectors.⋂tₖ⁺Wₖ⁺)), ~~\n",
    "        \\bigcup_{k \\in M} t_k^+ W_k^+ = %$(intervalVectorLaTeXString(intervalVectors.⋃tₖ⁺Wₖ⁺))\n",
    "    \"\"\")\n",
    "end"
   ]
  },
  {
   "attachments": {},
   "cell_type": "markdown",
   "id": "5d31f9c4",
   "metadata": {},
   "source": [
    "---\n",
    "\n",
    "$\\bigcap_{k \\in M^{'}} t_k^+ W_k^-, \\bigcup_{k \\in M^{'}} t_k^- W_k^-$ と $t_k^- \\left[ w_i^\\text{L}, w_i^\\text{U} \\right]$ ，\n",
    "$\\bigcap_{k \\in M^{'}} t_k^+ W_k^+, \\bigcup_{k \\in M^{'}} t_k^+ W_k^+$ と $t_k^+ \\left[ w_i^\\text{L}, w_i^\\text{U} \\right]$ の包含関係を調べる．"
   ]
  },
  {
   "cell_type": "code",
   "execution_count": 63,
   "id": "1ff2dc63-5e42-4bc3-8819-42823af4bf45",
   "metadata": {},
   "outputs": [
    {
     "data": {
      "text/latex": [
       "$A_1 = \\begin{bmatrix} \\left[ 1.0, 1.0 \\right] & \\left[ 0.303, 0.333 \\right] \\\\ \\left[ 3.0, 3.3 \\right] & \\left[ 1.0, 1.0 \\right] \\end{bmatrix}$"
      ],
      "text/plain": [
       "L\"$A_1 = \\begin{bmatrix} \\left[ 1.0, 1.0 \\right] & \\left[ 0.303, 0.333 \\right] \\\\ \\left[ 3.0, 3.3 \\right] & \\left[ 1.0, 1.0 \\right] \\end{bmatrix}$\""
      ]
     },
     "metadata": {},
     "output_type": "display_data"
    },
    {
     "data": {
      "text/latex": [
       "$A_2 = \\begin{bmatrix} \\left[ 1.0, 1.0 \\right] & \\left[ 0.2, 0.303 \\right] \\\\ \\left[ 3.3, 5.0 \\right] & \\left[ 1.0, 1.0 \\right] \\end{bmatrix}$"
      ],
      "text/plain": [
       "L\"$A_2 = \\begin{bmatrix} \\left[ 1.0, 1.0 \\right] & \\left[ 0.2, 0.303 \\right] \\\\ \\left[ 3.3, 5.0 \\right] & \\left[ 1.0, 1.0 \\right] \\end{bmatrix}$\""
      ]
     },
     "metadata": {},
     "output_type": "display_data"
    }
   ],
   "source": [
    "A₁ = [\n",
    "    1..1 (1/3.3)..(1/3)\n",
    "    3..3.3 1..1\n",
    "]\n",
    "A₂ = [\n",
    "    1..1 (1/5)..(1/3.3)\n",
    "    3.3..5 1..1\n",
    "]\n",
    "\n",
    "display(L\"A_1 = %$(intervalMatrixLaTeXString(A₁))\")\n",
    "display(L\"A_2 = %$(intervalMatrixLaTeXString(A₂))\")"
   ]
  },
  {
   "cell_type": "code",
   "execution_count": 64,
   "id": "539e0af6",
   "metadata": {},
   "outputs": [
    {
     "data": {
      "text/latex": [
       "$    w_{1}^{\\text{L}-} = \\begin{bmatrix} 0.25  \\\\  0.75 \\end{bmatrix}, ~~\n",
       "    w_{1}^{\\text{U}-} = \\begin{bmatrix} 0.25  \\\\  0.75 \\end{bmatrix}, ~~\n",
       "    w_{1}^{\\text{L}+} = \\begin{bmatrix} 0.233  \\\\  0.75 \\end{bmatrix}, ~~\n",
       "    w_{1}^{\\text{U}+} = \\begin{bmatrix} 0.25  \\\\  0.767 \\end{bmatrix}\n",
       "$"
      ],
      "text/plain": [
       "L\"$    w_{1}^{\\text{L}-} = \\begin{bmatrix} 0.25  \\\\  0.75 \\end{bmatrix}, ~~\n",
       "    w_{1}^{\\text{U}-} = \\begin{bmatrix} 0.25  \\\\  0.75 \\end{bmatrix}, ~~\n",
       "    w_{1}^{\\text{L}+} = \\begin{bmatrix} 0.233  \\\\  0.75 \\end{bmatrix}, ~~\n",
       "    w_{1}^{\\text{U}+} = \\begin{bmatrix} 0.25  \\\\  0.767 \\end{bmatrix}\n",
       "$\""
      ]
     },
     "metadata": {},
     "output_type": "display_data"
    },
    {
     "data": {
      "text/latex": [
       "$    w_{2}^{\\text{L}-} = \\begin{bmatrix} 0.233  \\\\  0.767 \\end{bmatrix}, ~~\n",
       "    w_{2}^{\\text{U}-} = \\begin{bmatrix} 0.233  \\\\  0.767 \\end{bmatrix}, ~~\n",
       "    w_{2}^{\\text{L}+} = \\begin{bmatrix} 0.167  \\\\  0.767 \\end{bmatrix}, ~~\n",
       "    w_{2}^{\\text{U}+} = \\begin{bmatrix} 0.233  \\\\  0.833 \\end{bmatrix}\n",
       "$"
      ],
      "text/plain": [
       "L\"$    w_{2}^{\\text{L}-} = \\begin{bmatrix} 0.233  \\\\  0.767 \\end{bmatrix}, ~~\n",
       "    w_{2}^{\\text{U}-} = \\begin{bmatrix} 0.233  \\\\  0.767 \\end{bmatrix}, ~~\n",
       "    w_{2}^{\\text{L}+} = \\begin{bmatrix} 0.167  \\\\  0.767 \\end{bmatrix}, ~~\n",
       "    w_{2}^{\\text{U}+} = \\begin{bmatrix} 0.233  \\\\  0.833 \\end{bmatrix}\n",
       "$\""
      ]
     },
     "metadata": {},
     "output_type": "display_data"
    }
   ],
   "source": [
    "approximationResults = solveConcatImportanceMethodApproximationLP.([A₁, A₂])\n",
    "displayConcatImportanceMethodApproximationLPResults(approximationResults)"
   ]
  },
  {
   "cell_type": "code",
   "execution_count": 65,
   "id": "59f3bbad",
   "metadata": {},
   "outputs": [
    {
     "data": {
      "text/latex": [
       "$    t_{1}^{\\text{L}-} = 1.0, ~~\n",
       "    t_{1}^{\\text{U}-} = 1.0, ~~\n",
       "    t_{1}^{\\text{L}+} = 1.0, ~~\n",
       "    t_{1}^{\\text{U}+} = 1.0\n",
       "$"
      ],
      "text/plain": [
       "L\"$    t_{1}^{\\text{L}-} = 1.0, ~~\n",
       "    t_{1}^{\\text{U}-} = 1.0, ~~\n",
       "    t_{1}^{\\text{L}+} = 1.0, ~~\n",
       "    t_{1}^{\\text{U}+} = 1.0\n",
       "$\""
      ]
     },
     "metadata": {},
     "output_type": "display_data"
    },
    {
     "data": {
      "text/latex": [
       "$    t_{2}^{\\text{L}-} = 1.0, ~~\n",
       "    t_{2}^{\\text{U}-} = 1.0, ~~\n",
       "    t_{2}^{\\text{L}+} = 1.0, ~~\n",
       "    t_{2}^{\\text{U}+} = 1.0\n",
       "$"
      ],
      "text/plain": [
       "L\"$    t_{2}^{\\text{L}-} = 1.0, ~~\n",
       "    t_{2}^{\\text{U}-} = 1.0, ~~\n",
       "    t_{2}^{\\text{L}+} = 1.0, ~~\n",
       "    t_{2}^{\\text{U}+} = 1.0\n",
       "$\""
      ]
     },
     "metadata": {},
     "output_type": "display_data"
    }
   ],
   "source": [
    "tBoundaries = calculateConcatImportanceMethodTBoundaries.(approximationResults)\n",
    "displayConcatImportanceMethodTBoundaries(tBoundaries)"
   ]
  },
  {
   "cell_type": "code",
   "execution_count": 66,
   "id": "05d7134f",
   "metadata": {},
   "outputs": [
    {
     "data": {
      "text/latex": [
       "$t^- = \\begin{bmatrix} 1.0  \\\\  1.0 \\end{bmatrix}, ~~\n",
       "t^+ = \\begin{bmatrix} 1.0  \\\\  1.0 \\end{bmatrix}\n",
       "$"
      ],
      "text/plain": [
       "L\"$t^- = \\begin{bmatrix} 1.0  \\\\  1.0 \\end{bmatrix}, ~~\n",
       "t^+ = \\begin{bmatrix} 1.0  \\\\  1.0 \\end{bmatrix}\n",
       "$\""
      ]
     },
     "metadata": {},
     "output_type": "display_data"
    },
    {
     "data": {
      "text/latex": [
       "$W = \\begin{bmatrix}\\left[ 0.233, 0.25 \\right] \\\\ \\left[ 0.75, 0.767 \\right]\\end{bmatrix}$"
      ],
      "text/plain": [
       "L\"$W = \\begin{bmatrix}\\left[ 0.233, 0.25 \\right] \\\\ \\left[ 0.75, 0.767 \\right]\\end{bmatrix}$\""
      ]
     },
     "metadata": {},
     "output_type": "display_data"
    },
    {
     "data": {
      "text/latex": [
       "$v^{\\text{L}-} = \\begin{bmatrix} 0.233  \\\\  0.75 \\end{bmatrix}, ~~\n",
       "v^{\\text{U}-} = \\begin{bmatrix} 0.25  \\\\  0.767 \\end{bmatrix}, ~~\n",
       "v^{\\text{L}+} = \\begin{bmatrix} 0.233  \\\\  0.767 \\end{bmatrix}, ~~\n",
       "v^{\\text{U}+} = \\begin{bmatrix} 0.233  \\\\  0.767 \\end{bmatrix}\n",
       "$"
      ],
      "text/plain": [
       "L\"$v^{\\text{L}-} = \\begin{bmatrix} 0.233  \\\\  0.75 \\end{bmatrix}, ~~\n",
       "v^{\\text{U}-} = \\begin{bmatrix} 0.25  \\\\  0.767 \\end{bmatrix}, ~~\n",
       "v^{\\text{L}+} = \\begin{bmatrix} 0.233  \\\\  0.767 \\end{bmatrix}, ~~\n",
       "v^{\\text{U}+} = \\begin{bmatrix} 0.233  \\\\  0.767 \\end{bmatrix}\n",
       "$\""
      ]
     },
     "metadata": {},
     "output_type": "display_data"
    },
    {
     "data": {
      "text/latex": [
       "$\\varepsilon^\\text{L} = \\begin{bmatrix} 0.0  \\\\  0.017 \\end{bmatrix}, ~~\n",
       "\\varepsilon^\\text{U} = \\begin{bmatrix} 0.017  \\\\  0.0 \\end{bmatrix}\n",
       "$"
      ],
      "text/plain": [
       "L\"$\\varepsilon^\\text{L} = \\begin{bmatrix} 0.0  \\\\  0.017 \\end{bmatrix}, ~~\n",
       "\\varepsilon^\\text{U} = \\begin{bmatrix} 0.017  \\\\  0.0 \\end{bmatrix}\n",
       "$\""
      ]
     },
     "metadata": {},
     "output_type": "display_data"
    }
   ],
   "source": [
    "result = solveConcatImportanceMethodConcatLP(approximationResults, tBoundaries)\n",
    "displayConcatImportanceMethodConcatLPResult(result)"
   ]
  },
  {
   "cell_type": "code",
   "execution_count": 67,
   "id": "21749f67",
   "metadata": {},
   "outputs": [
    {
     "data": {
      "text/latex": [
       "$    \\bigcap_{k \\in M^{'}} t_k^- W_k^- = \\begin{bmatrix} \\emptyset \\\\ \\emptyset \\end{bmatrix}, ~~\n",
       "    \\bigcup_{k \\in M^{'}} t_k^- W_k^- = \\begin{bmatrix} \\left[ 0.233, 0.25 \\right] \\\\ \\left[ 0.75, 0.767 \\right] \\end{bmatrix}, ~~\n",
       "    \\bigcap_{k \\in M} t_k^+ W_k^+ = \\begin{bmatrix} \\left[ 0.233, 0.233 \\right] \\\\ \\left[ 0.767, 0.767 \\right] \\end{bmatrix}, ~~\n",
       "    \\bigcup_{k \\in M} t_k^+ W_k^+ = \\begin{bmatrix} \\left[ 0.167, 0.25 \\right] \\\\ \\left[ 0.75, 0.833 \\right] \\end{bmatrix}\n",
       "$"
      ],
      "text/plain": [
       "L\"$    \\bigcap_{k \\in M^{'}} t_k^- W_k^- = \\begin{bmatrix} \\emptyset \\\\ \\emptyset \\end{bmatrix}, ~~\n",
       "    \\bigcup_{k \\in M^{'}} t_k^- W_k^- = \\begin{bmatrix} \\left[ 0.233, 0.25 \\right] \\\\ \\left[ 0.75, 0.767 \\right] \\end{bmatrix}, ~~\n",
       "    \\bigcap_{k \\in M} t_k^+ W_k^+ = \\begin{bmatrix} \\left[ 0.233, 0.233 \\right] \\\\ \\left[ 0.767, 0.767 \\right] \\end{bmatrix}, ~~\n",
       "    \\bigcup_{k \\in M} t_k^+ W_k^+ = \\begin{bmatrix} \\left[ 0.167, 0.25 \\right] \\\\ \\left[ 0.75, 0.833 \\right] \\end{bmatrix}\n",
       "$\""
      ]
     },
     "metadata": {},
     "output_type": "display_data"
    }
   ],
   "source": [
    "displayConcatIntervalVectors(approximationResults, result)"
   ]
  },
  {
   "attachments": {},
   "cell_type": "markdown",
   "id": "1cf6e2b3",
   "metadata": {},
   "source": [
    "---\n",
    "\n",
    "順序関係がキャンセリングによって変化するかどうかのテスト"
   ]
  },
  {
   "cell_type": "code",
   "execution_count": 87,
   "id": "469e5859",
   "metadata": {},
   "outputs": [
    {
     "data": {
      "text/latex": [
       "$A_1 = \\begin{bmatrix} \\left[ 1.0, 1.0 \\right] & \\left[ 1.0, 3.0 \\right] & \\left[ 1.0, 3.1 \\right] \\\\ \\left[ 0.333, 1.0 \\right] & \\left[ 1.0, 1.0 \\right] & \\left[ 1.1, 1.2 \\right] \\\\ \\left[ 0.323, 1.0 \\right] & \\left[ 0.833, 0.909 \\right] & \\left[ 1.0, 1.0 \\right] \\end{bmatrix}$"
      ],
      "text/plain": [
       "L\"$A_1 = \\begin{bmatrix} \\left[ 1.0, 1.0 \\right] & \\left[ 1.0, 3.0 \\right] & \\left[ 1.0, 3.1 \\right] \\\\ \\left[ 0.333, 1.0 \\right] & \\left[ 1.0, 1.0 \\right] & \\left[ 1.1, 1.2 \\right] \\\\ \\left[ 0.323, 1.0 \\right] & \\left[ 0.833, 0.909 \\right] & \\left[ 1.0, 1.0 \\right] \\end{bmatrix}$\""
      ]
     },
     "metadata": {},
     "output_type": "display_data"
    },
    {
     "data": {
      "text/latex": [
       "$A_2 = \\begin{bmatrix} \\left[ 1.0, 1.0 \\right] & \\left[ 1.0, 3.0 \\right] & \\left[ 1.0, 3.1 \\right] \\\\ \\left[ 0.333, 1.0 \\right] & \\left[ 1.0, 1.0 \\right] & \\left[ 1.1, 1.2 \\right] \\\\ \\left[ 0.323, 1.0 \\right] & \\left[ 0.833, 0.909 \\right] & \\left[ 1.0, 1.0 \\right] \\end{bmatrix}$"
      ],
      "text/plain": [
       "L\"$A_2 = \\begin{bmatrix} \\left[ 1.0, 1.0 \\right] & \\left[ 1.0, 3.0 \\right] & \\left[ 1.0, 3.1 \\right] \\\\ \\left[ 0.333, 1.0 \\right] & \\left[ 1.0, 1.0 \\right] & \\left[ 1.1, 1.2 \\right] \\\\ \\left[ 0.323, 1.0 \\right] & \\left[ 0.833, 0.909 \\right] & \\left[ 1.0, 1.0 \\right] \\end{bmatrix}$\""
      ]
     },
     "metadata": {},
     "output_type": "display_data"
    },
    {
     "data": {
      "text/latex": [
       "$\\text{各DMの上近似と下近似}$"
      ],
      "text/plain": [
       "L\"$\\text{各DMの上近似と下近似}$\""
      ]
     },
     "metadata": {},
     "output_type": "display_data"
    },
    {
     "data": {
      "text/latex": [
       "$    w_{1}^{\\text{L}-} = \\begin{bmatrix} 0.591  \\\\  0.214  \\\\  0.195 \\end{bmatrix}, ~~\n",
       "    w_{1}^{\\text{U}-} = \\begin{bmatrix} 0.591  \\\\  0.214  \\\\  0.195 \\end{bmatrix}, ~~\n",
       "    w_{1}^{\\text{L}+} = \\begin{bmatrix} 0.333  \\\\  0.201  \\\\  0.195 \\end{bmatrix}, ~~\n",
       "    w_{1}^{\\text{U}+} = \\begin{bmatrix} 0.604  \\\\  0.333  \\\\  0.333 \\end{bmatrix}\n",
       "$"
      ],
      "text/plain": [
       "L\"$    w_{1}^{\\text{L}-} = \\begin{bmatrix} 0.591  \\\\  0.214  \\\\  0.195 \\end{bmatrix}, ~~\n",
       "    w_{1}^{\\text{U}-} = \\begin{bmatrix} 0.591  \\\\  0.214  \\\\  0.195 \\end{bmatrix}, ~~\n",
       "    w_{1}^{\\text{L}+} = \\begin{bmatrix} 0.333  \\\\  0.201  \\\\  0.195 \\end{bmatrix}, ~~\n",
       "    w_{1}^{\\text{U}+} = \\begin{bmatrix} 0.604  \\\\  0.333  \\\\  0.333 \\end{bmatrix}\n",
       "$\""
      ]
     },
     "metadata": {},
     "output_type": "display_data"
    },
    {
     "data": {
      "text/latex": [
       "$    w_{2}^{\\text{L}-} = \\begin{bmatrix} 0.591  \\\\  0.214  \\\\  0.195 \\end{bmatrix}, ~~\n",
       "    w_{2}^{\\text{U}-} = \\begin{bmatrix} 0.591  \\\\  0.214  \\\\  0.195 \\end{bmatrix}, ~~\n",
       "    w_{2}^{\\text{L}+} = \\begin{bmatrix} 0.333  \\\\  0.201  \\\\  0.195 \\end{bmatrix}, ~~\n",
       "    w_{2}^{\\text{U}+} = \\begin{bmatrix} 0.604  \\\\  0.333  \\\\  0.333 \\end{bmatrix}\n",
       "$"
      ],
      "text/plain": [
       "L\"$    w_{2}^{\\text{L}-} = \\begin{bmatrix} 0.591  \\\\  0.214  \\\\  0.195 \\end{bmatrix}, ~~\n",
       "    w_{2}^{\\text{U}-} = \\begin{bmatrix} 0.591  \\\\  0.214  \\\\  0.195 \\end{bmatrix}, ~~\n",
       "    w_{2}^{\\text{L}+} = \\begin{bmatrix} 0.333  \\\\  0.201  \\\\  0.195 \\end{bmatrix}, ~~\n",
       "    w_{2}^{\\text{U}+} = \\begin{bmatrix} 0.604  \\\\  0.333  \\\\  0.333 \\end{bmatrix}\n",
       "$\""
      ]
     },
     "metadata": {},
     "output_type": "display_data"
    },
    {
     "data": {
      "text/latex": [
       "$\\text{各DMの上近似と下近似の}t\\text{の範囲}$"
      ],
      "text/plain": [
       "L\"$\\text{各DMの上近似と下近似の}t\\text{の範囲}$\""
      ]
     },
     "metadata": {},
     "output_type": "display_data"
    },
    {
     "data": {
      "text/latex": [
       "$    t_{1}^{\\text{L}-} = 1.0, ~~\n",
       "    t_{1}^{\\text{U}-} = 1.0, ~~\n",
       "    t_{1}^{\\text{L}+} = 1.0, ~~\n",
       "    t_{1}^{\\text{U}+} = 1.0\n",
       "$"
      ],
      "text/plain": [
       "L\"$    t_{1}^{\\text{L}-} = 1.0, ~~\n",
       "    t_{1}^{\\text{U}-} = 1.0, ~~\n",
       "    t_{1}^{\\text{L}+} = 1.0, ~~\n",
       "    t_{1}^{\\text{U}+} = 1.0\n",
       "$\""
      ]
     },
     "metadata": {},
     "output_type": "display_data"
    },
    {
     "data": {
      "text/latex": [
       "$    t_{2}^{\\text{L}-} = 1.0, ~~\n",
       "    t_{2}^{\\text{U}-} = 1.0, ~~\n",
       "    t_{2}^{\\text{L}+} = 1.0, ~~\n",
       "    t_{2}^{\\text{U}+} = 1.0\n",
       "$"
      ],
      "text/plain": [
       "L\"$    t_{2}^{\\text{L}-} = 1.0, ~~\n",
       "    t_{2}^{\\text{U}-} = 1.0, ~~\n",
       "    t_{2}^{\\text{L}+} = 1.0, ~~\n",
       "    t_{2}^{\\text{U}+} = 1.0\n",
       "$\""
      ]
     },
     "metadata": {},
     "output_type": "display_data"
    },
    {
     "data": {
      "text/latex": [
       "$\\text{LPの最適解}$"
      ],
      "text/plain": [
       "L\"$\\text{LPの最適解}$\""
      ]
     },
     "metadata": {},
     "output_type": "display_data"
    },
    {
     "data": {
      "text/latex": [
       "$t^- = \\begin{bmatrix} 1.0  \\\\  1.0 \\end{bmatrix}, ~~\n",
       "t^+ = \\begin{bmatrix} 1.0  \\\\  1.0 \\end{bmatrix}\n",
       "$"
      ],
      "text/plain": [
       "L\"$t^- = \\begin{bmatrix} 1.0  \\\\  1.0 \\end{bmatrix}, ~~\n",
       "t^+ = \\begin{bmatrix} 1.0  \\\\  1.0 \\end{bmatrix}\n",
       "$\""
      ]
     },
     "metadata": {},
     "output_type": "display_data"
    },
    {
     "data": {
      "text/latex": [
       "$W = \\begin{bmatrix}\\left[ 0.472, 0.591 \\right] \\\\ \\left[ 0.214, 0.333 \\right] \\\\ \\left[ 0.195, 0.195 \\right]\\end{bmatrix}$"
      ],
      "text/plain": [
       "L\"$W = \\begin{bmatrix}\\left[ 0.472, 0.591 \\right] \\\\ \\left[ 0.214, 0.333 \\right] \\\\ \\left[ 0.195, 0.195 \\right]\\end{bmatrix}$\""
      ]
     },
     "metadata": {},
     "output_type": "display_data"
    },
    {
     "data": {
      "text/latex": [
       "$v^{\\text{L}-} = \\begin{bmatrix} 0.591  \\\\  0.214  \\\\  0.195 \\end{bmatrix}, ~~\n",
       "v^{\\text{U}-} = \\begin{bmatrix} 0.591  \\\\  0.214  \\\\  0.195 \\end{bmatrix}, ~~\n",
       "v^{\\text{L}+} = \\begin{bmatrix} 0.333  \\\\  0.201  \\\\  0.195 \\end{bmatrix}, ~~\n",
       "v^{\\text{U}+} = \\begin{bmatrix} 0.333  \\\\  0.201  \\\\  0.195 \\end{bmatrix}\n",
       "$"
      ],
      "text/plain": [
       "L\"$v^{\\text{L}-} = \\begin{bmatrix} 0.591  \\\\  0.214  \\\\  0.195 \\end{bmatrix}, ~~\n",
       "v^{\\text{U}-} = \\begin{bmatrix} 0.591  \\\\  0.214  \\\\  0.195 \\end{bmatrix}, ~~\n",
       "v^{\\text{L}+} = \\begin{bmatrix} 0.333  \\\\  0.201  \\\\  0.195 \\end{bmatrix}, ~~\n",
       "v^{\\text{U}+} = \\begin{bmatrix} 0.333  \\\\  0.201  \\\\  0.195 \\end{bmatrix}\n",
       "$\""
      ]
     },
     "metadata": {},
     "output_type": "display_data"
    },
    {
     "data": {
      "text/latex": [
       "$\\varepsilon^\\text{L} = \\begin{bmatrix} 0.0  \\\\  0.0  \\\\  0.0 \\end{bmatrix}, ~~\n",
       "\\varepsilon^\\text{U} = \\begin{bmatrix} 0.0  \\\\  0.0  \\\\  0.0 \\end{bmatrix}\n",
       "$"
      ],
      "text/plain": [
       "L\"$\\varepsilon^\\text{L} = \\begin{bmatrix} 0.0  \\\\  0.0  \\\\  0.0 \\end{bmatrix}, ~~\n",
       "\\varepsilon^\\text{U} = \\begin{bmatrix} 0.0  \\\\  0.0  \\\\  0.0 \\end{bmatrix}\n",
       "$\""
      ]
     },
     "metadata": {},
     "output_type": "display_data"
    },
    {
     "data": {
      "text/latex": [
       "$\\text{結合後のPCM}$"
      ],
      "text/plain": [
       "L\"$\\text{結合後のPCM}$\""
      ]
     },
     "metadata": {},
     "output_type": "display_data"
    },
    {
     "data": {
      "text/latex": [
       "$\\hat{A} = \\begin{bmatrix} \\left[   1.0, \\left[   1.0,   1.0 \\right],   1.0 \\right] & \\left[   1.0, \\left[ 2.202, 2.758 \\right], 2.935 \\right] & \\left[ 1.711, \\left[ 3.033, 3.033 \\right], 3.033 \\right] \\\\ \\left[ 0.341, \\left[ 0.363, 0.454 \\right],   1.0 \\right] & \\left[   1.0, \\left[   1.0,   1.0 \\right],   1.0 \\right] & \\left[ 1.033, \\left[   1.1,   1.1 \\right], 1.711 \\right] \\\\ \\left[  0.33, \\left[  0.33,  0.33 \\right], 0.584 \\right] & \\left[ 0.584, \\left[ 0.909, 0.909 \\right], 0.968 \\right] & \\left[   1.0, \\left[   1.0,   1.0 \\right],   1.0 \\right] \\end{bmatrix}$"
      ],
      "text/plain": [
       "\"\\$\\\\hat{A} = \\\\begin{bmatrix} \\\\left[   1.0, \\\\left[   1.0,   1.0 \\\\right],   1.0 \\\\right] & \\\\left[   1.0, \\\\left[ 2.202, 2.758 \\\\right], 2.935 \\\\right] & \\\\left[ 1.711, \\\\left[ 3.033, 3.033 \\\\right], 3.033 \\\\right] \\\\\\\\ \\\\left[ 0.341, \\\\left[ 0.363, 0.454 \\\\right],   1.0 \\\\right] & \\\\left[ \" ⋯ 30 bytes ⋯ \"ght],   1.0 \\\\right] & \\\\left[ 1.033, \\\\left[   1.1,   1.1 \\\\right], 1.711 \\\\right] \\\\\\\\ \\\\left[  0.33, \\\\left[  0.33,  0.33 \\\\right], 0.584 \\\\right] & \\\\left[ 0.584, \\\\left[ 0.909, 0.909 \\\\right], 0.968 \\\\right] & \\\\left[   1.0, \\\\left[   1.0,   1.0 \\\\right],   1.0 \\\\right] \\\\end{bmatrix}\\$\""
      ]
     },
     "metadata": {},
     "output_type": "display_data"
    }
   ],
   "source": [
    "A₁ = [\n",
    "    1..1 1..3 1..3.1\n",
    "    (1/3)..1 1..1 1.1..1.2\n",
    "    (1/3.1)..1 (1/1.2)..(1/1.1) 1..1\n",
    "]\n",
    "A₂ = [\n",
    "    1..1 1..3 1..3.1\n",
    "    (1/3)..1 1..1 1.1..1.2\n",
    "    (1/3.1)..1 (1/1.2)..(1/1.1) 1..1\n",
    "]\n",
    "\n",
    "display(L\"A_1 = %$(intervalMatrixLaTeXString(A₁))\")\n",
    "display(L\"A_2 = %$(intervalMatrixLaTeXString(A₂))\")\n",
    "\n",
    "concatImportanceMethod(A₁, A₂)\n",
    "print()"
   ]
  },
  {
   "cell_type": "code",
   "execution_count": null,
   "id": "4b3b4d79",
   "metadata": {},
   "outputs": [],
   "source": []
  }
 ],
 "metadata": {
  "kernelspec": {
   "display_name": "Julia 1.8.3",
   "language": "julia",
   "name": "julia-1.8"
  },
  "language_info": {
   "file_extension": ".jl",
   "mimetype": "application/julia",
   "name": "julia",
   "version": "1.8.3"
  },
  "vscode": {
   "interpreter": {
    "hash": "d4d1e4263499bec80672ea0156c357c1ee493ec2b1c70f0acce89fc37c4a6abe"
   }
  }
 },
 "nbformat": 4,
 "nbformat_minor": 5
}
