{
 "cells": [
  {
   "cell_type": "code",
   "execution_count": 59,
   "id": "a661200b-0885-4ad6-9e50-f9b552f74857",
   "metadata": {},
   "outputs": [],
   "source": [
    "using IntervalArithmetic\n",
    "using LaTeXStrings\n",
    "using Plots"
   ]
  },
  {
   "cell_type": "code",
   "execution_count": 60,
   "id": "6ae45f35-7c99-45c9-a934-88166cfef5fb",
   "metadata": {},
   "outputs": [],
   "source": [
    "include(\"./method3/index.jl\")\n",
    "include(\"./intervalPCM/index.jl\")\n",
    "include(\"./twofoldInterval/index.jl\")\n",
    "include(\"./twofoldIntervalPCM/index.jl\")\n",
    "\n",
    "print()"
   ]
  },
  {
   "cell_type": "code",
   "execution_count": 61,
   "id": "00c417be",
   "metadata": {},
   "outputs": [
    {
     "data": {
      "text/plain": [
       "laTeXMatrix (generic function with 1 method)"
      ]
     },
     "metadata": {},
     "output_type": "display_data"
    }
   ],
   "source": [
    "function laTeXMatrix(\n",
    "        pattern,\n",
    "        size::Tuple{Integer, Integer})::String\n",
    "    m, n = size\n",
    "\n",
    "    mat = \"\\\\begin{bmatrix}\"\n",
    "    for i = 1:m, j = 1:n\n",
    "        mat *= pattern(i, j)\n",
    "        if j == n\n",
    "            if i != m\n",
    "                mat *= \" \\\\\\\\ \"\n",
    "            end\n",
    "        else\n",
    "            mat *= \" & \"\n",
    "        end\n",
    "    end\n",
    "    mat *= \"\\\\end{bmatrix}\"\n",
    "\n",
    "    return mat\n",
    "end"
   ]
  },
  {
   "cell_type": "code",
   "execution_count": 62,
   "id": "98b3f285",
   "metadata": {},
   "outputs": [
    {
     "data": {
      "text/plain": [
       "method3 (generic function with 1 method)"
      ]
     },
     "metadata": {},
     "output_type": "display_data"
    }
   ],
   "source": [
    "function method3(A₁::Matrix{Interval{T}}, A₂::Matrix{Interval{T}}) where {T <: Real}\n",
    "    _, n = size(A₁)\n",
    "\n",
    "    ε = solveFeasibilityCheckLP_m3.([A₁, A₂])\n",
    "    for k = eachindex(ε)\n",
    "        println(\"\\\\varepsilon_$k^* = $(string(round(ε[k], digits=3)))\"); println()\n",
    "    end\n",
    "\n",
    "    approximationResults = solveApproximationLP_m3.([A₁, A₂])\n",
    "    for k = eachindex(approximationResults)\n",
    "        resultₛₜᵣ = approximationLPResultLaTeXString_m3(approximationResults[k])\n",
    "\n",
    "        if resultₛₜᵣ.Wₖ⁻ == \"\"\n",
    "            println(\"W_$k^- = \\\\emptyset\"); println()\n",
    "            println(\"W_$k^+ = $(resultₛₜᵣ.Wₖ⁺)\"); println()\n",
    "        else\n",
    "            println(\"W_$k^- = $(resultₛₜᵣ.Wₖ⁻)\"); println()\n",
    "            println(\"W_$k^+ = $(resultₛₜᵣ.Wₖ⁺)\"); println()\n",
    "        end\n",
    "    end\n",
    "\n",
    "    tBoundaries = calculateTBoundaries_m3.(approximationResults)\n",
    "    for k = eachindex(tBoundaries)\n",
    "        boundariesₛₜᵣ = tBoundariesLaTeXString_m3(tBoundaries[k])\n",
    "\n",
    "        tₖᴸ⁻ = boundariesₛₜᵣ.tₖᴸ⁻\n",
    "        tₖᵁ⁻ = boundariesₛₜᵣ.tₖᵁ⁻\n",
    "        tₖᴸ⁺ = boundariesₛₜᵣ.tₖᴸ⁺\n",
    "        tₖᵁ⁺ = boundariesₛₜᵣ.tₖᵁ⁺\n",
    "    \n",
    "        if tₖᴸ⁻  == \"\" || tₖᵁ⁻ == \"\"\n",
    "            println(\"\"\"\n",
    "                t_{$(k)}^{\\\\text{L}+} = $(tₖᴸ⁺), ~~\n",
    "                t_{$(k)}^{\\\\text{U}+} = $(tₖᵁ⁺)\n",
    "            \"\"\"); println()\n",
    "        else\n",
    "            println(\"\"\"\n",
    "                t_{$(k)}^{\\\\text{L}-} = $(tₖᴸ⁻), ~~\n",
    "                t_{$(k)}^{\\\\text{U}-} = $(tₖᵁ⁻), ~~\n",
    "                t_{$(k)}^{\\\\text{L}+} = $(tₖᴸ⁺), ~~\n",
    "                t_{$(k)}^{\\\\text{U}+} = $(tₖᵁ⁺)\n",
    "            \"\"\"); println()\n",
    "        end\n",
    "    end\n",
    "\n",
    "    result = solveConcatLP_m3(approximationResults, tBoundaries)\n",
    "    resultₛₜᵣ = concatLPResultLaTeXString_m3(result)\n",
    "    m = length(result.t⁻)\n",
    "    println(\"\"\"\n",
    "        $(laTeXMatrix((i,j) -> \"t_$i^-\", (m, 1))) = $(resultₛₜᵣ.t⁻), ~~\n",
    "        $(laTeXMatrix((i,j) -> \"t_$i^+\", (m, 1))) = $(resultₛₜᵣ.t⁺)\n",
    "        \"\"\"); println()\n",
    "    println(\"W = $(resultₛₜᵣ.W)\"); println()\n",
    "    println(\"\"\"\n",
    "        $(laTeXMatrix((i,j) -> \"v_$i^{\\\\text{L}-}\", (n, 1))) = $(resultₛₜᵣ.vᴸ⁻), ~~\n",
    "        $(laTeXMatrix((i,j) -> \"v_$i^{\\\\text{U}-}\", (n, 1))) = $(resultₛₜᵣ.vᵁ⁻), ~~\n",
    "        $(laTeXMatrix((i,j) -> \"v_$i^{\\\\text{L}+}\", (n, 1))) = $(resultₛₜᵣ.vᴸ⁺), ~~\n",
    "        $(laTeXMatrix((i,j) -> \"v_$i^{\\\\text{U}+}\", (n, 1))) = $(resultₛₜᵣ.vᵁ⁺)\n",
    "        \"\"\"); println()\n",
    "    println(\"\"\"\n",
    "        $(laTeXMatrix((i,j) -> \"\\\\varepsilon_$i^\\\\text{L}\", (n, 1))) = $(resultₛₜᵣ.εᴸ), ~~\n",
    "        $(laTeXMatrix((i,j) -> \"\\\\varepsilon_$i^\\\\text{U}\", (n, 1))) = $(resultₛₜᵣ.εᵁ)\n",
    "        \"\"\"); println()\n",
    "\n",
    "    Â = generatePCM_m3(result)\n",
    "\n",
    "    return Â\n",
    "end"
   ]
  },
  {
   "attachments": {},
   "cell_type": "markdown",
   "id": "e0934d78",
   "metadata": {},
   "source": [
    "# example 1"
   ]
  },
  {
   "cell_type": "code",
   "execution_count": 71,
   "id": "7a539df8",
   "metadata": {},
   "outputs": [
    {
     "name": "stdout",
     "output_type": "stream",
     "text": [
      "A_1 = A_2 = \\begin{bmatrix} \\left[ 1.0, 1.0 \\right] & \\left[ 1.0, 2.0 \\right] & \\left[ 0.667, 1.333 \\right] & \\left[ 1.0, 1.333 \\right] \\\\ \\left[ 0.5, 1.0 \\right] & \\left[ 1.0, 1.0 \\right] & \\left[ 0.444, 1.0 \\right] & \\left[ 0.667, 1.0 \\right] \\\\ \\left[ 0.75, 1.5 \\right] & \\left[ 1.0, 2.25 \\right] & \\left[ 1.0, 1.0 \\right] & \\left[ 1.0, 1.5 \\right] \\\\ \\left[ 0.75, 1.0 \\right] & \\left[ 1.0, 1.5 \\right] & \\left[ 0.667, 1.0 \\right] & \\left[ 1.0, 1.0 \\right] \\end{bmatrix}\n",
      "\n",
      "\\varepsilon_1^* = 0.0\n",
      "\n",
      "\\varepsilon_2^* = 0.0\n",
      "\n",
      "W_1^- = \\begin{bmatrix} \\left[ 0.235, 0.314 \\right]  \\\\  \\left[ 0.157, 0.235 \\right]  \\\\  \\left[ 0.235, 0.353 \\right]  \\\\  \\left[ 0.235, 0.235 \\right] \\end{bmatrix}\n",
      "\n",
      "W_1^+ = \\begin{bmatrix} \\left[ 0.235, 0.314 \\right]  \\\\  \\left[ 0.157, 0.235 \\right]  \\\\  \\left[ 0.235, 0.353 \\right]  \\\\  \\left[ 0.235, 0.235 \\right] \\end{bmatrix}\n",
      "\n",
      "W_2^- = \\begin{bmatrix} \\left[ 0.235, 0.314 \\right]  \\\\  \\left[ 0.157, 0.235 \\right]  \\\\  \\left[ 0.235, 0.353 \\right]  \\\\  \\left[ 0.235, 0.235 \\right] \\end{bmatrix}\n",
      "\n",
      "W_2^+ = \\begin{bmatrix} \\left[ 0.235, 0.314 \\right]  \\\\  \\left[ 0.157, 0.235 \\right]  \\\\  \\left[ 0.235, 0.353 \\right]  \\\\  \\left[ 0.235, 0.235 \\right] \\end{bmatrix}\n",
      "\n",
      "    t_{1}^{\\text{L}-} = 0.981, ~~\n",
      "    t_{1}^{\\text{U}-} = 1.02, ~~\n",
      "    t_{1}^{\\text{L}+} = 0.981, ~~\n",
      "    t_{1}^{\\text{U}+} = 1.02\n",
      "\n",
      "\n",
      "    t_{2}^{\\text{L}-} = 0.981, ~~\n",
      "    t_{2}^{\\text{U}-} = 1.02, ~~\n",
      "    t_{2}^{\\text{L}+} = 0.981, ~~\n",
      "    t_{2}^{\\text{U}+} = 1.02\n",
      "\n",
      "\n",
      "\\begin{bmatrix}t_1^- \\\\ t_2^-\\end{bmatrix} = \\begin{bmatrix} 1.0  \\\\  1.0 \\end{bmatrix}, ~~\n",
      "\\begin{bmatrix}t_1^+ \\\\ t_2^+\\end{bmatrix} = \\begin{bmatrix} 1.0  \\\\  1.0 \\end{bmatrix}\n",
      "\n",
      "\n",
      "W = \\begin{bmatrix}\\left[ 0.235, 0.314 \\right] \\\\ \\left[ 0.157, 0.235 \\right] \\\\ \\left[ 0.235, 0.353 \\right] \\\\ \\left[ 0.235, 0.235 \\right]\\end{bmatrix}\n",
      "\n",
      "\\begin{bmatrix}v_1^{\\text{L}-} \\\\ v_2^{\\text{L}-} \\\\ v_3^{\\text{L}-} \\\\ v_4^{\\text{L}-}\\end{bmatrix} = \\begin{bmatrix} 0.235  \\\\  0.157  \\\\  0.235  \\\\  0.235 \\end{bmatrix}, ~~\n",
      "\\begin{bmatrix}v_1^{\\text{U}-} \\\\ v_2^{\\text{U}-} \\\\ v_3^{\\text{U}-} \\\\ v_4^{\\text{U}-}\\end{bmatrix} = \\begin{bmatrix} 0.314  \\\\  0.235  \\\\  0.353  \\\\  0.235 \\end{bmatrix}, ~~\n",
      "\\begin{bmatrix}v_1^{\\text{L}+} \\\\ v_2^{\\text{L}+} \\\\ v_3^{\\text{L}+} \\\\ v_4^{\\text{L}+}\\end{bmatrix} = \\begin{bmatrix} 0.235  \\\\  0.157  \\\\  0.235  \\\\  0.235 \\end{bmatrix}, ~~\n",
      "\\begin{bmatrix}v_1^{\\text{U}+} \\\\ v_2^{\\text{U}+} \\\\ v_3^{\\text{U}+} \\\\ v_4^{\\text{U}+}\\end{bmatrix} = \\begin{bmatrix} 0.314  \\\\  0.235  \\\\  0.353  \\\\  0.235 \\end{bmatrix}\n",
      "\n",
      "\n",
      "\\begin{bmatrix}\\varepsilon_1^\\text{L} \\\\ \\varepsilon_2^\\text{L} \\\\ \\varepsilon_3^\\text{L} \\\\ \\varepsilon_4^\\text{L}\\end{bmatrix} = \\begin{bmatrix} 0.0  \\\\  0.0  \\\\  0.0  \\\\  0.0 \\end{bmatrix}, ~~\n",
      "\\begin{bmatrix}\\varepsilon_1^\\text{U} \\\\ \\varepsilon_2^\\text{U} \\\\ \\varepsilon_3^\\text{U} \\\\ \\varepsilon_4^\\text{U}\\end{bmatrix} = \\begin{bmatrix} 0.0  \\\\  0.0  \\\\  0.0  \\\\  0.0 \\end{bmatrix}\n",
      "\n",
      "\n",
      "\\mathscr{A}^3 = \\begin{bmatrix} \\left[   1.0, \\left[   1.0,   1.0 \\right],   1.0 \\right] & \\left[   1.0, \\left[   1.0,   2.0 \\right],   2.0 \\right] & \\left[ 0.667, \\left[ 0.667, 1.333 \\right], 1.333 \\right] & \\left[   1.0, \\left[   1.0, 1.333 \\right], 1.333 \\right] \\\\ \\left[   0.5, \\left[   0.5,   1.0 \\right],   1.0 \\right] & \\left[   1.0, \\left[   1.0,   1.0 \\right],   1.0 \\right] & \\left[ 0.444, \\left[ 0.444,   1.0 \\right],   1.0 \\right] & \\left[ 0.667, \\left[ 0.667,   1.0 \\right],   1.0 \\right] \\\\ \\left[  0.75, \\left[  0.75,   1.5 \\right],   1.5 \\right] & \\left[   1.0, \\left[   1.0,  2.25 \\right],  2.25 \\right] & \\left[   1.0, \\left[   1.0,   1.0 \\right],   1.0 \\right] & \\left[   1.0, \\left[   1.0,   1.5 \\right],   1.5 \\right] \\\\ \\left[  0.75, \\left[  0.75,   1.0 \\right],   1.0 \\right] & \\left[   1.0, \\left[   1.0,   1.5 \\right],   1.5 \\right] & \\left[ 0.667, \\left[ 0.667,   1.0 \\right],   1.0 \\right] & \\left[   1.0, \\left[   1.0,   1.0 \\right],   1.0 \\right] \\end{bmatrix}\n"
     ]
    }
   ],
   "source": [
    "A₁ = [\n",
    "    1..1 1..2 (2/3)..(4/3) 1..(4/3)\n",
    "    (1/2)..1 1..1 (4/9)..1 (2/3)..1\n",
    "    (3/4)..(3/2) 1..(9/4) 1..1 1..(3/2)\n",
    "    (3/4)..1 1..(3/2) (2/3)..1 1..1\n",
    "]\n",
    "A₂ = A₁\n",
    "\n",
    "println(\"A_1 = A_2 = $(intervalMatrixLaTeXString(A₁))\"); println()\n",
    "\n",
    "Â = method3(A₁, A₂)\n",
    "\n",
    "println(\"\\\\mathscr{A}^3 = $(twofoldIntervalMatrixLaTeXString(Â))\")"
   ]
  },
  {
   "attachments": {},
   "cell_type": "markdown",
   "id": "f23c1019",
   "metadata": {},
   "source": [
    "# example 2"
   ]
  },
  {
   "cell_type": "code",
   "execution_count": 64,
   "id": "9af5bd92",
   "metadata": {},
   "outputs": [
    {
     "name": "stdout",
     "output_type": "stream",
     "text": [
      "\\varepsilon_1^* = 0.0\n",
      "\n",
      "\\varepsilon_2^* = 0.0\n",
      "\n",
      "W_1^- = \\begin{bmatrix} \\left[ 0.235, 0.314 \\right]  \\\\  \\left[ 0.157, 0.235 \\right]  \\\\  \\left[ 0.235, 0.353 \\right]  \\\\  \\left[ 0.235, 0.235 \\right] \\end{bmatrix}\n",
      "\n",
      "W_1^+ = \\begin{bmatrix} \\left[ 0.235, 0.314 \\right]  \\\\  \\left[ 0.157, 0.235 \\right]  \\\\  \\left[ 0.235, 0.353 \\right]  \\\\  \\left[ 0.235, 0.235 \\right] \\end{bmatrix}\n",
      "\n",
      "W_2^- = \\begin{bmatrix} \\left[ 0.206, 0.343 \\right]  \\\\  \\left[ 0.137, 0.258 \\right]  \\\\  \\left[ 0.206, 0.386 \\right]  \\\\  \\left[ 0.206, 0.258 \\right] \\end{bmatrix}\n",
      "\n",
      "W_2^+ = \\begin{bmatrix} \\left[ 0.206, 0.343 \\right]  \\\\  \\left[ 0.137, 0.258 \\right]  \\\\  \\left[ 0.206, 0.386 \\right]  \\\\  \\left[ 0.206, 0.258 \\right] \\end{bmatrix}\n",
      "\n",
      "    t_{1}^{\\text{L}-} = 0.981, ~~\n",
      "    t_{1}^{\\text{U}-} = 1.02, ~~\n",
      "    t_{1}^{\\text{L}+} = 0.981, ~~\n",
      "    t_{1}^{\\text{U}+} = 1.02\n",
      "\n",
      "\n",
      "    t_{2}^{\\text{L}-} = 0.94, ~~\n",
      "    t_{2}^{\\text{U}-} = 1.069, ~~\n",
      "    t_{2}^{\\text{L}+} = 0.94, ~~\n",
      "    t_{2}^{\\text{U}+} = 1.069\n",
      "\n",
      "\n",
      "\\begin{bmatrix}t_1^- \\\\ t_2^-\\end{bmatrix} = \\begin{bmatrix} 0.981  \\\\  0.94 \\end{bmatrix}, ~~\n",
      "\\begin{bmatrix}t_1^+ \\\\ t_2^+\\end{bmatrix} = \\begin{bmatrix} 1.02  \\\\  0.94 \\end{bmatrix}\n",
      "\n",
      "\n",
      "W = \\begin{bmatrix}\\left[ 0.194, 0.323 \\right] \\\\ \\left[ 0.16, 0.242 \\right] \\\\ \\left[ 0.24, 0.36 \\right] \\\\ \\left[ 0.24, 0.242 \\right]\\end{bmatrix}\n",
      "\n",
      "\\begin{bmatrix}v_1^{\\text{L}-} \\\\ v_2^{\\text{L}-} \\\\ v_3^{\\text{L}-} \\\\ v_4^{\\text{L}-}\\end{bmatrix} = \\begin{bmatrix} 0.194  \\\\  0.129  \\\\  0.194  \\\\  0.194 \\end{bmatrix}, ~~\n",
      "\\begin{bmatrix}v_1^{\\text{U}-} \\\\ v_2^{\\text{U}-} \\\\ v_3^{\\text{U}-} \\\\ v_4^{\\text{U}-}\\end{bmatrix} = \\begin{bmatrix} 0.323  \\\\  0.242  \\\\  0.363  \\\\  0.242 \\end{bmatrix}, ~~\n",
      "\\begin{bmatrix}v_1^{\\text{L}+} \\\\ v_2^{\\text{L}+} \\\\ v_3^{\\text{L}+} \\\\ v_4^{\\text{L}+}\\end{bmatrix} = \\begin{bmatrix} 0.24  \\\\  0.16  \\\\  0.24  \\\\  0.24 \\end{bmatrix}, ~~\n",
      "\\begin{bmatrix}v_1^{\\text{U}+} \\\\ v_2^{\\text{U}+} \\\\ v_3^{\\text{U}+} \\\\ v_4^{\\text{U}+}\\end{bmatrix} = \\begin{bmatrix} 0.32  \\\\  0.24  \\\\  0.36  \\\\  0.24 \\end{bmatrix}\n",
      "\n",
      "\n",
      "\\begin{bmatrix}\\varepsilon_1^\\text{L} \\\\ \\varepsilon_2^\\text{L} \\\\ \\varepsilon_3^\\text{L} \\\\ \\varepsilon_4^\\text{L}\\end{bmatrix} = \\begin{bmatrix} 0.046  \\\\  0.031  \\\\  0.046  \\\\  0.046 \\end{bmatrix}, ~~\n",
      "\\begin{bmatrix}\\varepsilon_1^\\text{U} \\\\ \\varepsilon_2^\\text{U} \\\\ \\varepsilon_3^\\text{U} \\\\ \\varepsilon_4^\\text{U}\\end{bmatrix} = \\begin{bmatrix} 0.003  \\\\  0.002  \\\\  0.003  \\\\  0.002 \\end{bmatrix}\n",
      "\n",
      "\n",
      "\\mathscr{A}^3 = \\begin{bmatrix} \\left[   1.0, \\left[   1.0,   1.0 \\right],   1.0 \\right] & \\left[   0.8, \\left[ 0.992,   2.0 \\right],   2.5 \\right] & \\left[ 0.533, \\left[ 0.667, 1.333 \\right], 1.667 \\right] & \\left[   0.8, \\left[ 0.992, 1.333 \\right], 1.667 \\right] \\\\ \\left[   0.4, \\left[   0.5, 1.008 \\right],  1.25 \\right] & \\left[   1.0, \\left[   1.0,   1.0 \\right],   1.0 \\right] & \\left[ 0.358, \\left[ 0.444,   1.0 \\right],  1.25 \\right] & \\left[ 0.533, \\left[ 0.667,   1.0 \\right],  1.25 \\right] \\\\ \\left[   0.6, \\left[  0.75,   1.5 \\right], 1.875 \\right] & \\left[   0.8, \\left[   1.0,  2.25 \\right],  2.79 \\right] & \\left[   1.0, \\left[   1.0,   1.0 \\right],   1.0 \\right] & \\left[   0.8, \\left[   1.0,   1.5 \\right],  1.86 \\right] \\\\ \\left[   0.6, \\left[  0.75, 1.008 \\right],  1.25 \\right] & \\left[   0.8, \\left[   1.0,   1.5 \\right], 1.875 \\right] & \\left[ 0.538, \\left[ 0.667,   1.0 \\right],  1.25 \\right] & \\left[   1.0, \\left[   1.0,   1.0 \\right],   1.0 \\right] \\end{bmatrix}\n"
     ]
    }
   ],
   "source": [
    "A₁ = [\n",
    "    1..1 1..2 (2/3)..(4/3) 1..(4/3)\n",
    "    (1/2)..1 1..1 (4/9)..1 (2/3)..1\n",
    "    (3/4)..(3/2) 1..(9/4) 1..1 1..(3/2)\n",
    "    (3/4)..1 1..(3/2) (2/3)..1 1..1\n",
    "]\n",
    "_, n = size(A₁)\n",
    "A₂ = fill(1..1, (n, n))\n",
    "for i = 1:n, j = 1:n\n",
    "    if i == j continue end\n",
    "    A₂[i,j] = (A₁[i,j].lo * 4/5)..(A₁[i,j].hi * 5/4)\n",
    "end\n",
    "\n",
    "Â = method3(A₁, A₂)\n",
    "\n",
    "println(\"\\\\mathscr{A}^3 = $(twofoldIntervalMatrixLaTeXString(Â))\")"
   ]
  },
  {
   "cell_type": "markdown",
   "id": "c5c807c9",
   "metadata": {},
   "source": [
    "<!-- ともに弱い整合性を持ち， $A_{1ij} \\subseteq A_{2ij}$\n",
    "\n",
    "```\n",
    "A₁ = [\n",
    "    1..1 2..5 2..4 2..3\n",
    "    (1/5)..(1/2) 1..1 (1/5)..4 (1/5)..3\n",
    "    (1/4)..(1/2) (1/4)..5 1..1 (1/4)..3\n",
    "    (1/3)..(1/2) (1/3)..5 (1/3)..4 1..1\n",
    "]\n",
    "A₂ = fill(1..1, size(A₁))\n",
    "_, n = size(A₁)\n",
    "for i = 1:n, j = 1:n\n",
    "    if i == j continue end\n",
    "    A₂[i,j] = (A₁[i,j].lo * 1/1.1)..(A₁[i,j].hi * 1.1)\n",
    "end\n",
    "\n",
    "display(L\"A_1 = %$(intervalMatrixLaTeXString(A₁))\")\n",
    "display(L\"A_2 = %$(intervalMatrixLaTeXString(A₂))\")\n",
    "\n",
    "display(isConsistentIntervalPCM(A₁))\n",
    "display(isWeaklyConsistentIntervalPCM(A₁))\n",
    "display(isConsistentIntervalPCM(A₂))\n",
    "display(isWeaklyConsistentIntervalPCM(A₂))\n",
    "\n",
    "plotAll(A₁, A₂)\n",
    "``` -->"
   ]
  },
  {
   "attachments": {},
   "cell_type": "markdown",
   "id": "db9f7e4c",
   "metadata": {},
   "source": [
    "# example 3"
   ]
  },
  {
   "cell_type": "code",
   "execution_count": 65,
   "id": "6e1ba351",
   "metadata": {},
   "outputs": [
    {
     "name": "stdout",
     "output_type": "stream",
     "text": [
      "\\varepsilon_1^* = 0.0\n",
      "\n",
      "\\varepsilon_2^* = 0.0\n",
      "\n",
      "W_1^- = \\begin{bmatrix} \\left[ 0.5, 0.502 \\right]  \\\\  \\left[ 0.247, 0.253 \\right]  \\\\  \\left[ 0.123, 0.126 \\right]  \\\\  \\left[ 0.124, 0.125 \\right] \\end{bmatrix}\n",
      "\n",
      "W_1^+ = \\begin{bmatrix} \\left[ 0.5, 0.502 \\right]  \\\\  \\left[ 0.247, 0.253 \\right]  \\\\  \\left[ 0.122, 0.127 \\right]  \\\\  \\left[ 0.123, 0.126 \\right] \\end{bmatrix}\n",
      "\n",
      "W_2^- = \\begin{bmatrix} \\left[ 0.5, 0.5 \\right]  \\\\  \\left[ 0.249, 0.25 \\right]  \\\\  \\left[ 0.124, 0.126 \\right]  \\\\  \\left[ 0.124, 0.126 \\right] \\end{bmatrix}\n",
      "\n",
      "W_2^+ = \\begin{bmatrix} \\left[ 0.5, 0.5 \\right]  \\\\  \\left[ 0.248, 0.25 \\right]  \\\\  \\left[ 0.124, 0.127 \\right]  \\\\  \\left[ 0.123, 0.128 \\right] \\end{bmatrix}\n",
      "\n",
      "    t_{1}^{\\text{L}-} = 1.0, ~~\n",
      "    t_{1}^{\\text{U}-} = 1.0, ~~\n",
      "    t_{1}^{\\text{L}+} = 0.998, ~~\n",
      "    t_{1}^{\\text{U}+} = 1.002\n",
      "\n",
      "\n",
      "    t_{2}^{\\text{L}-} = 1.0, ~~\n",
      "    t_{2}^{\\text{U}-} = 1.0, ~~\n",
      "    t_{2}^{\\text{L}+} = 0.999, ~~\n",
      "    t_{2}^{\\text{U}+} = 1.001\n",
      "\n",
      "\n",
      "\\begin{bmatrix}t_1^- \\\\ t_2^-\\end{bmatrix} = \\begin{bmatrix} 1.0  \\\\  1.0 \\end{bmatrix}, ~~\n",
      "\\begin{bmatrix}t_1^+ \\\\ t_2^+\\end{bmatrix} = \\begin{bmatrix} 0.999  \\\\  1.0 \\end{bmatrix}\n",
      "\n",
      "\n",
      "W = \\begin{bmatrix}\\left[ 0.5, 0.502 \\right] \\\\ \\left[ 0.248, 0.251 \\right] \\\\ \\left[ 0.123, 0.127 \\right] \\\\ \\left[ 0.123, 0.126 \\right]\\end{bmatrix}\n",
      "\n",
      "\\begin{bmatrix}v_1^{\\text{L}-} \\\\ v_2^{\\text{L}-} \\\\ v_3^{\\text{L}-} \\\\ v_4^{\\text{L}-}\\end{bmatrix} = \\begin{bmatrix} 0.5  \\\\  0.247  \\\\  0.123  \\\\  0.123 \\end{bmatrix}, ~~\n",
      "\\begin{bmatrix}v_1^{\\text{U}-} \\\\ v_2^{\\text{U}-} \\\\ v_3^{\\text{U}-} \\\\ v_4^{\\text{U}-}\\end{bmatrix} = \\begin{bmatrix} 0.502  \\\\  0.253  \\\\  0.126  \\\\  0.126 \\end{bmatrix}, ~~\n",
      "\\begin{bmatrix}v_1^{\\text{L}+} \\\\ v_2^{\\text{L}+} \\\\ v_3^{\\text{L}+} \\\\ v_4^{\\text{L}+}\\end{bmatrix} = \\begin{bmatrix} 0.5  \\\\  0.248  \\\\  0.124  \\\\  0.123 \\end{bmatrix}, ~~\n",
      "\\begin{bmatrix}v_1^{\\text{U}+} \\\\ v_2^{\\text{U}+} \\\\ v_3^{\\text{U}+} \\\\ v_4^{\\text{U}+}\\end{bmatrix} = \\begin{bmatrix} 0.5  \\\\  0.25  \\\\  0.126  \\\\  0.126 \\end{bmatrix}\n",
      "\n",
      "\n",
      "\\begin{bmatrix}\\varepsilon_1^\\text{L} \\\\ \\varepsilon_2^\\text{L} \\\\ \\varepsilon_3^\\text{L} \\\\ \\varepsilon_4^\\text{L}\\end{bmatrix} = \\begin{bmatrix} 0.0  \\\\  0.001  \\\\  0.0  \\\\  0.0 \\end{bmatrix}, ~~\n",
      "\\begin{bmatrix}\\varepsilon_1^\\text{U} \\\\ \\varepsilon_2^\\text{U} \\\\ \\varepsilon_3^\\text{U} \\\\ \\varepsilon_4^\\text{U}\\end{bmatrix} = \\begin{bmatrix} 0.002  \\\\  0.002  \\\\  0.0  \\\\  0.0 \\end{bmatrix}\n",
      "\n",
      "\n",
      "\\mathscr{A}^3 = \\begin{bmatrix} \\left[   1.0, \\left[   1.0,   1.0 \\right],   1.0 \\right] & \\left[ 1.981, \\left[ 1.998, 2.021 \\right], 2.033 \\right] & \\left[ 3.948, \\left[ 3.974, 4.057 \\right], 4.071 \\right] & \\left[ 3.962, \\left[ 3.962, 4.055 \\right],  4.07 \\right] \\\\ \\left[ 0.492, \\left[ 0.495,   0.5 \\right], 0.505 \\right] & \\left[   1.0, \\left[   1.0,   1.0 \\right],   1.0 \\right] & \\left[ 1.949, \\left[ 1.967,  2.03 \\right], 2.048 \\right] & \\left[ 1.956, \\left[ 1.961,  2.03 \\right], 2.048 \\right] \\\\ \\left[ 0.246, \\left[ 0.247, 0.252 \\right], 0.253 \\right] & \\left[ 0.488, \\left[ 0.493, 0.509 \\right], 0.513 \\right] & \\left[   1.0, \\left[   1.0,   1.0 \\right],   1.0 \\right] & \\left[ 0.977, \\left[ 0.978,  1.02 \\right], 1.027 \\right] \\\\ \\left[ 0.246, \\left[ 0.247, 0.252 \\right], 0.252 \\right] & \\left[ 0.488, \\left[ 0.493,  0.51 \\right], 0.511 \\right] & \\left[ 0.973, \\left[  0.98, 1.022 \\right], 1.024 \\right] & \\left[   1.0, \\left[   1.0,   1.0 \\right],   1.0 \\right] \\end{bmatrix}\n"
     ]
    }
   ],
   "source": [
    "A = [\n",
    "    1 2 4 4\n",
    "    1/2 1 2 2\n",
    "    1/4 1/2 1 1\n",
    "    1/4 1/2 1 1\n",
    "]\n",
    "\n",
    "A₁ = randamizedIntervalPCM(A, 1234, 3e-2)\n",
    "A₂ = randamizedIntervalPCM(A, 134, 3e-2)\n",
    "\n",
    "Â = method3(A₁, A₂)\n",
    "\n",
    "println(\"\\\\mathscr{A}^3 = $(twofoldIntervalMatrixLaTeXString(Â))\")"
   ]
  },
  {
   "attachments": {},
   "cell_type": "markdown",
   "id": "75d55a58",
   "metadata": {},
   "source": [
    "# example 4"
   ]
  },
  {
   "cell_type": "code",
   "execution_count": 66,
   "id": "efb08e9f",
   "metadata": {},
   "outputs": [
    {
     "name": "stdout",
     "output_type": "stream",
     "text": [
      "\\varepsilon_1^* = 0.0\n",
      "\n",
      "\\varepsilon_2^* = 0.0\n",
      "\n",
      "W_1^- = \\begin{bmatrix} \\left[ 0.481, 0.54 \\right]  \\\\  \\left[ 0.286, 0.34 \\right]  \\\\  \\left[ 0.134, 0.135 \\right]  \\\\  \\left[ 0.04, 0.044 \\right] \\end{bmatrix}\n",
      "\n",
      "W_1^+ = \\begin{bmatrix} \\left[ 0.481, 0.54 \\right]  \\\\  \\left[ 0.216, 0.34 \\right]  \\\\  \\left[ 0.111, 0.214 \\right]  \\\\  \\left[ 0.04, 0.059 \\right] \\end{bmatrix}\n",
      "\n",
      "W_2^- = \\begin{bmatrix} \\left[ 0.501, 0.505 \\right]  \\\\  \\left[ 0.31, 0.324 \\right]  \\\\  \\left[ 0.136, 0.136 \\right]  \\\\  \\left[ 0.04, 0.049 \\right] \\end{bmatrix}\n",
      "\n",
      "W_2^+ = \\begin{bmatrix} \\left[ 0.501, 0.535 \\right]  \\\\  \\left[ 0.24, 0.324 \\right]  \\\\  \\left[ 0.089, 0.224 \\right]  \\\\  \\left[ 0.03, 0.057 \\right] \\end{bmatrix}\n",
      "\n",
      "    t_{1}^{\\text{L}-} = 1.0, ~~\n",
      "    t_{1}^{\\text{U}-} = 1.0, ~~\n",
      "    t_{1}^{\\text{L}+} = 0.973, ~~\n",
      "    t_{1}^{\\text{U}+} = 1.029\n",
      "\n",
      "\n",
      "    t_{2}^{\\text{L}-} = 1.0, ~~\n",
      "    t_{2}^{\\text{U}-} = 1.0, ~~\n",
      "    t_{2}^{\\text{L}+} = 0.995, ~~\n",
      "    t_{2}^{\\text{U}+} = 1.005\n",
      "\n",
      "\n",
      "\\begin{bmatrix}t_1^- \\\\ t_2^-\\end{bmatrix} = \\begin{bmatrix} 1.0  \\\\  1.0 \\end{bmatrix}, ~~\n",
      "\\begin{bmatrix}t_1^+ \\\\ t_2^+\\end{bmatrix} = \\begin{bmatrix} 0.997  \\\\  1.005 \\end{bmatrix}\n",
      "\n",
      "\n",
      "W = \\begin{bmatrix}\\left[ 0.503, 0.54 \\right] \\\\ \\left[ 0.241, 0.34 \\right] \\\\ \\left[ 0.117, 0.17 \\right] \\\\ \\left[ 0.04, 0.049 \\right]\\end{bmatrix}\n",
      "\n",
      "\\begin{bmatrix}v_1^{\\text{L}-} \\\\ v_2^{\\text{L}-} \\\\ v_3^{\\text{L}-} \\\\ v_4^{\\text{L}-}\\end{bmatrix} = \\begin{bmatrix} 0.481  \\\\  0.286  \\\\  0.134  \\\\  0.04 \\end{bmatrix}, ~~\n",
      "\\begin{bmatrix}v_1^{\\text{U}-} \\\\ v_2^{\\text{U}-} \\\\ v_3^{\\text{U}-} \\\\ v_4^{\\text{U}-}\\end{bmatrix} = \\begin{bmatrix} 0.54  \\\\  0.34  \\\\  0.136  \\\\  0.049 \\end{bmatrix}, ~~\n",
      "\\begin{bmatrix}v_1^{\\text{L}+} \\\\ v_2^{\\text{L}+} \\\\ v_3^{\\text{L}+} \\\\ v_4^{\\text{L}+}\\end{bmatrix} = \\begin{bmatrix} 0.503  \\\\  0.241  \\\\  0.111  \\\\  0.04 \\end{bmatrix}, ~~\n",
      "\\begin{bmatrix}v_1^{\\text{U}+} \\\\ v_2^{\\text{U}+} \\\\ v_3^{\\text{U}+} \\\\ v_4^{\\text{U}+}\\end{bmatrix} = \\begin{bmatrix} 0.538  \\\\  0.325  \\\\  0.136  \\\\  0.049 \\end{bmatrix}\n",
      "\n",
      "\n",
      "\\begin{bmatrix}\\varepsilon_1^\\text{L} \\\\ \\varepsilon_2^\\text{L} \\\\ \\varepsilon_3^\\text{L} \\\\ \\varepsilon_4^\\text{L}\\end{bmatrix} = \\begin{bmatrix} 0.022  \\\\  0.0  \\\\  0.0  \\\\  0.0 \\end{bmatrix}, ~~\n",
      "\\begin{bmatrix}\\varepsilon_1^\\text{U} \\\\ \\varepsilon_2^\\text{U} \\\\ \\varepsilon_3^\\text{U} \\\\ \\varepsilon_4^\\text{U}\\end{bmatrix} = \\begin{bmatrix} 0.001  \\\\  0.015  \\\\  0.0  \\\\  0.0 \\end{bmatrix}\n",
      "\n",
      "\n",
      "\\mathscr{A}^3 = \\begin{bmatrix} \\left[   1.0, \\left[   1.0,   1.0 \\right],   1.0 \\right] & \\left[ 1.415, \\left[ 1.547, 1.884 \\right], 2.238 \\right] & \\left[ 2.827, \\left[ 3.706,  4.04 \\right], 4.864 \\right] & \\left[ 9.772, \\left[ 10.226, 13.468 \\right], 13.505 \\right] \\\\ \\left[ 0.447, \\left[ 0.531, 0.646 \\right], 0.707 \\right] & \\left[   1.0, \\left[   1.0,   1.0 \\right],   1.0 \\right] & \\left[ 1.417, \\left[ 1.776, 2.545 \\right], 3.064 \\right] & \\left[   4.9, \\left[ 5.821, 8.141 \\right], 8.509 \\right] \\\\ \\left[ 0.206, \\left[ 0.248,  0.27 \\right], 0.354 \\right] & \\left[ 0.326, \\left[ 0.393, 0.563 \\right], 0.706 \\right] & \\left[   1.0, \\left[   1.0,   1.0 \\right],   1.0 \\right] & \\left[ 2.254, \\left[ 2.714, 3.399 \\right], 4.259 \\right] \\\\ \\left[ 0.074, \\left[ 0.074, 0.098 \\right], 0.102 \\right] & \\left[ 0.118, \\left[ 0.123, 0.172 \\right], 0.204 \\right] & \\left[ 0.235, \\left[ 0.294, 0.368 \\right], 0.444 \\right] & \\left[   1.0, \\left[   1.0,   1.0 \\right],   1.0 \\right] \\end{bmatrix}\n"
     ]
    }
   ],
   "source": [
    "A = [\n",
    "    1 2 3 10\n",
    "    1/2 1 3 8\n",
    "    1/3 1/3 1 3\n",
    "    1/10 1/8 1/3 1\n",
    "]\n",
    "\n",
    "A₁ = randamizedIntervalPCM(A, 124, 4e-1)\n",
    "A₂ = randamizedIntervalPCM(A, 411, 4e-1)\n",
    "\n",
    "Â = method3(A₁, A₂)\n",
    "\n",
    "println(\"\\\\mathscr{A}^3 = $(twofoldIntervalMatrixLaTeXString(Â))\")"
   ]
  },
  {
   "cell_type": "code",
   "execution_count": 67,
   "id": "28f7c269-9bb7-41fc-966d-f6a2f02aa66f",
   "metadata": {},
   "outputs": [],
   "source": []
  }
 ],
 "metadata": {
  "kernelspec": {
   "display_name": "Julia 1.8.5",
   "language": "julia",
   "name": "julia-1.8"
  },
  "language_info": {
   "file_extension": ".jl",
   "mimetype": "application/julia",
   "name": "julia",
   "version": "1.8.5"
  },
  "vscode": {
   "interpreter": {
    "hash": "d4d1e4263499bec80672ea0156c357c1ee493ec2b1c70f0acce89fc37c4a6abe"
   }
  }
 },
 "nbformat": 4,
 "nbformat_minor": 5
}
