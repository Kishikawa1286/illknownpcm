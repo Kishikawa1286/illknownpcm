{
 "cells": [
  {
   "cell_type": "code",
   "execution_count": 16,
   "id": "a661200b-0885-4ad6-9e50-f9b552f74857",
   "metadata": {},
   "outputs": [],
   "source": [
    "using IntervalArithmetic\n",
    "using LaTeXStrings\n",
    "using Plots"
   ]
  },
  {
   "cell_type": "code",
   "execution_count": 17,
   "id": "6ae45f35-7c99-45c9-a934-88166cfef5fb",
   "metadata": {},
   "outputs": [],
   "source": [
    "include(\"./method4/index.jl\")\n",
    "include(\"./intervalPCM/index.jl\")\n",
    "include(\"./twofoldInterval/index.jl\")\n",
    "include(\"./twofoldIntervalPCM/index.jl\")\n",
    "\n",
    "print()"
   ]
  },
  {
   "cell_type": "code",
   "execution_count": 18,
   "id": "00c417be",
   "metadata": {},
   "outputs": [
    {
     "data": {
      "text/plain": [
       "laTeXMatrix (generic function with 1 method)"
      ]
     },
     "metadata": {},
     "output_type": "display_data"
    }
   ],
   "source": [
    "function laTeXMatrix(\n",
    "        pattern,\n",
    "        size::Tuple{Integer, Integer})::String\n",
    "    m, n = size\n",
    "\n",
    "    mat = \"\\\\begin{bmatrix}\"\n",
    "    for i = 1:m, j = 1:n\n",
    "        mat *= pattern(i, j)\n",
    "        if j == n\n",
    "            if i != m\n",
    "                mat *= \" \\\\\\\\ \"\n",
    "            end\n",
    "        else\n",
    "            mat *= \" & \"\n",
    "        end\n",
    "    end\n",
    "    mat *= \"\\\\end{bmatrix}\"\n",
    "\n",
    "    return mat\n",
    "end"
   ]
  },
  {
   "cell_type": "code",
   "execution_count": 19,
   "id": "98b3f285",
   "metadata": {},
   "outputs": [
    {
     "data": {
      "text/plain": [
       "method4 (generic function with 1 method)"
      ]
     },
     "metadata": {},
     "output_type": "display_data"
    }
   ],
   "source": [
    "function method4(A₁::Matrix{Interval{T}}, A₂::Matrix{Interval{T}}) where {T <: Real}\n",
    "    _, n = size(A₁)\n",
    "\n",
    "    results = solveApproximationLP_m4.([A₁, A₂])\n",
    "    A = generateTwofoldIntervalMatrix_m4(results)\n",
    "    println(\"A = $(twofoldIntervalMatrixLaTeXString(A))\"); println()\n",
    "\n",
    "    result = solveCancellingLP_m4(A)\n",
    "    resultₛₜᵣ = cancellingLPResultLaTeXString_m4(result)\n",
    "    println(\"W = $(resultₛₜᵣ.W)\"); println()\n",
    "    println(\"\"\"\n",
    "        $(laTeXMatrix((i,j) -> \"w_$i^{\\\\text{L}-}\", (n, 1))) = $(resultₛₜᵣ.wᴸ⁻), ~~\n",
    "        $(laTeXMatrix((i,j) -> \"w_$i^{\\\\text{U}-}\", (n, 1))) = $(resultₛₜᵣ.wᵁ⁻), ~~\n",
    "        $(laTeXMatrix((i,j) -> \"w_$i^{\\\\text{L}+}\", (n, 1))) = $(resultₛₜᵣ.wᴸ⁺), ~~\n",
    "        $(laTeXMatrix((i,j) -> \"w_$i^{\\\\text{U}+}\", (n, 1))) = $(resultₛₜᵣ.wᵁ⁺)\n",
    "        \"\"\"); println()\n",
    "    println(\"\"\"\n",
    "        $(laTeXMatrix((i,j) -> \"\\\\varepsilon_$i^\\\\text{L}\", (n, 1))) = $(resultₛₜᵣ.εᴸ), ~~\n",
    "        $(laTeXMatrix((i,j) -> \"\\\\varepsilon_$i^\\\\text{U}\", (n, 1))) = $(resultₛₜᵣ.εᵁ)\n",
    "        \"\"\"); println()\n",
    "\n",
    "    Â = updatePCM_m4(A, result)\n",
    "\n",
    "    displayCancellingLPResultLaTeXString_m4(result)\n",
    "    display(L\"A = %$(twofoldIntervalMatrixLaTeXString(Â))\")\n",
    "\n",
    "    return\n",
    "end"
   ]
  },
  {
   "attachments": {},
   "cell_type": "markdown",
   "id": "e0934d78",
   "metadata": {},
   "source": [
    "# example 1"
   ]
  },
  {
   "cell_type": "code",
   "execution_count": 20,
   "id": "7a539df8",
   "metadata": {},
   "outputs": [
    {
     "name": "stdout",
     "output_type": "stream",
     "text": [
      "A = \\begin{bmatrix} \\left[   1.0, \\left[   1.0,   1.0 \\right],   1.0 \\right] & \\left[   1.0, \\left[   1.0,   2.0 \\right],   2.0 \\right] & \\left[ 0.667, \\left[ 0.667, 1.333 \\right], 1.333 \\right] & \\left[   1.0, \\left[   1.0, 1.333 \\right], 1.333 \\right] \\\\ \\left[   0.5, \\left[   0.5,   1.0 \\right],   1.0 \\right] & \\left[   1.0, \\left[   1.0,   1.0 \\right],   1.0 \\right] & \\left[ 0.444, \\left[ 0.444,   1.0 \\right],   1.0 \\right] & \\left[ 0.667, \\left[ 0.667,   1.0 \\right],   1.0 \\right] \\\\ \\left[  0.75, \\left[  0.75,   1.5 \\right],   1.5 \\right] & \\left[   1.0, \\left[   1.0,  2.25 \\right],  2.25 \\right] & \\left[   1.0, \\left[   1.0,   1.0 \\right],   1.0 \\right] & \\left[   1.0, \\left[   1.0,   1.5 \\right],   1.5 \\right] \\\\ \\left[  0.75, \\left[  0.75,   1.0 \\right],   1.0 \\right] & \\left[   1.0, \\left[   1.0,   1.5 \\right],   1.5 \\right] & \\left[ 0.667, \\left[ 0.667,   1.0 \\right],   1.0 \\right] & \\left[   1.0, \\left[   1.0,   1.0 \\right],   1.0 \\right] \\end{bmatrix}\n",
      "\n",
      "W = \\begin{bmatrix}\\left[ 0.235, 0.314 \\right] \\\\ \\left[ 0.157, 0.235 \\right] \\\\ \\left[ 0.235, 0.353 \\right] \\\\ \\left[ 0.235, 0.235 \\right]\\end{bmatrix}"
     ]
    },
    {
     "data": {
      "text/latex": [
       "$W = \\begin{bmatrix}\\left[ 0.235, 0.314 \\right] \\\\ \\left[ 0.157, 0.235 \\right] \\\\ \\left[ 0.235, 0.353 \\right] \\\\ \\left[ 0.235, 0.235 \\right]\\end{bmatrix}$"
      ],
      "text/plain": [
       "L\"$W = \\begin{bmatrix}\\left[ 0.235, 0.314 \\right] \\\\ \\left[ 0.157, 0.235 \\right] \\\\ \\left[ 0.235, 0.353 \\right] \\\\ \\left[ 0.235, 0.235 \\right]\\end{bmatrix}$\""
      ]
     },
     "metadata": {},
     "output_type": "display_data"
    },
    {
     "data": {
      "text/latex": [
       "$w^{\\text{L}-} = \\begin{bmatrix} 0.235  \\\\  0.157  \\\\  0.235  \\\\  0.235 \\end{bmatrix}, ~~\n",
       "w^{\\text{U}-} = \\begin{bmatrix} 0.314  \\\\  0.235  \\\\  0.353  \\\\  0.235 \\end{bmatrix}, ~~\n",
       "w^{\\text{L}+} = \\begin{bmatrix} 0.235  \\\\  0.157  \\\\  0.235  \\\\  0.235 \\end{bmatrix}, ~~\n",
       "w^{\\text{U}+} = \\begin{bmatrix} 0.314  \\\\  0.235  \\\\  0.353  \\\\  0.235 \\end{bmatrix}\n",
       "$"
      ],
      "text/plain": [
       "L\"$w^{\\text{L}-} = \\begin{bmatrix} 0.235  \\\\  0.157  \\\\  0.235  \\\\  0.235 \\end{bmatrix}, ~~\n",
       "w^{\\text{U}-} = \\begin{bmatrix} 0.314  \\\\  0.235  \\\\  0.353  \\\\  0.235 \\end{bmatrix}, ~~\n",
       "w^{\\text{L}+} = \\begin{bmatrix} 0.235  \\\\  0.157  \\\\  0.235  \\\\  0.235 \\end{bmatrix}, ~~\n",
       "w^{\\text{U}+} = \\begin{bmatrix} 0.314  \\\\  0.235  \\\\  0.353  \\\\  0.235 \\end{bmatrix}\n",
       "$\""
      ]
     },
     "metadata": {},
     "output_type": "display_data"
    },
    {
     "data": {
      "text/latex": [
       "$\\varepsilon^\\text{L} = \\begin{bmatrix} 0.0  \\\\  0.0  \\\\  0.0  \\\\  0.0 \\end{bmatrix}, ~~\n",
       "\\varepsilon^\\text{U} = \\begin{bmatrix} 0.0  \\\\  0.0  \\\\  0.0  \\\\  0.0 \\end{bmatrix}\n",
       "$"
      ],
      "text/plain": [
       "L\"$\\varepsilon^\\text{L} = \\begin{bmatrix} 0.0  \\\\  0.0  \\\\  0.0  \\\\  0.0 \\end{bmatrix}, ~~\n",
       "\\varepsilon^\\text{U} = \\begin{bmatrix} 0.0  \\\\  0.0  \\\\  0.0  \\\\  0.0 \\end{bmatrix}\n",
       "$\""
      ]
     },
     "metadata": {},
     "output_type": "display_data"
    },
    {
     "data": {
      "text/latex": [
       "$A = \\begin{bmatrix} \\left[   1.0, \\left[   1.0,   1.0 \\right],   1.0 \\right] & \\left[   1.0, \\left[   1.0,   2.0 \\right],   2.0 \\right] & \\left[ 0.667, \\left[ 0.667, 1.333 \\right], 1.333 \\right] & \\left[   1.0, \\left[   1.0, 1.333 \\right], 1.333 \\right] \\\\ \\left[   0.5, \\left[   0.5,   1.0 \\right],   1.0 \\right] & \\left[   1.0, \\left[   1.0,   1.0 \\right],   1.0 \\right] & \\left[ 0.444, \\left[ 0.444,   1.0 \\right],   1.0 \\right] & \\left[ 0.667, \\left[ 0.667,   1.0 \\right],   1.0 \\right] \\\\ \\left[  0.75, \\left[  0.75,   1.5 \\right],   1.5 \\right] & \\left[   1.0, \\left[   1.0,  2.25 \\right],  2.25 \\right] & \\left[   1.0, \\left[   1.0,   1.0 \\right],   1.0 \\right] & \\left[   1.0, \\left[   1.0,   1.5 \\right],   1.5 \\right] \\\\ \\left[  0.75, \\left[  0.75,   1.0 \\right],   1.0 \\right] & \\left[   1.0, \\left[   1.0,   1.5 \\right],   1.5 \\right] & \\left[ 0.667, \\left[ 0.667,   1.0 \\right],   1.0 \\right] & \\left[   1.0, \\left[   1.0,   1.0 \\right],   1.0 \\right] \\end{bmatrix}$"
      ],
      "text/plain": [
       "\"\\$A = \\\\begin{bmatrix} \\\\left[   1.0, \\\\left[   1.0,   1.0 \\\\right],   1.0 \\\\right] & \\\\left[   1.0, \\\\left[   1.0,   2.0 \\\\right],   2.0 \\\\right] & \\\\left[ 0.667, \\\\left[ 0.667, 1.333 \\\\right], 1.333 \\\\right] & \\\\left[   1.0, \\\\left[   1.0, 1.333 \\\\right], 1.333 \\\\right] \\\\\\\\ \\\\left[   0.5,\" ⋯ 439 bytes ⋯ \"ht],   1.5 \\\\right] \\\\\\\\ \\\\left[  0.75, \\\\left[  0.75,   1.0 \\\\right],   1.0 \\\\right] & \\\\left[   1.0, \\\\left[   1.0,   1.5 \\\\right],   1.5 \\\\right] & \\\\left[ 0.667, \\\\left[ 0.667,   1.0 \\\\right],   1.0 \\\\right] & \\\\left[   1.0, \\\\left[   1.0,   1.0 \\\\right],   1.0 \\\\right] \\\\end{bmatrix}\\$\""
      ]
     },
     "metadata": {},
     "output_type": "display_data"
    },
    {
     "name": "stdout",
     "output_type": "stream",
     "text": [
      "\n",
      "\n",
      "\\begin{bmatrix}w_1^{\\text{L}-} \\\\ w_2^{\\text{L}-} \\\\ w_3^{\\text{L}-} \\\\ w_4^{\\text{L}-}\\end{bmatrix} = \\begin{bmatrix} 0.235  \\\\  0.157  \\\\  0.235  \\\\  0.235 \\end{bmatrix}, ~~\n",
      "\\begin{bmatrix}w_1^{\\text{U}-} \\\\ w_2^{\\text{U}-} \\\\ w_3^{\\text{U}-} \\\\ w_4^{\\text{U}-}\\end{bmatrix} = \\begin{bmatrix} 0.314  \\\\  0.235  \\\\  0.353  \\\\  0.235 \\end{bmatrix}, ~~\n",
      "\\begin{bmatrix}w_1^{\\text{L}+} \\\\ w_2^{\\text{L}+} \\\\ w_3^{\\text{L}+} \\\\ w_4^{\\text{L}+}\\end{bmatrix} = \\begin{bmatrix} 0.235  \\\\  0.157  \\\\  0.235  \\\\  0.235 \\end{bmatrix}, ~~\n",
      "\\begin{bmatrix}w_1^{\\text{U}+} \\\\ w_2^{\\text{U}+} \\\\ w_3^{\\text{U}+} \\\\ w_4^{\\text{U}+}\\end{bmatrix} = \\begin{bmatrix} 0.314  \\\\  0.235  \\\\  0.353  \\\\  0.235 \\end{bmatrix}\n",
      "\n",
      "\n",
      "\\begin{bmatrix}\\varepsilon_1^\\text{L} \\\\ \\varepsilon_2^\\text{L} \\\\ \\varepsilon_3^\\text{L} \\\\ \\varepsilon_4^\\text{L}\\end{bmatrix} = \\begin{bmatrix} 0.0  \\\\  0.0  \\\\  0.0  \\\\  0.0 \\end{bmatrix}, ~~\n",
      "\\begin{bmatrix}\\varepsilon_1^\\text{U} \\\\ \\varepsilon_2^\\text{U} \\\\ \\varepsilon_3^\\text{U} \\\\ \\varepsilon_4^\\text{U}\\end{bmatrix} = \\begin{bmatrix} 0.0  \\\\  0.0  \\\\  0.0  \\\\  0.0 \\end{bmatrix}\n",
      "\n",
      "\n"
     ]
    }
   ],
   "source": [
    "A₁ = [\n",
    "    1..1 1..2 (2/3)..(4/3) 1..(4/3)\n",
    "    (1/2)..1 1..1 (4/9)..1 (2/3)..1\n",
    "    (3/4)..(3/2) 1..(9/4) 1..1 1..(3/2)\n",
    "    (3/4)..1 1..(3/2) (2/3)..1 1..1\n",
    "]\n",
    "A₂ = A₁\n",
    "\n",
    "method4(A₁, A₂)"
   ]
  },
  {
   "attachments": {},
   "cell_type": "markdown",
   "id": "f23c1019",
   "metadata": {},
   "source": [
    "# example 2"
   ]
  },
  {
   "cell_type": "code",
   "execution_count": 6,
   "id": "9af5bd92",
   "metadata": {},
   "outputs": [
    {
     "name": "stdout",
     "output_type": "stream",
     "text": [
      "A = \\begin{bmatrix} \\left[   1.0, \\left[   1.0,   1.0 \\right],   1.0 \\right] & \\left[   0.8, \\emptyset,   2.5 \\right] & \\left[ 0.533, \\emptyset, 1.667 \\right] & \\left[   0.8, \\emptyset, 1.667 \\right] \\\\ \\left[   0.4, \\emptyset,  1.25 \\right] & \\left[   1.0, \\left[   1.0,   1.0 \\right],   1.0 \\right] & \\left[ 0.356, \\emptyset,  1.25 \\right] & \\left[ 0.533, \\left[ 0.667, 0.667 \\right],  1.25 \\right] \\\\ \\left[   0.6, \\emptyset, 1.875 \\right] & \\left[   0.8, \\emptyset, 2.812 \\right] & \\left[   1.0, \\left[   1.0,   1.0 \\right],   1.0 \\right] & \\left[   0.8, \\emptyset, 1.875 \\right] \\\\ \\left[   0.6, \\emptyset,  1.25 \\right] & \\left[   0.8, \\left[   1.5,   1.5 \\right], 1.875 \\right] & \\left[ 0.533, \\emptyset,  1.25 \\right] & \\left[   1.0, \\left[   1.0,   1.0 \\right],   1.0 \\right] \\end{bmatrix}\n",
      "\n",
      "W = \\begin{bmatrix}\\left[ 0.22, 0.22 \\right] \\\\ \\left[ 0.147, 0.147 \\right] \\\\ \\left[ 0.413, 0.413 \\right] \\\\ \\left[ 0.22, 0.22 \\right]\\end{bmatrix}\n",
      "\n",
      "\\begin{bmatrix}w_1^{\\text{L}-} \\\\ w_2^{\\text{L}-} \\\\ w_3^{\\text{L}-} \\\\ w_4^{\\text{L}-}\\end{bmatrix} = \\begin{bmatrix} 0.22  \\\\  0.147  \\\\  0.413  \\\\  0.22 \\end{bmatrix}, ~~\n",
      "\\begin{bmatrix}w_1^{\\text{U}-} \\\\ w_2^{\\text{U}-} \\\\ w_3^{\\text{U}-} \\\\ w_4^{\\text{U}-}\\end{bmatrix} = \\begin{bmatrix} 0.22  \\\\  0.147  \\\\  0.413  \\\\  0.22 \\end{bmatrix}, ~~\n",
      "\\begin{bmatrix}w_1^{\\text{L}+} \\\\ w_2^{\\text{L}+} \\\\ w_3^{\\text{L}+} \\\\ w_4^{\\text{L}+}\\end{bmatrix} = \\begin{bmatrix} 0.22  \\\\  0.147  \\\\  0.413  \\\\  0.22 \\end{bmatrix}, ~~\n",
      "\\begin{bmatrix}w_1^{\\text{U}+} \\\\ w_2^{\\text{U}+} \\\\ w_3^{\\text{U}+} \\\\ w_4^{\\text{U}+}\\end{bmatrix} = \\begin{bmatrix} 0.22  \\\\  0.147  \\\\  0.413  \\\\  0.22 \\end{bmatrix}\n",
      "\n",
      "\n",
      "\\begin{bmatrix}\\varepsilon_1^\\text{L} \\\\ \\varepsilon_2^\\text{L} \\\\ \\varepsilon_3^\\text{L} \\\\ \\varepsilon_4^\\text{L}\\end{bmatrix} = \\begin{bmatrix} 0.0  \\\\  0.0  \\\\  0.0  \\\\  0.0 \\end{bmatrix}, ~~\n",
      "\\begin{bmatrix}\\varepsilon_1^\\text{U} \\\\ \\varepsilon_2^\\text{U} \\\\ \\varepsilon_3^\\text{U} \\\\ \\varepsilon_4^\\text{U}\\end{bmatrix} = \\begin{bmatrix} 0.0  \\\\  0.0  \\\\  0.0  \\\\  0.0 \\end{bmatrix}\n",
      "\n",
      "\n"
     ]
    }
   ],
   "source": [
    "A₁ = [\n",
    "    1..1 1..2 (2/3)..(4/3) 1..(4/3)\n",
    "    (1/2)..1 1..1 (4/9)..1 (2/3)..1\n",
    "    (3/4)..(3/2) 1..(9/4) 1..1 1..(3/2)\n",
    "    (3/4)..1 1..(3/2) (2/3)..1 1..1\n",
    "]\n",
    "_, n = size(A₁)\n",
    "A₂ = fill(1..1, (n, n))\n",
    "for i = 1:n, j = 1:n\n",
    "    if i == j continue end\n",
    "    A₂[i,j] = (A₁[i,j].lo * 4 / 5)..(A₁[i,j].hi * 5 / 4)\n",
    "end\n",
    "\n",
    "method4(A₁, A₂)"
   ]
  },
  {
   "cell_type": "markdown",
   "id": "c5c807c9",
   "metadata": {},
   "source": [
    "<!-- ともに弱い整合性を持ち， $A_{1ij} \\subseteq A_{2ij}$\n",
    "\n",
    "```\n",
    "A₁ = [\n",
    "    1..1 2..5 2..4 2..3\n",
    "    (1/5)..(1/2) 1..1 (1/5)..4 (1/5)..3\n",
    "    (1/4)..(1/2) (1/4)..5 1..1 (1/4)..3\n",
    "    (1/3)..(1/2) (1/3)..5 (1/3)..4 1..1\n",
    "]\n",
    "A₂ = fill(1..1, size(A₁))\n",
    "_, n = size(A₁)\n",
    "for i = 1:n, j = 1:n\n",
    "    if i == j continue end\n",
    "    A₂[i,j] = (A₁[i,j].lo * 1/1.1)..(A₁[i,j].hi * 1.1)\n",
    "end\n",
    "\n",
    "display(L\"A_1 = %$(intervalMatrixLaTeXString(A₁))\")\n",
    "display(L\"A_2 = %$(intervalMatrixLaTeXString(A₂))\")\n",
    "\n",
    "display(isConsistentIntervalPCM(A₁))\n",
    "display(isWeaklyConsistentIntervalPCM(A₁))\n",
    "display(isConsistentIntervalPCM(A₂))\n",
    "display(isWeaklyConsistentIntervalPCM(A₂))\n",
    "\n",
    "plotAll(A₁, A₂)\n",
    "``` -->"
   ]
  },
  {
   "attachments": {},
   "cell_type": "markdown",
   "id": "db9f7e4c",
   "metadata": {},
   "source": [
    "# example 3"
   ]
  },
  {
   "cell_type": "code",
   "execution_count": 7,
   "id": "6e1ba351",
   "metadata": {},
   "outputs": [
    {
     "name": "stdout",
     "output_type": "stream",
     "text": [
      "A = \\begin{bmatrix} \\left[   1.0, \\left[   1.0,   1.0 \\right],   1.0 \\right] & \\left[ 1.981, \\emptyset, 2.033 \\right] & \\left[ 3.944, \\emptyset, 4.109 \\right] & \\left[ 3.937, \\emptyset, 4.061 \\right] \\\\ \\left[ 0.492, \\emptyset, 0.505 \\right] & \\left[   1.0, \\left[   1.0,   1.0 \\right],   1.0 \\right] & \\left[ 1.944, \\emptyset, 2.075 \\right] & \\left[ 1.942, \\emptyset, 2.045 \\right] \\\\ \\left[ 0.243, \\emptyset, 0.254 \\right] & \\left[ 0.482, \\emptyset, 0.515 \\right] & \\left[   1.0, \\left[   1.0,   1.0 \\right],   1.0 \\right] & \\left[ 0.963, \\emptyset,  1.03 \\right] \\\\ \\left[ 0.246, \\emptyset, 0.254 \\right] & \\left[ 0.489, \\emptyset, 0.515 \\right] & \\left[ 0.971, \\emptyset, 1.038 \\right] & \\left[   1.0, \\left[   1.0,   1.0 \\right],   1.0 \\right] \\end{bmatrix}\n",
      "\n",
      "W = \\begin{bmatrix}\\left[ 0.503, 0.503 \\right] \\\\ \\left[ 0.247, 0.247 \\right] \\\\ \\left[ 0.122, 0.122 \\right] \\\\ \\left[ 0.127, 0.127 \\right]\\end{bmatrix}\n",
      "\n",
      "\\begin{bmatrix}w_1^{\\text{L}-} \\\\ w_2^{\\text{L}-} \\\\ w_3^{\\text{L}-} \\\\ w_4^{\\text{L}-}\\end{bmatrix} = \\begin{bmatrix} 0.503  \\\\  0.247  \\\\  0.122  \\\\  0.127 \\end{bmatrix}, ~~\n",
      "\\begin{bmatrix}w_1^{\\text{U}-} \\\\ w_2^{\\text{U}-} \\\\ w_3^{\\text{U}-} \\\\ w_4^{\\text{U}-}\\end{bmatrix} = \\begin{bmatrix} 0.503  \\\\  0.247  \\\\  0.122  \\\\  0.127 \\end{bmatrix}, ~~\n",
      "\\begin{bmatrix}w_1^{\\text{L}+} \\\\ w_2^{\\text{L}+} \\\\ w_3^{\\text{L}+} \\\\ w_4^{\\text{L}+}\\end{bmatrix} = \\begin{bmatrix} 0.503  \\\\  0.247  \\\\  0.122  \\\\  0.127 \\end{bmatrix}, ~~\n",
      "\\begin{bmatrix}w_1^{\\text{U}+} \\\\ w_2^{\\text{U}+} \\\\ w_3^{\\text{U}+} \\\\ w_4^{\\text{U}+}\\end{bmatrix} = \\begin{bmatrix} 0.503  \\\\  0.247  \\\\  0.122  \\\\  0.127 \\end{bmatrix}\n",
      "\n",
      "\n",
      "\\begin{bmatrix}\\varepsilon_1^\\text{L} \\\\ \\varepsilon_2^\\text{L} \\\\ \\varepsilon_3^\\text{L} \\\\ \\varepsilon_4^\\text{L}\\end{bmatrix} = \\begin{bmatrix} 0.0  \\\\  0.0  \\\\  0.0  \\\\  0.0 \\end{bmatrix}, ~~\n",
      "\\begin{bmatrix}\\varepsilon_1^\\text{U} \\\\ \\varepsilon_2^\\text{U} \\\\ \\varepsilon_3^\\text{U} \\\\ \\varepsilon_4^\\text{U}\\end{bmatrix} = \\begin{bmatrix} 0.0  \\\\  0.0  \\\\  0.0  \\\\  0.0 \\end{bmatrix}\n",
      "\n",
      "\n"
     ]
    }
   ],
   "source": [
    "A = [\n",
    "    1 2 4 4\n",
    "    1/2 1 2 2\n",
    "    1/4 1/2 1 1\n",
    "    1/4 1/2 1 1\n",
    "]\n",
    "\n",
    "A₁ = randamizedIntervalPCM(A, 1234, 3e-2)\n",
    "A₂ = randamizedIntervalPCM(A, 134, 3e-2)\n",
    "\n",
    "method4(A₁, A₂)"
   ]
  },
  {
   "attachments": {},
   "cell_type": "markdown",
   "id": "75d55a58",
   "metadata": {},
   "source": [
    "# example 4"
   ]
  },
  {
   "cell_type": "code",
   "execution_count": 8,
   "id": "efb08e9f",
   "metadata": {},
   "outputs": [
    {
     "name": "stdout",
     "output_type": "stream",
     "text": [
      "A = \\begin{bmatrix} \\left[   1.0, \\left[   1.0,   1.0 \\right],   1.0 \\right] & \\left[ 1.477, \\emptyset, 2.772 \\right] & \\left[ 2.334, \\emptyset, 5.757 \\right] & \\left[ 8.353, \\emptyset, 15.515 \\right] \\\\ \\left[ 0.361, \\emptyset, 0.677 \\right] & \\left[   1.0, \\left[   1.0,   1.0 \\right],   1.0 \\right] & \\left[ 0.864, \\emptyset, 3.835 \\right] & \\left[ 3.163, \\emptyset, 10.334 \\right] \\\\ \\left[ 0.174, \\emptyset, 0.428 \\right] & \\left[ 0.261, \\emptyset, 1.157 \\right] & \\left[   1.0, \\left[   1.0,   1.0 \\right],   1.0 \\right] & \\left[ 1.523, \\emptyset, 6.475 \\right] \\\\ \\left[ 0.064, \\emptyset,  0.12 \\right] & \\left[ 0.097, \\emptyset, 0.316 \\right] & \\left[ 0.154, \\emptyset, 0.656 \\right] & \\left[   1.0, \\left[   1.0,   1.0 \\right],   1.0 \\right] \\end{bmatrix}\n",
      "\n",
      "W = \\begin{bmatrix}\\left[ 0.625, 0.625 \\right] \\\\ \\left[ 0.226, 0.226 \\right] \\\\ \\left[ 0.109, 0.109 \\right] \\\\ \\left[ 0.04, 0.04 \\right]\\end{bmatrix}\n",
      "\n",
      "\\begin{bmatrix}w_1^{\\text{L}-} \\\\ w_2^{\\text{L}-} \\\\ w_3^{\\text{L}-} \\\\ w_4^{\\text{L}-}\\end{bmatrix} = \\begin{bmatrix} 0.625  \\\\  0.226  \\\\  0.109  \\\\  0.04 \\end{bmatrix}, ~~\n",
      "\\begin{bmatrix}w_1^{\\text{U}-} \\\\ w_2^{\\text{U}-} \\\\ w_3^{\\text{U}-} \\\\ w_4^{\\text{U}-}\\end{bmatrix} = \\begin{bmatrix} 0.625  \\\\  0.226  \\\\  0.109  \\\\  0.04 \\end{bmatrix}, ~~\n",
      "\\begin{bmatrix}w_1^{\\text{L}+} \\\\ w_2^{\\text{L}+} \\\\ w_3^{\\text{L}+} \\\\ w_4^{\\text{L}+}\\end{bmatrix} = \\begin{bmatrix} 0.625  \\\\  0.226  \\\\  0.109  \\\\  0.04 \\end{bmatrix}, ~~\n",
      "\\begin{bmatrix}w_1^{\\text{U}+} \\\\ w_2^{\\text{U}+} \\\\ w_3^{\\text{U}+} \\\\ w_4^{\\text{U}+}\\end{bmatrix} = \\begin{bmatrix} 0.625  \\\\  0.226  \\\\  0.109  \\\\  0.04 \\end{bmatrix}\n",
      "\n",
      "\n",
      "\\begin{bmatrix}\\varepsilon_1^\\text{L} \\\\ \\varepsilon_2^\\text{L} \\\\ \\varepsilon_3^\\text{L} \\\\ \\varepsilon_4^\\text{L}\\end{bmatrix} = \\begin{bmatrix} 0.0  \\\\  0.0  \\\\  0.0  \\\\  0.0 \\end{bmatrix}, ~~\n",
      "\\begin{bmatrix}\\varepsilon_1^\\text{U} \\\\ \\varepsilon_2^\\text{U} \\\\ \\varepsilon_3^\\text{U} \\\\ \\varepsilon_4^\\text{U}\\end{bmatrix} = \\begin{bmatrix} 0.0  \\\\  0.0  \\\\  0.0  \\\\  0.0 \\end{bmatrix}\n",
      "\n",
      "\n"
     ]
    }
   ],
   "source": [
    "A = [\n",
    "    1 2 3 10\n",
    "    1/2 1 3 8\n",
    "    1/3 1/3 1 3\n",
    "    1/10 1/8 1/3 1\n",
    "]\n",
    "\n",
    "A₁ = randamizedIntervalPCM(A, 124, 3.5e-1)\n",
    "A₂ = randamizedIntervalPCM(A, 4, 3.5e-1)\n",
    "\n",
    "method4(A₁, A₂)"
   ]
  },
  {
   "cell_type": "code",
   "execution_count": 9,
   "id": "28f7c269-9bb7-41fc-966d-f6a2f02aa66f",
   "metadata": {},
   "outputs": [],
   "source": []
  }
 ],
 "metadata": {
  "kernelspec": {
   "display_name": "Julia 1.8.5",
   "language": "julia",
   "name": "julia-1.8"
  },
  "language_info": {
   "file_extension": ".jl",
   "mimetype": "application/julia",
   "name": "julia",
   "version": "1.8.5"
  },
  "vscode": {
   "interpreter": {
    "hash": "d4d1e4263499bec80672ea0156c357c1ee493ec2b1c70f0acce89fc37c4a6abe"
   }
  }
 },
 "nbformat": 4,
 "nbformat_minor": 5
}
