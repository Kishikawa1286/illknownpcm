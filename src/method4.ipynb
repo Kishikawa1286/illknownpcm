{
 "cells": [
  {
   "cell_type": "code",
   "execution_count": 40,
   "id": "a661200b-0885-4ad6-9e50-f9b552f74857",
   "metadata": {},
   "outputs": [],
   "source": [
    "using IntervalArithmetic\n",
    "using LaTeXStrings\n",
    "using Plots"
   ]
  },
  {
   "cell_type": "code",
   "execution_count": 41,
   "id": "6ae45f35-7c99-45c9-a934-88166cfef5fb",
   "metadata": {},
   "outputs": [],
   "source": [
    "include(\"./method4/index.jl\")\n",
    "include(\"./intervalPCM/index.jl\")\n",
    "include(\"./twofoldInterval/index.jl\")\n",
    "include(\"./twofoldIntervalPCM/index.jl\")\n",
    "\n",
    "print()"
   ]
  },
  {
   "cell_type": "code",
   "execution_count": 42,
   "id": "00c417be",
   "metadata": {},
   "outputs": [
    {
     "data": {
      "text/plain": [
       "laTeXMatrix (generic function with 1 method)"
      ]
     },
     "metadata": {},
     "output_type": "display_data"
    }
   ],
   "source": [
    "function laTeXMatrix(\n",
    "        pattern,\n",
    "        size::Tuple{Integer, Integer})::String\n",
    "    m, n = size\n",
    "\n",
    "    mat = \"\\\\begin{bmatrix}\"\n",
    "    for i = 1:m, j = 1:n\n",
    "        mat *= pattern(i, j)\n",
    "        if j == n\n",
    "            if i != m\n",
    "                mat *= \" \\\\\\\\ \"\n",
    "            end\n",
    "        else\n",
    "            mat *= \" & \"\n",
    "        end\n",
    "    end\n",
    "    mat *= \"\\\\end{bmatrix}\"\n",
    "\n",
    "    return mat\n",
    "end"
   ]
  },
  {
   "cell_type": "code",
   "execution_count": 43,
   "id": "98b3f285",
   "metadata": {},
   "outputs": [
    {
     "data": {
      "text/plain": [
       "method4 (generic function with 1 method)"
      ]
     },
     "metadata": {},
     "output_type": "display_data"
    }
   ],
   "source": [
    "function method4(A₁::Matrix{Interval{T}}, A₂::Matrix{Interval{T}}) where {T <: Real}\n",
    "    _, n = size(A₁)\n",
    "\n",
    "    results = solveApproximationLP_m4.([A₁, A₂])\n",
    "    for k = eachindex(results)\n",
    "        wₖᴸ⁻ = results[k].wₖᴸ⁻; wₖᵁ⁻ = results[k].wₖᵁ⁻\n",
    "        wₖᴸ⁺ = results[k].wₖᴸ⁺; wₖᵁ⁺ = results[k].wₖᵁ⁺\n",
    "        A = fill((1..1, 1..1), (n, n))\n",
    "        for i = 1:n, j = 1:n\n",
    "            if i == j continue end\n",
    "            aᵢⱼᴸ⁻ = wₖᴸ⁻[i] / wₖᵁ⁻[j]\n",
    "            aᵢⱼᵁ⁻ = wₖᵁ⁻[i] / wₖᴸ⁻[j]\n",
    "            aᵢⱼᴸ⁺ = wₖᴸ⁺[i] / wₖᵁ⁺[j]\n",
    "            aᵢⱼᵁ⁺ = wₖᵁ⁺[i] / wₖᴸ⁺[j]\n",
    "    \n",
    "            aᵢⱼᴸ⁻ = correctPrecisionLoss(aᵢⱼᴸ⁻, aᵢⱼᴸ⁺)\n",
    "            aᵢⱼᵁ⁻ = correctPrecisionLoss(aᵢⱼᵁ⁻, aᵢⱼᴸ⁻)\n",
    "            aᵢⱼᵁ⁺ = correctPrecisionLoss(aᵢⱼᵁ⁺, aᵢⱼᵁ⁻)\n",
    "            aᵢⱼᵁ⁺ = correctPrecisionLoss(aᵢⱼᵁ⁺, aᵢⱼᴸ⁺)\n",
    "    \n",
    "            if aᵢⱼᴸ⁻ > aᵢⱼᵁ⁻\n",
    "                A[i, j] = (emptyinterval(), aᵢⱼᴸ⁺..aᵢⱼᵁ⁺)\n",
    "            else\n",
    "                A[i, j] = (aᵢⱼᴸ⁻..aᵢⱼᵁ⁻, aᵢⱼᴸ⁺..aᵢⱼᵁ⁺)\n",
    "            end\n",
    "        end\n",
    "        println(\"\\\\tilde{A}_$k = $(twofoldIntervalMatrixLaTeXString(A))\"); println()\n",
    "    end\n",
    "\n",
    "    A = generateTwofoldIntervalMatrix_m4(results)\n",
    "    println(\"A = $(twofoldIntervalMatrixLaTeXString(A))\"); println()\n",
    "\n",
    "    result = solveCancellingLP_m4(A)\n",
    "    resultₛₜᵣ = cancellingLPResultLaTeXString_m4(result)\n",
    "    println(\"W = $(resultₛₜᵣ.W)\"); println()\n",
    "    println(\"\"\"\n",
    "        $(laTeXMatrix((i,j) -> \"w_$i^{\\\\text{L}-}\", (n, 1))) = $(resultₛₜᵣ.wᴸ⁻), ~~\n",
    "        $(laTeXMatrix((i,j) -> \"w_$i^{\\\\text{U}-}\", (n, 1))) = $(resultₛₜᵣ.wᵁ⁻), ~~\n",
    "        $(laTeXMatrix((i,j) -> \"w_$i^{\\\\text{L}+}\", (n, 1))) = $(resultₛₜᵣ.wᴸ⁺), ~~\n",
    "        $(laTeXMatrix((i,j) -> \"w_$i^{\\\\text{U}+}\", (n, 1))) = $(resultₛₜᵣ.wᵁ⁺)\n",
    "        \"\"\"); println()\n",
    "    println(\"\"\"\n",
    "        $(laTeXMatrix((i,j) -> \"\\\\varepsilon_$i^\\\\text{L}\", (n, 1))) = $(resultₛₜᵣ.εᴸ), ~~\n",
    "        $(laTeXMatrix((i,j) -> \"\\\\varepsilon_$i^\\\\text{U}\", (n, 1))) = $(resultₛₜᵣ.εᵁ)\n",
    "        \"\"\"); println()\n",
    "\n",
    "    Â = updatePCM_m4(A, result)\n",
    "\n",
    "    displayCancellingLPResultLaTeXString_m4(result)\n",
    "\n",
    "    return Â\n",
    "end"
   ]
  },
  {
   "attachments": {},
   "cell_type": "markdown",
   "id": "e0934d78",
   "metadata": {},
   "source": [
    "# example 1"
   ]
  },
  {
   "cell_type": "code",
   "execution_count": 49,
   "id": "7a539df8",
   "metadata": {},
   "outputs": [
    {
     "data": {
      "text/latex": [
       "$W = \\begin{bmatrix}\\left[ 0.235, 0.314 \\right] \\\\ \\left[ 0.157, 0.235 \\right] \\\\ \\left[ 0.235, 0.353 \\right] \\\\ \\left[ 0.235, 0.235 \\right]\\end{bmatrix}$"
      ],
      "text/plain": [
       "L\"$W = \\begin{bmatrix}\\left[ 0.235, 0.314 \\right] \\\\ \\left[ 0.157, 0.235 \\right] \\\\ \\left[ 0.235, 0.353 \\right] \\\\ \\left[ 0.235, 0.235 \\right]\\end{bmatrix}$\""
      ]
     },
     "metadata": {},
     "output_type": "display_data"
    },
    {
     "data": {
      "text/latex": [
       "$w^{\\text{L}-} = \\begin{bmatrix} 0.235  \\\\  0.157  \\\\  0.235  \\\\  0.235 \\end{bmatrix}, ~~\n",
       "w^{\\text{U}-} = \\begin{bmatrix} 0.314  \\\\  0.235  \\\\  0.353  \\\\  0.235 \\end{bmatrix}, ~~\n",
       "w^{\\text{L}+} = \\begin{bmatrix} 0.235  \\\\  0.157  \\\\  0.235  \\\\  0.235 \\end{bmatrix}, ~~\n",
       "w^{\\text{U}+} = \\begin{bmatrix} 0.314  \\\\  0.235  \\\\  0.353  \\\\  0.235 \\end{bmatrix}\n",
       "$"
      ],
      "text/plain": [
       "L\"$w^{\\text{L}-} = \\begin{bmatrix} 0.235  \\\\  0.157  \\\\  0.235  \\\\  0.235 \\end{bmatrix}, ~~\n",
       "w^{\\text{U}-} = \\begin{bmatrix} 0.314  \\\\  0.235  \\\\  0.353  \\\\  0.235 \\end{bmatrix}, ~~\n",
       "w^{\\text{L}+} = \\begin{bmatrix} 0.235  \\\\  0.157  \\\\  0.235  \\\\  0.235 \\end{bmatrix}, ~~\n",
       "w^{\\text{U}+} = \\begin{bmatrix} 0.314  \\\\  0.235  \\\\  0.353  \\\\  0.235 \\end{bmatrix}\n",
       "$\""
      ]
     },
     "metadata": {},
     "output_type": "display_data"
    },
    {
     "data": {
      "text/latex": [
       "$\\varepsilon^\\text{L} = \\begin{bmatrix} 0.0  \\\\  0.0  \\\\  0.0  \\\\  0.0 \\end{bmatrix}, ~~\n",
       "\\varepsilon^\\text{U} = \\begin{bmatrix} 0.0  \\\\  0.0  \\\\  0.0  \\\\  0.0 \\end{bmatrix}\n",
       "$"
      ],
      "text/plain": [
       "L\"$\\varepsilon^\\text{L} = \\begin{bmatrix} 0.0  \\\\  0.0  \\\\  0.0  \\\\  0.0 \\end{bmatrix}, ~~\n",
       "\\varepsilon^\\text{U} = \\begin{bmatrix} 0.0  \\\\  0.0  \\\\  0.0  \\\\  0.0 \\end{bmatrix}\n",
       "$\""
      ]
     },
     "metadata": {},
     "output_type": "display_data"
    },
    {
     "name": "stdout",
     "output_type": "stream",
     "text": [
      "A_1 = A_2 = \\begin{bmatrix} \\left[ 1.0, 1.0 \\right] & \\left[ 1.0, 2.0 \\right] & \\left[ 0.667, 1.333 \\right] & \\left[ 1.0, 1.333 \\right] \\\\ \\left[ 0.5, 1.0 \\right] & \\left[ 1.0, 1.0 \\right] & \\left[ 0.444, 1.0 \\right] & \\left[ 0.667, 1.0 \\right] \\\\ \\left[ 0.75, 1.5 \\right] & \\left[ 1.0, 2.25 \\right] & \\left[ 1.0, 1.0 \\right] & \\left[ 1.0, 1.5 \\right] \\\\ \\left[ 0.75, 1.0 \\right] & \\left[ 1.0, 1.5 \\right] & \\left[ 0.667, 1.0 \\right] & \\left[ 1.0, 1.0 \\right] \\end{bmatrix}\n",
      "\n",
      "\\tilde{A}_1 = \\begin{bmatrix} \\left[   1.0, \\left[   1.0,   1.0 \\right],   1.0 \\right] & \\left[   1.0, \\left[   1.0,   2.0 \\right],   2.0 \\right] & \\left[ 0.667, \\left[ 0.667, 1.333 \\right], 1.333 \\right] & \\left[   1.0, \\left[   1.0, 1.333 \\right], 1.333 \\right] \\\\ \\left[   0.5, \\left[   0.5,   1.0 \\right],   1.0 \\right] & \\left[   1.0, \\left[   1.0,   1.0 \\right],   1.0 \\right] & \\left[ 0.444, \\left[ 0.444,   1.0 \\right],   1.0 \\right] & \\left[ 0.667, \\left[ 0.667,   1.0 \\right],   1.0 \\right] \\\\ \\left[  0.75, \\left[  0.75,   1.5 \\right],   1.5 \\right] & \\left[   1.0, \\left[   1.0,  2.25 \\right],  2.25 \\right] & \\left[   1.0, \\left[   1.0,   1.0 \\right],   1.0 \\right] & \\left[   1.0, \\left[   1.0,   1.5 \\right],   1.5 \\right] \\\\ \\left[  0.75, \\left[  0.75,   1.0 \\right],   1.0 \\right] & \\left[   1.0, \\left[   1.0,   1.5 \\right],   1.5 \\right] & \\left[ 0.667, \\left[ 0.667,   1.0 \\right],   1.0 \\right] & \\left[   1.0, \\left[   1.0,   1.0 \\right],   1.0 \\right] \\end{bmatrix}\n",
      "\n",
      "\\tilde{A}_2 = \\begin{bmatrix} \\left[   1.0, \\left[   1.0,   1.0 \\right],   1.0 \\right] & \\left[   1.0, \\left[   1.0,   2.0 \\right],   2.0 \\right] & \\left[ 0.667, \\left[ 0.667, 1.333 \\right], 1.333 \\right] & \\left[   1.0, \\left[   1.0, 1.333 \\right], 1.333 \\right] \\\\ \\left[   0.5, \\left[   0.5,   1.0 \\right],   1.0 \\right] & \\left[   1.0, \\left[   1.0,   1.0 \\right],   1.0 \\right] & \\left[ 0.444, \\left[ 0.444,   1.0 \\right],   1.0 \\right] & \\left[ 0.667, \\left[ 0.667,   1.0 \\right],   1.0 \\right] \\\\ \\left[  0.75, \\left[  0.75,   1.5 \\right],   1.5 \\right] & \\left[   1.0, \\left[   1.0,  2.25 \\right],  2.25 \\right] & \\left[   1.0, \\left[   1.0,   1.0 \\right],   1.0 \\right] & \\left[   1.0, \\left[   1.0,   1.5 \\right],   1.5 \\right] \\\\ \\left[  0.75, \\left[  0.75,   1.0 \\right],   1.0 \\right] & \\left[   1.0, \\left[   1.0,   1.5 \\right],   1.5 \\right] & \\left[ 0.667, \\left[ 0.667,   1.0 \\right],   1.0 \\right] & \\left[   1.0, \\left[   1.0,   1.0 \\right],   1.0 \\right] \\end{bmatrix}\n",
      "\n",
      "A = \\begin{bmatrix} \\left[   1.0, \\left[   1.0,   1.0 \\right],   1.0 \\right] & \\left[   1.0, \\left[   1.0,   2.0 \\right],   2.0 \\right] & \\left[ 0.667, \\left[ 0.667, 1.333 \\right], 1.333 \\right] & \\left[   1.0, \\left[   1.0, 1.333 \\right], 1.333 \\right] \\\\ \\left[   0.5, \\left[   0.5,   1.0 \\right],   1.0 \\right] & \\left[   1.0, \\left[   1.0,   1.0 \\right],   1.0 \\right] & \\left[ 0.444, \\left[ 0.444,   1.0 \\right],   1.0 \\right] & \\left[ 0.667, \\left[ 0.667,   1.0 \\right],   1.0 \\right] \\\\ \\left[  0.75, \\left[  0.75,   1.5 \\right],   1.5 \\right] & \\left[   1.0, \\left[   1.0,  2.25 \\right],  2.25 \\right] & \\left[   1.0, \\left[   1.0,   1.0 \\right],   1.0 \\right] & \\left[   1.0, \\left[   1.0,   1.5 \\right],   1.5 \\right] \\\\ \\left[  0.75, \\left[  0.75,   1.0 \\right],   1.0 \\right] & \\left[   1.0, \\left[   1.0,   1.5 \\right],   1.5 \\right] & \\left[ 0.667, \\left[ 0.667,   1.0 \\right],   1.0 \\right] & \\left[   1.0, \\left[   1.0,   1.0 \\right],   1.0 \\right] \\end{bmatrix}\n",
      "\n",
      "W = \\begin{bmatrix}\\left[ 0.235, 0.314 \\right] \\\\ \\left[ 0.157, 0.235 \\right] \\\\ \\left[ 0.235, 0.353 \\right] \\\\ \\left[ 0.235, 0.235 \\right]\\end{bmatrix}\n",
      "\n",
      "\\begin{bmatrix}w_1^{\\text{L}-} \\\\ w_2^{\\text{L}-} \\\\ w_3^{\\text{L}-} \\\\ w_4^{\\text{L}-}\\end{bmatrix} = \\begin{bmatrix} 0.235  \\\\  0.157  \\\\  0.235  \\\\  0.235 \\end{bmatrix}, ~~\n",
      "\\begin{bmatrix}w_1^{\\text{U}-} \\\\ w_2^{\\text{U}-} \\\\ w_3^{\\text{U}-} \\\\ w_4^{\\text{U}-}\\end{bmatrix} = \\begin{bmatrix} 0.314  \\\\  0.235  \\\\  0.353  \\\\  0.235 \\end{bmatrix}, ~~\n",
      "\\begin{bmatrix}w_1^{\\text{L}+} \\\\ w_2^{\\text{L}+} \\\\ w_3^{\\text{L}+} \\\\ w_4^{\\text{L}+}\\end{bmatrix} = \\begin{bmatrix} 0.235  \\\\  0.157  \\\\  0.235  \\\\  0.235 \\end{bmatrix}, ~~\n",
      "\\begin{bmatrix}w_1^{\\text{U}+} \\\\ w_2^{\\text{U}+} \\\\ w_3^{\\text{U}+} \\\\ w_4^{\\text{U}+}\\end{bmatrix} = \\begin{bmatrix} 0.314  \\\\  0.235  \\\\  0.353  \\\\  0.235 \\end{bmatrix}\n",
      "\n",
      "\n",
      "\\begin{bmatrix}\\varepsilon_1^\\text{L} \\\\ \\varepsilon_2^\\text{L} \\\\ \\varepsilon_3^\\text{L} \\\\ \\varepsilon_4^\\text{L}\\end{bmatrix} = \\begin{bmatrix} 0.0  \\\\  0.0  \\\\  0.0  \\\\  0.0 \\end{bmatrix}, ~~\n",
      "\\begin{bmatrix}\\varepsilon_1^\\text{U} \\\\ \\varepsilon_2^\\text{U} \\\\ \\varepsilon_3^\\text{U} \\\\ \\varepsilon_4^\\text{U}\\end{bmatrix} = \\begin{bmatrix} 0.0  \\\\  0.0  \\\\  0.0  \\\\  0.0 \\end{bmatrix}\n",
      "\n",
      "\n",
      "\\mathscr{A}^4 = \\begin{bmatrix} \\left[   1.0, \\left[   1.0,   1.0 \\right],   1.0 \\right] & \\left[   1.0, \\left[   1.0,   2.0 \\right],   2.0 \\right] & \\left[ 0.667, \\left[ 0.667, 1.333 \\right], 1.333 \\right] & \\left[   1.0, \\left[   1.0, 1.333 \\right], 1.333 \\right] \\\\ \\left[   0.5, \\left[   0.5,   1.0 \\right],   1.0 \\right] & \\left[   1.0, \\left[   1.0,   1.0 \\right],   1.0 \\right] & \\left[ 0.444, \\left[ 0.444,   1.0 \\right],   1.0 \\right] & \\left[ 0.667, \\left[ 0.667,   1.0 \\right],   1.0 \\right] \\\\ \\left[  0.75, \\left[  0.75,   1.5 \\right],   1.5 \\right] & \\left[   1.0, \\left[   1.0,  2.25 \\right],  2.25 \\right] & \\left[   1.0, \\left[   1.0,   1.0 \\right],   1.0 \\right] & \\left[   1.0, \\left[   1.0,   1.5 \\right],   1.5 \\right] \\\\ \\left[  0.75, \\left[  0.75,   1.0 \\right],   1.0 \\right] & \\left[   1.0, \\left[   1.0,   1.5 \\right],   1.5 \\right] & \\left[ 0.667, \\left[ 0.667,   1.0 \\right],   1.0 \\right] & \\left[   1.0, \\left[   1.0,   1.0 \\right],   1.0 \\right] \\end{bmatrix}\n"
     ]
    }
   ],
   "source": [
    "A₁ = [\n",
    "    1..1 1..2 (2/3)..(4/3) 1..(4/3)\n",
    "    (1/2)..1 1..1 (4/9)..1 (2/3)..1\n",
    "    (3/4)..(3/2) 1..(9/4) 1..1 1..(3/2)\n",
    "    (3/4)..1 1..(3/2) (2/3)..1 1..1\n",
    "]\n",
    "A₂ = A₁\n",
    "\n",
    "println(\"A_1 = A_2 = $(intervalMatrixLaTeXString(A₁))\"); println()\n",
    "\n",
    "Â = method4(A₁, A₂)\n",
    "\n",
    "println(\"\\\\mathscr{A}^4 = $(twofoldIntervalMatrixLaTeXString(Â))\")"
   ]
  },
  {
   "attachments": {},
   "cell_type": "markdown",
   "id": "f23c1019",
   "metadata": {},
   "source": [
    "# example 2"
   ]
  },
  {
   "cell_type": "code",
   "execution_count": 45,
   "id": "9af5bd92",
   "metadata": {},
   "outputs": [
    {
     "data": {
      "text/latex": [
       "$W = \\begin{bmatrix}\\left[ 0.206, 0.343 \\right] \\\\ \\left[ 0.137, 0.258 \\right] \\\\ \\left[ 0.206, 0.386 \\right] \\\\ \\left[ 0.206, 0.258 \\right]\\end{bmatrix}$"
      ],
      "text/plain": [
       "L\"$W = \\begin{bmatrix}\\left[ 0.206, 0.343 \\right] \\\\ \\left[ 0.137, 0.258 \\right] \\\\ \\left[ 0.206, 0.386 \\right] \\\\ \\left[ 0.206, 0.258 \\right]\\end{bmatrix}$\""
      ]
     },
     "metadata": {},
     "output_type": "display_data"
    },
    {
     "data": {
      "text/latex": [
       "$w^{\\text{L}-} = \\begin{bmatrix} 0.206  \\\\  0.137  \\\\  0.206  \\\\  0.206 \\end{bmatrix}, ~~\n",
       "w^{\\text{U}-} = \\begin{bmatrix} 0.275  \\\\  0.206  \\\\  0.309  \\\\  0.206 \\end{bmatrix}, ~~\n",
       "w^{\\text{L}+} = \\begin{bmatrix} 0.206  \\\\  0.137  \\\\  0.206  \\\\  0.206 \\end{bmatrix}, ~~\n",
       "w^{\\text{U}+} = \\begin{bmatrix} 0.275  \\\\  0.206  \\\\  0.309  \\\\  0.206 \\end{bmatrix}\n",
       "$"
      ],
      "text/plain": [
       "L\"$w^{\\text{L}-} = \\begin{bmatrix} 0.206  \\\\  0.137  \\\\  0.206  \\\\  0.206 \\end{bmatrix}, ~~\n",
       "w^{\\text{U}-} = \\begin{bmatrix} 0.275  \\\\  0.206  \\\\  0.309  \\\\  0.206 \\end{bmatrix}, ~~\n",
       "w^{\\text{L}+} = \\begin{bmatrix} 0.206  \\\\  0.137  \\\\  0.206  \\\\  0.206 \\end{bmatrix}, ~~\n",
       "w^{\\text{U}+} = \\begin{bmatrix} 0.275  \\\\  0.206  \\\\  0.309  \\\\  0.206 \\end{bmatrix}\n",
       "$\""
      ]
     },
     "metadata": {},
     "output_type": "display_data"
    },
    {
     "data": {
      "text/latex": [
       "$\\varepsilon^\\text{L} = \\begin{bmatrix} 0.0  \\\\  0.0  \\\\  0.0  \\\\  0.0 \\end{bmatrix}, ~~\n",
       "\\varepsilon^\\text{U} = \\begin{bmatrix} 0.0  \\\\  0.0  \\\\  0.0  \\\\  0.0 \\end{bmatrix}\n",
       "$"
      ],
      "text/plain": [
       "L\"$\\varepsilon^\\text{L} = \\begin{bmatrix} 0.0  \\\\  0.0  \\\\  0.0  \\\\  0.0 \\end{bmatrix}, ~~\n",
       "\\varepsilon^\\text{U} = \\begin{bmatrix} 0.0  \\\\  0.0  \\\\  0.0  \\\\  0.0 \\end{bmatrix}\n",
       "$\""
      ]
     },
     "metadata": {},
     "output_type": "display_data"
    },
    {
     "name": "stdout",
     "output_type": "stream",
     "text": [
      "\\tilde{A}_1 = \\begin{bmatrix} \\left[   1.0, \\left[   1.0,   1.0 \\right],   1.0 \\right] & \\left[   1.0, \\left[   1.0,   2.0 \\right],   2.0 \\right] & \\left[ 0.667, \\left[ 0.667, 1.333 \\right], 1.333 \\right] & \\left[   1.0, \\left[   1.0, 1.333 \\right], 1.333 \\right] \\\\ \\left[   0.5, \\left[   0.5,   1.0 \\right],   1.0 \\right] & \\left[   1.0, \\left[   1.0,   1.0 \\right],   1.0 \\right] & \\left[ 0.444, \\left[ 0.444,   1.0 \\right],   1.0 \\right] & \\left[ 0.667, \\left[ 0.667,   1.0 \\right],   1.0 \\right] \\\\ \\left[  0.75, \\left[  0.75,   1.5 \\right],   1.5 \\right] & \\left[   1.0, \\left[   1.0,  2.25 \\right],  2.25 \\right] & \\left[   1.0, \\left[   1.0,   1.0 \\right],   1.0 \\right] & \\left[   1.0, \\left[   1.0,   1.5 \\right],   1.5 \\right] \\\\ \\left[  0.75, \\left[  0.75,   1.0 \\right],   1.0 \\right] & \\left[   1.0, \\left[   1.0,   1.5 \\right],   1.5 \\right] & \\left[ 0.667, \\left[ 0.667,   1.0 \\right],   1.0 \\right] & \\left[   1.0, \\left[   1.0,   1.0 \\right],   1.0 \\right] \\end{bmatrix}\n",
      "\n",
      "\\tilde{A}_2 = \\begin{bmatrix} \\left[   1.0, \\left[   1.0,   1.0 \\right],   1.0 \\right] & \\left[   0.8, \\left[   0.8,   2.5 \\right],   2.5 \\right] & \\left[ 0.533, \\left[ 0.533, 1.667 \\right], 1.667 \\right] & \\left[   0.8, \\left[   0.8, 1.667 \\right], 1.667 \\right] \\\\ \\left[   0.4, \\left[   0.4,  1.25 \\right],  1.25 \\right] & \\left[   1.0, \\left[   1.0,   1.0 \\right],   1.0 \\right] & \\left[ 0.356, \\left[ 0.356,  1.25 \\right],  1.25 \\right] & \\left[ 0.533, \\left[ 0.533,  1.25 \\right],  1.25 \\right] \\\\ \\left[   0.6, \\left[   0.6, 1.875 \\right], 1.875 \\right] & \\left[   0.8, \\left[   0.8, 2.812 \\right], 2.812 \\right] & \\left[   1.0, \\left[   1.0,   1.0 \\right],   1.0 \\right] & \\left[   0.8, \\left[   0.8, 1.875 \\right], 1.875 \\right] \\\\ \\left[   0.6, \\left[   0.6,  1.25 \\right],  1.25 \\right] & \\left[   0.8, \\left[   0.8, 1.875 \\right], 1.875 \\right] & \\left[ 0.533, \\left[ 0.533,  1.25 \\right],  1.25 \\right] & \\left[   1.0, \\left[   1.0,   1.0 \\right],   1.0 \\right] \\end{bmatrix}\n",
      "\n",
      "A = \\begin{bmatrix} \\left[   1.0, \\left[   1.0,   1.0 \\right],   1.0 \\right] & \\left[   0.8, \\left[   1.0,   2.0 \\right],   2.5 \\right] & \\left[ 0.533, \\left[ 0.667, 1.333 \\right], 1.667 \\right] & \\left[   0.8, \\left[   1.0, 1.333 \\right], 1.667 \\right] \\\\ \\left[   0.4, \\left[   0.5,   1.0 \\right],  1.25 \\right] & \\left[   1.0, \\left[   1.0,   1.0 \\right],   1.0 \\right] & \\left[ 0.356, \\left[ 0.444,   1.0 \\right],  1.25 \\right] & \\left[ 0.533, \\left[ 0.667,   1.0 \\right],  1.25 \\right] \\\\ \\left[   0.6, \\left[  0.75,   1.5 \\right], 1.875 \\right] & \\left[   0.8, \\left[   1.0,  2.25 \\right], 2.812 \\right] & \\left[   1.0, \\left[   1.0,   1.0 \\right],   1.0 \\right] & \\left[   0.8, \\left[   1.0,   1.5 \\right], 1.875 \\right] \\\\ \\left[   0.6, \\left[  0.75,   1.0 \\right],  1.25 \\right] & \\left[   0.8, \\left[   1.0,   1.5 \\right], 1.875 \\right] & \\left[ 0.533, \\left[ 0.667,   1.0 \\right],  1.25 \\right] & \\left[   1.0, \\left[   1.0,   1.0 \\right],   1.0 \\right] \\end{bmatrix}\n",
      "\n",
      "W = \\begin{bmatrix}\\left[ 0.206, 0.343 \\right] \\\\ \\left[ 0.137, 0.258 \\right] \\\\ \\left[ 0.206, 0.386 \\right] \\\\ \\left[ 0.206, 0.258 \\right]\\end{bmatrix}\n",
      "\n",
      "\\begin{bmatrix}w_1^{\\text{L}-} \\\\ w_2^{\\text{L}-} \\\\ w_3^{\\text{L}-} \\\\ w_4^{\\text{L}-}\\end{bmatrix} = \\begin{bmatrix} 0.206  \\\\  0.137  \\\\  0.206  \\\\  0.206 \\end{bmatrix}, ~~\n",
      "\\begin{bmatrix}w_1^{\\text{U}-} \\\\ w_2^{\\text{U}-} \\\\ w_3^{\\text{U}-} \\\\ w_4^{\\text{U}-}\\end{bmatrix} = \\begin{bmatrix} 0.275  \\\\  0.206  \\\\  0.309  \\\\  0.206 \\end{bmatrix}, ~~\n",
      "\\begin{bmatrix}w_1^{\\text{L}+} \\\\ w_2^{\\text{L}+} \\\\ w_3^{\\text{L}+} \\\\ w_4^{\\text{L}+}\\end{bmatrix} = \\begin{bmatrix} 0.206  \\\\  0.137  \\\\  0.206  \\\\  0.206 \\end{bmatrix}, ~~\n",
      "\\begin{bmatrix}w_1^{\\text{U}+} \\\\ w_2^{\\text{U}+} \\\\ w_3^{\\text{U}+} \\\\ w_4^{\\text{U}+}\\end{bmatrix} = \\begin{bmatrix} 0.275  \\\\  0.206  \\\\  0.309  \\\\  0.206 \\end{bmatrix}\n",
      "\n",
      "\n",
      "\\begin{bmatrix}\\varepsilon_1^\\text{L} \\\\ \\varepsilon_2^\\text{L} \\\\ \\varepsilon_3^\\text{L} \\\\ \\varepsilon_4^\\text{L}\\end{bmatrix} = \\begin{bmatrix} 0.0  \\\\  0.0  \\\\  0.0  \\\\  0.0 \\end{bmatrix}, ~~\n",
      "\\begin{bmatrix}\\varepsilon_1^\\text{U} \\\\ \\varepsilon_2^\\text{U} \\\\ \\varepsilon_3^\\text{U} \\\\ \\varepsilon_4^\\text{U}\\end{bmatrix} = \\begin{bmatrix} 0.0  \\\\  0.0  \\\\  0.0  \\\\  0.0 \\end{bmatrix}\n",
      "\n",
      "\n",
      "\\mathscr{A}^4 = \\begin{bmatrix} \\left[   1.0, \\left[   1.0,   1.0 \\right],   1.0 \\right] & \\left[   0.8, \\left[   1.0,   2.0 \\right],   2.5 \\right] & \\left[ 0.533, \\left[ 0.667, 1.333 \\right], 1.667 \\right] & \\left[   0.8, \\left[   1.0, 1.333 \\right], 1.667 \\right] \\\\ \\left[   0.4, \\left[   0.5,   1.0 \\right],  1.25 \\right] & \\left[   1.0, \\left[   1.0,   1.0 \\right],   1.0 \\right] & \\left[ 0.356, \\left[ 0.444,   1.0 \\right],  1.25 \\right] & \\left[ 0.533, \\left[ 0.667,   1.0 \\right],  1.25 \\right] \\\\ \\left[   0.6, \\left[  0.75,   1.5 \\right], 1.875 \\right] & \\left[   0.8, \\left[   1.0,  2.25 \\right], 2.812 \\right] & \\left[   1.0, \\left[   1.0,   1.0 \\right],   1.0 \\right] & \\left[   0.8, \\left[   1.0,   1.5 \\right], 1.875 \\right] \\\\ \\left[   0.6, \\left[  0.75,   1.0 \\right],  1.25 \\right] & \\left[   0.8, \\left[   1.0,   1.5 \\right], 1.875 \\right] & \\left[ 0.533, \\left[ 0.667,   1.0 \\right],  1.25 \\right] & \\left[   1.0, \\left[   1.0,   1.0 \\right],   1.0 \\right] \\end{bmatrix}\n"
     ]
    }
   ],
   "source": [
    "A₁ = [\n",
    "    1..1 1..2 (2/3)..(4/3) 1..(4/3)\n",
    "    (1/2)..1 1..1 (4/9)..1 (2/3)..1\n",
    "    (3/4)..(3/2) 1..(9/4) 1..1 1..(3/2)\n",
    "    (3/4)..1 1..(3/2) (2/3)..1 1..1\n",
    "]\n",
    "_, n = size(A₁)\n",
    "A₂ = fill(1..1, (n, n))\n",
    "for i = 1:n, j = 1:n\n",
    "    if i == j continue end\n",
    "    A₂[i,j] = (A₁[i,j].lo * 4/5)..(A₁[i,j].hi * 5/4)\n",
    "end\n",
    "\n",
    "Â = method4(A₁, A₂)\n",
    "\n",
    "println(\"\\\\mathscr{A}^4 = $(twofoldIntervalMatrixLaTeXString(Â))\")"
   ]
  },
  {
   "cell_type": "markdown",
   "id": "c5c807c9",
   "metadata": {},
   "source": [
    "<!-- ともに弱い整合性を持ち， $A_{1ij} \\subseteq A_{2ij}$\n",
    "\n",
    "```\n",
    "A₁ = [\n",
    "    1..1 2..5 2..4 2..3\n",
    "    (1/5)..(1/2) 1..1 (1/5)..4 (1/5)..3\n",
    "    (1/4)..(1/2) (1/4)..5 1..1 (1/4)..3\n",
    "    (1/3)..(1/2) (1/3)..5 (1/3)..4 1..1\n",
    "]\n",
    "A₂ = fill(1..1, size(A₁))\n",
    "_, n = size(A₁)\n",
    "for i = 1:n, j = 1:n\n",
    "    if i == j continue end\n",
    "    A₂[i,j] = (A₁[i,j].lo * 1/1.1)..(A₁[i,j].hi * 1.1)\n",
    "end\n",
    "\n",
    "display(L\"A_1 = %$(intervalMatrixLaTeXString(A₁))\")\n",
    "display(L\"A_2 = %$(intervalMatrixLaTeXString(A₂))\")\n",
    "\n",
    "display(isConsistentIntervalPCM(A₁))\n",
    "display(isWeaklyConsistentIntervalPCM(A₁))\n",
    "display(isConsistentIntervalPCM(A₂))\n",
    "display(isWeaklyConsistentIntervalPCM(A₂))\n",
    "\n",
    "plotAll(A₁, A₂)\n",
    "``` -->"
   ]
  },
  {
   "attachments": {},
   "cell_type": "markdown",
   "id": "db9f7e4c",
   "metadata": {},
   "source": [
    "# example 3"
   ]
  },
  {
   "cell_type": "code",
   "execution_count": 46,
   "id": "6e1ba351",
   "metadata": {},
   "outputs": [
    {
     "data": {
      "text/latex": [
       "$W = \\begin{bmatrix}\\left[ 0.5, 0.501 \\right] \\\\ \\left[ 0.247, 0.251 \\right] \\\\ \\left[ 0.123, 0.127 \\right] \\\\ \\left[ 0.123, 0.126 \\right]\\end{bmatrix}$"
      ],
      "text/plain": [
       "L\"$W = \\begin{bmatrix}\\left[ 0.5, 0.501 \\right] \\\\ \\left[ 0.247, 0.251 \\right] \\\\ \\left[ 0.123, 0.127 \\right] \\\\ \\left[ 0.123, 0.126 \\right]\\end{bmatrix}$\""
      ]
     },
     "metadata": {},
     "output_type": "display_data"
    },
    {
     "data": {
      "text/latex": [
       "$w^{\\text{L}-} = \\begin{bmatrix} 0.5  \\\\  0.247  \\\\  0.123  \\\\  0.123 \\end{bmatrix}, ~~\n",
       "w^{\\text{U}-} = \\begin{bmatrix} 0.5  \\\\  0.251  \\\\  0.126  \\\\  0.126 \\end{bmatrix}, ~~\n",
       "w^{\\text{L}+} = \\begin{bmatrix} 0.5  \\\\  0.247  \\\\  0.123  \\\\  0.123 \\end{bmatrix}, ~~\n",
       "w^{\\text{U}+} = \\begin{bmatrix} 0.5  \\\\  0.251  \\\\  0.126  \\\\  0.126 \\end{bmatrix}\n",
       "$"
      ],
      "text/plain": [
       "L\"$w^{\\text{L}-} = \\begin{bmatrix} 0.5  \\\\  0.247  \\\\  0.123  \\\\  0.123 \\end{bmatrix}, ~~\n",
       "w^{\\text{U}-} = \\begin{bmatrix} 0.5  \\\\  0.251  \\\\  0.126  \\\\  0.126 \\end{bmatrix}, ~~\n",
       "w^{\\text{L}+} = \\begin{bmatrix} 0.5  \\\\  0.247  \\\\  0.123  \\\\  0.123 \\end{bmatrix}, ~~\n",
       "w^{\\text{U}+} = \\begin{bmatrix} 0.5  \\\\  0.251  \\\\  0.126  \\\\  0.126 \\end{bmatrix}\n",
       "$\""
      ]
     },
     "metadata": {},
     "output_type": "display_data"
    },
    {
     "data": {
      "text/latex": [
       "$\\varepsilon^\\text{L} = \\begin{bmatrix} 0.0  \\\\  0.0  \\\\  0.0  \\\\  0.0 \\end{bmatrix}, ~~\n",
       "\\varepsilon^\\text{U} = \\begin{bmatrix} 0.0  \\\\  0.0  \\\\  0.0  \\\\  0.0 \\end{bmatrix}\n",
       "$"
      ],
      "text/plain": [
       "L\"$\\varepsilon^\\text{L} = \\begin{bmatrix} 0.0  \\\\  0.0  \\\\  0.0  \\\\  0.0 \\end{bmatrix}, ~~\n",
       "\\varepsilon^\\text{U} = \\begin{bmatrix} 0.0  \\\\  0.0  \\\\  0.0  \\\\  0.0 \\end{bmatrix}\n",
       "$\""
      ]
     },
     "metadata": {},
     "output_type": "display_data"
    },
    {
     "name": "stdout",
     "output_type": "stream",
     "text": [
      "\\tilde{A}_1 = \\begin{bmatrix} \\left[   1.0, \\left[   1.0,   1.0 \\right],   1.0 \\right] & \\left[ 1.981, \\left[ 1.981, 2.033 \\right], 2.036 \\right] & \\left[ 3.944, \\left[ 3.974, 4.071 \\right], 4.109 \\right] & \\left[ 3.958, \\left[ 3.992, 4.048 \\right], 4.066 \\right] \\\\ \\left[ 0.491, \\left[ 0.492, 0.505 \\right], 0.505 \\right] & \\left[   1.0, \\left[   1.0,   1.0 \\right],   1.0 \\right] & \\left[ 1.944, \\left[ 1.962, 2.048 \\right], 2.067 \\right] & \\left[ 1.951, \\left[ 1.971, 2.036 \\right], 2.045 \\right] \\\\ \\left[ 0.243, \\left[ 0.246, 0.252 \\right], 0.254 \\right] & \\left[ 0.484, \\left[ 0.488,  0.51 \\right], 0.515 \\right] & \\left[   1.0, \\left[   1.0,   1.0 \\right],   1.0 \\right] & \\left[ 0.967, \\left[ 0.984, 1.015 \\right], 1.027 \\right] \\\\ \\left[ 0.246, \\left[ 0.247,  0.25 \\right], 0.253 \\right] & \\left[ 0.489, \\left[ 0.491, 0.507 \\right], 0.513 \\right] & \\left[ 0.973, \\left[ 0.985, 1.016 \\right], 1.034 \\right] & \\left[   1.0, \\left[   1.0,   1.0 \\right],   1.0 \\right] \\end{bmatrix}\n",
      "\n",
      "\\tilde{A}_2 = \\begin{bmatrix} \\left[   1.0, \\left[   1.0,   1.0 \\right],   1.0 \\right] & \\left[ 1.998, \\left[ 1.998,  2.01 \\right], 2.021 \\right] & \\left[ 3.931, \\left[ 3.974, 4.027 \\right],  4.05 \\right] & \\left[ 3.924, \\left[ 3.962, 4.041 \\right], 4.061 \\right] \\\\ \\left[ 0.495, \\left[ 0.497,   0.5 \\right],   0.5 \\right] & \\left[   1.0, \\left[   1.0,   1.0 \\right],   1.0 \\right] & \\left[ 1.945, \\left[ 1.977, 2.015 \\right], 2.027 \\right] & \\left[ 1.942, \\left[ 1.971, 2.023 \\right], 2.033 \\right] \\\\ \\left[ 0.247, \\left[ 0.248, 0.252 \\right], 0.254 \\right] & \\left[ 0.493, \\left[ 0.496, 0.506 \\right], 0.514 \\right] & \\left[   1.0, \\left[   1.0,   1.0 \\right],   1.0 \\right] & \\left[ 0.969, \\left[ 0.984, 1.017 \\right], 1.033 \\right] \\\\ \\left[ 0.246, \\left[ 0.247, 0.252 \\right], 0.255 \\right] & \\left[ 0.492, \\left[ 0.494, 0.507 \\right], 0.515 \\right] & \\left[ 0.968, \\left[ 0.983, 1.016 \\right], 1.032 \\right] & \\left[   1.0, \\left[   1.0,   1.0 \\right],   1.0 \\right] \\end{bmatrix}\n",
      "\n",
      "A = \\begin{bmatrix} \\left[   1.0, \\left[   1.0,   1.0 \\right],   1.0 \\right] & \\left[ 1.981, \\left[ 1.998, 2.021 \\right], 2.033 \\right] & \\left[ 3.944, \\left[ 3.974,  4.05 \\right], 4.071 \\right] & \\left[ 3.958, \\left[ 3.962, 4.048 \\right], 4.061 \\right] \\\\ \\left[ 0.492, \\left[ 0.495,   0.5 \\right], 0.505 \\right] & \\left[   1.0, \\left[   1.0,   1.0 \\right],   1.0 \\right] & \\left[ 1.945, \\left[ 1.962, 2.027 \\right], 2.048 \\right] & \\left[ 1.951, \\left[ 1.971, 2.033 \\right], 2.036 \\right] \\\\ \\left[ 0.246, \\left[ 0.247, 0.252 \\right], 0.254 \\right] & \\left[ 0.488, \\left[ 0.493,  0.51 \\right], 0.514 \\right] & \\left[   1.0, \\left[   1.0,   1.0 \\right],   1.0 \\right] & \\left[ 0.969, \\left[ 0.984, 1.017 \\right], 1.027 \\right] \\\\ \\left[ 0.246, \\left[ 0.247, 0.252 \\right], 0.253 \\right] & \\left[ 0.491, \\left[ 0.492, 0.507 \\right], 0.513 \\right] & \\left[ 0.973, \\left[ 0.983, 1.016 \\right], 1.032 \\right] & \\left[   1.0, \\left[   1.0,   1.0 \\right],   1.0 \\right] \\end{bmatrix}\n",
      "\n",
      "W = \\begin{bmatrix}\\left[ 0.5, 0.501 \\right] \\\\ \\left[ 0.247, 0.251 \\right] \\\\ \\left[ 0.123, 0.127 \\right] \\\\ \\left[ 0.123, 0.126 \\right]\\end{bmatrix}\n",
      "\n",
      "\\begin{bmatrix}w_1^{\\text{L}-} \\\\ w_2^{\\text{L}-} \\\\ w_3^{\\text{L}-} \\\\ w_4^{\\text{L}-}\\end{bmatrix} = \\begin{bmatrix} 0.5  \\\\  0.247  \\\\  0.123  \\\\  0.123 \\end{bmatrix}, ~~\n",
      "\\begin{bmatrix}w_1^{\\text{U}-} \\\\ w_2^{\\text{U}-} \\\\ w_3^{\\text{U}-} \\\\ w_4^{\\text{U}-}\\end{bmatrix} = \\begin{bmatrix} 0.5  \\\\  0.251  \\\\  0.126  \\\\  0.126 \\end{bmatrix}, ~~\n",
      "\\begin{bmatrix}w_1^{\\text{L}+} \\\\ w_2^{\\text{L}+} \\\\ w_3^{\\text{L}+} \\\\ w_4^{\\text{L}+}\\end{bmatrix} = \\begin{bmatrix} 0.5  \\\\  0.247  \\\\  0.123  \\\\  0.123 \\end{bmatrix}, ~~\n",
      "\\begin{bmatrix}w_1^{\\text{U}+} \\\\ w_2^{\\text{U}+} \\\\ w_3^{\\text{U}+} \\\\ w_4^{\\text{U}+}\\end{bmatrix} = \\begin{bmatrix} 0.5  \\\\  0.251  \\\\  0.126  \\\\  0.126 \\end{bmatrix}\n",
      "\n",
      "\n",
      "\\begin{bmatrix}\\varepsilon_1^\\text{L} \\\\ \\varepsilon_2^\\text{L} \\\\ \\varepsilon_3^\\text{L} \\\\ \\varepsilon_4^\\text{L}\\end{bmatrix} = \\begin{bmatrix} 0.0  \\\\  0.0  \\\\  0.0  \\\\  0.0 \\end{bmatrix}, ~~\n",
      "\\begin{bmatrix}\\varepsilon_1^\\text{U} \\\\ \\varepsilon_2^\\text{U} \\\\ \\varepsilon_3^\\text{U} \\\\ \\varepsilon_4^\\text{U}\\end{bmatrix} = \\begin{bmatrix} 0.0  \\\\  0.0  \\\\  0.0  \\\\  0.0 \\end{bmatrix}\n",
      "\n",
      "\n",
      "\\mathscr{A}^4 = \\begin{bmatrix} \\left[   1.0, \\left[   1.0,   1.0 \\right],   1.0 \\right] & \\left[ 1.981, \\left[ 1.998, 2.021 \\right], 2.033 \\right] & \\left[ 3.944, \\left[ 3.974,  4.05 \\right], 4.071 \\right] & \\left[ 3.958, \\left[ 3.962, 4.048 \\right], 4.061 \\right] \\\\ \\left[ 0.492, \\left[ 0.495,   0.5 \\right], 0.505 \\right] & \\left[   1.0, \\left[   1.0,   1.0 \\right],   1.0 \\right] & \\left[ 1.945, \\left[ 1.962, 2.027 \\right], 2.048 \\right] & \\left[ 1.951, \\left[ 1.971, 2.033 \\right], 2.036 \\right] \\\\ \\left[ 0.246, \\left[ 0.247, 0.252 \\right], 0.254 \\right] & \\left[ 0.488, \\left[ 0.493,  0.51 \\right], 0.514 \\right] & \\left[   1.0, \\left[   1.0,   1.0 \\right],   1.0 \\right] & \\left[ 0.969, \\left[ 0.984, 1.017 \\right], 1.027 \\right] \\\\ \\left[ 0.246, \\left[ 0.247, 0.252 \\right], 0.253 \\right] & \\left[ 0.491, \\left[ 0.492, 0.507 \\right], 0.513 \\right] & \\left[ 0.973, \\left[ 0.983, 1.016 \\right], 1.032 \\right] & \\left[   1.0, \\left[   1.0,   1.0 \\right],   1.0 \\right] \\end{bmatrix}\n"
     ]
    }
   ],
   "source": [
    "A = [\n",
    "    1 2 4 4\n",
    "    1/2 1 2 2\n",
    "    1/4 1/2 1 1\n",
    "    1/4 1/2 1 1\n",
    "]\n",
    "\n",
    "A₁ = randamizedIntervalPCM(A, 1234, 3e-2)\n",
    "A₂ = randamizedIntervalPCM(A, 134, 3e-2)\n",
    "\n",
    "Â = method4(A₁, A₂)\n",
    "\n",
    "println(\"\\\\mathscr{A}^4 = $(twofoldIntervalMatrixLaTeXString(Â))\")"
   ]
  },
  {
   "attachments": {},
   "cell_type": "markdown",
   "id": "75d55a58",
   "metadata": {},
   "source": [
    "# example 4"
   ]
  },
  {
   "cell_type": "code",
   "execution_count": 47,
   "id": "efb08e9f",
   "metadata": {},
   "outputs": [
    {
     "data": {
      "text/latex": [
       "$W = \\begin{bmatrix}\\left[ 0.467, 0.517 \\right] \\\\ \\left[ 0.274, 0.326 \\right] \\\\ \\left[ 0.127, 0.205 \\right] \\\\ \\left[ 0.038, 0.046 \\right]\\end{bmatrix}$"
      ],
      "text/plain": [
       "L\"$W = \\begin{bmatrix}\\left[ 0.467, 0.517 \\right] \\\\ \\left[ 0.274, 0.326 \\right] \\\\ \\left[ 0.127, 0.205 \\right] \\\\ \\left[ 0.038, 0.046 \\right]\\end{bmatrix}$\""
      ]
     },
     "metadata": {},
     "output_type": "display_data"
    },
    {
     "data": {
      "text/latex": [
       "$w^{\\text{L}-} = \\begin{bmatrix} 0.461  \\\\  0.232  \\\\  0.107  \\\\  0.038 \\end{bmatrix}, ~~\n",
       "w^{\\text{U}-} = \\begin{bmatrix} 0.517  \\\\  0.323  \\\\  0.131  \\\\  0.046 \\end{bmatrix}, ~~\n",
       "w^{\\text{L}+} = \\begin{bmatrix} 0.461  \\\\  0.232  \\\\  0.107  \\\\  0.038 \\end{bmatrix}, ~~\n",
       "w^{\\text{U}+} = \\begin{bmatrix} 0.517  \\\\  0.323  \\\\  0.131  \\\\  0.046 \\end{bmatrix}\n",
       "$"
      ],
      "text/plain": [
       "L\"$w^{\\text{L}-} = \\begin{bmatrix} 0.461  \\\\  0.232  \\\\  0.107  \\\\  0.038 \\end{bmatrix}, ~~\n",
       "w^{\\text{U}-} = \\begin{bmatrix} 0.517  \\\\  0.323  \\\\  0.131  \\\\  0.046 \\end{bmatrix}, ~~\n",
       "w^{\\text{L}+} = \\begin{bmatrix} 0.461  \\\\  0.232  \\\\  0.107  \\\\  0.038 \\end{bmatrix}, ~~\n",
       "w^{\\text{U}+} = \\begin{bmatrix} 0.517  \\\\  0.323  \\\\  0.131  \\\\  0.046 \\end{bmatrix}\n",
       "$\""
      ]
     },
     "metadata": {},
     "output_type": "display_data"
    },
    {
     "data": {
      "text/latex": [
       "$\\varepsilon^\\text{L} = \\begin{bmatrix} 0.0  \\\\  0.0  \\\\  0.0  \\\\  0.0 \\end{bmatrix}, ~~\n",
       "\\varepsilon^\\text{U} = \\begin{bmatrix} 0.0  \\\\  0.0  \\\\  0.0  \\\\  0.0 \\end{bmatrix}\n",
       "$"
      ],
      "text/plain": [
       "L\"$\\varepsilon^\\text{L} = \\begin{bmatrix} 0.0  \\\\  0.0  \\\\  0.0  \\\\  0.0 \\end{bmatrix}, ~~\n",
       "\\varepsilon^\\text{U} = \\begin{bmatrix} 0.0  \\\\  0.0  \\\\  0.0  \\\\  0.0 \\end{bmatrix}\n",
       "$\""
      ]
     },
     "metadata": {},
     "output_type": "display_data"
    },
    {
     "name": "stdout",
     "output_type": "stream",
     "text": [
      "\\tilde{A}_1 = \\begin{bmatrix} \\left[   1.0, \\left[   1.0,   1.0 \\right],   1.0 \\right] & \\left[ 1.415, \\left[ 1.415, 1.884 \\right], 2.501 \\right] & \\left[ 2.252, \\left[ 3.562,  4.04 \\right],  4.85 \\right] & \\left[ 8.141, \\left[ 10.88, 13.336 \\right], 13.465 \\right] \\\\ \\left[   0.4, \\left[ 0.531, 0.707 \\right], 0.707 \\right] & \\left[   1.0, \\left[   1.0,   1.0 \\right],   1.0 \\right] & \\left[  1.01, \\left[ 2.122, 2.545 \\right], 3.056 \\right] & \\left[ 3.651, \\left[ 6.481, 8.402 \\right], 8.483 \\right] \\\\ \\left[ 0.206, \\left[ 0.248, 0.281 \\right], 0.444 \\right] & \\left[ 0.327, \\left[ 0.393, 0.471 \\right],  0.99 \\right] & \\left[   1.0, \\left[   1.0,   1.0 \\right],   1.0 \\right] & \\left[ 1.883, \\left[ 3.022, 3.337 \\right],  5.33 \\right] \\\\ \\left[ 0.074, \\left[ 0.075, 0.092 \\right], 0.123 \\right] & \\left[ 0.118, \\left[ 0.119, 0.154 \\right], 0.274 \\right] & \\left[ 0.188, \\left[   0.3, 0.331 \\right], 0.531 \\right] & \\left[   1.0, \\left[   1.0,   1.0 \\right],   1.0 \\right] \\end{bmatrix}\n",
      "\n",
      "\\tilde{A}_2 = \\begin{bmatrix} \\left[   1.0, \\left[   1.0,   1.0 \\right],   1.0 \\right] & \\left[ 1.547, \\left[ 1.547, 1.633 \\right], 2.232 \\right] & \\left[ 2.233, \\left[ 3.687, 3.723 \\right], 6.029 \\right] & \\left[ 8.746, \\left[ 10.174, 12.652 \\right], 17.705 \\right] \\\\ \\left[ 0.448, \\left[ 0.612, 0.646 \\right], 0.646 \\right] & \\left[   1.0, \\left[   1.0,   1.0 \\right],   1.0 \\right] & \\left[  1.07, \\left[  2.28, 2.383 \\right], 3.644 \\right] & \\left[ 4.191, \\left[  6.29,   8.1 \\right], 10.701 \\right] \\\\ \\left[ 0.166, \\left[ 0.269, 0.271 \\right], 0.448 \\right] & \\left[ 0.274, \\left[  0.42, 0.439 \\right], 0.934 \\right] & \\left[   1.0, \\left[   1.0,   1.0 \\right],   1.0 \\right] & \\left[ 1.551, \\left[ 2.759, 3.399 \\right], 7.413 \\right] \\\\ \\left[ 0.056, \\left[ 0.079, 0.098 \\right], 0.114 \\right] & \\left[ 0.093, \\left[ 0.123, 0.159 \\right], 0.239 \\right] & \\left[ 0.135, \\left[ 0.294, 0.362 \\right], 0.645 \\right] & \\left[   1.0, \\left[   1.0,   1.0 \\right],   1.0 \\right] \\end{bmatrix}\n",
      "\n",
      "A = \\begin{bmatrix} \\left[   1.0, \\left[   1.0,   1.0 \\right],   1.0 \\right] & \\left[ 1.415, \\left[ 1.547, 1.884 \\right], 2.232 \\right] & \\left[ 2.252, \\left[ 3.562,  4.04 \\right],  4.85 \\right] & \\left[ 8.746, \\left[ 10.174, 13.336 \\right], 13.465 \\right] \\\\ \\left[ 0.448, \\left[ 0.531, 0.646 \\right], 0.707 \\right] & \\left[   1.0, \\left[   1.0,   1.0 \\right],   1.0 \\right] & \\left[  1.07, \\left[ 2.122, 2.545 \\right], 3.056 \\right] & \\left[ 4.191, \\left[  6.29, 8.402 \\right], 8.483 \\right] \\\\ \\left[ 0.206, \\left[ 0.248, 0.281 \\right], 0.444 \\right] & \\left[ 0.327, \\left[ 0.393, 0.471 \\right], 0.934 \\right] & \\left[   1.0, \\left[   1.0,   1.0 \\right],   1.0 \\right] & \\left[ 1.883, \\left[ 2.759, 3.399 \\right],  5.33 \\right] \\\\ \\left[ 0.074, \\left[ 0.075, 0.098 \\right], 0.114 \\right] & \\left[ 0.118, \\left[ 0.119, 0.159 \\right], 0.239 \\right] & \\left[ 0.188, \\left[ 0.294, 0.362 \\right], 0.531 \\right] & \\left[   1.0, \\left[   1.0,   1.0 \\right],   1.0 \\right] \\end{bmatrix}\n",
      "\n",
      "W = \\begin{bmatrix}\\left[ 0.467, 0.517 \\right] \\\\ \\left[ 0.274, 0.326 \\right] \\\\ \\left[ 0.127, 0.205 \\right] \\\\ \\left[ 0.038, 0.046 \\right]\\end{bmatrix}\n",
      "\n",
      "\\begin{bmatrix}w_1^{\\text{L}-} \\\\ w_2^{\\text{L}-} \\\\ w_3^{\\text{L}-} \\\\ w_4^{\\text{L}-}\\end{bmatrix} = \\begin{bmatrix} 0.461  \\\\  0.232  \\\\  0.107  \\\\  0.038 \\end{bmatrix}, ~~\n",
      "\\begin{bmatrix}w_1^{\\text{U}-} \\\\ w_2^{\\text{U}-} \\\\ w_3^{\\text{U}-} \\\\ w_4^{\\text{U}-}\\end{bmatrix} = \\begin{bmatrix} 0.517  \\\\  0.323  \\\\  0.131  \\\\  0.046 \\end{bmatrix}, ~~\n",
      "\\begin{bmatrix}w_1^{\\text{L}+} \\\\ w_2^{\\text{L}+} \\\\ w_3^{\\text{L}+} \\\\ w_4^{\\text{L}+}\\end{bmatrix} = \\begin{bmatrix} 0.461  \\\\  0.232  \\\\  0.107  \\\\  0.038 \\end{bmatrix}, ~~\n",
      "\\begin{bmatrix}w_1^{\\text{U}+} \\\\ w_2^{\\text{U}+} \\\\ w_3^{\\text{U}+} \\\\ w_4^{\\text{U}+}\\end{bmatrix} = \\begin{bmatrix} 0.517  \\\\  0.323  \\\\  0.131  \\\\  0.046 \\end{bmatrix}\n",
      "\n",
      "\n",
      "\\begin{bmatrix}\\varepsilon_1^\\text{L} \\\\ \\varepsilon_2^\\text{L} \\\\ \\varepsilon_3^\\text{L} \\\\ \\varepsilon_4^\\text{L}\\end{bmatrix} = \\begin{bmatrix} 0.0  \\\\  0.0  \\\\  0.0  \\\\  0.0 \\end{bmatrix}, ~~\n",
      "\\begin{bmatrix}\\varepsilon_1^\\text{U} \\\\ \\varepsilon_2^\\text{U} \\\\ \\varepsilon_3^\\text{U} \\\\ \\varepsilon_4^\\text{U}\\end{bmatrix} = \\begin{bmatrix} 0.0  \\\\  0.0  \\\\  0.0  \\\\  0.0 \\end{bmatrix}\n",
      "\n",
      "\n",
      "\\mathscr{A}^4 = \\begin{bmatrix} \\left[   1.0, \\left[   1.0,   1.0 \\right],   1.0 \\right] & \\left[ 1.415, \\left[ 1.547, 1.884 \\right], 2.232 \\right] & \\left[ 2.252, \\left[ 3.562,  4.04 \\right],  4.85 \\right] & \\left[ 8.746, \\left[ 10.174, 13.336 \\right], 13.465 \\right] \\\\ \\left[ 0.448, \\left[ 0.531, 0.646 \\right], 0.707 \\right] & \\left[   1.0, \\left[   1.0,   1.0 \\right],   1.0 \\right] & \\left[  1.07, \\left[ 2.122, 2.545 \\right], 3.056 \\right] & \\left[ 4.191, \\left[  6.29, 8.402 \\right], 8.483 \\right] \\\\ \\left[ 0.206, \\left[ 0.248, 0.281 \\right], 0.444 \\right] & \\left[ 0.327, \\left[ 0.393, 0.471 \\right], 0.934 \\right] & \\left[   1.0, \\left[   1.0,   1.0 \\right],   1.0 \\right] & \\left[ 1.883, \\left[ 2.759, 3.399 \\right],  5.33 \\right] \\\\ \\left[ 0.074, \\left[ 0.075, 0.098 \\right], 0.114 \\right] & \\left[ 0.118, \\left[ 0.119, 0.159 \\right], 0.239 \\right] & \\left[ 0.188, \\left[ 0.294, 0.362 \\right], 0.531 \\right] & \\left[   1.0, \\left[   1.0,   1.0 \\right],   1.0 \\right] \\end{bmatrix}\n"
     ]
    }
   ],
   "source": [
    "A = [\n",
    "    1 2 3 10\n",
    "    1/2 1 3 8\n",
    "    1/3 1/3 1 3\n",
    "    1/10 1/8 1/3 1\n",
    "]\n",
    "\n",
    "A₁ = randamizedIntervalPCM(A, 124, 4e-1)\n",
    "A₂ = randamizedIntervalPCM(A, 411, 4e-1)\n",
    "\n",
    "Â = method4(A₁, A₂)\n",
    "\n",
    "println(\"\\\\mathscr{A}^4 = $(twofoldIntervalMatrixLaTeXString(Â))\")"
   ]
  },
  {
   "cell_type": "code",
   "execution_count": 48,
   "id": "28f7c269-9bb7-41fc-966d-f6a2f02aa66f",
   "metadata": {},
   "outputs": [],
   "source": []
  }
 ],
 "metadata": {
  "kernelspec": {
   "display_name": "Julia 1.8.5",
   "language": "julia",
   "name": "julia-1.8"
  },
  "language_info": {
   "file_extension": ".jl",
   "mimetype": "application/julia",
   "name": "julia",
   "version": "1.8.5"
  },
  "vscode": {
   "interpreter": {
    "hash": "d4d1e4263499bec80672ea0156c357c1ee493ec2b1c70f0acce89fc37c4a6abe"
   }
  }
 },
 "nbformat": 4,
 "nbformat_minor": 5
}
