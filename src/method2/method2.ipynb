{
 "cells": [
  {
   "attachments": {},
   "cell_type": "markdown",
   "id": "caa53301",
   "metadata": {},
   "source": [
    "$$\n",
    "\\begin{align*}\n",
    "\\text{minimize} ~~ & ~~\n",
    "\\sum_{i \\in N, ~~ k \\in M} \\left( \\varepsilon_{ki}^{\\text{L}-} + \\varepsilon_{ki}^{\\text{U}-} + \\varepsilon_{ki}^{\\text{L}+} + \\varepsilon_{ki}^{\\text{U}+} \\right), \\\\\n",
    "\\text{subject to} ~~ & ~~\n",
    "a_{kij}^\\text{L} w_j^{\\text{U}-} - \\varepsilon_{ki}^{\\text{L}-} \\leq w_i^{\\text{L}-}, ~~\n",
    "w_i^{\\text{U}-} \\leq a_{kij}^\\text{U} w_j^{\\text{L}-} + \\varepsilon_{ki}^{\\text{U}-}, ~~\n",
    "k \\in M, i, j \\in N, i \\not= j \\\\ & ~~\n",
    "a_{kij}^\\text{L} w_j^{\\text{U}+} + \\varepsilon_{ki}^{\\text{L}+} \\geq w_i^{\\text{L}+}, ~~\n",
    "w_i^{\\text{U}+} \\geq a_{kij}^\\text{U} w_j^{\\text{L}+} - \\varepsilon_{ki}^{\\text{U}+}, ~~\n",
    "k \\in M, i, j \\in N, i \\not= j \\\\ & ~~\n",
    "\\sum_{j \\in N \\backslash \\{i\\}} w_j^{\\text{U}-} + w_i^{\\text{L}-} \\geq 1, ~~\n",
    "\\sum_{j \\in N \\backslash \\{i\\}} w_j^{\\text{L}-} + w_i^{\\text{U}-} \\leq 1, ~~\n",
    "i \\in N, \\\\ & ~~\n",
    "\\sum_{j \\in N \\backslash \\{i\\}} w_j^{\\text{U}+} + w_i^{\\text{L}+} \\geq 1, ~~\n",
    "\\sum_{j \\in N \\backslash \\{i\\}} w_j^{\\text{L}+} + w_i^{\\text{U}+} \\leq 1, ~~\n",
    "i \\in N, \\\\ & ~~\n",
    "\\sum_{i \\in N} \\left( w_i^{\\text{L}-} + w_i^{\\text{U}-} \\right) = 2, ~~\n",
    "\\sum_{i \\in N} \\left( w_i^{\\text{L}+} + w_i^{\\text{U}+} \\right) = 2, \\\\ & ~~\n",
    "w_i^{\\text{U}+} \\geq w_i^{\\text{U}-} \\geq w_i^{\\text{L}-} \\geq w_i^{\\text{L}+} \\geq \\varepsilon, ~~ i \\in N \\\\ & ~~\n",
    "\\varepsilon_{ki}^{\\text{L}-}, \\varepsilon_{ki}^{\\text{U}-}, \\varepsilon_{ki}^{\\text{L}+}, \\varepsilon_{ki}^{\\text{U}+},  ~~\n",
    "k \\in M, ~~ i \\in N\n",
    "\\end{align*}\n",
    "$$"
   ]
  },
  {
   "attachments": {},
   "cell_type": "markdown",
   "id": "003c7b55",
   "metadata": {},
   "source": [
    "上の LP の最適値を $\\varepsilon^*$ とする"
   ]
  },
  {
   "attachments": {},
   "cell_type": "markdown",
   "id": "8fe16a15",
   "metadata": {},
   "source": [
    "$$\n",
    "\\begin{align*}\n",
    "\\text{minimize} ~~ & ~~\n",
    "\\sum_{i \\in N} \\left( w_i^{\\text{L}-} - w_i^{\\text{L}+} + w_i^{\\text{U}+} - w_i^{\\text{U}-} \\right), \\\\\n",
    "\\text{subject to} ~~ & ~~\n",
    "a_{kij}^\\text{L} w_j^{\\text{U}-} - \\varepsilon_{ki}^{\\text{L}-} \\leq w_i^{\\text{L}-}, ~~\n",
    "w_i^{\\text{U}-} \\leq a_{kij}^\\text{U} w_j^{\\text{L}-} + \\varepsilon_{ki}^{\\text{U}-}, ~~\n",
    "k \\in M, i, j \\in N, i \\not= j \\\\ & ~~\n",
    "a_{kij}^\\text{L} w_j^{\\text{U}+} + \\varepsilon_{ki}^{\\text{L}+} \\geq w_i^{\\text{L}+}, ~~\n",
    "w_i^{\\text{U}+} \\geq a_{kij}^\\text{U} w_j^{\\text{L}+} - \\varepsilon_{ki}^{\\text{U}+}, ~~\n",
    "k \\in M, i, j \\in N, i \\not= j \\\\ & ~~\n",
    "\\sum_{j \\in N \\backslash \\{i\\}} w_j^{\\text{U}-} + w_i^{\\text{L}-} \\geq 1, ~~\n",
    "\\sum_{j \\in N \\backslash \\{i\\}} w_j^{\\text{L}-} + w_i^{\\text{U}-} \\leq 1, ~~\n",
    "i \\in N, \\\\ & ~~\n",
    "\\sum_{j \\in N \\backslash \\{i\\}} w_j^{\\text{U}+} + w_i^{\\text{L}+} \\geq 1, ~~\n",
    "\\sum_{j \\in N \\backslash \\{i\\}} w_j^{\\text{L}+} + w_i^{\\text{U}+} \\leq 1, ~~\n",
    "i \\in N, \\\\ & ~~\n",
    "\\sum_{i \\in N} \\left( w_i^{\\text{L}-} + w_i^{\\text{U}-} \\right) = 2, ~~\n",
    "\\sum_{i \\in N} \\left( w_i^{\\text{L}+} + w_i^{\\text{U}+} \\right) = 2, \\\\ & ~~\n",
    "\\sum_{i \\in N, ~~ k \\in M} \\left( \\varepsilon_{ki}^{\\text{L}-} + \\varepsilon_{ki}^{\\text{U}-} + \\varepsilon_{ki}^{\\text{L}+} + \\varepsilon_{ki}^{\\text{U}+} \\right) = \\varepsilon^* \\\\ & ~~\n",
    "w_i^{\\text{U}+} \\geq w_i^{\\text{U}-} \\geq w_i^{\\text{L}-} \\geq w_i^{\\text{L}+} \\geq \\varepsilon, ~~ i \\in N \\\\ & ~~\n",
    "\\varepsilon_{ki}^{\\text{L}-}, \\varepsilon_{ki}^{\\text{U}-}, \\varepsilon_{ki}^{\\text{L}+}, \\varepsilon_{ki}^{\\text{U}+},  ~~\n",
    "k \\in M, ~~ i \\in N\n",
    "\\end{align*}\n",
    "$$"
   ]
  },
  {
   "attachments": {},
   "cell_type": "markdown",
   "id": "f291c93b",
   "metadata": {},
   "source": [
    "上・下近似 $W^- = \\left[ w_i^{\\text{L}-}, ~~ w_i^{\\text{U}-} \\right], ~~ W^+ = \\left[ w_i^{\\text{L}+}, ~~ w_i^{\\text{U}+} \\right]$ から Twofold PCM $A$ を作成\n",
    "\n",
    "$$\n",
    "A_{ij}^- = \\frac{W_i^-}{W_j^-}, ~~\n",
    "A_{ij}^+ = \\frac{W_i^+}{W_j^+}, ~~\n",
    "A = \\left( A_{ij}^-, A_{ij}^+ \\right)_{n \\times n}\n",
    "$$"
   ]
  },
  {
   "attachments": {},
   "cell_type": "markdown",
   "id": "83996d62",
   "metadata": {},
   "source": [
    "<!-- $A$ を二人の PCM を結合する手法と同じ方法で整合化\n",
    "\n",
    "\n",
    "$$\n",
    "\\begin{align*}\n",
    "    \\text{minimize} ~~\n",
    "    & \\sum_{i \\in N} \\left( \\varepsilon_i^\\text{L} + \\varepsilon_i^\\text{U} \\right)\\\\\n",
    "    \\text{subject to} ~~\n",
    "    & a_{ij}^{\\text{L}+}w_j^\\text{U} - \\varepsilon_i^\\text{L} \\leq\n",
    "    w_i^\\text{L} \\leq\n",
    "    a_{ij}^{\\text{L}-}w_j^\\text{U} + \\varepsilon_i^\\text{L}, ~~ i, j \\in N, ~~ i \\not= j, \\\\\n",
    "    & a_{ij}^{\\text{U}-}w_j^\\text{L} - \\varepsilon_i^\\text{U} \\leq\n",
    "    w_i^\\text{U} \\leq\n",
    "    a_{ij}^{\\text{U}+}w_j^\\text{L} + \\varepsilon_i^\\text{U}, ~~ i, j \\in N, ~~ i \\not= j, \\\\\n",
    "    & \\varepsilon_i^\\text{L} \\geq w_i^{\\text{L}+} - w_i^{\\text{L}-}, ~~\n",
    "    \\varepsilon_i^\\text{U} \\geq w_i^{\\text{U}-} - w_i^{\\text{U}+}, ~~ i \\in N, \\\\\n",
    "    & w_i^{\\text{L}-} \\leq a_{ij}^{\\text{L}-}w_j^\\text{U}, ~~\n",
    "    w_i^{\\text{L}+} \\geq a_{ij}^{\\text{L}+}w_j^\\text{U}, ~~ i, j \\in N, ~~ i \\not= j, \\\\\n",
    "    & w_i^{\\text{U}-} \\geq a_{ij}^{\\text{U}-}w_j^\\text{L}, ~~\n",
    "    w_i^{\\text{U}+} \\leq a_{ij}^{\\text{U}+}w_j^\\text{L}, ~~ i, j \\in N, ~~ i \\not= j, \\\\\n",
    "    & \\sum_{i \\in N\\backslash\\{ j \\}} w_i^\\text{U} + w_j^\\text{L} \\geq 1, ~~\n",
    "    \\sum_{i \\in N\\backslash\\{ j \\}} w_i^\\text{L} + w_j^\\text{U} \\leq 1, ~~ j \\in N, \\\\\n",
    "    & \\sum_{i \\in N} \\left(  w_i^\\text{L} +  w_i^\\text{U} \\right) = 2, \\\\\n",
    "    & w_i^\\text{U} \\geq w_i^\\text{L} \\geq \\epsilon, ~~ i \\in N, ~~\n",
    "    w_i^{\\text{L}+}, w_i^{\\text{L}-}, \\varepsilon_i^\\text{L},\n",
    "    w_i^{\\text{U}-}, w_i^{\\text{U}+}, \\varepsilon_i^\\text{U} \\geq 0, ~~ i \\in N\n",
    "\\end{align*}\n",
    "$$ -->"
   ]
  },
  {
   "attachments": {},
   "cell_type": "markdown",
   "id": "e02f31a3",
   "metadata": {},
   "source": [
    "<!-- $$\n",
    "\\hat{a}_{ij}^{\\text{L}-} = \\max\\left( a_{ij}^{\\text{L}-}, \\frac{w_i^{\\text{L}+}}{w_j^\\text{U}}, \\frac{w_i^\\text{L}}{w_j^{\\text{U}+}} \\right), ~~\n",
    "i, j \\in N, ~~ i \\not= j, \\\\\n",
    "\\hat{a}_{ij}^{\\text{U}-} = \\min\\left( a_{ij}^{\\text{U}-}, \\frac{w_i^{\\text{U}+}}{w_j^\\text{L}}, \\frac{w_i^\\text{U}}{w_j^{\\text{L}+}} \\right), ~~\n",
    "i, j \\in N, ~~ i \\not= j, \\\\\n",
    "\\hat{a}_{ij}^{\\text{L}+} = \\min\\left( a_{ij}^{\\text{L}+}, \\frac{w_i^{\\text{L}-}}{w_j^\\text{U}}, \\frac{w_i^\\text{L}}{w_j^{\\text{U}-}} \\right), ~~\n",
    "i, j \\in N, ~~ i \\not= j, \\\\\n",
    "\\hat{a}_{ij}^{\\text{U}+} = \\max\\left( a_{ij}^{\\text{U}+}, \\frac{w_i^{\\text{U}-}}{w_j^\\text{L}}, \\frac{w_i^\\text{U}}{w_j^{\\text{L}-}} \\right), ~~\n",
    "i, j \\in N, ~~ i \\not= j \\\\\n",
    "$$\n",
    "\n",
    "整合化した PCM $\\hat{A} = \\left( \\left[ \\hat{a}_{ij}^{\\text{L}-}, \\hat{a}_{ij}^{\\text{U}-} \\right], \\left[ \\hat{a}_{ij}^{\\text{L}+}, \\hat{a}_{ij}^{\\text{U}+} \\right] \\right)_{n \\times n}$ -->"
   ]
  },
  {
   "cell_type": "code",
   "execution_count": 9,
   "id": "91225146",
   "metadata": {},
   "outputs": [],
   "source": [
    "using IntervalArithmetic\n",
    "using LaTeXStrings"
   ]
  },
  {
   "cell_type": "code",
   "execution_count": 23,
   "id": "bc4f3be4",
   "metadata": {},
   "outputs": [
    {
     "data": {
      "text/plain": [
       "intervalPCM2TwofoldIntervalPCM"
      ]
     },
     "metadata": {},
     "output_type": "display_data"
    }
   ],
   "source": [
    "include(\"./index.jl\")\n",
    "include(\"../method1/index.jl\")\n",
    "include(\"../intervalPCM/index.jl\")\n",
    "include(\"../twofoldInterval/index.jl\")\n",
    "include(\"../twofoldIntervalPCM/index.jl\")"
   ]
  },
  {
   "cell_type": "code",
   "execution_count": 24,
   "id": "d8037749",
   "metadata": {},
   "outputs": [
    {
     "data": {
      "text/plain": [
       "0.013869933665534516"
      ]
     },
     "metadata": {},
     "output_type": "display_data"
    }
   ],
   "source": [
    "A₁ = [\n",
    "    1..1 2.7..3.2 (1/3.3)..(1/3)\n",
    "    (1/3.2)..(1/2.7) 1..1 (1/10)..(1/9.7)\n",
    "    3..3.3 9.7..10 1..1\n",
    "]\n",
    "A₂ = [\n",
    "    1..1 2.2..2.8 (1/4)..(1/2.8)\n",
    "    (1/2.8)..(1/2.2) 1..1 (1/9.8)..(1/9.7)\n",
    "    2.8..4 9.7..9.8 1..1\n",
    "]\n",
    "\n",
    "εᶿ = solveIndividualCancellingLP_m2([A₁, A₂])"
   ]
  },
  {
   "cell_type": "code",
   "execution_count": 25,
   "id": "e22dc714",
   "metadata": {},
   "outputs": [
    {
     "data": {
      "text/latex": [
       "$W^- = \\begin{bmatrix}\\left[ 0.216, 0.216 \\right]\\\\\\left[ 0.073, 0.073 \\right]\\\\\\left[ 0.711, 0.711 \\right]\\end{bmatrix}$"
      ],
      "text/plain": [
       "L\"$W^- = \\begin{bmatrix}\\left[ 0.216, 0.216 \\right]\\\\\\left[ 0.073, 0.073 \\right]\\\\\\left[ 0.711, 0.711 \\right]\\end{bmatrix}$\""
      ]
     },
     "metadata": {},
     "output_type": "display_data"
    },
    {
     "data": {
      "text/latex": [
       "$W^+ = \\begin{bmatrix}\\left[ 0.183, 0.244 \\right]\\\\\\left[ 0.073, 0.083 \\right]\\\\\\left[ 0.683, 0.733 \\right]\\end{bmatrix}$"
      ],
      "text/plain": [
       "L\"$W^+ = \\begin{bmatrix}\\left[ 0.183, 0.244 \\right]\\\\\\left[ 0.073, 0.083 \\right]\\\\\\left[ 0.683, 0.733 \\right]\\end{bmatrix}$\""
      ]
     },
     "metadata": {},
     "output_type": "display_data"
    },
    {
     "data": {
      "text/latex": [
       "$\\varepsilon^{\\text{L}-} = \\begin{bmatrix} -0.0 \\\\ 0.0 \\\\ 0.0 \\end{bmatrix}, ~~\n",
       "\\varepsilon^{\\text{U}-} = \\begin{bmatrix} 0.0 \\\\ 0.01 \\\\ -0.0 \\end{bmatrix}, ~~\n",
       "\\varepsilon^{\\text{L}+} = \\begin{bmatrix} 0.0 \\\\ 0.0 \\\\ 0.0 \\end{bmatrix}, ~~\n",
       "\\varepsilon^{\\text{U}+} = \\begin{bmatrix} 0.0 \\\\ 0.0 \\\\ 0.0 \\end{bmatrix}\n",
       "$"
      ],
      "text/plain": [
       "L\"$\\varepsilon^{\\text{L}-} = \\begin{bmatrix} -0.0 \\\\ 0.0 \\\\ 0.0 \\end{bmatrix}, ~~\n",
       "\\varepsilon^{\\text{U}-} = \\begin{bmatrix} 0.0 \\\\ 0.01 \\\\ -0.0 \\end{bmatrix}, ~~\n",
       "\\varepsilon^{\\text{L}+} = \\begin{bmatrix} 0.0 \\\\ 0.0 \\\\ 0.0 \\end{bmatrix}, ~~\n",
       "\\varepsilon^{\\text{U}+} = \\begin{bmatrix} 0.0 \\\\ 0.0 \\\\ 0.0 \\end{bmatrix}\n",
       "$\""
      ]
     },
     "metadata": {},
     "output_type": "display_data"
    }
   ],
   "source": [
    "result = solveApproximationLP_m2([A₁, A₂], εᶿ)\n",
    "\n",
    "displayApproximationLPResult_m2(result)"
   ]
  },
  {
   "cell_type": "code",
   "execution_count": 26,
   "id": "ef82715b",
   "metadata": {},
   "outputs": [
    {
     "data": {
      "text/latex": [
       "$A = \\begin{bmatrix} \\left[   1.0, \\left[   1.0,   1.0 \\right],   1.0 \\right] & \\left[   2.2, \\left[ 2.939, 2.939 \\right], 3.326 \\right] & \\left[  0.25, \\left[ 0.303, 0.303 \\right], 0.357 \\right] \\\\ \\left[ 0.301, \\left[  0.34,  0.34 \\right], 0.455 \\right] & \\left[   1.0, \\left[   1.0,   1.0 \\right],   1.0 \\right] & \\left[   0.1, \\left[ 0.103, 0.103 \\right], 0.122 \\right] \\\\ \\left[   2.8, \\left[   3.3,   3.3 \\right],   4.0 \\right] & \\left[ 8.194, \\left[   9.7,   9.7 \\right], 10.002 \\right] & \\left[   1.0, \\left[   1.0,   1.0 \\right],   1.0 \\right] \\end{bmatrix}$"
      ],
      "text/plain": [
       "\"\\$A = \\\\begin{bmatrix} \\\\left[   1.0, \\\\left[   1.0,   1.0 \\\\right],   1.0 \\\\right] & \\\\left[   2.2, \\\\left[ 2.939, 2.939 \\\\right], 3.326 \\\\right] & \\\\left[  0.25, \\\\left[ 0.303, 0.303 \\\\right], 0.357 \\\\right] \\\\\\\\ \\\\left[ 0.301, \\\\left[  0.34,  0.34 \\\\right], 0.455 \\\\right] & \\\\left[   1.0,\" ⋯ 25 bytes ⋯ \"ht],   1.0 \\\\right] & \\\\left[   0.1, \\\\left[ 0.103, 0.103 \\\\right], 0.122 \\\\right] \\\\\\\\ \\\\left[   2.8, \\\\left[   3.3,   3.3 \\\\right],   4.0 \\\\right] & \\\\left[ 8.194, \\\\left[   9.7,   9.7 \\\\right], 10.002 \\\\right] & \\\\left[   1.0, \\\\left[   1.0,   1.0 \\\\right],   1.0 \\\\right] \\\\end{bmatrix}\\$\""
      ]
     },
     "metadata": {},
     "output_type": "display_data"
    }
   ],
   "source": [
    "A = importance2TwofoldIntervalPCM_m2(result)\n",
    "display(L\"A = %$(twofoldIntervalMatrixLaTeXString(A))\")"
   ]
  },
  {
   "cell_type": "code",
   "execution_count": 14,
   "id": "1792affa",
   "metadata": {},
   "outputs": [
    {
     "data": {
      "text/plain": [
       "(wᴸ = [0.21550766496334203, 0.07331704065763174, 0.7111752943790262], wᵁ = [0.21550766496334203, 0.07331704065763174, 0.7111752943790262], wᴸ⁻ = [0.215507664963342, 0.07331704065763174, 0.7111752943790262], wᵁ⁻ = [0.215507664963342, 0.07331704065763174, 0.7111752943790262], wᴸ⁺ = [0.21550766496334203, 0.07331704065763174, 0.7111752943790262], wᵁ⁺ = [0.21550766496334203, 0.07331704065763174, 0.7111752943790262], εᴸ = [0.0, 0.0, 0.0], εᵁ = [0.0, 0.0, 0.0], optimalValue = 0.0)"
      ]
     },
     "metadata": {},
     "output_type": "display_data"
    }
   ],
   "source": [
    "result2 = solveCancellingLP_m2(A)"
   ]
  },
  {
   "cell_type": "code",
   "execution_count": 15,
   "id": "06406647",
   "metadata": {},
   "outputs": [
    {
     "data": {
      "text/latex": [
       "$\\hat{A} = \\begin{bmatrix} \\left[   1.0, \\left[   1.0,   1.0 \\right],   1.0 \\right] & \\left[   2.2, \\left[ 2.939, 2.939 \\right], 3.326 \\right] & \\left[  0.25, \\left[ 0.303, 0.303 \\right], 0.357 \\right] \\\\ \\left[ 0.301, \\left[  0.34,  0.34 \\right], 0.455 \\right] & \\left[   1.0, \\left[   1.0,   1.0 \\right],   1.0 \\right] & \\left[   0.1, \\left[ 0.103, 0.103 \\right], 0.122 \\right] \\\\ \\left[   2.8, \\left[   3.3,   3.3 \\right],   4.0 \\right] & \\left[ 8.194, \\left[   9.7,   9.7 \\right], 10.002 \\right] & \\left[   1.0, \\left[   1.0,   1.0 \\right],   1.0 \\right] \\end{bmatrix}$"
      ],
      "text/plain": [
       "\"\\$\\\\hat{A} = \\\\begin{bmatrix} \\\\left[   1.0, \\\\left[   1.0,   1.0 \\\\right],   1.0 \\\\right] & \\\\left[   2.2, \\\\left[ 2.939, 2.939 \\\\right], 3.326 \\\\right] & \\\\left[  0.25, \\\\left[ 0.303, 0.303 \\\\right], 0.357 \\\\right] \\\\\\\\ \\\\left[ 0.301, \\\\left[  0.34,  0.34 \\\\right], 0.455 \\\\right] & \\\\left[ \" ⋯ 31 bytes ⋯ \"ht],   1.0 \\\\right] & \\\\left[   0.1, \\\\left[ 0.103, 0.103 \\\\right], 0.122 \\\\right] \\\\\\\\ \\\\left[   2.8, \\\\left[   3.3,   3.3 \\\\right],   4.0 \\\\right] & \\\\left[ 8.194, \\\\left[   9.7,   9.7 \\\\right], 10.002 \\\\right] & \\\\left[   1.0, \\\\left[   1.0,   1.0 \\\\right],   1.0 \\\\right] \\\\end{bmatrix}\\$\""
      ]
     },
     "metadata": {},
     "output_type": "display_data"
    }
   ],
   "source": [
    "Â = updatePCM_m2(A, result2)\n",
    "display(L\"\\hat{A} = %$(twofoldIntervalMatrixLaTeXString(Â))\")"
   ]
  },
  {
   "cell_type": "code",
   "execution_count": 16,
   "id": "a23dc5e5",
   "metadata": {},
   "outputs": [],
   "source": []
  }
 ],
 "metadata": {
  "kernelspec": {
   "display_name": "Julia 1.8.3",
   "language": "julia",
   "name": "julia-1.8"
  },
  "language_info": {
   "file_extension": ".jl",
   "mimetype": "application/julia",
   "name": "julia",
   "version": "1.8.3"
  }
 },
 "nbformat": 4,
 "nbformat_minor": 5
}
