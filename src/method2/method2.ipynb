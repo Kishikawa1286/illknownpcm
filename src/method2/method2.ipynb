{
 "cells": [
  {
   "attachments": {},
   "cell_type": "markdown",
   "id": "c641d47f",
   "metadata": {},
   "source": [
    "上・下近似を同時に求めるLPが実行可能かを求めるLP\n",
    "\n",
    "$$\n",
    "\\begin{align*}\n",
    "\\text{minimize} ~~ & ~~\n",
    "\\sum_{k \\in M, ~~ i, j \\in N, ~~ i \\not= j} \\left(\n",
    "    \\delta_{kij}^\\text{L} + \\delta_{kij}^\\text{U}\n",
    "\\right), \\\\\n",
    "\\text{subject to} ~~ & ~~\n",
    "a_{kij}^\\text{L} w_j^{\\text{U}-} - \\delta_{kij}^\\text{L} \\leq w_i^{\\text{L}-}, ~~\n",
    "k \\in M, ~~ i, j \\in N, ~~ i \\not= j, \\\\ & ~~\n",
    "a_{kij}^\\text{U} w_j^{\\text{L}-} + \\delta_{kij}^\\text{U} \\geq w_i^{\\text{U}-}, ~~\n",
    "k \\in M, ~~ i, j \\in N, ~~ i \\not= j, \\\\ & ~~\n",
    "a_{kij}^\\text{L} w_j^{\\text{U}+} \\geq w_i^{\\text{L}+}, ~~\n",
    "k \\in M, ~~ i, j \\in N, ~~ i \\not= j, \\\\ & ~~\n",
    "a_{kij}^\\text{U} w_j^{\\text{L}+} \\leq w_i^{\\text{U}+}, ~~\n",
    "k \\in M, ~~ i, j \\in N, ~~ i \\not= j, \\\\ & ~~\n",
    "\\sum_{i \\in N\\backslash\\{ j \\}} w_i^{\\text{U}-} + w_j^{\\text{L}-} \\geq 1, ~~\n",
    "\\sum_{i \\in N\\backslash\\{ j \\}} w_i^{\\text{L}-} + w_j^{\\text{U}-} \\leq 1, ~~ j \\in N, \\\\ & ~~\n",
    "\\sum_{i \\in N} \\left(  w_i^{\\text{L}-} +  w_i^{\\text{U}-} \\right) = 2, \\\\ & ~~\n",
    "\\sum_{i \\in N\\backslash\\{ j \\}} w_i^{\\text{U}+} + w_j^{\\text{L}+} \\geq 1, ~~\n",
    "\\sum_{i \\in N\\backslash\\{ j \\}} w_i^{\\text{L}+} + w_j^{\\text{U}+} \\leq 1, ~~ j \\in N, \\\\ & ~~\n",
    "\\sum_{i \\in N} \\left(  w_i^{\\text{L}+} +  w_i^{\\text{U}+} \\right) = 2, \\\\ & ~~\n",
    "\\delta_{kij}^\\text{L}, \\delta_{kij}^\\text{U} \\geq 0, ~~\n",
    "k \\in M, ~~ i, j \\in N, ~~ i \\not= j \\\\ & ~~\n",
    "w_i^{\\text{U}+} \\geq w_i^{\\text{U}-} \\geq w_i^{\\text{L}-} \\geq w_i^{\\text{L}+} \\geq \\varepsilon, ~~\n",
    "i \\in N\n",
    "\\end{align*}\n",
    "$$\n",
    "\n",
    "最適値が $0$ であれば上・下近似を同時に求めるLPが実行可能"
   ]
  },
  {
   "attachments": {},
   "cell_type": "markdown",
   "id": "7f7e2938",
   "metadata": {},
   "source": [
    "上・下近似を同時に求める LP が実行可能でない場合は上近似のみを求め，上近似から PCM $A$ を求めて終了\n",
    "\n",
    "$$\n",
    "\\begin{align*}\n",
    "    \\text{minimize} ~~ & ~~\n",
    "    \\sum_{i \\in N} \\left( -w_i^{\\text{L}+} + w_i^{\\text{U}+} \\right), \\\\\n",
    "    \\text{subject to} ~~ & ~~\n",
    "    w_i^{\\text{L}+} \\leq a_{kij}^\\text{L} w_j^{\\text{U}+} ~~\n",
    "    a_{kij}^\\text{U} w_j^{\\text{L}+} \\leq w_i^{\\text{U}+}, ~~\n",
    "    k \\in M, i, j \\in N, i \\not= j, \\\\ & ~~\n",
    "    \\sum_{j \\in N \\backslash \\{i\\}} w_j^{\\text{U}+} + w_i^{\\text{L}+} \\geq 1, ~~\n",
    "    \\sum_{j \\in N \\backslash \\{i\\}} w_j^{\\text{L}+} + w_i^{\\text{U}+} \\leq 1, ~~\n",
    "    i \\in N, \\\\ & ~~\n",
    "    \\sum_{i \\in N} \\left( w_i^{\\text{L}+} + w_i^{\\text{U}+} \\right) = 2, \\\\ & ~~\n",
    "    w_i^{\\text{U}+} \\geq w_i^{\\text{L}+} \\geq \\varepsilon, ~~ i \\in N\n",
    "\\end{align*}\n",
    "$$\n",
    "\n",
    "$W^+$ は $i$ 成分が $\\left[ w_i^{\\text{L}+}, w_i^{\\text{U}+} \\right]$ のベクトル\n",
    "\n",
    "PCM $A$ の $(i, j)$ 成分は $\\left[ \\frac{w_i^{\\text{L}+}}{w_i^{\\text{U}+}}, \\frac{w_i^{\\text{U}+}}{w_i^{\\text{L}+}} \\right]$"
   ]
  },
  {
   "attachments": {},
   "cell_type": "markdown",
   "id": "1cc359b8",
   "metadata": {},
   "source": [
    "上・下近似を求めるLP\n",
    "\n",
    "$$\n",
    "\\begin{align*}\n",
    "    \\text{minimize} ~~ & ~~\n",
    "    \\sum_{i \\in N} \\left( w_i^{\\text{L}-} - w_i^{\\text{L}+} + w_i^{\\text{U}+} - w_i^{\\text{U}-} \\right), \\\\\n",
    "    \\text{subject to} ~~ & ~~\n",
    "    \\frac{w_i^{\\text{L}+}}{w_j^{\\text{U}+}} \\leq a_{kij}^\\text{L} \\leq \\frac{w_i^{\\text{L}-}}{w_j^{\\text{U}-}}, ~~\n",
    "    \\frac{w_i^{\\text{U}-}}{w_j^{\\text{L}-}} \\leq a_{kij}^\\text{U} \\leq \\frac{w_i^{\\text{U}+}}{w_j^{\\text{L}+}}, ~~\n",
    "    i, j \\in N, \\\\ & ~~\n",
    "    \\sum_{j \\in N \\backslash \\{i\\}} w_j^{\\text{U}-} + w_i^{\\text{L}-} \\geq 1, ~~\n",
    "    \\sum_{j \\in N \\backslash \\{i\\}} w_j^{\\text{L}-} + w_i^{\\text{U}-} \\leq 1, ~~\n",
    "    i \\in N, \\\\ & ~~\n",
    "    \\sum_{j \\in N \\backslash \\{i\\}} w_j^{\\text{U}+} + w_i^{\\text{L}+} \\geq 1, ~~\n",
    "    \\sum_{j \\in N \\backslash \\{i\\}} w_j^{\\text{L}+} + w_i^{\\text{U}+} \\leq 1, ~~\n",
    "    i \\in N, \\\\ & ~~\n",
    "    \\sum_{i \\in N} \\left( w_i^{\\text{L}-} + w_i^{\\text{U}-} \\right) = 2, ~~\n",
    "    \\sum_{i \\in N} \\left( w_i^{\\text{L}+} + w_i^{\\text{U}+} \\right) = 2, \\\\ & ~~\n",
    "    w_i^{\\text{U}+} \\geq w_i^{\\text{U}-} \\geq w_i^{\\text{L}-} \\geq w_i^{\\text{L}+} \\geq \\varepsilon, ~~ i \\in N\n",
    "\\end{align*}\n",
    "$$"
   ]
  },
  {
   "attachments": {},
   "cell_type": "markdown",
   "id": "c0ad094d",
   "metadata": {},
   "source": [
    "上・下近似 $W^- = \\left[ w_i^{\\text{L}-}, w_i^{\\text{U}-} \\right], W^+ = \\left[ w_i^{\\text{L}+}, w_i^{\\text{U}+} \\right]$ から Twofold PCM $A$ を作成\n",
    "\n",
    "$$\n",
    "A_{ij}^- = \\frac{W_i^-}{W_j^-}, ~~\n",
    "A_{ij}^+ = \\frac{W_i^+}{W_j^+}, ~~\n",
    "A = \\left( A_{ij}^-, A_{ij}^+ \\right)_{n \\times n}\n",
    "$$"
   ]
  },
  {
   "attachments": {},
   "cell_type": "markdown",
   "id": "b15b60f1",
   "metadata": {},
   "source": [
    "$A$ を二人の PCM を結合する手法と同じ方法で整合化\n",
    "\n",
    "\n",
    "$$\n",
    "\\begin{align*}\n",
    "    \\text{minimize} ~~\n",
    "    & \\sum_{i \\in N} \\left( \\varepsilon_i^\\text{L} + \\varepsilon_i^\\text{U} \\right)\\\\\n",
    "    \\text{subject to} ~~\n",
    "    & a_{ij}^{\\text{L}+}w_j^\\text{U} - \\varepsilon_i^\\text{L} \\leq\n",
    "    w_i^\\text{L} \\leq\n",
    "    a_{ij}^{\\text{L}-}w_j^\\text{U} + \\varepsilon_i^\\text{L}, ~~ i, j \\in N, ~~ i \\not= j, \\\\\n",
    "    & a_{ij}^{\\text{U}-}w_j^\\text{L} - \\varepsilon_i^\\text{U} \\leq\n",
    "    w_i^\\text{U} \\leq\n",
    "    a_{ij}^{\\text{U}+}w_j^\\text{L} + \\varepsilon_i^\\text{U}, ~~ i, j \\in N, ~~ i \\not= j, \\\\\n",
    "    & \\varepsilon_i^\\text{L} \\geq w_i^{\\text{L}+} - w_i^{\\text{L}-}, ~~\n",
    "    \\varepsilon_i^\\text{U} \\geq w_i^{\\text{U}-} - w_i^{\\text{U}+}, ~~ i \\in N, \\\\\n",
    "    & w_i^{\\text{L}-} \\leq a_{ij}^{\\text{L}-}w_j^\\text{U}, ~~\n",
    "    w_i^{\\text{L}+} \\geq a_{ij}^{\\text{L}+}w_j^\\text{U}, ~~ i, j \\in N, ~~ i \\not= j, \\\\\n",
    "    & w_i^{\\text{U}-} \\geq a_{ij}^{\\text{U}-}w_j^\\text{L}, ~~\n",
    "    w_i^{\\text{U}+} \\leq a_{ij}^{\\text{U}+}w_j^\\text{L}, ~~ i, j \\in N, ~~ i \\not= j, \\\\\n",
    "    & \\sum_{i \\in N\\backslash\\{ j \\}} w_i^\\text{U} + w_j^\\text{L} \\geq 1, ~~\n",
    "    \\sum_{i \\in N\\backslash\\{ j \\}} w_i^\\text{L} + w_j^\\text{U} \\leq 1, ~~ j \\in N, \\\\\n",
    "    & \\sum_{i \\in N} \\left(  w_i^\\text{L} +  w_i^\\text{U} \\right) = 2, \\\\\n",
    "    & w_i^\\text{U} \\geq w_i^\\text{L} \\geq \\epsilon, ~~ i \\in N, ~~\n",
    "    w_i^{\\text{L}+}, w_i^{\\text{L}-}, \\varepsilon_i^\\text{L},\n",
    "    w_i^{\\text{U}-}, w_i^{\\text{U}+}, \\varepsilon_i^\\text{U} \\geq 0, ~~ i \\in N\n",
    "\\end{align*}\n",
    "$$"
   ]
  },
  {
   "attachments": {},
   "cell_type": "markdown",
   "id": "4d8e78a7",
   "metadata": {},
   "source": [
    "$$\n",
    "\\hat{a}_{ij}^{\\text{L}-} = \\max\\left( a_{ij}^{\\text{L}-}, \\frac{w_i^{\\text{L}+}}{w_j^\\text{U}}, \\frac{w_i^\\text{L}}{w_j^{\\text{U}+}} \\right), ~~\n",
    "i, j \\in N, ~~ i \\not= j, \\\\\n",
    "\\hat{a}_{ij}^{\\text{U}-} = \\min\\left( a_{ij}^{\\text{U}-}, \\frac{w_i^{\\text{U}+}}{w_j^\\text{L}}, \\frac{w_i^\\text{U}}{w_j^{\\text{L}+}} \\right), ~~\n",
    "i, j \\in N, ~~ i \\not= j, \\\\\n",
    "\\hat{a}_{ij}^{\\text{L}+} = \\min\\left( a_{ij}^{\\text{L}+}, \\frac{w_i^{\\text{L}-}}{w_j^\\text{U}}, \\frac{w_i^\\text{L}}{w_j^{\\text{U}-}} \\right), ~~\n",
    "i, j \\in N, ~~ i \\not= j, \\\\\n",
    "\\hat{a}_{ij}^{\\text{U}+} = \\max\\left( a_{ij}^{\\text{U}+}, \\frac{w_i^{\\text{U}-}}{w_j^\\text{L}}, \\frac{w_i^\\text{U}}{w_j^{\\text{L}-}} \\right), ~~\n",
    "i, j \\in N, ~~ i \\not= j \\\\\n",
    "$$\n",
    "\n",
    "整合化した PCM $\\hat{A} = \\left( \\left[ \\hat{a}_{ij}^{\\text{L}-}, \\hat{a}_{ij}^{\\text{U}-} \\right], \\left[ \\hat{a}_{ij}^{\\text{L}+}, \\hat{a}_{ij}^{\\text{U}+} \\right] \\right)_{n \\times n}$"
   ]
  },
  {
   "cell_type": "code",
   "execution_count": 52,
   "id": "a661200b-0885-4ad6-9e50-f9b552f74857",
   "metadata": {},
   "outputs": [],
   "source": [
    "using IntervalArithmetic\n",
    "using LaTeXStrings"
   ]
  },
  {
   "cell_type": "code",
   "execution_count": 53,
   "id": "6ae45f35-7c99-45c9-a934-88166cfef5fb",
   "metadata": {},
   "outputs": [],
   "source": [
    "include(\"./index.jl\")\n",
    "include(\"../method1/index.jl\")\n",
    "include(\"../intervalPCM/index.jl\")\n",
    "include(\"../twofoldInterval/index.jl\")\n",
    "include(\"../twofoldIntervalPCM/index.jl\")\n",
    "\n",
    "print()"
   ]
  },
  {
   "cell_type": "code",
   "execution_count": 54,
   "id": "ce5b0fee",
   "metadata": {},
   "outputs": [
    {
     "data": {
      "text/plain": [
       "(wᴸ⁻ = [Inf, Inf, Inf], wᵁ⁻ = [-Inf, -Inf, -Inf], wᴸ⁺ = [0.18333333333333335, 0.07333333333333333, 0.6828070175438596], wᵁ⁺ = [0.24385964912280703, 0.08333333333333334, 0.7333333333333334], optimalValue = 0.12105263157894741)"
      ]
     },
     "metadata": {},
     "output_type": "display_data"
    }
   ],
   "source": [
    "A₁ = [\n",
    "    1..1 2.7..3.2 (1/3.3)..(1/3)\n",
    "    (1/3.2)..(1/2.7) 1..1 (1/10)..(1/9.7)\n",
    "    3..3.3 9.7..10 1..1\n",
    "]\n",
    "A₂ = [\n",
    "    1..1 2.2..2.8 (1/4)..(1/2.8)\n",
    "    (1/2.8)..(1/2.2) 1..1 (1/9.8)..(1/9.7)\n",
    "    2.8..4 9.7..9.8 1..1\n",
    "]\n",
    "\n",
    "lpResult = solveApproximationLP_m2([A₁, A₂])"
   ]
  },
  {
   "cell_type": "code",
   "execution_count": 44,
   "id": "64a6067c",
   "metadata": {},
   "outputs": [
    {
     "data": {
      "text/latex": [
       "$A = \\begin{bmatrix} \\left[   1.0, \\left[   1.0,   1.0 \\right],   1.0 \\right] & \\left[   0.0, \\left[ 2.939, 2.939 \\right], 2.4386393667e7 \\right] & \\left[   0.0, \\left[ 0.303, 0.303 \\right], 0.357 \\right] \\\\ \\left[   0.0, \\left[  0.34,  0.34 \\right], 7.331704066e6 \\right] & \\left[   1.0, \\left[   1.0,   1.0 \\right],   1.0 \\right] & \\left[   0.0, \\left[ 0.103, 0.103 \\right], 0.107 \\right] \\\\ \\left[   2.8, \\left[   3.3,   3.3 \\right], 9.9999998e7 \\right] & \\left[ 9.313, \\left[   9.7,   9.7 \\right], 9.9999998e7 \\right] & \\left[   1.0, \\left[   1.0,   1.0 \\right],   1.0 \\right] \\end{bmatrix}$"
      ],
      "text/plain": [
       "\"\\$A = \\\\begin{bmatrix} \\\\left[   1.0, \\\\left[   1.0,   1.0 \\\\right],   1.0 \\\\right] & \\\\left[   0.0, \\\\left[ 2.939, 2.939 \\\\right], 2.4386393667e7 \\\\right] & \\\\left[   0.0, \\\\left[ 0.303, 0.303 \\\\right], 0.357 \\\\right] \\\\\\\\ \\\\left[   0.0, \\\\left[  0.34,  0.34 \\\\right], 7.331704066e6 \\\\right\" ⋯ 53 bytes ⋯ \"\\\\right] & \\\\left[   0.0, \\\\left[ 0.103, 0.103 \\\\right], 0.107 \\\\right] \\\\\\\\ \\\\left[   2.8, \\\\left[   3.3,   3.3 \\\\right], 9.9999998e7 \\\\right] & \\\\left[ 9.313, \\\\left[   9.7,   9.7 \\\\right], 9.9999998e7 \\\\right] & \\\\left[   1.0, \\\\left[   1.0,   1.0 \\\\right],   1.0 \\\\right] \\\\end{bmatrix}\\$\""
      ]
     },
     "metadata": {},
     "output_type": "display_data"
    }
   ],
   "source": [
    "A = importance2TwofoldIntervalPCM_m2(lpResult)\n",
    "\n",
    "display(L\"A = %$(twofoldIntervalMatrixLaTeXString(A))\")"
   ]
  },
  {
   "cell_type": "code",
   "execution_count": 45,
   "id": "7ab4e2fc",
   "metadata": {},
   "outputs": [
    {
     "data": {
      "text/latex": [
       "$W = \\begin{bmatrix}\\left[ 0.216, 0.216 \\right] \\\\ \\left[ 0.073, 0.073 \\right] \\\\ \\left[ 0.711, 0.711 \\right]\\end{bmatrix}$"
      ],
      "text/plain": [
       "L\"$W = \\begin{bmatrix}\\left[ 0.216, 0.216 \\right] \\\\ \\left[ 0.073, 0.073 \\right] \\\\ \\left[ 0.711, 0.711 \\right]\\end{bmatrix}$\""
      ]
     },
     "metadata": {},
     "output_type": "display_data"
    },
    {
     "data": {
      "text/latex": [
       "$w^{\\text{L}-} = \\begin{bmatrix} 0.216  \\\\  0.073  \\\\  0.711 \\end{bmatrix}, ~~\n",
       "w^{\\text{U}-} = \\begin{bmatrix} 0.216  \\\\  0.073  \\\\  0.711 \\end{bmatrix}, ~~\n",
       "w^{\\text{L}+} = \\begin{bmatrix} 0.216  \\\\  0.073  \\\\  0.711 \\end{bmatrix}, ~~\n",
       "w^{\\text{U}+} = \\begin{bmatrix} 0.216  \\\\  0.073  \\\\  0.711 \\end{bmatrix}\n",
       "$"
      ],
      "text/plain": [
       "L\"$w^{\\text{L}-} = \\begin{bmatrix} 0.216  \\\\  0.073  \\\\  0.711 \\end{bmatrix}, ~~\n",
       "w^{\\text{U}-} = \\begin{bmatrix} 0.216  \\\\  0.073  \\\\  0.711 \\end{bmatrix}, ~~\n",
       "w^{\\text{L}+} = \\begin{bmatrix} 0.216  \\\\  0.073  \\\\  0.711 \\end{bmatrix}, ~~\n",
       "w^{\\text{U}+} = \\begin{bmatrix} 0.216  \\\\  0.073  \\\\  0.711 \\end{bmatrix}\n",
       "$\""
      ]
     },
     "metadata": {},
     "output_type": "display_data"
    },
    {
     "data": {
      "text/latex": [
       "$\\varepsilon^\\text{L} = \\begin{bmatrix} 0.0  \\\\  0.0  \\\\  0.0 \\end{bmatrix}, ~~\n",
       "\\varepsilon^\\text{U} = \\begin{bmatrix} 0.0  \\\\  0.0  \\\\  0.0 \\end{bmatrix}\n",
       "$"
      ],
      "text/plain": [
       "L\"$\\varepsilon^\\text{L} = \\begin{bmatrix} 0.0  \\\\  0.0  \\\\  0.0 \\end{bmatrix}, ~~\n",
       "\\varepsilon^\\text{U} = \\begin{bmatrix} 0.0  \\\\  0.0  \\\\  0.0 \\end{bmatrix}\n",
       "$\""
      ]
     },
     "metadata": {},
     "output_type": "display_data"
    }
   ],
   "source": [
    "result = solveLP_m1(A)\n",
    "\n",
    "displayLPResult_m1(result)"
   ]
  },
  {
   "cell_type": "code",
   "execution_count": 46,
   "id": "6209dd8f",
   "metadata": {},
   "outputs": [
    {
     "data": {
      "text/latex": [
       "$A = \\begin{bmatrix} \\left[   1.0, \\left[   1.0,   1.0 \\right],   1.0 \\right] & \\left[   0.0, \\left[ 2.939, 2.939 \\right], 2.4386393667e7 \\right] & \\left[   0.0, \\left[ 0.303, 0.303 \\right], 0.357 \\right] \\\\ \\left[   0.0, \\left[  0.34,  0.34 \\right], 7.331704066e6 \\right] & \\left[   1.0, \\left[   1.0,   1.0 \\right],   1.0 \\right] & \\left[   0.0, \\left[ 0.103, 0.103 \\right], 0.107 \\right] \\\\ \\left[   2.8, \\left[   3.3,   3.3 \\right], 9.9999998e7 \\right] & \\left[ 9.313, \\left[   9.7,   9.7 \\right], 9.9999998e7 \\right] & \\left[   1.0, \\left[   1.0,   1.0 \\right],   1.0 \\right] \\end{bmatrix}$"
      ],
      "text/plain": [
       "\"\\$A = \\\\begin{bmatrix} \\\\left[   1.0, \\\\left[   1.0,   1.0 \\\\right],   1.0 \\\\right] & \\\\left[   0.0, \\\\left[ 2.939, 2.939 \\\\right], 2.4386393667e7 \\\\right] & \\\\left[   0.0, \\\\left[ 0.303, 0.303 \\\\right], 0.357 \\\\right] \\\\\\\\ \\\\left[   0.0, \\\\left[  0.34,  0.34 \\\\right], 7.331704066e6 \\\\right\" ⋯ 53 bytes ⋯ \"\\\\right] & \\\\left[   0.0, \\\\left[ 0.103, 0.103 \\\\right], 0.107 \\\\right] \\\\\\\\ \\\\left[   2.8, \\\\left[   3.3,   3.3 \\\\right], 9.9999998e7 \\\\right] & \\\\left[ 9.313, \\\\left[   9.7,   9.7 \\\\right], 9.9999998e7 \\\\right] & \\\\left[   1.0, \\\\left[   1.0,   1.0 \\\\right],   1.0 \\\\right] \\\\end{bmatrix}\\$\""
      ]
     },
     "metadata": {},
     "output_type": "display_data"
    },
    {
     "data": {
      "text/latex": [
       "$\\hat{A} = \\begin{bmatrix} \\left[   1.0, \\left[   1.0,   1.0 \\right],   1.0 \\right] & \\left[   0.0, \\left[ 2.939, 2.939 \\right], 2.4386393667e7 \\right] & \\left[   0.0, \\left[ 0.303, 0.303 \\right], 0.357 \\right] \\\\ \\left[   0.0, \\left[  0.34,  0.34 \\right], 7.331704066e6 \\right] & \\left[   1.0, \\left[   1.0,   1.0 \\right],   1.0 \\right] & \\left[   0.0, \\left[ 0.103, 0.103 \\right], 0.107 \\right] \\\\ \\left[   2.8, \\left[   3.3,   3.3 \\right], 9.9999998e7 \\right] & \\left[ 9.313, \\left[   9.7,   9.7 \\right], 9.9999998e7 \\right] & \\left[   1.0, \\left[   1.0,   1.0 \\right],   1.0 \\right] \\end{bmatrix}$"
      ],
      "text/plain": [
       "\"\\$\\\\hat{A} = \\\\begin{bmatrix} \\\\left[   1.0, \\\\left[   1.0,   1.0 \\\\right],   1.0 \\\\right] & \\\\left[   0.0, \\\\left[ 2.939, 2.939 \\\\right], 2.4386393667e7 \\\\right] & \\\\left[   0.0, \\\\left[ 0.303, 0.303 \\\\right], 0.357 \\\\right] \\\\\\\\ \\\\left[   0.0, \\\\left[  0.34,  0.34 \\\\right], 7.331704066e6 \" ⋯ 59 bytes ⋯ \"\\\\right] & \\\\left[   0.0, \\\\left[ 0.103, 0.103 \\\\right], 0.107 \\\\right] \\\\\\\\ \\\\left[   2.8, \\\\left[   3.3,   3.3 \\\\right], 9.9999998e7 \\\\right] & \\\\left[ 9.313, \\\\left[   9.7,   9.7 \\\\right], 9.9999998e7 \\\\right] & \\\\left[   1.0, \\\\left[   1.0,   1.0 \\\\right],   1.0 \\\\right] \\\\end{bmatrix}\\$\""
      ]
     },
     "metadata": {},
     "output_type": "display_data"
    }
   ],
   "source": [
    "Â = updatePCM_m1(A, result)\n",
    "\n",
    "display(L\"A = %$(twofoldIntervalMatrixLaTeXString(A))\")\n",
    "display(L\"\\hat{A} = %$(twofoldIntervalMatrixLaTeXString(Â))\")"
   ]
  }
 ],
 "metadata": {
  "kernelspec": {
   "display_name": "Julia 1.8.3",
   "language": "julia",
   "name": "julia-1.8"
  },
  "language_info": {
   "file_extension": ".jl",
   "mimetype": "application/julia",
   "name": "julia",
   "version": "1.8.3"
  }
 },
 "nbformat": 4,
 "nbformat_minor": 5
}
