{
 "cells": [
  {
   "attachments": {},
   "cell_type": "markdown",
   "id": "caa53301",
   "metadata": {},
   "source": [
    "$$\n",
    "\\begin{align*}\n",
    "\\text{minimize} ~~ & ~~\n",
    "\\sum_{i \\in N} \\left( \\varepsilon_i^\\text{L} + \\varepsilon_i^\\text{U} \\right), \\\\\n",
    "\\text{subject to} ~~ & ~~\n",
    "a_{kij}^\\text{L} w_j^{\\text{U}-} - \\varepsilon_i^\\text{L} \\leq w_i^{\\text{L}-}, ~~\n",
    "w_i^{\\text{U}-} \\leq a_{kij}^\\text{U} w_j^{\\text{L}-} + \\varepsilon_i^\\text{U}, ~~\n",
    "k \\in M, i, j \\in N, i \\not= j \\\\ & ~~\n",
    "a_{kij}^\\text{L} w_j^{\\text{U}+} + \\varepsilon_i^\\text{L} \\geq w_i^{\\text{L}+}, ~~\n",
    "w_i^{\\text{U}+} \\geq a_{kij}^\\text{U} w_j^{\\text{L}+} - \\varepsilon_i^\\text{U}, ~~\n",
    "k \\in M, i, j \\in N, i \\not= j \\\\ & ~~\n",
    "\\varepsilon_i^\\text{L} \\geq v_i^{\\text{L}+} - v_i^{\\text{L}-}, ~~\n",
    "\\varepsilon_i^\\text{U} \\geq v_i^{\\text{U}-} - v_i^{\\text{U}+}, ~~\n",
    "i \\in N \\\\ & ~~\n",
    "v_i^{\\text{L}-} \\leq a_{kij}^\\text{L} w_j^{\\text{U}-}, ~~\n",
    "v_i^{\\text{U}-} \\geq a_{kij}^\\text{U} w_j^{\\text{L}-}, ~~\n",
    "k \\in M, i, j \\in N, i \\not= j \\\\ & ~~\n",
    "v_i^{\\text{L}+} \\geq a_{kij}^\\text{L} w_j^{\\text{U}+}, ~~\n",
    "v_i^{\\text{U}+} \\leq a_{kij}^\\text{U} w_j^{\\text{L}+}, ~~\n",
    "k \\in M, i, j \\in N, i \\not= j \\\\ & ~~\n",
    "\\sum_{j \\in N \\backslash \\{i\\}} \\left( w_j^{\\text{U}-} - \\varepsilon_j^\\text{U} \\right) + w_i^{\\text{L}-} + \\varepsilon_i^\\text{L} \\geq 1, ~~\n",
    "\\sum_{j \\in N \\backslash \\{i\\}} \\left( w_j^{\\text{L}-} + \\varepsilon_j^\\text{L} \\right) + w_i^{\\text{U}-} - \\varepsilon_i^\\text{U} \\leq 1, ~~\n",
    "i \\in N, \\\\ & ~~\n",
    "\\sum_{j \\in N \\backslash \\{i\\}} \\left( w_j^{\\text{U}+} + \\varepsilon_j^\\text{U} \\right) + w_i^{\\text{L}+} - \\varepsilon_i^\\text{L} \\geq 1, ~~\n",
    "\\sum_{j \\in N \\backslash \\{i\\}} \\left( w_j^{\\text{L}+} - \\varepsilon_j^\\text{L} \\right) + w_i^{\\text{U}+} + \\varepsilon_i^\\text{U} \\leq 1, ~~\n",
    "i \\in N, \\\\ & ~~\n",
    "\\sum_{i \\in N} \\left( w_i^{\\text{L}-} + \\varepsilon_i^\\text{L} + w_i^{\\text{U}-} - \\varepsilon_i^\\text{U} \\right) = 2, ~~\n",
    "\\sum_{i \\in N} \\left( w_i^{\\text{L}+} - \\varepsilon_i^\\text{L} + w_i^{\\text{U}+} + \\varepsilon_i^\\text{U} \\right) = 2, \\\\ & ~~\n",
    "w_i^{\\text{U}+} \\geq w_i^{\\text{U}-} \\geq w_i^{\\text{L}-} \\geq w_i^{\\text{L}+} \\geq \\varepsilon, ~~\n",
    "\\varepsilon_i^\\text{L}, \\varepsilon_i^\\text{U}, v_i^{\\text{L}-}, v_i^{\\text{U}-}, v_i^{\\text{L}+}, v_i^{\\text{U}+} \\geq 0, ~~\n",
    "i \\in N\n",
    "\\end{align*}\n",
    "$$"
   ]
  },
  {
   "attachments": {},
   "cell_type": "markdown",
   "id": "f291c93b",
   "metadata": {},
   "source": [
    "上・下近似 $W^- = \\left[ w_i^{\\text{L}-} + \\varepsilon_i^\\text{L}, ~~ w_i^{\\text{U}-} - \\varepsilon_i^\\text{U} \\right], ~~ W^+ = \\left[ w_i^{\\text{L}+} - \\varepsilon_i^\\text{L}, ~~ w_i^{\\text{U}+} + \\varepsilon_i^\\text{U} \\right]$ から Twofold PCM $A$ を作成\n",
    "\n",
    "$$\n",
    "A_{ij}^- = \\frac{W_i^-}{W_j^-}, ~~\n",
    "A_{ij}^+ = \\frac{W_i^+}{W_j^+}, ~~\n",
    "A = \\left( A_{ij}^-, A_{ij}^+ \\right)_{n \\times n}\n",
    "$$"
   ]
  },
  {
   "attachments": {},
   "cell_type": "markdown",
   "id": "83996d62",
   "metadata": {},
   "source": [
    "$A$ を二人の PCM を結合する手法と同じ方法で整合化\n",
    "\n",
    "\n",
    "$$\n",
    "\\begin{align*}\n",
    "    \\text{minimize} ~~\n",
    "    & \\sum_{i \\in N} \\left( \\varepsilon_i^\\text{L} + \\varepsilon_i^\\text{U} \\right)\\\\\n",
    "    \\text{subject to} ~~\n",
    "    & a_{ij}^{\\text{L}+}w_j^\\text{U} - \\varepsilon_i^\\text{L} \\leq\n",
    "    w_i^\\text{L} \\leq\n",
    "    a_{ij}^{\\text{L}-}w_j^\\text{U} + \\varepsilon_i^\\text{L}, ~~ i, j \\in N, ~~ i \\not= j, \\\\\n",
    "    & a_{ij}^{\\text{U}-}w_j^\\text{L} - \\varepsilon_i^\\text{U} \\leq\n",
    "    w_i^\\text{U} \\leq\n",
    "    a_{ij}^{\\text{U}+}w_j^\\text{L} + \\varepsilon_i^\\text{U}, ~~ i, j \\in N, ~~ i \\not= j, \\\\\n",
    "    & \\varepsilon_i^\\text{L} \\geq w_i^{\\text{L}+} - w_i^{\\text{L}-}, ~~\n",
    "    \\varepsilon_i^\\text{U} \\geq w_i^{\\text{U}-} - w_i^{\\text{U}+}, ~~ i \\in N, \\\\\n",
    "    & w_i^{\\text{L}-} \\leq a_{ij}^{\\text{L}-}w_j^\\text{U}, ~~\n",
    "    w_i^{\\text{L}+} \\geq a_{ij}^{\\text{L}+}w_j^\\text{U}, ~~ i, j \\in N, ~~ i \\not= j, \\\\\n",
    "    & w_i^{\\text{U}-} \\geq a_{ij}^{\\text{U}-}w_j^\\text{L}, ~~\n",
    "    w_i^{\\text{U}+} \\leq a_{ij}^{\\text{U}+}w_j^\\text{L}, ~~ i, j \\in N, ~~ i \\not= j, \\\\\n",
    "    & \\sum_{i \\in N\\backslash\\{ j \\}} w_i^\\text{U} + w_j^\\text{L} \\geq 1, ~~\n",
    "    \\sum_{i \\in N\\backslash\\{ j \\}} w_i^\\text{L} + w_j^\\text{U} \\leq 1, ~~ j \\in N, \\\\\n",
    "    & \\sum_{i \\in N} \\left(  w_i^\\text{L} +  w_i^\\text{U} \\right) = 2, \\\\\n",
    "    & w_i^\\text{U} \\geq w_i^\\text{L} \\geq \\epsilon, ~~ i \\in N, ~~\n",
    "    w_i^{\\text{L}+}, w_i^{\\text{L}-}, \\varepsilon_i^\\text{L},\n",
    "    w_i^{\\text{U}-}, w_i^{\\text{U}+}, \\varepsilon_i^\\text{U} \\geq 0, ~~ i \\in N\n",
    "\\end{align*}\n",
    "$$"
   ]
  },
  {
   "attachments": {},
   "cell_type": "markdown",
   "id": "e02f31a3",
   "metadata": {},
   "source": [
    "$$\n",
    "\\hat{a}_{ij}^{\\text{L}-} = \\max\\left( a_{ij}^{\\text{L}-}, \\frac{w_i^{\\text{L}+}}{w_j^\\text{U}}, \\frac{w_i^\\text{L}}{w_j^{\\text{U}+}} \\right), ~~\n",
    "i, j \\in N, ~~ i \\not= j, \\\\\n",
    "\\hat{a}_{ij}^{\\text{U}-} = \\min\\left( a_{ij}^{\\text{U}-}, \\frac{w_i^{\\text{U}+}}{w_j^\\text{L}}, \\frac{w_i^\\text{U}}{w_j^{\\text{L}+}} \\right), ~~\n",
    "i, j \\in N, ~~ i \\not= j, \\\\\n",
    "\\hat{a}_{ij}^{\\text{L}+} = \\min\\left( a_{ij}^{\\text{L}+}, \\frac{w_i^{\\text{L}-}}{w_j^\\text{U}}, \\frac{w_i^\\text{L}}{w_j^{\\text{U}-}} \\right), ~~\n",
    "i, j \\in N, ~~ i \\not= j, \\\\\n",
    "\\hat{a}_{ij}^{\\text{U}+} = \\max\\left( a_{ij}^{\\text{U}+}, \\frac{w_i^{\\text{U}-}}{w_j^\\text{L}}, \\frac{w_i^\\text{U}}{w_j^{\\text{L}-}} \\right), ~~\n",
    "i, j \\in N, ~~ i \\not= j \\\\\n",
    "$$\n",
    "\n",
    "整合化した PCM $\\hat{A} = \\left( \\left[ \\hat{a}_{ij}^{\\text{L}-}, \\hat{a}_{ij}^{\\text{U}-} \\right], \\left[ \\hat{a}_{ij}^{\\text{L}+}, \\hat{a}_{ij}^{\\text{U}+} \\right] \\right)_{n \\times n}$"
   ]
  },
  {
   "cell_type": "code",
   "execution_count": 59,
   "id": "91225146",
   "metadata": {},
   "outputs": [],
   "source": [
    "using IntervalArithmetic\n",
    "using LaTeXStrings"
   ]
  },
  {
   "cell_type": "code",
   "execution_count": 60,
   "id": "bc4f3be4",
   "metadata": {},
   "outputs": [
    {
     "data": {
      "text/plain": [
       "intervalPCM2TwofoldIntervalPCM"
      ]
     },
     "metadata": {},
     "output_type": "display_data"
    }
   ],
   "source": [
    "include(\"./index.jl\")\n",
    "include(\"../method1/index.jl\")\n",
    "include(\"../intervalPCM/index.jl\")\n",
    "include(\"../twofoldInterval/index.jl\")\n",
    "include(\"../twofoldIntervalPCM/index.jl\")"
   ]
  },
  {
   "cell_type": "code",
   "execution_count": 61,
   "id": "d8037749",
   "metadata": {},
   "outputs": [
    {
     "ename": "MathOptInterface.ResultIndexBoundsError{MathOptInterface.VariablePrimal}",
     "evalue": "Result index of attribute MathOptInterface.VariablePrimal(1) out of bounds. There are currently 0 solution(s) in the model.",
     "output_type": "error",
     "traceback": [
      "Result index of attribute MathOptInterface.VariablePrimal(1) out of bounds. There are currently 0 solution(s) in the model.\n",
      "\n",
      "Stacktrace:\n",
      "  [1] check_result_index_bounds\n",
      "    @ /opt/julia/packages/MathOptInterface/o3YPB/src/attributes.jl:207 [inlined]\n",
      "  [2] get\n",
      "    @ /opt/julia/packages/HiGHS/Tm0Qb/src/MOI_wrapper.jl:1905 [inlined]\n",
      "  [3] get(b::MathOptInterface.Bridges.LazyBridgeOptimizer{HiGHS.Optimizer}, attr::MathOptInterface.VariablePrimal, index::MathOptInterface.VariableIndex)\n",
      "    @ MathOptInterface.Bridges /opt/julia/packages/MathOptInterface/o3YPB/src/Bridges/bridge_optimizer.jl:1116\n",
      "  [4] get(model::MathOptInterface.Utilities.CachingOptimizer{MathOptInterface.Bridges.LazyBridgeOptimizer{HiGHS.Optimizer}, MathOptInterface.Utilities.UniversalFallback{MathOptInterface.Utilities.Model{Float64}}}, attr::MathOptInterface.VariablePrimal, index::MathOptInterface.VariableIndex)\n",
      "    @ MathOptInterface.Utilities /opt/julia/packages/MathOptInterface/o3YPB/src/Utilities/cachingoptimizer.jl:911\n",
      "  [5] _moi_get_result(::MathOptInterface.Utilities.CachingOptimizer{MathOptInterface.Bridges.LazyBridgeOptimizer{HiGHS.Optimizer}, MathOptInterface.Utilities.UniversalFallback{MathOptInterface.Utilities.Model{Float64}}}, ::MathOptInterface.VariablePrimal, ::Vararg{Any})\n",
      "    @ JuMP /opt/julia/packages/JuMP/vuP7I/src/JuMP.jl:1195\n",
      "  [6] get(model::Model, attr::MathOptInterface.VariablePrimal, v::VariableRef)\n",
      "    @ JuMP /opt/julia/packages/JuMP/vuP7I/src/JuMP.jl:1258\n",
      "  [7] value(v::VariableRef; result::Int64)\n",
      "    @ JuMP /opt/julia/packages/JuMP/vuP7I/src/variables.jl:1041\n",
      "  [8] value\n",
      "    @ /opt/julia/packages/JuMP/vuP7I/src/variables.jl:1040 [inlined]\n",
      "  [9] _broadcast_getindex_evalf\n",
      "    @ ./broadcast.jl:670 [inlined]\n",
      " [10] _broadcast_getindex\n",
      "    @ ./broadcast.jl:643 [inlined]\n",
      " [11] getindex\n",
      "    @ ./broadcast.jl:597 [inlined]\n",
      " [12] macro expansion\n",
      "    @ ./broadcast.jl:961 [inlined]\n",
      " [13] macro expansion\n",
      "    @ ./simdloop.jl:77 [inlined]\n",
      " [14] copyto!\n",
      "    @ ./broadcast.jl:960 [inlined]\n",
      " [15] copyto!\n",
      "    @ ./broadcast.jl:913 [inlined]\n",
      " [16] copy\n",
      "    @ ./broadcast.jl:885 [inlined]\n",
      " [17] materialize\n",
      "    @ ./broadcast.jl:860 [inlined]\n",
      " [18] solveApproximationLP_m2(pcms::Vector{Matrix{Interval{Float64}}})\n",
      "    @ Main /workspaces/illknownpcm/src/method2/method2.jl:95\n",
      " [19] top-level scope\n",
      "    @ /workspaces/illknownpcm/src/method2/method2.ipynb:12"
     ]
    }
   ],
   "source": [
    "A₁ = [\n",
    "    1..1 2.7..3.2 (1/3.3)..(1/3)\n",
    "    (1/3.2)..(1/2.7) 1..1 (1/10)..(1/9.7)\n",
    "    3..3.3 9.7..10 1..1\n",
    "]\n",
    "A₂ = [\n",
    "    1..1 2.2..2.8 (1/4)..(1/2.8)\n",
    "    (1/2.8)..(1/2.2) 1..1 (1/9.8)..(1/9.7)\n",
    "    2.8..4 9.7..9.8 1..1\n",
    "]\n",
    "\n",
    "solveApproximationLP_m2([A₁, A₂])"
   ]
  },
  {
   "cell_type": "code",
   "execution_count": null,
   "id": "e22dc714",
   "metadata": {},
   "outputs": [],
   "source": []
  }
 ],
 "metadata": {
  "kernelspec": {
   "display_name": "Julia 1.8.3",
   "language": "julia",
   "name": "julia-1.8"
  },
  "language_info": {
   "file_extension": ".jl",
   "mimetype": "application/julia",
   "name": "julia",
   "version": "1.8.3"
  }
 },
 "nbformat": 4,
 "nbformat_minor": 5
}
