{
 "cells": [
  {
   "cell_type": "code",
   "execution_count": 1,
   "id": "a661200b-0885-4ad6-9e50-f9b552f74857",
   "metadata": {},
   "outputs": [],
   "source": [
    "using IntervalArithmetic\n",
    "using LaTeXStrings\n",
    "using Plots"
   ]
  },
  {
   "cell_type": "code",
   "execution_count": 2,
   "id": "6ae45f35-7c99-45c9-a934-88166cfef5fb",
   "metadata": {},
   "outputs": [],
   "source": [
    "include(\"./method1/index.jl\")\n",
    "include(\"./intervalPCM/index.jl\")\n",
    "include(\"./twofoldInterval/index.jl\")\n",
    "include(\"./twofoldIntervalPCM/index.jl\")\n",
    "\n",
    "print()"
   ]
  },
  {
   "cell_type": "code",
   "execution_count": 3,
   "id": "00c417be",
   "metadata": {},
   "outputs": [
    {
     "data": {
      "text/plain": [
       "laTeXMatrix (generic function with 1 method)"
      ]
     },
     "metadata": {},
     "output_type": "display_data"
    }
   ],
   "source": [
    "function laTeXMatrix(\n",
    "        pattern,\n",
    "        size::Tuple{Integer, Integer})::String\n",
    "    m, n = size\n",
    "\n",
    "    mat = \"\\\\begin{bmatrix}\"\n",
    "    for i = 1:m, j = 1:n\n",
    "        mat *= pattern(i, j)\n",
    "        if j == n\n",
    "            if i != m\n",
    "                mat *= \" \\\\\\\\ \"\n",
    "            end\n",
    "        else\n",
    "            mat *= \" & \"\n",
    "        end\n",
    "    end\n",
    "    mat *= \"\\\\end{bmatrix}\"\n",
    "\n",
    "    return mat\n",
    "end"
   ]
  },
  {
   "cell_type": "code",
   "execution_count": 4,
   "id": "98b3f285",
   "metadata": {},
   "outputs": [
    {
     "data": {
      "text/plain": [
       "method1 (generic function with 1 method)"
      ]
     },
     "metadata": {},
     "output_type": "display_data"
    }
   ],
   "source": [
    "function method1(A₁::Matrix{Interval{T}}, A₂::Matrix{Interval{T}}) where {T <: Real}\n",
    "    _, n = size(A₁)\n",
    "\n",
    "    A = intervalPCM2TwofoldIntervalPCM(A₁, A₂)\n",
    "    println(\"A = $(twofoldIntervalMatrixLaTeXString(A))\"); println()\n",
    "\n",
    "    result = solveLP_m1(A)\n",
    "\n",
    "    resultₛₜᵣ = lPResultLaTeXString_m1(result)\n",
    "    println(\"$(laTeXMatrix((i,j) -> \"\\\\left[ w_$i^\\\\text{L}, w_$i^\\\\text{U} \\\\right]\", (n, 1))) = $(resultₛₜᵣ.W)\"); println()\n",
    "    println(\"\"\"\n",
    "        $(laTeXMatrix((i,j) -> \"w_$i^{\\\\text{L}-}\", (n, 1))) = $(resultₛₜᵣ.wᴸ⁻), ~~\n",
    "        $(laTeXMatrix((i,j) -> \"w_$i^{\\\\text{U}-}\", (n, 1))) = $(resultₛₜᵣ.wᵁ⁻), ~~\n",
    "        $(laTeXMatrix((i,j) -> \"w_$i^{\\\\text{L}+}\", (n, 1))) = $(resultₛₜᵣ.wᴸ⁺), ~~\n",
    "        $(laTeXMatrix((i,j) -> \"w_$i^{\\\\text{U}+}\", (n, 1))) = $(resultₛₜᵣ.wᵁ⁺)\n",
    "        \"\"\"); println()\n",
    "    println(\"\"\"\n",
    "        $(laTeXMatrix((i,j) -> \"\\\\varepsilon_$i^\\\\text{L}\", (n, 1))) = $(resultₛₜᵣ.εᴸ), ~~\n",
    "        $(laTeXMatrix((i,j) -> \"\\\\varepsilon_$i^\\\\text{U}\", (n, 1))) = $(resultₛₜᵣ.εᵁ)\n",
    "        \"\"\"); println()\n",
    "\n",
    "    Â = updatePCM_m1(A, result)\n",
    "\n",
    "    return Â\n",
    "end"
   ]
  },
  {
   "attachments": {},
   "cell_type": "markdown",
   "id": "e0934d78",
   "metadata": {},
   "source": [
    "# example 1"
   ]
  },
  {
   "cell_type": "code",
   "execution_count": 5,
   "id": "7a539df8",
   "metadata": {},
   "outputs": [
    {
     "name": "stdout",
     "output_type": "stream",
     "text": [
      "A_1 = A_2 = \\begin{bmatrix} \\left[ 1.0, 1.0 \\right] & \\left[ 1.0, 2.0 \\right] & \\left[ 0.667, 1.333 \\right] & \\left[ 1.0, 1.333 \\right] \\\\ \\left[ 0.5, 1.0 \\right] & \\left[ 1.0, 1.0 \\right] & \\left[ 0.444, 1.0 \\right] & \\left[ 0.667, 1.0 \\right] \\\\ \\left[ 0.75, 1.5 \\right] & \\left[ 1.0, 2.25 \\right] & \\left[ 1.0, 1.0 \\right] & \\left[ 1.0, 1.5 \\right] \\\\ \\left[ 0.75, 1.0 \\right] & \\left[ 1.0, 1.5 \\right] & \\left[ 0.667, 1.0 \\right] & \\left[ 1.0, 1.0 \\right] \\end{bmatrix}\n",
      "\n",
      "A = \\begin{bmatrix} \\left[   1.0, \\left[   1.0,   1.0 \\right],   1.0 \\right] & \\left[   1.0, \\left[   1.0,   2.0 \\right],   2.0 \\right] & \\left[ 0.667, \\left[ 0.667, 1.333 \\right], 1.333 \\right] & \\left[   1.0, \\left[   1.0, 1.333 \\right], 1.333 \\right] \\\\ \\left[   0.5, \\left[   0.5,   1.0 \\right],   1.0 \\right] & \\left[   1.0, \\left[   1.0,   1.0 \\right],   1.0 \\right] & \\left[ 0.444, \\left[ 0.444,   1.0 \\right],   1.0 \\right] & \\left[ 0.667, \\left[ 0.667,   1.0 \\right],   1.0 \\right] \\\\ \\left[  0.75, \\left[  0.75,   1.5 \\right],   1.5 \\right] & \\left[   1.0, \\left[   1.0,  2.25 \\right],  2.25 \\right] & \\left[   1.0, \\left[   1.0,   1.0 \\right],   1.0 \\right] & \\left[   1.0, \\left[   1.0,   1.5 \\right],   1.5 \\right] \\\\ \\left[  0.75, \\left[  0.75,   1.0 \\right],   1.0 \\right] & \\left[   1.0, \\left[   1.0,   1.5 \\right],   1.5 \\right] & \\left[ 0.667, \\left[ 0.667,   1.0 \\right],   1.0 \\right] & \\left[   1.0, \\left[   1.0,   1.0 \\right],   1.0 \\right] \\end{bmatrix}"
     ]
    },
    {
     "name": "stdout",
     "output_type": "stream",
     "text": [
      "\n",
      "\n"
     ]
    },
    {
     "name": "stdout",
     "output_type": "stream",
     "text": [
      "\\begin{bmatrix}\\left[ w_1^\\text{L}, w_1^\\text{U} \\right] \\\\ \\left[ w_2^\\text{L}, w_2^\\text{U} \\right] \\\\ \\left[ w_3^\\text{L}, w_3^\\text{U} \\right] \\\\ \\left[ w_4^\\text{L}, w_4^\\text{U} \\right]\\end{bmatrix} = \\begin{bmatrix}\\left[ 0.235, 0.314 \\right] \\\\ \\left[ 0.157, 0.235 \\right] \\\\ \\left[ 0.235, 0.353 \\right] \\\\ \\left[ 0.235, 0.235 \\right]\\end{bmatrix}\n",
      "\n",
      "\\begin{bmatrix}w_1^{\\text{L}-} \\\\ w_2^{\\text{L}-} \\\\ w_3^{\\text{L}-} \\\\ w_4^{\\text{L}-}\\end{bmatrix} = \\begin{bmatrix} 0.235  \\\\  0.157  \\\\  0.235  \\\\  0.235 \\end{bmatrix}, ~~\n",
      "\\begin{bmatrix}w_1^{\\text{U}-} \\\\ w_2^{\\text{U}-} \\\\ w_3^{\\text{U}-} \\\\ w_4^{\\text{U}-}\\end{bmatrix} = \\begin{bmatrix} 0.314  \\\\  0.235  \\\\  0.353  \\\\  0.235 \\end{bmatrix}, ~~\n",
      "\\begin{bmatrix}w_1^{\\text{L}+} \\\\ w_2^{\\text{L}+} \\\\ w_3^{\\text{L}+} \\\\ w_4^{\\text{L}+}\\end{bmatrix} = \\begin{bmatrix} 0.235  \\\\  0.157  \\\\  0.235  \\\\  0.235 \\end{bmatrix}, ~~\n",
      "\\begin{bmatrix}w_1^{\\text{U}+} \\\\ w_2^{\\text{U}+} \\\\ w_3^{\\text{U}+} \\\\ w_4^{\\text{U}+}\\end{bmatrix} = \\begin{bmatrix} 0.314  \\\\  0.235  \\\\  0.353  \\\\  0.235 \\end{bmatrix}\n",
      "\n",
      "\n",
      "\\begin{bmatrix}\\varepsilon_1^\\text{L} \\\\ \\varepsilon_2^\\text{L} \\\\ \\varepsilon_3^\\text{L} \\\\ \\varepsilon_4^\\text{L}\\end{bmatrix} = \\begin{bmatrix} 0.0  \\\\  0.0  \\\\  0.0  \\\\  0.0 \\end{bmatrix}, ~~\n",
      "\\begin{bmatrix}\\varepsilon_1^\\text{U} \\\\ \\varepsilon_2^\\text{U} \\\\ \\varepsilon_3^\\text{U} \\\\ \\varepsilon_4^\\text{U}\\end{bmatrix} = \\begin{bmatrix} 0.0  \\\\  0.0  \\\\  0.0  \\\\  0.0 \\end{bmatrix}\n",
      "\n",
      "\n",
      "\\hat{A} = \\begin{bmatrix} \\left[   1.0, \\left[   1.0,   1.0 \\right],   1.0 \\right] & \\left[   1.0, \\left[   1.0,   2.0 \\right],   2.0 \\right] & \\left[ 0.667, \\left[ 0.667, 1.333 \\right], 1.333 \\right] & \\left[   1.0, \\left[   1.0, 1.333 \\right], 1.333 \\right] \\\\ \\left[   0.5, \\left[   0.5,   1.0 \\right],   1.0 \\right] & \\left[   1.0, \\left[   1.0,   1.0 \\right],   1.0 \\right] & \\left[ 0.444, \\left[ 0.444,   1.0 \\right],   1.0 \\right] & \\left[ 0.667, \\left[ 0.667,   1.0 \\right],   1.0 \\right] \\\\ \\left[  0.75, \\left[  0.75,   1.5 \\right],   1.5 \\right] & \\left[   1.0, \\left[   1.0,  2.25 \\right],  2.25 \\right] & \\left[   1.0, \\left[   1.0,   1.0 \\right],   1.0 \\right] & \\left[   1.0, \\left[   1.0,   1.5 \\right],   1.5 \\right] \\\\ \\left[  0.75, \\left[  0.75,   1.0 \\right],   1.0 \\right] & \\left[   1.0, \\left[   1.0,   1.5 \\right],   1.5 \\right] & \\left[ 0.667, \\left[ 0.667,   1.0 \\right],   1.0 \\right] & \\left[   1.0, \\left[   1.0,   1.0 \\right],   1.0 \\right] \\end{bmatrix}\n"
     ]
    }
   ],
   "source": [
    "A₁ = [\n",
    "    1..1 1..2 (2/3)..(4/3) 1..(4/3)\n",
    "    (1/2)..1 1..1 (4/9)..1 (2/3)..1\n",
    "    (3/4)..(3/2) 1..(9/4) 1..1 1..(3/2)\n",
    "    (3/4)..1 1..(3/2) (2/3)..1 1..1\n",
    "]\n",
    "A₂ = A₁\n",
    "\n",
    "println(\"A_1 = A_2 = $(intervalMatrixLaTeXString(A₁))\"); println()\n",
    "\n",
    "Â = method1(A₁, A₂)\n",
    "\n",
    "println(\"\\\\hat{A} = $(twofoldIntervalMatrixLaTeXString(Â))\")"
   ]
  },
  {
   "attachments": {},
   "cell_type": "markdown",
   "id": "4912cd41",
   "metadata": {},
   "source": [
    "与える区間 PCM $A_1, A_2$\n",
    "$$\n",
    "A_1 = A_2 = \\begin{bmatrix} \\left[ 1.0, 1.0 \\right] & \\left[ 1.0, 2.0 \\right] & \\left[ 0.667, 1.333 \\right] & \\left[ 1.0, 1.333 \\right] \\\\ \\left[ 0.5, 1.0 \\right] & \\left[ 1.0, 1.0 \\right] & \\left[ 0.444, 1.0 \\right] & \\left[ 0.667, 1.0 \\right] \\\\ \\left[ 0.75, 1.5 \\right] & \\left[ 1.0, 2.25 \\right] & \\left[ 1.0, 1.0 \\right] & \\left[ 1.0, 1.5 \\right] \\\\ \\left[ 0.75, 1.0 \\right] & \\left[ 1.0, 1.5 \\right] & \\left[ 0.667, 1.0 \\right] & \\left[ 1.0, 1.0 \\right] \\end{bmatrix}\n",
    "$$\n",
    "\n",
    "$A_1, A_2$ を結合して得られる二重区間 PCM $A$\n",
    "$$\n",
    "A = \\begin{bmatrix} \\left[   1.0, \\left[   1.0,   1.0 \\right],   1.0 \\right] & \\left[   1.0, \\left[   1.0,   2.0 \\right],   2.0 \\right] & \\left[ 0.667, \\left[ 0.667, 1.333 \\right], 1.333 \\right] & \\left[   1.0, \\left[   1.0, 1.333 \\right], 1.333 \\right] \\\\ \\left[   0.5, \\left[   0.5,   1.0 \\right],   1.0 \\right] & \\left[   1.0, \\left[   1.0,   1.0 \\right],   1.0 \\right] & \\left[ 0.444, \\left[ 0.444,   1.0 \\right],   1.0 \\right] & \\left[ 0.667, \\left[ 0.667,   1.0 \\right],   1.0 \\right] \\\\ \\left[  0.75, \\left[  0.75,   1.5 \\right],   1.5 \\right] & \\left[   1.0, \\left[   1.0,  2.25 \\right],  2.25 \\right] & \\left[   1.0, \\left[   1.0,   1.0 \\right],   1.0 \\right] & \\left[   1.0, \\left[   1.0,   1.5 \\right],   1.5 \\right] \\\\ \\left[  0.75, \\left[  0.75,   1.0 \\right],   1.0 \\right] & \\left[   1.0, \\left[   1.0,   1.5 \\right],   1.5 \\right] & \\left[ 0.667, \\left[ 0.667,   1.0 \\right],   1.0 \\right] & \\left[   1.0, \\left[   1.0,   1.0 \\right],   1.0 \\right] \\end{bmatrix}\n",
    "$$\n",
    "\n",
    "$A$ を整合化する LP の最適解\n",
    "$$\n",
    "\\begin{bmatrix}\\left[ w_1^\\text{L}, w_1^\\text{U} \\right] \\\\ \\left[ w_2^\\text{L}, w_2^\\text{U} \\right] \\\\ \\left[ w_3^\\text{L}, w_3^\\text{U} \\right] \\\\ \\left[ w_4^\\text{L}, w_4^\\text{U} \\right]\\end{bmatrix} = \\begin{bmatrix}\\left[ 0.235, 0.314 \\right] \\\\ \\left[ 0.157, 0.235 \\right] \\\\ \\left[ 0.235, 0.353 \\right] \\\\ \\left[ 0.235, 0.235 \\right]\\end{bmatrix}\n",
    "$$\n",
    "\n",
    "$$\n",
    "\\begin{bmatrix}w_1^{\\text{L}-} \\\\ w_2^{\\text{L}-} \\\\ w_3^{\\text{L}-} \\\\ w_4^{\\text{L}-}\\end{bmatrix} = \\begin{bmatrix} 0.235  \\\\  0.157  \\\\  0.235  \\\\  0.235 \\end{bmatrix}, ~~\n",
    "\\begin{bmatrix}w_1^{\\text{U}-} \\\\ w_2^{\\text{U}-} \\\\ w_3^{\\text{U}-} \\\\ w_4^{\\text{U}-}\\end{bmatrix} = \\begin{bmatrix} 0.314  \\\\  0.235  \\\\  0.353  \\\\  0.235 \\end{bmatrix}, ~~\n",
    "\\begin{bmatrix}w_1^{\\text{L}+} \\\\ w_2^{\\text{L}+} \\\\ w_3^{\\text{L}+} \\\\ w_4^{\\text{L}+}\\end{bmatrix} = \\begin{bmatrix} 0.235  \\\\  0.157  \\\\  0.235  \\\\  0.235 \\end{bmatrix}, ~~\n",
    "\\begin{bmatrix}w_1^{\\text{U}+} \\\\ w_2^{\\text{U}+} \\\\ w_3^{\\text{U}+} \\\\ w_4^{\\text{U}+}\\end{bmatrix} = \\begin{bmatrix} 0.314  \\\\  0.235  \\\\  0.353  \\\\  0.235 \\end{bmatrix}\n",
    "$$\n",
    "\n",
    "$$\n",
    "\\begin{bmatrix}\\varepsilon_1^\\text{L} \\\\ \\varepsilon_2^\\text{L} \\\\ \\varepsilon_3^\\text{L} \\\\ \\varepsilon_4^\\text{L}\\end{bmatrix} = \\begin{bmatrix} 0.0  \\\\  0.0  \\\\  0.0  \\\\  0.0 \\end{bmatrix}, ~~\n",
    "\\begin{bmatrix}\\varepsilon_1^\\text{U} \\\\ \\varepsilon_2^\\text{U} \\\\ \\varepsilon_3^\\text{U} \\\\ \\varepsilon_4^\\text{U}\\end{bmatrix} = \\begin{bmatrix} 0.0  \\\\  0.0  \\\\  0.0  \\\\  0.0 \\end{bmatrix}\n",
    "$$\n",
    "\n",
    "整合化して得られた二重区間 PCM $\\hat{A}$\n",
    "$$\n",
    "\\hat{A} = \\begin{bmatrix} \\left[   1.0, \\left[   1.0,   1.0 \\right],   1.0 \\right] & \\left[   1.0, \\left[   1.0,   2.0 \\right],   2.0 \\right] & \\left[ 0.667, \\left[ 0.667, 1.333 \\right], 1.333 \\right] & \\left[   1.0, \\left[   1.0, 1.333 \\right], 1.333 \\right] \\\\ \\left[   0.5, \\left[   0.5,   1.0 \\right],   1.0 \\right] & \\left[   1.0, \\left[   1.0,   1.0 \\right],   1.0 \\right] & \\left[ 0.444, \\left[ 0.444,   1.0 \\right],   1.0 \\right] & \\left[ 0.667, \\left[ 0.667,   1.0 \\right],   1.0 \\right] \\\\ \\left[  0.75, \\left[  0.75,   1.5 \\right],   1.5 \\right] & \\left[   1.0, \\left[   1.0,  2.25 \\right],  2.25 \\right] & \\left[   1.0, \\left[   1.0,   1.0 \\right],   1.0 \\right] & \\left[   1.0, \\left[   1.0,   1.5 \\right],   1.5 \\right] \\\\ \\left[  0.75, \\left[  0.75,   1.0 \\right],   1.0 \\right] & \\left[   1.0, \\left[   1.0,   1.5 \\right],   1.5 \\right] & \\left[ 0.667, \\left[ 0.667,   1.0 \\right],   1.0 \\right] & \\left[   1.0, \\left[   1.0,   1.0 \\right],   1.0 \\right] \\end{bmatrix}\n",
    "$$"
   ]
  },
  {
   "attachments": {},
   "cell_type": "markdown",
   "id": "f23c1019",
   "metadata": {},
   "source": [
    "# example 2"
   ]
  },
  {
   "cell_type": "code",
   "execution_count": 6,
   "id": "9af5bd92",
   "metadata": {},
   "outputs": [
    {
     "name": "stdout",
     "output_type": "stream",
     "text": [
      "A = \\begin{bmatrix} \\left[   1.0, \\left[   1.0,   1.0 \\right],   1.0 \\right] & \\left[   0.8, \\left[   1.0,   2.0 \\right],   2.5 \\right] & \\left[ 0.533, \\left[ 0.667, 1.333 \\right], 1.667 \\right] & \\left[   0.8, \\left[   1.0, 1.333 \\right], 1.667 \\right] \\\\ \\left[   0.4, \\left[   0.5,   1.0 \\right],  1.25 \\right] & \\left[   1.0, \\left[   1.0,   1.0 \\right],   1.0 \\right] & \\left[ 0.356, \\left[ 0.444,   1.0 \\right],  1.25 \\right] & \\left[ 0.533, \\left[ 0.667,   1.0 \\right],  1.25 \\right] \\\\ \\left[   0.6, \\left[  0.75,   1.5 \\right], 1.875 \\right] & \\left[   0.8, \\left[   1.0,  2.25 \\right], 2.812 \\right] & \\left[   1.0, \\left[   1.0,   1.0 \\right],   1.0 \\right] & \\left[   0.8, \\left[   1.0,   1.5 \\right], 1.875 \\right] \\\\ \\left[   0.6, \\left[  0.75,   1.0 \\right],  1.25 \\right] & \\left[   0.8, \\left[   1.0,   1.5 \\right], 1.875 \\right] & \\left[ 0.533, \\left[ 0.667,   1.0 \\right],  1.25 \\right] & \\left[   1.0, \\left[   1.0,   1.0 \\right],   1.0 \\right] \\end{bmatrix}\n",
      "\n",
      "\\begin{bmatrix}\\left[ w_1^\\text{L}, w_1^\\text{U} \\right] \\\\ \\left[ w_2^\\text{L}, w_2^\\text{U} \\right] \\\\ \\left[ w_3^\\text{L}, w_3^\\text{U} \\right] \\\\ \\left[ w_4^\\text{L}, w_4^\\text{U} \\right]\\end{bmatrix} = \\begin{bmatrix}\\left[ 0.206, 0.343 \\right] \\\\ \\left[ 0.137, 0.258 \\right] \\\\ \\left[ 0.206, 0.386 \\right] \\\\ \\left[ 0.206, 0.258 \\right]\\end{bmatrix}\n",
      "\n",
      "\\begin{bmatrix}w_1^{\\text{L}-} \\\\ w_2^{\\text{L}-} \\\\ w_3^{\\text{L}-} \\\\ w_4^{\\text{L}-}\\end{bmatrix} = \\begin{bmatrix} 0.206  \\\\  0.137  \\\\  0.206  \\\\  0.206 \\end{bmatrix}, ~~\n",
      "\\begin{bmatrix}w_1^{\\text{U}-} \\\\ w_2^{\\text{U}-} \\\\ w_3^{\\text{U}-} \\\\ w_4^{\\text{U}-}\\end{bmatrix} = \\begin{bmatrix} 0.275  \\\\  0.206  \\\\  0.309  \\\\  0.206 \\end{bmatrix}, ~~\n",
      "\\begin{bmatrix}w_1^{\\text{L}+} \\\\ w_2^{\\text{L}+} \\\\ w_3^{\\text{L}+} \\\\ w_4^{\\text{L}+}\\end{bmatrix} = \\begin{bmatrix} 0.206  \\\\  0.137  \\\\  0.206  \\\\  0.206 \\end{bmatrix}, ~~\n",
      "\\begin{bmatrix}w_1^{\\text{U}+} \\\\ w_2^{\\text{U}+} \\\\ w_3^{\\text{U}+} \\\\ w_4^{\\text{U}+}\\end{bmatrix} = \\begin{bmatrix} 0.275  \\\\  0.206  \\\\  0.309  \\\\  0.206 \\end{bmatrix}\n",
      "\n",
      "\n",
      "\\begin{bmatrix}\\varepsilon_1^\\text{L} \\\\ \\varepsilon_2^\\text{L} \\\\ \\varepsilon_3^\\text{L} \\\\ \\varepsilon_4^\\text{L}\\end{bmatrix} = \\begin{bmatrix} 0.0  \\\\  0.0  \\\\  0.0  \\\\  0.0 \\end{bmatrix}, ~~\n",
      "\\begin{bmatrix}\\varepsilon_1^\\text{U} \\\\ \\varepsilon_2^\\text{U} \\\\ \\varepsilon_3^\\text{U} \\\\ \\varepsilon_4^\\text{U}\\end{bmatrix} = \\begin{bmatrix} 0.0  \\\\  0.0  \\\\  0.0  \\\\  0.0 \\end{bmatrix}\n",
      "\n",
      "\n"
     ]
    },
    {
     "data": {
      "text/plain": [
       "4×4 Matrix{Tuple{Interval{Float64}, Interval{Float64}}}:\n",
       " ([1, 1], [1, 1])                  …  ([1, 1.33334], [0.799999, 1.66667])\n",
       " ([0.5, 1], [0.399999, 1.25])         ([0.666666, 1], [0.533333, 1.25])\n",
       " ([0.75, 1.5], [0.599999, 1.875])     ([1, 1.5], [0.799999, 1.875])\n",
       " ([0.75, 1], [0.599999, 1.25])        ([1, 1], [1, 1])"
      ]
     },
     "metadata": {},
     "output_type": "display_data"
    }
   ],
   "source": [
    "A₁ = [\n",
    "    1..1 1..2 (2/3)..(4/3) 1..(4/3)\n",
    "    (1/2)..1 1..1 (4/9)..1 (2/3)..1\n",
    "    (3/4)..(3/2) 1..(9/4) 1..1 1..(3/2)\n",
    "    (3/4)..1 1..(3/2) (2/3)..1 1..1\n",
    "]\n",
    "_, n = size(A₁)\n",
    "A₂ = fill(1..1, (n, n))\n",
    "for i = 1:n, j = 1:n\n",
    "    if i == j continue end\n",
    "    A₂[i,j] = (A₁[i,j].lo * 4 / 5)..(A₁[i,j].hi * 5 / 4)\n",
    "end\n",
    "\n",
    "method1(A₁, A₂)"
   ]
  },
  {
   "cell_type": "markdown",
   "id": "c5c807c9",
   "metadata": {},
   "source": [
    "<!-- ともに弱い整合性を持ち， $A_{1ij} \\subseteq A_{2ij}$\n",
    "\n",
    "```\n",
    "A₁ = [\n",
    "    1..1 2..5 2..4 2..3\n",
    "    (1/5)..(1/2) 1..1 (1/5)..4 (1/5)..3\n",
    "    (1/4)..(1/2) (1/4)..5 1..1 (1/4)..3\n",
    "    (1/3)..(1/2) (1/3)..5 (1/3)..4 1..1\n",
    "]\n",
    "A₂ = fill(1..1, size(A₁))\n",
    "_, n = size(A₁)\n",
    "for i = 1:n, j = 1:n\n",
    "    if i == j continue end\n",
    "    A₂[i,j] = (A₁[i,j].lo * 1/1.1)..(A₁[i,j].hi * 1.1)\n",
    "end\n",
    "\n",
    "display(L\"A_1 = %$(intervalMatrixLaTeXString(A₁))\")\n",
    "display(L\"A_2 = %$(intervalMatrixLaTeXString(A₂))\")\n",
    "\n",
    "display(isConsistentIntervalPCM(A₁))\n",
    "display(isWeaklyConsistentIntervalPCM(A₁))\n",
    "display(isConsistentIntervalPCM(A₂))\n",
    "display(isWeaklyConsistentIntervalPCM(A₂))\n",
    "\n",
    "plotAll(A₁, A₂)\n",
    "``` -->"
   ]
  },
  {
   "attachments": {},
   "cell_type": "markdown",
   "id": "db9f7e4c",
   "metadata": {},
   "source": [
    "# example 3"
   ]
  },
  {
   "cell_type": "code",
   "execution_count": 7,
   "id": "6e1ba351",
   "metadata": {},
   "outputs": [
    {
     "name": "stdout",
     "output_type": "stream",
     "text": [
      "A = \\begin{bmatrix} \\left[   1.0, \\left[   1.0,   1.0 \\right],   1.0 \\right] & \\left[ 1.981, \\left[ 1.998,  2.01 \\right], 2.033 \\right] & \\left[ 3.974, \\left[ 3.974,  4.05 \\right], 4.109 \\right] & \\left[ 3.958, \\left[ 3.962, 4.041 \\right], 4.048 \\right] \\\\ \\left[ 0.492, \\left[ 0.497,   0.5 \\right], 0.505 \\right] & \\left[   1.0, \\left[   1.0,   1.0 \\right],   1.0 \\right] & \\left[ 1.944, \\left[ 1.945, 2.015 \\right], 2.048 \\right] & \\left[ 1.942, \\left[ 1.971, 2.033 \\right], 2.045 \\right] \\\\ \\left[ 0.243, \\left[ 0.247, 0.252 \\right], 0.252 \\right] & \\left[ 0.488, \\left[ 0.496, 0.514 \\right], 0.515 \\right] & \\left[   1.0, \\left[   1.0,   1.0 \\right],   1.0 \\right] & \\left[ 0.972, \\left[ 0.983, 1.021 \\right], 1.022 \\right] \\\\ \\left[ 0.247, \\left[ 0.247, 0.252 \\right], 0.253 \\right] & \\left[ 0.489, \\left[ 0.492, 0.507 \\right], 0.515 \\right] & \\left[ 0.978, \\left[ 0.979, 1.017 \\right], 1.029 \\right] & \\left[   1.0, \\left[   1.0,   1.0 \\right],   1.0 \\right] \\end{bmatrix}\n",
      "\n",
      "\\begin{bmatrix}\\left[ w_1^\\text{L}, w_1^\\text{U} \\right] \\\\ \\left[ w_2^\\text{L}, w_2^\\text{U} \\right] \\\\ \\left[ w_3^\\text{L}, w_3^\\text{U} \\right] \\\\ \\left[ w_4^\\text{L}, w_4^\\text{U} \\right]\\end{bmatrix} = \\begin{bmatrix}\\left[ 0.501, 0.501 \\right] \\\\ \\left[ 0.246, 0.252 \\right] \\\\ \\left[ 0.124, 0.126 \\right] \\\\ \\left[ 0.124, 0.127 \\right]\\end{bmatrix}\n",
      "\n",
      "\\begin{bmatrix}w_1^{\\text{L}-} \\\\ w_2^{\\text{L}-} \\\\ w_3^{\\text{L}-} \\\\ w_4^{\\text{L}-}\\end{bmatrix} = \\begin{bmatrix} 0.501  \\\\  0.245  \\\\  0.123  \\\\  0.123 \\end{bmatrix}, ~~\n",
      "\\begin{bmatrix}w_1^{\\text{U}-} \\\\ w_2^{\\text{U}-} \\\\ w_3^{\\text{U}-} \\\\ w_4^{\\text{U}-}\\end{bmatrix} = \\begin{bmatrix} 0.5  \\\\  0.252  \\\\  0.127  \\\\  0.126 \\end{bmatrix}, ~~\n",
      "\\begin{bmatrix}w_1^{\\text{L}+} \\\\ w_2^{\\text{L}+} \\\\ w_3^{\\text{L}+} \\\\ w_4^{\\text{L}+}\\end{bmatrix} = \\begin{bmatrix} 0.501  \\\\  0.246  \\\\  0.123  \\\\  0.124 \\end{bmatrix}, ~~\n",
      "\\begin{bmatrix}w_1^{\\text{U}+} \\\\ w_2^{\\text{U}+} \\\\ w_3^{\\text{U}+} \\\\ w_4^{\\text{U}+}\\end{bmatrix} = \\begin{bmatrix} 0.5  \\\\  0.252  \\\\  0.126  \\\\  0.126 \\end{bmatrix}\n",
      "\n",
      "\n",
      "\\begin{bmatrix}\\varepsilon_1^\\text{L} \\\\ \\varepsilon_2^\\text{L} \\\\ \\varepsilon_3^\\text{L} \\\\ \\varepsilon_4^\\text{L}\\end{bmatrix} = \\begin{bmatrix} 0.0  \\\\  0.001  \\\\  0.0  \\\\  0.0 \\end{bmatrix}, ~~\n",
      "\\begin{bmatrix}\\varepsilon_1^\\text{U} \\\\ \\varepsilon_2^\\text{U} \\\\ \\varepsilon_3^\\text{U} \\\\ \\varepsilon_4^\\text{U}\\end{bmatrix} = \\begin{bmatrix} 0.0  \\\\  0.0  \\\\  0.001  \\\\  0.0 \\end{bmatrix}\n",
      "\n",
      "\n"
     ]
    },
    {
     "data": {
      "text/plain": [
       "4×4 Matrix{Tuple{Interval{Float64}, Interval{Float64}}}:\n",
       " ([1, 1], [1, 1])                              …  ([3.96195, 4.04127], [3.95785, 4.05807])\n",
       " ([0.497447, 0.500467], [0.489537, 0.504914])     ([1.97056, 2.03257], [1.93751, 2.04542])\n",
       " ([0.246924, 0.251639], [0.243382, 0.252825])     ([0.982802, 1.01856], [0.972157, 1.02333])\n",
       " ([0.247447, 0.252401], [0.246422, 0.252663])     ([1, 1], [1, 1])"
      ]
     },
     "metadata": {},
     "output_type": "display_data"
    }
   ],
   "source": [
    "A = [\n",
    "    1 2 4 4\n",
    "    1/2 1 2 2\n",
    "    1/4 1/2 1 1\n",
    "    1/4 1/2 1 1\n",
    "]\n",
    "\n",
    "A₁ = randamizedIntervalPCM(A, 1234, 3e-2)\n",
    "A₂ = randamizedIntervalPCM(A, 134, 3e-2)\n",
    "\n",
    "method1(A₁, A₂)"
   ]
  },
  {
   "attachments": {},
   "cell_type": "markdown",
   "id": "75d55a58",
   "metadata": {},
   "source": [
    "# example 4"
   ]
  },
  {
   "cell_type": "code",
   "execution_count": 8,
   "id": "efb08e9f",
   "metadata": {},
   "outputs": [
    {
     "name": "stdout",
     "output_type": "stream",
     "text": [
      "A = \\begin{bmatrix} \\left[   1.0, \\left[   1.0,   1.0 \\right],   1.0 \\right] & \\left[ 1.477, \\left[ 1.483, 2.432 \\right], 2.772 \\right] & \\left[ 2.334, \\left[ 2.367, 3.578 \\right], 3.893 \\right] & \\left[ 8.353, \\left[ 8.663, 11.158 \\right], 12.974 \\right] \\\\ \\left[ 0.361, \\left[ 0.411, 0.674 \\right], 0.677 \\right] & \\left[   1.0, \\left[   1.0,   1.0 \\right],   1.0 \\right] & \\left[ 2.216, \\left[ 2.786, 3.049 \\right], 3.835 \\right] & \\left[ 6.615, \\left[ 6.654, 8.351 \\right], 10.334 \\right] \\\\ \\left[ 0.257, \\left[ 0.279, 0.422 \\right], 0.428 \\right] & \\left[ 0.261, \\left[ 0.328, 0.359 \\right], 0.451 \\right] & \\left[   1.0, \\left[   1.0,   1.0 \\right],   1.0 \\right] & \\left[ 2.263, \\left[ 2.648, 3.309 \\right], 4.048 \\right] \\\\ \\left[ 0.077, \\left[  0.09, 0.115 \\right],  0.12 \\right] & \\left[ 0.097, \\left[  0.12,  0.15 \\right], 0.151 \\right] & \\left[ 0.247, \\left[ 0.302, 0.378 \\right], 0.442 \\right] & \\left[   1.0, \\left[   1.0,   1.0 \\right],   1.0 \\right] \\end{bmatrix}\n",
      "\n",
      "\\begin{bmatrix}\\left[ w_1^\\text{L}, w_1^\\text{U} \\right] \\\\ \\left[ w_2^\\text{L}, w_2^\\text{U} \\right] \\\\ \\left[ w_3^\\text{L}, w_3^\\text{U} \\right] \\\\ \\left[ w_4^\\text{L}, w_4^\\text{U} \\right]\\end{bmatrix} = \\begin{bmatrix}\\left[ 0.465, 0.553 \\right] \\\\ \\left[ 0.227, 0.315 \\right] \\\\ \\left[ 0.142, 0.196 \\right] \\\\ \\left[ 0.049, 0.054 \\right]\\end{bmatrix}\n",
      "\n",
      "\\begin{bmatrix}w_1^{\\text{L}-} \\\\ w_2^{\\text{L}-} \\\\ w_3^{\\text{L}-} \\\\ w_4^{\\text{L}-}\\end{bmatrix} = \\begin{bmatrix} 0.465  \\\\  0.227  \\\\  0.103  \\\\  0.038 \\end{bmatrix}, ~~\n",
      "\\begin{bmatrix}w_1^{\\text{U}-} \\\\ w_2^{\\text{U}-} \\\\ w_3^{\\text{U}-} \\\\ w_4^{\\text{U}-}\\end{bmatrix} = \\begin{bmatrix} 0.553  \\\\  0.433  \\\\  0.196  \\\\  0.054 \\end{bmatrix}, ~~\n",
      "\\begin{bmatrix}w_1^{\\text{L}+} \\\\ w_2^{\\text{L}+} \\\\ w_3^{\\text{L}+} \\\\ w_4^{\\text{L}+}\\end{bmatrix} = \\begin{bmatrix} 0.465  \\\\  0.435  \\\\  0.142  \\\\  0.049 \\end{bmatrix}, ~~\n",
      "\\begin{bmatrix}w_1^{\\text{U}+} \\\\ w_2^{\\text{U}+} \\\\ w_3^{\\text{U}+} \\\\ w_4^{\\text{U}+}\\end{bmatrix} = \\begin{bmatrix} 0.553  \\\\  0.315  \\\\  0.103  \\\\  0.034 \\end{bmatrix}\n",
      "\n",
      "\n",
      "\\begin{bmatrix}\\varepsilon_1^\\text{L} \\\\ \\varepsilon_2^\\text{L} \\\\ \\varepsilon_3^\\text{L} \\\\ \\varepsilon_4^\\text{L}\\end{bmatrix} = \\begin{bmatrix} -0.0  \\\\  0.208  \\\\  0.039  \\\\  0.011 \\end{bmatrix}, ~~\n",
      "\\begin{bmatrix}\\varepsilon_1^\\text{U} \\\\ \\varepsilon_2^\\text{U} \\\\ \\varepsilon_3^\\text{U} \\\\ \\varepsilon_4^\\text{U}\\end{bmatrix} = \\begin{bmatrix} -0.0  \\\\  0.118  \\\\  0.094  \\\\  0.019 \\end{bmatrix}\n",
      "\n",
      "\n"
     ]
    },
    {
     "data": {
      "text/plain": [
       "4×4 Matrix{Tuple{Interval{Float64}, Interval{Float64}}}:\n",
       " ([1, 1], [1, 1])            …  (∅, [8.35276, 14.6767])\n",
       " (∅, [0.360695, 0.931797])      (∅, [4.23735, 10.3344])\n",
       " (∅, [0.186634, 0.42848])       (∅, [1.92368, 5.21185])\n",
       " (∅, [0.0681356, 0.119721])     ([1, 1], [1, 1])"
      ]
     },
     "metadata": {},
     "output_type": "display_data"
    }
   ],
   "source": [
    "A = [\n",
    "    1 2 3 10\n",
    "    1/2 1 3 8\n",
    "    1/3 1/3 1 3\n",
    "    1/10 1/8 1/3 1\n",
    "]\n",
    "\n",
    "A₁ = randamizedIntervalPCM(A, 124, 3.5e-1)\n",
    "A₂ = randamizedIntervalPCM(A, 4, 3.5e-1)\n",
    "\n",
    "method1(A₁, A₂)"
   ]
  },
  {
   "cell_type": "code",
   "execution_count": 9,
   "id": "28f7c269-9bb7-41fc-966d-f6a2f02aa66f",
   "metadata": {},
   "outputs": [],
   "source": []
  }
 ],
 "metadata": {
  "kernelspec": {
   "display_name": "Julia 1.8.5",
   "language": "julia",
   "name": "julia-1.8"
  },
  "language_info": {
   "file_extension": ".jl",
   "mimetype": "application/julia",
   "name": "julia",
   "version": "1.8.5"
  },
  "vscode": {
   "interpreter": {
    "hash": "d4d1e4263499bec80672ea0156c357c1ee493ec2b1c70f0acce89fc37c4a6abe"
   }
  }
 },
 "nbformat": 4,
 "nbformat_minor": 5
}
