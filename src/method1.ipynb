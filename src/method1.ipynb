{
 "cells": [
  {
   "cell_type": "code",
   "execution_count": 11,
   "id": "a661200b-0885-4ad6-9e50-f9b552f74857",
   "metadata": {},
   "outputs": [],
   "source": [
    "using IntervalArithmetic\n",
    "using LaTeXStrings\n",
    "using Plots"
   ]
  },
  {
   "cell_type": "code",
   "execution_count": 12,
   "id": "6ae45f35-7c99-45c9-a934-88166cfef5fb",
   "metadata": {},
   "outputs": [],
   "source": [
    "include(\"./method1/index.jl\")\n",
    "include(\"./intervalPCM/index.jl\")\n",
    "include(\"./twofoldInterval/index.jl\")\n",
    "include(\"./twofoldIntervalPCM/index.jl\")\n",
    "\n",
    "print()"
   ]
  },
  {
   "cell_type": "code",
   "execution_count": 13,
   "id": "00c417be",
   "metadata": {},
   "outputs": [
    {
     "data": {
      "text/plain": [
       "laTeXMatrix (generic function with 1 method)"
      ]
     },
     "metadata": {},
     "output_type": "display_data"
    }
   ],
   "source": [
    "function laTeXMatrix(\n",
    "        pattern,\n",
    "        size::Tuple{Integer, Integer})::String\n",
    "    m, n = size\n",
    "\n",
    "    mat = \"\\\\begin{bmatrix}\"\n",
    "    for i = 1:m, j = 1:n\n",
    "        mat *= pattern(i, j)\n",
    "        if j == n\n",
    "            if i != m\n",
    "                mat *= \" \\\\\\\\ \"\n",
    "            end\n",
    "        else\n",
    "            mat *= \" & \"\n",
    "        end\n",
    "    end\n",
    "    mat *= \"\\\\end{bmatrix}\"\n",
    "\n",
    "    return mat\n",
    "end"
   ]
  },
  {
   "cell_type": "code",
   "execution_count": 14,
   "id": "98b3f285",
   "metadata": {},
   "outputs": [
    {
     "data": {
      "text/plain": [
       "method1 (generic function with 1 method)"
      ]
     },
     "metadata": {},
     "output_type": "display_data"
    }
   ],
   "source": [
    "function method1(A₁::Matrix{Interval{T}}, A₂::Matrix{Interval{T}}) where {T <: Real}\n",
    "    _, n = size(A₁)\n",
    "\n",
    "    A = intervalPCM2TwofoldIntervalPCM(A₁, A₂)\n",
    "    println(\"A = $(twofoldIntervalMatrixLaTeXString(A))\"); println()\n",
    "\n",
    "    result = solveLP_m1(A)\n",
    "\n",
    "    resultₛₜᵣ = lPResultLaTeXString_m1(result)\n",
    "    println(\"$(laTeXMatrix((i,j) -> \"\\\\left[ w_$i^\\\\text{L}, w_$i^\\\\text{U} \\\\right]\", (n, 1))) = $(resultₛₜᵣ.W)\"); println()\n",
    "    println(\"\"\"\n",
    "        $(laTeXMatrix((i,j) -> \"w_$i^{\\\\text{L}-}\", (n, 1))) = $(resultₛₜᵣ.wᴸ⁻), ~~\n",
    "        $(laTeXMatrix((i,j) -> \"w_$i^{\\\\text{U}-}\", (n, 1))) = $(resultₛₜᵣ.wᵁ⁻), ~~\n",
    "        $(laTeXMatrix((i,j) -> \"w_$i^{\\\\text{L}+}\", (n, 1))) = $(resultₛₜᵣ.wᴸ⁺), ~~\n",
    "        $(laTeXMatrix((i,j) -> \"w_$i^{\\\\text{U}+}\", (n, 1))) = $(resultₛₜᵣ.wᵁ⁺)\n",
    "        \"\"\"); println()\n",
    "    println(\"\"\"\n",
    "        $(laTeXMatrix((i,j) -> \"\\\\varepsilon_$i^\\\\text{L}\", (n, 1))) = $(resultₛₜᵣ.εᴸ), ~~\n",
    "        $(laTeXMatrix((i,j) -> \"\\\\varepsilon_$i^\\\\text{U}\", (n, 1))) = $(resultₛₜᵣ.εᵁ)\n",
    "        \"\"\"); println()\n",
    "\n",
    "    Â = updatePCM_m1(A, result)\n",
    "\n",
    "    return Â\n",
    "end"
   ]
  },
  {
   "attachments": {},
   "cell_type": "markdown",
   "id": "e0934d78",
   "metadata": {},
   "source": [
    "# example 1"
   ]
  },
  {
   "cell_type": "code",
   "execution_count": 15,
   "id": "7a539df8",
   "metadata": {},
   "outputs": [
    {
     "name": "stdout",
     "output_type": "stream",
     "text": [
      "A_1 = A_2 = \\begin{bmatrix} \\left[ 1.0, 1.0 \\right] & \\left[ 1.0, 2.0 \\right] & \\left[ 0.667, 1.333 \\right] & \\left[ 1.0, 1.333 \\right] \\\\ \\left[ 0.5, 1.0 \\right] & \\left[ 1.0, 1.0 \\right] & \\left[ 0.444, 1.0 \\right] & \\left[ 0.667, 1.0 \\right] \\\\ \\left[ 0.75, 1.5 \\right] & \\left[ 1.0, 2.25 \\right] & \\left[ 1.0, 1.0 \\right] & \\left[ 1.0, 1.5 \\right] \\\\ \\left[ 0.75, 1.0 \\right] & \\left[ 1.0, 1.5 \\right] & \\left[ 0.667, 1.0 \\right] & \\left[ 1.0, 1.0 \\right] \\end{bmatrix}\n",
      "\n",
      "A = \\begin{bmatrix} \\left[ 1.0, \\left[ 1.0, 1.0 \\right], 1.0 \\right] & \\left[ 1.0, \\left[ 1.0, 2.0 \\right], 2.0 \\right] & \\left[ 0.67, \\left[ 0.67, 1.33 \\right], 1.33 \\right] & \\left[ 1.0, \\left[ 1.0, 1.33 \\right], 1.33 \\right] \\\\ \\left[ 0.5, \\left[ 0.5, 1.0 \\right], 1.0 \\right] & \\left[ 1.0, \\left[ 1.0, 1.0 \\right], 1.0 \\right] & \\left[ 0.44, \\left[ 0.44, 1.0 \\right], 1.0 \\right] & \\left[ 0.67, \\left[ 0.67, 1.0 \\right], 1.0 \\right] \\\\ \\left[ 0.75, \\left[ 0.75, 1.5 \\right], 1.5 \\right] & \\left[ 1.0, \\left[ 1.0, 2.25 \\right], 2.25 \\right] & \\left[ 1.0, \\left[ 1.0, 1.0 \\right], 1.0 \\right] & \\left[ 1.0, \\left[ 1.0, 1.5 \\right], 1.5 \\right] \\\\ \\left[ 0.75, \\left[ 0.75, 1.0 \\right], 1.0 \\right] & \\left[ 1.0, \\left[ 1.0, 1.5 \\right], 1.5 \\right] & \\left[ 0.67, \\left[ 0.67, 1.0 \\right], 1.0 \\right] & \\left[ 1.0, \\left[ 1.0, 1.0 \\right], 1.0 \\right] \\end{bmatrix}"
     ]
    },
    {
     "name": "stdout",
     "output_type": "stream",
     "text": [
      "\n",
      "\n"
     ]
    },
    {
     "name": "stdout",
     "output_type": "stream",
     "text": [
      "\\begin{bmatrix}\\left[ w_1^\\text{L}, w_1^\\text{U} \\right] \\\\ \\left[ w_2^\\text{L}, w_2^\\text{U} \\right] \\\\ \\left[ w_3^\\text{L}, w_3^\\text{U} \\right] \\\\ \\left[ w_4^\\text{L}, w_4^\\text{U} \\right]\\end{bmatrix} = \\begin{bmatrix}\\left[ 0.235, 0.314 \\right] \\\\ \\left[ 0.157, 0.235 \\right] \\\\ \\left[ 0.235, 0.353 \\right] \\\\ \\left[ 0.235, 0.235 \\right]\\end{bmatrix}\n",
      "\n",
      "\\begin{bmatrix}w_1^{\\text{L}-} \\\\ w_2^{\\text{L}-} \\\\ w_3^{\\text{L}-} \\\\ w_4^{\\text{L}-}\\end{bmatrix} = \\begin{bmatrix} 0.235  \\\\  0.157  \\\\  0.235  \\\\  0.235 \\end{bmatrix}, ~~\n",
      "\\begin{bmatrix}w_1^{\\text{U}-} \\\\ w_2^{\\text{U}-} \\\\ w_3^{\\text{U}-} \\\\ w_4^{\\text{U}-}\\end{bmatrix} = \\begin{bmatrix} 0.314  \\\\  0.235  \\\\  0.353  \\\\  0.235 \\end{bmatrix}, ~~\n",
      "\\begin{bmatrix}w_1^{\\text{L}+} \\\\ w_2^{\\text{L}+} \\\\ w_3^{\\text{L}+} \\\\ w_4^{\\text{L}+}\\end{bmatrix} = \\begin{bmatrix} 0.235  \\\\  0.157  \\\\  0.235  \\\\  0.235 \\end{bmatrix}, ~~\n",
      "\\begin{bmatrix}w_1^{\\text{U}+} \\\\ w_2^{\\text{U}+} \\\\ w_3^{\\text{U}+} \\\\ w_4^{\\text{U}+}\\end{bmatrix} = \\begin{bmatrix} 0.314  \\\\  0.235  \\\\  0.353  \\\\  0.235 \\end{bmatrix}\n",
      "\n",
      "\n",
      "\\begin{bmatrix}\\varepsilon_1^\\text{L} \\\\ \\varepsilon_2^\\text{L} \\\\ \\varepsilon_3^\\text{L} \\\\ \\varepsilon_4^\\text{L}\\end{bmatrix} = \\begin{bmatrix} 0.0  \\\\  0.0  \\\\  0.0  \\\\  0.0 \\end{bmatrix}, ~~\n",
      "\\begin{bmatrix}\\varepsilon_1^\\text{U} \\\\ \\varepsilon_2^\\text{U} \\\\ \\varepsilon_3^\\text{U} \\\\ \\varepsilon_4^\\text{U}\\end{bmatrix} = \\begin{bmatrix} 0.0  \\\\  0.0  \\\\  0.0  \\\\  0.0 \\end{bmatrix}\n",
      "\n",
      "\n",
      "\\mathscr{A}^1 = \\begin{bmatrix} \\left[ 1.0, \\left[ 1.0, 1.0 \\right], 1.0 \\right] & \\left[ 1.0, \\left[ 1.0, 2.0 \\right], 2.0 \\right] & \\left[ 0.67, \\left[ 0.67, 1.33 \\right], 1.33 \\right] & \\left[ 1.0, \\left[ 1.0, 1.33 \\right], 1.33 \\right] \\\\ \\left[ 0.5, \\left[ 0.5, 1.0 \\right], 1.0 \\right] & \\left[ 1.0, \\left[ 1.0, 1.0 \\right], 1.0 \\right] & \\left[ 0.44, \\left[ 0.44, 1.0 \\right], 1.0 \\right] & \\left[ 0.67, \\left[ 0.67, 1.0 \\right], 1.0 \\right] \\\\ \\left[ 0.75, \\left[ 0.75, 1.5 \\right], 1.5 \\right] & \\left[ 1.0, \\left[ 1.0, 2.25 \\right], 2.25 \\right] & \\left[ 1.0, \\left[ 1.0, 1.0 \\right], 1.0 \\right] & \\left[ 1.0, \\left[ 1.0, 1.5 \\right], 1.5 \\right] \\\\ \\left[ 0.75, \\left[ 0.75, 1.0 \\right], 1.0 \\right] & \\left[ 1.0, \\left[ 1.0, 1.5 \\right], 1.5 \\right] & \\left[ 0.67, \\left[ 0.67, 1.0 \\right], 1.0 \\right] & \\left[ 1.0, \\left[ 1.0, 1.0 \\right], 1.0 \\right] \\end{bmatrix}\n"
     ]
    }
   ],
   "source": [
    "A₁ = [\n",
    "    1..1 1..2 (2/3)..(4/3) 1..(4/3)\n",
    "    (1/2)..1 1..1 (4/9)..1 (2/3)..1\n",
    "    (3/4)..(3/2) 1..(9/4) 1..1 1..(3/2)\n",
    "    (3/4)..1 1..(3/2) (2/3)..1 1..1\n",
    "]\n",
    "A₂ = A₁\n",
    "\n",
    "println(\"A_1 = A_2 = $(intervalMatrixLaTeXString(A₁))\"); println()\n",
    "\n",
    "Â = method1(A₁, A₂)\n",
    "\n",
    "println(\"\\\\mathscr{A}^1 = $(twofoldIntervalMatrixLaTeXString(Â))\")"
   ]
  },
  {
   "attachments": {},
   "cell_type": "markdown",
   "id": "f23c1019",
   "metadata": {},
   "source": [
    "# example 2"
   ]
  },
  {
   "cell_type": "code",
   "execution_count": 16,
   "id": "9af5bd92",
   "metadata": {},
   "outputs": [
    {
     "name": "stdout",
     "output_type": "stream",
     "text": [
      "A = \\begin{bmatrix} \\left[ 1.0, \\left[ 1.0, 1.0 \\right], 1.0 \\right] & \\left[ 0.8, \\left[ 1.0, 2.0 \\right], 2.5 \\right] & \\left[ 0.53, \\left[ 0.67, 1.33 \\right], 1.67 \\right] & \\left[ 0.8, \\left[ 1.0, 1.33 \\right], 1.67 \\right] \\\\ \\left[ 0.4, \\left[ 0.5, 1.0 \\right], 1.25 \\right] & \\left[ 1.0, \\left[ 1.0, 1.0 \\right], 1.0 \\right] & \\left[ 0.36, \\left[ 0.44, 1.0 \\right], 1.25 \\right] & \\left[ 0.53, \\left[ 0.67, 1.0 \\right], 1.25 \\right] \\\\ \\left[ 0.6, \\left[ 0.75, 1.5 \\right], 1.88 \\right] & \\left[ 0.8, \\left[ 1.0, 2.25 \\right], 2.81 \\right] & \\left[ 1.0, \\left[ 1.0, 1.0 \\right], 1.0 \\right] & \\left[ 0.8, \\left[ 1.0, 1.5 \\right], 1.88 \\right] \\\\ \\left[ 0.6, \\left[ 0.75, 1.0 \\right], 1.25 \\right] & \\left[ 0.8, \\left[ 1.0, 1.5 \\right], 1.88 \\right] & \\left[ 0.53, \\left[ 0.67, 1.0 \\right], 1.25 \\right] & \\left[ 1.0, \\left[ 1.0, 1.0 \\right], 1.0 \\right] \\end{bmatrix}\n",
      "\n",
      "\\begin{bmatrix}\\left[ w_1^\\text{L}, w_1^\\text{U} \\right] \\\\ \\left[ w_2^\\text{L}, w_2^\\text{U} \\right] \\\\ \\left[ w_3^\\text{L}, w_3^\\text{U} \\right] \\\\ \\left[ w_4^\\text{L}, w_4^\\text{U} \\right]\\end{bmatrix} = \\begin{bmatrix}\\left[ 0.206, 0.343 \\right] \\\\ \\left[ 0.137, 0.258 \\right] \\\\ \\left[ 0.206, 0.386 \\right] \\\\ \\left[ 0.206, 0.258 \\right]\\end{bmatrix}\n",
      "\n",
      "\\begin{bmatrix}w_1^{\\text{L}-} \\\\ w_2^{\\text{L}-} \\\\ w_3^{\\text{L}-} \\\\ w_4^{\\text{L}-}\\end{bmatrix} = \\begin{bmatrix} 0.206  \\\\  0.137  \\\\  0.206  \\\\  0.206 \\end{bmatrix}, ~~\n",
      "\\begin{bmatrix}w_1^{\\text{U}-} \\\\ w_2^{\\text{U}-} \\\\ w_3^{\\text{U}-} \\\\ w_4^{\\text{U}-}\\end{bmatrix} = \\begin{bmatrix} 0.275  \\\\  0.206  \\\\  0.309  \\\\  0.206 \\end{bmatrix}, ~~\n",
      "\\begin{bmatrix}w_1^{\\text{L}+} \\\\ w_2^{\\text{L}+} \\\\ w_3^{\\text{L}+} \\\\ w_4^{\\text{L}+}\\end{bmatrix} = \\begin{bmatrix} 0.206  \\\\  0.137  \\\\  0.206  \\\\  0.206 \\end{bmatrix}, ~~\n",
      "\\begin{bmatrix}w_1^{\\text{U}+} \\\\ w_2^{\\text{U}+} \\\\ w_3^{\\text{U}+} \\\\ w_4^{\\text{U}+}\\end{bmatrix} = \\begin{bmatrix} 0.275  \\\\  0.206  \\\\  0.309  \\\\  0.206 \\end{bmatrix}\n",
      "\n",
      "\n",
      "\\begin{bmatrix}\\varepsilon_1^\\text{L} \\\\ \\varepsilon_2^\\text{L} \\\\ \\varepsilon_3^\\text{L} \\\\ \\varepsilon_4^\\text{L}\\end{bmatrix} = \\begin{bmatrix} 0.0  \\\\  0.0  \\\\  0.0  \\\\  0.0 \\end{bmatrix}, ~~\n",
      "\\begin{bmatrix}\\varepsilon_1^\\text{U} \\\\ \\varepsilon_2^\\text{U} \\\\ \\varepsilon_3^\\text{U} \\\\ \\varepsilon_4^\\text{U}\\end{bmatrix} = \\begin{bmatrix} 0.0  \\\\  0.0  \\\\  0.0  \\\\  0.0 \\end{bmatrix}\n",
      "\n",
      "\n",
      "\\mathscr{A}^1 = \\begin{bmatrix} \\left[ 1.0, \\left[ 1.0, 1.0 \\right], 1.0 \\right] & \\left[ 0.8, \\left[ 1.0, 2.0 \\right], 2.5 \\right] & \\left[ 0.53, \\left[ 0.67, 1.33 \\right], 1.67 \\right] & \\left[ 0.8, \\left[ 1.0, 1.33 \\right], 1.67 \\right] \\\\ \\left[ 0.4, \\left[ 0.5, 1.0 \\right], 1.25 \\right] & \\left[ 1.0, \\left[ 1.0, 1.0 \\right], 1.0 \\right] & \\left[ 0.36, \\left[ 0.44, 1.0 \\right], 1.25 \\right] & \\left[ 0.53, \\left[ 0.67, 1.0 \\right], 1.25 \\right] \\\\ \\left[ 0.6, \\left[ 0.75, 1.5 \\right], 1.88 \\right] & \\left[ 0.8, \\left[ 1.0, 2.25 \\right], 2.81 \\right] & \\left[ 1.0, \\left[ 1.0, 1.0 \\right], 1.0 \\right] & \\left[ 0.8, \\left[ 1.0, 1.5 \\right], 1.88 \\right] \\\\ \\left[ 0.6, \\left[ 0.75, 1.0 \\right], 1.25 \\right] & \\left[ 0.8, \\left[ 1.0, 1.5 \\right], 1.88 \\right] & \\left[ 0.53, \\left[ 0.67, 1.0 \\right], 1.25 \\right] & \\left[ 1.0, \\left[ 1.0, 1.0 \\right], 1.0 \\right] \\end{bmatrix}\n"
     ]
    }
   ],
   "source": [
    "A₁ = [\n",
    "    1..1 1..2 (2/3)..(4/3) 1..(4/3)\n",
    "    (1/2)..1 1..1 (4/9)..1 (2/3)..1\n",
    "    (3/4)..(3/2) 1..(9/4) 1..1 1..(3/2)\n",
    "    (3/4)..1 1..(3/2) (2/3)..1 1..1\n",
    "]\n",
    "_, n = size(A₁)\n",
    "A₂ = fill(1..1, (n, n))\n",
    "for i = 1:n, j = 1:n\n",
    "    if i == j continue end\n",
    "    A₂[i,j] = (A₁[i,j].lo * 4/5)..(A₁[i,j].hi * 5/4)\n",
    "end\n",
    "\n",
    "Â = method1(A₁, A₂)\n",
    "\n",
    "println(\"\\\\mathscr{A}^1 = $(twofoldIntervalMatrixLaTeXString(Â))\")"
   ]
  },
  {
   "attachments": {},
   "cell_type": "markdown",
   "id": "db9f7e4c",
   "metadata": {},
   "source": [
    "# example 3"
   ]
  },
  {
   "cell_type": "code",
   "execution_count": 17,
   "id": "6e1ba351",
   "metadata": {},
   "outputs": [
    {
     "name": "stdout",
     "output_type": "stream",
     "text": [
      "A = \\begin{bmatrix} \\left[ 1.0, \\left[ 1.0, 1.0 \\right], 1.0 \\right] & \\left[ 1.98, \\left[ 2.0, 2.01 \\right], 2.03 \\right] & \\left[ 3.97, \\left[ 3.97, 4.05 \\right], 4.11 \\right] & \\left[ 3.96, \\left[ 3.96, 4.04 \\right], 4.05 \\right] \\\\ \\left[ 0.49, \\left[ 0.5, 0.5 \\right], 0.5 \\right] & \\left[ 1.0, \\left[ 1.0, 1.0 \\right], 1.0 \\right] & \\left[ 1.94, \\left[ 1.95, 2.02 \\right], 2.05 \\right] & \\left[ 1.94, \\left[ 1.97, 2.03 \\right], 2.05 \\right] \\\\ \\left[ 0.24, \\left[ 0.25, 0.25 \\right], 0.25 \\right] & \\left[ 0.49, \\left[ 0.5, 0.51 \\right], 0.51 \\right] & \\left[ 1.0, \\left[ 1.0, 1.0 \\right], 1.0 \\right] & \\left[ 0.97, \\left[ 0.98, 1.02 \\right], 1.02 \\right] \\\\ \\left[ 0.25, \\left[ 0.25, 0.25 \\right], 0.25 \\right] & \\left[ 0.49, \\left[ 0.49, 0.51 \\right], 0.52 \\right] & \\left[ 0.98, \\left[ 0.98, 1.02 \\right], 1.03 \\right] & \\left[ 1.0, \\left[ 1.0, 1.0 \\right], 1.0 \\right] \\end{bmatrix}\n",
      "\n",
      "\\begin{bmatrix}\\left[ w_1^\\text{L}, w_1^\\text{U} \\right] \\\\ \\left[ w_2^\\text{L}, w_2^\\text{U} \\right] \\\\ \\left[ w_3^\\text{L}, w_3^\\text{U} \\right] \\\\ \\left[ w_4^\\text{L}, w_4^\\text{U} \\right]\\end{bmatrix} = \\begin{bmatrix}\\left[ 0.501, 0.501 \\right] \\\\ \\left[ 0.246, 0.252 \\right] \\\\ \\left[ 0.124, 0.126 \\right] \\\\ \\left[ 0.124, 0.127 \\right]\\end{bmatrix}\n",
      "\n",
      "\\begin{bmatrix}w_1^{\\text{L}-} \\\\ w_2^{\\text{L}-} \\\\ w_3^{\\text{L}-} \\\\ w_4^{\\text{L}-}\\end{bmatrix} = \\begin{bmatrix} 0.501  \\\\  0.245  \\\\  0.123  \\\\  0.123 \\end{bmatrix}, ~~\n",
      "\\begin{bmatrix}w_1^{\\text{U}-} \\\\ w_2^{\\text{U}-} \\\\ w_3^{\\text{U}-} \\\\ w_4^{\\text{U}-}\\end{bmatrix} = \\begin{bmatrix} 0.5  \\\\  0.252  \\\\  0.127  \\\\  0.126 \\end{bmatrix}, ~~\n",
      "\\begin{bmatrix}w_1^{\\text{L}+} \\\\ w_2^{\\text{L}+} \\\\ w_3^{\\text{L}+} \\\\ w_4^{\\text{L}+}\\end{bmatrix} = \\begin{bmatrix} 0.501  \\\\  0.246  \\\\  0.123  \\\\  0.124 \\end{bmatrix}, ~~\n",
      "\\begin{bmatrix}w_1^{\\text{U}+} \\\\ w_2^{\\text{U}+} \\\\ w_3^{\\text{U}+} \\\\ w_4^{\\text{U}+}\\end{bmatrix} = \\begin{bmatrix} 0.5  \\\\  0.252  \\\\  0.126  \\\\  0.126 \\end{bmatrix}\n",
      "\n",
      "\n",
      "\\begin{bmatrix}\\varepsilon_1^\\text{L} \\\\ \\varepsilon_2^\\text{L} \\\\ \\varepsilon_3^\\text{L} \\\\ \\varepsilon_4^\\text{L}\\end{bmatrix} = \\begin{bmatrix} 0.0  \\\\  0.001  \\\\  0.0  \\\\  0.0 \\end{bmatrix}, ~~\n",
      "\\begin{bmatrix}\\varepsilon_1^\\text{U} \\\\ \\varepsilon_2^\\text{U} \\\\ \\varepsilon_3^\\text{U} \\\\ \\varepsilon_4^\\text{U}\\end{bmatrix} = \\begin{bmatrix} 0.0  \\\\  0.0  \\\\  0.001  \\\\  0.0 \\end{bmatrix}\n",
      "\n",
      "\n",
      "\\mathscr{A}^1 = \\begin{bmatrix} \\left[ 1.0, \\left[ 1.0, 1.0 \\right], 1.0 \\right] & \\left[ 1.98, \\left[ 2.0, 2.01 \\right], 2.04 \\right] & \\left[ 3.96, \\left[ 3.97, 4.05 \\right], 4.11 \\right] & \\left[ 3.96, \\left[ 3.96, 4.04 \\right], 4.06 \\right] \\\\ \\left[ 0.49, \\left[ 0.5, 0.5 \\right], 0.5 \\right] & \\left[ 1.0, \\left[ 1.0, 1.0 \\right], 1.0 \\right] & \\left[ 1.94, \\left[ 1.95, 2.02 \\right], 2.05 \\right] & \\left[ 1.94, \\left[ 1.97, 2.03 \\right], 2.05 \\right] \\\\ \\left[ 0.24, \\left[ 0.25, 0.25 \\right], 0.25 \\right] & \\left[ 0.49, \\left[ 0.5, 0.51 \\right], 0.51 \\right] & \\left[ 1.0, \\left[ 1.0, 1.0 \\right], 1.0 \\right] & \\left[ 0.97, \\left[ 0.98, 1.02 \\right], 1.02 \\right] \\\\ \\left[ 0.25, \\left[ 0.25, 0.25 \\right], 0.25 \\right] & \\left[ 0.49, \\left[ 0.49, 0.51 \\right], 0.52 \\right] & \\left[ 0.98, \\left[ 0.98, 1.02 \\right], 1.03 \\right] & \\left[ 1.0, \\left[ 1.0, 1.0 \\right], 1.0 \\right] \\end{bmatrix}\n"
     ]
    }
   ],
   "source": [
    "A = [\n",
    "    1 2 4 4\n",
    "    1/2 1 2 2\n",
    "    1/4 1/2 1 1\n",
    "    1/4 1/2 1 1\n",
    "]\n",
    "\n",
    "A₁ = randamizedIntervalPCM(A, 1234, 3e-2)\n",
    "A₂ = randamizedIntervalPCM(A, 134, 3e-2)\n",
    "\n",
    "Â = method1(A₁, A₂)\n",
    "\n",
    "println(\"\\\\mathscr{A}^1 = $(twofoldIntervalMatrixLaTeXString(Â))\")"
   ]
  },
  {
   "attachments": {},
   "cell_type": "markdown",
   "id": "75d55a58",
   "metadata": {},
   "source": [
    "# example 4"
   ]
  },
  {
   "cell_type": "code",
   "execution_count": 18,
   "id": "efb08e9f",
   "metadata": {},
   "outputs": [
    {
     "name": "stdout",
     "output_type": "stream",
     "text": [
      "A = \\begin{bmatrix} \\left[ 1.0, \\left[ 1.0, 1.0 \\right], 1.0 \\right] & \\left[ 1.41, \\left[ 1.55, 2.23 \\right], 2.5 \\right] & \\left[ 2.23, \\left[ 2.25, 3.72 \\right], 4.04 \\right] & \\left[ 8.14, \\left[ 8.75, 12.65 \\right], 13.47 \\right] \\\\ \\left[ 0.4, \\left[ 0.45, 0.65 \\right], 0.71 \\right] & \\left[ 1.0, \\left[ 1.0, 1.0 \\right], 1.0 \\right] & \\left[ 2.12, \\left[ 2.28, 3.06 \\right], 3.64 \\right] & \\left[ 5.56, \\left[ 6.48, 8.4 \\right], 10.7 \\right] \\\\ \\left[ 0.25, \\left[ 0.27, 0.44 \\right], 0.45 \\right] & \\left[ 0.27, \\left[ 0.33, 0.44 \\right], 0.47 \\right] & \\left[ 1.0, \\left[ 1.0, 1.0 \\right], 1.0 \\right] & \\left[ 2.17, \\left[ 2.76, 3.36 \\right], 3.77 \\right] \\\\ \\left[ 0.07, \\left[ 0.08, 0.11 \\right], 0.12 \\right] & \\left[ 0.09, \\left[ 0.12, 0.15 \\right], 0.18 \\right] & \\left[ 0.26, \\left[ 0.3, 0.36 \\right], 0.46 \\right] & \\left[ 1.0, \\left[ 1.0, 1.0 \\right], 1.0 \\right] \\end{bmatrix}\n",
      "\n",
      "\\begin{bmatrix}\\left[ w_1^\\text{L}, w_1^\\text{U} \\right] \\\\ \\left[ w_2^\\text{L}, w_2^\\text{U} \\right] \\\\ \\left[ w_3^\\text{L}, w_3^\\text{U} \\right] \\\\ \\left[ w_4^\\text{L}, w_4^\\text{U} \\right]\\end{bmatrix} = \\begin{bmatrix}\\left[ 0.441, 0.563 \\right] \\\\ \\left[ 0.253, 0.312 \\right] \\\\ \\left[ 0.139, 0.196 \\right] \\\\ \\left[ 0.045, 0.051 \\right]\\end{bmatrix}\n",
      "\n",
      "\\begin{bmatrix}w_1^{\\text{L}-} \\\\ w_2^{\\text{L}-} \\\\ w_3^{\\text{L}-} \\\\ w_4^{\\text{L}-}\\end{bmatrix} = \\begin{bmatrix} 0.441  \\\\  0.253  \\\\  0.102  \\\\  0.037 \\end{bmatrix}, ~~\n",
      "\\begin{bmatrix}w_1^{\\text{U}-} \\\\ w_2^{\\text{U}-} \\\\ w_3^{\\text{U}-} \\\\ w_4^{\\text{U}-}\\end{bmatrix} = \\begin{bmatrix} 0.563  \\\\  0.426  \\\\  0.196  \\\\  0.051 \\end{bmatrix}, ~~\n",
      "\\begin{bmatrix}w_1^{\\text{L}+} \\\\ w_2^{\\text{L}+} \\\\ w_3^{\\text{L}+} \\\\ w_4^{\\text{L}+}\\end{bmatrix} = \\begin{bmatrix} 0.441  \\\\  0.416  \\\\  0.139  \\\\  0.052 \\end{bmatrix}, ~~\n",
      "\\begin{bmatrix}w_1^{\\text{U}+} \\\\ w_2^{\\text{U}+} \\\\ w_3^{\\text{U}+} \\\\ w_4^{\\text{U}+}\\end{bmatrix} = \\begin{bmatrix} 0.563  \\\\  0.312  \\\\  0.119  \\\\  0.045 \\end{bmatrix}\n",
      "\n",
      "\n",
      "\\begin{bmatrix}\\varepsilon_1^\\text{L} \\\\ \\varepsilon_2^\\text{L} \\\\ \\varepsilon_3^\\text{L} \\\\ \\varepsilon_4^\\text{L}\\end{bmatrix} = \\begin{bmatrix} -0.0  \\\\  0.163  \\\\  0.037  \\\\  0.015 \\end{bmatrix}, ~~\n",
      "\\begin{bmatrix}\\varepsilon_1^\\text{U} \\\\ \\varepsilon_2^\\text{U} \\\\ \\varepsilon_3^\\text{U} \\\\ \\varepsilon_4^\\text{U}\\end{bmatrix} = \\begin{bmatrix} -0.0  \\\\  0.114  \\\\  0.077  \\\\  0.005 \\end{bmatrix}\n",
      "\n",
      "\n",
      "\\mathscr{A}^1 = \\begin{bmatrix} \\left[ 1.0, \\left[ 1.0, 1.0 \\right], 1.0 \\right] & \\left[ 1.04, \\emptyset, 2.5 \\right] & \\left[ 2.23, \\left[ 3.71, 3.72 \\right], 5.52 \\right] & \\left[ 8.14, \\left[ 9.72, 10.85 \\right], 15.17 \\right] \\\\ \\left[ 0.4, \\emptyset, 0.97 \\right] & \\left[ 1.0, \\left[ 1.0, 1.0 \\right], 1.0 \\right] & \\left[ 1.29, \\emptyset, 3.64 \\right] & \\left[ 5.0, \\emptyset, 10.7 \\right] \\\\ \\left[ 0.18, \\left[ 0.27, 0.27 \\right], 0.45 \\right] & \\left[ 0.27, \\emptyset, 0.78 \\right] & \\left[ 1.0, \\left[ 1.0, 1.0 \\right], 1.0 \\right] & \\left[ 2.02, \\emptyset, 5.28 \\right] \\\\ \\left[ 0.07, \\left[ 0.09, 0.1 \\right], 0.12 \\right] & \\left[ 0.09, \\emptyset, 0.2 \\right] & \\left[ 0.19, \\emptyset, 0.5 \\right] & \\left[ 1.0, \\left[ 1.0, 1.0 \\right], 1.0 \\right] \\end{bmatrix}\n"
     ]
    }
   ],
   "source": [
    "A = [\n",
    "    1 2 3 10\n",
    "    1/2 1 3 8\n",
    "    1/3 1/3 1 3\n",
    "    1/10 1/8 1/3 1\n",
    "]\n",
    "\n",
    "A₁ = randamizedIntervalPCM(A, 124, 4e-1)\n",
    "A₂ = randamizedIntervalPCM(A, 411, 4e-1)\n",
    "\n",
    "Â = method1(A₁, A₂)\n",
    "\n",
    "println(\"\\\\mathscr{A}^1 = $(twofoldIntervalMatrixLaTeXString(Â))\")"
   ]
  },
  {
   "cell_type": "code",
   "execution_count": 19,
   "id": "28f7c269-9bb7-41fc-966d-f6a2f02aa66f",
   "metadata": {},
   "outputs": [],
   "source": []
  }
 ],
 "metadata": {
  "kernelspec": {
   "display_name": "Julia 1.8.5",
   "language": "julia",
   "name": "julia-1.8"
  },
  "language_info": {
   "file_extension": ".jl",
   "mimetype": "application/julia",
   "name": "julia",
   "version": "1.8.5"
  },
  "vscode": {
   "interpreter": {
    "hash": "d4d1e4263499bec80672ea0156c357c1ee493ec2b1c70f0acce89fc37c4a6abe"
   }
  }
 },
 "nbformat": 4,
 "nbformat_minor": 5
}
