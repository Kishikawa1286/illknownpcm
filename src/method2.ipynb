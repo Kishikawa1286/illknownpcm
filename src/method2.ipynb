{
 "cells": [
  {
   "cell_type": "code",
   "execution_count": 10,
   "id": "a661200b-0885-4ad6-9e50-f9b552f74857",
   "metadata": {},
   "outputs": [],
   "source": [
    "using IntervalArithmetic\n",
    "using LaTeXStrings\n",
    "using Plots"
   ]
  },
  {
   "cell_type": "code",
   "execution_count": 11,
   "id": "6ae45f35-7c99-45c9-a934-88166cfef5fb",
   "metadata": {},
   "outputs": [],
   "source": [
    "include(\"./method2/index.jl\")\n",
    "include(\"./intervalPCM/index.jl\")\n",
    "include(\"./twofoldInterval/index.jl\")\n",
    "include(\"./twofoldIntervalPCM/index.jl\")\n",
    "\n",
    "print()"
   ]
  },
  {
   "cell_type": "code",
   "execution_count": 12,
   "id": "00c417be",
   "metadata": {},
   "outputs": [
    {
     "data": {
      "text/plain": [
       "laTeXMatrix (generic function with 1 method)"
      ]
     },
     "metadata": {},
     "output_type": "display_data"
    }
   ],
   "source": [
    "function laTeXMatrix(\n",
    "        pattern,\n",
    "        size::Tuple{Integer, Integer})::String\n",
    "    m, n = size\n",
    "\n",
    "    mat = \"\\\\begin{bmatrix}\"\n",
    "    for i = 1:m, j = 1:n\n",
    "        mat *= pattern(i, j)\n",
    "        if j == n\n",
    "            if i != m\n",
    "                mat *= \" \\\\\\\\ \"\n",
    "            end\n",
    "        else\n",
    "            mat *= \" & \"\n",
    "        end\n",
    "    end\n",
    "    mat *= \"\\\\end{bmatrix}\"\n",
    "\n",
    "    return mat\n",
    "end"
   ]
  },
  {
   "cell_type": "code",
   "execution_count": 19,
   "id": "98b3f285",
   "metadata": {},
   "outputs": [
    {
     "data": {
      "text/plain": [
       "method2 (generic function with 1 method)"
      ]
     },
     "metadata": {},
     "output_type": "display_data"
    }
   ],
   "source": [
    "function method2(A₁::Matrix{Interval{T}}, A₂::Matrix{Interval{T}}) where {T <: Real}\n",
    "    _, n = size(A₁)\n",
    "\n",
    "    εᶿ = solveIndividualCancellingLP_m2([A₁, A₂])\n",
    "    result = solveApproximationLP_m2([A₁, A₂], εᶿ)\n",
    "    resultₛₜᵣ = approximationLPResultLaTeXString_m2(result)\n",
    "\n",
    "    println(\"W^- = %$(resultₛₜᵣ.W⁻)\"); println()\n",
    "    println(\"W^+ = %$(resultₛₜᵣ.W⁺)\"); println()\n",
    "    println(\"\"\"\n",
    "        $(laTeXMatrix((i,j) -> \"\\\\varepsilon_$i^{\\\\text{L}-}\", (n, 1))) = %$(resultₛₜᵣ.εᴸ⁻), ~~\n",
    "        $(laTeXMatrix((i,j) -> \"\\\\varepsilon_$i^{\\\\text{U}-}\", (n, 1))) = %$(resultₛₜᵣ.εᵁ⁻), ~~\n",
    "        $(laTeXMatrix((i,j) -> \"\\\\varepsilon_$i^{\\\\text{L}+}\", (n, 1))) = %$(resultₛₜᵣ.εᴸ⁺), ~~\n",
    "        $(laTeXMatrix((i,j) -> \"\\\\varepsilon_$i^{\\\\text{U}+}\", (n, 1))) = %$(resultₛₜᵣ.εᵁ⁺)\n",
    "        \"\"\"); println()\n",
    "\n",
    "    Â = importance2TwofoldIntervalPCM_m2(result)\n",
    "\n",
    "    return\n",
    "end"
   ]
  },
  {
   "attachments": {},
   "cell_type": "markdown",
   "id": "e0934d78",
   "metadata": {},
   "source": [
    "# example 1"
   ]
  },
  {
   "cell_type": "code",
   "execution_count": 20,
   "id": "7a539df8",
   "metadata": {},
   "outputs": [
    {
     "name": "stdout",
     "output_type": "stream",
     "text": [
      "W^- = %\\begin{bmatrix}\\left[ 0.235, 0.314 \\right]\\\\\\left[ 0.157, 0.235 \\right]\\\\\\left[ 0.235, 0.353 \\right]\\\\\\left[ 0.235, 0.235 \\right]\\end{bmatrix}\n",
      "\n",
      "W^+ = %\\begin{bmatrix}\\left[ 0.235, 0.314 \\right]\\\\\\left[ 0.157, 0.235 \\right]\\\\\\left[ 0.235, 0.353 \\right]\\\\\\left[ 0.235, 0.235 \\right]\\end{bmatrix}\n",
      "\n",
      "\\begin{bmatrix}\\varepsilon_1^{\\text{L}-} \\\\ \\varepsilon_2^{\\text{L}-} \\\\ \\varepsilon_3^{\\text{L}-} \\\\ \\varepsilon_4^{\\text{L}-}\\end{bmatrix} = %\\begin{bmatrix} -0.0 \\\\ 0.0 \\\\ 0.0 \\\\ 0.0 \\end{bmatrix}, ~~\n",
      "\\begin{bmatrix}\\varepsilon_1^{\\text{U}-} \\\\ \\varepsilon_2^{\\text{U}-} \\\\ \\varepsilon_3^{\\text{U}-} \\\\ \\varepsilon_4^{\\text{U}-}\\end{bmatrix} = %\\begin{bmatrix} 0.0 \\\\ 0.0 \\\\ 0.0 \\\\ 0.0 \\end{bmatrix}, ~~\n",
      "\\begin{bmatrix}\\varepsilon_1^{\\text{L}+} \\\\ \\varepsilon_2^{\\text{L}+} \\\\ \\varepsilon_3^{\\text{L}+} \\\\ \\varepsilon_4^{\\text{L}+}\\end{bmatrix} = %\\begin{bmatrix} 0.0 \\\\ 0.0 \\\\ 0.0 \\\\ 0.0 \\end{bmatrix}, ~~\n",
      "\\begin{bmatrix}\\varepsilon_1^{\\text{U}+} \\\\ \\varepsilon_2^{\\text{U}+} \\\\ \\varepsilon_3^{\\text{U}+} \\\\ \\varepsilon_4^{\\text{U}+}\\end{bmatrix} = %\\begin{bmatrix} 0.0 \\\\ 0.0 \\\\ 0.0 \\\\ 0.0 \\end{bmatrix}\n",
      "\n",
      "\n"
     ]
    }
   ],
   "source": [
    "A₁ = [\n",
    "    1..1 1..2 (2/3)..(4/3) 1..(4/3)\n",
    "    (1/2)..1 1..1 (4/9)..1 (2/3)..1\n",
    "    (3/4)..(3/2) 1..(9/4) 1..1 1..(3/2)\n",
    "    (3/4)..1 1..(3/2) (2/3)..1 1..1\n",
    "]\n",
    "A₂ = A₁\n",
    "\n",
    "method2(A₁, A₂)"
   ]
  },
  {
   "attachments": {},
   "cell_type": "markdown",
   "id": "f23c1019",
   "metadata": {},
   "source": [
    "# example 2"
   ]
  },
  {
   "cell_type": "code",
   "execution_count": 21,
   "id": "9af5bd92",
   "metadata": {},
   "outputs": [
    {
     "name": "stdout",
     "output_type": "stream",
     "text": [
      "W^- = %\\begin{bmatrix}\\left[ 0.235, 0.314 \\right]\\\\\\left[ 0.157, 0.235 \\right]\\\\\\left[ 0.235, 0.353 \\right]\\\\\\left[ 0.235, 0.235 \\right]\\end{bmatrix}\n",
      "\n",
      "W^+ = %\\begin{bmatrix}\\left[ 0.206, 0.343 \\right]\\\\\\left[ 0.137, 0.258 \\right]\\\\\\left[ 0.206, 0.386 \\right]\\\\\\left[ 0.206, 0.258 \\right]\\end{bmatrix}\n",
      "\n",
      "\\begin{bmatrix}\\varepsilon_1^{\\text{L}-} \\\\ \\varepsilon_2^{\\text{L}-} \\\\ \\varepsilon_3^{\\text{L}-} \\\\ \\varepsilon_4^{\\text{L}-}\\end{bmatrix} = %\\begin{bmatrix} -0.0 \\\\ 0.0 \\\\ 0.0 \\\\ 0.0 \\end{bmatrix}, ~~\n",
      "\\begin{bmatrix}\\varepsilon_1^{\\text{U}-} \\\\ \\varepsilon_2^{\\text{U}-} \\\\ \\varepsilon_3^{\\text{U}-} \\\\ \\varepsilon_4^{\\text{U}-}\\end{bmatrix} = %\\begin{bmatrix} 0.0 \\\\ 0.0 \\\\ 0.0 \\\\ 0.0 \\end{bmatrix}, ~~\n",
      "\\begin{bmatrix}\\varepsilon_1^{\\text{L}+} \\\\ \\varepsilon_2^{\\text{L}+} \\\\ \\varepsilon_3^{\\text{L}+} \\\\ \\varepsilon_4^{\\text{L}+}\\end{bmatrix} = %\\begin{bmatrix} 0.0 \\\\ 0.0 \\\\ 0.0 \\\\ 0.0 \\end{bmatrix}, ~~\n",
      "\\begin{bmatrix}\\varepsilon_1^{\\text{U}+} \\\\ \\varepsilon_2^{\\text{U}+} \\\\ \\varepsilon_3^{\\text{U}+} \\\\ \\varepsilon_4^{\\text{U}+}\\end{bmatrix} = %\\begin{bmatrix} 0.0 \\\\ 0.0 \\\\ 0.0 \\\\ 0.0 \\end{bmatrix}\n",
      "\n",
      "\n"
     ]
    }
   ],
   "source": [
    "A₁ = [\n",
    "    1..1 1..2 (2/3)..(4/3) 1..(4/3)\n",
    "    (1/2)..1 1..1 (4/9)..1 (2/3)..1\n",
    "    (3/4)..(3/2) 1..(9/4) 1..1 1..(3/2)\n",
    "    (3/4)..1 1..(3/2) (2/3)..1 1..1\n",
    "]\n",
    "_, n = size(A₁)\n",
    "A₂ = fill(1..1, (n, n))\n",
    "for i = 1:n, j = 1:n\n",
    "    if i == j continue end\n",
    "    A₂[i,j] = (A₁[i,j].lo * 4 / 5)..(A₁[i,j].hi * 5 / 4)\n",
    "end\n",
    "\n",
    "method2(A₁, A₂)"
   ]
  },
  {
   "cell_type": "markdown",
   "id": "c5c807c9",
   "metadata": {},
   "source": [
    "<!-- ともに弱い整合性を持ち， $A_{1ij} \\subseteq A_{2ij}$\n",
    "\n",
    "```\n",
    "A₁ = [\n",
    "    1..1 2..5 2..4 2..3\n",
    "    (1/5)..(1/2) 1..1 (1/5)..4 (1/5)..3\n",
    "    (1/4)..(1/2) (1/4)..5 1..1 (1/4)..3\n",
    "    (1/3)..(1/2) (1/3)..5 (1/3)..4 1..1\n",
    "]\n",
    "A₂ = fill(1..1, size(A₁))\n",
    "_, n = size(A₁)\n",
    "for i = 1:n, j = 1:n\n",
    "    if i == j continue end\n",
    "    A₂[i,j] = (A₁[i,j].lo * 1/1.1)..(A₁[i,j].hi * 1.1)\n",
    "end\n",
    "\n",
    "display(L\"A_1 = %$(intervalMatrixLaTeXString(A₁))\")\n",
    "display(L\"A_2 = %$(intervalMatrixLaTeXString(A₂))\")\n",
    "\n",
    "display(isConsistentIntervalPCM(A₁))\n",
    "display(isWeaklyConsistentIntervalPCM(A₁))\n",
    "display(isConsistentIntervalPCM(A₂))\n",
    "display(isWeaklyConsistentIntervalPCM(A₂))\n",
    "\n",
    "plotAll(A₁, A₂)\n",
    "``` -->"
   ]
  },
  {
   "attachments": {},
   "cell_type": "markdown",
   "id": "db9f7e4c",
   "metadata": {},
   "source": [
    "# example 3"
   ]
  },
  {
   "cell_type": "code",
   "execution_count": 22,
   "id": "6e1ba351",
   "metadata": {},
   "outputs": [
    {
     "name": "stdout",
     "output_type": "stream",
     "text": [
      "W^- = %\\begin{bmatrix}\\left[ 0.5, 0.5 \\right]\\\\\\left[ 0.249, 0.25 \\right]\\\\\\left[ 0.124, 0.126 \\right]\\\\\\left[ 0.124, 0.126 \\right]\\end{bmatrix}\n",
      "\n",
      "W^+ = %\\begin{bmatrix}\\left[ 0.5, 0.501 \\right]\\\\\\left[ 0.246, 0.253 \\right]\\\\\\left[ 0.122, 0.127 \\right]\\\\\\left[ 0.124, 0.127 \\right]\\end{bmatrix}\n",
      "\n",
      "\\begin{bmatrix}\\varepsilon_1^{\\text{L}-} \\\\ \\varepsilon_2^{\\text{L}-} \\\\ \\varepsilon_3^{\\text{L}-} \\\\ \\varepsilon_4^{\\text{L}-}\\end{bmatrix} = %\\begin{bmatrix} 0.0 \\\\ 0.0 \\\\ 0.0 \\\\ 0.0 \\end{bmatrix}, ~~\n",
      "\\begin{bmatrix}\\varepsilon_1^{\\text{U}-} \\\\ \\varepsilon_2^{\\text{U}-} \\\\ \\varepsilon_3^{\\text{U}-} \\\\ \\varepsilon_4^{\\text{U}-}\\end{bmatrix} = %\\begin{bmatrix} 0.0 \\\\ 0.0 \\\\ 0.0 \\\\ 0.0 \\end{bmatrix}, ~~\n",
      "\\begin{bmatrix}\\varepsilon_1^{\\text{L}+} \\\\ \\varepsilon_2^{\\text{L}+} \\\\ \\varepsilon_3^{\\text{L}+} \\\\ \\varepsilon_4^{\\text{L}+}\\end{bmatrix} = %\\begin{bmatrix} 0.0 \\\\ 0.0 \\\\ 0.0 \\\\ 0.0 \\end{bmatrix}, ~~\n",
      "\\begin{bmatrix}\\varepsilon_1^{\\text{U}+} \\\\ \\varepsilon_2^{\\text{U}+} \\\\ \\varepsilon_3^{\\text{U}+} \\\\ \\varepsilon_4^{\\text{U}+}\\end{bmatrix} = %\\begin{bmatrix} 0.0 \\\\ 0.0 \\\\ 0.0 \\\\ 0.0 \\end{bmatrix}\n",
      "\n",
      "\n"
     ]
    }
   ],
   "source": [
    "A = [\n",
    "    1 2 4 4\n",
    "    1/2 1 2 2\n",
    "    1/4 1/2 1 1\n",
    "    1/4 1/2 1 1\n",
    "]\n",
    "\n",
    "A₁ = randamizedIntervalPCM(A, 1234, 3e-2)\n",
    "A₂ = randamizedIntervalPCM(A, 134, 3e-2)\n",
    "\n",
    "method2(A₁, A₂)"
   ]
  },
  {
   "attachments": {},
   "cell_type": "markdown",
   "id": "75d55a58",
   "metadata": {},
   "source": [
    "# example 4"
   ]
  },
  {
   "cell_type": "code",
   "execution_count": 23,
   "id": "efb08e9f",
   "metadata": {},
   "outputs": [
    {
     "name": "stdout",
     "output_type": "stream",
     "text": [
      "W^- = %\\begin{bmatrix}\\left[ 0.487, 0.487 \\right]\\\\\\left[ 0.328, 0.328 \\right]\\\\\\left[ 0.136, 0.136 \\right]\\\\\\left[ 0.049, 0.049 \\right]\\end{bmatrix}\n",
      "\n",
      "W^+ = %\\begin{bmatrix}\\left[ 0.487, 0.588 \\right]\\\\\\left[ 0.212, 0.329 \\right]\\\\\\left[ 0.086, 0.208 \\right]\\\\\\left[ 0.032, 0.058 \\right]\\end{bmatrix}\n",
      "\n",
      "\\begin{bmatrix}\\varepsilon_1^{\\text{L}-} \\\\ \\varepsilon_2^{\\text{L}-} \\\\ \\varepsilon_3^{\\text{L}-} \\\\ \\varepsilon_4^{\\text{L}-}\\end{bmatrix} = %\\begin{bmatrix} 0.0 \\\\ 0.0 \\\\ 0.0 \\\\ 0.051 \\end{bmatrix}, ~~\n",
      "\\begin{bmatrix}\\varepsilon_1^{\\text{U}-} \\\\ \\varepsilon_2^{\\text{U}-} \\\\ \\varepsilon_3^{\\text{U}-} \\\\ \\varepsilon_4^{\\text{U}-}\\end{bmatrix} = %\\begin{bmatrix} 0.0 \\\\ 0.0 \\\\ 0.0 \\\\ -0.0 \\end{bmatrix}, ~~\n",
      "\\begin{bmatrix}\\varepsilon_1^{\\text{L}+} \\\\ \\varepsilon_2^{\\text{L}+} \\\\ \\varepsilon_3^{\\text{L}+} \\\\ \\varepsilon_4^{\\text{L}+}\\end{bmatrix} = %\\begin{bmatrix} 0.0 \\\\ 0.0 \\\\ 0.0 \\\\ 0.0 \\end{bmatrix}, ~~\n",
      "\\begin{bmatrix}\\varepsilon_1^{\\text{U}+} \\\\ \\varepsilon_2^{\\text{U}+} \\\\ \\varepsilon_3^{\\text{U}+} \\\\ \\varepsilon_4^{\\text{U}+}\\end{bmatrix} = %\\begin{bmatrix} 0.0 \\\\ 0.0 \\\\ 0.0 \\\\ 0.0 \\end{bmatrix}\n",
      "\n",
      "\n"
     ]
    }
   ],
   "source": [
    "A = [\n",
    "    1 2 3 10\n",
    "    1/2 1 3 8\n",
    "    1/3 1/3 1 3\n",
    "    1/10 1/8 1/3 1\n",
    "]\n",
    "\n",
    "A₁ = randamizedIntervalPCM(A, 124, 3.5e-1)\n",
    "A₂ = randamizedIntervalPCM(A, 4, 3.5e-1)\n",
    "\n",
    "method2(A₁, A₂)"
   ]
  },
  {
   "cell_type": "code",
   "execution_count": 18,
   "id": "28f7c269-9bb7-41fc-966d-f6a2f02aa66f",
   "metadata": {},
   "outputs": [],
   "source": []
  },
  {
   "cell_type": "code",
   "execution_count": null,
   "id": "28f7c269-9bb7-41fc-966d-f6a2f02aa66f",
   "metadata": {},
   "outputs": [],
   "source": []
  }
 ],
 "metadata": {
  "kernelspec": {
   "display_name": "Julia 1.8.5",
   "language": "julia",
   "name": "julia-1.8"
  },
  "language_info": {
   "file_extension": ".jl",
   "mimetype": "application/julia",
   "name": "julia",
   "version": "1.8.5"
  },
  "vscode": {
   "interpreter": {
    "hash": "d4d1e4263499bec80672ea0156c357c1ee493ec2b1c70f0acce89fc37c4a6abe"
   }
  }
 },
 "nbformat": 4,
 "nbformat_minor": 5
}
