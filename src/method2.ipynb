{
 "cells": [
  {
   "cell_type": "code",
   "execution_count": 10,
   "id": "a661200b-0885-4ad6-9e50-f9b552f74857",
   "metadata": {},
   "outputs": [],
   "source": [
    "using IntervalArithmetic\n",
    "using LaTeXStrings\n",
    "using Plots"
   ]
  },
  {
   "cell_type": "code",
   "execution_count": 11,
   "id": "6ae45f35-7c99-45c9-a934-88166cfef5fb",
   "metadata": {},
   "outputs": [],
   "source": [
    "include(\"./method2/index.jl\")\n",
    "include(\"./intervalPCM/index.jl\")\n",
    "include(\"./twofoldInterval/index.jl\")\n",
    "include(\"./twofoldIntervalPCM/index.jl\")\n",
    "\n",
    "print()"
   ]
  },
  {
   "cell_type": "code",
   "execution_count": 12,
   "id": "00c417be",
   "metadata": {},
   "outputs": [
    {
     "data": {
      "text/plain": [
       "laTeXMatrix (generic function with 1 method)"
      ]
     },
     "metadata": {},
     "output_type": "display_data"
    }
   ],
   "source": [
    "function laTeXMatrix(\n",
    "        pattern,\n",
    "        size::Tuple{Integer, Integer})::String\n",
    "    m, n = size\n",
    "\n",
    "    mat = \"\\\\begin{bmatrix}\"\n",
    "    for i = 1:m, j = 1:n\n",
    "        mat *= pattern(i, j)\n",
    "        if j == n\n",
    "            if i != m\n",
    "                mat *= \" \\\\\\\\ \"\n",
    "            end\n",
    "        else\n",
    "            mat *= \" & \"\n",
    "        end\n",
    "    end\n",
    "    mat *= \"\\\\end{bmatrix}\"\n",
    "\n",
    "    return mat\n",
    "end"
   ]
  },
  {
   "cell_type": "code",
   "execution_count": 13,
   "id": "98b3f285",
   "metadata": {},
   "outputs": [
    {
     "data": {
      "text/plain": [
       "method2 (generic function with 1 method)"
      ]
     },
     "metadata": {},
     "output_type": "display_data"
    }
   ],
   "source": [
    "function method2(A₁::Matrix{Interval{T}}, A₂::Matrix{Interval{T}}) where {T <: Real}\n",
    "    _, n = size(A₁)\n",
    "\n",
    "    εᶿ = solveIndividualCancellingLP_m2([A₁, A₂])\n",
    "    result = solveApproximationLP_m2([A₁, A₂], εᶿ)\n",
    "    resultₛₜᵣ = approximationLPResultLaTeXString_m2(result)\n",
    "\n",
    "    println(\"W^- = %$(resultₛₜᵣ.W⁻)\"); println()\n",
    "    println(\"W^+ = %$(resultₛₜᵣ.W⁺)\"); println()\n",
    "    println(\"\"\"\n",
    "        $(laTeXMatrix((i,j) -> \"\\\\varepsilon_$i^{\\\\text{L}-}\", (n, 1))) = %$(resultₛₜᵣ.εᴸ⁻), ~~\n",
    "        $(laTeXMatrix((i,j) -> \"\\\\varepsilon_$i^{\\\\text{U}-}\", (n, 1))) = %$(resultₛₜᵣ.εᵁ⁻), ~~\n",
    "        $(laTeXMatrix((i,j) -> \"\\\\varepsilon_$i^{\\\\text{L}+}\", (n, 1))) = %$(resultₛₜᵣ.εᴸ⁺), ~~\n",
    "        $(laTeXMatrix((i,j) -> \"\\\\varepsilon_$i^{\\\\text{U}+}\", (n, 1))) = %$(resultₛₜᵣ.εᵁ⁺)\n",
    "        \"\"\"); println()\n",
    "\n",
    "    Â = importance2TwofoldIntervalPCM_m2(result)\n",
    "\n",
    "    return Â\n",
    "end"
   ]
  },
  {
   "attachments": {},
   "cell_type": "markdown",
   "id": "e0934d78",
   "metadata": {},
   "source": [
    "# example 1"
   ]
  },
  {
   "cell_type": "code",
   "execution_count": 14,
   "id": "7a539df8",
   "metadata": {},
   "outputs": [
    {
     "name": "stdout",
     "output_type": "stream",
     "text": [
      "W^- = %\\begin{bmatrix}\\left[ 0.235, 0.314 \\right]\\\\\\left[ 0.157, 0.235 \\right]\\\\\\left[ 0.235, 0.353 \\right]\\\\\\left[ 0.235, 0.235 \\right]\\end{bmatrix}\n",
      "\n",
      "W^+ = %\\begin{bmatrix}\\left[ 0.235, 0.314 \\right]\\\\\\left[ 0.157, 0.235 \\right]\\\\\\left[ 0.235, 0.353 \\right]\\\\\\left[ 0.235, 0.235 \\right]\\end{bmatrix}\n",
      "\n",
      "\\begin{bmatrix}\\varepsilon_1^{\\text{L}-} \\\\ \\varepsilon_2^{\\text{L}-} \\\\ \\varepsilon_3^{\\text{L}-} \\\\ \\varepsilon_4^{\\text{L}-}\\end{bmatrix} = %\\begin{bmatrix} -0.0 \\\\ 0.0 \\\\ 0.0 \\\\ 0.0 \\end{bmatrix}, ~~\n",
      "\\begin{bmatrix}\\varepsilon_1^{\\text{U}-} \\\\ \\varepsilon_2^{\\text{U}-} \\\\ \\varepsilon_3^{\\text{U}-} \\\\ \\varepsilon_4^{\\text{U}-}\\end{bmatrix} = %\\begin{bmatrix} 0.0 \\\\ 0.0 \\\\ 0.0 \\\\ 0.0 \\end{bmatrix}, ~~\n",
      "\\begin{bmatrix}\\varepsilon_1^{\\text{L}+} \\\\ \\varepsilon_2^{\\text{L}+} \\\\ \\varepsilon_3^{\\text{L}+} \\\\ \\varepsilon_4^{\\text{L}+}\\end{bmatrix} = %\\begin{bmatrix} 0.0 \\\\ 0.0 \\\\ 0.0 \\\\ 0.0 \\end{bmatrix}, ~~\n",
      "\\begin{bmatrix}\\varepsilon_1^{\\text{U}+} \\\\ \\varepsilon_2^{\\text{U}+} \\\\ \\varepsilon_3^{\\text{U}+} \\\\ \\varepsilon_4^{\\text{U}+}\\end{bmatrix} = %\\begin{bmatrix} 0.0 \\\\ 0.0 \\\\ 0.0 \\\\ 0.0 \\end{bmatrix}\n",
      "\n",
      "\n",
      "\\mathscr{A}^2 = \\begin{bmatrix} \\left[ 1.0, \\left[ 1.0, 1.0 \\right], 1.0 \\right] & \\left[ 1.0, \\left[ 1.0, 2.0 \\right], 2.0 \\right] & \\left[ 0.67, \\left[ 0.67, 1.33 \\right], 1.33 \\right] & \\left[ 1.0, \\left[ 1.0, 1.33 \\right], 1.33 \\right] \\\\ \\left[ 0.5, \\left[ 0.5, 1.0 \\right], 1.0 \\right] & \\left[ 1.0, \\left[ 1.0, 1.0 \\right], 1.0 \\right] & \\left[ 0.44, \\left[ 0.44, 1.0 \\right], 1.0 \\right] & \\left[ 0.67, \\left[ 0.67, 1.0 \\right], 1.0 \\right] \\\\ \\left[ 0.75, \\left[ 0.75, 1.5 \\right], 1.5 \\right] & \\left[ 1.0, \\left[ 1.0, 2.25 \\right], 2.25 \\right] & \\left[ 1.0, \\left[ 1.0, 1.0 \\right], 1.0 \\right] & \\left[ 1.0, \\left[ 1.0, 1.5 \\right], 1.5 \\right] \\\\ \\left[ 0.75, \\left[ 0.75, 1.0 \\right], 1.0 \\right] & \\left[ 1.0, \\left[ 1.0, 1.5 \\right], 1.5 \\right] & \\left[ 0.67, \\left[ 0.67, 1.0 \\right], 1.0 \\right] & \\left[ 1.0, \\left[ 1.0, 1.0 \\right], 1.0 \\right] \\end{bmatrix}\n"
     ]
    }
   ],
   "source": [
    "A₁ = [\n",
    "    1..1 1..2 (2/3)..(4/3) 1..(4/3)\n",
    "    (1/2)..1 1..1 (4/9)..1 (2/3)..1\n",
    "    (3/4)..(3/2) 1..(9/4) 1..1 1..(3/2)\n",
    "    (3/4)..1 1..(3/2) (2/3)..1 1..1\n",
    "]\n",
    "A₂ = A₁\n",
    "\n",
    "Â = method2(A₁, A₂)\n",
    "\n",
    "println(\"\\\\mathscr{A}^2 = $(twofoldIntervalMatrixLaTeXString(Â))\")"
   ]
  },
  {
   "attachments": {},
   "cell_type": "markdown",
   "id": "f23c1019",
   "metadata": {},
   "source": [
    "# example 2"
   ]
  },
  {
   "cell_type": "code",
   "execution_count": 15,
   "id": "9af5bd92",
   "metadata": {},
   "outputs": [
    {
     "name": "stdout",
     "output_type": "stream",
     "text": [
      "W^- = %\\begin{bmatrix}\\left[ 0.235, 0.314 \\right]\\\\\\left[ 0.157, 0.235 \\right]\\\\\\left[ 0.235, 0.353 \\right]\\\\\\left[ 0.235, 0.235 \\right]\\end{bmatrix}\n",
      "\n",
      "W^+ = %\\begin{bmatrix}\\left[ 0.206, 0.343 \\right]\\\\\\left[ 0.137, 0.258 \\right]\\\\\\left[ 0.206, 0.386 \\right]\\\\\\left[ 0.206, 0.258 \\right]\\end{bmatrix}\n",
      "\n",
      "\\begin{bmatrix}\\varepsilon_1^{\\text{L}-} \\\\ \\varepsilon_2^{\\text{L}-} \\\\ \\varepsilon_3^{\\text{L}-} \\\\ \\varepsilon_4^{\\text{L}-}\\end{bmatrix} = %\\begin{bmatrix} -0.0 \\\\ 0.0 \\\\ 0.0 \\\\ 0.0 \\end{bmatrix}, ~~\n",
      "\\begin{bmatrix}\\varepsilon_1^{\\text{U}-} \\\\ \\varepsilon_2^{\\text{U}-} \\\\ \\varepsilon_3^{\\text{U}-} \\\\ \\varepsilon_4^{\\text{U}-}\\end{bmatrix} = %\\begin{bmatrix} 0.0 \\\\ 0.0 \\\\ 0.0 \\\\ 0.0 \\end{bmatrix}, ~~\n",
      "\\begin{bmatrix}\\varepsilon_1^{\\text{L}+} \\\\ \\varepsilon_2^{\\text{L}+} \\\\ \\varepsilon_3^{\\text{L}+} \\\\ \\varepsilon_4^{\\text{L}+}\\end{bmatrix} = %\\begin{bmatrix} 0.0 \\\\ 0.0 \\\\ 0.0 \\\\ 0.0 \\end{bmatrix}, ~~\n",
      "\\begin{bmatrix}\\varepsilon_1^{\\text{U}+} \\\\ \\varepsilon_2^{\\text{U}+} \\\\ \\varepsilon_3^{\\text{U}+} \\\\ \\varepsilon_4^{\\text{U}+}\\end{bmatrix} = %\\begin{bmatrix} 0.0 \\\\ 0.0 \\\\ 0.0 \\\\ 0.0 \\end{bmatrix}\n",
      "\n",
      "\n",
      "\\mathscr{A}^2 = \\begin{bmatrix} \\left[ 1.0, \\left[ 1.0, 1.0 \\right], 1.0 \\right] & \\left[ 0.8, \\left[ 1.0, 2.0 \\right], 2.5 \\right] & \\left[ 0.53, \\left[ 0.67, 1.33 \\right], 1.67 \\right] & \\left[ 0.8, \\left[ 1.0, 1.33 \\right], 1.67 \\right] \\\\ \\left[ 0.4, \\left[ 0.5, 1.0 \\right], 1.25 \\right] & \\left[ 1.0, \\left[ 1.0, 1.0 \\right], 1.0 \\right] & \\left[ 0.36, \\left[ 0.44, 1.0 \\right], 1.25 \\right] & \\left[ 0.53, \\left[ 0.67, 1.0 \\right], 1.25 \\right] \\\\ \\left[ 0.6, \\left[ 0.75, 1.5 \\right], 1.88 \\right] & \\left[ 0.8, \\left[ 1.0, 2.25 \\right], 2.81 \\right] & \\left[ 1.0, \\left[ 1.0, 1.0 \\right], 1.0 \\right] & \\left[ 0.8, \\left[ 1.0, 1.5 \\right], 1.88 \\right] \\\\ \\left[ 0.6, \\left[ 0.75, 1.0 \\right], 1.25 \\right] & \\left[ 0.8, \\left[ 1.0, 1.5 \\right], 1.88 \\right] & \\left[ 0.53, \\left[ 0.67, 1.0 \\right], 1.25 \\right] & \\left[ 1.0, \\left[ 1.0, 1.0 \\right], 1.0 \\right] \\end{bmatrix}\n"
     ]
    }
   ],
   "source": [
    "A₁ = [\n",
    "    1..1 1..2 (2/3)..(4/3) 1..(4/3)\n",
    "    (1/2)..1 1..1 (4/9)..1 (2/3)..1\n",
    "    (3/4)..(3/2) 1..(9/4) 1..1 1..(3/2)\n",
    "    (3/4)..1 1..(3/2) (2/3)..1 1..1\n",
    "]\n",
    "_, n = size(A₁)\n",
    "A₂ = fill(1..1, (n, n))\n",
    "for i = 1:n, j = 1:n\n",
    "    if i == j continue end\n",
    "    A₂[i,j] = (A₁[i,j].lo * 4/5)..(A₁[i,j].hi * 5/4)\n",
    "end\n",
    "\n",
    "Â = method2(A₁, A₂)\n",
    "\n",
    "println(\"\\\\mathscr{A}^2 = $(twofoldIntervalMatrixLaTeXString(Â))\")"
   ]
  },
  {
   "cell_type": "markdown",
   "id": "c5c807c9",
   "metadata": {},
   "source": [
    "<!-- ともに弱い整合性を持ち， $A_{1ij} \\subseteq A_{2ij}$\n",
    "\n",
    "```\n",
    "A₁ = [\n",
    "    1..1 2..5 2..4 2..3\n",
    "    (1/5)..(1/2) 1..1 (1/5)..4 (1/5)..3\n",
    "    (1/4)..(1/2) (1/4)..5 1..1 (1/4)..3\n",
    "    (1/3)..(1/2) (1/3)..5 (1/3)..4 1..1\n",
    "]\n",
    "A₂ = fill(1..1, size(A₁))\n",
    "_, n = size(A₁)\n",
    "for i = 1:n, j = 1:n\n",
    "    if i == j continue end\n",
    "    A₂[i,j] = (A₁[i,j].lo * 1/1.1)..(A₁[i,j].hi * 1.1)\n",
    "end\n",
    "\n",
    "display(L\"A_1 = %$(intervalMatrixLaTeXString(A₁))\")\n",
    "display(L\"A_2 = %$(intervalMatrixLaTeXString(A₂))\")\n",
    "\n",
    "display(isConsistentIntervalPCM(A₁))\n",
    "display(isWeaklyConsistentIntervalPCM(A₁))\n",
    "display(isConsistentIntervalPCM(A₂))\n",
    "display(isWeaklyConsistentIntervalPCM(A₂))\n",
    "\n",
    "plotAll(A₁, A₂)\n",
    "``` -->"
   ]
  },
  {
   "attachments": {},
   "cell_type": "markdown",
   "id": "db9f7e4c",
   "metadata": {},
   "source": [
    "# example 3"
   ]
  },
  {
   "cell_type": "code",
   "execution_count": 16,
   "id": "6e1ba351",
   "metadata": {},
   "outputs": [
    {
     "name": "stdout",
     "output_type": "stream",
     "text": [
      "W^- = %\\begin{bmatrix}\\left[ 0.5, 0.5 \\right]\\\\\\left[ 0.249, 0.25 \\right]\\\\\\left[ 0.124, 0.126 \\right]\\\\\\left[ 0.124, 0.126 \\right]\\end{bmatrix}\n",
      "\n",
      "W^+ = %\\begin{bmatrix}\\left[ 0.5, 0.501 \\right]\\\\\\left[ 0.246, 0.253 \\right]\\\\\\left[ 0.122, 0.127 \\right]\\\\\\left[ 0.124, 0.127 \\right]\\end{bmatrix}\n",
      "\n",
      "\\begin{bmatrix}\\varepsilon_1^{\\text{L}-} \\\\ \\varepsilon_2^{\\text{L}-} \\\\ \\varepsilon_3^{\\text{L}-} \\\\ \\varepsilon_4^{\\text{L}-}\\end{bmatrix} = %\\begin{bmatrix} 0.0 \\\\ 0.0 \\\\ 0.0 \\\\ 0.0 \\end{bmatrix}, ~~\n",
      "\\begin{bmatrix}\\varepsilon_1^{\\text{U}-} \\\\ \\varepsilon_2^{\\text{U}-} \\\\ \\varepsilon_3^{\\text{U}-} \\\\ \\varepsilon_4^{\\text{U}-}\\end{bmatrix} = %\\begin{bmatrix} 0.0 \\\\ 0.0 \\\\ 0.0 \\\\ 0.0 \\end{bmatrix}, ~~\n",
      "\\begin{bmatrix}\\varepsilon_1^{\\text{L}+} \\\\ \\varepsilon_2^{\\text{L}+} \\\\ \\varepsilon_3^{\\text{L}+} \\\\ \\varepsilon_4^{\\text{L}+}\\end{bmatrix} = %\\begin{bmatrix} 0.0 \\\\ 0.0 \\\\ 0.0 \\\\ 0.0 \\end{bmatrix}, ~~\n",
      "\\begin{bmatrix}\\varepsilon_1^{\\text{U}+} \\\\ \\varepsilon_2^{\\text{U}+} \\\\ \\varepsilon_3^{\\text{U}+} \\\\ \\varepsilon_4^{\\text{U}+}\\end{bmatrix} = %\\begin{bmatrix} 0.0 \\\\ 0.0 \\\\ 0.0 \\\\ 0.0 \\end{bmatrix}\n",
      "\n",
      "\n",
      "\\mathscr{A}^2 = \\begin{bmatrix} \\left[ 1.0, \\left[ 1.0, 1.0 \\right], 1.0 \\right] & \\left[ 1.98, \\left[ 2.0, 2.01 \\right], 2.03 \\right] & \\left[ 3.95, \\left[ 3.97, 4.03 \\right], 4.11 \\right] & \\left[ 3.94, \\left[ 3.96, 4.04 \\right], 4.05 \\right] \\\\ \\left[ 0.49, \\left[ 0.5, 0.5 \\right], 0.51 \\right] & \\left[ 1.0, \\left[ 1.0, 1.0 \\right], 1.0 \\right] & \\left[ 1.94, \\left[ 1.98, 2.02 \\right], 2.08 \\right] & \\left[ 1.94, \\left[ 1.97, 2.02 \\right], 2.05 \\right] \\\\ \\left[ 0.24, \\left[ 0.25, 0.25 \\right], 0.25 \\right] & \\left[ 0.48, \\left[ 0.5, 0.51 \\right], 0.51 \\right] & \\left[ 1.0, \\left[ 1.0, 1.0 \\right], 1.0 \\right] & \\left[ 0.96, \\left[ 0.98, 1.02 \\right], 1.02 \\right] \\\\ \\left[ 0.25, \\left[ 0.25, 0.25 \\right], 0.25 \\right] & \\left[ 0.49, \\left[ 0.49, 0.51 \\right], 0.52 \\right] & \\left[ 0.98, \\left[ 0.98, 1.02 \\right], 1.04 \\right] & \\left[ 1.0, \\left[ 1.0, 1.0 \\right], 1.0 \\right] \\end{bmatrix}\n"
     ]
    }
   ],
   "source": [
    "A = [\n",
    "    1 2 4 4\n",
    "    1/2 1 2 2\n",
    "    1/4 1/2 1 1\n",
    "    1/4 1/2 1 1\n",
    "]\n",
    "\n",
    "A₁ = randamizedIntervalPCM(A, 1234, 3e-2)\n",
    "A₂ = randamizedIntervalPCM(A, 134, 3e-2)\n",
    "\n",
    "Â = method2(A₁, A₂)\n",
    "\n",
    "println(\"\\\\mathscr{A}^2 = $(twofoldIntervalMatrixLaTeXString(Â))\")"
   ]
  },
  {
   "attachments": {},
   "cell_type": "markdown",
   "id": "75d55a58",
   "metadata": {},
   "source": [
    "# example 4"
   ]
  },
  {
   "cell_type": "code",
   "execution_count": 17,
   "id": "efb08e9f",
   "metadata": {},
   "outputs": [
    {
     "name": "stdout",
     "output_type": "stream",
     "text": [
      "W^- = %\\begin{bmatrix}\\left[ 0.5, 0.506 \\right]\\\\\\left[ 0.31, 0.323 \\right]\\\\\\left[ 0.136, 0.136 \\right]\\\\\\left[ 0.041, 0.048 \\right]\\end{bmatrix}\n",
      "\n",
      "W^+ = %\\begin{bmatrix}\\left[ 0.5, 0.522 \\right]\\\\\\left[ 0.209, 0.354 \\right]\\\\\\left[ 0.097, 0.224 \\right]\\\\\\left[ 0.033, 0.061 \\right]\\end{bmatrix}\n",
      "\n",
      "\\begin{bmatrix}\\varepsilon_1^{\\text{L}-} \\\\ \\varepsilon_2^{\\text{L}-} \\\\ \\varepsilon_3^{\\text{L}-} \\\\ \\varepsilon_4^{\\text{L}-}\\end{bmatrix} = %\\begin{bmatrix} 0.0 \\\\ 0.0 \\\\ 0.0 \\\\ 0.0 \\end{bmatrix}, ~~\n",
      "\\begin{bmatrix}\\varepsilon_1^{\\text{U}-} \\\\ \\varepsilon_2^{\\text{U}-} \\\\ \\varepsilon_3^{\\text{U}-} \\\\ \\varepsilon_4^{\\text{U}-}\\end{bmatrix} = %\\begin{bmatrix} 0.0 \\\\ 0.0 \\\\ 0.0 \\\\ 0.0 \\end{bmatrix}, ~~\n",
      "\\begin{bmatrix}\\varepsilon_1^{\\text{L}+} \\\\ \\varepsilon_2^{\\text{L}+} \\\\ \\varepsilon_3^{\\text{L}+} \\\\ \\varepsilon_4^{\\text{L}+}\\end{bmatrix} = %\\begin{bmatrix} 0.0 \\\\ 0.0 \\\\ 0.0 \\\\ 0.0 \\end{bmatrix}, ~~\n",
      "\\begin{bmatrix}\\varepsilon_1^{\\text{U}+} \\\\ \\varepsilon_2^{\\text{U}+} \\\\ \\varepsilon_3^{\\text{U}+} \\\\ \\varepsilon_4^{\\text{U}+}\\end{bmatrix} = %\\begin{bmatrix} 0.0 \\\\ 0.0 \\\\ 0.0 \\\\ 0.0 \\end{bmatrix}\n",
      "\n",
      "\n",
      "\\mathscr{A}^2 = \\begin{bmatrix} \\left[ 1.0, \\left[ 1.0, 1.0 \\right], 1.0 \\right] & \\left[ 1.41, \\left[ 1.55, 1.63 \\right], 2.5 \\right] & \\left[ 2.23, \\left[ 3.68, 3.72 \\right], 5.38 \\right] & \\left[ 8.14, \\left[ 10.46, 12.49 \\right], 15.8 \\right] \\\\ \\left[ 0.4, \\left[ 0.61, 0.65 \\right], 0.71 \\right] & \\left[ 1.0, \\left[ 1.0, 1.0 \\right], 1.0 \\right] & \\left[ 0.93, \\left[ 2.28, 2.38 \\right], 3.64 \\right] & \\left[ 3.4, \\left[ 6.48, 7.98 \\right], 10.7 \\right] \\\\ \\left[ 0.19, \\left[ 0.27, 0.27 \\right], 0.45 \\right] & \\left[ 0.27, \\left[ 0.42, 0.44 \\right], 1.07 \\right] & \\left[ 1.0, \\left[ 1.0, 1.0 \\right], 1.0 \\right] & \\left[ 1.58, \\left[ 2.84, 3.36 \\right], 6.78 \\right] \\\\ \\left[ 0.06, \\left[ 0.08, 0.1 \\right], 0.12 \\right] & \\left[ 0.09, \\left[ 0.13, 0.15 \\right], 0.29 \\right] & \\left[ 0.15, \\left[ 0.3, 0.35 \\right], 0.63 \\right] & \\left[ 1.0, \\left[ 1.0, 1.0 \\right], 1.0 \\right] \\end{bmatrix}\n"
     ]
    }
   ],
   "source": [
    "A = [\n",
    "    1 2 3 10\n",
    "    1/2 1 3 8\n",
    "    1/3 1/3 1 3\n",
    "    1/10 1/8 1/3 1\n",
    "]\n",
    "\n",
    "A₁ = randamizedIntervalPCM(A, 124, 4e-1)\n",
    "A₂ = randamizedIntervalPCM(A, 411, 4e-1)\n",
    "\n",
    "Â = method2(A₁, A₂)\n",
    "\n",
    "println(\"\\\\mathscr{A}^2 = $(twofoldIntervalMatrixLaTeXString(Â))\")"
   ]
  },
  {
   "cell_type": "code",
   "execution_count": 18,
   "id": "28f7c269-9bb7-41fc-966d-f6a2f02aa66f",
   "metadata": {},
   "outputs": [],
   "source": []
  }
 ],
 "metadata": {
  "kernelspec": {
   "display_name": "Julia 1.8.5",
   "language": "julia",
   "name": "julia-1.8"
  },
  "language_info": {
   "file_extension": ".jl",
   "mimetype": "application/julia",
   "name": "julia",
   "version": "1.8.5"
  },
  "vscode": {
   "interpreter": {
    "hash": "d4d1e4263499bec80672ea0156c357c1ee493ec2b1c70f0acce89fc37c4a6abe"
   }
  }
 },
 "nbformat": 4,
 "nbformat_minor": 5
}
