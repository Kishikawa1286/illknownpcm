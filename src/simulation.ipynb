{
 "cells": [
  {
   "cell_type": "code",
   "execution_count": 60,
   "metadata": {},
   "outputs": [],
   "source": [
    "using LaTeXStrings"
   ]
  },
  {
   "cell_type": "code",
   "execution_count": 70,
   "metadata": {},
   "outputs": [
    {
     "data": {
      "text/plain": [
       "total (generic function with 1 method)"
      ]
     },
     "metadata": {},
     "output_type": "display_data"
    }
   ],
   "source": [
    "include(\"./simulation.jl\")"
   ]
  },
  {
   "cell_type": "code",
   "execution_count": 107,
   "metadata": {},
   "outputs": [
    {
     "data": {
      "text/latex": [
       "$\\begin{bmatrix} \\left[ 1.0, 1.0 \\right] & \\left[ 0.333, 1.0 \\right] & \\left[ 2.0, 3.0 \\right] & \\left[ 6.0, 9.0 \\right] \\\\ \\left[ 1.0, 3.0 \\right] & \\left[ 1.0, 1.0 \\right] & \\left[ 1.0, 3.0 \\right] & \\left[ 2.0, 3.0 \\right] \\\\ \\left[ 0.333, 0.5 \\right] & \\left[ 0.333, 1.0 \\right] & \\left[ 1.0, 1.0 \\right] & \\left[ 4.0, 4.0 \\right] \\\\ \\left[ 0.111, 0.167 \\right] & \\left[ 0.333, 0.5 \\right] & \\left[ 0.25, 0.25 \\right] & \\left[ 1.0, 1.0 \\right] \\end{bmatrix}$"
      ],
      "text/plain": [
       "L\"$\\begin{bmatrix} \\left[ 1.0, 1.0 \\right] & \\left[ 0.333, 1.0 \\right] & \\left[ 2.0, 3.0 \\right] & \\left[ 6.0, 9.0 \\right] \\\\ \\left[ 1.0, 3.0 \\right] & \\left[ 1.0, 1.0 \\right] & \\left[ 1.0, 3.0 \\right] & \\left[ 2.0, 3.0 \\right] \\\\ \\left[ 0.333, 0.5 \\right] & \\left[ 0.333, 1.0 \\right] & \\left[ 1.0, 1.0 \\right] & \\left[ 4.0, 4.0 \\right] \\\\ \\left[ 0.111, 0.167 \\right] & \\left[ 0.333, 0.5 \\right] & \\left[ 0.25, 0.25 \\right] & \\left[ 1.0, 1.0 \\right] \\end{bmatrix}$\""
      ]
     },
     "metadata": {},
     "output_type": "display_data"
    },
    {
     "data": {
      "text/latex": [
       "$\\begin{bmatrix} \\left[ 1.0, 1.0 \\right] & \\left[ 0.5, 1.0 \\right] & \\left[ 1.0, 3.0 \\right] & \\left[ 4.0, 8.0 \\right] \\\\ \\left[ 1.0, 2.0 \\right] & \\left[ 1.0, 1.0 \\right] & \\left[ 2.0, 2.0 \\right] & \\left[ 2.0, 3.0 \\right] \\\\ \\left[ 0.333, 1.0 \\right] & \\left[ 0.5, 0.5 \\right] & \\left[ 1.0, 1.0 \\right] & \\left[ 4.0, 6.0 \\right] \\\\ \\left[ 0.125, 0.25 \\right] & \\left[ 0.333, 0.5 \\right] & \\left[ 0.167, 0.25 \\right] & \\left[ 1.0, 1.0 \\right] \\end{bmatrix}$"
      ],
      "text/plain": [
       "L\"$\\begin{bmatrix} \\left[ 1.0, 1.0 \\right] & \\left[ 0.5, 1.0 \\right] & \\left[ 1.0, 3.0 \\right] & \\left[ 4.0, 8.0 \\right] \\\\ \\left[ 1.0, 2.0 \\right] & \\left[ 1.0, 1.0 \\right] & \\left[ 2.0, 2.0 \\right] & \\left[ 2.0, 3.0 \\right] \\\\ \\left[ 0.333, 1.0 \\right] & \\left[ 0.5, 0.5 \\right] & \\left[ 1.0, 1.0 \\right] & \\left[ 4.0, 6.0 \\right] \\\\ \\left[ 0.125, 0.25 \\right] & \\left[ 0.333, 0.5 \\right] & \\left[ 0.167, 0.25 \\right] & \\left[ 1.0, 1.0 \\right] \\end{bmatrix}$\""
      ]
     },
     "metadata": {},
     "output_type": "display_data"
    },
    {
     "data": {
      "text/latex": [
       "$\\begin{bmatrix} \\left[ 1.0, \\left[ 1.0, 1.0 \\right], 1.0 \\right] & \\left[ 0.33, \\left[ 0.5, 1.0 \\right], 1.0 \\right] & \\left[ 1.0, \\left[ 2.0, 3.0 \\right], 3.0 \\right] & \\left[ 4.0, \\left[ 6.0, 8.0 \\right], 9.0 \\right] \\\\ \\left[ 1.0, \\left[ 1.0, 2.0 \\right], 3.0 \\right] & \\left[ 1.0, \\left[ 1.0, 1.0 \\right], 1.0 \\right] & \\left[ 1.0, \\left[ 2.0, 2.0 \\right], 3.0 \\right] & \\left[ 2.0, \\left[ 2.0, 3.0 \\right], 3.0 \\right] \\\\ \\left[ 0.33, \\left[ 0.33, 0.5 \\right], 1.0 \\right] & \\left[ 0.33, \\left[ 0.5, 0.5 \\right], 1.0 \\right] & \\left[ 1.0, \\left[ 1.0, 1.0 \\right], 1.0 \\right] & \\left[ 4.0, \\left[ 4.0, 4.0 \\right], 6.0 \\right] \\\\ \\left[ 0.11, \\left[ 0.12, 0.17 \\right], 0.25 \\right] & \\left[ 0.33, \\left[ 0.33, 0.5 \\right], 0.5 \\right] & \\left[ 0.17, \\left[ 0.25, 0.25 \\right], 0.25 \\right] & \\left[ 1.0, \\left[ 1.0, 1.0 \\right], 1.0 \\right] \\end{bmatrix}$"
      ],
      "text/plain": [
       "\"\\$\\\\begin{bmatrix} \\\\left[ 1.0, \\\\left[ 1.0, 1.0 \\\\right], 1.0 \\\\right] & \\\\left[ 0.33, \\\\left[ 0.5, 1.0 \\\\right], 1.0 \\\\right] & \\\\left[ 1.0, \\\\left[ 2.0, 3.0 \\\\right], 3.0 \\\\right] & \\\\left[ 4.0, \\\\left[ 6.0, 8.0 \\\\right], 9.0 \\\\right] \\\\\\\\ \\\\left[ 1.0, \\\\left[ 1.0, 2.0 \\\\right], 3.0 \\\\right]\" ⋯ 321 bytes ⋯ \".0, \\\\left[ 4.0, 4.0 \\\\right], 6.0 \\\\right] \\\\\\\\ \\\\left[ 0.11, \\\\left[ 0.12, 0.17 \\\\right], 0.25 \\\\right] & \\\\left[ 0.33, \\\\left[ 0.33, 0.5 \\\\right], 0.5 \\\\right] & \\\\left[ 0.17, \\\\left[ 0.25, 0.25 \\\\right], 0.25 \\\\right] & \\\\left[ 1.0, \\\\left[ 1.0, 1.0 \\\\right], 1.0 \\\\right] \\\\end{bmatrix}\\$\""
      ]
     },
     "metadata": {},
     "output_type": "display_data"
    }
   ],
   "source": [
    "case = generateSimulationCases(4, 1, 1)[1]\n",
    "display(L\"%$(intervalMatrixLaTeXString(case.A₁))\")\n",
    "display(L\"%$(intervalMatrixLaTeXString(case.A₂))\")\n",
    "display(L\"%$(twofoldIntervalMatrixLaTeXString(intervalPCM2TwofoldIntervalPCM(case.A₁, case.A₂)))\")"
   ]
  },
  {
   "cell_type": "code",
   "execution_count": 108,
   "metadata": {},
   "outputs": [
    {
     "data": {
      "text/plain": [
       "4×4 Matrix{Tuple{Interval{Float64}, Interval{Float64}}}:\n",
       " ([1, 1], [1, 1])     (∅, [0.5, 1])          …  (∅, [1, 12])\n",
       " (∅, [1, 2])          ([1, 1], [1, 1])          (∅, [2, 12])\n",
       " (∅, [0.333333, 1])   (∅, [0.333333, 0.5])      (∅, [0.666666, 6])\n",
       " (∅, [0.0833333, 1])  (∅, [0.0833333, 0.5])     ([1, 1], [1, 1])"
      ]
     },
     "metadata": {},
     "output_type": "display_data"
    }
   ],
   "source": [
    "Ã₁ = Ã(case.A₁); Ã₂ = Ã(case.A₂)"
   ]
  },
  {
   "cell_type": "code",
   "execution_count": 24,
   "metadata": {},
   "outputs": [
    {
     "data": {
      "text/plain": [
       "Dict{Any, Any}()"
      ]
     },
     "metadata": {},
     "output_type": "display_data"
    }
   ],
   "source": [
    "𝓐 = Dict(); 𝓐⁻ = Dict(); 𝓐⁺ = Dict()"
   ]
  },
  {
   "cell_type": "code",
   "execution_count": 25,
   "metadata": {},
   "outputs": [
    {
     "data": {
      "text/plain": [
       "4×4 Matrix{Interval{Float64}}:\n",
       " [1, 1]                         [1.66071, 8]     …  [1, 10.8388]\n",
       "     [0.125, 0.602151]      [1, 1]                      [0.225806, 4]\n",
       "     [0.0922619, 0.333334]      [0.333333, 1]           [0.166666, 1.20431]\n",
       "     [0.0922619, 1]             [0.25, 4.42858]     [1, 1]"
      ]
     },
     "metadata": {},
     "output_type": "display_data"
    }
   ],
   "source": [
    "𝓐[1] = method1(case.A₁, case.A₂)\n",
    "𝓐⁻[1] = map(𝓐ᵢⱼ -> 𝓐ᵢⱼ[1], 𝓐[1])\n",
    "𝓐⁺[1] = map(𝓐ᵢⱼ -> 𝓐ᵢⱼ[2], 𝓐[1])"
   ]
  },
  {
   "cell_type": "code",
   "execution_count": 26,
   "metadata": {},
   "outputs": [
    {
     "data": {
      "text/plain": [
       "4×4 Matrix{Interval{Float64}}:\n",
       " [1, 1]                    …  [1, 12.2545]\n",
       "     [0.124999, 0.463307]         [0.177424, 4]\n",
       "     [0.108803, 0.333334]         [0.154435, 2.87787]\n",
       "     [0.0816029, 1]           [1, 1]"
      ]
     },
     "metadata": {},
     "output_type": "display_data"
    }
   ],
   "source": [
    "𝓐[2] = method2(case.A₁, case.A₂)\n",
    "𝓐⁻[2] = map(𝓐ᵢⱼ -> 𝓐ᵢⱼ[1], 𝓐[2])\n",
    "𝓐⁺[2] = map(𝓐ᵢⱼ -> 𝓐ᵢⱼ[2], 𝓐[2])"
   ]
  },
  {
   "cell_type": "code",
   "execution_count": 27,
   "metadata": {},
   "outputs": [
    {
     "data": {
      "text/plain": [
       "4×4 Matrix{Interval{Float64}}:\n",
       " [1, 1]                    …      [1.31414, 5.74152]\n",
       "     [0.130627, 0.454375]         [0.37518, 2]\n",
       "     [0.116113, 0.191427]         [0.158241, 0.842593]\n",
       "     [0.17417, 0.76095]       [1, 1]"
      ]
     },
     "metadata": {},
     "output_type": "display_data"
    }
   ],
   "source": [
    "𝓐[3] = method3(case.A₁, case.A₂)\n",
    "𝓐⁻[3] = map(𝓐ᵢⱼ -> 𝓐ᵢⱼ[1], 𝓐[3])\n",
    "𝓐⁺[3] = map(𝓐ᵢⱼ -> 𝓐ᵢⱼ[2], 𝓐[3])"
   ]
  },
  {
   "cell_type": "code",
   "execution_count": 28,
   "metadata": {},
   "outputs": [
    {
     "data": {
      "text/plain": [
       "4×4 Matrix{Interval{Float64}}:\n",
       " [1, 1]                    …   [1, 5.53847]\n",
       "     [0.125, 0.474726]            [0.178021, 2]\n",
       "     [0.111111, 0.200001]         [0.158241, 0.842593]\n",
       "     [0.180555, 1]            [1, 1]"
      ]
     },
     "metadata": {},
     "output_type": "display_data"
    }
   ],
   "source": [
    "𝓐[4] = method4(case.A₁, case.A₂)\n",
    "𝓐⁻[4] = map(𝓐ᵢⱼ -> 𝓐ᵢⱼ[1], 𝓐[4])\n",
    "𝓐⁺[4] = map(𝓐ᵢⱼ -> 𝓐ᵢⱼ[2], 𝓐[4])"
   ]
  },
  {
   "cell_type": "code",
   "execution_count": 29,
   "metadata": {},
   "outputs": [
    {
     "name": "stderr",
     "output_type": "stream",
     "text": [
      "┌ Warning: Invalid input, empty interval is returned\n",
      "└ @ IntervalArithmetic /opt/julia/packages/IntervalArithmetic/EquAX/src/intervals/intervals.jl:141\n",
      "┌ Warning: Invalid input, empty interval is returned\n",
      "└ @ IntervalArithmetic /opt/julia/packages/IntervalArithmetic/EquAX/src/intervals/intervals.jl:141\n",
      "┌ Warning: Invalid input, empty interval is returned\n",
      "└ @ IntervalArithmetic /opt/julia/packages/IntervalArithmetic/EquAX/src/intervals/intervals.jl:141\n",
      "┌ Warning: Invalid input, empty interval is returned\n",
      "└ @ IntervalArithmetic /opt/julia/packages/IntervalArithmetic/EquAX/src/intervals/intervals.jl:141\n",
      "┌ Warning: Invalid input, empty interval is returned\n",
      "└ @ IntervalArithmetic /opt/julia/packages/IntervalArithmetic/EquAX/src/intervals/intervals.jl:141\n",
      "┌ Warning: Invalid input, empty interval is returned\n",
      "└ @ IntervalArithmetic /opt/julia/packages/IntervalArithmetic/EquAX/src/intervals/intervals.jl:141\n",
      "┌ Warning: Invalid input, empty interval is returned\n",
      "└ @ IntervalArithmetic /opt/julia/packages/IntervalArithmetic/EquAX/src/intervals/intervals.jl:141\n",
      "┌ Warning: Invalid input, empty interval is returned\n",
      "└ @ IntervalArithmetic /opt/julia/packages/IntervalArithmetic/EquAX/src/intervals/intervals.jl:141\n",
      "┌ Warning: Invalid input, empty interval is returned\n",
      "└ @ IntervalArithmetic /opt/julia/packages/IntervalArithmetic/EquAX/src/intervals/intervals.jl:141\n",
      "┌ Warning: Invalid input, empty interval is returned\n",
      "└ @ IntervalArithmetic /opt/julia/packages/IntervalArithmetic/EquAX/src/intervals/intervals.jl:141\n",
      "┌ Warning: Invalid input, empty interval is returned\n",
      "└ @ IntervalArithmetic /opt/julia/packages/IntervalArithmetic/EquAX/src/intervals/intervals.jl:141\n",
      "┌ Warning: Invalid input, empty interval is returned\n",
      "└ @ IntervalArithmetic /opt/julia/packages/IntervalArithmetic/EquAX/src/intervals/intervals.jl:141\n"
     ]
    },
    {
     "data": {
      "text/plain": [
       "(A₁ = Interval{Float64}[[1, 1] [4, 8] [3, 9] [1, 5]; [0.125, 0.25] [1, 1] [2, 2] [2, 4]; [0.111111, 0.333334] [0.5, 0.5] [1, 1] [0.25, 0.5]; [0.199999, 1] [0.25, 0.5] [2, 4] [1, 1]], A₂ = Interval{Float64}[[1, 1] [3, 8] [5, 7] [1, 6]; [0.125, 0.333334] [1, 1] [1, 3] [1, 2]; [0.142857, 0.200001] [0.333333, 1] [1, 1] [0.25, 0.5]; [0.166666, 1] [0.5, 1] [2, 4] [1, 1]], Ã₁ = Tuple{Interval{Float64}, Interval{Float64}}[([1, 1], [1, 1]) (∅, [1.38461, 8]) (∅, [3, 9]) (∅, [1, 5.53847]); (∅, [0.125, 0.722223]) ([1, 1], [1, 1]) (∅, [0.375, 6.5]) (∅, [0.125, 4]); (∅, [0.111111, 0.333334]) (∅, [0.153846, 2.66667]) ([1, 1], [1, 1]) (∅, [0.111111, 1.84616]); (∅, [0.180555, 1]) (∅, [0.25, 8]) (∅, [0.541666, 9]) ([1, 1], [1, 1])], Ã₂ = Tuple{Interval{Float64}, Interval{Float64}}[([1, 1], [1, 1]) ([3, 3.5], [2.10648, 8]) ([6.75, 7], [5, 9]) ([3.375, 3.5], [1, 6]); ([0.285714, 0.333334], [0.125, 0.474726]) ([1, 1], [1, 1]) ([2, 2.25], [0.890109, 3]) ([1, 1.125], [0.178021, 2]); ([0.142857, 0.148149], [0.111111, 0.200001]) ([0.444444, 0.5], [0.333333, 1.12346]) ([1, 1], [1, 1]) ([0.5, 0.5], [0.158241, 0.842593]); ([0.285714, 0.296297], [0.166666, 1]) ([0.888888, 1], [0.5, 5.61729]) ([2, 2], [1.18681, 6.31945]) ([1, 1], [1, 1])], Ã₁⁻ = Interval{Float64}[[1, 1] ∅ ∅ ∅; ∅ [1, 1] ∅ ∅; ∅ ∅ [1, 1] ∅; ∅ ∅ ∅ [1, 1]], Ã₂⁻ = Interval{Float64}[[1, 1] [3, 3.5] [6.75, 7] [3.375, 3.5]; [0.285714, 0.333334] [1, 1] [2, 2.25] [1, 1.125]; [0.142857, 0.148149] [0.444444, 0.5] [1, 1] [0.5, 0.5]; [0.285714, 0.296297] [0.888888, 1] [2, 2] [1, 1]], Ã₁⁺ = Interval{Float64}[[1, 1] [1.38461, 8] [3, 9] [1, 5.53847]; [0.125, 0.722223] [1, 1] [0.375, 6.5] [0.125, 4]; [0.111111, 0.333334] [0.153846, 2.66667] [1, 1] [0.111111, 1.84616]; [0.180555, 1] [0.25, 8] [0.541666, 9] [1, 1]], Ã₂⁺ = Interval{Float64}[[1, 1] [2.10648, 8] [5, 9] [1, 6]; [0.125, 0.474726] [1, 1] [0.890109, 3] [0.178021, 2]; [0.111111, 0.200001] [0.333333, 1.12346] [1, 1] [0.158241, 0.842593]; [0.166666, 1] [0.5, 5.61729] [1.18681, 6.31945] [1, 1]], 𝓐¹ = Tuple{Interval{Float64}, Interval{Float64}}[([1, 1], [1, 1]) ([1.80645, 1.80646], [1.66071, 8]) ([6.67464, 7], [3, 10.8388]) ([4.42857, 4.5], [1, 10.8388]); ([0.25, 0.25], [0.125, 0.602151]) ([1, 1], [1, 1]) ([1.33333, 1.33334], [1, 3]) ([0.830357, 0.830358], [0.225806, 4]); ([0.142857, 0.149821], [0.0922619, 0.333334]) ([0.200716, 0.200717], [0.333333, 1]) ([1, 1], [1, 1]) ([0.497619, 0.49762], [0.166666, 1.20431]); ([0.222222, 0.225807], [0.0922619, 1]) ([0.5, 0.5], [0.25, 4.42858]) ([1.125, 1.125], [0.830357, 6]) ([1, 1], [1, 1])], 𝓐² = Tuple{Interval{Float64}, Interval{Float64}}[([1, 1], [1, 1]) ([3.99999, 4], [2.15839, 8.00001]) ([7, 7.00001], [3, 9.19084]) ([4, 4.00001], [1, 12.2545]); ([0.25, 0.250001], [0.124999, 0.463307]) ([1, 1], [1, 1]) ([1.75, 1.75001], [0.532272, 3.00001]) ([1, 1.00001], [0.177424, 4]); ([0.142857, 0.142858], [0.108803, 0.333334]) ([0.571428, 0.571429], [0.333333, 1.87874]) ([1, 1], [1, 1]) ([0.571428, 0.571429], [0.154435, 2.87787]); ([0.249999, 0.25], [0.0816029, 1]) ([0.999999, 1], [0.25, 5.63622]) ([1.74999, 1.75], [0.34748, 6.4752]) ([1, 1], [1, 1])], 𝓐³ = Tuple{Interval{Float64}, Interval{Float64}}[([1, 1], [1, 1]) (∅, [2.20082, 7.65535]) (∅, [5.22394, 8.61227]) ([3.375, 3.49758], [1.31414, 5.74152]); (∅, [0.130627, 0.454375]) ([1, 1], [1, 1]) ([2, 2.43839], [0.890109, 3]) ([1, 1.2192], [0.37518, 2]); (∅, [0.116113, 0.191427]) ([0.410108, 0.5], [0.333333, 1.12346]) ([1, 1], [1, 1]) ([0.410305, 0.513641], [0.158241, 0.842593]); ([0.285912, 0.296297], [0.17417, 0.76095]) ([0.820216, 1], [0.5, 2.66539]) ([1.94688, 2.43721], [1.18681, 6.31945]) ([1, 1], [1, 1])], 𝓐⁴ = Tuple{Interval{Float64}, Interval{Float64}}[([1, 1], [1, 1]) (∅, [2.10648, 8]) (∅, [5, 9]) (∅, [1, 5.53847]); (∅, [0.125, 0.474726]) ([1, 1], [1, 1]) (∅, [0.890109, 3]) (∅, [0.178021, 2]); (∅, [0.111111, 0.200001]) (∅, [0.333333, 1.12346]) ([1, 1], [1, 1]) (∅, [0.158241, 0.842593]); (∅, [0.180555, 1]) (∅, [0.5, 5.61729]) (∅, [1.18681, 6.31945]) ([1, 1], [1, 1])], 𝓐¹⁻ = Interval{Float64}[[1, 1] [1.80645, 1.80646] [6.67464, 7] [4.42857, 4.5]; [0.25, 0.25] [1, 1] [1.33333, 1.33334] [0.830357, 0.830358]; [0.142857, 0.149821] [0.200716, 0.200717] [1, 1] [0.497619, 0.49762]; [0.222222, 0.225807] [0.5, 0.5] [1.125, 1.125] [1, 1]], 𝓐²⁻ = Interval{Float64}[[1, 1] [3.99999, 4] [7, 7.00001] [4, 4.00001]; [0.25, 0.250001] [1, 1] [1.75, 1.75001] [1, 1.00001]; [0.142857, 0.142858] [0.571428, 0.571429] [1, 1] [0.571428, 0.571429]; [0.249999, 0.25] [0.999999, 1] [1.74999, 1.75] [1, 1]], 𝓐³⁻ = Interval{Float64}[[1, 1] ∅ ∅ [3.375, 3.49758]; ∅ [1, 1] [2, 2.43839] [1, 1.2192]; ∅ [0.410108, 0.5] [1, 1] [0.410305, 0.513641]; [0.285912, 0.296297] [0.820216, 1] [1.94688, 2.43721] [1, 1]], 𝓐⁴⁻ = Interval{Float64}[[1, 1] ∅ ∅ ∅; ∅ [1, 1] ∅ ∅; ∅ ∅ [1, 1] ∅; ∅ ∅ ∅ [1, 1]], 𝓐¹⁺ = Interval{Float64}[[1, 1] [1.66071, 8] [3, 10.8388] [1, 10.8388]; [0.125, 0.602151] [1, 1] [1, 3] [0.225806, 4]; [0.0922619, 0.333334] [0.333333, 1] [1, 1] [0.166666, 1.20431]; [0.0922619, 1] [0.25, 4.42858] [0.830357, 6] [1, 1]], 𝓐²⁺ = Interval{Float64}[[1, 1] [2.15839, 8.00001] [3, 9.19084] [1, 12.2545]; [0.124999, 0.463307] [1, 1] [0.532272, 3.00001] [0.177424, 4]; [0.108803, 0.333334] [0.333333, 1.87874] [1, 1] [0.154435, 2.87787]; [0.0816029, 1] [0.25, 5.63622] [0.34748, 6.4752] [1, 1]], 𝓐³⁺ = Interval{Float64}[[1, 1] [2.20082, 7.65535] [5.22394, 8.61227] [1.31414, 5.74152]; [0.130627, 0.454375] [1, 1] [0.890109, 3] [0.37518, 2]; [0.116113, 0.191427] [0.333333, 1.12346] [1, 1] [0.158241, 0.842593]; [0.17417, 0.76095] [0.5, 2.66539] [1.18681, 6.31945] [1, 1]], 𝓐⁴⁺ = Interval{Float64}[[1, 1] [2.10648, 8] [5, 9] [1, 5.53847]; [0.125, 0.474726] [1, 1] [0.890109, 3] [0.178021, 2]; [0.111111, 0.200001] [0.333333, 1.12346] [1, 1] [0.158241, 0.842593]; [0.180555, 1] [0.5, 5.61729] [1.18681, 6.31945] [1, 1]], error = \"\")"
      ]
     },
     "metadata": {},
     "output_type": "display_data"
    }
   ],
   "source": [
    "runSimulation(case)"
   ]
  },
  {
   "cell_type": "code",
   "execution_count": null,
   "metadata": {},
   "outputs": [],
   "source": []
  }
 ],
 "metadata": {
  "kernelspec": {
   "display_name": "Julia 1.9.1",
   "language": "julia",
   "name": "julia-1.9"
  },
  "language_info": {
   "file_extension": ".jl",
   "mimetype": "application/julia",
   "name": "julia",
   "version": "1.9.1"
  },
  "orig_nbformat": 4
 },
 "nbformat": 4,
 "nbformat_minor": 2
}
