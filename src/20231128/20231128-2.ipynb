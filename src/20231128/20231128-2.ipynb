{
 "cells": [
  {
   "cell_type": "markdown",
   "metadata": {},
   "source": [
    "## 評価指標"
   ]
  },
  {
   "cell_type": "markdown",
   "metadata": {},
   "source": [
    "### 類似\n",
    "\n",
    "$\\mathscr{A}_{ij}^- \\approx A_{kij}$ ： $|\\log ( \\mathscr{A}_{ij}^- \\cap A_{kij} )| / |\\log ( \\mathscr{A}_{ij}^- \\cup A_{kij} )|$\n",
    "\n",
    "他も同様.\n"
   ]
  },
  {
   "cell_type": "markdown",
   "metadata": {},
   "source": [
    "### 包含\n",
    "\n",
    "元の区間 PCM $A_k$ と二重区間 PCM $\\mathscr{A}$ を比較.\n",
    "\n",
    "$\\mathscr{A}_{ij}^- \\subseteq A_{kij}$ ： $|\\log ( \\mathscr{A}_{ij}^- \\cap A_{kij} )| / |\\log \\mathscr{A}_{ij}^-|$\n",
    "\n",
    "$A_{kij} \\subseteq \\mathscr{A}_{ij}^+$ ： $|\\log ( \\mathscr{A}_{ij}^+ \\cap A_{kij} ) | / |\\log A_{kij}|$\n",
    "\n",
    "各個人で整合化した二重区間 PCM $\\tilde{A}_k$ と結合した二重区間 PCM $\\mathscr{A}$ を比較.\n",
    "\n",
    "$\\tilde{A}_{kij}^- \\subseteq \\mathscr{A}_{ij}^-$ ： $|\\log ( \\mathscr{A}_{ij}^- \\cap \\tilde{A}_{kij}^- ) | / |\\log \\tilde{A}_{kij}^-|$\n",
    "<!-- \n",
    "$\\tilde{A}_{kij}^+ \\subseteq \\mathscr{A}_{ij}^+$ ： $|\\log ( \\mathscr{A}_{ij}^+ \\cap \\tilde{A}_{kij}^+ ) | / |\\log \\tilde{A}_{kij}^+|$ -->\n",
    "\n",
    "\n",
    "$\\mathscr{A}_{ij}^+ \\subseteq \\tilde{A}_{kij}^+$ ： $|\\log ( \\mathscr{A}_{ij}^+ \\cap \\tilde{A}_{kij}^+ ) | / |\\log \\mathscr{A}_{ij}^+|$"
   ]
  },
  {
   "cell_type": "markdown",
   "metadata": {},
   "source": [
    "## 手法"
   ]
  },
  {
   "cell_type": "markdown",
   "metadata": {},
   "source": [
    "### 手法 1\n",
    "\n",
    "$$\n",
    "\\hat{A}_{ij}^- = A_{1ij} \\cap A_{2ij}, ~~ \\hat{A}_{ij}^+ = A_{1ij} \\cup A_{2ij}\n",
    "$$\n",
    "\n",
    "![](./figs/image34.png)"
   ]
  },
  {
   "cell_type": "markdown",
   "metadata": {},
   "source": [
    "### 手法 2\n",
    "\n",
    "$$\n",
    "\\frac{W_i^-}{W_j^-} \\subseteq A_{kij} \\subseteq \\frac{W_i^+}{W_j^+}, ~~ k = 1, 2\n",
    "$$\n",
    "\n",
    "![](./figs/image35.png)"
   ]
  },
  {
   "cell_type": "markdown",
   "metadata": {},
   "source": [
    "### 手法 3\n",
    "\n",
    "個人ごとに整合化して二重区間を作り, 重みで結合\n",
    "\n",
    "![](./figs/image36.png)"
   ]
  },
  {
   "cell_type": "markdown",
   "metadata": {},
   "source": [
    "### 手法 4\n",
    "\n",
    "個人ごとに整合化して二重区間を作り, PCM で結合\n",
    "\n",
    "![](./figs/image37.png)"
   ]
  },
  {
   "cell_type": "markdown",
   "metadata": {},
   "source": [
    "## 重み付け"
   ]
  },
  {
   "cell_type": "markdown",
   "metadata": {},
   "source": [
    "修正を行う操作で目的関数内の $\\varepsilon_i^\\circ$ に重み付けを行う.\n",
    "\n",
    "$$\n",
    "\\text{minimize} ~~\n",
    "\\sum_{i \\in N} \\left( \\hat{w}_i^\\mathrm{L} \\varepsilon_i^\\mathrm{L} + \\hat{w}_i^\\mathrm{U} \\varepsilon_i^\\mathrm{U} \\right), \\cdots\n",
    "$$"
   ]
  },
  {
   "cell_type": "markdown",
   "metadata": {},
   "source": [
    "手法 3 では結合する重みベクトルの幾何平均を取ったものから重みを求めている."
   ]
  },
  {
   "cell_type": "markdown",
   "metadata": {},
   "source": [
    "手法 1, 2, 4 では最も容易な方法で重みを求めている.\n",
    "\n",
    "$$\n",
    "\\begin{align*}\n",
    "\\bar{a}_{ij}^\\mathrm{L} & = \\sqrt{ a_{ij}^\\mathrm{L-} a_{ij}^\\mathrm{L+} }, && i \\in N, \\\\\n",
    "\\bar{a}_{ij}^\\mathrm{U} & = \\sqrt{ a_{ij}^\\mathrm{U-} a_{ij}^\\mathrm{U+} }, && i \\in N, \\\\\n",
    "\\bar{a}_{ij}^\\mathrm{C} & = \\sqrt{ \\bar{a}_{ij}^\\mathrm{L} \\bar{a}_{ij}^\\mathrm{U} }, && i \\in N.\n",
    "\\end{align*}\n",
    "$$\n",
    "\n",
    "$$\n",
    "\\begin{align*}\n",
    "\\bar{w}_i^\\mathrm{L} = \\frac{\\left( \\prod_{i \\in N} \\bar{a}_{ij}^\\mathrm{L} \\right)^\\frac{1}{n}}{\\sum_{j \\in N} \\left( \\prod_{k \\in N} \\bar{a}_{jk}^\\mathrm{C} \\right)^\\frac{1}{n}}, && i \\in N, \\\\\n",
    "\\bar{w}_i^\\mathrm{U} = \\frac{\\left( \\prod_{i \\in N} \\bar{a}_{ij}^\\mathrm{U} \\right)^\\frac{1}{n}}{\\sum_{j \\in N} \\left( \\prod_{k \\in N} \\bar{a}_{jk}^\\mathrm{C} \\right)^\\frac{1}{n}}, && i \\in N.\n",
    "\\end{align*}\n",
    "$$\n",
    "\n",
    "$$\n",
    "\\begin{align*}\n",
    "\\hat{w}_i^\\mathrm{L} = \\left( \\max \\left( \\bar{w}_i^\\mathrm{L}, 1 - \\sum_{j \\in N, ~ j \\neq i} \\bar{w}_j^\\mathrm{U} \\right) \\right)^{-1}, && i \\in N, \\\\\n",
    "\\hat{w}_i^\\mathrm{U} = \\left( \\min \\left( \\bar{w}_i^\\mathrm{U}, 1 - \\sum_{j \\in N, ~ j \\neq i} \\bar{w}_j^\\mathrm{L} \\right) \\right)^{-1}, && i \\in N.\n",
    "\\end{align*}\n",
    "$$"
   ]
  }
 ],
 "metadata": {
  "language_info": {
   "name": "python"
  }
 },
 "nbformat": 4,
 "nbformat_minor": 2
}
