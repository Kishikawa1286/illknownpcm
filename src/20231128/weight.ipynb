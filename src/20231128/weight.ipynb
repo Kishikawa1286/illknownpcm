{
 "cells": [
  {
   "cell_type": "code",
   "execution_count": 1,
   "metadata": {},
   "outputs": [
    {
     "data": {
      "text/plain": [
       "total (generic function with 1 method)"
      ]
     },
     "metadata": {},
     "output_type": "display_data"
    }
   ],
   "source": [
    "using IntervalArithmetic\n",
    "\n",
    "include(\"../twofoldInterval/index.jl\")\n",
    "include(\"../twofoldIntervalPCM/index.jl\")\n",
    "include(\"../simulation.jl\")"
   ]
  },
  {
   "cell_type": "code",
   "execution_count": 8,
   "metadata": {},
   "outputs": [
    {
     "data": {
      "text/plain": [
       "6"
      ]
     },
     "metadata": {},
     "output_type": "display_data"
    }
   ],
   "source": [
    "n = 6"
   ]
  },
  {
   "cell_type": "code",
   "execution_count": 9,
   "metadata": {},
   "outputs": [
    {
     "data": {
      "text/plain": [
       "(A₁ = Interval{Float64}[Interval{Float64}(1.0, 1.0) Interval{Float64}(4.0, 9.0) … Interval{Float64}(4.0, 9.0) Interval{Float64}(1.0, 3.0); Interval{Float64}(0.1111111111111111, 0.25) Interval{Float64}(1.0, 1.0) … Interval{Float64}(0.5, 2.0) Interval{Float64}(0.16666666666666666, 0.2); … ; Interval{Float64}(0.1111111111111111, 0.25) Interval{Float64}(0.5, 2.0) … Interval{Float64}(1.0, 1.0) Interval{Float64}(0.1111111111111111, 0.25); Interval{Float64}(0.3333333333333333, 1.0) Interval{Float64}(5.0, 6.0) … Interval{Float64}(4.0, 9.0) Interval{Float64}(1.0, 1.0)], A₂ = Interval{Float64}[Interval{Float64}(1.0, 1.0) Interval{Float64}(6.0, 9.0) … Interval{Float64}(4.0, 7.0) Interval{Float64}(1.0, 3.0); Interval{Float64}(0.1111111111111111, 0.16666666666666666) Interval{Float64}(1.0, 1.0) … Interval{Float64}(0.5, 1.0) Interval{Float64}(0.2, 0.5); … ; Interval{Float64}(0.14285714285714285, 0.25) Interval{Float64}(1.0, 2.0) … Interval{Float64}(1.0, 1.0) Interval{Float64}(0.1111111111111111, 0.3333333333333333); Interval{Float64}(0.3333333333333333, 1.0) Interval{Float64}(2.0, 5.0) … Interval{Float64}(3.0, 9.0) Interval{Float64}(1.0, 1.0)])"
      ]
     },
     "metadata": {},
     "output_type": "display_data"
    }
   ],
   "source": [
    "case = generateSimulationCases(n, 1, 1)[1]"
   ]
  },
  {
   "cell_type": "code",
   "execution_count": 10,
   "metadata": {},
   "outputs": [
    {
     "data": {
      "text/latex": [
       "$\\begin{bmatrix} \\left[ 1.0, \\left[ 1.0, 1.0 \\right], 1.0 \\right] & \\left[ 4.0, \\left[ 6.0, 9.0 \\right], 9.0 \\right] & \\left[ 4.0, \\left[ 4.0, 5.0 \\right], 7.0 \\right] & \\left[ 0.5, \\left[ 1.0, 2.0 \\right], 2.0 \\right] & \\left[ 4.0, \\left[ 4.0, 7.0 \\right], 9.0 \\right] & \\left[ 1.0, \\left[ 1.0, 3.0 \\right], 3.0 \\right] \\\\ \\left[ 0.11, \\left[ 0.11, 0.17 \\right], 0.25 \\right] & \\left[ 1.0, \\left[ 1.0, 1.0 \\right], 1.0 \\right] & \\left[ 0.14, \\left[ 0.17, 0.5 \\right], 0.5 \\right] & \\left[ 0.12, \\left[ 0.14, 0.33 \\right], 0.5 \\right] & \\left[ 0.5, \\left[ 0.5, 1.0 \\right], 2.0 \\right] & \\left[ 0.17, \\left[ 0.2, 0.2 \\right], 0.5 \\right] \\\\ \\left[ 0.14, \\left[ 0.2, 0.25 \\right], 0.25 \\right] & \\left[ 2.0, \\left[ 2.0, 6.0 \\right], 7.0 \\right] & \\left[ 1.0, \\left[ 1.0, 1.0 \\right], 1.0 \\right] & \\left[ 0.11, \\left[ 0.14, 0.25 \\right], 0.25 \\right] & \\left[ 1.0, \\left[ 1.0, 1.0 \\right], 1.0 \\right] & \\left[ 0.14, \\left[ 0.2, 0.5 \\right], 0.5 \\right] \\\\ \\left[ 0.5, \\left[ 0.5, 1.0 \\right], 2.0 \\right] & \\left[ 2.0, \\left[ 3.0, 7.0 \\right], 8.0 \\right] & \\left[ 4.0, \\left[ 4.0, 7.0 \\right], 9.0 \\right] & \\left[ 1.0, \\left[ 1.0, 1.0 \\right], 1.0 \\right] & \\left[ 2.0, \\left[ 3.0, 5.0 \\right], 5.0 \\right] & \\left[ 0.33, \\left[ 0.5, 1.0 \\right], 1.0 \\right] \\\\ \\left[ 0.11, \\left[ 0.14, 0.25 \\right], 0.25 \\right] & \\left[ 0.5, \\left[ 1.0, 2.0 \\right], 2.0 \\right] & \\left[ 1.0, \\left[ 1.0, 1.0 \\right], 1.0 \\right] & \\left[ 0.2, \\left[ 0.2, 0.33 \\right], 0.5 \\right] & \\left[ 1.0, \\left[ 1.0, 1.0 \\right], 1.0 \\right] & \\left[ 0.11, \\left[ 0.11, 0.25 \\right], 0.33 \\right] \\\\ \\left[ 0.33, \\left[ 0.33, 1.0 \\right], 1.0 \\right] & \\left[ 2.0, \\left[ 5.0, 5.0 \\right], 6.0 \\right] & \\left[ 2.0, \\left[ 2.0, 5.0 \\right], 7.0 \\right] & \\left[ 1.0, \\left[ 1.0, 2.0 \\right], 3.0 \\right] & \\left[ 3.0, \\left[ 4.0, 9.0 \\right], 9.0 \\right] & \\left[ 1.0, \\left[ 1.0, 1.0 \\right], 1.0 \\right] \\end{bmatrix}$"
      ],
      "text/plain": [
       "\"\\$\\\\begin{bmatrix} \\\\left[ 1.0, \\\\left[ 1.0, 1.0 \\\\right], 1.0 \\\\right] & \\\\left[ 4.0, \\\\left[ 6.0, 9.0 \\\\right], 9.0 \\\\right] & \\\\left[ 4.0, \\\\left[ 4.0, 5.0 \\\\right], 7.0 \\\\right] & \\\\left[ 0.5, \\\\left[ 1.0, 2.0 \\\\right], 2.0 \\\\right] & \\\\left[ 4.0, \\\\left[ 4.0, 7.0 \\\\right], 9.0 \\\\right] \" ⋯ 1360 bytes ⋯ \" & \\\\left[ 2.0, \\\\left[ 5.0, 5.0 \\\\right], 6.0 \\\\right] & \\\\left[ 2.0, \\\\left[ 2.0, 5.0 \\\\right], 7.0 \\\\right] & \\\\left[ 1.0, \\\\left[ 1.0, 2.0 \\\\right], 3.0 \\\\right] & \\\\left[ 3.0, \\\\left[ 4.0, 9.0 \\\\right], 9.0 \\\\right] & \\\\left[ 1.0, \\\\left[ 1.0, 1.0 \\\\right], 1.0 \\\\right] \\\\end{bmatrix}\\$\""
      ]
     },
     "metadata": {},
     "output_type": "display_data"
    }
   ],
   "source": [
    "A = intervalPCM2TwofoldIntervalPCM(case.A₁, case.A₂)\n",
    "display(L\"%$(twofoldIntervalMatrixLaTeXString(A))\")"
   ]
  },
  {
   "cell_type": "code",
   "execution_count": 11,
   "metadata": {},
   "outputs": [
    {
     "data": {
      "text/plain": [
       "updatePCM_m1 (generic function with 1 method)"
      ]
     },
     "metadata": {},
     "output_type": "display_data"
    }
   ],
   "source": [
    "include(\"./method1/index.jl\")"
   ]
  },
  {
   "cell_type": "code",
   "execution_count": 12,
   "metadata": {},
   "outputs": [
    {
     "data": {
      "text/latex": [
       "$\\begin{bmatrix} \\left[ 1.0, \\left[ 1.0, 1.0 \\right], 1.0 \\right] & \\left[ 4.0, \\left[ 7.0, 7.0 \\right], 30.86 \\right] & \\left[ 1.17, \\left[ 3.86, 3.86 \\right], 9.0 \\right] & \\left[ 0.5, \\left[ 1.29, 1.29 \\right], 2.57 \\right] & \\left[ 3.5, \\left[ 5.14, 5.14 \\right], 11.57 \\right] & \\left[ 1.0, \\left[ 1.17, 1.29 \\right], 3.0 \\right] \\\\ \\left[ 0.03, \\left[ 0.07, 0.07 \\right], 0.25 \\right] & \\left[ 1.0, \\left[ 1.0, 1.0 \\right], 1.0 \\right] & \\left[ 0.14, \\left[ 0.5, 0.5 \\right], 1.17 \\right] & \\left[ 0.04, \\left[ 0.14, 0.14 \\right], 0.5 \\right] & \\left[ 0.17, \\left[ 0.64, 0.64 \\right], 2.0 \\right] & \\left[ 0.04, \\left[ 0.17, 0.17 \\right], 0.5 \\right] \\\\ \\left[ 0.11, \\left[ 0.11, 0.11 \\right], 0.86 \\right] & \\left[ 0.86, \\left[ 0.78, 0.78 \\right], 7.0 \\right] & \\left[ 1.0, \\left[ 1.0, 1.0 \\right], 1.0 \\right] & \\left[ 0.11, \\left[ 0.22, 0.22 \\right], 1.71 \\right] & \\left[ 0.5, \\left[ 1.0, 1.0 \\right], 7.71 \\right] & \\left[ 0.14, \\left[ 0.25, 0.25 \\right], 2.0 \\right] \\\\ \\left[ 0.39, \\left[ 0.43, 0.43 \\right], 2.0 \\right] & \\left[ 2.0, \\left[ 3.0, 3.0 \\right], 24.0 \\right] & \\left[ 0.58, \\left[ 3.0, 3.0 \\right], 9.0 \\right] & \\left[ 1.0, \\left[ 1.0, 1.0 \\right], 1.0 \\right] & \\left[ 1.75, \\left[ 3.86, 3.86 \\right], 9.0 \\right] & \\left[ 0.33, \\left[ 1.0, 1.0 \\right], 2.33 \\right] \\\\ \\left[ 0.09, \\left[ 0.14, 0.14 \\right], 0.29 \\right] & \\left[ 0.5, \\left[ 1.0, 1.0 \\right], 6.0 \\right] & \\left[ 0.13, \\left[ 0.75, 0.75 \\right], 2.0 \\right] & \\left[ 0.11, \\left[ 0.25, 0.25 \\right], 0.57 \\right] & \\left[ 1.0, \\left[ 1.0, 1.0 \\right], 1.0 \\right] & \\left[ 0.11, \\left[ 0.25, 0.25 \\right], 0.67 \\right] \\\\ \\left[ 0.33, \\left[ 0.78, 0.86 \\right], 1.0 \\right] & \\left[ 2.0, \\left[ 5.0, 5.0 \\right], 24.0 \\right] & \\left[ 0.5, \\left[ 3.0, 3.0 \\right], 7.0 \\right] & \\left[ 0.43, \\left[ 1.0, 1.0 \\right], 3.0 \\right] & \\left[ 1.5, \\left[ 4.0, 4.0 \\right], 9.0 \\right] & \\left[ 1.0, \\left[ 1.0, 1.0 \\right], 1.0 \\right] \\end{bmatrix}$"
      ],
      "text/plain": [
       "\"\\$\\\\begin{bmatrix} \\\\left[ 1.0, \\\\left[ 1.0, 1.0 \\\\right], 1.0 \\\\right] & \\\\left[ 4.0, \\\\left[ 7.0, 7.0 \\\\right], 30.86 \\\\right] & \\\\left[ 1.17, \\\\left[ 3.86, 3.86 \\\\right], 9.0 \\\\right] & \\\\left[ 0.5, \\\\left[ 1.29, 1.29 \\\\right], 2.57 \\\\right] & \\\\left[ 3.5, \\\\left[ 5.14, 5.14 \\\\right], 11\" ⋯ 1404 bytes ⋯ \" \\\\left[ 2.0, \\\\left[ 5.0, 5.0 \\\\right], 24.0 \\\\right] & \\\\left[ 0.5, \\\\left[ 3.0, 3.0 \\\\right], 7.0 \\\\right] & \\\\left[ 0.43, \\\\left[ 1.0, 1.0 \\\\right], 3.0 \\\\right] & \\\\left[ 1.5, \\\\left[ 4.0, 4.0 \\\\right], 9.0 \\\\right] & \\\\left[ 1.0, \\\\left[ 1.0, 1.0 \\\\right], 1.0 \\\\right] \\\\end{bmatrix}\\$\""
      ]
     },
     "metadata": {},
     "output_type": "display_data"
    }
   ],
   "source": [
    "Â = method1(case.A₁, case.A₂)\n",
    "display(L\"%$(twofoldIntervalMatrixLaTeXString(Â))\")"
   ]
  },
  {
   "cell_type": "code",
   "execution_count": 13,
   "metadata": {},
   "outputs": [
    {
     "data": {
      "text/plain": [
       "updatePCM_m1 (generic function with 1 method)"
      ]
     },
     "metadata": {},
     "output_type": "display_data"
    }
   ],
   "source": [
    "include(\"../method1/index.jl\")"
   ]
  },
  {
   "cell_type": "code",
   "execution_count": 14,
   "metadata": {},
   "outputs": [
    {
     "data": {
      "text/latex": [
       "$\\begin{bmatrix} \\left[ 1.0, \\left[ 1.0, 1.0 \\right], 1.0 \\right] & \\left[ 4.0, \\left[ 8.0, 8.0 \\right], 36.0 \\right] & \\left[ 1.33, \\left[ 4.5, 4.5 \\right], 10.5 \\right] & \\left[ 0.5, \\left[ 1.5, 1.5 \\right], 3.0 \\right] & \\left[ 4.0, \\left[ 6.0, 6.0 \\right], 13.5 \\right] & \\left[ 1.0, \\left[ 1.33, 1.5 \\right], 3.0 \\right] \\\\ \\left[ 0.03, \\left[ 0.07, 0.07 \\right], 0.25 \\right] & \\left[ 1.0, \\left[ 1.0, 1.0 \\right], 1.0 \\right] & \\left[ 0.14, \\left[ 0.5, 0.5 \\right], 1.17 \\right] & \\left[ 0.04, \\left[ 0.14, 0.14 \\right], 0.5 \\right] & \\left[ 0.17, \\left[ 0.64, 0.64 \\right], 2.0 \\right] & \\left[ 0.04, \\left[ 0.14, 0.14 \\right], 0.5 \\right] \\\\ \\left[ 0.1, \\left[ 0.11, 0.11 \\right], 0.75 \\right] & \\left[ 0.86, \\left[ 0.89, 0.89 \\right], 7.0 \\right] & \\left[ 1.0, \\left[ 1.0, 1.0 \\right], 1.0 \\right] & \\left[ 0.11, \\left[ 0.22, 0.22 \\right], 1.5 \\right] & \\left[ 0.57, \\left[ 1.0, 1.0 \\right], 6.75 \\right] & \\left[ 0.14, \\left[ 0.22, 0.22 \\right], 1.5 \\right] \\\\ \\left[ 0.33, \\left[ 0.5, 0.5 \\right], 2.0 \\right] & \\left[ 2.0, \\left[ 4.0, 4.0 \\right], 24.0 \\right] & \\left[ 0.67, \\left[ 3.0, 3.0 \\right], 9.0 \\right] & \\left[ 1.0, \\left[ 1.0, 1.0 \\right], 1.0 \\right] & \\left[ 2.0, \\left[ 4.0, 4.0 \\right], 9.0 \\right] & \\left[ 0.33, \\left[ 1.0, 1.0 \\right], 2.0 \\right] \\\\ \\left[ 0.07, \\left[ 0.14, 0.14 \\right], 0.25 \\right] & \\left[ 0.5, \\left[ 1.14, 1.14 \\right], 6.0 \\right] & \\left[ 0.15, \\left[ 0.75, 0.75 \\right], 1.75 \\right] & \\left[ 0.11, \\left[ 0.25, 0.25 \\right], 0.5 \\right] & \\left[ 1.0, \\left[ 1.0, 1.0 \\right], 1.0 \\right] & \\left[ 0.11, \\left[ 0.25, 0.25 \\right], 0.5 \\right] \\\\ \\left[ 0.33, \\left[ 0.67, 0.75 \\right], 1.0 \\right] & \\left[ 2.0, \\left[ 5.0, 5.0 \\right], 24.0 \\right] & \\left[ 0.67, \\left[ 3.0, 3.0 \\right], 7.0 \\right] & \\left[ 0.5, \\left[ 1.0, 1.0 \\right], 3.0 \\right] & \\left[ 2.0, \\left[ 4.0, 4.0 \\right], 9.0 \\right] & \\left[ 1.0, \\left[ 1.0, 1.0 \\right], 1.0 \\right] \\end{bmatrix}$"
      ],
      "text/plain": [
       "\"\\$\\\\begin{bmatrix} \\\\left[ 1.0, \\\\left[ 1.0, 1.0 \\\\right], 1.0 \\\\right] & \\\\left[ 4.0, \\\\left[ 8.0, 8.0 \\\\right], 36.0 \\\\right] & \\\\left[ 1.33, \\\\left[ 4.5, 4.5 \\\\right], 10.5 \\\\right] & \\\\left[ 0.5, \\\\left[ 1.5, 1.5 \\\\right], 3.0 \\\\right] & \\\\left[ 4.0, \\\\left[ 6.0, 6.0 \\\\right], 13.5 \\\\rig\" ⋯ 1389 bytes ⋯ \" \\\\left[ 2.0, \\\\left[ 5.0, 5.0 \\\\right], 24.0 \\\\right] & \\\\left[ 0.67, \\\\left[ 3.0, 3.0 \\\\right], 7.0 \\\\right] & \\\\left[ 0.5, \\\\left[ 1.0, 1.0 \\\\right], 3.0 \\\\right] & \\\\left[ 2.0, \\\\left[ 4.0, 4.0 \\\\right], 9.0 \\\\right] & \\\\left[ 1.0, \\\\left[ 1.0, 1.0 \\\\right], 1.0 \\\\right] \\\\end{bmatrix}\\$\""
      ]
     },
     "metadata": {},
     "output_type": "display_data"
    }
   ],
   "source": [
    "Â = method1(case.A₁, case.A₂)\n",
    "display(L\"%$(twofoldIntervalMatrixLaTeXString(Â))\")"
   ]
  },
  {
   "cell_type": "code",
   "execution_count": null,
   "metadata": {},
   "outputs": [],
   "source": []
  }
 ],
 "metadata": {
  "kernelspec": {
   "display_name": "Julia 1.9.1",
   "language": "julia",
   "name": "julia-1.9"
  },
  "language_info": {
   "file_extension": ".jl",
   "mimetype": "application/julia",
   "name": "julia",
   "version": "1.9.1"
  }
 },
 "nbformat": 4,
 "nbformat_minor": 2
}
