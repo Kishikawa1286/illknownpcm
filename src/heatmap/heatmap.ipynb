{
 "cells": [
  {
   "cell_type": "markdown",
   "id": "132c24e4",
   "metadata": {},
   "source": [
    "$A, B$: $n \\times n$ 区間 PCM\n",
    "\n",
    "次のように一致度 $C_{ij}$ を定める\n",
    "$$\n",
    "C_{ij} = \\frac{\\left| A_{ij} \\cap B_{ij} \\right|}{\\left| A_{ij} \\cup B_{ij} \\right|}\n",
    "$$"
   ]
  },
  {
   "cell_type": "code",
   "execution_count": 7,
   "id": "a661200b-0885-4ad6-9e50-f9b552f74857",
   "metadata": {},
   "outputs": [],
   "source": [
    "using IntervalArithmetic\n",
    "using LaTeXStrings"
   ]
  },
  {
   "cell_type": "code",
   "execution_count": 8,
   "id": "6ae45f35-7c99-45c9-a934-88166cfef5fb",
   "metadata": {},
   "outputs": [],
   "source": [
    "include(\"./index.jl\")\n",
    "include(\"../intervalPCM/index.jl\")\n",
    "include(\"../twofoldInterval/index.jl\")\n",
    "include(\"../twofoldIntervalPCM/index.jl\")\n",
    "\n",
    "print()"
   ]
  },
  {
   "cell_type": "code",
   "execution_count": 9,
   "id": "f6600aef-528e-4336-9695-9b6123a05033",
   "metadata": {},
   "outputs": [
    {
     "data": {
      "text/latex": [
       "$A_1 = \\begin{bmatrix} \\left[ 1.0, 1.0 \\right] & \\left[ 2.7, 3.2 \\right] & \\left[ 0.303, 0.333 \\right] \\\\ \\left[ 0.312, 0.37 \\right] & \\left[ 1.0, 1.0 \\right] & \\left[ 0.1, 0.103 \\right] \\\\ \\left[ 3.0, 3.3 \\right] & \\left[ 9.7, 10.0 \\right] & \\left[ 1.0, 1.0 \\right] \\end{bmatrix}$"
      ],
      "text/plain": [
       "L\"$A_1 = \\begin{bmatrix} \\left[ 1.0, 1.0 \\right] & \\left[ 2.7, 3.2 \\right] & \\left[ 0.303, 0.333 \\right] \\\\ \\left[ 0.312, 0.37 \\right] & \\left[ 1.0, 1.0 \\right] & \\left[ 0.1, 0.103 \\right] \\\\ \\left[ 3.0, 3.3 \\right] & \\left[ 9.7, 10.0 \\right] & \\left[ 1.0, 1.0 \\right] \\end{bmatrix}$\""
      ]
     },
     "metadata": {},
     "output_type": "display_data"
    },
    {
     "data": {
      "text/latex": [
       "$A_2 = \\begin{bmatrix} \\left[ 1.0, 1.0 \\right] & \\left[ 2.2, 2.65 \\right] & \\left[ 0.25, 0.357 \\right] \\\\ \\left[ 0.377, 0.455 \\right] & \\left[ 1.0, 1.0 \\right] & \\left[ 0.103, 0.103 \\right] \\\\ \\left[ 2.8, 4.0 \\right] & \\left[ 9.7, 9.7 \\right] & \\left[ 1.0, 1.0 \\right] \\end{bmatrix}$"
      ],
      "text/plain": [
       "L\"$A_2 = \\begin{bmatrix} \\left[ 1.0, 1.0 \\right] & \\left[ 2.2, 2.65 \\right] & \\left[ 0.25, 0.357 \\right] \\\\ \\left[ 0.377, 0.455 \\right] & \\left[ 1.0, 1.0 \\right] & \\left[ 0.103, 0.103 \\right] \\\\ \\left[ 2.8, 4.0 \\right] & \\left[ 9.7, 9.7 \\right] & \\left[ 1.0, 1.0 \\right] \\end{bmatrix}$\""
      ]
     },
     "metadata": {},
     "output_type": "display_data"
    }
   ],
   "source": [
    "A₁ = [\n",
    "    1..1 2.7..3.2 (1/3.3)..(1/3)\n",
    "    (1/3.2)..(1/2.7) 1..1 (1/10)..(1/9.7)\n",
    "    3..3.3 9.7..10 1..1\n",
    "]\n",
    "A₂ = [\n",
    "    1..1 2.2..2.65 (1/4)..(1/2.8)\n",
    "    (1/2.65)..(1/2.2) 1..1 (1/9.7)..(1/9.7)\n",
    "    2.8..4 9.7..9.7 1..1\n",
    "]\n",
    "\n",
    "display(L\"A_1 = %$(intervalMatrixLaTeXString(A₁))\")\n",
    "display(L\"A_2 = %$(intervalMatrixLaTeXString(A₂))\")"
   ]
  },
  {
   "cell_type": "code",
   "execution_count": 10,
   "id": "6e507452",
   "metadata": {},
   "outputs": [
    {
     "name": "stdout",
     "output_type": "stream",
     "text": []
    }
   ],
   "source": [
    "h, indices = plotConincidenceIndices(A₁, A₂, L\"\")\n",
    "display(h)"
   ]
  },
  {
   "cell_type": "code",
   "execution_count": 5,
   "id": "1e4e315c",
   "metadata": {},
   "outputs": [],
   "source": []
  }
 ],
 "metadata": {
  "kernelspec": {
   "display_name": "Julia 1.8.5",
   "language": "julia",
   "name": "julia-1.8"
  },
  "language_info": {
   "file_extension": ".jl",
   "mimetype": "application/julia",
   "name": "julia",
   "version": "1.8.5"
  },
  "vscode": {
   "interpreter": {
    "hash": "d4d1e4263499bec80672ea0156c357c1ee493ec2b1c70f0acce89fc37c4a6abe"
   }
  }
 },
 "nbformat": 4,
 "nbformat_minor": 5
}
